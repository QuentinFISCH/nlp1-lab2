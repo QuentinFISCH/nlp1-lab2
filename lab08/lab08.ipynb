{
  "cells": [
    {
      "attachments": {},
      "cell_type": "markdown",
      "metadata": {
        "id": "HOCzpnbxlaCy"
      },
      "source": [
        "# LAB08 - NLP2\n",
        "\n",
        "## Introduction\n",
        "\n",
        "We need to choose between `hate` and `offensive` datasets, use a specifical need for commercial use. Thus, we will use the `offensive` dataset, as HuggingFace indicates we need permissions to use the `hate` dataset for commercial use. On the datasets page on HuggingFace, we can see the following terms:\n",
        "\n",
        "![image](img/licenses.png)\n",
        "![image](img/hate-license.png)\n",
        "\n",
        "The `hate` dataset is under the CC-BY-NC-4.0 license, which state the following:\n",
        "\n",
        "![image](img/terms.png)\n",
        "\n",
        "Thus, we will use the `offensive` dataset, which is under no license.\n",
        "\n",
        "## Evaluating the dataset\n",
        "\n",
        "####  1. Describe the dataset. Look at the splits, proportion of classes, and see what you can figure out by just looking at the text."
      ]
    },
    {
      "cell_type": "code",
      "execution_count": null,
      "metadata": {
        "colab": {
          "base_uri": "https://localhost:8080/"
        },
        "id": "vyBGh9Ewli0a",
        "outputId": "b27a6512-0ead-43a9-d375-6f5fd98d58b9"
      },
      "outputs": [],
      "source": [
        "%pip install datasets\n",
        "%pip install bertopic\n",
        "%pip install sentence_transformers"
      ]
    },
    {
      "cell_type": "code",
      "execution_count": 166,
      "metadata": {},
      "outputs": [],
      "source": [
        "import numpy as np\n",
        "import json\n",
        "import pandas as pd\n",
        "import shap\n",
        "import statsmodels.stats.inter_rater as ir\n",
        "import random\n",
        "\n",
        "from typing import List, Tuple\n",
        "\n",
        "from datasets import load_dataset\n",
        "from bertopic import BERTopic\n",
        "from sentence_transformers import SentenceTransformer\n",
        "from umap import UMAP\n",
        "\n",
        "from transformers import AutoModelForSequenceClassification\n",
        "from transformers import pipeline\n",
        "from transformers import AutoTokenizer\n",
        "\n",
        "from sklearn.metrics import classification_report"
      ]
    },
    {
      "cell_type": "code",
      "execution_count": 167,
      "metadata": {
        "colab": {
          "base_uri": "https://localhost:8080/",
          "height": 457,
          "referenced_widgets": [
            "097262006fef4b5b83e6cfa38156ecf3",
            "3abd576f05024a35852e182d237cc382",
            "ad1110fb008c4a21ae42daacabcca285",
            "9d985a369c8a4371b3a2afada9699c02",
            "51318d60b2264b36bfb5a480d5cce2c2",
            "d6e484a0aafe49f7bcb32699ee748875",
            "9f73151669a045f88711e3894d406fa4",
            "e9ec901783024b408993850fdb42c280",
            "81b5e647f045456cb5d016c917ac9d70",
            "6042a337bafd469b82ab781f5b5a5dee",
            "5be3e2854bd44589b2458e2badf90a65",
            "2976d9fe1032492cb97d2ee844faa1d5",
            "d893eac5d58049f7a72802061d1b06b0",
            "8ef9661c9a6f40fc92cc67ed32f3ff0d",
            "fa1d816e07374a1cb1c98359a3721185",
            "9e54ec9ba32549599d15d6f4f25f00db",
            "8d969d7435dc4a938c726e03ac3ab5e4",
            "5c0afac5efcd424e8097edd5d459339a",
            "6939f652e72e40049164518ffc2268ca",
            "e5f1af0559e04a7cba90119024f9807a",
            "cb866cea62a646baabb705505adcb8d0",
            "00eaab3fcf6e4c4383a1705696815958",
            "45356ea88a9947c8b776ef48c7bda5fe",
            "92ed389ecbee4d8d91e2b0233865981c",
            "31dc56ea8d114dceb2a6538143d5a61f",
            "079b7bd70d4940df86680663202b6575",
            "7b878f452d3043789043084314f40796",
            "9bb14f7701f34c7bb8befb46540631e7",
            "384bc459f344408fa9565019f4cd76e7",
            "ccece0f6b8d543b9b33ca0b4f0e048b0",
            "ac9bd385ce9544fa80359327c1f53cf6",
            "00eac038e7494e409b273b3bae44614d",
            "172f609dea2349bbbd8b51d79afbc605",
            "69edc12207fd43a484c330c2e27dc82f",
            "8d6a64357ae74392a9d2b07c837e2ddc",
            "a4c740c141344ae5954b89a0f54f48bb",
            "75eccd954bca4c62a32546375f02acc3",
            "c90e54bd2a9048c5b9e30c9392efa078",
            "36d23392deae4d668538dc05edd2fa51",
            "c425bccda610467294c1d0888e9e60e5",
            "6b0d041a84fe4b90aa0aef92d094c68b",
            "9d185e7c926f40fba0613563736be985",
            "0f923a294ae348659d4c754baa341abe",
            "4d2bf355b56540c7a3748dbd92a0c3cb",
            "143ffa8c9b8f41398fb1b0690a572f6d",
            "877cfcd0ff2c45f1b509c9564cb5c407",
            "97cf29576feb42198b88cdb27218c6fc",
            "1bdc66c3245e419c9a6438007910fc1f",
            "46e21e92d1344dd1898c774592cfe8a5",
            "2baa468fc24f4c809d5add4b111dd07a",
            "5a81da9fcfda4265841c557f26b8a190",
            "df870afa459d460ebb401572ed0ab860",
            "fb0654bc9b834b539f57fd4ade812b7c",
            "0fa12c16b08141cc8aa806aa875ff77b",
            "4351a6eecb2741a89d0985c01e9b2e33",
            "4f9b91177a334b9f903ff17a5a288175",
            "7a81a3e6c37b4b409d39f895b331f75e",
            "84533a2dc7ba4dfc9458a3fda7a0903c",
            "e95fc5490d704a4e9236c48e3b2beb00",
            "e6305cc7f5754b888ec80fe0b517b51f",
            "a1623dba9e794a9ea32aef9d7bbad53d",
            "69653e2bdf53454bab5cc7b245fc34b3",
            "d023550053d04166a53d66005751ee1a",
            "11738d83be584c6a8451d9f749b22884",
            "c96fbd5cecf94013b417b5ae1ba366be",
            "93edd03e97c74fd29d4e8124c5059d5b",
            "086daf64e6dc4024ae94461dbb6efd24",
            "e07d1635343c4f96b0fe5938c33eade9",
            "9a3e0288ac7d4e7182bce38395110bf7",
            "2bc3582502174256b6dd992021301369",
            "7fc5818bdedb4937b9699746504a86eb",
            "333273c3c3c445b7a734e8192c99e363",
            "91b177c93f72413daf8dc56e55afaaa7",
            "26d34706e4ac44929486523db07d4bee",
            "53ccb9a11297436e922ea5a79389f5a4",
            "20b453904fc84d7d88ffee5a62ebf06e",
            "ae32a05a29e845feaac5188efdba43cb",
            "f85c1768a244488ebd5e590fccef2653",
            "ee1a183d00154a5ab672169edcd22adf",
            "9c46db38540a4ee7b0fc95d1a1cfbe5f",
            "4d10d624519d4e1aa581d0ee1f66c06b",
            "a0160c1eb34e41529e32baf11943f8e5",
            "e4d52578d9e34f1f99a7abda7ba3f751",
            "ee9315163df54de2bbaa3d3cfc85c3d2",
            "f09af9e50cf94ae5906b30787ec640da",
            "19bee9f92c1b4b6bbafb5602a3671de6",
            "40c3f438bbe94f7b846afe79c912e0a5",
            "d582a594cfbf4d93bbbb165dda4ee266",
            "e6495d81677f4055a9db3d67e8067285",
            "faca56cef6054f16988a961c8c7dfa20",
            "c98fea82ae8145be88d1565a8c6affdf",
            "c391c092b67e411f9108609c32cd8b5d",
            "11fb0f68810648d4af3f52441eacd358",
            "99c3996299174f3cab134d7275fe05d6",
            "fa8bf0b700c442a587226d9049748875",
            "04f5750c717f4a34a020bac2eb83ee78",
            "def1f660d5d24f51a7a05ae55bc4c969",
            "80a6f57feca948a5b7ed3446ab0cc262",
            "72ec1fd5e394465eb5bba13320f298ba",
            "41a220df173342c19af03712e1a2955b",
            "dc8a91f567854c43bb4a79cc02dd7f58",
            "8a02e079a41b40cd91f6fbdd8a8a9e67",
            "0c9f2c48801e4da5935ecfe24386be34",
            "c78dad6101124baabb44e2301f7ea156",
            "d1a8e5439f8a4704aa7878e7a1d384c9",
            "c87b0d4413f745acb18223d22205dc72",
            "1495fc9ff52440548dc5df3f26fe7150",
            "4d8cbc532d1a4611b068ee25e136b134",
            "5995705276bd4dfd938281f116ec140f",
            "69f6a031dcc04f8b8c0e964098416eb6",
            "364b231d20c84c5188c7145e68931e36",
            "277a922651c642d592bafcb22a1b4815",
            "6304a7ffb9544defa1a2634a4a84b628",
            "331daf1e33c546d68eb48e6cfc6c78d0",
            "1305995078d04d7ab821a668e412f785",
            "eb59dba69325480382bb4a3840d40319",
            "f9ac29a470c743359684b7123dbf4a90",
            "6c8242240f91407084a45a3f9307e80b",
            "0bbd2aa4ace54c0aa0f20a87ecd8f9bf",
            "f185b2280ccf47ff8e9a5445ae225b7f",
            "226b6c85114f4ba98e9d79db28fa27ac",
            "1273a7c2b4ad4a6284ffcedcec9adfde",
            "532a1d9b17ca4e1eb833f2249877689d",
            "ca3fb22584d14b4fa785d2ed44959d01",
            "024a6d09f4ea48e7829a664ecfc1854f",
            "dd1e58422a474c199e6a1bc41615c78e",
            "ec9e8e005fc3494c95f3a8523279bd08",
            "904e76285fde4427929ecb1f754a5696",
            "4ed4780f9b424d0cb98967c2de459aac",
            "fc2176b499304b7c9758954c6a86ad7d",
            "80bfaa60e46b409f82069484b462f286",
            "6e1383d30e014a1c99692f2ca786e232",
            "a7cd687c272f4c7d9e4d092cd83c59ec",
            "8e3ce5adf6d54b5e95bfa5646c261757",
            "90e8648379c94be89db96f6344ad5937",
            "c847b56ef7b84454b2dc7745a9fea697",
            "6196b6c8b73749108ad395455c546365",
            "9f31bff46c7240e8a4f104753be08d31",
            "c171c5a4a0504852aa6959626dc9879b",
            "31d673555d334cab826249acbcf5c45f",
            "b6038a9b380048c991f88b68d10ae902",
            "f31aaa4dd2a2404c9df97e0af94593a6",
            "6d5fa06b75aa4f09a33b10d50a041421",
            "8ff3f7af21a645308ad6474e3cb6a422",
            "ee4a147ba0194643b8dc45b293115eab",
            "2f3bec6bcf9a46118617d6d224ba8f31",
            "3cb3fe9331a449fc921dc724fb5a9836",
            "18e41cea6f2c4fd5a8be542be84d26c0",
            "e29df093d8d0450c9e7d9b90e02c21d6",
            "ec7694ce692241e288f740537c3afda3",
            "60ac49a51dc6468f874ee85f0202db54",
            "429c463e35304e088a5a95ac714883e3",
            "5799f93ce5df4312871370aa4a362b05",
            "00877a2bc4424046a1a2c97cd52db994",
            "0832a11afab84d0990b45e9a59d8c036",
            "7116691c161d476e9554c4e373679f69",
            "db019cfd69534b07b2e2072cf28a7070",
            "bf73c5ae490c4801b632e2c93c2d8ca6",
            "d77ac075c00a42e98be444af608f266e",
            "f525b53ad62c4676bdfe60a6150e95bf",
            "b9ecc9e0e78d44c3890b7265382c2687",
            "573fc09d194a448c835d73d134dc9571",
            "c5440496b794428a89e5f91a29f52e39",
            "5cd1507f371042aeacd47b9252a7f6ee",
            "58234405500c45bcb2c01c0feed4906b"
          ]
        },
        "id": "BU0fpXkLlaCz",
        "outputId": "724bd85f-5542-4b8b-d020-54ff1f00c9c9"
      },
      "outputs": [
        {
          "name": "stderr",
          "output_type": "stream",
          "text": [
            "Found cached dataset tweet_eval (/Users/quentinfisch/.cache/huggingface/datasets/tweet_eval/offensive/1.1.0/12aee5282b8784f3e95459466db4cdf45c6bf49719c25cdb0743d71ed0410343)\n"
          ]
        },
        {
          "data": {
            "application/vnd.jupyter.widget-view+json": {
              "model_id": "9faf9322ce744458889da37cdee997e1",
              "version_major": 2,
              "version_minor": 0
            },
            "text/plain": [
              "  0%|          | 0/3 [00:00<?, ?it/s]"
            ]
          },
          "metadata": {},
          "output_type": "display_data"
        }
      ],
      "source": [
        "dataset = load_dataset(\"tweet_eval\", \"offensive\")"
      ]
    },
    {
      "cell_type": "code",
      "execution_count": 168,
      "metadata": {
        "colab": {
          "base_uri": "https://localhost:8080/"
        },
        "id": "NGWMqOmGlaCz",
        "outputId": "c773aae2-2171-464e-a944-7ae72cc3d85f"
      },
      "outputs": [
        {
          "name": "stdout",
          "output_type": "stream",
          "text": [
            "DatasetDict({\n",
            "    train: Dataset({\n",
            "        features: ['text', 'label'],\n",
            "        num_rows: 11916\n",
            "    })\n",
            "    test: Dataset({\n",
            "        features: ['text', 'label'],\n",
            "        num_rows: 860\n",
            "    })\n",
            "    validation: Dataset({\n",
            "        features: ['text', 'label'],\n",
            "        num_rows: 1324\n",
            "    })\n",
            "})\n"
          ]
        }
      ],
      "source": [
        "print(dataset)"
      ]
    },
    {
      "attachments": {},
      "cell_type": "markdown",
      "metadata": {
        "id": "ESvSpejYlaC0"
      },
      "source": [
        "The dataset has 3 splits: `train`, `validation` and `test`. The `train` split contains 11916 samples, the `validation` split contains 1324 samples and the `test` split contains 860 samples. Let's take a look at some samples"
      ]
    },
    {
      "cell_type": "code",
      "execution_count": 4,
      "metadata": {
        "colab": {
          "base_uri": "https://localhost:8080/"
        },
        "id": "k9IwevCtlaC0",
        "outputId": "ca59f9e6-c268-45bc-fc13-e4e6dfc5f90a"
      },
      "outputs": [
        {
          "name": "stdout",
          "output_type": "stream",
          "text": [
            "{'text': '@user Bono... who cares. Soon people will understand that they gain nothing from following a phony celebrity. Become a Leader of your people instead or help and support your fellow countrymen.', 'label': 0}\n",
            "{'text': '@user Eight years the republicans denied obama’s picks. Breitbarters outrage is as phony as their fake president.', 'label': 1}\n",
            "{'text': '@user Get him some line help. He is gonna be just fine. As the game went on you could see him progressing more with his reads. He brought what has been missing. The deep ball presence. Now he just needs a little more time', 'label': 0}\n",
            "{'text': '@user @user She is great. Hi Fiona!', 'label': 0}\n",
            "{'text': \"@user She has become a parody unto herself? She has certainly taken some heat for being such an....well idiot. Could be optic too  Who know with Liberals  They're all optics.  No substance\", 'label': 1}\n"
          ]
        }
      ],
      "source": [
        "NB_PRINT_SAMPLES = 5\n",
        "for i in range(NB_PRINT_SAMPLES):\n",
        "    print(dataset['train'][i])"
      ]
    },
    {
      "attachments": {},
      "cell_type": "markdown",
      "metadata": {
        "id": "7nQSmfhFlaC0"
      },
      "source": [
        "This data is a collection of tweets, with a label indicating if the tweet is offensive or not. The label is a boolean, `0` for non-offensive and `1` for offensive.\n",
        "Tweets that are classified as offensive seem to be mostly insults, or tweets that are not politically correct. Some tweets are also classified as offensive because they are not politically correct, but are not insults. The last tweet printed above is classified as offensive because it contains the word \"idiot\"."
      ]
    },
    {
      "attachments": {},
      "cell_type": "markdown",
      "metadata": {
        "id": "c-9KELjZlaC1"
      },
      "source": [
        "#### 2. Use BERTopic to extract the topics within the data, and the main topics within each class."
      ]
    },
    {
      "cell_type": "code",
      "execution_count": 136,
      "metadata": {
        "colab": {
          "base_uri": "https://localhost:8080/",
          "height": 465,
          "referenced_widgets": [
            "7340db89fcc0426b8b3e2eba5390b3b1",
            "10eb11402f9b4e8e97be62fca972863e",
            "969c24c6694742f8a75255b4a0978789",
            "9eff37ba85fb46f6b26ee0924f0b4b21",
            "b00adade6eb24098ba69f9ddd2eb62e5",
            "4e3ce78a1d5f45988491247b7441ae44",
            "672fb51f26df4420b4a9098a6174422d",
            "83d959d58bf244109b89765cf343a66b",
            "ac0c76d437c04b8dab65a8fe1867ac25",
            "62cc2c9bc39c416ea55f1e7195f6a369",
            "4041a0cce855423c823b84e81839f4e0",
            "bb546b5ca5f64bc89dd32df705fa6d13",
            "f51a5a1a57e546c189812afa5c62ff42",
            "0265705af92948f9ab17226b0fb760be",
            "b347af28dc16412b89a404e33f0a8c7a",
            "bd4f8b29f8c94361badf789abb27c8bb",
            "19d88b2404a64f05967503f7f6fa00d5",
            "8ce1d8413fc84bb38c6753d64024f0ca",
            "74502b1ae1e745028352b643dabe85e9",
            "ebd9fec6db59478f9da4232dc55f1426",
            "c31021a6416e47c08bed22848edf3c95",
            "94ec1f421542486b83838154720c45f9",
            "3cd03e1f64454816a07946c65fd0370d",
            "b8b70b66272e47469d9801ff1c247bdc",
            "39468dfcca74491299a39689081886b5",
            "8062ecc741074e0e807b1ed7df3aff7e",
            "6622594c77124b7784f6507642ad47a8",
            "37b62f343ccd49269ded5ce056738034",
            "7f24a33efed9449d907c8e415b4e5fd3",
            "e774eb8dc5314feb971c59657c41ffcd",
            "60ce270ea7b1433b8222870044f2479f",
            "cbbe8565d23348e48744c97079468ccb",
            "fd009f2778514c82bf0f0df4e2369c10",
            "b191de4616de4efc8fbf1aaf41f00538",
            "200acd0629d345a693a11bb9be935fa7",
            "a3901ec00ebf4d79bfa79626c5987579",
            "b99da7ea9de54c9794c10e189a6b069b",
            "96680ab1b597497cbc76df1fb33f64c0",
            "8200f95b41cd4b50aaaa94eb8ad85649",
            "64cdb30e662448ba91af1fc6fda9c943",
            "19ecea4bad4f49f982ce12c74b9ff149",
            "74d732ac00e847489d18153ea3a3d5a8",
            "19002c736b554b1dbf8659f4116667fc",
            "94a979c778064f39af942e5559ce5f3d",
            "1169762362a64800bf148a3025eb51fd",
            "f9dd7defff514540b2f413f90ec0f5d3",
            "379510942a594d75bedfd9357d3ccbcb",
            "4057a9ed8efc4b079051dc3f5d443a79",
            "c673907fc2b6440ea32beef09aa4f88b",
            "8506c4512aba4f15a9e846df4e597e67",
            "369474afb05f47bab75d78fb66f43ebb",
            "c0f1051c2b074faa8512639b14890707",
            "dbad05f268bf468d9a03ad5cf47dbd72",
            "2dbe4b9a38894f6abd626b38feff7140",
            "3a66e797a65d45b4a2156d3323f5f128",
            "ec5f9230a08d407aaa81730f7761c8f9",
            "f19c361602d445c5be96e06e6417eaa9",
            "465ad539063f48e6b0e4f247e95e6e67",
            "2f67d4518043480d8372c457c1eaf8ee",
            "d8c346c7c1644a3e901d55b256a3cb76",
            "62ecce505a5b4289b78458eff0a0918b",
            "ea47785b372248c987590af7550ce816",
            "85ae18cc582144609414681d35b5279b",
            "29d4123179a2468d9c0e1d6e8cb8aa07",
            "7fcafd8553754b6cbad0c2a8b4fd1d02",
            "c632afb97e31434ebdfdf8e7a755d3ec",
            "f12313177b8d4f7e9aa29e43c8340a7d",
            "53e665c5514146bd8042d2f80e04443f",
            "f0b9c24a0c7b41d8906ded5d42e3c6ba",
            "196046205fe34dd08f2b3cbf5f70fac6",
            "42bf946986534198819976929acf769d",
            "da2fb5a8b75e4821a58edade566a540f",
            "e72153b44fa042748b885cbaeaf868cf",
            "3cf149aaf2e5472fa2fb18124f6b4391",
            "837b66f69b754cf6ada0b7f7afb033eb",
            "d85341de55084dfdb922637e9237ba08",
            "40bb6a242414459fbf1fd635efe6003a",
            "bf47aa654e644b82a037102946fb97ce",
            "afd7ed095fff4c579446adee6c5e876e",
            "7b0d634532464b23acd16aa470bb0e90",
            "9cef99fbb70a4b688a04c52fa20eff7d",
            "c3f8c89b55fa4ef99d1e8d8cce03780e",
            "aa575635ee3f40fe9e63ba99bf14315d",
            "a12f3ae22af449679a50a061ad489ea9",
            "4964786d527c468fbe03cd9d9d78d51e",
            "6da24b62012e449dbd88fb0472f805bd",
            "512b1526a88f4ac58b8690654cd3baf9",
            "c8b0cae92c164700a08e87f9fa1adeb6",
            "c039d5af9be94e47a7e3dd1bc56d80a2",
            "61040bb0a595452bae2a9af925a9fc88",
            "bd483725b008419ea1fd0647b95e0c33",
            "8824c541d98c48a09ac7d396f344c1ee",
            "017a5e36b3e94cd4891ac631eaa95e4d",
            "96ed79bdb3ad4975b0f0f8b4077568e4",
            "1e2a5a05e95c499aae76f75f3f98461c",
            "28d7805046b24abd8be76ae7fbd7ebd6",
            "596aa05bd0a8402b9c6df197c4fcff0f",
            "00190b762e3f46db8b61193ac4a0cd87",
            "e86f2b2129294d37b0fcd4ab1f21d608",
            "4bd1d1eb53eb47dd8eb0714af084865d",
            "3fd1f89c7fc5413e9357a6cd26c580c7",
            "077e13840c724554b5b126e3de9245f1",
            "2dcacb97e50f427b9dbb52a11e9abb38",
            "1d9fc6af02e1439889f74ae338172774",
            "bd9cff6e5f694ef59e71ef204099b9ee",
            "cba71493f3054d22bf1195f4e9f4a228",
            "b0b34f5d643a4c499d98d9d47c497d0f",
            "9a81952bc3fa4bd0873a562b2d05231c",
            "7fb7011f4aae4e8c86a51d12afc248cc",
            "8b3b7b3350c04b45ae27bbd7376b340c",
            "10d57a97539741cb8d5899bfc725a3ed",
            "5e3bbc5c46ec4835b7611e1c05ce2570",
            "19d2cc310af3418991a3e61367516426",
            "9fb980e74b604ed5a25c9506560e3351",
            "7cdc321c44e440e9824981b9fce36279",
            "f455b6bdc0a6415bb3a0e3a541e97773",
            "c7457e5104584ee6815ab2b285a08d0e",
            "9274640b0dbf45679a6108743a2932c2",
            "a13cb318dbca4c8882314a64a714be2b",
            "29c9cbcb191345d782faad46974de011",
            "28da063d102d4bd9a501453460dbd3be",
            "65eb666921a94adb927635b9c2649ad5",
            "3a41349944e4478bb23ebbc7ab7e2623",
            "ee82dbb1213f4313943577b447611f0e",
            "4383630c7995424eb745f1b8a9b81c80",
            "bb829a315bd5466d88e3eec43329f241",
            "3f1d6434ecf840a1aac672eabb71083f",
            "b5201f31fb5c47aeb2b810d1d843e7ef",
            "12d5d35de1b4424e83e6ad8cdff3907d",
            "1df9a4ceeea043bd949b6013a105a8bc",
            "b0efb33d2fe84c94a4114dac76b23ca7",
            "835b8458d3654da98e8cd8d75c8c100a",
            "1b57511b73764266bed1cb4975a2b392",
            "b191083093d04f828e41b3e88cee797b",
            "19b2ade7260f4914bc5c806677745364",
            "c98b84819907434a909a9785a80699ec",
            "3c786fce98cc4e878e92ffad3d434f43",
            "2e18a2d26eaf4c95b03327fab756bd10",
            "9f312a41122f4db78fe91d7e2c2d8c47",
            "6cbd1edcfd4b455abab6385674820f37",
            "a6fa5625f39349679b27b6b4b36f7c27",
            "6db90a7d87c444d9bc5b84ac43759203",
            "3cf3561f7e62489d893f5ac85aa9d925",
            "0353430856bd4bbd9f858c8228e499c3",
            "db5888638d8748b3af24273428170c8c",
            "790ca69f9fde4798a6d34dc07c11e16e",
            "d36325e2ecbd4587a36fbacf317ec769",
            "4fdca00e2eca452bab63e65fbba0a5f8",
            "230c393b3d094265b6f10898a9991ee7",
            "f97908075e764a4182df6c9b839332b4",
            "e2b50379333b409c9e95dd1bd953cfa8",
            "c667e4ee08674556822476d98e23ff2b",
            "ce4aedeca62c481d8e9907c196ea3282",
            "d302925d6613414b9ab7d6f62c2f1211"
          ]
        },
        "id": "NHd2GAnnlaC2",
        "outputId": "3ee17b6a-9ff8-4f82-ab59-6cbf36b7f3e3"
      },
      "outputs": [],
      "source": [
        "SEED = 42\n",
        "umap_model = UMAP(random_state=SEED)\n",
        "\n",
        "model = SentenceTransformer('all-MiniLM-L6-v2')\n",
        "\n",
        "topic_model = BERTopic(language=\"english\", calculate_probabilities=True, embedding_model=model, umap_model=umap_model)\n",
        "topics, probs = topic_model.fit_transform(dataset['train']['text'])"
      ]
    },
    {
      "cell_type": "code",
      "execution_count": 159,
      "metadata": {
        "colab": {
          "base_uri": "https://localhost:8080/",
          "height": 363
        },
        "id": "X94ky0KVlaC2",
        "outputId": "03b330ed-383d-4836-8b13-74b6d5731ed9"
      },
      "outputs": [
        {
          "data": {
            "text/html": [
              "<div>\n",
              "<style scoped>\n",
              "    .dataframe tbody tr th:only-of-type {\n",
              "        vertical-align: middle;\n",
              "    }\n",
              "\n",
              "    .dataframe tbody tr th {\n",
              "        vertical-align: top;\n",
              "    }\n",
              "\n",
              "    .dataframe thead th {\n",
              "        text-align: right;\n",
              "    }\n",
              "</style>\n",
              "<table border=\"1\" class=\"dataframe\">\n",
              "  <thead>\n",
              "    <tr style=\"text-align: right;\">\n",
              "      <th></th>\n",
              "      <th>Topic</th>\n",
              "      <th>Count</th>\n",
              "    </tr>\n",
              "  </thead>\n",
              "  <tbody>\n",
              "    <tr>\n",
              "      <th>3</th>\n",
              "      <td>0</td>\n",
              "      <td>3939</td>\n",
              "    </tr>\n",
              "    <tr>\n",
              "      <th>4</th>\n",
              "      <td>-1</td>\n",
              "      <td>3069</td>\n",
              "    </tr>\n",
              "    <tr>\n",
              "      <th>5</th>\n",
              "      <td>1</td>\n",
              "      <td>991</td>\n",
              "    </tr>\n",
              "    <tr>\n",
              "      <th>28</th>\n",
              "      <td>2</td>\n",
              "      <td>382</td>\n",
              "    </tr>\n",
              "    <tr>\n",
              "      <th>13</th>\n",
              "      <td>3</td>\n",
              "      <td>317</td>\n",
              "    </tr>\n",
              "    <tr>\n",
              "      <th>27</th>\n",
              "      <td>4</td>\n",
              "      <td>262</td>\n",
              "    </tr>\n",
              "    <tr>\n",
              "      <th>21</th>\n",
              "      <td>5</td>\n",
              "      <td>195</td>\n",
              "    </tr>\n",
              "    <tr>\n",
              "      <th>14</th>\n",
              "      <td>6</td>\n",
              "      <td>161</td>\n",
              "    </tr>\n",
              "    <tr>\n",
              "      <th>25</th>\n",
              "      <td>7</td>\n",
              "      <td>153</td>\n",
              "    </tr>\n",
              "    <tr>\n",
              "      <th>17</th>\n",
              "      <td>8</td>\n",
              "      <td>113</td>\n",
              "    </tr>\n",
              "  </tbody>\n",
              "</table>\n",
              "</div>"
            ],
            "text/plain": [
              "    Topic  Count\n",
              "3       0   3939\n",
              "4      -1   3069\n",
              "5       1    991\n",
              "28      2    382\n",
              "13      3    317\n",
              "27      4    262\n",
              "21      5    195\n",
              "14      6    161\n",
              "25      7    153\n",
              "17      8    113"
            ]
          },
          "execution_count": 159,
          "metadata": {},
          "output_type": "execute_result"
        }
      ],
      "source": [
        "topic_model.get_topic_freq().head(10)"
      ]
    },
    {
      "attachments": {},
      "cell_type": "markdown",
      "metadata": {},
      "source": [
        "Let's visualize the topics within the data, and the main topics within each class (20 topics)"
      ]
    },
    {
      "cell_type": "code",
      "execution_count": 161,
      "metadata": {
        "colab": {
          "base_uri": "https://localhost:8080/",
          "height": 917
        },
        "id": "_V9dVuRmlaC3",
        "outputId": "8308d86c-dcf9-461e-bd18-45a38f1c9cf1"
      },
      "outputs": [
        {
          "data": {
            "application/vnd.plotly.v1+json": {
              "config": {
                "plotlyServerURL": "https://plot.ly"
              },
              "data": [
                {
                  "hoverinfo": "text",
                  "hovertext": [
                    "<b>Topic 0</b><br>Words: she, you, is, he, are"
                  ],
                  "marker": {
                    "color": "#E69F00"
                  },
                  "name": "0_she_you_is_he",
                  "orientation": "h",
                  "type": "bar",
                  "visible": true,
                  "x": [
                    3939
                  ],
                  "y": [
                    0
                  ]
                },
                {
                  "hoverinfo": "text",
                  "hovertext": [
                    "<b>Topic 1</b><br>Words: gun, control, guns, laws, the"
                  ],
                  "marker": {
                    "color": "#56B4E9"
                  },
                  "name": "1_gun_control_guns_laws",
                  "orientation": "h",
                  "type": "bar",
                  "visible": "legendonly",
                  "x": [
                    991
                  ],
                  "y": [
                    1
                  ]
                },
                {
                  "hoverinfo": "text",
                  "hovertext": [
                    "<b>Topic 2</b><br>Words: liberals, they, user, their, the"
                  ],
                  "marker": {
                    "color": "#009E73"
                  },
                  "name": "2_liberals_they_user_their",
                  "orientation": "h",
                  "type": "bar",
                  "visible": "legendonly",
                  "x": [
                    382
                  ],
                  "y": [
                    2
                  ]
                },
                {
                  "hoverinfo": "text",
                  "hovertext": [
                    "<b>Topic 3</b><br>Words: antifa, user, they, your, to"
                  ],
                  "marker": {
                    "color": "#F0E442"
                  },
                  "name": "3_antifa_user_they_your",
                  "orientation": "h",
                  "type": "bar",
                  "visible": "legendonly",
                  "x": [
                    317
                  ],
                  "y": [
                    3
                  ]
                },
                {
                  "hoverinfo": "text",
                  "hovertext": [
                    "<b>Topic 4</b><br>Words: conservatives, they, the, and, are"
                  ],
                  "marker": {
                    "color": "#D55E00"
                  },
                  "name": "4_conservatives_they_the_and",
                  "orientation": "h",
                  "type": "bar",
                  "visible": "legendonly",
                  "x": [
                    262
                  ],
                  "y": [
                    4
                  ]
                },
                {
                  "hoverinfo": "text",
                  "hovertext": [
                    "<b>Topic 5</b><br>Words: kavanaugh, maga, judge, vote, to"
                  ],
                  "marker": {
                    "color": "#0072B2"
                  },
                  "name": "5_kavanaugh_maga_judge_vote",
                  "orientation": "h",
                  "type": "bar",
                  "visible": "legendonly",
                  "x": [
                    195
                  ],
                  "y": [
                    5
                  ]
                },
                {
                  "hoverinfo": "text",
                  "hovertext": [
                    "<b>Topic 6</b><br>Words: brexit, uk, tories, eu, labour"
                  ],
                  "marker": {
                    "color": "#CC79A7"
                  },
                  "name": "6_brexit_uk_tories_eu",
                  "orientation": "h",
                  "type": "bar",
                  "visible": "legendonly",
                  "x": [
                    161
                  ],
                  "y": [
                    6
                  ]
                },
                {
                  "hoverinfo": "text",
                  "hovertext": [
                    "<b>Topic 7</b><br>Words: user, treph, follow, gt, you"
                  ],
                  "marker": {
                    "color": "#E69F00"
                  },
                  "name": "7_user_treph_follow_gt",
                  "orientation": "h",
                  "type": "bar",
                  "visible": "legendonly",
                  "x": [
                    153
                  ],
                  "y": [
                    7
                  ]
                },
                {
                  "hoverinfo": "text",
                  "hovertext": [
                    "<b>Topic 8</b><br>Words: canada, trudeau, liberals, ndp, canadians"
                  ],
                  "marker": {
                    "color": "#56B4E9"
                  },
                  "name": "8_canada_trudeau_liberals_ndp",
                  "orientation": "h",
                  "type": "bar",
                  "visible": "legendonly",
                  "x": [
                    113
                  ],
                  "y": [
                    8
                  ]
                },
                {
                  "hoverinfo": "text",
                  "hovertext": [
                    "<b>Topic 9</b><br>Words: women, liberals, sexual, conservatives, men"
                  ],
                  "marker": {
                    "color": "#009E73"
                  },
                  "name": "9_women_liberals_sexual_conservatives",
                  "orientation": "h",
                  "type": "bar",
                  "visible": "legendonly",
                  "x": [
                    111
                  ],
                  "y": [
                    9
                  ]
                },
                {
                  "hoverinfo": "text",
                  "hovertext": [
                    "<b>Topic 10</b><br>Words: maga, qanon, they, whine, wwg1wga"
                  ],
                  "marker": {
                    "color": "#F0E442"
                  },
                  "name": "10_maga_qanon_they_whine",
                  "orientation": "h",
                  "type": "bar",
                  "visible": "legendonly",
                  "x": [
                    103
                  ],
                  "y": [
                    10
                  ]
                },
                {
                  "hoverinfo": "text",
                  "hovertext": [
                    "<b>Topic 11</b><br>Words: president, trump, he, donald, is"
                  ],
                  "marker": {
                    "color": "#D55E00"
                  },
                  "name": "11_president_trump_he_donald",
                  "orientation": "h",
                  "type": "bar",
                  "visible": "legendonly",
                  "x": [
                    91
                  ],
                  "y": [
                    11
                  ]
                },
                {
                  "hoverinfo": "text",
                  "hovertext": [
                    "<b>Topic 12</b><br>Words: racist, black, white, race, people"
                  ],
                  "marker": {
                    "color": "#0072B2"
                  },
                  "name": "12_racist_black_white_race",
                  "orientation": "h",
                  "type": "bar",
                  "visible": "legendonly",
                  "x": [
                    90
                  ],
                  "y": [
                    12
                  ]
                },
                {
                  "hoverinfo": "text",
                  "hovertext": [
                    "<b>Topic 13</b><br>Words: nfl, football, he, game, the"
                  ],
                  "marker": {
                    "color": "#CC79A7"
                  },
                  "name": "13_nfl_football_he_game",
                  "orientation": "h",
                  "type": "bar",
                  "visible": "legendonly",
                  "x": [
                    89
                  ],
                  "y": [
                    13
                  ]
                },
                {
                  "hoverinfo": "text",
                  "hovertext": [
                    "<b>Topic 14</b><br>Words: lying, she, liar, her, lie"
                  ],
                  "marker": {
                    "color": "#E69F00"
                  },
                  "name": "14_lying_she_liar_her",
                  "orientation": "h",
                  "type": "bar",
                  "visible": "legendonly",
                  "x": [
                    87
                  ],
                  "y": [
                    14
                  ]
                },
                {
                  "hoverinfo": "text",
                  "hovertext": [
                    "<b>Topic 15</b><br>Words: god, religion, hero, user, christian"
                  ],
                  "marker": {
                    "color": "#56B4E9"
                  },
                  "name": "15_god_religion_hero_user",
                  "orientation": "h",
                  "type": "bar",
                  "visible": "legendonly",
                  "x": [
                    82
                  ],
                  "y": [
                    15
                  ]
                },
                {
                  "hoverinfo": "text",
                  "hovertext": [
                    "<b>Topic 16</b><br>Words: antifa, violence, far, left, democrats"
                  ],
                  "marker": {
                    "color": "#009E73"
                  },
                  "name": "16_antifa_violence_far_left",
                  "orientation": "h",
                  "type": "bar",
                  "visible": "legendonly",
                  "x": [
                    79
                  ],
                  "y": [
                    16
                  ]
                },
                {
                  "hoverinfo": "text",
                  "hovertext": [
                    "<b>Topic 17</b><br>Words: nazis, antifa, fascist, fascism, anti"
                  ],
                  "marker": {
                    "color": "#F0E442"
                  },
                  "name": "17_nazis_antifa_fascist_fascism",
                  "orientation": "h",
                  "type": "bar",
                  "visible": "legendonly",
                  "x": [
                    69
                  ],
                  "y": [
                    17
                  ]
                },
                {
                  "hoverinfo": "text",
                  "hovertext": [
                    "<b>Topic 18</b><br>Words: holder, prison, jail, eric, should"
                  ],
                  "marker": {
                    "color": "#D55E00"
                  },
                  "name": "18_holder_prison_jail_eric",
                  "orientation": "h",
                  "type": "bar",
                  "visible": "legendonly",
                  "x": [
                    66
                  ],
                  "y": [
                    18
                  ]
                },
                {
                  "hoverinfo": "text",
                  "hovertext": [
                    "<b>Topic 19</b><br>Words: bitch, bitches, bad, me, bitching"
                  ],
                  "marker": {
                    "color": "#0072B2"
                  },
                  "name": "19_bitch_bitches_bad_me",
                  "orientation": "h",
                  "type": "bar",
                  "visible": "legendonly",
                  "x": [
                    65
                  ],
                  "y": [
                    19
                  ]
                }
              ],
              "layout": {
                "height": 900,
                "hoverlabel": {
                  "bgcolor": "white",
                  "font": {
                    "family": "Rockwell",
                    "size": 16
                  }
                },
                "legend": {
                  "title": {
                    "text": "<b>Global Topic Representation"
                  }
                },
                "template": {
                  "data": {
                    "bar": [
                      {
                        "error_x": {
                          "color": "rgb(36,36,36)"
                        },
                        "error_y": {
                          "color": "rgb(36,36,36)"
                        },
                        "marker": {
                          "line": {
                            "color": "white",
                            "width": 0.5
                          },
                          "pattern": {
                            "fillmode": "overlay",
                            "size": 10,
                            "solidity": 0.2
                          }
                        },
                        "type": "bar"
                      }
                    ],
                    "barpolar": [
                      {
                        "marker": {
                          "line": {
                            "color": "white",
                            "width": 0.5
                          },
                          "pattern": {
                            "fillmode": "overlay",
                            "size": 10,
                            "solidity": 0.2
                          }
                        },
                        "type": "barpolar"
                      }
                    ],
                    "carpet": [
                      {
                        "aaxis": {
                          "endlinecolor": "rgb(36,36,36)",
                          "gridcolor": "white",
                          "linecolor": "white",
                          "minorgridcolor": "white",
                          "startlinecolor": "rgb(36,36,36)"
                        },
                        "baxis": {
                          "endlinecolor": "rgb(36,36,36)",
                          "gridcolor": "white",
                          "linecolor": "white",
                          "minorgridcolor": "white",
                          "startlinecolor": "rgb(36,36,36)"
                        },
                        "type": "carpet"
                      }
                    ],
                    "choropleth": [
                      {
                        "colorbar": {
                          "outlinewidth": 1,
                          "tickcolor": "rgb(36,36,36)",
                          "ticks": "outside"
                        },
                        "type": "choropleth"
                      }
                    ],
                    "contour": [
                      {
                        "colorbar": {
                          "outlinewidth": 1,
                          "tickcolor": "rgb(36,36,36)",
                          "ticks": "outside"
                        },
                        "colorscale": [
                          [
                            0,
                            "#440154"
                          ],
                          [
                            0.1111111111111111,
                            "#482878"
                          ],
                          [
                            0.2222222222222222,
                            "#3e4989"
                          ],
                          [
                            0.3333333333333333,
                            "#31688e"
                          ],
                          [
                            0.4444444444444444,
                            "#26828e"
                          ],
                          [
                            0.5555555555555556,
                            "#1f9e89"
                          ],
                          [
                            0.6666666666666666,
                            "#35b779"
                          ],
                          [
                            0.7777777777777778,
                            "#6ece58"
                          ],
                          [
                            0.8888888888888888,
                            "#b5de2b"
                          ],
                          [
                            1,
                            "#fde725"
                          ]
                        ],
                        "type": "contour"
                      }
                    ],
                    "contourcarpet": [
                      {
                        "colorbar": {
                          "outlinewidth": 1,
                          "tickcolor": "rgb(36,36,36)",
                          "ticks": "outside"
                        },
                        "type": "contourcarpet"
                      }
                    ],
                    "heatmap": [
                      {
                        "colorbar": {
                          "outlinewidth": 1,
                          "tickcolor": "rgb(36,36,36)",
                          "ticks": "outside"
                        },
                        "colorscale": [
                          [
                            0,
                            "#440154"
                          ],
                          [
                            0.1111111111111111,
                            "#482878"
                          ],
                          [
                            0.2222222222222222,
                            "#3e4989"
                          ],
                          [
                            0.3333333333333333,
                            "#31688e"
                          ],
                          [
                            0.4444444444444444,
                            "#26828e"
                          ],
                          [
                            0.5555555555555556,
                            "#1f9e89"
                          ],
                          [
                            0.6666666666666666,
                            "#35b779"
                          ],
                          [
                            0.7777777777777778,
                            "#6ece58"
                          ],
                          [
                            0.8888888888888888,
                            "#b5de2b"
                          ],
                          [
                            1,
                            "#fde725"
                          ]
                        ],
                        "type": "heatmap"
                      }
                    ],
                    "heatmapgl": [
                      {
                        "colorbar": {
                          "outlinewidth": 1,
                          "tickcolor": "rgb(36,36,36)",
                          "ticks": "outside"
                        },
                        "colorscale": [
                          [
                            0,
                            "#440154"
                          ],
                          [
                            0.1111111111111111,
                            "#482878"
                          ],
                          [
                            0.2222222222222222,
                            "#3e4989"
                          ],
                          [
                            0.3333333333333333,
                            "#31688e"
                          ],
                          [
                            0.4444444444444444,
                            "#26828e"
                          ],
                          [
                            0.5555555555555556,
                            "#1f9e89"
                          ],
                          [
                            0.6666666666666666,
                            "#35b779"
                          ],
                          [
                            0.7777777777777778,
                            "#6ece58"
                          ],
                          [
                            0.8888888888888888,
                            "#b5de2b"
                          ],
                          [
                            1,
                            "#fde725"
                          ]
                        ],
                        "type": "heatmapgl"
                      }
                    ],
                    "histogram": [
                      {
                        "marker": {
                          "line": {
                            "color": "white",
                            "width": 0.6
                          }
                        },
                        "type": "histogram"
                      }
                    ],
                    "histogram2d": [
                      {
                        "colorbar": {
                          "outlinewidth": 1,
                          "tickcolor": "rgb(36,36,36)",
                          "ticks": "outside"
                        },
                        "colorscale": [
                          [
                            0,
                            "#440154"
                          ],
                          [
                            0.1111111111111111,
                            "#482878"
                          ],
                          [
                            0.2222222222222222,
                            "#3e4989"
                          ],
                          [
                            0.3333333333333333,
                            "#31688e"
                          ],
                          [
                            0.4444444444444444,
                            "#26828e"
                          ],
                          [
                            0.5555555555555556,
                            "#1f9e89"
                          ],
                          [
                            0.6666666666666666,
                            "#35b779"
                          ],
                          [
                            0.7777777777777778,
                            "#6ece58"
                          ],
                          [
                            0.8888888888888888,
                            "#b5de2b"
                          ],
                          [
                            1,
                            "#fde725"
                          ]
                        ],
                        "type": "histogram2d"
                      }
                    ],
                    "histogram2dcontour": [
                      {
                        "colorbar": {
                          "outlinewidth": 1,
                          "tickcolor": "rgb(36,36,36)",
                          "ticks": "outside"
                        },
                        "colorscale": [
                          [
                            0,
                            "#440154"
                          ],
                          [
                            0.1111111111111111,
                            "#482878"
                          ],
                          [
                            0.2222222222222222,
                            "#3e4989"
                          ],
                          [
                            0.3333333333333333,
                            "#31688e"
                          ],
                          [
                            0.4444444444444444,
                            "#26828e"
                          ],
                          [
                            0.5555555555555556,
                            "#1f9e89"
                          ],
                          [
                            0.6666666666666666,
                            "#35b779"
                          ],
                          [
                            0.7777777777777778,
                            "#6ece58"
                          ],
                          [
                            0.8888888888888888,
                            "#b5de2b"
                          ],
                          [
                            1,
                            "#fde725"
                          ]
                        ],
                        "type": "histogram2dcontour"
                      }
                    ],
                    "mesh3d": [
                      {
                        "colorbar": {
                          "outlinewidth": 1,
                          "tickcolor": "rgb(36,36,36)",
                          "ticks": "outside"
                        },
                        "type": "mesh3d"
                      }
                    ],
                    "parcoords": [
                      {
                        "line": {
                          "colorbar": {
                            "outlinewidth": 1,
                            "tickcolor": "rgb(36,36,36)",
                            "ticks": "outside"
                          }
                        },
                        "type": "parcoords"
                      }
                    ],
                    "pie": [
                      {
                        "automargin": true,
                        "type": "pie"
                      }
                    ],
                    "scatter": [
                      {
                        "fillpattern": {
                          "fillmode": "overlay",
                          "size": 10,
                          "solidity": 0.2
                        },
                        "type": "scatter"
                      }
                    ],
                    "scatter3d": [
                      {
                        "line": {
                          "colorbar": {
                            "outlinewidth": 1,
                            "tickcolor": "rgb(36,36,36)",
                            "ticks": "outside"
                          }
                        },
                        "marker": {
                          "colorbar": {
                            "outlinewidth": 1,
                            "tickcolor": "rgb(36,36,36)",
                            "ticks": "outside"
                          }
                        },
                        "type": "scatter3d"
                      }
                    ],
                    "scattercarpet": [
                      {
                        "marker": {
                          "colorbar": {
                            "outlinewidth": 1,
                            "tickcolor": "rgb(36,36,36)",
                            "ticks": "outside"
                          }
                        },
                        "type": "scattercarpet"
                      }
                    ],
                    "scattergeo": [
                      {
                        "marker": {
                          "colorbar": {
                            "outlinewidth": 1,
                            "tickcolor": "rgb(36,36,36)",
                            "ticks": "outside"
                          }
                        },
                        "type": "scattergeo"
                      }
                    ],
                    "scattergl": [
                      {
                        "marker": {
                          "colorbar": {
                            "outlinewidth": 1,
                            "tickcolor": "rgb(36,36,36)",
                            "ticks": "outside"
                          }
                        },
                        "type": "scattergl"
                      }
                    ],
                    "scattermapbox": [
                      {
                        "marker": {
                          "colorbar": {
                            "outlinewidth": 1,
                            "tickcolor": "rgb(36,36,36)",
                            "ticks": "outside"
                          }
                        },
                        "type": "scattermapbox"
                      }
                    ],
                    "scatterpolar": [
                      {
                        "marker": {
                          "colorbar": {
                            "outlinewidth": 1,
                            "tickcolor": "rgb(36,36,36)",
                            "ticks": "outside"
                          }
                        },
                        "type": "scatterpolar"
                      }
                    ],
                    "scatterpolargl": [
                      {
                        "marker": {
                          "colorbar": {
                            "outlinewidth": 1,
                            "tickcolor": "rgb(36,36,36)",
                            "ticks": "outside"
                          }
                        },
                        "type": "scatterpolargl"
                      }
                    ],
                    "scatterternary": [
                      {
                        "marker": {
                          "colorbar": {
                            "outlinewidth": 1,
                            "tickcolor": "rgb(36,36,36)",
                            "ticks": "outside"
                          }
                        },
                        "type": "scatterternary"
                      }
                    ],
                    "surface": [
                      {
                        "colorbar": {
                          "outlinewidth": 1,
                          "tickcolor": "rgb(36,36,36)",
                          "ticks": "outside"
                        },
                        "colorscale": [
                          [
                            0,
                            "#440154"
                          ],
                          [
                            0.1111111111111111,
                            "#482878"
                          ],
                          [
                            0.2222222222222222,
                            "#3e4989"
                          ],
                          [
                            0.3333333333333333,
                            "#31688e"
                          ],
                          [
                            0.4444444444444444,
                            "#26828e"
                          ],
                          [
                            0.5555555555555556,
                            "#1f9e89"
                          ],
                          [
                            0.6666666666666666,
                            "#35b779"
                          ],
                          [
                            0.7777777777777778,
                            "#6ece58"
                          ],
                          [
                            0.8888888888888888,
                            "#b5de2b"
                          ],
                          [
                            1,
                            "#fde725"
                          ]
                        ],
                        "type": "surface"
                      }
                    ],
                    "table": [
                      {
                        "cells": {
                          "fill": {
                            "color": "rgb(237,237,237)"
                          },
                          "line": {
                            "color": "white"
                          }
                        },
                        "header": {
                          "fill": {
                            "color": "rgb(217,217,217)"
                          },
                          "line": {
                            "color": "white"
                          }
                        },
                        "type": "table"
                      }
                    ]
                  },
                  "layout": {
                    "annotationdefaults": {
                      "arrowhead": 0,
                      "arrowwidth": 1
                    },
                    "autotypenumbers": "strict",
                    "coloraxis": {
                      "colorbar": {
                        "outlinewidth": 1,
                        "tickcolor": "rgb(36,36,36)",
                        "ticks": "outside"
                      }
                    },
                    "colorscale": {
                      "diverging": [
                        [
                          0,
                          "rgb(103,0,31)"
                        ],
                        [
                          0.1,
                          "rgb(178,24,43)"
                        ],
                        [
                          0.2,
                          "rgb(214,96,77)"
                        ],
                        [
                          0.3,
                          "rgb(244,165,130)"
                        ],
                        [
                          0.4,
                          "rgb(253,219,199)"
                        ],
                        [
                          0.5,
                          "rgb(247,247,247)"
                        ],
                        [
                          0.6,
                          "rgb(209,229,240)"
                        ],
                        [
                          0.7,
                          "rgb(146,197,222)"
                        ],
                        [
                          0.8,
                          "rgb(67,147,195)"
                        ],
                        [
                          0.9,
                          "rgb(33,102,172)"
                        ],
                        [
                          1,
                          "rgb(5,48,97)"
                        ]
                      ],
                      "sequential": [
                        [
                          0,
                          "#440154"
                        ],
                        [
                          0.1111111111111111,
                          "#482878"
                        ],
                        [
                          0.2222222222222222,
                          "#3e4989"
                        ],
                        [
                          0.3333333333333333,
                          "#31688e"
                        ],
                        [
                          0.4444444444444444,
                          "#26828e"
                        ],
                        [
                          0.5555555555555556,
                          "#1f9e89"
                        ],
                        [
                          0.6666666666666666,
                          "#35b779"
                        ],
                        [
                          0.7777777777777778,
                          "#6ece58"
                        ],
                        [
                          0.8888888888888888,
                          "#b5de2b"
                        ],
                        [
                          1,
                          "#fde725"
                        ]
                      ],
                      "sequentialminus": [
                        [
                          0,
                          "#440154"
                        ],
                        [
                          0.1111111111111111,
                          "#482878"
                        ],
                        [
                          0.2222222222222222,
                          "#3e4989"
                        ],
                        [
                          0.3333333333333333,
                          "#31688e"
                        ],
                        [
                          0.4444444444444444,
                          "#26828e"
                        ],
                        [
                          0.5555555555555556,
                          "#1f9e89"
                        ],
                        [
                          0.6666666666666666,
                          "#35b779"
                        ],
                        [
                          0.7777777777777778,
                          "#6ece58"
                        ],
                        [
                          0.8888888888888888,
                          "#b5de2b"
                        ],
                        [
                          1,
                          "#fde725"
                        ]
                      ]
                    },
                    "colorway": [
                      "#1F77B4",
                      "#FF7F0E",
                      "#2CA02C",
                      "#D62728",
                      "#9467BD",
                      "#8C564B",
                      "#E377C2",
                      "#7F7F7F",
                      "#BCBD22",
                      "#17BECF"
                    ],
                    "font": {
                      "color": "rgb(36,36,36)"
                    },
                    "geo": {
                      "bgcolor": "white",
                      "lakecolor": "white",
                      "landcolor": "white",
                      "showlakes": true,
                      "showland": true,
                      "subunitcolor": "white"
                    },
                    "hoverlabel": {
                      "align": "left"
                    },
                    "hovermode": "closest",
                    "mapbox": {
                      "style": "light"
                    },
                    "paper_bgcolor": "white",
                    "plot_bgcolor": "white",
                    "polar": {
                      "angularaxis": {
                        "gridcolor": "rgb(232,232,232)",
                        "linecolor": "rgb(36,36,36)",
                        "showgrid": false,
                        "showline": true,
                        "ticks": "outside"
                      },
                      "bgcolor": "white",
                      "radialaxis": {
                        "gridcolor": "rgb(232,232,232)",
                        "linecolor": "rgb(36,36,36)",
                        "showgrid": false,
                        "showline": true,
                        "ticks": "outside"
                      }
                    },
                    "scene": {
                      "xaxis": {
                        "backgroundcolor": "white",
                        "gridcolor": "rgb(232,232,232)",
                        "gridwidth": 2,
                        "linecolor": "rgb(36,36,36)",
                        "showbackground": true,
                        "showgrid": false,
                        "showline": true,
                        "ticks": "outside",
                        "zeroline": false,
                        "zerolinecolor": "rgb(36,36,36)"
                      },
                      "yaxis": {
                        "backgroundcolor": "white",
                        "gridcolor": "rgb(232,232,232)",
                        "gridwidth": 2,
                        "linecolor": "rgb(36,36,36)",
                        "showbackground": true,
                        "showgrid": false,
                        "showline": true,
                        "ticks": "outside",
                        "zeroline": false,
                        "zerolinecolor": "rgb(36,36,36)"
                      },
                      "zaxis": {
                        "backgroundcolor": "white",
                        "gridcolor": "rgb(232,232,232)",
                        "gridwidth": 2,
                        "linecolor": "rgb(36,36,36)",
                        "showbackground": true,
                        "showgrid": false,
                        "showline": true,
                        "ticks": "outside",
                        "zeroline": false,
                        "zerolinecolor": "rgb(36,36,36)"
                      }
                    },
                    "shapedefaults": {
                      "fillcolor": "black",
                      "line": {
                        "width": 0
                      },
                      "opacity": 0.3
                    },
                    "ternary": {
                      "aaxis": {
                        "gridcolor": "rgb(232,232,232)",
                        "linecolor": "rgb(36,36,36)",
                        "showgrid": false,
                        "showline": true,
                        "ticks": "outside"
                      },
                      "baxis": {
                        "gridcolor": "rgb(232,232,232)",
                        "linecolor": "rgb(36,36,36)",
                        "showgrid": false,
                        "showline": true,
                        "ticks": "outside"
                      },
                      "bgcolor": "white",
                      "caxis": {
                        "gridcolor": "rgb(232,232,232)",
                        "linecolor": "rgb(36,36,36)",
                        "showgrid": false,
                        "showline": true,
                        "ticks": "outside"
                      }
                    },
                    "title": {
                      "x": 0.05
                    },
                    "xaxis": {
                      "automargin": true,
                      "gridcolor": "rgb(232,232,232)",
                      "linecolor": "rgb(36,36,36)",
                      "showgrid": false,
                      "showline": true,
                      "ticks": "outside",
                      "title": {
                        "standoff": 15
                      },
                      "zeroline": false,
                      "zerolinecolor": "rgb(36,36,36)"
                    },
                    "yaxis": {
                      "automargin": true,
                      "gridcolor": "rgb(232,232,232)",
                      "linecolor": "rgb(36,36,36)",
                      "showgrid": false,
                      "showline": true,
                      "ticks": "outside",
                      "title": {
                        "standoff": 15
                      },
                      "zeroline": false,
                      "zerolinecolor": "rgb(36,36,36)"
                    }
                  }
                },
                "title": {
                  "font": {
                    "color": "Black",
                    "size": 22
                  },
                  "text": "<b>Topics per Class</b>",
                  "x": 0.4,
                  "xanchor": "center",
                  "y": 0.95,
                  "yanchor": "top"
                },
                "width": 1250,
                "xaxis": {
                  "showgrid": true,
                  "title": {
                    "text": "Frequency"
                  }
                },
                "yaxis": {
                  "showgrid": true,
                  "title": {
                    "text": "Class"
                  }
                }
              }
            }
          },
          "metadata": {},
          "output_type": "display_data"
        }
      ],
      "source": [
        "topic_per_class = topic_model.topics_per_class(dataset['train']['text'], topics)\n",
        "topic_model.visualize_topics_per_class(topic_per_class, top_n_topics=20)"
      ]
    },
    {
      "attachments": {},
      "cell_type": "markdown",
      "metadata": {
        "id": "KEwdI1kGlaC3"
      },
      "source": [
        "#### 3. What do you think about the results? How do you think it could impact a model trained on these data?\n",
        "\n",
        "The topic with the highest frequency is `she_you_is_he`, which is just a list of pronouns. It makes sense that this topic is the most frequent, as pronouns are very common in the english language. Then, the topics are mainly related to diverse subjects around politics. Some subjects are surprising such as `nfl_football_he_game`, but it makes sense that controversial tweets might appear on this topic.\n",
        "\n",
        "The model trained on these data might be biased towards politics, as the topics are mainly related to politics. This might be a problem if the model is used to classify tweets that are not related to politics."
      ]
    },
    {
      "attachments": {},
      "cell_type": "markdown",
      "metadata": {},
      "source": [
        "#### 4. (Bonus) By default, BERTopic extracts single keywords. Play with the model to extract bigrams or more. See if you can go deeper in your analysis."
      ]
    },
    {
      "cell_type": "code",
      "execution_count": 149,
      "metadata": {},
      "outputs": [
        {
          "data": {
            "text/plain": [
              "dict_keys([-1, 0, 1, 2, 3, 4, 5, 6, 7, 8, 9, 10, 11, 12, 13, 14, 15, 16, 17, 18, 19, 20, 21, 22, 23, 24, 25, 26, 27, 28, 29, 30, 31, 32, 33, 34, 35, 36, 37, 38, 39, 40, 41, 42, 43, 44, 45, 46, 47, 48, 49, 50, 51, 52, 53, 54, 55, 56, 57, 58, 59, 60, 61, 62, 63, 64, 65, 66, 67, 68, 69, 70, 71, 72, 73, 74, 75, 76, 77, 78])"
            ]
          },
          "execution_count": 149,
          "metadata": {},
          "output_type": "execute_result"
        }
      ],
      "source": [
        "topic_model.get_topics().keys()"
      ]
    },
    {
      "cell_type": "code",
      "execution_count": 157,
      "metadata": {},
      "outputs": [
        {
          "data": {
            "application/vnd.plotly.v1+json": {
              "config": {
                "plotlyServerURL": "https://plot.ly"
              },
              "data": [
                {
                  "hovertext": "<b>Topic -1</b>:the_to_and_of_is_user_for_maga_in_",
                  "line": {
                    "color": "black",
                    "width": 1.5
                  },
                  "mode": "lines+lines",
                  "name": "",
                  "opacity": 0.1,
                  "type": "scatter",
                  "x": [
                    1,
                    2,
                    3,
                    4,
                    5,
                    6,
                    7,
                    8,
                    9,
                    10
                  ],
                  "y": [
                    0.011531156054499418,
                    0.010651058425723605,
                    0.010141036322504066,
                    0.010009881972049063,
                    0.0099755394923038,
                    0.008679504632257628,
                    0.00867516831117758,
                    0.008617786455307563,
                    0.008478880836324072,
                    0.008291128449503662
                  ]
                },
                {
                  "hovertext": "<b>Topic 0</b>:she_you_is_he_are_user_so_her_my_an",
                  "line": {
                    "color": "black",
                    "width": 1.5
                  },
                  "mode": "lines+lines",
                  "name": "",
                  "opacity": 0.1,
                  "type": "scatter",
                  "x": [
                    1,
                    2,
                    3,
                    4,
                    5,
                    6,
                    7,
                    8,
                    9,
                    10
                  ],
                  "y": [
                    0.0173730174425522,
                    0.016186000697208297,
                    0.015577656415977392,
                    0.01446195579029714,
                    0.01264298189281647,
                    0.011992767379114144,
                    0.01015309665621157,
                    0.009845335570103374,
                    0.009781543748438974,
                    0.009358215443579553
                  ]
                },
                {
                  "hovertext": "<b>Topic 1</b>:gun_control_guns_laws_the_to_about_",
                  "line": {
                    "color": "black",
                    "width": 1.5
                  },
                  "mode": "lines+lines",
                  "name": "",
                  "opacity": 0.1,
                  "type": "scatter",
                  "x": [
                    1,
                    2,
                    3,
                    4,
                    5,
                    6,
                    7,
                    8,
                    9,
                    10
                  ],
                  "y": [
                    0.05347613418520363,
                    0.048700634960665456,
                    0.016109097585493996,
                    0.015284830710707754,
                    0.011425986920192449,
                    0.010305182507985337,
                    0.010236323007264101,
                    0.00996164892055726,
                    0.009427608011938872,
                    0.009118590531542467
                  ]
                },
                {
                  "hovertext": "<b>Topic 2</b>:liberals_they_user_their_the_are_li",
                  "line": {
                    "color": "black",
                    "width": 1.5
                  },
                  "mode": "lines+lines",
                  "name": "",
                  "opacity": 0.1,
                  "type": "scatter",
                  "x": [
                    1,
                    2,
                    3,
                    4,
                    5,
                    6,
                    7,
                    8,
                    9,
                    10
                  ],
                  "y": [
                    0.06391456792348037,
                    0.015869009463447378,
                    0.012703870062657845,
                    0.011887328987158675,
                    0.011805236602629283,
                    0.011011914728387424,
                    0.01094433248121342,
                    0.010478033308467805,
                    0.009968082666122684,
                    0.009390836046472421
                  ]
                },
                {
                  "hovertext": "<b>Topic 3</b>:antifa_user_they_your_to_you_of_the",
                  "line": {
                    "color": "black",
                    "width": 1.5
                  },
                  "mode": "lines+lines",
                  "name": "",
                  "opacity": 0.1,
                  "type": "scatter",
                  "x": [
                    1,
                    2,
                    3,
                    4,
                    5,
                    6,
                    7,
                    8,
                    9,
                    10
                  ],
                  "y": [
                    0.08647113888942999,
                    0.012708773313813485,
                    0.012215241936493256,
                    0.011437676457351194,
                    0.011162308286848556,
                    0.010280503278194537,
                    0.009995154602385183,
                    0.009476538086258353,
                    0.009347319410608674,
                    0.009222031095495985
                  ]
                },
                {
                  "hovertext": "<b>Topic 4</b>:conservatives_they_the_and_are_cons",
                  "line": {
                    "color": "black",
                    "width": 1.5
                  },
                  "mode": "lines+lines",
                  "name": "",
                  "opacity": 0.1,
                  "type": "scatter",
                  "x": [
                    1,
                    2,
                    3,
                    4,
                    5,
                    6,
                    7,
                    8,
                    9,
                    10
                  ],
                  "y": [
                    0.059203806323968905,
                    0.013283014614659912,
                    0.012495379134312659,
                    0.012228928206864964,
                    0.011677043979975692,
                    0.011386216614992244,
                    0.011299661124644759,
                    0.010699121344271987,
                    0.01064143938767806,
                    0.010306234324183946
                  ]
                },
                {
                  "hovertext": "<b>Topic 5</b>:kavanaugh_maga_judge_vote_to_ford_w",
                  "line": {
                    "color": "black",
                    "width": 1.5
                  },
                  "mode": "lines+lines",
                  "name": "",
                  "opacity": 0.1,
                  "type": "scatter",
                  "x": [
                    1,
                    2,
                    3,
                    4,
                    5,
                    6,
                    7,
                    8,
                    9,
                    10
                  ],
                  "y": [
                    0.07657703281482937,
                    0.018574600343538385,
                    0.013962768494003545,
                    0.01172109812127814,
                    0.011527925674984856,
                    0.011347174864725557,
                    0.011150911510317886,
                    0.010958598005897165,
                    0.010761907240930698,
                    0.010728635628392148
                  ]
                },
                {
                  "hovertext": "<b>Topic 6</b>:brexit_uk_tories_eu_labour_the_tory",
                  "line": {
                    "color": "black",
                    "width": 1.5
                  },
                  "mode": "lines+lines",
                  "name": "",
                  "opacity": 0.1,
                  "type": "scatter",
                  "x": [
                    1,
                    2,
                    3,
                    4,
                    5,
                    6,
                    7,
                    8,
                    9,
                    10
                  ],
                  "y": [
                    0.04010868200890305,
                    0.02618719539538716,
                    0.023064328954920846,
                    0.022513374220117715,
                    0.021709895735410316,
                    0.017780033032509062,
                    0.016915113010802934,
                    0.01664113893700536,
                    0.01257931961083575,
                    0.01214482503974546
                  ]
                },
                {
                  "hovertext": "<b>Topic 7</b>:user_treph_follow_gt_you_lt_followi",
                  "line": {
                    "color": "black",
                    "width": 1.5
                  },
                  "mode": "lines+lines",
                  "name": "",
                  "opacity": 0.1,
                  "type": "scatter",
                  "x": [
                    1,
                    2,
                    3,
                    4,
                    5,
                    6,
                    7,
                    8,
                    9,
                    10
                  ],
                  "y": [
                    0.07706918686945029,
                    0.006935649461187501,
                    0.0066837337552369674,
                    0.005447602339878381,
                    0.005146658054720053,
                    0.004863922212371786,
                    0.004065959879435081,
                    0.003987655676574538,
                    0.003821181470936954,
                    0.003376241608278706
                  ]
                },
                {
                  "hovertext": "<b>Topic 8</b>:canada_trudeau_liberals_ndp_canadia",
                  "line": {
                    "color": "black",
                    "width": 1.5
                  },
                  "mode": "lines+lines",
                  "name": "",
                  "opacity": 0.1,
                  "type": "scatter",
                  "x": [
                    1,
                    2,
                    3,
                    4,
                    5,
                    6,
                    7,
                    8,
                    9,
                    10
                  ],
                  "y": [
                    0.04654817827789151,
                    0.04435972858279374,
                    0.024156800500865903,
                    0.023503233513099013,
                    0.023066305712114713,
                    0.022209816190794644,
                    0.02137779400558801,
                    0.016665885432620094,
                    0.015618197437210667,
                    0.014545468574617852
                  ]
                },
                {
                  "hovertext": "<b>Topic 9</b>:women_liberals_sexual_conservatives",
                  "line": {
                    "color": "black",
                    "width": 1.5
                  },
                  "mode": "lines+lines",
                  "name": "",
                  "opacity": 0.1,
                  "type": "scatter",
                  "x": [
                    1,
                    2,
                    3,
                    4,
                    5,
                    6,
                    7,
                    8,
                    9,
                    10
                  ],
                  "y": [
                    0.04067232359565909,
                    0.019541273281619836,
                    0.018770675521063592,
                    0.016933517918202624,
                    0.014364941495658038,
                    0.014328275107808174,
                    0.012905039768649108,
                    0.012262692178832038,
                    0.012133502144762456,
                    0.011881236992956902
                  ]
                },
                {
                  "hovertext": "<b>Topic 10</b>:maga_qanon_they_whine_wwg1wga_on_u",
                  "line": {
                    "color": "black",
                    "width": 1.5
                  },
                  "mode": "lines+lines",
                  "name": "",
                  "opacity": 0.1,
                  "type": "scatter",
                  "x": [
                    1,
                    2,
                    3,
                    4,
                    5,
                    6,
                    7,
                    8,
                    9,
                    10
                  ],
                  "y": [
                    0.1006893743746227,
                    0.01477794171355912,
                    0.013557190486987763,
                    0.013277048831540584,
                    0.012483137070258402,
                    0.011969599235378584,
                    0.011776294660273488,
                    0.011519614897428568,
                    0.011457955881486789,
                    0.011359803096140968
                  ]
                },
                {
                  "hovertext": "<b>Topic 11</b>:president_trump_he_donald_is_moore",
                  "line": {
                    "color": "black",
                    "width": 1.5
                  },
                  "mode": "lines+lines",
                  "name": "",
                  "opacity": 0.1,
                  "type": "scatter",
                  "x": [
                    1,
                    2,
                    3,
                    4,
                    5,
                    6,
                    7,
                    8,
                    9,
                    10
                  ],
                  "y": [
                    0.051279531157731005,
                    0.0456913711558946,
                    0.027873114555136785,
                    0.02314089260426367,
                    0.016570549508019457,
                    0.013891001402719587,
                    0.012781560766511199,
                    0.011860778722929644,
                    0.01137721114388688,
                    0.011085788192919232
                  ]
                },
                {
                  "hovertext": "<b>Topic 12</b>:racist_black_white_race_people_col",
                  "line": {
                    "color": "black",
                    "width": 1.5
                  },
                  "mode": "lines+lines",
                  "name": "",
                  "opacity": 0.1,
                  "type": "scatter",
                  "x": [
                    1,
                    2,
                    3,
                    4,
                    5,
                    6,
                    7,
                    8,
                    9,
                    10
                  ],
                  "y": [
                    0.043890750594368616,
                    0.03972106071052653,
                    0.03690075905794559,
                    0.029797463323206964,
                    0.01747797332123088,
                    0.016418062762898044,
                    0.013981253764977192,
                    0.013560910689041458,
                    0.012018953922487374,
                    0.01168664369936582
                  ]
                },
                {
                  "hovertext": "<b>Topic 13</b>:nfl_football_he_game_the_players_y",
                  "line": {
                    "color": "black",
                    "width": 1.5
                  },
                  "mode": "lines+lines",
                  "name": "",
                  "opacity": 0.1,
                  "type": "scatter",
                  "x": [
                    1,
                    2,
                    3,
                    4,
                    5,
                    6,
                    7,
                    8,
                    9,
                    10
                  ],
                  "y": [
                    0.08143470388178782,
                    0.030456572761650865,
                    0.02514104547871838,
                    0.016902048298471178,
                    0.016761226045705187,
                    0.016610301950335866,
                    0.014356058591551923,
                    0.013857697772216748,
                    0.013257304530846054,
                    0.012616124535578577
                  ]
                },
                {
                  "hovertext": "<b>Topic 14</b>:lying_she_liar_her_lie_is_lies_pai",
                  "line": {
                    "color": "black",
                    "width": 1.5
                  },
                  "mode": "lines+lines",
                  "name": "",
                  "opacity": 0.1,
                  "type": "scatter",
                  "x": [
                    1,
                    2,
                    3,
                    4,
                    5,
                    6,
                    7,
                    8,
                    9,
                    10
                  ],
                  "y": [
                    0.04242813671333452,
                    0.0399311712450334,
                    0.02820280107328526,
                    0.020393977461128945,
                    0.019546368597200436,
                    0.019431158270438745,
                    0.015059319807580823,
                    0.011848073771994903,
                    0.01170582056581898,
                    0.011421686474196512
                  ]
                },
                {
                  "hovertext": "<b>Topic 15</b>:god_religion_hero_user_christian_h",
                  "line": {
                    "color": "black",
                    "width": 1.5
                  },
                  "mode": "lines+lines",
                  "name": "",
                  "opacity": 0.1,
                  "type": "scatter",
                  "x": [
                    1,
                    2,
                    3,
                    4,
                    5,
                    6,
                    7,
                    8,
                    9,
                    10
                  ],
                  "y": [
                    0.06394499538544393,
                    0.023700815739794243,
                    0.02296875763586161,
                    0.02130012239241992,
                    0.020718345396385816,
                    0.01672443250967097,
                    0.01606248660686295,
                    0.015832391483846235,
                    0.015820283689715366,
                    0.014925616830236556
                  ]
                },
                {
                  "hovertext": "<b>Topic 16</b>:antifa_violence_far_left_democrats",
                  "line": {
                    "color": "black",
                    "width": 1.5
                  },
                  "mode": "lines+lines",
                  "name": "",
                  "opacity": 0.1,
                  "type": "scatter",
                  "x": [
                    1,
                    2,
                    3,
                    4,
                    5,
                    6,
                    7,
                    8,
                    9,
                    10
                  ],
                  "y": [
                    0.05437406301195532,
                    0.025228655307157264,
                    0.022607477939181806,
                    0.019783550564402997,
                    0.019149218203133877,
                    0.017093320095892626,
                    0.01642776830810243,
                    0.016329578262131796,
                    0.015341317329851424,
                    0.014241582214004142
                  ]
                },
                {
                  "hovertext": "<b>Topic 17</b>:nazis_antifa_fascist_fascism_anti_",
                  "line": {
                    "color": "black",
                    "width": 1.5
                  },
                  "mode": "lines+lines",
                  "name": "",
                  "opacity": 0.1,
                  "type": "scatter",
                  "x": [
                    1,
                    2,
                    3,
                    4,
                    5,
                    6,
                    7,
                    8,
                    9,
                    10
                  ],
                  "y": [
                    0.05278905451235488,
                    0.04440602128041838,
                    0.03690495471320212,
                    0.03084955319494496,
                    0.028218436761387956,
                    0.024921971527176207,
                    0.02104119266944117,
                    0.013390899686568782,
                    0.01334493581035256,
                    0.013217906765681306
                  ]
                },
                {
                  "hovertext": "<b>Topic 18</b>:holder_prison_jail_eric_should_be_",
                  "line": {
                    "color": "black",
                    "width": 1.5
                  },
                  "mode": "lines+lines",
                  "name": "",
                  "opacity": 0.1,
                  "type": "scatter",
                  "x": [
                    1,
                    2,
                    3,
                    4,
                    5,
                    6,
                    7,
                    8,
                    9,
                    10
                  ],
                  "y": [
                    0.05794766965113478,
                    0.05407635695169169,
                    0.04204499705148272,
                    0.03239425869711232,
                    0.025795937335007887,
                    0.02316384530567743,
                    0.01828823797160859,
                    0.017075360521875662,
                    0.01638419926017063,
                    0.015645071195939622
                  ]
                },
                {
                  "hovertext": "<b>Topic 19</b>:bitch_bitches_bad_me_popped_bitchi",
                  "line": {
                    "color": "black",
                    "width": 1.5
                  },
                  "mode": "lines+lines",
                  "name": "",
                  "opacity": 0.1,
                  "type": "scatter",
                  "x": [
                    1,
                    2,
                    3,
                    4,
                    5,
                    6,
                    7,
                    8,
                    9,
                    10
                  ],
                  "y": [
                    0.316378710009311,
                    0.09146584470385821,
                    0.028961931412245553,
                    0.027167150615229386,
                    0.025734920687283426,
                    0.025734920687283426,
                    0.02384880641073767,
                    0.022765013252049528,
                    0.02246875268701066,
                    0.02211477014858222
                  ]
                },
                {
                  "hovertext": "<b>Topic 20</b>:patriots_user_maga_following_follo",
                  "line": {
                    "color": "black",
                    "width": 1.5
                  },
                  "mode": "lines+lines",
                  "name": "",
                  "opacity": 0.1,
                  "type": "scatter",
                  "x": [
                    1,
                    2,
                    3,
                    4,
                    5,
                    6,
                    7,
                    8,
                    9,
                    10
                  ],
                  "y": [
                    0.06579645537096801,
                    0.055510974067987634,
                    0.04703906335401288,
                    0.03813121272687304,
                    0.0352581237071133,
                    0.032626501203457975,
                    0.02354997966378549,
                    0.01963335337330215,
                    0.018477753021713082,
                    0.017533631732089976
                  ]
                },
                {
                  "hovertext": "<b>Topic 21</b>:obama_he_president_trump_was_bitte",
                  "line": {
                    "color": "black",
                    "width": 1.5
                  },
                  "mode": "lines+lines",
                  "name": "",
                  "opacity": 0.1,
                  "type": "scatter",
                  "x": [
                    1,
                    2,
                    3,
                    4,
                    5,
                    6,
                    7,
                    8,
                    9,
                    10
                  ],
                  "y": [
                    0.0842639259196416,
                    0.028890394937197944,
                    0.02577021653170028,
                    0.017621939146959177,
                    0.016231682632270514,
                    0.01605976642664332,
                    0.015486169989826975,
                    0.014701786791784934,
                    0.013806560980691185,
                    0.013731211266858126
                  ]
                },
                {
                  "hovertext": "<b>Topic 22</b>:user_antifa_disabled_fight_dresses",
                  "line": {
                    "color": "black",
                    "width": 1.5
                  },
                  "mode": "lines+lines",
                  "name": "",
                  "opacity": 0.1,
                  "type": "scatter",
                  "x": [
                    1,
                    2,
                    3,
                    4,
                    5,
                    6,
                    7,
                    8,
                    9,
                    10
                  ],
                  "y": [
                    0.06792986559386069,
                    0.03083377281534801,
                    0.00828626180302928,
                    0.007082412240877113,
                    0.005827553870013134,
                    0.005663140274350733,
                    0.005431383934212424,
                    0.005297721497020892,
                    0.005038700317342686,
                    0.004900018511970883
                  ]
                },
                {
                  "hovertext": "<b>Topic 23</b>:pope_catholic_church_satan_francis",
                  "line": {
                    "color": "black",
                    "width": 1.5
                  },
                  "mode": "lines+lines",
                  "name": "",
                  "opacity": 0.1,
                  "type": "scatter",
                  "x": [
                    1,
                    2,
                    3,
                    4,
                    5,
                    6,
                    7,
                    8,
                    9,
                    10
                  ],
                  "y": [
                    0.14235789682558528,
                    0.04381410235524174,
                    0.04321297379113413,
                    0.04092809986077145,
                    0.03564144825472121,
                    0.025432560364504038,
                    0.02394931230447108,
                    0.023076119489204974,
                    0.022123524461837792,
                    0.01798117290414951
                  ]
                },
                {
                  "hovertext": "<b>Topic 24</b>:nigga_niggas_nigger_ehen_dey_ass_s",
                  "line": {
                    "color": "black",
                    "width": 1.5
                  },
                  "mode": "lines+lines",
                  "name": "",
                  "opacity": 0.1,
                  "type": "scatter",
                  "x": [
                    1,
                    2,
                    3,
                    4,
                    5,
                    6,
                    7,
                    8,
                    9,
                    10
                  ],
                  "y": [
                    0.19874679653439467,
                    0.12500811032924564,
                    0.03838950025318107,
                    0.027082518927674996,
                    0.025593000168787378,
                    0.022129847293593196,
                    0.021733854842025085,
                    0.02026299882744361,
                    0.020213652771563437,
                    0.018825411443318764
                  ]
                },
                {
                  "hovertext": "<b>Topic 25</b>:serena_tennis_her_she_williams_was",
                  "line": {
                    "color": "black",
                    "width": 1.5
                  },
                  "mode": "lines+lines",
                  "name": "",
                  "opacity": 0.1,
                  "type": "scatter",
                  "x": [
                    1,
                    2,
                    3,
                    4,
                    5,
                    6,
                    7,
                    8,
                    9,
                    10
                  ],
                  "y": [
                    0.08861782740963692,
                    0.0509421280241159,
                    0.0368396070569161,
                    0.03403128273153123,
                    0.033896471095995605,
                    0.022700384845848364,
                    0.02232666086437502,
                    0.021033914645539695,
                    0.020291360767462543,
                    0.019612662627631342
                  ]
                },
                {
                  "hovertext": "<b>Topic 26</b>:housing_affordable_associations_so",
                  "line": {
                    "color": "black",
                    "width": 1.5
                  },
                  "mode": "lines+lines",
                  "name": "",
                  "opacity": 0.1,
                  "type": "scatter",
                  "x": [
                    1,
                    2,
                    3,
                    4,
                    5,
                    6,
                    7,
                    8,
                    9,
                    10
                  ],
                  "y": [
                    0.09714671817121727,
                    0.039689746713615984,
                    0.039329129292751314,
                    0.0338109256487018,
                    0.03211786722219654,
                    0.031147226009419497,
                    0.030589322783251025,
                    0.02913342821646853,
                    0.02853913330974019,
                    0.02808987279669276
                  ]
                },
                {
                  "hovertext": "<b>Topic 27</b>:maga_trump_trump2020_wwg1wga_monda",
                  "line": {
                    "color": "black",
                    "width": 1.5
                  },
                  "mode": "lines+lines",
                  "name": "",
                  "opacity": 0.1,
                  "type": "scatter",
                  "x": [
                    1,
                    2,
                    3,
                    4,
                    5,
                    6,
                    7,
                    8,
                    9,
                    10
                  ],
                  "y": [
                    0.09526953155609569,
                    0.05360838970651848,
                    0.03968712225261518,
                    0.038417491228468714,
                    0.035516816560766155,
                    0.03212609000828412,
                    0.031200312299161263,
                    0.029921314781643508,
                    0.025864963955835412,
                    0.025266594222275684
                  ]
                },
                {
                  "hovertext": "<b>Topic 28</b>:he_his_him_catcher_sox_option_seas",
                  "line": {
                    "color": "black",
                    "width": 1.5
                  },
                  "mode": "lines+lines",
                  "name": "",
                  "opacity": 0.1,
                  "type": "scatter",
                  "x": [
                    1,
                    2,
                    3,
                    4,
                    5,
                    6,
                    7,
                    8,
                    9,
                    10
                  ],
                  "y": [
                    0.03669345425274362,
                    0.020323504644203655,
                    0.019808501698901457,
                    0.01939079678526509,
                    0.01939079678526509,
                    0.019217324857485823,
                    0.01864830822491614,
                    0.018433154686300003,
                    0.016682376072079782,
                    0.016043265988191346
                  ]
                },
                {
                  "hovertext": "<b>Topic 29</b>:soros_antifa_terrorist_george_grou",
                  "line": {
                    "color": "black",
                    "width": 1.5
                  },
                  "mode": "lines+lines",
                  "name": "",
                  "opacity": 0.1,
                  "type": "scatter",
                  "x": [
                    1,
                    2,
                    3,
                    4,
                    5,
                    6,
                    7,
                    8,
                    9,
                    10
                  ],
                  "y": [
                    0.14824077592708207,
                    0.0481096772146351,
                    0.02063067592951305,
                    0.019772735696543503,
                    0.01656122034849333,
                    0.01621854162653965,
                    0.01621854162653965,
                    0.0156770404230973,
                    0.014952075107931147,
                    0.014767303657899803
                  ]
                },
                {
                  "hovertext": "<b>Topic 30</b>:court_guilty_proven_innocent_judge",
                  "line": {
                    "color": "black",
                    "width": 1.5
                  },
                  "mode": "lines+lines",
                  "name": "",
                  "opacity": 0.1,
                  "type": "scatter",
                  "x": [
                    1,
                    2,
                    3,
                    4,
                    5,
                    6,
                    7,
                    8,
                    9,
                    10
                  ],
                  "y": [
                    0.0352457907871422,
                    0.03237693216237506,
                    0.02999013775700166,
                    0.029390386050462736,
                    0.027463104664661613,
                    0.024716522699961083,
                    0.023406119413524426,
                    0.021632807957116345,
                    0.020033794559546025,
                    0.018788500350768015
                  ]
                },
                {
                  "hovertext": "<b>Topic 31</b>:liberals_zero_how_minute_lie_and_u",
                  "line": {
                    "color": "black",
                    "width": 1.5
                  },
                  "mode": "lines+lines",
                  "name": "",
                  "opacity": 0.1,
                  "type": "scatter",
                  "x": [
                    1,
                    2,
                    3,
                    4,
                    5,
                    6,
                    7,
                    8,
                    9,
                    10
                  ],
                  "y": [
                    0.043927744324312276,
                    0.020816929128384898,
                    0.018016174284140936,
                    0.017780978411952086,
                    0.016797388413936278,
                    0.015571103381094874,
                    0.01447786696681343,
                    0.014362190798868869,
                    0.014171916933732064,
                    0.013574950765533576
                  ]
                },
                {
                  "hovertext": "<b>Topic 32</b>:kkk_beating_antifa_hoods_strangers",
                  "line": {
                    "color": "black",
                    "width": 1.5
                  },
                  "mode": "lines+lines",
                  "name": "",
                  "opacity": 0.1,
                  "type": "scatter",
                  "x": [
                    1,
                    2,
                    3,
                    4,
                    5,
                    6,
                    7,
                    8,
                    9,
                    10
                  ],
                  "y": [
                    0.07433219402864152,
                    0.03745960297052025,
                    0.036991413948028844,
                    0.036636067332008894,
                    0.036112404294681474,
                    0.033260785195543346,
                    0.030885655796119963,
                    0.03003503977238197,
                    0.025201269487975388,
                    0.025177639475834422
                  ]
                },
                {
                  "hovertext": "<b>Topic 33</b>:kag_maga_qanon_wwg1wga_krav_qarmy_",
                  "line": {
                    "color": "black",
                    "width": 1.5
                  },
                  "mode": "lines+lines",
                  "name": "",
                  "opacity": 0.1,
                  "type": "scatter",
                  "x": [
                    1,
                    2,
                    3,
                    4,
                    5,
                    6,
                    7,
                    8,
                    9,
                    10
                  ],
                  "y": [
                    0.12920859430479098,
                    0.11427679427781368,
                    0.10557127353338445,
                    0.08755614279976591,
                    0.050008543675228986,
                    0.04546184261396998,
                    0.03929870492514528,
                    0.03806948397068527,
                    0.030914962920886253,
                    0.03030789507597999
                  ]
                },
                {
                  "hovertext": "<b>Topic 34</b>:abortion_babies_metoo_women_aborti",
                  "line": {
                    "color": "black",
                    "width": 1.5
                  },
                  "mode": "lines+lines",
                  "name": "",
                  "opacity": 0.1,
                  "type": "scatter",
                  "x": [
                    1,
                    2,
                    3,
                    4,
                    5,
                    6,
                    7,
                    8,
                    9,
                    10
                  ],
                  "y": [
                    0.0684699431009001,
                    0.030280737064956688,
                    0.027226120342240114,
                    0.026911269932841514,
                    0.025666719687640786,
                    0.021663945239946285,
                    0.019758084498672446,
                    0.018258651493573363,
                    0.01739366689493805,
                    0.016308753332711645
                  ]
                },
                {
                  "hovertext": "<b>Topic 35</b>:mueller_trump_ashwariya_vote_hire_",
                  "line": {
                    "color": "black",
                    "width": 1.5
                  },
                  "mode": "lines+lines",
                  "name": "",
                  "opacity": 0.1,
                  "type": "scatter",
                  "x": [
                    1,
                    2,
                    3,
                    4,
                    5,
                    6,
                    7,
                    8,
                    9,
                    10
                  ],
                  "y": [
                    0.053828748385121326,
                    0.03441237243169527,
                    0.022799004517173035,
                    0.020232871383266106,
                    0.020028148069767274,
                    0.01892788510875494,
                    0.01797395925091334,
                    0.017924539863547074,
                    0.01608394137189432,
                    0.01608394137189432
                  ]
                },
                {
                  "hovertext": "<b>Topic 36</b>:antifa_violence_war_afd_groups_con",
                  "line": {
                    "color": "black",
                    "width": 1.5
                  },
                  "mode": "lines+lines",
                  "name": "",
                  "opacity": 0.1,
                  "type": "scatter",
                  "x": [
                    1,
                    2,
                    3,
                    4,
                    5,
                    6,
                    7,
                    8,
                    9,
                    10
                  ],
                  "y": [
                    0.0608991413930531,
                    0.03269969504874619,
                    0.02256181395870781,
                    0.021198403304539853,
                    0.019611344383899297,
                    0.019205553609557027,
                    0.01856432268807062,
                    0.016300827392186547,
                    0.015609555374825232,
                    0.015120385531665195
                  ]
                },
                {
                  "hovertext": "<b>Topic 37</b>:puerto_rico_rican_hurricane_died_m",
                  "line": {
                    "color": "black",
                    "width": 1.5
                  },
                  "mode": "lines+lines",
                  "name": "",
                  "opacity": 0.1,
                  "type": "scatter",
                  "x": [
                    1,
                    2,
                    3,
                    4,
                    5,
                    6,
                    7,
                    8,
                    9,
                    10
                  ],
                  "y": [
                    0.14001249416096623,
                    0.10216983863134503,
                    0.04414856537821311,
                    0.03983065308315018,
                    0.03862154527469764,
                    0.03069899423036729,
                    0.026187048128161288,
                    0.02286346887211127,
                    0.021532609896604254,
                    0.02028004397803061
                  ]
                },
                {
                  "hovertext": "<b>Topic 38</b>:cnn_network_trusted_democrat_liber",
                  "line": {
                    "color": "black",
                    "width": 1.5
                  },
                  "mode": "lines+lines",
                  "name": "",
                  "opacity": 0.1,
                  "type": "scatter",
                  "x": [
                    1,
                    2,
                    3,
                    4,
                    5,
                    6,
                    7,
                    8,
                    9,
                    10
                  ],
                  "y": [
                    0.04968184815048426,
                    0.026704197426356366,
                    0.023106631549593363,
                    0.021625556626925915,
                    0.02160806919009698,
                    0.02144525516252576,
                    0.02144525516252576,
                    0.021383661591600017,
                    0.0202657817930427,
                    0.016490647798500218
                  ]
                },
                {
                  "hovertext": "<b>Topic 39</b>:emmys_republican_india_unfunny_war",
                  "line": {
                    "color": "black",
                    "width": 1.5
                  },
                  "mode": "lines+lines",
                  "name": "",
                  "opacity": 0.1,
                  "type": "scatter",
                  "x": [
                    1,
                    2,
                    3,
                    4,
                    5,
                    6,
                    7,
                    8,
                    9,
                    10
                  ],
                  "y": [
                    0.04541024302045224,
                    0.030439393253933734,
                    0.027812975689129462,
                    0.019359908405591587,
                    0.019359908405591587,
                    0.018295127584520808,
                    0.01788131612675897,
                    0.014744468878022797,
                    0.014672088950116974,
                    0.014271462879163664
                  ]
                },
                {
                  "hovertext": "<b>Topic 40</b>:maga_trump_babes_2020_give_take_1p",
                  "line": {
                    "color": "black",
                    "width": 1.5
                  },
                  "mode": "lines+lines",
                  "name": "",
                  "opacity": 0.1,
                  "type": "scatter",
                  "x": [
                    1,
                    2,
                    3,
                    4,
                    5,
                    6,
                    7,
                    8,
                    9,
                    10
                  ],
                  "y": [
                    0.20742099544294623,
                    0.07403462460630753,
                    0.045725856406121805,
                    0.040692053840503346,
                    0.040498875493998235,
                    0.040498875493998235,
                    0.040498875493998235,
                    0.040498875493998235,
                    0.040498875493998235,
                    0.040498875493998235
                  ]
                },
                {
                  "hovertext": "<b>Topic 41</b>:antifa_domestic_terrorist_terroris",
                  "line": {
                    "color": "black",
                    "width": 1.5
                  },
                  "mode": "lines+lines",
                  "name": "",
                  "opacity": 0.1,
                  "type": "scatter",
                  "x": [
                    1,
                    2,
                    3,
                    4,
                    5,
                    6,
                    7,
                    8,
                    9,
                    10
                  ],
                  "y": [
                    0.053141176597086615,
                    0.05261586665705193,
                    0.05083546793409953,
                    0.047918927600922284,
                    0.04390839215678486,
                    0.029972738978986824,
                    0.02818049506279891,
                    0.022055224994992812,
                    0.020842203730269963,
                    0.01998182598599122
                  ]
                },
                {
                  "hovertext": "<b>Topic 42</b>:texas_conservatives_democrats_yes_",
                  "line": {
                    "color": "black",
                    "width": 1.5
                  },
                  "mode": "lines+lines",
                  "name": "",
                  "opacity": 0.1,
                  "type": "scatter",
                  "x": [
                    1,
                    2,
                    3,
                    4,
                    5,
                    6,
                    7,
                    8,
                    9,
                    10
                  ],
                  "y": [
                    0.05503018943843385,
                    0.037685721036279575,
                    0.0342482000262781,
                    0.023832570329934865,
                    0.023496999194895552,
                    0.022675231419902825,
                    0.021739185274661458,
                    0.020147588943535053,
                    0.01994570289938659,
                    0.019485489658604204
                  ]
                },
                {
                  "hovertext": "<b>Topic 43</b>:she_home_police_her_inciting_accou",
                  "line": {
                    "color": "black",
                    "width": 1.5
                  },
                  "mode": "lines+lines",
                  "name": "",
                  "opacity": 0.1,
                  "type": "scatter",
                  "x": [
                    1,
                    2,
                    3,
                    4,
                    5,
                    6,
                    7,
                    8,
                    9,
                    10
                  ],
                  "y": [
                    0.03870779398835179,
                    0.028119272790998937,
                    0.02153662072355677,
                    0.020112975678106423,
                    0.01970182876999595,
                    0.017573713158526048,
                    0.017030905717840113,
                    0.016498197420666515,
                    0.016498197420666515,
                    0.015948506517011254
                  ]
                },
                {
                  "hovertext": "<b>Topic 44</b>:her_she_woman_threats_said_council",
                  "line": {
                    "color": "black",
                    "width": 1.5
                  },
                  "mode": "lines+lines",
                  "name": "",
                  "opacity": 0.1,
                  "type": "scatter",
                  "x": [
                    1,
                    2,
                    3,
                    4,
                    5,
                    6,
                    7,
                    8,
                    9,
                    10
                  ],
                  "y": [
                    0.029974778505589182,
                    0.028843508037047848,
                    0.028572537042064042,
                    0.024583676507210845,
                    0.01821332087625471,
                    0.017820907554929415,
                    0.01708849950569894,
                    0.016700531794247995,
                    0.01632913540890683,
                    0.016222493071877942
                  ]
                },
                {
                  "hovertext": "<b>Topic 45</b>:kerry_tommy_rat_woodward_sources_n",
                  "line": {
                    "color": "black",
                    "width": 1.5
                  },
                  "mode": "lines+lines",
                  "name": "",
                  "opacity": 0.1,
                  "type": "scatter",
                  "x": [
                    1,
                    2,
                    3,
                    4,
                    5,
                    6,
                    7,
                    8,
                    9,
                    10
                  ],
                  "y": [
                    0.05680970916257387,
                    0.020472177543929652,
                    0.01978865685308141,
                    0.018349832285863468,
                    0.017989502138656834,
                    0.017548549511382655,
                    0.01738842793871751,
                    0.01710994248864526,
                    0.016635579451615656,
                    0.0164283510219856
                  ]
                },
                {
                  "hovertext": "<b>Topic 46</b>:superman_batman_films_pic_steel_da",
                  "line": {
                    "color": "black",
                    "width": 1.5
                  },
                  "mode": "lines+lines",
                  "name": "",
                  "opacity": 0.1,
                  "type": "scatter",
                  "x": [
                    1,
                    2,
                    3,
                    4,
                    5,
                    6,
                    7,
                    8,
                    9,
                    10
                  ],
                  "y": [
                    0.10561002153666624,
                    0.045246982232685196,
                    0.03539642057242458,
                    0.033727804024447174,
                    0.0318767607646081,
                    0.028361904667618745,
                    0.02497100050280542,
                    0.02497100050280542,
                    0.023597613714949717,
                    0.023597613714949717
                  ]
                },
                {
                  "hovertext": "<b>Topic 47</b>:maga_thank_president_usa_rbg_bless",
                  "line": {
                    "color": "black",
                    "width": 1.5
                  },
                  "mode": "lines+lines",
                  "name": "",
                  "opacity": 0.1,
                  "type": "scatter",
                  "x": [
                    1,
                    2,
                    3,
                    4,
                    5,
                    6,
                    7,
                    8,
                    9,
                    10
                  ],
                  "y": [
                    0.09681120661505528,
                    0.0704009911600683,
                    0.05666028702774168,
                    0.04699168361598018,
                    0.04397877700494089,
                    0.04095075945085214,
                    0.030541021224779818,
                    0.02894304172865156,
                    0.028710761205305215,
                    0.02602151480347082
                  ]
                },
                {
                  "hovertext": "<b>Topic 48</b>:jesus_arguing_rule_democrats_conse",
                  "line": {
                    "color": "black",
                    "width": 1.5
                  },
                  "mode": "lines+lines",
                  "name": "",
                  "opacity": 0.1,
                  "type": "scatter",
                  "x": [
                    1,
                    2,
                    3,
                    4,
                    5,
                    6,
                    7,
                    8,
                    9,
                    10
                  ],
                  "y": [
                    0.043842759283605814,
                    0.0344429052415877,
                    0.03288206946270436,
                    0.0294680420629691,
                    0.027669994279552357,
                    0.02432430714238461,
                    0.023728334640613812,
                    0.023457886174235814,
                    0.02320298079765945,
                    0.02320298079765945
                  ]
                },
                {
                  "hovertext": "<b>Topic 49</b>:ernie_bert_gay_minds_snuffy_bluewa",
                  "line": {
                    "color": "black",
                    "width": 1.5
                  },
                  "mode": "lines+lines",
                  "name": "",
                  "opacity": 0.1,
                  "type": "scatter",
                  "x": [
                    1,
                    2,
                    3,
                    4,
                    5,
                    6,
                    7,
                    8,
                    9,
                    10
                  ],
                  "y": [
                    0.037690361852915924,
                    0.037690361852915924,
                    0.029186882499868637,
                    0.023669546591291394,
                    0.022700909548004928,
                    0.021452376104499744,
                    0.021452376104499744,
                    0.021392017919515248,
                    0.020566810105766,
                    0.02025076542385858
                  ]
                },
                {
                  "hovertext": "<b>Topic 50</b>:bono_u2_asshole_his_tax_dublin_inc",
                  "line": {
                    "color": "black",
                    "width": 1.5
                  },
                  "mode": "lines+lines",
                  "name": "",
                  "opacity": 0.1,
                  "type": "scatter",
                  "x": [
                    1,
                    2,
                    3,
                    4,
                    5,
                    6,
                    7,
                    8,
                    9,
                    10
                  ],
                  "y": [
                    0.39451618173881253,
                    0.05417351008490402,
                    0.04221261083853516,
                    0.03930873601042922,
                    0.0327068109355344,
                    0.03135905145255116,
                    0.03135905145255116,
                    0.03135905145255116,
                    0.03135905145255116,
                    0.03135905145255116
                  ]
                },
                {
                  "hovertext": "<b>Topic 51</b>:iran_kerry_his_he_transparent_feel",
                  "line": {
                    "color": "black",
                    "width": 1.5
                  },
                  "mode": "lines+lines",
                  "name": "",
                  "opacity": 0.1,
                  "type": "scatter",
                  "x": [
                    1,
                    2,
                    3,
                    4,
                    5,
                    6,
                    7,
                    8,
                    9,
                    10
                  ],
                  "y": [
                    0.06633134791474611,
                    0.050394463093875054,
                    0.0288638432990866,
                    0.027503961698677387,
                    0.02278874409596758,
                    0.020945194490915257,
                    0.02040244736444688,
                    0.019127836150699698,
                    0.018951813689927457,
                    0.018919383084872073
                  ]
                },
                {
                  "hovertext": "<b>Topic 52</b>:birthday_happy_현재_ka_landon_hope_d",
                  "line": {
                    "color": "black",
                    "width": 1.5
                  },
                  "mode": "lines+lines",
                  "name": "",
                  "opacity": 0.1,
                  "type": "scatter",
                  "x": [
                    1,
                    2,
                    3,
                    4,
                    5,
                    6,
                    7,
                    8,
                    9,
                    10
                  ],
                  "y": [
                    0.23397844316971111,
                    0.14906479128387135,
                    0.05954863508404191,
                    0.04533197014355445,
                    0.04533197014355445,
                    0.043707479667799524,
                    0.03924205067548913,
                    0.037401831395916206,
                    0.03473198704517569,
                    0.033732571839057444
                  ]
                },
                {
                  "hovertext": "<b>Topic 53</b>:levi_levistrauss_jeans_takes_sanfr",
                  "line": {
                    "color": "black",
                    "width": 1.5
                  },
                  "mode": "lines+lines",
                  "name": "",
                  "opacity": 0.1,
                  "type": "scatter",
                  "x": [
                    1,
                    2,
                    3,
                    4,
                    5,
                    6,
                    7,
                    8,
                    9,
                    10
                  ],
                  "y": [
                    0.1645000608763797,
                    0.09744709249284345,
                    0.08356349914643185,
                    0.057767819006545255,
                    0.05410333714437954,
                    0.04912145036048623,
                    0.045479638845626245,
                    0.03866464580522765,
                    0.03816810957682694,
                    0.0375149680519639
                  ]
                },
                {
                  "hovertext": "<b>Topic 54</b>:nra_unethical_research_calls_blame",
                  "line": {
                    "color": "black",
                    "width": 1.5
                  },
                  "mode": "lines+lines",
                  "name": "",
                  "opacity": 0.1,
                  "type": "scatter",
                  "x": [
                    1,
                    2,
                    3,
                    4,
                    5,
                    6,
                    7,
                    8,
                    9,
                    10
                  ],
                  "y": [
                    0.18603604808819435,
                    0.15659773196395632,
                    0.133708620039332,
                    0.13284487667456152,
                    0.12861084336526912,
                    0.10998414532818002,
                    0.09431435868573888,
                    0.09165345444015001,
                    0.07805765940726393,
                    0.07805765940726393
                  ]
                },
                {
                  "hovertext": "<b>Topic 55</b>:antifa_shirts_changed_protests_and",
                  "line": {
                    "color": "black",
                    "width": 1.5
                  },
                  "mode": "lines+lines",
                  "name": "",
                  "opacity": 0.1,
                  "type": "scatter",
                  "x": [
                    1,
                    2,
                    3,
                    4,
                    5,
                    6,
                    7,
                    8,
                    9,
                    10
                  ],
                  "y": [
                    0.05639362988045345,
                    0.04716800428479798,
                    0.04325957472700833,
                    0.03537600321359848,
                    0.025004900630209714,
                    0.023674735498773115,
                    0.022496803121208945,
                    0.022263095272098715,
                    0.021684222240733853,
                    0.021078084737170155
                  ]
                },
                {
                  "hovertext": "<b>Topic 56</b>:loan_conservatives_student_roseann",
                  "line": {
                    "color": "black",
                    "width": 1.5
                  },
                  "mode": "lines+lines",
                  "name": "",
                  "opacity": 0.1,
                  "type": "scatter",
                  "x": [
                    1,
                    2,
                    3,
                    4,
                    5,
                    6,
                    7,
                    8,
                    9,
                    10
                  ],
                  "y": [
                    0.037390236284530386,
                    0.033734838950169946,
                    0.029946661965558667,
                    0.029290040351203174,
                    0.029290040351203174,
                    0.029290040351203174,
                    0.029155870736314402,
                    0.027679109526481775,
                    0.027679109526481775,
                    0.027679109526481775
                  ]
                },
                {
                  "hovertext": "<b>Topic 57</b>:blocked_me_scraping_blocklists_inc",
                  "line": {
                    "color": "black",
                    "width": 1.5
                  },
                  "mode": "lines+lines",
                  "name": "",
                  "opacity": 0.1,
                  "type": "scatter",
                  "x": [
                    1,
                    2,
                    3,
                    4,
                    5,
                    6,
                    7,
                    8,
                    9,
                    10
                  ],
                  "y": [
                    0.1693012152274279,
                    0.043284311631397863,
                    0.03856777564569424,
                    0.03856777564569424,
                    0.03856777564569424,
                    0.03856777564569424,
                    0.03494204125298988,
                    0.03377540384347927,
                    0.03282249363196996,
                    0.03131960903241618
                  ]
                },
                {
                  "hovertext": "<b>Topic 58</b>:resign_malam_hell_immediately_govt",
                  "line": {
                    "color": "black",
                    "width": 1.5
                  },
                  "mode": "lines+lines",
                  "name": "",
                  "opacity": 0.1,
                  "type": "scatter",
                  "x": [
                    1,
                    2,
                    3,
                    4,
                    5,
                    6,
                    7,
                    8,
                    9,
                    10
                  ],
                  "y": [
                    0.13570424296104516,
                    0.03981862242339243,
                    0.031420825551626834,
                    0.031132608052760503,
                    0.028949418557661116,
                    0.024527879120350527,
                    0.022608202140426418,
                    0.02178182763055581,
                    0.02178182763055581,
                    0.02178182763055581
                  ]
                },
                {
                  "hovertext": "<b>Topic 59</b>:maga_plants_keepamericagreat_ameri",
                  "line": {
                    "color": "black",
                    "width": 1.5
                  },
                  "mode": "lines+lines",
                  "name": "",
                  "opacity": 0.1,
                  "type": "scatter",
                  "x": [
                    1,
                    2,
                    3,
                    4,
                    5,
                    6,
                    7,
                    8,
                    9,
                    10
                  ],
                  "y": [
                    0.06442390998746668,
                    0.03787375397597737,
                    0.03223185749977512,
                    0.030148509364304993,
                    0.029326390292471825,
                    0.029123586214832003,
                    0.02867784705037714,
                    0.027205237145793728,
                    0.027028785110713043,
                    0.024925241591512264
                  ]
                },
                {
                  "hovertext": "<b>Topic 60</b>:list_account_names_twitter_lists_p",
                  "line": {
                    "color": "black",
                    "width": 1.5
                  },
                  "mode": "lines+lines",
                  "name": "",
                  "opacity": 0.1,
                  "type": "scatter",
                  "x": [
                    1,
                    2,
                    3,
                    4,
                    5,
                    6,
                    7,
                    8,
                    9,
                    10
                  ],
                  "y": [
                    0.13500301928252376,
                    0.11714826188932113,
                    0.11134484055806933,
                    0.10188217213003667,
                    0.09649806185887037,
                    0.09134293577195929,
                    0.0895284031734963,
                    0.07220799552385321,
                    0.06804249271813603,
                    0.06463451892499884
                  ]
                },
                {
                  "hovertext": "<b>Topic 61</b>:news_fake_journalistic_journalists",
                  "line": {
                    "color": "black",
                    "width": 1.5
                  },
                  "mode": "lines+lines",
                  "name": "",
                  "opacity": 0.1,
                  "type": "scatter",
                  "x": [
                    1,
                    2,
                    3,
                    4,
                    5,
                    6,
                    7,
                    8,
                    9,
                    10
                  ],
                  "y": [
                    0.10119303712342466,
                    0.08896732269827164,
                    0.05803417286366145,
                    0.049256847989433264,
                    0.04499360624241789,
                    0.03504033140567673,
                    0.03504033140567673,
                    0.03504033140567673,
                    0.03504033140567673,
                    0.03504033140567673
                  ]
                },
                {
                  "hovertext": "<b>Topic 62</b>:nike_kaepernick_boycottnike_buying",
                  "line": {
                    "color": "black",
                    "width": 1.5
                  },
                  "mode": "lines+lines",
                  "name": "",
                  "opacity": 0.1,
                  "type": "scatter",
                  "x": [
                    1,
                    2,
                    3,
                    4,
                    5,
                    6,
                    7,
                    8,
                    9,
                    10
                  ],
                  "y": [
                    0.34569577007182717,
                    0.08656203243102771,
                    0.04925409505033997,
                    0.038186455482494885,
                    0.03420464197955451,
                    0.03331822942856404,
                    0.03203899631964356,
                    0.03165010848155895,
                    0.031017160186097202,
                    0.029739026654264384
                  ]
                },
                {
                  "hovertext": "<b>Topic 63</b>:liberals_cillizza_insist_millionai",
                  "line": {
                    "color": "black",
                    "width": 1.5
                  },
                  "mode": "lines+lines",
                  "name": "",
                  "opacity": 0.1,
                  "type": "scatter",
                  "x": [
                    1,
                    2,
                    3,
                    4,
                    5,
                    6,
                    7,
                    8,
                    9,
                    10
                  ],
                  "y": [
                    0.03145072782541659,
                    0.031213750628506773,
                    0.02656396730384009,
                    0.02656396730384009,
                    0.02570464809270689,
                    0.024002277621969596,
                    0.02083123908406081,
                    0.02004834924099598,
                    0.019129746133773,
                    0.018896930624174975
                  ]
                },
                {
                  "hovertext": "<b>Topic 64</b>:carrey_dubakoor_actor_powerful_wom",
                  "line": {
                    "color": "black",
                    "width": 1.5
                  },
                  "mode": "lines+lines",
                  "name": "",
                  "opacity": 0.1,
                  "type": "scatter",
                  "x": [
                    1,
                    2,
                    3,
                    4,
                    5,
                    6,
                    7,
                    8,
                    9,
                    10
                  ],
                  "y": [
                    0.10842661720985121,
                    0.05224429183211063,
                    0.04017402495592074,
                    0.03847035810462247,
                    0.0325240581223495,
                    0.031845544823668505,
                    0.02857899369966542,
                    0.02857899369966542,
                    0.02857899369966542,
                    0.02857899369966542
                  ]
                },
                {
                  "hovertext": "<b>Topic 65</b>:book_read_books_loves_con_story_se",
                  "line": {
                    "color": "black",
                    "width": 1.5
                  },
                  "mode": "lines+lines",
                  "name": "",
                  "opacity": 0.1,
                  "type": "scatter",
                  "x": [
                    1,
                    2,
                    3,
                    4,
                    5,
                    6,
                    7,
                    8,
                    9,
                    10
                  ],
                  "y": [
                    0.06774407133860723,
                    0.05783028045693368,
                    0.054436767860052034,
                    0.046542512834571975,
                    0.03871008380991504,
                    0.038514487993697166,
                    0.03629117857336802,
                    0.03520146595534073,
                    0.032449982995632676,
                    0.030703556748532545
                  ]
                },
                {
                  "hovertext": "<b>Topic 66</b>:crook_weed_he_victim_home_had_murd",
                  "line": {
                    "color": "black",
                    "width": 1.5
                  },
                  "mode": "lines+lines",
                  "name": "",
                  "opacity": 0.1,
                  "type": "scatter",
                  "x": [
                    1,
                    2,
                    3,
                    4,
                    5,
                    6,
                    7,
                    8,
                    9,
                    10
                  ],
                  "y": [
                    0.09896103934296724,
                    0.06167057036279887,
                    0.04700894159025164,
                    0.04176457357543484,
                    0.03698160618904573,
                    0.03567360421933836,
                    0.0351925217359636,
                    0.03488589766174068,
                    0.03079137735640444,
                    0.030121315735001538
                  ]
                },
                {
                  "hovertext": "<b>Topic 67</b>:guilty_innocent_rape_jury_swapping",
                  "line": {
                    "color": "black",
                    "width": 1.5
                  },
                  "mode": "lines+lines",
                  "name": "",
                  "opacity": 0.1,
                  "type": "scatter",
                  "x": [
                    1,
                    2,
                    3,
                    4,
                    5,
                    6,
                    7,
                    8,
                    9,
                    10
                  ],
                  "y": [
                    0.07502154882994776,
                    0.06485841366074338,
                    0.05505772379389251,
                    0.05430164534446414,
                    0.04547188363165184,
                    0.0433130312831329,
                    0.04177693917517094,
                    0.04119709802050041,
                    0.04119709802050041,
                    0.03982161811175641
                  ]
                },
                {
                  "hovertext": "<b>Topic 68</b>:beto_cruz_willie_texas_ted_rourke_",
                  "line": {
                    "color": "black",
                    "width": 1.5
                  },
                  "mode": "lines+lines",
                  "name": "",
                  "opacity": 0.1,
                  "type": "scatter",
                  "x": [
                    1,
                    2,
                    3,
                    4,
                    5,
                    6,
                    7,
                    8,
                    9,
                    10
                  ],
                  "y": [
                    0.16561052047091285,
                    0.09628744052140564,
                    0.06243002065262458,
                    0.05449763921806191,
                    0.05249342412340421,
                    0.04162001376841638,
                    0.03338235301856811,
                    0.03303556072634003,
                    0.03239391606166884,
                    0.03102614517347499
                  ]
                },
                {
                  "hovertext": "<b>Topic 69</b>:russian_russia_stalin_collusion_sa",
                  "line": {
                    "color": "black",
                    "width": 1.5
                  },
                  "mode": "lines+lines",
                  "name": "",
                  "opacity": 0.1,
                  "type": "scatter",
                  "x": [
                    1,
                    2,
                    3,
                    4,
                    5,
                    6,
                    7,
                    8,
                    9,
                    10
                  ],
                  "y": [
                    0.05485086273368966,
                    0.05097935514369566,
                    0.049196438486997646,
                    0.03885592617572618,
                    0.028478007856203705,
                    0.028478007856203705,
                    0.028478007856203705,
                    0.028478007856203705,
                    0.028478007856203705,
                    0.028478007856203705
                  ]
                },
                {
                  "hovertext": "<b>Topic 70</b>:mosotho_character_umuntu_unculture",
                  "line": {
                    "color": "black",
                    "width": 1.5
                  },
                  "mode": "lines+lines",
                  "name": "",
                  "opacity": 0.1,
                  "type": "scatter",
                  "x": [
                    1,
                    2,
                    3,
                    4,
                    5,
                    6,
                    7,
                    8,
                    9,
                    10
                  ],
                  "y": [
                    0.09444160446573845,
                    0.05587527029365193,
                    0.051662027072472104,
                    0.051662027072472104,
                    0.051662027072472104,
                    0.051662027072472104,
                    0.051662027072472104,
                    0.051662027072472104,
                    0.051662027072472104,
                    0.051662027072472104
                  ]
                },
                {
                  "hovertext": "<b>Topic 71</b>:flake_snow_buh_melting_snowflake_i",
                  "line": {
                    "color": "black",
                    "width": 1.5
                  },
                  "mode": "lines+lines",
                  "name": "",
                  "opacity": 0.1,
                  "type": "scatter",
                  "x": [
                    1,
                    2,
                    3,
                    4,
                    5,
                    6,
                    7,
                    8,
                    9,
                    10
                  ],
                  "y": [
                    0.3315792351595348,
                    0.17742725331244136,
                    0.13134520841339936,
                    0.1259232052702088,
                    0.1086704243351074,
                    0.07603090776703442,
                    0.07603090776703442,
                    0.07603090776703442,
                    0.06575331315458241,
                    0.0629616026351044
                  ]
                },
                {
                  "hovertext": "<b>Topic 72</b>:maga_swamp_ellison_these_jail_evid",
                  "line": {
                    "color": "black",
                    "width": 1.5
                  },
                  "mode": "lines+lines",
                  "name": "",
                  "opacity": 0.1,
                  "type": "scatter",
                  "x": [
                    1,
                    2,
                    3,
                    4,
                    5,
                    6,
                    7,
                    8,
                    9,
                    10
                  ],
                  "y": [
                    0.06756615461675733,
                    0.061105845751525605,
                    0.04184214157965559,
                    0.040814487837410963,
                    0.03573824749376031,
                    0.03502354337680143,
                    0.03485431163315739,
                    0.03358031759710687,
                    0.03358031759710687,
                    0.03358031759710687
                  ]
                },
                {
                  "hovertext": "<b>Topic 73</b>:feinstein_dianne_she_liar_sen_desp",
                  "line": {
                    "color": "black",
                    "width": 1.5
                  },
                  "mode": "lines+lines",
                  "name": "",
                  "opacity": 0.1,
                  "type": "scatter",
                  "x": [
                    1,
                    2,
                    3,
                    4,
                    5,
                    6,
                    7,
                    8,
                    9,
                    10
                  ],
                  "y": [
                    0.08740445366761927,
                    0.04189027359808143,
                    0.03927961367227062,
                    0.03864150017183889,
                    0.03477689891667082,
                    0.031227613648627427,
                    0.027995241906890966,
                    0.026848832736436783,
                    0.02616648124449886,
                    0.02616648124449886
                  ]
                },
                {
                  "hovertext": "<b>Topic 74</b>:maga_definitely_pussygrabbing_evey",
                  "line": {
                    "color": "black",
                    "width": 1.5
                  },
                  "mode": "lines+lines",
                  "name": "",
                  "opacity": 0.1,
                  "type": "scatter",
                  "x": [
                    1,
                    2,
                    3,
                    4,
                    5,
                    6,
                    7,
                    8,
                    9,
                    10
                  ],
                  "y": [
                    0.0876533897730906,
                    0.04636313188379716,
                    0.04356365526111162,
                    0.04356365526111162,
                    0.04356365526111162,
                    0.04015339838567055,
                    0.03981862242339243,
                    0.03981862242339243,
                    0.03981862242339243,
                    0.03981862242339243
                  ]
                },
                {
                  "hovertext": "<b>Topic 75</b>:she_could_vaporizes_demoncrats_tw3",
                  "line": {
                    "color": "black",
                    "width": 1.5
                  },
                  "mode": "lines+lines",
                  "name": "",
                  "opacity": 0.1,
                  "type": "scatter",
                  "x": [
                    1,
                    2,
                    3,
                    4,
                    5,
                    6,
                    7,
                    8,
                    9,
                    10
                  ],
                  "y": [
                    0.0540094687993721,
                    0.030108039144751714,
                    0.027983597997589055,
                    0.027983597997589055,
                    0.027983597997589055,
                    0.027983597997589055,
                    0.027983597997589055,
                    0.027983597997589055,
                    0.027983597997589055,
                    0.027983597997589055
                  ]
                },
                {
                  "hovertext": "<b>Topic 76</b>:israel_antisemitism_israeli_intern",
                  "line": {
                    "color": "black",
                    "width": 1.5
                  },
                  "mode": "lines+lines",
                  "name": "",
                  "opacity": 0.1,
                  "type": "scatter",
                  "x": [
                    1,
                    2,
                    3,
                    4,
                    5,
                    6,
                    7,
                    8,
                    9,
                    10
                  ],
                  "y": [
                    0.0917738353834138,
                    0.09159600060408114,
                    0.06461793989761051,
                    0.051443664010544975,
                    0.03742481324493715,
                    0.03634328707360993,
                    0.0353477027337967,
                    0.0353477027337967,
                    0.0353477027337967,
                    0.0353477027337967
                  ]
                },
                {
                  "hovertext": "<b>Topic 77</b>:traitor_jfkjr_plane_user_showed_fa",
                  "line": {
                    "color": "black",
                    "width": 1.5
                  },
                  "mode": "lines+lines",
                  "name": "",
                  "opacity": 0.1,
                  "type": "scatter",
                  "x": [
                    1,
                    2,
                    3,
                    4,
                    5,
                    6,
                    7,
                    8,
                    9,
                    10
                  ],
                  "y": [
                    0.08335630246174795,
                    0.05417351008490402,
                    0.04758958140572458,
                    0.04138180986294261,
                    0.040709016473576554,
                    0.03981028058482972,
                    0.0387147945027701,
                    0.034500544195030604,
                    0.03135905145255116,
                    0.03135905145255116
                  ]
                },
                {
                  "hovertext": "<b>Topic 78</b>:economy_hispanics_trump_jobs_ever_",
                  "line": {
                    "color": "black",
                    "width": 1.5
                  },
                  "mode": "lines+lines",
                  "name": "",
                  "opacity": 0.1,
                  "type": "scatter",
                  "x": [
                    1,
                    2,
                    3,
                    4,
                    5,
                    6,
                    7,
                    8,
                    9,
                    10
                  ],
                  "y": [
                    0.13391335729595907,
                    0.05124520567571739,
                    0.04661445914014062,
                    0.039392126784567896,
                    0.032939011227126926,
                    0.032352483612072026,
                    0.030715718178018186,
                    0.03029720056551231,
                    0.02991979012942629,
                    0.02991979012942629
                  ]
                }
              ],
              "layout": {
                "height": 500,
                "hoverlabel": {
                  "bgcolor": "white",
                  "font": {
                    "family": "Rockwell",
                    "size": 16
                  }
                },
                "showlegend": false,
                "template": {
                  "data": {
                    "bar": [
                      {
                        "error_x": {
                          "color": "#2a3f5f"
                        },
                        "error_y": {
                          "color": "#2a3f5f"
                        },
                        "marker": {
                          "line": {
                            "color": "white",
                            "width": 0.5
                          },
                          "pattern": {
                            "fillmode": "overlay",
                            "size": 10,
                            "solidity": 0.2
                          }
                        },
                        "type": "bar"
                      }
                    ],
                    "barpolar": [
                      {
                        "marker": {
                          "line": {
                            "color": "white",
                            "width": 0.5
                          },
                          "pattern": {
                            "fillmode": "overlay",
                            "size": 10,
                            "solidity": 0.2
                          }
                        },
                        "type": "barpolar"
                      }
                    ],
                    "carpet": [
                      {
                        "aaxis": {
                          "endlinecolor": "#2a3f5f",
                          "gridcolor": "#C8D4E3",
                          "linecolor": "#C8D4E3",
                          "minorgridcolor": "#C8D4E3",
                          "startlinecolor": "#2a3f5f"
                        },
                        "baxis": {
                          "endlinecolor": "#2a3f5f",
                          "gridcolor": "#C8D4E3",
                          "linecolor": "#C8D4E3",
                          "minorgridcolor": "#C8D4E3",
                          "startlinecolor": "#2a3f5f"
                        },
                        "type": "carpet"
                      }
                    ],
                    "choropleth": [
                      {
                        "colorbar": {
                          "outlinewidth": 0,
                          "ticks": ""
                        },
                        "type": "choropleth"
                      }
                    ],
                    "contour": [
                      {
                        "colorbar": {
                          "outlinewidth": 0,
                          "ticks": ""
                        },
                        "colorscale": [
                          [
                            0,
                            "#0d0887"
                          ],
                          [
                            0.1111111111111111,
                            "#46039f"
                          ],
                          [
                            0.2222222222222222,
                            "#7201a8"
                          ],
                          [
                            0.3333333333333333,
                            "#9c179e"
                          ],
                          [
                            0.4444444444444444,
                            "#bd3786"
                          ],
                          [
                            0.5555555555555556,
                            "#d8576b"
                          ],
                          [
                            0.6666666666666666,
                            "#ed7953"
                          ],
                          [
                            0.7777777777777778,
                            "#fb9f3a"
                          ],
                          [
                            0.8888888888888888,
                            "#fdca26"
                          ],
                          [
                            1,
                            "#f0f921"
                          ]
                        ],
                        "type": "contour"
                      }
                    ],
                    "contourcarpet": [
                      {
                        "colorbar": {
                          "outlinewidth": 0,
                          "ticks": ""
                        },
                        "type": "contourcarpet"
                      }
                    ],
                    "heatmap": [
                      {
                        "colorbar": {
                          "outlinewidth": 0,
                          "ticks": ""
                        },
                        "colorscale": [
                          [
                            0,
                            "#0d0887"
                          ],
                          [
                            0.1111111111111111,
                            "#46039f"
                          ],
                          [
                            0.2222222222222222,
                            "#7201a8"
                          ],
                          [
                            0.3333333333333333,
                            "#9c179e"
                          ],
                          [
                            0.4444444444444444,
                            "#bd3786"
                          ],
                          [
                            0.5555555555555556,
                            "#d8576b"
                          ],
                          [
                            0.6666666666666666,
                            "#ed7953"
                          ],
                          [
                            0.7777777777777778,
                            "#fb9f3a"
                          ],
                          [
                            0.8888888888888888,
                            "#fdca26"
                          ],
                          [
                            1,
                            "#f0f921"
                          ]
                        ],
                        "type": "heatmap"
                      }
                    ],
                    "heatmapgl": [
                      {
                        "colorbar": {
                          "outlinewidth": 0,
                          "ticks": ""
                        },
                        "colorscale": [
                          [
                            0,
                            "#0d0887"
                          ],
                          [
                            0.1111111111111111,
                            "#46039f"
                          ],
                          [
                            0.2222222222222222,
                            "#7201a8"
                          ],
                          [
                            0.3333333333333333,
                            "#9c179e"
                          ],
                          [
                            0.4444444444444444,
                            "#bd3786"
                          ],
                          [
                            0.5555555555555556,
                            "#d8576b"
                          ],
                          [
                            0.6666666666666666,
                            "#ed7953"
                          ],
                          [
                            0.7777777777777778,
                            "#fb9f3a"
                          ],
                          [
                            0.8888888888888888,
                            "#fdca26"
                          ],
                          [
                            1,
                            "#f0f921"
                          ]
                        ],
                        "type": "heatmapgl"
                      }
                    ],
                    "histogram": [
                      {
                        "marker": {
                          "pattern": {
                            "fillmode": "overlay",
                            "size": 10,
                            "solidity": 0.2
                          }
                        },
                        "type": "histogram"
                      }
                    ],
                    "histogram2d": [
                      {
                        "colorbar": {
                          "outlinewidth": 0,
                          "ticks": ""
                        },
                        "colorscale": [
                          [
                            0,
                            "#0d0887"
                          ],
                          [
                            0.1111111111111111,
                            "#46039f"
                          ],
                          [
                            0.2222222222222222,
                            "#7201a8"
                          ],
                          [
                            0.3333333333333333,
                            "#9c179e"
                          ],
                          [
                            0.4444444444444444,
                            "#bd3786"
                          ],
                          [
                            0.5555555555555556,
                            "#d8576b"
                          ],
                          [
                            0.6666666666666666,
                            "#ed7953"
                          ],
                          [
                            0.7777777777777778,
                            "#fb9f3a"
                          ],
                          [
                            0.8888888888888888,
                            "#fdca26"
                          ],
                          [
                            1,
                            "#f0f921"
                          ]
                        ],
                        "type": "histogram2d"
                      }
                    ],
                    "histogram2dcontour": [
                      {
                        "colorbar": {
                          "outlinewidth": 0,
                          "ticks": ""
                        },
                        "colorscale": [
                          [
                            0,
                            "#0d0887"
                          ],
                          [
                            0.1111111111111111,
                            "#46039f"
                          ],
                          [
                            0.2222222222222222,
                            "#7201a8"
                          ],
                          [
                            0.3333333333333333,
                            "#9c179e"
                          ],
                          [
                            0.4444444444444444,
                            "#bd3786"
                          ],
                          [
                            0.5555555555555556,
                            "#d8576b"
                          ],
                          [
                            0.6666666666666666,
                            "#ed7953"
                          ],
                          [
                            0.7777777777777778,
                            "#fb9f3a"
                          ],
                          [
                            0.8888888888888888,
                            "#fdca26"
                          ],
                          [
                            1,
                            "#f0f921"
                          ]
                        ],
                        "type": "histogram2dcontour"
                      }
                    ],
                    "mesh3d": [
                      {
                        "colorbar": {
                          "outlinewidth": 0,
                          "ticks": ""
                        },
                        "type": "mesh3d"
                      }
                    ],
                    "parcoords": [
                      {
                        "line": {
                          "colorbar": {
                            "outlinewidth": 0,
                            "ticks": ""
                          }
                        },
                        "type": "parcoords"
                      }
                    ],
                    "pie": [
                      {
                        "automargin": true,
                        "type": "pie"
                      }
                    ],
                    "scatter": [
                      {
                        "fillpattern": {
                          "fillmode": "overlay",
                          "size": 10,
                          "solidity": 0.2
                        },
                        "type": "scatter"
                      }
                    ],
                    "scatter3d": [
                      {
                        "line": {
                          "colorbar": {
                            "outlinewidth": 0,
                            "ticks": ""
                          }
                        },
                        "marker": {
                          "colorbar": {
                            "outlinewidth": 0,
                            "ticks": ""
                          }
                        },
                        "type": "scatter3d"
                      }
                    ],
                    "scattercarpet": [
                      {
                        "marker": {
                          "colorbar": {
                            "outlinewidth": 0,
                            "ticks": ""
                          }
                        },
                        "type": "scattercarpet"
                      }
                    ],
                    "scattergeo": [
                      {
                        "marker": {
                          "colorbar": {
                            "outlinewidth": 0,
                            "ticks": ""
                          }
                        },
                        "type": "scattergeo"
                      }
                    ],
                    "scattergl": [
                      {
                        "marker": {
                          "colorbar": {
                            "outlinewidth": 0,
                            "ticks": ""
                          }
                        },
                        "type": "scattergl"
                      }
                    ],
                    "scattermapbox": [
                      {
                        "marker": {
                          "colorbar": {
                            "outlinewidth": 0,
                            "ticks": ""
                          }
                        },
                        "type": "scattermapbox"
                      }
                    ],
                    "scatterpolar": [
                      {
                        "marker": {
                          "colorbar": {
                            "outlinewidth": 0,
                            "ticks": ""
                          }
                        },
                        "type": "scatterpolar"
                      }
                    ],
                    "scatterpolargl": [
                      {
                        "marker": {
                          "colorbar": {
                            "outlinewidth": 0,
                            "ticks": ""
                          }
                        },
                        "type": "scatterpolargl"
                      }
                    ],
                    "scatterternary": [
                      {
                        "marker": {
                          "colorbar": {
                            "outlinewidth": 0,
                            "ticks": ""
                          }
                        },
                        "type": "scatterternary"
                      }
                    ],
                    "surface": [
                      {
                        "colorbar": {
                          "outlinewidth": 0,
                          "ticks": ""
                        },
                        "colorscale": [
                          [
                            0,
                            "#0d0887"
                          ],
                          [
                            0.1111111111111111,
                            "#46039f"
                          ],
                          [
                            0.2222222222222222,
                            "#7201a8"
                          ],
                          [
                            0.3333333333333333,
                            "#9c179e"
                          ],
                          [
                            0.4444444444444444,
                            "#bd3786"
                          ],
                          [
                            0.5555555555555556,
                            "#d8576b"
                          ],
                          [
                            0.6666666666666666,
                            "#ed7953"
                          ],
                          [
                            0.7777777777777778,
                            "#fb9f3a"
                          ],
                          [
                            0.8888888888888888,
                            "#fdca26"
                          ],
                          [
                            1,
                            "#f0f921"
                          ]
                        ],
                        "type": "surface"
                      }
                    ],
                    "table": [
                      {
                        "cells": {
                          "fill": {
                            "color": "#EBF0F8"
                          },
                          "line": {
                            "color": "white"
                          }
                        },
                        "header": {
                          "fill": {
                            "color": "#C8D4E3"
                          },
                          "line": {
                            "color": "white"
                          }
                        },
                        "type": "table"
                      }
                    ]
                  },
                  "layout": {
                    "annotationdefaults": {
                      "arrowcolor": "#2a3f5f",
                      "arrowhead": 0,
                      "arrowwidth": 1
                    },
                    "autotypenumbers": "strict",
                    "coloraxis": {
                      "colorbar": {
                        "outlinewidth": 0,
                        "ticks": ""
                      }
                    },
                    "colorscale": {
                      "diverging": [
                        [
                          0,
                          "#8e0152"
                        ],
                        [
                          0.1,
                          "#c51b7d"
                        ],
                        [
                          0.2,
                          "#de77ae"
                        ],
                        [
                          0.3,
                          "#f1b6da"
                        ],
                        [
                          0.4,
                          "#fde0ef"
                        ],
                        [
                          0.5,
                          "#f7f7f7"
                        ],
                        [
                          0.6,
                          "#e6f5d0"
                        ],
                        [
                          0.7,
                          "#b8e186"
                        ],
                        [
                          0.8,
                          "#7fbc41"
                        ],
                        [
                          0.9,
                          "#4d9221"
                        ],
                        [
                          1,
                          "#276419"
                        ]
                      ],
                      "sequential": [
                        [
                          0,
                          "#0d0887"
                        ],
                        [
                          0.1111111111111111,
                          "#46039f"
                        ],
                        [
                          0.2222222222222222,
                          "#7201a8"
                        ],
                        [
                          0.3333333333333333,
                          "#9c179e"
                        ],
                        [
                          0.4444444444444444,
                          "#bd3786"
                        ],
                        [
                          0.5555555555555556,
                          "#d8576b"
                        ],
                        [
                          0.6666666666666666,
                          "#ed7953"
                        ],
                        [
                          0.7777777777777778,
                          "#fb9f3a"
                        ],
                        [
                          0.8888888888888888,
                          "#fdca26"
                        ],
                        [
                          1,
                          "#f0f921"
                        ]
                      ],
                      "sequentialminus": [
                        [
                          0,
                          "#0d0887"
                        ],
                        [
                          0.1111111111111111,
                          "#46039f"
                        ],
                        [
                          0.2222222222222222,
                          "#7201a8"
                        ],
                        [
                          0.3333333333333333,
                          "#9c179e"
                        ],
                        [
                          0.4444444444444444,
                          "#bd3786"
                        ],
                        [
                          0.5555555555555556,
                          "#d8576b"
                        ],
                        [
                          0.6666666666666666,
                          "#ed7953"
                        ],
                        [
                          0.7777777777777778,
                          "#fb9f3a"
                        ],
                        [
                          0.8888888888888888,
                          "#fdca26"
                        ],
                        [
                          1,
                          "#f0f921"
                        ]
                      ]
                    },
                    "colorway": [
                      "#636efa",
                      "#EF553B",
                      "#00cc96",
                      "#ab63fa",
                      "#FFA15A",
                      "#19d3f3",
                      "#FF6692",
                      "#B6E880",
                      "#FF97FF",
                      "#FECB52"
                    ],
                    "font": {
                      "color": "#2a3f5f"
                    },
                    "geo": {
                      "bgcolor": "white",
                      "lakecolor": "white",
                      "landcolor": "white",
                      "showlakes": true,
                      "showland": true,
                      "subunitcolor": "#C8D4E3"
                    },
                    "hoverlabel": {
                      "align": "left"
                    },
                    "hovermode": "closest",
                    "mapbox": {
                      "style": "light"
                    },
                    "paper_bgcolor": "white",
                    "plot_bgcolor": "white",
                    "polar": {
                      "angularaxis": {
                        "gridcolor": "#EBF0F8",
                        "linecolor": "#EBF0F8",
                        "ticks": ""
                      },
                      "bgcolor": "white",
                      "radialaxis": {
                        "gridcolor": "#EBF0F8",
                        "linecolor": "#EBF0F8",
                        "ticks": ""
                      }
                    },
                    "scene": {
                      "xaxis": {
                        "backgroundcolor": "white",
                        "gridcolor": "#DFE8F3",
                        "gridwidth": 2,
                        "linecolor": "#EBF0F8",
                        "showbackground": true,
                        "ticks": "",
                        "zerolinecolor": "#EBF0F8"
                      },
                      "yaxis": {
                        "backgroundcolor": "white",
                        "gridcolor": "#DFE8F3",
                        "gridwidth": 2,
                        "linecolor": "#EBF0F8",
                        "showbackground": true,
                        "ticks": "",
                        "zerolinecolor": "#EBF0F8"
                      },
                      "zaxis": {
                        "backgroundcolor": "white",
                        "gridcolor": "#DFE8F3",
                        "gridwidth": 2,
                        "linecolor": "#EBF0F8",
                        "showbackground": true,
                        "ticks": "",
                        "zerolinecolor": "#EBF0F8"
                      }
                    },
                    "shapedefaults": {
                      "line": {
                        "color": "#2a3f5f"
                      }
                    },
                    "ternary": {
                      "aaxis": {
                        "gridcolor": "#DFE8F3",
                        "linecolor": "#A2B1C6",
                        "ticks": ""
                      },
                      "baxis": {
                        "gridcolor": "#DFE8F3",
                        "linecolor": "#A2B1C6",
                        "ticks": ""
                      },
                      "bgcolor": "white",
                      "caxis": {
                        "gridcolor": "#DFE8F3",
                        "linecolor": "#A2B1C6",
                        "ticks": ""
                      }
                    },
                    "title": {
                      "x": 0.05
                    },
                    "xaxis": {
                      "automargin": true,
                      "gridcolor": "#EBF0F8",
                      "linecolor": "#EBF0F8",
                      "ticks": "",
                      "title": {
                        "standoff": 15
                      },
                      "zerolinecolor": "#EBF0F8",
                      "zerolinewidth": 2
                    },
                    "yaxis": {
                      "automargin": true,
                      "gridcolor": "#EBF0F8",
                      "linecolor": "#EBF0F8",
                      "ticks": "",
                      "title": {
                        "standoff": 15
                      },
                      "zerolinecolor": "#EBF0F8",
                      "zerolinewidth": 2
                    }
                  }
                },
                "title": {
                  "font": {
                    "color": "Black",
                    "size": 22
                  },
                  "text": "<b>Term score decline per Topic</b>",
                  "x": 0.5,
                  "xanchor": "center",
                  "y": 0.9,
                  "yanchor": "top"
                },
                "width": 800,
                "xaxis": {
                  "dtick": 2,
                  "range": [
                    0,
                    10
                  ],
                  "tick0": 1,
                  "title": {
                    "text": "Term Rank"
                  }
                },
                "yaxis": {
                  "title": {
                    "text": "c-TF-IDF score"
                  }
                }
              }
            }
          },
          "metadata": {},
          "output_type": "display_data"
        }
      ],
      "source": [
        "topic_model.visualize_term_rank()"
      ]
    },
    {
      "attachments": {},
      "cell_type": "markdown",
      "metadata": {},
      "source": [
        "The c-TF-IDF score is a measure of how important a word is in a topic. The higher the score, the more important the word is in the topic. We see that the topic with the highest score is topic 50 (bono_u2_asshold_his_tax_dublin_inc), followed by topics related to sexual words, popular brands or classic words.\n",
        "\n",
        "Let's now see what topics are extracted when we use bigrams."
      ]
    },
    {
      "cell_type": "code",
      "execution_count": 162,
      "metadata": {},
      "outputs": [
        {
          "data": {
            "application/vnd.plotly.v1+json": {
              "config": {
                "plotlyServerURL": "https://plot.ly"
              },
              "data": [
                {
                  "hoverinfo": "text",
                  "hovertext": [
                    "<b>Topic 0</b><br>Words: you, she, is, you are, she is"
                  ],
                  "marker": {
                    "color": "#E69F00"
                  },
                  "name": "0_you_she_is_you are",
                  "orientation": "h",
                  "type": "bar",
                  "visible": true,
                  "x": [
                    3939
                  ],
                  "y": [
                    0
                  ]
                },
                {
                  "hoverinfo": "text",
                  "hovertext": [
                    "<b>Topic 1</b><br>Words: gun, gun control, control, the, guns"
                  ],
                  "marker": {
                    "color": "#56B4E9"
                  },
                  "name": "1_gun_gun control_control_the",
                  "orientation": "h",
                  "type": "bar",
                  "visible": "legendonly",
                  "x": [
                    991
                  ],
                  "y": [
                    1
                  ]
                },
                {
                  "hoverinfo": "text",
                  "hovertext": [
                    "<b>Topic 2</b><br>Words: liberals, user liberals, the liberals, liberals user, liberals are"
                  ],
                  "marker": {
                    "color": "#009E73"
                  },
                  "name": "2_liberals_user liberals_the liberals_li...",
                  "orientation": "h",
                  "type": "bar",
                  "visible": "legendonly",
                  "x": [
                    382
                  ],
                  "y": [
                    2
                  ]
                },
                {
                  "hoverinfo": "text",
                  "hovertext": [
                    "<b>Topic 3</b><br>Words: antifa, antifa user, user antifa, user, the antifa"
                  ],
                  "marker": {
                    "color": "#F0E442"
                  },
                  "name": "3_antifa_antifa user_user antifa_user",
                  "orientation": "h",
                  "type": "bar",
                  "visible": "legendonly",
                  "x": [
                    317
                  ],
                  "y": [
                    3
                  ]
                },
                {
                  "hoverinfo": "text",
                  "hovertext": [
                    "<b>Topic 4</b><br>Words: conservatives, the, conservatives are, and, they"
                  ],
                  "marker": {
                    "color": "#D55E00"
                  },
                  "name": "4_conservatives_the_conservatives are_an...",
                  "orientation": "h",
                  "type": "bar",
                  "visible": "legendonly",
                  "x": [
                    262
                  ],
                  "y": [
                    4
                  ]
                },
                {
                  "hoverinfo": "text",
                  "hovertext": [
                    "<b>Topic 5</b><br>Words: kavanaugh, maga, to, the, judge"
                  ],
                  "marker": {
                    "color": "#0072B2"
                  },
                  "name": "5_kavanaugh_maga_to_the",
                  "orientation": "h",
                  "type": "bar",
                  "visible": "legendonly",
                  "x": [
                    195
                  ],
                  "y": [
                    5
                  ]
                },
                {
                  "hoverinfo": "text",
                  "hovertext": [
                    "<b>Topic 6</b><br>Words: brexit, the, uk, tories, eu"
                  ],
                  "marker": {
                    "color": "#CC79A7"
                  },
                  "name": "6_brexit_the_uk_tories",
                  "orientation": "h",
                  "type": "bar",
                  "visible": "legendonly",
                  "x": [
                    161
                  ],
                  "y": [
                    6
                  ]
                },
                {
                  "hoverinfo": "text",
                  "hovertext": [
                    "<b>Topic 7</b><br>Words: user user, user, you, follow, lt treph"
                  ],
                  "marker": {
                    "color": "#E69F00"
                  },
                  "name": "7_user user_user_you_follow",
                  "orientation": "h",
                  "type": "bar",
                  "visible": "legendonly",
                  "x": [
                    153
                  ],
                  "y": [
                    7
                  ]
                },
                {
                  "hoverinfo": "text",
                  "hovertext": [
                    "<b>Topic 8</b><br>Words: canada, trudeau, liberals, conservatives, the"
                  ],
                  "marker": {
                    "color": "#56B4E9"
                  },
                  "name": "8_canada_trudeau_liberals_conservatives",
                  "orientation": "h",
                  "type": "bar",
                  "visible": "legendonly",
                  "x": [
                    113
                  ],
                  "y": [
                    8
                  ]
                },
                {
                  "hoverinfo": "text",
                  "hovertext": [
                    "<b>Topic 9</b><br>Words: women, liberals, conservatives, sexual, the"
                  ],
                  "marker": {
                    "color": "#009E73"
                  },
                  "name": "9_women_liberals_conservatives_sexual",
                  "orientation": "h",
                  "type": "bar",
                  "visible": "legendonly",
                  "x": [
                    111
                  ],
                  "y": [
                    9
                  ]
                },
                {
                  "hoverinfo": "text",
                  "hovertext": [
                    "<b>Topic 10</b><br>Words: maga, maga user, user maga, user, they"
                  ],
                  "marker": {
                    "color": "#F0E442"
                  },
                  "name": "10_maga_maga user_user maga_user",
                  "orientation": "h",
                  "type": "bar",
                  "visible": "legendonly",
                  "x": [
                    103
                  ],
                  "y": [
                    10
                  ]
                },
                {
                  "hoverinfo": "text",
                  "hovertext": [
                    "<b>Topic 11</b><br>Words: president, trump, he, he is, president user"
                  ],
                  "marker": {
                    "color": "#D55E00"
                  },
                  "name": "11_president_trump_he_he is",
                  "orientation": "h",
                  "type": "bar",
                  "visible": "legendonly",
                  "x": [
                    91
                  ],
                  "y": [
                    11
                  ]
                },
                {
                  "hoverinfo": "text",
                  "hovertext": [
                    "<b>Topic 12</b><br>Words: racist, black, white, race, people"
                  ],
                  "marker": {
                    "color": "#0072B2"
                  },
                  "name": "12_racist_black_white_race",
                  "orientation": "h",
                  "type": "bar",
                  "visible": "legendonly",
                  "x": [
                    90
                  ],
                  "y": [
                    12
                  ]
                },
                {
                  "hoverinfo": "text",
                  "hovertext": [
                    "<b>Topic 13</b><br>Words: nfl, the nfl, he, football, he is"
                  ],
                  "marker": {
                    "color": "#CC79A7"
                  },
                  "name": "13_nfl_the nfl_he_football",
                  "orientation": "h",
                  "type": "bar",
                  "visible": "legendonly",
                  "x": [
                    89
                  ],
                  "y": [
                    13
                  ]
                },
                {
                  "hoverinfo": "text",
                  "hovertext": [
                    "<b>Topic 14</b><br>Words: she, lying, she is, is lying, liar"
                  ],
                  "marker": {
                    "color": "#E69F00"
                  },
                  "name": "14_she_lying_she is_is lying",
                  "orientation": "h",
                  "type": "bar",
                  "visible": "legendonly",
                  "x": [
                    87
                  ],
                  "y": [
                    14
                  ]
                },
                {
                  "hoverinfo": "text",
                  "hovertext": [
                    "<b>Topic 15</b><br>Words: god, user user, user, user god, religion"
                  ],
                  "marker": {
                    "color": "#56B4E9"
                  },
                  "name": "15_god_user user_user_user god",
                  "orientation": "h",
                  "type": "bar",
                  "visible": "legendonly",
                  "x": [
                    82
                  ],
                  "y": [
                    15
                  ]
                },
                {
                  "hoverinfo": "text",
                  "hovertext": [
                    "<b>Topic 16</b><br>Words: antifa, violence, the, of, far"
                  ],
                  "marker": {
                    "color": "#009E73"
                  },
                  "name": "16_antifa_violence_the_of",
                  "orientation": "h",
                  "type": "bar",
                  "visible": "legendonly",
                  "x": [
                    79
                  ],
                  "y": [
                    16
                  ]
                },
                {
                  "hoverinfo": "text",
                  "hovertext": [
                    "<b>Topic 17</b><br>Words: antifa, nazis, fascist, fascism, anti"
                  ],
                  "marker": {
                    "color": "#F0E442"
                  },
                  "name": "17_antifa_nazis_fascist_fascism",
                  "orientation": "h",
                  "type": "bar",
                  "visible": "legendonly",
                  "x": [
                    69
                  ],
                  "y": [
                    17
                  ]
                },
                {
                  "hoverinfo": "text",
                  "hovertext": [
                    "<b>Topic 18</b><br>Words: holder, prison, jail, prison user, should be"
                  ],
                  "marker": {
                    "color": "#D55E00"
                  },
                  "name": "18_holder_prison_jail_prison user",
                  "orientation": "h",
                  "type": "bar",
                  "visible": "legendonly",
                  "x": [
                    66
                  ],
                  "y": [
                    18
                  ]
                },
                {
                  "hoverinfo": "text",
                  "hovertext": [
                    "<b>Topic 19</b><br>Words: bitch, bitch user, user bitch, bitches, bad bitch"
                  ],
                  "marker": {
                    "color": "#0072B2"
                  },
                  "name": "19_bitch_bitch user_user bitch_bitches",
                  "orientation": "h",
                  "type": "bar",
                  "visible": "legendonly",
                  "x": [
                    65
                  ],
                  "y": [
                    19
                  ]
                }
              ],
              "layout": {
                "height": 900,
                "hoverlabel": {
                  "bgcolor": "white",
                  "font": {
                    "family": "Rockwell",
                    "size": 16
                  }
                },
                "legend": {
                  "title": {
                    "text": "<b>Global Topic Representation"
                  }
                },
                "template": {
                  "data": {
                    "bar": [
                      {
                        "error_x": {
                          "color": "rgb(36,36,36)"
                        },
                        "error_y": {
                          "color": "rgb(36,36,36)"
                        },
                        "marker": {
                          "line": {
                            "color": "white",
                            "width": 0.5
                          },
                          "pattern": {
                            "fillmode": "overlay",
                            "size": 10,
                            "solidity": 0.2
                          }
                        },
                        "type": "bar"
                      }
                    ],
                    "barpolar": [
                      {
                        "marker": {
                          "line": {
                            "color": "white",
                            "width": 0.5
                          },
                          "pattern": {
                            "fillmode": "overlay",
                            "size": 10,
                            "solidity": 0.2
                          }
                        },
                        "type": "barpolar"
                      }
                    ],
                    "carpet": [
                      {
                        "aaxis": {
                          "endlinecolor": "rgb(36,36,36)",
                          "gridcolor": "white",
                          "linecolor": "white",
                          "minorgridcolor": "white",
                          "startlinecolor": "rgb(36,36,36)"
                        },
                        "baxis": {
                          "endlinecolor": "rgb(36,36,36)",
                          "gridcolor": "white",
                          "linecolor": "white",
                          "minorgridcolor": "white",
                          "startlinecolor": "rgb(36,36,36)"
                        },
                        "type": "carpet"
                      }
                    ],
                    "choropleth": [
                      {
                        "colorbar": {
                          "outlinewidth": 1,
                          "tickcolor": "rgb(36,36,36)",
                          "ticks": "outside"
                        },
                        "type": "choropleth"
                      }
                    ],
                    "contour": [
                      {
                        "colorbar": {
                          "outlinewidth": 1,
                          "tickcolor": "rgb(36,36,36)",
                          "ticks": "outside"
                        },
                        "colorscale": [
                          [
                            0,
                            "#440154"
                          ],
                          [
                            0.1111111111111111,
                            "#482878"
                          ],
                          [
                            0.2222222222222222,
                            "#3e4989"
                          ],
                          [
                            0.3333333333333333,
                            "#31688e"
                          ],
                          [
                            0.4444444444444444,
                            "#26828e"
                          ],
                          [
                            0.5555555555555556,
                            "#1f9e89"
                          ],
                          [
                            0.6666666666666666,
                            "#35b779"
                          ],
                          [
                            0.7777777777777778,
                            "#6ece58"
                          ],
                          [
                            0.8888888888888888,
                            "#b5de2b"
                          ],
                          [
                            1,
                            "#fde725"
                          ]
                        ],
                        "type": "contour"
                      }
                    ],
                    "contourcarpet": [
                      {
                        "colorbar": {
                          "outlinewidth": 1,
                          "tickcolor": "rgb(36,36,36)",
                          "ticks": "outside"
                        },
                        "type": "contourcarpet"
                      }
                    ],
                    "heatmap": [
                      {
                        "colorbar": {
                          "outlinewidth": 1,
                          "tickcolor": "rgb(36,36,36)",
                          "ticks": "outside"
                        },
                        "colorscale": [
                          [
                            0,
                            "#440154"
                          ],
                          [
                            0.1111111111111111,
                            "#482878"
                          ],
                          [
                            0.2222222222222222,
                            "#3e4989"
                          ],
                          [
                            0.3333333333333333,
                            "#31688e"
                          ],
                          [
                            0.4444444444444444,
                            "#26828e"
                          ],
                          [
                            0.5555555555555556,
                            "#1f9e89"
                          ],
                          [
                            0.6666666666666666,
                            "#35b779"
                          ],
                          [
                            0.7777777777777778,
                            "#6ece58"
                          ],
                          [
                            0.8888888888888888,
                            "#b5de2b"
                          ],
                          [
                            1,
                            "#fde725"
                          ]
                        ],
                        "type": "heatmap"
                      }
                    ],
                    "heatmapgl": [
                      {
                        "colorbar": {
                          "outlinewidth": 1,
                          "tickcolor": "rgb(36,36,36)",
                          "ticks": "outside"
                        },
                        "colorscale": [
                          [
                            0,
                            "#440154"
                          ],
                          [
                            0.1111111111111111,
                            "#482878"
                          ],
                          [
                            0.2222222222222222,
                            "#3e4989"
                          ],
                          [
                            0.3333333333333333,
                            "#31688e"
                          ],
                          [
                            0.4444444444444444,
                            "#26828e"
                          ],
                          [
                            0.5555555555555556,
                            "#1f9e89"
                          ],
                          [
                            0.6666666666666666,
                            "#35b779"
                          ],
                          [
                            0.7777777777777778,
                            "#6ece58"
                          ],
                          [
                            0.8888888888888888,
                            "#b5de2b"
                          ],
                          [
                            1,
                            "#fde725"
                          ]
                        ],
                        "type": "heatmapgl"
                      }
                    ],
                    "histogram": [
                      {
                        "marker": {
                          "line": {
                            "color": "white",
                            "width": 0.6
                          }
                        },
                        "type": "histogram"
                      }
                    ],
                    "histogram2d": [
                      {
                        "colorbar": {
                          "outlinewidth": 1,
                          "tickcolor": "rgb(36,36,36)",
                          "ticks": "outside"
                        },
                        "colorscale": [
                          [
                            0,
                            "#440154"
                          ],
                          [
                            0.1111111111111111,
                            "#482878"
                          ],
                          [
                            0.2222222222222222,
                            "#3e4989"
                          ],
                          [
                            0.3333333333333333,
                            "#31688e"
                          ],
                          [
                            0.4444444444444444,
                            "#26828e"
                          ],
                          [
                            0.5555555555555556,
                            "#1f9e89"
                          ],
                          [
                            0.6666666666666666,
                            "#35b779"
                          ],
                          [
                            0.7777777777777778,
                            "#6ece58"
                          ],
                          [
                            0.8888888888888888,
                            "#b5de2b"
                          ],
                          [
                            1,
                            "#fde725"
                          ]
                        ],
                        "type": "histogram2d"
                      }
                    ],
                    "histogram2dcontour": [
                      {
                        "colorbar": {
                          "outlinewidth": 1,
                          "tickcolor": "rgb(36,36,36)",
                          "ticks": "outside"
                        },
                        "colorscale": [
                          [
                            0,
                            "#440154"
                          ],
                          [
                            0.1111111111111111,
                            "#482878"
                          ],
                          [
                            0.2222222222222222,
                            "#3e4989"
                          ],
                          [
                            0.3333333333333333,
                            "#31688e"
                          ],
                          [
                            0.4444444444444444,
                            "#26828e"
                          ],
                          [
                            0.5555555555555556,
                            "#1f9e89"
                          ],
                          [
                            0.6666666666666666,
                            "#35b779"
                          ],
                          [
                            0.7777777777777778,
                            "#6ece58"
                          ],
                          [
                            0.8888888888888888,
                            "#b5de2b"
                          ],
                          [
                            1,
                            "#fde725"
                          ]
                        ],
                        "type": "histogram2dcontour"
                      }
                    ],
                    "mesh3d": [
                      {
                        "colorbar": {
                          "outlinewidth": 1,
                          "tickcolor": "rgb(36,36,36)",
                          "ticks": "outside"
                        },
                        "type": "mesh3d"
                      }
                    ],
                    "parcoords": [
                      {
                        "line": {
                          "colorbar": {
                            "outlinewidth": 1,
                            "tickcolor": "rgb(36,36,36)",
                            "ticks": "outside"
                          }
                        },
                        "type": "parcoords"
                      }
                    ],
                    "pie": [
                      {
                        "automargin": true,
                        "type": "pie"
                      }
                    ],
                    "scatter": [
                      {
                        "fillpattern": {
                          "fillmode": "overlay",
                          "size": 10,
                          "solidity": 0.2
                        },
                        "type": "scatter"
                      }
                    ],
                    "scatter3d": [
                      {
                        "line": {
                          "colorbar": {
                            "outlinewidth": 1,
                            "tickcolor": "rgb(36,36,36)",
                            "ticks": "outside"
                          }
                        },
                        "marker": {
                          "colorbar": {
                            "outlinewidth": 1,
                            "tickcolor": "rgb(36,36,36)",
                            "ticks": "outside"
                          }
                        },
                        "type": "scatter3d"
                      }
                    ],
                    "scattercarpet": [
                      {
                        "marker": {
                          "colorbar": {
                            "outlinewidth": 1,
                            "tickcolor": "rgb(36,36,36)",
                            "ticks": "outside"
                          }
                        },
                        "type": "scattercarpet"
                      }
                    ],
                    "scattergeo": [
                      {
                        "marker": {
                          "colorbar": {
                            "outlinewidth": 1,
                            "tickcolor": "rgb(36,36,36)",
                            "ticks": "outside"
                          }
                        },
                        "type": "scattergeo"
                      }
                    ],
                    "scattergl": [
                      {
                        "marker": {
                          "colorbar": {
                            "outlinewidth": 1,
                            "tickcolor": "rgb(36,36,36)",
                            "ticks": "outside"
                          }
                        },
                        "type": "scattergl"
                      }
                    ],
                    "scattermapbox": [
                      {
                        "marker": {
                          "colorbar": {
                            "outlinewidth": 1,
                            "tickcolor": "rgb(36,36,36)",
                            "ticks": "outside"
                          }
                        },
                        "type": "scattermapbox"
                      }
                    ],
                    "scatterpolar": [
                      {
                        "marker": {
                          "colorbar": {
                            "outlinewidth": 1,
                            "tickcolor": "rgb(36,36,36)",
                            "ticks": "outside"
                          }
                        },
                        "type": "scatterpolar"
                      }
                    ],
                    "scatterpolargl": [
                      {
                        "marker": {
                          "colorbar": {
                            "outlinewidth": 1,
                            "tickcolor": "rgb(36,36,36)",
                            "ticks": "outside"
                          }
                        },
                        "type": "scatterpolargl"
                      }
                    ],
                    "scatterternary": [
                      {
                        "marker": {
                          "colorbar": {
                            "outlinewidth": 1,
                            "tickcolor": "rgb(36,36,36)",
                            "ticks": "outside"
                          }
                        },
                        "type": "scatterternary"
                      }
                    ],
                    "surface": [
                      {
                        "colorbar": {
                          "outlinewidth": 1,
                          "tickcolor": "rgb(36,36,36)",
                          "ticks": "outside"
                        },
                        "colorscale": [
                          [
                            0,
                            "#440154"
                          ],
                          [
                            0.1111111111111111,
                            "#482878"
                          ],
                          [
                            0.2222222222222222,
                            "#3e4989"
                          ],
                          [
                            0.3333333333333333,
                            "#31688e"
                          ],
                          [
                            0.4444444444444444,
                            "#26828e"
                          ],
                          [
                            0.5555555555555556,
                            "#1f9e89"
                          ],
                          [
                            0.6666666666666666,
                            "#35b779"
                          ],
                          [
                            0.7777777777777778,
                            "#6ece58"
                          ],
                          [
                            0.8888888888888888,
                            "#b5de2b"
                          ],
                          [
                            1,
                            "#fde725"
                          ]
                        ],
                        "type": "surface"
                      }
                    ],
                    "table": [
                      {
                        "cells": {
                          "fill": {
                            "color": "rgb(237,237,237)"
                          },
                          "line": {
                            "color": "white"
                          }
                        },
                        "header": {
                          "fill": {
                            "color": "rgb(217,217,217)"
                          },
                          "line": {
                            "color": "white"
                          }
                        },
                        "type": "table"
                      }
                    ]
                  },
                  "layout": {
                    "annotationdefaults": {
                      "arrowhead": 0,
                      "arrowwidth": 1
                    },
                    "autotypenumbers": "strict",
                    "coloraxis": {
                      "colorbar": {
                        "outlinewidth": 1,
                        "tickcolor": "rgb(36,36,36)",
                        "ticks": "outside"
                      }
                    },
                    "colorscale": {
                      "diverging": [
                        [
                          0,
                          "rgb(103,0,31)"
                        ],
                        [
                          0.1,
                          "rgb(178,24,43)"
                        ],
                        [
                          0.2,
                          "rgb(214,96,77)"
                        ],
                        [
                          0.3,
                          "rgb(244,165,130)"
                        ],
                        [
                          0.4,
                          "rgb(253,219,199)"
                        ],
                        [
                          0.5,
                          "rgb(247,247,247)"
                        ],
                        [
                          0.6,
                          "rgb(209,229,240)"
                        ],
                        [
                          0.7,
                          "rgb(146,197,222)"
                        ],
                        [
                          0.8,
                          "rgb(67,147,195)"
                        ],
                        [
                          0.9,
                          "rgb(33,102,172)"
                        ],
                        [
                          1,
                          "rgb(5,48,97)"
                        ]
                      ],
                      "sequential": [
                        [
                          0,
                          "#440154"
                        ],
                        [
                          0.1111111111111111,
                          "#482878"
                        ],
                        [
                          0.2222222222222222,
                          "#3e4989"
                        ],
                        [
                          0.3333333333333333,
                          "#31688e"
                        ],
                        [
                          0.4444444444444444,
                          "#26828e"
                        ],
                        [
                          0.5555555555555556,
                          "#1f9e89"
                        ],
                        [
                          0.6666666666666666,
                          "#35b779"
                        ],
                        [
                          0.7777777777777778,
                          "#6ece58"
                        ],
                        [
                          0.8888888888888888,
                          "#b5de2b"
                        ],
                        [
                          1,
                          "#fde725"
                        ]
                      ],
                      "sequentialminus": [
                        [
                          0,
                          "#440154"
                        ],
                        [
                          0.1111111111111111,
                          "#482878"
                        ],
                        [
                          0.2222222222222222,
                          "#3e4989"
                        ],
                        [
                          0.3333333333333333,
                          "#31688e"
                        ],
                        [
                          0.4444444444444444,
                          "#26828e"
                        ],
                        [
                          0.5555555555555556,
                          "#1f9e89"
                        ],
                        [
                          0.6666666666666666,
                          "#35b779"
                        ],
                        [
                          0.7777777777777778,
                          "#6ece58"
                        ],
                        [
                          0.8888888888888888,
                          "#b5de2b"
                        ],
                        [
                          1,
                          "#fde725"
                        ]
                      ]
                    },
                    "colorway": [
                      "#1F77B4",
                      "#FF7F0E",
                      "#2CA02C",
                      "#D62728",
                      "#9467BD",
                      "#8C564B",
                      "#E377C2",
                      "#7F7F7F",
                      "#BCBD22",
                      "#17BECF"
                    ],
                    "font": {
                      "color": "rgb(36,36,36)"
                    },
                    "geo": {
                      "bgcolor": "white",
                      "lakecolor": "white",
                      "landcolor": "white",
                      "showlakes": true,
                      "showland": true,
                      "subunitcolor": "white"
                    },
                    "hoverlabel": {
                      "align": "left"
                    },
                    "hovermode": "closest",
                    "mapbox": {
                      "style": "light"
                    },
                    "paper_bgcolor": "white",
                    "plot_bgcolor": "white",
                    "polar": {
                      "angularaxis": {
                        "gridcolor": "rgb(232,232,232)",
                        "linecolor": "rgb(36,36,36)",
                        "showgrid": false,
                        "showline": true,
                        "ticks": "outside"
                      },
                      "bgcolor": "white",
                      "radialaxis": {
                        "gridcolor": "rgb(232,232,232)",
                        "linecolor": "rgb(36,36,36)",
                        "showgrid": false,
                        "showline": true,
                        "ticks": "outside"
                      }
                    },
                    "scene": {
                      "xaxis": {
                        "backgroundcolor": "white",
                        "gridcolor": "rgb(232,232,232)",
                        "gridwidth": 2,
                        "linecolor": "rgb(36,36,36)",
                        "showbackground": true,
                        "showgrid": false,
                        "showline": true,
                        "ticks": "outside",
                        "zeroline": false,
                        "zerolinecolor": "rgb(36,36,36)"
                      },
                      "yaxis": {
                        "backgroundcolor": "white",
                        "gridcolor": "rgb(232,232,232)",
                        "gridwidth": 2,
                        "linecolor": "rgb(36,36,36)",
                        "showbackground": true,
                        "showgrid": false,
                        "showline": true,
                        "ticks": "outside",
                        "zeroline": false,
                        "zerolinecolor": "rgb(36,36,36)"
                      },
                      "zaxis": {
                        "backgroundcolor": "white",
                        "gridcolor": "rgb(232,232,232)",
                        "gridwidth": 2,
                        "linecolor": "rgb(36,36,36)",
                        "showbackground": true,
                        "showgrid": false,
                        "showline": true,
                        "ticks": "outside",
                        "zeroline": false,
                        "zerolinecolor": "rgb(36,36,36)"
                      }
                    },
                    "shapedefaults": {
                      "fillcolor": "black",
                      "line": {
                        "width": 0
                      },
                      "opacity": 0.3
                    },
                    "ternary": {
                      "aaxis": {
                        "gridcolor": "rgb(232,232,232)",
                        "linecolor": "rgb(36,36,36)",
                        "showgrid": false,
                        "showline": true,
                        "ticks": "outside"
                      },
                      "baxis": {
                        "gridcolor": "rgb(232,232,232)",
                        "linecolor": "rgb(36,36,36)",
                        "showgrid": false,
                        "showline": true,
                        "ticks": "outside"
                      },
                      "bgcolor": "white",
                      "caxis": {
                        "gridcolor": "rgb(232,232,232)",
                        "linecolor": "rgb(36,36,36)",
                        "showgrid": false,
                        "showline": true,
                        "ticks": "outside"
                      }
                    },
                    "title": {
                      "x": 0.05
                    },
                    "xaxis": {
                      "automargin": true,
                      "gridcolor": "rgb(232,232,232)",
                      "linecolor": "rgb(36,36,36)",
                      "showgrid": false,
                      "showline": true,
                      "ticks": "outside",
                      "title": {
                        "standoff": 15
                      },
                      "zeroline": false,
                      "zerolinecolor": "rgb(36,36,36)"
                    },
                    "yaxis": {
                      "automargin": true,
                      "gridcolor": "rgb(232,232,232)",
                      "linecolor": "rgb(36,36,36)",
                      "showgrid": false,
                      "showline": true,
                      "ticks": "outside",
                      "title": {
                        "standoff": 15
                      },
                      "zeroline": false,
                      "zerolinecolor": "rgb(36,36,36)"
                    }
                  }
                },
                "title": {
                  "font": {
                    "color": "Black",
                    "size": 22
                  },
                  "text": "<b>Topics per Class</b>",
                  "x": 0.4,
                  "xanchor": "center",
                  "y": 0.95,
                  "yanchor": "top"
                },
                "width": 1250,
                "xaxis": {
                  "showgrid": true,
                  "title": {
                    "text": "Frequency"
                  }
                },
                "yaxis": {
                  "showgrid": true,
                  "title": {
                    "text": "Class"
                  }
                }
              }
            }
          },
          "metadata": {},
          "output_type": "display_data"
        }
      ],
      "source": [
        "topic_model = BERTopic(language=\"english\", calculate_probabilities=True, embedding_model=model, umap_model=umap_model, n_gram_range=(1, 2))\n",
        "topics, probs = topic_model.fit_transform(dataset['train']['text'])\n",
        "topic_per_class = topic_model.topics_per_class(dataset['train']['text'], topics)\n",
        "topic_model.visualize_topics_per_class(topic_per_class, top_n_topics=20)"
      ]
    },
    {
      "attachments": {},
      "cell_type": "markdown",
      "metadata": {},
      "source": [
        "There is not a big difference using bigrams, topics names are more repetitive, but the topics are still in the same domain as before."
      ]
    },
    {
      "attachments": {},
      "cell_type": "markdown",
      "metadata": {
        "id": "_aHNoUVllaC3"
      },
      "source": [
        "## Evaluate a model\n",
        "\n",
        "#### 1. Evaluate their model on the test split of the dataset you picked, using precision, recall, and F1-score."
      ]
    },
    {
      "attachments": {},
      "cell_type": "markdown",
      "metadata": {
        "id": "H6uWVPGYlaC3"
      },
      "source": [
        "So we will pick the RoBERTa model that has been fine-tuned on the offensive dataset. Let's use it through the HugginFace library"
      ]
    },
    {
      "cell_type": "code",
      "execution_count": 11,
      "metadata": {},
      "outputs": [
        {
          "name": "stdout",
          "output_type": "stream",
          "text": [
            "huggingface/tokenizers: The current process just got forked, after parallelism has already been used. Disabling parallelism to avoid deadlocks...\n",
            "To disable this warning, you can either:\n",
            "\t- Avoid using `tokenizers` before the fork if possible\n",
            "\t- Explicitly set the environment variable TOKENIZERS_PARALLELISM=(true | false)\n"
          ]
        }
      ],
      "source": [
        "!rm -rf cardiffnlp"
      ]
    },
    {
      "cell_type": "code",
      "execution_count": 12,
      "metadata": {
        "colab": {
          "base_uri": "https://localhost:8080/",
          "height": 963,
          "referenced_widgets": [
            "ce442d95b235442e907d6c7d07ca0b1c",
            "6f3d053d8a65471a8e97725fe847251d",
            "5506b3c09934462ca0098a15d720fe1d",
            "573284e164084ae9b6c0b8d63f596703",
            "6e29030189ab49fd93c1ad5ce65be6e9",
            "3fee4f5fa36c4bcba29160938af239d2",
            "a8e2d33eecd74500a8060a65f20cd9aa",
            "7a67e326935e4da6aef486f5f6e92b76",
            "5bc37c6c546b474599f3d467c89a996b",
            "d81aa69eb6634457aa9e986d360319b3",
            "b1f49bffba7e439fb073dce5aa3bf39e",
            "e8069e698b5a4459b21759e60770ee13",
            "6f3d27371912472eba195296e9643e85",
            "98a9161e562240e9a72576f9a1cc0683",
            "fb9904ab219a483084cf6552bb12e3e4",
            "b028dcc6d7e741549fafe36c0fd09896",
            "b4ed69077cbb436fa6ed1ba63c91f5c8",
            "127832dfe92a427f901bdee91bbc33e3",
            "0725a950732c4dfebef46970dde6b7c3",
            "27e529afe755458ab600233c5354b6dc",
            "1b4661a9edd94b6b8df91b02a28120c7",
            "9312beaa14834275a36fa210d0a1d488",
            "04221b1e9bd743e6890c53b4d89d3247",
            "da951d3ab83e4e3ea668a7b07cf5e122",
            "fada35910d3f42429771357b97caadba",
            "56de5a18809c4db0878afcffe453bc20",
            "19d96f173742499aa724062e30394a33",
            "1f5bd57c3e284ba6b3236e3a4eea7ee0",
            "b6eb58f72faf4b3c9eee2eb06209a49a",
            "d2cbc694008a4674afe14bfe9d5a00af",
            "9d030f15efeb4ee387d5877d95ab0065",
            "98b763b12fe7448e8d8cd06a5185cea1",
            "8912f708afc54a77aa28afd04395da56",
            "f28731a670424598b6339d4524589f0e",
            "364df7cb8f5a481b88141dc68d4c57d9",
            "170d87c8852b413094e7771c91414a0a",
            "4b65969759e24f42b589fe56164e1231",
            "cb069cc0b8ba46bbb36d1007dfbdc556",
            "1e680d2e80c64974bfc7bd9c26933b0d",
            "a4ed448c76614c44b29b6d76b4201e02",
            "02fd795f36634897b535c92d123df670",
            "8df63a178c274f02975d0fb2280ec349",
            "40750825bf5b434a896ad7efde0c62a3",
            "b3139d2b4a694104bc10a542077d6b76",
            "b50f689e52b8432bbde0bb61b9a0b6ed",
            "759fa8e88a7144f7a73879c088c798a1",
            "8d6bbe0730a3487e8eabe41f12f8bb0c",
            "4b2cafc042d341c587a8aa4bcf7e9c2f",
            "c9eedaf0797c452cb2810482ed6b8913",
            "6e0f86f24a8d44d49db28757091c0b0c",
            "e39d468bdc1a4c9380789b39864d6bc9",
            "f17c435e26504b0c858f540b3c868599",
            "9e9883636cb2419e8a1e2eff19a408a1",
            "515a973ab61846f89da2bbdd3819b1b6",
            "d8490e1aceba4ddba8c9a783374c0335"
          ]
        },
        "id": "-fdTnMSClaC3",
        "outputId": "194b1f6b-e578-40e0-e25f-915b331c12b5"
      },
      "outputs": [],
      "source": [
        "MODEL = f\"cardiffnlp/twitter-roberta-base-offensive\"\n",
        "\n",
        "tokenizer = AutoTokenizer.from_pretrained(MODEL)\n",
        "model = AutoModelForSequenceClassification.from_pretrained(MODEL)"
      ]
    },
    {
      "attachments": {},
      "cell_type": "markdown",
      "metadata": {
        "id": "QOi_6akLlaC4"
      },
      "source": [
        "#### 1. Evaluate their model on the test split of the dataset you picked, using precision, recall, and F1-score."
      ]
    },
    {
      "cell_type": "code",
      "execution_count": 13,
      "metadata": {},
      "outputs": [
        {
          "name": "stderr",
          "output_type": "stream",
          "text": [
            "Xformers is not installed correctly. If you want to use memorry_efficient_attention to accelerate training use the following command to install Xformers\n",
            "pip install xformers.\n"
          ]
        }
      ],
      "source": [
        "roberta_pipeline = pipeline(\n",
        "    \"text-classification\",\n",
        "    model=model,\n",
        "    tokenizer=tokenizer\n",
        ")"
      ]
    },
    {
      "cell_type": "code",
      "execution_count": 27,
      "metadata": {},
      "outputs": [
        {
          "data": {
            "text/plain": [
              "[{'label': 'offensive', 'score': 0.856173038482666},\n",
              " {'label': 'offensive', 'score': 0.6463530659675598},\n",
              " {'label': 'non-offensive', 'score': 0.5957751274108887},\n",
              " {'label': 'non-offensive', 'score': 0.7610461711883545},\n",
              " {'label': 'non-offensive', 'score': 0.9149481654167175},\n",
              " {'label': 'non-offensive', 'score': 0.9536920189857483},\n",
              " {'label': 'non-offensive', 'score': 0.7719836831092834},\n",
              " {'label': 'non-offensive', 'score': 0.9647331237792969},\n",
              " {'label': 'offensive', 'score': 0.8978868722915649},\n",
              " {'label': 'non-offensive', 'score': 0.505090594291687},\n",
              " {'label': 'offensive', 'score': 0.7437807321548462},\n",
              " {'label': 'non-offensive', 'score': 0.9143494963645935},\n",
              " {'label': 'non-offensive', 'score': 0.9382737278938293},\n",
              " {'label': 'non-offensive', 'score': 0.6899848580360413},\n",
              " {'label': 'non-offensive', 'score': 0.5975456237792969},\n",
              " {'label': 'offensive', 'score': 0.8460323810577393},\n",
              " {'label': 'non-offensive', 'score': 0.7833716869354248},\n",
              " {'label': 'non-offensive', 'score': 0.951020359992981},\n",
              " {'label': 'offensive', 'score': 0.6954761743545532},\n",
              " {'label': 'offensive', 'score': 0.6148088574409485},\n",
              " {'label': 'non-offensive', 'score': 0.9211805462837219},\n",
              " {'label': 'non-offensive', 'score': 0.9613785743713379},\n",
              " {'label': 'non-offensive', 'score': 0.9272322654724121},\n",
              " {'label': 'offensive', 'score': 0.859533965587616},\n",
              " {'label': 'offensive', 'score': 0.6659108996391296},\n",
              " {'label': 'non-offensive', 'score': 0.8005006313323975},\n",
              " {'label': 'non-offensive', 'score': 0.888978123664856},\n",
              " {'label': 'non-offensive', 'score': 0.8529670238494873},\n",
              " {'label': 'non-offensive', 'score': 0.8805304765701294},\n",
              " {'label': 'non-offensive', 'score': 0.832657516002655},\n",
              " {'label': 'non-offensive', 'score': 0.9255490303039551},\n",
              " {'label': 'non-offensive', 'score': 0.5920920372009277},\n",
              " {'label': 'offensive', 'score': 0.6086819767951965},\n",
              " {'label': 'non-offensive', 'score': 0.7895367741584778},\n",
              " {'label': 'non-offensive', 'score': 0.7168017029762268},\n",
              " {'label': 'non-offensive', 'score': 0.5830867290496826},\n",
              " {'label': 'non-offensive', 'score': 0.8905478119850159},\n",
              " {'label': 'non-offensive', 'score': 0.6870761513710022},\n",
              " {'label': 'non-offensive', 'score': 0.9002664685249329},\n",
              " {'label': 'non-offensive', 'score': 0.9598767757415771},\n",
              " {'label': 'offensive', 'score': 0.7929825782775879},\n",
              " {'label': 'offensive', 'score': 0.8564584255218506},\n",
              " {'label': 'offensive', 'score': 0.8085554242134094},\n",
              " {'label': 'non-offensive', 'score': 0.9607175588607788},\n",
              " {'label': 'offensive', 'score': 0.7872814536094666},\n",
              " {'label': 'offensive', 'score': 0.8807374238967896},\n",
              " {'label': 'non-offensive', 'score': 0.8646060824394226},\n",
              " {'label': 'offensive', 'score': 0.8747128248214722},\n",
              " {'label': 'non-offensive', 'score': 0.7228529453277588},\n",
              " {'label': 'non-offensive', 'score': 0.7152253985404968},\n",
              " {'label': 'non-offensive', 'score': 0.8877006769180298},\n",
              " {'label': 'non-offensive', 'score': 0.9071815609931946},\n",
              " {'label': 'non-offensive', 'score': 0.8986267447471619},\n",
              " {'label': 'non-offensive', 'score': 0.6094287633895874},\n",
              " {'label': 'non-offensive', 'score': 0.9176159501075745},\n",
              " {'label': 'non-offensive', 'score': 0.8822653293609619},\n",
              " {'label': 'non-offensive', 'score': 0.8496428728103638},\n",
              " {'label': 'non-offensive', 'score': 0.9567338824272156},\n",
              " {'label': 'non-offensive', 'score': 0.6381656527519226},\n",
              " {'label': 'non-offensive', 'score': 0.9627326130867004},\n",
              " {'label': 'non-offensive', 'score': 0.8923089504241943},\n",
              " {'label': 'non-offensive', 'score': 0.8799210786819458},\n",
              " {'label': 'non-offensive', 'score': 0.6779547929763794},\n",
              " {'label': 'offensive', 'score': 0.7261376976966858},\n",
              " {'label': 'offensive', 'score': 0.6632963418960571},\n",
              " {'label': 'non-offensive', 'score': 0.5622185468673706},\n",
              " {'label': 'non-offensive', 'score': 0.7111819982528687},\n",
              " {'label': 'non-offensive', 'score': 0.6981507539749146},\n",
              " {'label': 'non-offensive', 'score': 0.6280423402786255},\n",
              " {'label': 'offensive', 'score': 0.6128137707710266},\n",
              " {'label': 'non-offensive', 'score': 0.9325283169746399},\n",
              " {'label': 'offensive', 'score': 0.8811163902282715},\n",
              " {'label': 'non-offensive', 'score': 0.5353884100914001},\n",
              " {'label': 'non-offensive', 'score': 0.9125734567642212},\n",
              " {'label': 'non-offensive', 'score': 0.9384405016899109},\n",
              " {'label': 'non-offensive', 'score': 0.7982913255691528},\n",
              " {'label': 'non-offensive', 'score': 0.7532820701599121},\n",
              " {'label': 'offensive', 'score': 0.9006553888320923},\n",
              " {'label': 'non-offensive', 'score': 0.9413447976112366},\n",
              " {'label': 'non-offensive', 'score': 0.7884467244148254},\n",
              " {'label': 'non-offensive', 'score': 0.6244893670082092},\n",
              " {'label': 'offensive', 'score': 0.5826718807220459},\n",
              " {'label': 'non-offensive', 'score': 0.7817951440811157},\n",
              " {'label': 'non-offensive', 'score': 0.9468815326690674},\n",
              " {'label': 'non-offensive', 'score': 0.8110015988349915},\n",
              " {'label': 'non-offensive', 'score': 0.7197837233543396},\n",
              " {'label': 'non-offensive', 'score': 0.8770596385002136},\n",
              " {'label': 'non-offensive', 'score': 0.7743412852287292},\n",
              " {'label': 'non-offensive', 'score': 0.9729042649269104},\n",
              " {'label': 'non-offensive', 'score': 0.9490767121315002},\n",
              " {'label': 'non-offensive', 'score': 0.902915358543396},\n",
              " {'label': 'non-offensive', 'score': 0.7529154419898987},\n",
              " {'label': 'non-offensive', 'score': 0.9693130850791931},\n",
              " {'label': 'non-offensive', 'score': 0.8198955655097961},\n",
              " {'label': 'non-offensive', 'score': 0.8196569085121155},\n",
              " {'label': 'offensive', 'score': 0.5213666558265686},\n",
              " {'label': 'non-offensive', 'score': 0.9338217973709106},\n",
              " {'label': 'offensive', 'score': 0.8366519808769226},\n",
              " {'label': 'non-offensive', 'score': 0.9089363217353821},\n",
              " {'label': 'offensive', 'score': 0.5521014928817749},\n",
              " {'label': 'non-offensive', 'score': 0.7843078970909119},\n",
              " {'label': 'non-offensive', 'score': 0.9632238745689392},\n",
              " {'label': 'non-offensive', 'score': 0.5262848138809204},\n",
              " {'label': 'non-offensive', 'score': 0.9495053291320801},\n",
              " {'label': 'non-offensive', 'score': 0.7394158840179443},\n",
              " {'label': 'non-offensive', 'score': 0.963688313961029},\n",
              " {'label': 'non-offensive', 'score': 0.9206315875053406},\n",
              " {'label': 'offensive', 'score': 0.8659908175468445},\n",
              " {'label': 'non-offensive', 'score': 0.8537524342536926},\n",
              " {'label': 'offensive', 'score': 0.811662495136261},\n",
              " {'label': 'non-offensive', 'score': 0.8177697658538818},\n",
              " {'label': 'non-offensive', 'score': 0.7034445405006409},\n",
              " {'label': 'non-offensive', 'score': 0.817930281162262},\n",
              " {'label': 'non-offensive', 'score': 0.8469158411026001},\n",
              " {'label': 'non-offensive', 'score': 0.7968279123306274},\n",
              " {'label': 'offensive', 'score': 0.8153446316719055},\n",
              " {'label': 'non-offensive', 'score': 0.5297676920890808},\n",
              " {'label': 'non-offensive', 'score': 0.8634473085403442},\n",
              " {'label': 'offensive', 'score': 0.7103620171546936},\n",
              " {'label': 'non-offensive', 'score': 0.5440486073493958},\n",
              " {'label': 'non-offensive', 'score': 0.8350384831428528},\n",
              " {'label': 'non-offensive', 'score': 0.6329460144042969},\n",
              " {'label': 'non-offensive', 'score': 0.895766019821167},\n",
              " {'label': 'non-offensive', 'score': 0.8325799107551575},\n",
              " {'label': 'non-offensive', 'score': 0.9437342286109924},\n",
              " {'label': 'non-offensive', 'score': 0.9381805062294006},\n",
              " {'label': 'non-offensive', 'score': 0.8568535447120667},\n",
              " {'label': 'non-offensive', 'score': 0.956928014755249},\n",
              " {'label': 'non-offensive', 'score': 0.7905188202857971},\n",
              " {'label': 'non-offensive', 'score': 0.6041426062583923},\n",
              " {'label': 'non-offensive', 'score': 0.7086198329925537},\n",
              " {'label': 'offensive', 'score': 0.649199903011322},\n",
              " {'label': 'offensive', 'score': 0.871320366859436},\n",
              " {'label': 'non-offensive', 'score': 0.8954464793205261},\n",
              " {'label': 'non-offensive', 'score': 0.8920491337776184},\n",
              " {'label': 'non-offensive', 'score': 0.5658277273178101},\n",
              " {'label': 'non-offensive', 'score': 0.5189424157142639},\n",
              " {'label': 'non-offensive', 'score': 0.6660752892494202},\n",
              " {'label': 'non-offensive', 'score': 0.774082362651825},\n",
              " {'label': 'non-offensive', 'score': 0.7921082973480225},\n",
              " {'label': 'offensive', 'score': 0.5211134552955627},\n",
              " {'label': 'non-offensive', 'score': 0.7442581653594971},\n",
              " {'label': 'non-offensive', 'score': 0.9638006687164307},\n",
              " {'label': 'non-offensive', 'score': 0.9419043660163879},\n",
              " {'label': 'non-offensive', 'score': 0.9113001227378845},\n",
              " {'label': 'non-offensive', 'score': 0.8180261850357056},\n",
              " {'label': 'non-offensive', 'score': 0.7933775782585144},\n",
              " {'label': 'non-offensive', 'score': 0.5861366987228394},\n",
              " {'label': 'non-offensive', 'score': 0.5466554164886475},\n",
              " {'label': 'non-offensive', 'score': 0.9063020944595337},\n",
              " {'label': 'offensive', 'score': 0.5894610285758972},\n",
              " {'label': 'non-offensive', 'score': 0.7297394871711731},\n",
              " {'label': 'offensive', 'score': 0.8354783058166504},\n",
              " {'label': 'non-offensive', 'score': 0.8747234344482422},\n",
              " {'label': 'non-offensive', 'score': 0.9477459192276001},\n",
              " {'label': 'non-offensive', 'score': 0.8575080633163452},\n",
              " {'label': 'non-offensive', 'score': 0.8984280228614807},\n",
              " {'label': 'offensive', 'score': 0.6692493557929993},\n",
              " {'label': 'non-offensive', 'score': 0.9403613209724426},\n",
              " {'label': 'non-offensive', 'score': 0.9420992136001587},\n",
              " {'label': 'non-offensive', 'score': 0.7596739530563354},\n",
              " {'label': 'non-offensive', 'score': 0.7340707182884216},\n",
              " {'label': 'offensive', 'score': 0.8357967734336853},\n",
              " {'label': 'non-offensive', 'score': 0.970574140548706},\n",
              " {'label': 'offensive', 'score': 0.7510614395141602},\n",
              " {'label': 'non-offensive', 'score': 0.796035647392273},\n",
              " {'label': 'non-offensive', 'score': 0.9665788412094116},\n",
              " {'label': 'offensive', 'score': 0.5260827541351318},\n",
              " {'label': 'non-offensive', 'score': 0.6838005185127258},\n",
              " {'label': 'offensive', 'score': 0.7566713094711304},\n",
              " {'label': 'offensive', 'score': 0.7728422284126282},\n",
              " {'label': 'non-offensive', 'score': 0.8088419437408447},\n",
              " {'label': 'offensive', 'score': 0.812073826789856},\n",
              " {'label': 'offensive', 'score': 0.5438273549079895},\n",
              " {'label': 'non-offensive', 'score': 0.8925508856773376},\n",
              " {'label': 'offensive', 'score': 0.5793178081512451},\n",
              " {'label': 'non-offensive', 'score': 0.8900401592254639},\n",
              " {'label': 'non-offensive', 'score': 0.919756293296814},\n",
              " {'label': 'non-offensive', 'score': 0.7605836391448975},\n",
              " {'label': 'non-offensive', 'score': 0.8877191543579102},\n",
              " {'label': 'non-offensive', 'score': 0.7382698655128479},\n",
              " {'label': 'non-offensive', 'score': 0.9481533169746399},\n",
              " {'label': 'non-offensive', 'score': 0.9678386449813843},\n",
              " {'label': 'non-offensive', 'score': 0.8794602155685425},\n",
              " {'label': 'offensive', 'score': 0.5213223695755005},\n",
              " {'label': 'offensive', 'score': 0.8659946918487549},\n",
              " {'label': 'non-offensive', 'score': 0.9194746613502502},\n",
              " {'label': 'offensive', 'score': 0.8206168413162231},\n",
              " {'label': 'non-offensive', 'score': 0.7786996960639954},\n",
              " {'label': 'non-offensive', 'score': 0.7998613715171814},\n",
              " {'label': 'non-offensive', 'score': 0.66825270652771},\n",
              " {'label': 'non-offensive', 'score': 0.7131672501564026},\n",
              " {'label': 'non-offensive', 'score': 0.8758537173271179},\n",
              " {'label': 'non-offensive', 'score': 0.8071776032447815},\n",
              " {'label': 'non-offensive', 'score': 0.6661297678947449},\n",
              " {'label': 'non-offensive', 'score': 0.9424570202827454},\n",
              " {'label': 'non-offensive', 'score': 0.7717088460922241},\n",
              " {'label': 'non-offensive', 'score': 0.7224788665771484},\n",
              " {'label': 'non-offensive', 'score': 0.8906568884849548},\n",
              " {'label': 'non-offensive', 'score': 0.7085135579109192},\n",
              " {'label': 'non-offensive', 'score': 0.9688556790351868},\n",
              " {'label': 'non-offensive', 'score': 0.5352303981781006},\n",
              " {'label': 'non-offensive', 'score': 0.5357815623283386},\n",
              " {'label': 'non-offensive', 'score': 0.8583065271377563},\n",
              " {'label': 'offensive', 'score': 0.6699379682540894},\n",
              " {'label': 'offensive', 'score': 0.701668918132782},\n",
              " {'label': 'non-offensive', 'score': 0.9596728682518005},\n",
              " {'label': 'non-offensive', 'score': 0.9133543372154236},\n",
              " {'label': 'non-offensive', 'score': 0.8600544333457947},\n",
              " {'label': 'offensive', 'score': 0.7671756744384766},\n",
              " {'label': 'offensive', 'score': 0.7014821767807007},\n",
              " {'label': 'non-offensive', 'score': 0.7130832076072693},\n",
              " {'label': 'non-offensive', 'score': 0.7439190745353699},\n",
              " {'label': 'offensive', 'score': 0.5096213221549988},\n",
              " {'label': 'non-offensive', 'score': 0.706321656703949},\n",
              " {'label': 'non-offensive', 'score': 0.5330220460891724},\n",
              " {'label': 'offensive', 'score': 0.8115618228912354},\n",
              " {'label': 'offensive', 'score': 0.5494672060012817},\n",
              " {'label': 'non-offensive', 'score': 0.9458969831466675},\n",
              " {'label': 'non-offensive', 'score': 0.9572929739952087},\n",
              " {'label': 'non-offensive', 'score': 0.8219975233078003},\n",
              " {'label': 'non-offensive', 'score': 0.7878559231758118},\n",
              " {'label': 'non-offensive', 'score': 0.9180790781974792},\n",
              " {'label': 'non-offensive', 'score': 0.7705109119415283},\n",
              " {'label': 'non-offensive', 'score': 0.9781582355499268},\n",
              " {'label': 'non-offensive', 'score': 0.9604655504226685},\n",
              " {'label': 'non-offensive', 'score': 0.6272556185722351},\n",
              " {'label': 'non-offensive', 'score': 0.826004147529602},\n",
              " {'label': 'non-offensive', 'score': 0.9081719517707825},\n",
              " {'label': 'non-offensive', 'score': 0.9443882703781128},\n",
              " {'label': 'offensive', 'score': 0.6546138525009155},\n",
              " {'label': 'offensive', 'score': 0.6115046143531799},\n",
              " {'label': 'non-offensive', 'score': 0.5467252731323242},\n",
              " {'label': 'offensive', 'score': 0.864190399646759},\n",
              " {'label': 'non-offensive', 'score': 0.8991748690605164},\n",
              " {'label': 'non-offensive', 'score': 0.9626563787460327},\n",
              " {'label': 'offensive', 'score': 0.7211799621582031},\n",
              " {'label': 'non-offensive', 'score': 0.7961703538894653},\n",
              " {'label': 'non-offensive', 'score': 0.8196569085121155},\n",
              " {'label': 'non-offensive', 'score': 0.7071813941001892},\n",
              " {'label': 'non-offensive', 'score': 0.7421274781227112},\n",
              " {'label': 'non-offensive', 'score': 0.9747382402420044},\n",
              " {'label': 'non-offensive', 'score': 0.9220367074012756},\n",
              " {'label': 'offensive', 'score': 0.7846319079399109},\n",
              " {'label': 'non-offensive', 'score': 0.9598767757415771},\n",
              " {'label': 'offensive', 'score': 0.9212592244148254},\n",
              " {'label': 'non-offensive', 'score': 0.9634412527084351},\n",
              " {'label': 'offensive', 'score': 0.5068149566650391},\n",
              " {'label': 'non-offensive', 'score': 0.7883318662643433},\n",
              " {'label': 'offensive', 'score': 0.8967992067337036},\n",
              " {'label': 'offensive', 'score': 0.5644499659538269},\n",
              " {'label': 'non-offensive', 'score': 0.574522078037262},\n",
              " {'label': 'non-offensive', 'score': 0.8695482015609741},\n",
              " {'label': 'offensive', 'score': 0.7471998333930969},\n",
              " {'label': 'non-offensive', 'score': 0.9544573426246643},\n",
              " {'label': 'non-offensive', 'score': 0.7230839729309082},\n",
              " {'label': 'offensive', 'score': 0.657132089138031},\n",
              " {'label': 'non-offensive', 'score': 0.5831230282783508},\n",
              " {'label': 'offensive', 'score': 0.8674396276473999},\n",
              " {'label': 'non-offensive', 'score': 0.8422994017601013},\n",
              " {'label': 'non-offensive', 'score': 0.8638830184936523},\n",
              " {'label': 'non-offensive', 'score': 0.8327128887176514},\n",
              " {'label': 'non-offensive', 'score': 0.9295574426651001},\n",
              " {'label': 'offensive', 'score': 0.5390884280204773},\n",
              " {'label': 'offensive', 'score': 0.7727183699607849},\n",
              " {'label': 'non-offensive', 'score': 0.5419759154319763},\n",
              " {'label': 'non-offensive', 'score': 0.8944764137268066},\n",
              " {'label': 'non-offensive', 'score': 0.8971509337425232},\n",
              " {'label': 'offensive', 'score': 0.8106285333633423},\n",
              " {'label': 'non-offensive', 'score': 0.8308777213096619},\n",
              " {'label': 'offensive', 'score': 0.9143260717391968},\n",
              " {'label': 'non-offensive', 'score': 0.896653413772583},\n",
              " {'label': 'non-offensive', 'score': 0.747501015663147},\n",
              " {'label': 'non-offensive', 'score': 0.6010663509368896},\n",
              " {'label': 'offensive', 'score': 0.8638688325881958},\n",
              " {'label': 'non-offensive', 'score': 0.9200100898742676},\n",
              " {'label': 'non-offensive', 'score': 0.7578940391540527},\n",
              " {'label': 'non-offensive', 'score': 0.9469349384307861},\n",
              " {'label': 'offensive', 'score': 0.8744546175003052},\n",
              " {'label': 'non-offensive', 'score': 0.8753796219825745},\n",
              " {'label': 'non-offensive', 'score': 0.940129280090332},\n",
              " {'label': 'non-offensive', 'score': 0.9618083834648132},\n",
              " {'label': 'non-offensive', 'score': 0.8775813579559326},\n",
              " {'label': 'non-offensive', 'score': 0.9466975927352905},\n",
              " {'label': 'offensive', 'score': 0.8881096839904785},\n",
              " {'label': 'non-offensive', 'score': 0.9543339610099792},\n",
              " {'label': 'offensive', 'score': 0.5587500929832458},\n",
              " {'label': 'non-offensive', 'score': 0.8736361265182495},\n",
              " {'label': 'offensive', 'score': 0.6735706329345703},\n",
              " {'label': 'non-offensive', 'score': 0.9327573776245117},\n",
              " {'label': 'offensive', 'score': 0.6854352951049805},\n",
              " {'label': 'non-offensive', 'score': 0.5194258689880371},\n",
              " {'label': 'non-offensive', 'score': 0.5959472060203552},\n",
              " {'label': 'offensive', 'score': 0.8108363747596741},\n",
              " {'label': 'non-offensive', 'score': 0.776725709438324},\n",
              " {'label': 'non-offensive', 'score': 0.5828918814659119},\n",
              " {'label': 'offensive', 'score': 0.8937872648239136},\n",
              " {'label': 'non-offensive', 'score': 0.8735195994377136},\n",
              " {'label': 'non-offensive', 'score': 0.7431633472442627},\n",
              " {'label': 'non-offensive', 'score': 0.8211655616760254},\n",
              " {'label': 'non-offensive', 'score': 0.933017373085022},\n",
              " {'label': 'non-offensive', 'score': 0.8592702150344849},\n",
              " {'label': 'non-offensive', 'score': 0.6876612901687622},\n",
              " {'label': 'non-offensive', 'score': 0.9458333253860474},\n",
              " {'label': 'non-offensive', 'score': 0.8215388059616089},\n",
              " {'label': 'non-offensive', 'score': 0.942115306854248},\n",
              " {'label': 'non-offensive', 'score': 0.7306233644485474},\n",
              " {'label': 'non-offensive', 'score': 0.7003610134124756},\n",
              " {'label': 'non-offensive', 'score': 0.6231130957603455},\n",
              " {'label': 'non-offensive', 'score': 0.686599612236023},\n",
              " {'label': 'non-offensive', 'score': 0.7677751779556274},\n",
              " {'label': 'offensive', 'score': 0.6484770774841309},\n",
              " {'label': 'offensive', 'score': 0.5975080728530884},\n",
              " {'label': 'non-offensive', 'score': 0.9717153906822205},\n",
              " {'label': 'non-offensive', 'score': 0.8573783040046692},\n",
              " {'label': 'non-offensive', 'score': 0.9600428938865662},\n",
              " {'label': 'non-offensive', 'score': 0.8168665766716003},\n",
              " {'label': 'non-offensive', 'score': 0.9308887124061584},\n",
              " {'label': 'non-offensive', 'score': 0.7957576513290405},\n",
              " {'label': 'offensive', 'score': 0.5696908831596375},\n",
              " {'label': 'non-offensive', 'score': 0.9598820805549622},\n",
              " {'label': 'offensive', 'score': 0.7215139865875244},\n",
              " {'label': 'non-offensive', 'score': 0.8578736782073975},\n",
              " {'label': 'non-offensive', 'score': 0.9244564771652222},\n",
              " {'label': 'non-offensive', 'score': 0.9284777641296387},\n",
              " {'label': 'non-offensive', 'score': 0.6267338991165161},\n",
              " {'label': 'offensive', 'score': 0.6692473888397217},\n",
              " {'label': 'non-offensive', 'score': 0.8970034718513489},\n",
              " {'label': 'non-offensive', 'score': 0.957027792930603},\n",
              " {'label': 'offensive', 'score': 0.8328858613967896},\n",
              " {'label': 'offensive', 'score': 0.6654389500617981},\n",
              " {'label': 'non-offensive', 'score': 0.8302890062332153},\n",
              " {'label': 'non-offensive', 'score': 0.7953725457191467},\n",
              " {'label': 'non-offensive', 'score': 0.7666193246841431},\n",
              " {'label': 'non-offensive', 'score': 0.8905996680259705},\n",
              " {'label': 'offensive', 'score': 0.5180891752243042},\n",
              " {'label': 'non-offensive', 'score': 0.9284366369247437},\n",
              " {'label': 'offensive', 'score': 0.6543797850608826},\n",
              " {'label': 'non-offensive', 'score': 0.9126635193824768},\n",
              " {'label': 'offensive', 'score': 0.6509085893630981},\n",
              " {'label': 'offensive', 'score': 0.7710650563240051},\n",
              " {'label': 'offensive', 'score': 0.7159867286682129},\n",
              " {'label': 'non-offensive', 'score': 0.6982142925262451},\n",
              " {'label': 'non-offensive', 'score': 0.8875365257263184},\n",
              " {'label': 'non-offensive', 'score': 0.9508486390113831},\n",
              " {'label': 'non-offensive', 'score': 0.9334331750869751},\n",
              " {'label': 'non-offensive', 'score': 0.9578651189804077},\n",
              " {'label': 'non-offensive', 'score': 0.8654608130455017},\n",
              " {'label': 'non-offensive', 'score': 0.9177231192588806},\n",
              " {'label': 'non-offensive', 'score': 0.9027013778686523},\n",
              " {'label': 'non-offensive', 'score': 0.8740304112434387},\n",
              " {'label': 'non-offensive', 'score': 0.8444955348968506},\n",
              " {'label': 'non-offensive', 'score': 0.9475903511047363},\n",
              " {'label': 'non-offensive', 'score': 0.7827322483062744},\n",
              " {'label': 'offensive', 'score': 0.5314677953720093},\n",
              " {'label': 'non-offensive', 'score': 0.9316120147705078},\n",
              " {'label': 'non-offensive', 'score': 0.8890028595924377},\n",
              " {'label': 'offensive', 'score': 0.8847941160202026},\n",
              " {'label': 'non-offensive', 'score': 0.9181578755378723},\n",
              " {'label': 'non-offensive', 'score': 0.8407604694366455},\n",
              " {'label': 'non-offensive', 'score': 0.9297388792037964},\n",
              " {'label': 'non-offensive', 'score': 0.9071236848831177},\n",
              " {'label': 'non-offensive', 'score': 0.885219931602478},\n",
              " {'label': 'non-offensive', 'score': 0.7988125681877136},\n",
              " {'label': 'non-offensive', 'score': 0.7710421085357666},\n",
              " {'label': 'non-offensive', 'score': 0.914920449256897},\n",
              " {'label': 'non-offensive', 'score': 0.8186503648757935},\n",
              " {'label': 'non-offensive', 'score': 0.9257184863090515},\n",
              " {'label': 'non-offensive', 'score': 0.9582757353782654},\n",
              " {'label': 'non-offensive', 'score': 0.9010458588600159},\n",
              " {'label': 'non-offensive', 'score': 0.8828783631324768},\n",
              " {'label': 'non-offensive', 'score': 0.8380753397941589},\n",
              " {'label': 'non-offensive', 'score': 0.9118924140930176},\n",
              " {'label': 'offensive', 'score': 0.5982977151870728},\n",
              " {'label': 'offensive', 'score': 0.5962234139442444},\n",
              " {'label': 'non-offensive', 'score': 0.7622970342636108},\n",
              " {'label': 'non-offensive', 'score': 0.7860060334205627},\n",
              " {'label': 'non-offensive', 'score': 0.8565376996994019},\n",
              " {'label': 'non-offensive', 'score': 0.9321754574775696},\n",
              " {'label': 'non-offensive', 'score': 0.9527190327644348},\n",
              " {'label': 'offensive', 'score': 0.8947945833206177},\n",
              " {'label': 'non-offensive', 'score': 0.5827414989471436},\n",
              " {'label': 'non-offensive', 'score': 0.9683616161346436},\n",
              " {'label': 'non-offensive', 'score': 0.8715022206306458},\n",
              " {'label': 'non-offensive', 'score': 0.9445766806602478},\n",
              " {'label': 'non-offensive', 'score': 0.9338706731796265},\n",
              " {'label': 'non-offensive', 'score': 0.663296639919281},\n",
              " {'label': 'non-offensive', 'score': 0.8624588847160339},\n",
              " {'label': 'non-offensive', 'score': 0.8689831495285034},\n",
              " {'label': 'non-offensive', 'score': 0.8545988202095032},\n",
              " {'label': 'non-offensive', 'score': 0.7707483768463135},\n",
              " {'label': 'non-offensive', 'score': 0.8498957753181458},\n",
              " {'label': 'non-offensive', 'score': 0.5546286702156067},\n",
              " {'label': 'non-offensive', 'score': 0.8966789245605469},\n",
              " {'label': 'non-offensive', 'score': 0.9206033945083618},\n",
              " {'label': 'offensive', 'score': 0.6490565538406372},\n",
              " {'label': 'non-offensive', 'score': 0.8422994017601013},\n",
              " {'label': 'non-offensive', 'score': 0.8912426829338074},\n",
              " {'label': 'offensive', 'score': 0.8317632079124451},\n",
              " {'label': 'non-offensive', 'score': 0.8028572201728821},\n",
              " {'label': 'non-offensive', 'score': 0.8184941411018372},\n",
              " {'label': 'non-offensive', 'score': 0.652527391910553},\n",
              " {'label': 'non-offensive', 'score': 0.899795413017273},\n",
              " {'label': 'non-offensive', 'score': 0.6901146769523621},\n",
              " {'label': 'offensive', 'score': 0.8893686532974243},\n",
              " {'label': 'non-offensive', 'score': 0.9110732674598694},\n",
              " {'label': 'non-offensive', 'score': 0.9634975790977478},\n",
              " {'label': 'offensive', 'score': 0.7273526787757874},\n",
              " {'label': 'non-offensive', 'score': 0.9074219465255737},\n",
              " {'label': 'non-offensive', 'score': 0.7024166584014893},\n",
              " {'label': 'non-offensive', 'score': 0.9598140716552734},\n",
              " {'label': 'non-offensive', 'score': 0.943040668964386},\n",
              " {'label': 'non-offensive', 'score': 0.8882394433021545},\n",
              " {'label': 'offensive', 'score': 0.5667027831077576},\n",
              " {'label': 'offensive', 'score': 0.590703010559082},\n",
              " {'label': 'non-offensive', 'score': 0.6273155808448792},\n",
              " {'label': 'offensive', 'score': 0.628393828868866},\n",
              " {'label': 'offensive', 'score': 0.8847941160202026},\n",
              " {'label': 'non-offensive', 'score': 0.9112220406532288},\n",
              " {'label': 'non-offensive', 'score': 0.9258099794387817},\n",
              " {'label': 'non-offensive', 'score': 0.9740973711013794},\n",
              " {'label': 'non-offensive', 'score': 0.9297930002212524},\n",
              " {'label': 'non-offensive', 'score': 0.9342532753944397},\n",
              " {'label': 'non-offensive', 'score': 0.7214885950088501},\n",
              " {'label': 'non-offensive', 'score': 0.9610843062400818},\n",
              " {'label': 'non-offensive', 'score': 0.9441562294960022},\n",
              " {'label': 'non-offensive', 'score': 0.7759115695953369},\n",
              " {'label': 'non-offensive', 'score': 0.8192125558853149},\n",
              " {'label': 'non-offensive', 'score': 0.8420127630233765},\n",
              " {'label': 'non-offensive', 'score': 0.7843393087387085},\n",
              " {'label': 'non-offensive', 'score': 0.8660610914230347},\n",
              " {'label': 'offensive', 'score': 0.8386447429656982},\n",
              " {'label': 'non-offensive', 'score': 0.9591578841209412},\n",
              " {'label': 'non-offensive', 'score': 0.7760999798774719},\n",
              " {'label': 'non-offensive', 'score': 0.9715202450752258},\n",
              " {'label': 'non-offensive', 'score': 0.9361696243286133},\n",
              " {'label': 'non-offensive', 'score': 0.9054701924324036},\n",
              " {'label': 'offensive', 'score': 0.6855992674827576},\n",
              " {'label': 'offensive', 'score': 0.8033919334411621},\n",
              " {'label': 'non-offensive', 'score': 0.8251733183860779},\n",
              " {'label': 'non-offensive', 'score': 0.9306417107582092},\n",
              " {'label': 'offensive', 'score': 0.9518308639526367},\n",
              " {'label': 'non-offensive', 'score': 0.913827657699585},\n",
              " {'label': 'non-offensive', 'score': 0.9300767779350281},\n",
              " {'label': 'non-offensive', 'score': 0.6459757089614868},\n",
              " {'label': 'offensive', 'score': 0.6931162476539612},\n",
              " {'label': 'non-offensive', 'score': 0.6203073263168335},\n",
              " {'label': 'non-offensive', 'score': 0.69371497631073},\n",
              " {'label': 'non-offensive', 'score': 0.8553194403648376},\n",
              " {'label': 'non-offensive', 'score': 0.8734447360038757},\n",
              " {'label': 'non-offensive', 'score': 0.9338760375976562},\n",
              " {'label': 'non-offensive', 'score': 0.8783687949180603},\n",
              " {'label': 'non-offensive', 'score': 0.698531985282898},\n",
              " {'label': 'non-offensive', 'score': 0.9310998320579529},\n",
              " {'label': 'non-offensive', 'score': 0.9581574201583862},\n",
              " {'label': 'offensive', 'score': 0.8939998745918274},\n",
              " {'label': 'non-offensive', 'score': 0.6092102527618408},\n",
              " {'label': 'offensive', 'score': 0.5508459806442261},\n",
              " {'label': 'non-offensive', 'score': 0.8069246411323547},\n",
              " {'label': 'non-offensive', 'score': 0.8802856206893921},\n",
              " {'label': 'non-offensive', 'score': 0.771723210811615},\n",
              " {'label': 'non-offensive', 'score': 0.5214255452156067},\n",
              " {'label': 'non-offensive', 'score': 0.8381596207618713},\n",
              " {'label': 'non-offensive', 'score': 0.9505134224891663},\n",
              " {'label': 'non-offensive', 'score': 0.9742013216018677},\n",
              " {'label': 'non-offensive', 'score': 0.7872870564460754},\n",
              " {'label': 'non-offensive', 'score': 0.947471559047699},\n",
              " {'label': 'non-offensive', 'score': 0.5463524460792542},\n",
              " {'label': 'offensive', 'score': 0.6892694234848022},\n",
              " {'label': 'non-offensive', 'score': 0.860987663269043},\n",
              " {'label': 'non-offensive', 'score': 0.7477929592132568},\n",
              " {'label': 'non-offensive', 'score': 0.7527275681495667},\n",
              " {'label': 'non-offensive', 'score': 0.9601522088050842},\n",
              " {'label': 'non-offensive', 'score': 0.9241985082626343},\n",
              " {'label': 'non-offensive', 'score': 0.9228795766830444},\n",
              " {'label': 'non-offensive', 'score': 0.8849829435348511},\n",
              " {'label': 'non-offensive', 'score': 0.7943196296691895},\n",
              " {'label': 'non-offensive', 'score': 0.9641134142875671},\n",
              " {'label': 'non-offensive', 'score': 0.6359685063362122},\n",
              " {'label': 'non-offensive', 'score': 0.9335331916809082},\n",
              " {'label': 'non-offensive', 'score': 0.9404245018959045},\n",
              " {'label': 'non-offensive', 'score': 0.9733466506004333},\n",
              " {'label': 'non-offensive', 'score': 0.8974725604057312},\n",
              " {'label': 'non-offensive', 'score': 0.9217658042907715},\n",
              " {'label': 'non-offensive', 'score': 0.564075231552124},\n",
              " {'label': 'non-offensive', 'score': 0.941900908946991},\n",
              " {'label': 'non-offensive', 'score': 0.8131815195083618},\n",
              " {'label': 'offensive', 'score': 0.5652127265930176},\n",
              " {'label': 'non-offensive', 'score': 0.8472980856895447},\n",
              " {'label': 'non-offensive', 'score': 0.5997186899185181},\n",
              " {'label': 'non-offensive', 'score': 0.7992671728134155},\n",
              " {'label': 'non-offensive', 'score': 0.8553436994552612},\n",
              " {'label': 'non-offensive', 'score': 0.9085837006568909},\n",
              " {'label': 'non-offensive', 'score': 0.7697728872299194},\n",
              " {'label': 'offensive', 'score': 0.6305913329124451},\n",
              " {'label': 'non-offensive', 'score': 0.5145313739776611},\n",
              " {'label': 'non-offensive', 'score': 0.8902519345283508},\n",
              " {'label': 'non-offensive', 'score': 0.9592536687850952},\n",
              " {'label': 'non-offensive', 'score': 0.7007097005844116},\n",
              " {'label': 'non-offensive', 'score': 0.9651986360549927},\n",
              " {'label': 'non-offensive', 'score': 0.8049811720848083},\n",
              " {'label': 'offensive', 'score': 0.8090773820877075},\n",
              " {'label': 'offensive', 'score': 0.8524211049079895},\n",
              " {'label': 'non-offensive', 'score': 0.8975100517272949},\n",
              " {'label': 'offensive', 'score': 0.6889671683311462},\n",
              " {'label': 'non-offensive', 'score': 0.9441065788269043},\n",
              " {'label': 'offensive', 'score': 0.6391233801841736},\n",
              " {'label': 'offensive', 'score': 0.8211570382118225},\n",
              " {'label': 'non-offensive', 'score': 0.9268559217453003},\n",
              " {'label': 'non-offensive', 'score': 0.7526609897613525},\n",
              " {'label': 'offensive', 'score': 0.5146870017051697},\n",
              " {'label': 'non-offensive', 'score': 0.8820255398750305},\n",
              " {'label': 'non-offensive', 'score': 0.9607264399528503},\n",
              " {'label': 'non-offensive', 'score': 0.8656893968582153},\n",
              " {'label': 'non-offensive', 'score': 0.6839671730995178},\n",
              " {'label': 'non-offensive', 'score': 0.7310650944709778},\n",
              " {'label': 'non-offensive', 'score': 0.7176061868667603},\n",
              " {'label': 'offensive', 'score': 0.6504815220832825},\n",
              " {'label': 'offensive', 'score': 0.6041460037231445},\n",
              " {'label': 'offensive', 'score': 0.8247111439704895},\n",
              " {'label': 'non-offensive', 'score': 0.8512121438980103},\n",
              " {'label': 'offensive', 'score': 0.8576400279998779},\n",
              " {'label': 'non-offensive', 'score': 0.9364951252937317},\n",
              " {'label': 'non-offensive', 'score': 0.965849757194519},\n",
              " {'label': 'offensive', 'score': 0.9010688662528992},\n",
              " {'label': 'non-offensive', 'score': 0.9255746603012085},\n",
              " {'label': 'non-offensive', 'score': 0.8996019959449768},\n",
              " {'label': 'offensive', 'score': 0.6523518562316895},\n",
              " {'label': 'non-offensive', 'score': 0.8830508589744568},\n",
              " {'label': 'offensive', 'score': 0.7986152768135071},\n",
              " {'label': 'non-offensive', 'score': 0.7232412099838257},\n",
              " {'label': 'non-offensive', 'score': 0.8879839181900024},\n",
              " {'label': 'non-offensive', 'score': 0.9503480195999146},\n",
              " {'label': 'non-offensive', 'score': 0.9254708290100098},\n",
              " {'label': 'non-offensive', 'score': 0.8842161297798157},\n",
              " {'label': 'offensive', 'score': 0.5054827332496643},\n",
              " {'label': 'non-offensive', 'score': 0.6346677541732788},\n",
              " {'label': 'non-offensive', 'score': 0.840191662311554},\n",
              " {'label': 'non-offensive', 'score': 0.8553398847579956},\n",
              " {'label': 'non-offensive', 'score': 0.9599411487579346},\n",
              " {'label': 'non-offensive', 'score': 0.9629791975021362},\n",
              " {'label': 'non-offensive', 'score': 0.5147514939308167},\n",
              " {'label': 'offensive', 'score': 0.8532840013504028},\n",
              " {'label': 'non-offensive', 'score': 0.8670883178710938},\n",
              " {'label': 'offensive', 'score': 0.7944380640983582},\n",
              " {'label': 'offensive', 'score': 0.6178374886512756},\n",
              " {'label': 'non-offensive', 'score': 0.5496169328689575},\n",
              " {'label': 'non-offensive', 'score': 0.8832625150680542},\n",
              " {'label': 'non-offensive', 'score': 0.7727338075637817},\n",
              " {'label': 'non-offensive', 'score': 0.8880078792572021},\n",
              " {'label': 'non-offensive', 'score': 0.854920506477356},\n",
              " {'label': 'non-offensive', 'score': 0.5111041069030762},\n",
              " {'label': 'offensive', 'score': 0.7042728662490845},\n",
              " {'label': 'non-offensive', 'score': 0.8765092492103577},\n",
              " {'label': 'non-offensive', 'score': 0.9583364129066467},\n",
              " {'label': 'non-offensive', 'score': 0.5639200806617737},\n",
              " {'label': 'non-offensive', 'score': 0.9701842665672302},\n",
              " {'label': 'non-offensive', 'score': 0.9034126996994019},\n",
              " {'label': 'non-offensive', 'score': 0.9278426766395569},\n",
              " {'label': 'offensive', 'score': 0.8761103749275208},\n",
              " {'label': 'offensive', 'score': 0.5954149961471558},\n",
              " {'label': 'offensive', 'score': 0.8101827502250671},\n",
              " {'label': 'non-offensive', 'score': 0.7798418402671814},\n",
              " {'label': 'non-offensive', 'score': 0.9412974715232849},\n",
              " {'label': 'non-offensive', 'score': 0.5859498381614685},\n",
              " {'label': 'non-offensive', 'score': 0.9153278470039368},\n",
              " {'label': 'offensive', 'score': 0.7442778944969177},\n",
              " {'label': 'non-offensive', 'score': 0.8805034160614014},\n",
              " {'label': 'non-offensive', 'score': 0.8920629620552063},\n",
              " {'label': 'offensive', 'score': 0.8418039083480835},\n",
              " {'label': 'non-offensive', 'score': 0.9282906651496887},\n",
              " {'label': 'non-offensive', 'score': 0.8455625772476196},\n",
              " {'label': 'non-offensive', 'score': 0.9598767757415771},\n",
              " {'label': 'non-offensive', 'score': 0.5911389589309692},\n",
              " {'label': 'offensive', 'score': 0.656711757183075},\n",
              " {'label': 'offensive', 'score': 0.9067296981811523},\n",
              " {'label': 'offensive', 'score': 0.71621173620224},\n",
              " {'label': 'non-offensive', 'score': 0.8127477765083313},\n",
              " {'label': 'non-offensive', 'score': 0.9545506238937378},\n",
              " {'label': 'offensive', 'score': 0.6244956851005554},\n",
              " {'label': 'non-offensive', 'score': 0.8573060631752014},\n",
              " {'label': 'non-offensive', 'score': 0.7661344408988953},\n",
              " {'label': 'non-offensive', 'score': 0.9172436594963074},\n",
              " {'label': 'non-offensive', 'score': 0.5856847167015076},\n",
              " {'label': 'non-offensive', 'score': 0.9734447002410889},\n",
              " {'label': 'non-offensive', 'score': 0.7104761600494385},\n",
              " {'label': 'offensive', 'score': 0.5828077793121338},\n",
              " {'label': 'offensive', 'score': 0.614445686340332},\n",
              " {'label': 'non-offensive', 'score': 0.6870855093002319},\n",
              " {'label': 'non-offensive', 'score': 0.5623599290847778},\n",
              " {'label': 'offensive', 'score': 0.8855676651000977},\n",
              " {'label': 'offensive', 'score': 0.8876639604568481},\n",
              " {'label': 'non-offensive', 'score': 0.6772134304046631},\n",
              " {'label': 'non-offensive', 'score': 0.9568246603012085},\n",
              " {'label': 'offensive', 'score': 0.8663862347602844},\n",
              " {'label': 'non-offensive', 'score': 0.9489739537239075},\n",
              " {'label': 'non-offensive', 'score': 0.5711002945899963},\n",
              " {'label': 'non-offensive', 'score': 0.7447052597999573},\n",
              " {'label': 'offensive', 'score': 0.7933859825134277},\n",
              " {'label': 'non-offensive', 'score': 0.5663027763366699},\n",
              " {'label': 'non-offensive', 'score': 0.7980839610099792},\n",
              " {'label': 'offensive', 'score': 0.693128228187561},\n",
              " {'label': 'offensive', 'score': 0.6588349938392639},\n",
              " {'label': 'non-offensive', 'score': 0.8766363859176636},\n",
              " {'label': 'non-offensive', 'score': 0.9420992136001587},\n",
              " {'label': 'non-offensive', 'score': 0.9043669700622559},\n",
              " {'label': 'offensive', 'score': 0.5194647908210754},\n",
              " {'label': 'non-offensive', 'score': 0.826751708984375},\n",
              " {'label': 'offensive', 'score': 0.5548930764198303},\n",
              " {'label': 'non-offensive', 'score': 0.6667755842208862},\n",
              " {'label': 'offensive', 'score': 0.6066457033157349},\n",
              " {'label': 'non-offensive', 'score': 0.9098477363586426},\n",
              " {'label': 'non-offensive', 'score': 0.9518694877624512},\n",
              " {'label': 'non-offensive', 'score': 0.5722610950469971},\n",
              " {'label': 'non-offensive', 'score': 0.9042643308639526},\n",
              " {'label': 'non-offensive', 'score': 0.9493448138237},\n",
              " {'label': 'non-offensive', 'score': 0.9543051719665527},\n",
              " {'label': 'non-offensive', 'score': 0.8174348473548889},\n",
              " {'label': 'non-offensive', 'score': 0.7703944444656372},\n",
              " {'label': 'non-offensive', 'score': 0.8066638708114624},\n",
              " {'label': 'non-offensive', 'score': 0.9716463685035706},\n",
              " {'label': 'non-offensive', 'score': 0.6805480718612671},\n",
              " {'label': 'non-offensive', 'score': 0.9721750617027283},\n",
              " {'label': 'non-offensive', 'score': 0.9358510971069336},\n",
              " {'label': 'non-offensive', 'score': 0.8673626780509949},\n",
              " {'label': 'non-offensive', 'score': 0.9806139469146729},\n",
              " {'label': 'non-offensive', 'score': 0.891538143157959},\n",
              " {'label': 'non-offensive', 'score': 0.815442681312561},\n",
              " {'label': 'offensive', 'score': 0.5177029967308044},\n",
              " {'label': 'offensive', 'score': 0.6714714169502258},\n",
              " {'label': 'non-offensive', 'score': 0.7777089476585388},\n",
              " {'label': 'non-offensive', 'score': 0.900209903717041},\n",
              " {'label': 'offensive', 'score': 0.5448732972145081},\n",
              " {'label': 'offensive', 'score': 0.7883957624435425},\n",
              " {'label': 'non-offensive', 'score': 0.5834346413612366},\n",
              " {'label': 'offensive', 'score': 0.6621526479721069},\n",
              " {'label': 'non-offensive', 'score': 0.8583590388298035},\n",
              " {'label': 'non-offensive', 'score': 0.6641010046005249},\n",
              " {'label': 'non-offensive', 'score': 0.844746470451355},\n",
              " {'label': 'non-offensive', 'score': 0.9374734163284302},\n",
              " {'label': 'non-offensive', 'score': 0.8089913129806519},\n",
              " {'label': 'non-offensive', 'score': 0.9416565299034119},\n",
              " {'label': 'non-offensive', 'score': 0.8864585757255554},\n",
              " {'label': 'non-offensive', 'score': 0.9671632051467896},\n",
              " {'label': 'non-offensive', 'score': 0.9556635022163391},\n",
              " {'label': 'non-offensive', 'score': 0.6419916152954102},\n",
              " {'label': 'non-offensive', 'score': 0.9024519920349121},\n",
              " {'label': 'offensive', 'score': 0.5668319463729858},\n",
              " {'label': 'non-offensive', 'score': 0.6347986459732056},\n",
              " {'label': 'non-offensive', 'score': 0.9622607231140137},\n",
              " {'label': 'non-offensive', 'score': 0.5192092657089233},\n",
              " {'label': 'non-offensive', 'score': 0.7500264644622803},\n",
              " {'label': 'non-offensive', 'score': 0.9441766142845154},\n",
              " {'label': 'non-offensive', 'score': 0.7643901109695435},\n",
              " {'label': 'non-offensive', 'score': 0.7194973230361938},\n",
              " {'label': 'non-offensive', 'score': 0.6228901147842407},\n",
              " {'label': 'non-offensive', 'score': 0.6957954168319702},\n",
              " {'label': 'non-offensive', 'score': 0.7453330755233765},\n",
              " {'label': 'non-offensive', 'score': 0.9372200965881348},\n",
              " {'label': 'non-offensive', 'score': 0.9360722899436951},\n",
              " {'label': 'non-offensive', 'score': 0.8643784523010254},\n",
              " {'label': 'non-offensive', 'score': 0.6532891988754272},\n",
              " {'label': 'non-offensive', 'score': 0.602623462677002},\n",
              " {'label': 'non-offensive', 'score': 0.948958158493042},\n",
              " {'label': 'offensive', 'score': 0.8069931268692017},\n",
              " {'label': 'offensive', 'score': 0.8161106705665588},\n",
              " {'label': 'non-offensive', 'score': 0.7892906665802002},\n",
              " {'label': 'non-offensive', 'score': 0.5153287649154663},\n",
              " {'label': 'non-offensive', 'score': 0.954807460308075},\n",
              " {'label': 'non-offensive', 'score': 0.6196908950805664},\n",
              " {'label': 'non-offensive', 'score': 0.8665497303009033},\n",
              " {'label': 'non-offensive', 'score': 0.9156047701835632},\n",
              " {'label': 'non-offensive', 'score': 0.9057238698005676},\n",
              " {'label': 'offensive', 'score': 0.8836828470230103},\n",
              " {'label': 'non-offensive', 'score': 0.8978877663612366},\n",
              " {'label': 'non-offensive', 'score': 0.8049733638763428},\n",
              " {'label': 'offensive', 'score': 0.8733487129211426},\n",
              " {'label': 'non-offensive', 'score': 0.8855512142181396},\n",
              " {'label': 'non-offensive', 'score': 0.830785870552063},\n",
              " {'label': 'non-offensive', 'score': 0.9557346105575562},\n",
              " {'label': 'non-offensive', 'score': 0.9321025609970093},\n",
              " {'label': 'non-offensive', 'score': 0.9512830376625061},\n",
              " {'label': 'offensive', 'score': 0.6694768667221069},\n",
              " {'label': 'offensive', 'score': 0.5230463743209839},\n",
              " {'label': 'non-offensive', 'score': 0.9541545510292053},\n",
              " {'label': 'non-offensive', 'score': 0.6916643977165222},\n",
              " {'label': 'non-offensive', 'score': 0.9328643083572388},\n",
              " {'label': 'non-offensive', 'score': 0.7018622159957886},\n",
              " {'label': 'offensive', 'score': 0.8005268573760986},\n",
              " {'label': 'non-offensive', 'score': 0.9101123809814453},\n",
              " {'label': 'non-offensive', 'score': 0.9777984023094177},\n",
              " {'label': 'non-offensive', 'score': 0.7393465042114258},\n",
              " {'label': 'non-offensive', 'score': 0.9479533433914185},\n",
              " {'label': 'offensive', 'score': 0.7362173795700073},\n",
              " {'label': 'non-offensive', 'score': 0.9617113471031189},\n",
              " {'label': 'non-offensive', 'score': 0.8205026984214783},\n",
              " {'label': 'non-offensive', 'score': 0.8920491337776184},\n",
              " {'label': 'offensive', 'score': 0.9068023562431335},\n",
              " {'label': 'non-offensive', 'score': 0.8109164834022522},\n",
              " {'label': 'non-offensive', 'score': 0.5252447724342346},\n",
              " {'label': 'non-offensive', 'score': 0.6327130198478699},\n",
              " {'label': 'offensive', 'score': 0.8978598713874817},\n",
              " {'label': 'non-offensive', 'score': 0.6433027386665344},\n",
              " {'label': 'non-offensive', 'score': 0.950530469417572},\n",
              " {'label': 'non-offensive', 'score': 0.944420576095581},\n",
              " {'label': 'offensive', 'score': 0.5235204696655273},\n",
              " {'label': 'non-offensive', 'score': 0.9545952677726746},\n",
              " {'label': 'non-offensive', 'score': 0.9531868100166321},\n",
              " {'label': 'offensive', 'score': 0.6940492391586304},\n",
              " {'label': 'offensive', 'score': 0.7354618310928345},\n",
              " {'label': 'offensive', 'score': 0.9266201853752136},\n",
              " {'label': 'offensive', 'score': 0.6227362751960754},\n",
              " {'label': 'offensive', 'score': 0.699895977973938},\n",
              " {'label': 'non-offensive', 'score': 0.9618956446647644},\n",
              " {'label': 'non-offensive', 'score': 0.905529797077179},\n",
              " {'label': 'non-offensive', 'score': 0.915638267993927},\n",
              " {'label': 'non-offensive', 'score': 0.6067402958869934},\n",
              " {'label': 'non-offensive', 'score': 0.9106586575508118},\n",
              " {'label': 'non-offensive', 'score': 0.8283422589302063},\n",
              " {'label': 'non-offensive', 'score': 0.8180041313171387},\n",
              " {'label': 'non-offensive', 'score': 0.8629913926124573},\n",
              " {'label': 'non-offensive', 'score': 0.9492982625961304},\n",
              " {'label': 'non-offensive', 'score': 0.7508594989776611},\n",
              " {'label': 'non-offensive', 'score': 0.9335468411445618},\n",
              " {'label': 'non-offensive', 'score': 0.6175878643989563},\n",
              " {'label': 'offensive', 'score': 0.9186577200889587},\n",
              " {'label': 'non-offensive', 'score': 0.8346035480499268},\n",
              " {'label': 'non-offensive', 'score': 0.5564724802970886},\n",
              " {'label': 'offensive', 'score': 0.8492959141731262},\n",
              " {'label': 'non-offensive', 'score': 0.9089798927307129},\n",
              " {'label': 'non-offensive', 'score': 0.847247302532196},\n",
              " {'label': 'non-offensive', 'score': 0.8166351914405823},\n",
              " {'label': 'non-offensive', 'score': 0.7531733512878418},\n",
              " {'label': 'non-offensive', 'score': 0.8556636571884155},\n",
              " {'label': 'offensive', 'score': 0.8203002214431763},\n",
              " {'label': 'non-offensive', 'score': 0.9355129599571228},\n",
              " {'label': 'offensive', 'score': 0.8533977270126343},\n",
              " {'label': 'non-offensive', 'score': 0.9766384959220886},\n",
              " {'label': 'non-offensive', 'score': 0.7236941456794739},\n",
              " {'label': 'offensive', 'score': 0.7585206031799316},\n",
              " {'label': 'non-offensive', 'score': 0.8702991604804993},\n",
              " {'label': 'non-offensive', 'score': 0.9319545030593872},\n",
              " {'label': 'non-offensive', 'score': 0.9220424890518188},\n",
              " {'label': 'non-offensive', 'score': 0.7004123330116272},\n",
              " {'label': 'non-offensive', 'score': 0.6033399105072021},\n",
              " {'label': 'non-offensive', 'score': 0.9681439399719238},\n",
              " {'label': 'non-offensive', 'score': 0.9625951647758484},\n",
              " {'label': 'non-offensive', 'score': 0.9641011953353882},\n",
              " {'label': 'non-offensive', 'score': 0.6946874260902405},\n",
              " {'label': 'non-offensive', 'score': 0.8520649075508118},\n",
              " {'label': 'offensive', 'score': 0.9172079563140869},\n",
              " {'label': 'non-offensive', 'score': 0.9380196928977966},\n",
              " {'label': 'non-offensive', 'score': 0.9170390963554382},\n",
              " {'label': 'non-offensive', 'score': 0.8501089215278625},\n",
              " {'label': 'non-offensive', 'score': 0.7347993850708008},\n",
              " {'label': 'non-offensive', 'score': 0.919245183467865},\n",
              " {'label': 'offensive', 'score': 0.9391582012176514},\n",
              " {'label': 'non-offensive', 'score': 0.8315045833587646},\n",
              " {'label': 'offensive', 'score': 0.6347769498825073},\n",
              " {'label': 'offensive', 'score': 0.6722444295883179},\n",
              " {'label': 'non-offensive', 'score': 0.7066056728363037},\n",
              " {'label': 'offensive', 'score': 0.6878634691238403},\n",
              " {'label': 'non-offensive', 'score': 0.7335588932037354},\n",
              " {'label': 'non-offensive', 'score': 0.9413359761238098},\n",
              " {'label': 'non-offensive', 'score': 0.9435192346572876},\n",
              " {'label': 'offensive', 'score': 0.891071081161499},\n",
              " {'label': 'non-offensive', 'score': 0.9542928338050842},\n",
              " {'label': 'offensive', 'score': 0.6509085893630981},\n",
              " {'label': 'offensive', 'score': 0.5737082958221436},\n",
              " {'label': 'offensive', 'score': 0.6403729915618896},\n",
              " {'label': 'non-offensive', 'score': 0.881782054901123},\n",
              " {'label': 'non-offensive', 'score': 0.9142394065856934},\n",
              " {'label': 'non-offensive', 'score': 0.761211097240448},\n",
              " {'label': 'offensive', 'score': 0.6153733134269714},\n",
              " {'label': 'non-offensive', 'score': 0.5134412050247192},\n",
              " {'label': 'offensive', 'score': 0.6931162476539612},\n",
              " {'label': 'non-offensive', 'score': 0.909564733505249},\n",
              " {'label': 'offensive', 'score': 0.8422945141792297},\n",
              " {'label': 'non-offensive', 'score': 0.9350215196609497},\n",
              " {'label': 'non-offensive', 'score': 0.891211748123169},\n",
              " {'label': 'offensive', 'score': 0.5229942202568054},\n",
              " {'label': 'non-offensive', 'score': 0.8584861159324646},\n",
              " {'label': 'non-offensive', 'score': 0.939052939414978},\n",
              " {'label': 'non-offensive', 'score': 0.8066257834434509},\n",
              " {'label': 'non-offensive', 'score': 0.6496645212173462},\n",
              " {'label': 'non-offensive', 'score': 0.9715701937675476},\n",
              " {'label': 'non-offensive', 'score': 0.9190877676010132},\n",
              " {'label': 'non-offensive', 'score': 0.5936459302902222},\n",
              " {'label': 'offensive', 'score': 0.535834550857544},\n",
              " {'label': 'non-offensive', 'score': 0.5043784379959106},\n",
              " {'label': 'non-offensive', 'score': 0.5824353098869324},\n",
              " {'label': 'non-offensive', 'score': 0.9724574089050293},\n",
              " {'label': 'non-offensive', 'score': 0.7268106937408447},\n",
              " {'label': 'non-offensive', 'score': 0.8452096581459045},\n",
              " {'label': 'non-offensive', 'score': 0.7755357027053833},\n",
              " {'label': 'offensive', 'score': 0.5538263320922852},\n",
              " {'label': 'offensive', 'score': 0.6478709578514099},\n",
              " {'label': 'non-offensive', 'score': 0.9191747903823853},\n",
              " {'label': 'non-offensive', 'score': 0.9763135313987732},\n",
              " {'label': 'non-offensive', 'score': 0.5566112995147705},\n",
              " {'label': 'offensive', 'score': 0.6997122168540955},\n",
              " {'label': 'offensive', 'score': 0.5832380056381226},\n",
              " {'label': 'non-offensive', 'score': 0.8445264101028442},\n",
              " {'label': 'non-offensive', 'score': 0.6064488291740417},\n",
              " {'label': 'non-offensive', 'score': 0.8130218386650085},\n",
              " {'label': 'offensive', 'score': 0.6660960912704468},\n",
              " {'label': 'non-offensive', 'score': 0.8123977780342102},\n",
              " {'label': 'non-offensive', 'score': 0.7957322597503662},\n",
              " {'label': 'non-offensive', 'score': 0.8343762159347534},\n",
              " {'label': 'non-offensive', 'score': 0.7806297540664673},\n",
              " {'label': 'non-offensive', 'score': 0.6809470653533936},\n",
              " {'label': 'offensive', 'score': 0.6802361011505127},\n",
              " {'label': 'non-offensive', 'score': 0.9467289447784424},\n",
              " {'label': 'non-offensive', 'score': 0.9598767757415771},\n",
              " {'label': 'non-offensive', 'score': 0.562699556350708},\n",
              " {'label': 'non-offensive', 'score': 0.626956045627594},\n",
              " {'label': 'non-offensive', 'score': 0.7280963659286499},\n",
              " {'label': 'non-offensive', 'score': 0.9264888763427734},\n",
              " {'label': 'non-offensive', 'score': 0.9616975784301758},\n",
              " {'label': 'non-offensive', 'score': 0.9645494818687439},\n",
              " {'label': 'non-offensive', 'score': 0.896135151386261},\n",
              " {'label': 'non-offensive', 'score': 0.9762118458747864},\n",
              " {'label': 'non-offensive', 'score': 0.9321606755256653},\n",
              " {'label': 'offensive', 'score': 0.7734279632568359},\n",
              " {'label': 'non-offensive', 'score': 0.8792917132377625},\n",
              " {'label': 'non-offensive', 'score': 0.8584861159324646},\n",
              " {'label': 'non-offensive', 'score': 0.9502109885215759},\n",
              " {'label': 'non-offensive', 'score': 0.9683456420898438},\n",
              " {'label': 'non-offensive', 'score': 0.7083724737167358},\n",
              " {'label': 'non-offensive', 'score': 0.8514422178268433},\n",
              " {'label': 'offensive', 'score': 0.5353519916534424},\n",
              " {'label': 'non-offensive', 'score': 0.9574507474899292},\n",
              " {'label': 'non-offensive', 'score': 0.9499408006668091},\n",
              " {'label': 'non-offensive', 'score': 0.9243402481079102},\n",
              " {'label': 'non-offensive', 'score': 0.5347045660018921},\n",
              " {'label': 'non-offensive', 'score': 0.7769464254379272},\n",
              " {'label': 'non-offensive', 'score': 0.8930925130844116},\n",
              " {'label': 'non-offensive', 'score': 0.7793471813201904},\n",
              " {'label': 'non-offensive', 'score': 0.9498886466026306},\n",
              " {'label': 'non-offensive', 'score': 0.9442235827445984},\n",
              " {'label': 'non-offensive', 'score': 0.874133288860321},\n",
              " {'label': 'non-offensive', 'score': 0.6802535653114319},\n",
              " {'label': 'non-offensive', 'score': 0.6958889961242676},\n",
              " {'label': 'non-offensive', 'score': 0.7828267812728882},\n",
              " {'label': 'non-offensive', 'score': 0.7042650580406189},\n",
              " {'label': 'non-offensive', 'score': 0.9741178154945374},\n",
              " {'label': 'non-offensive', 'score': 0.7758073806762695},\n",
              " {'label': 'offensive', 'score': 0.9251351356506348},\n",
              " {'label': 'non-offensive', 'score': 0.510896623134613},\n",
              " {'label': 'non-offensive', 'score': 0.6726999282836914},\n",
              " {'label': 'offensive', 'score': 0.8587868213653564},\n",
              " {'label': 'non-offensive', 'score': 0.5923421382904053},\n",
              " {'label': 'non-offensive', 'score': 0.8264032602310181},\n",
              " {'label': 'non-offensive', 'score': 0.7675051689147949},\n",
              " {'label': 'non-offensive', 'score': 0.9622277021408081},\n",
              " {'label': 'non-offensive', 'score': 0.6721819043159485},\n",
              " {'label': 'non-offensive', 'score': 0.7396516799926758},\n",
              " {'label': 'non-offensive', 'score': 0.6119992733001709},\n",
              " {'label': 'non-offensive', 'score': 0.7643154263496399},\n",
              " {'label': 'non-offensive', 'score': 0.6847031116485596}]"
            ]
          },
          "execution_count": 27,
          "metadata": {},
          "output_type": "execute_result"
        }
      ],
      "source": [
        "predictions = roberta_pipeline(dataset['test']['text'])\n",
        "predictions"
      ]
    },
    {
      "cell_type": "code",
      "execution_count": 43,
      "metadata": {},
      "outputs": [],
      "source": [
        "def evaluate(predictions: List, labels: List) -> None:\n",
        "    \"\"\"\n",
        "    Evaluate the predictions of a model.\n",
        "\n",
        "    ## Parameters\n",
        "    predictions: List\n",
        "        The predictions of a model.\n",
        "    labels: List\n",
        "        The labels of the test set.\n",
        "    \"\"\"\n",
        "    predictions = [0 if p['label'] == \"non-offensive\" else 1 for p in predictions]\n",
        "    print(classification_report(labels, predictions))"
      ]
    },
    {
      "cell_type": "code",
      "execution_count": 44,
      "metadata": {},
      "outputs": [
        {
          "name": "stdout",
          "output_type": "stream",
          "text": [
            "              precision    recall  f1-score   support\n",
            "\n",
            "           0       0.88      0.93      0.91       620\n",
            "           1       0.80      0.67      0.73       240\n",
            "\n",
            "    accuracy                           0.86       860\n",
            "   macro avg       0.84      0.80      0.82       860\n",
            "weighted avg       0.86      0.86      0.86       860\n",
            "\n"
          ]
        }
      ],
      "source": [
        "evaluate(predictions, dataset['test']['label'])"
      ]
    },
    {
      "attachments": {},
      "cell_type": "markdown",
      "metadata": {},
      "source": [
        "The global average F1 score is 0.82, which is pretty good. The model seems to be better at classifying non-offensive tweets than offensive tweets, as the F1 score for non-offensive tweets is 0.91, and the F1 score for offensive tweets is 0.73. Also, the dataset is unbalanced, as there are more non-offensive tweets than offensive tweets. Thus, the model is better at classifying the majority class, which is non-offensive tweets.\n",
        "\n",
        "#### 2. Look for prediction failures. Extract the top 5 misclassified tweets (highest score in wrong class) for each class and discuss what could be wrong with the model."
      ]
    },
    {
      "cell_type": "code",
      "execution_count": 48,
      "metadata": {},
      "outputs": [],
      "source": [
        "def get_top_misclassified(predictions: List, labels: List, nb_samples: int = 5) -> Tuple[List, List]:\n",
        "    \"\"\"\n",
        "    Extract nb_samples misclassified samples per class.\n",
        "\n",
        "    ## Parameters\n",
        "    predictions: List\n",
        "        The predictions of a model.\n",
        "    labels: List\n",
        "        The labels of the test set.\n",
        "    nb_samples: int\n",
        "        The number of samples to extract per class.\n",
        "\n",
        "    ## Returns\n",
        "    offensive_missclassified: List\n",
        "        The top nb_samples offensive samples that were missclassified.\n",
        "    non_offensive_missclassified: List\n",
        "        The top nb_samples non-offensive samples that were missclassified.\n",
        "    \"\"\"\n",
        "    offensive_missclassified = []\n",
        "    non_offensive_missclassified = []\n",
        "    \n",
        "    for i, p in enumerate(predictions):\n",
        "        if p['label'] == \"non-offensive\" and labels[i] == 1:\n",
        "            offensive_missclassified.append((i, p['score']))\n",
        "        elif p['label'] == \"offensive\" and labels[i] == 0:\n",
        "            non_offensive_missclassified.append((i, p['score']))\n",
        "    offensive_missclassified.sort(key=lambda x: x[1], reverse=True)\n",
        "    non_offensive_missclassified.sort(key=lambda x: x[1], reverse=True)\n",
        "\n",
        "    return offensive_missclassified[:nb_samples], non_offensive_missclassified[:nb_samples]"
      ]
    },
    {
      "cell_type": "code",
      "execution_count": 49,
      "metadata": {},
      "outputs": [],
      "source": [
        "offensive_missclassified, non_offensive_missclassified = get_top_misclassified(predictions, dataset['test']['label'])"
      ]
    },
    {
      "cell_type": "code",
      "execution_count": 164,
      "metadata": {},
      "outputs": [
        {
          "name": "stdout",
          "output_type": "stream",
          "text": [
            "0.9338217973709106 #Liberals / #Democrats THIS is what you stand for. If not, then #WalkAway\n",
            "0.919756293296814 #Liberals Are Reaching Peak Desperation To Call On #PhillipRuddock To Talk With #Turnbull To Convince Him To Help with #WentworthVotes 18 Sept 2018  @user #Auspol #LNP #NSWpol @user  @user @user #LNPMemes\n",
            "0.9112220406532288 #NoPasaran: Unity demo to oppose the far-right in #London – #antifa #Oct13 — Enough is Enough!\n",
            "0.9081719517707825 #BREXIT deal HAS been reached - and will be unveiled at special summit in NOVEMBER, Has @user sold out the #UK to the eu??? She better have not or the @user are finished!! @user\n",
            "0.895766019821167 #America  ... tear down that #Wall! #tcot #partisanship #Trump #thewall #Borderwall #liberty #civilsociety #think #Conservatives #Democrats #Progressives #liberals #Independent #libertarians #GOP #DNC #CriticalThinking\n"
          ]
        }
      ],
      "source": [
        "for i, score in offensive_missclassified:\n",
        "    print(score, dataset['test'][\"text\"][i])"
      ]
    },
    {
      "cell_type": "code",
      "execution_count": 165,
      "metadata": {},
      "outputs": [
        {
          "name": "stdout",
          "output_type": "stream",
          "text": [
            "0.9010688662528992 Are you fucking serious?\n",
            "0.8939998745918274 @user I guess that’s where swamp ass originated\n",
            "0.8576400279998779 An American Tail really is one of the most underrated animations ever ever ever. Fuck I cried in this scene\n",
            "0.8492959141731262 @user @user Bull crap. You know she doesn't care.  She is trying to get attention for her Presidential run.  Do you see any other Senator giving nonsense?  Nope.\n",
            "0.8418039083480835 #Room25 is actually incredible, Noname is the shit, always has been,  and I’m seein her in like 5 days in Melbourne. Life is good. Have a nice day.\n"
          ]
        }
      ],
      "source": [
        "for i, score in non_offensive_missclassified:\n",
        "    print(score, dataset['test'][\"text\"][i])"
      ]
    },
    {
      "attachments": {},
      "cell_type": "markdown",
      "metadata": {},
      "source": [
        "Regarding offensive tweets misclassified as non-offensive, the model seems to have a hard time classifying tweets that are not insults, but are not politically correct. For example, the second tweet is classified as non-offensive, but seems to have strong opinion about Liberals. Also, the model is really confident about these classifications, with almost all scores above 0.90.\n",
        "\n",
        "Regarding non-offensive tweets misclassified as offensive, it looks like the model is classifying these example as offensive because they contain insults. But actually, these insults do not seem to be put in an offensive way, more as an accent on the sentence. So this is very understandable that the model is misclassifying these examples.\n",
        "\n",
        "\n",
        "#### 3. Extract the top 10 tweets your model is most confident about in the target class (offensive or hateful), the top 10 in the neutral class, and the top 10 your model is most uncertain about. Do you believe the model is doing a great job?"
      ]
    },
    {
      "cell_type": "code",
      "execution_count": 52,
      "metadata": {},
      "outputs": [
        {
          "data": {
            "text/html": [
              "<div>\n",
              "<style scoped>\n",
              "    .dataframe tbody tr th:only-of-type {\n",
              "        vertical-align: middle;\n",
              "    }\n",
              "\n",
              "    .dataframe tbody tr th {\n",
              "        vertical-align: top;\n",
              "    }\n",
              "\n",
              "    .dataframe thead th {\n",
              "        text-align: right;\n",
              "    }\n",
              "</style>\n",
              "<table border=\"1\" class=\"dataframe\">\n",
              "  <thead>\n",
              "    <tr style=\"text-align: right;\">\n",
              "      <th></th>\n",
              "      <th>id</th>\n",
              "      <th>id_str</th>\n",
              "      <th>text</th>\n",
              "      <th>lang</th>\n",
              "      <th>created_at</th>\n",
              "    </tr>\n",
              "  </thead>\n",
              "  <tbody>\n",
              "    <tr>\n",
              "      <th>0</th>\n",
              "      <td>1410492618790817793</td>\n",
              "      <td>1410492618790817793</td>\n",
              "      <td>YOU BETTER SUCK HIS DICK KOZY I SEE YOU WITH K...</td>\n",
              "      <td>en</td>\n",
              "      <td>Thu Jul 01 06:57:00 +0000 2021</td>\n",
              "    </tr>\n",
              "    <tr>\n",
              "      <th>1</th>\n",
              "      <td>1410492618769780742</td>\n",
              "      <td>1410492618769780742</td>\n",
              "      <td>I still canr believe it.😭😭😭😭😭</td>\n",
              "      <td>en</td>\n",
              "      <td>Thu Jul 01 06:57:00 +0000 2021</td>\n",
              "    </tr>\n",
              "    <tr>\n",
              "      <th>2</th>\n",
              "      <td>1410492618790686720</td>\n",
              "      <td>1410492618790686720</td>\n",
              "      <td>You should raise the webform....how would they...</td>\n",
              "      <td>en</td>\n",
              "      <td>Thu Jul 01 06:57:00 +0000 2021</td>\n",
              "    </tr>\n",
              "    <tr>\n",
              "      <th>3</th>\n",
              "      <td>1410492618803335174</td>\n",
              "      <td>1410492618803335174</td>\n",
              "      <td>im tired too but this is so entertaining i cant</td>\n",
              "      <td>en</td>\n",
              "      <td>Thu Jul 01 06:57:00 +0000 2021</td>\n",
              "    </tr>\n",
              "    <tr>\n",
              "      <th>4</th>\n",
              "      <td>1410492618778157059</td>\n",
              "      <td>1410492618778157059</td>\n",
              "      <td>Fuckof</td>\n",
              "      <td>en</td>\n",
              "      <td>Thu Jul 01 06:57:00 +0000 2021</td>\n",
              "    </tr>\n",
              "    <tr>\n",
              "      <th>...</th>\n",
              "      <td>...</td>\n",
              "      <td>...</td>\n",
              "      <td>...</td>\n",
              "      <td>...</td>\n",
              "      <td>...</td>\n",
              "    </tr>\n",
              "    <tr>\n",
              "      <th>9995</th>\n",
              "      <td>1410721732642492418</td>\n",
              "      <td>1410721732642492418</td>\n",
              "      <td>Because It’s My Business: Hear Tabitha Brown’s...</td>\n",
              "      <td>en</td>\n",
              "      <td>Thu Jul 01 22:07:25 +0000 2021</td>\n",
              "    </tr>\n",
              "    <tr>\n",
              "      <th>9996</th>\n",
              "      <td>1410721732659322881</td>\n",
              "      <td>1410721732659322881</td>\n",
              "      <td>comer pipoca enquanto assisto girl from nowher...</td>\n",
              "      <td>en</td>\n",
              "      <td>Thu Jul 01 22:07:25 +0000 2021</td>\n",
              "    </tr>\n",
              "    <tr>\n",
              "      <th>9997</th>\n",
              "      <td>1410721736841056259</td>\n",
              "      <td>1410721736841056259</td>\n",
              "      <td>They will be mad with me if they’re not 504Boy...</td>\n",
              "      <td>en</td>\n",
              "      <td>Thu Jul 01 22:07:26 +0000 2021</td>\n",
              "    </tr>\n",
              "    <tr>\n",
              "      <th>9998</th>\n",
              "      <td>1410721736828411905</td>\n",
              "      <td>1410721736828411905</td>\n",
              "      <td>Omg so beautiful 😍😍😍</td>\n",
              "      <td>en</td>\n",
              "      <td>Thu Jul 01 22:07:26 +0000 2021</td>\n",
              "    </tr>\n",
              "    <tr>\n",
              "      <th>9999</th>\n",
              "      <td>1410721736849379328</td>\n",
              "      <td>1410721736849379328</td>\n",
              "      <td>Aight I'll try better next time. Was fun!</td>\n",
              "      <td>en</td>\n",
              "      <td>Thu Jul 01 22:07:26 +0000 2021</td>\n",
              "    </tr>\n",
              "  </tbody>\n",
              "</table>\n",
              "<p>9740 rows × 5 columns</p>\n",
              "</div>"
            ],
            "text/plain": [
              "                       id               id_str  \\\n",
              "0     1410492618790817793  1410492618790817793   \n",
              "1     1410492618769780742  1410492618769780742   \n",
              "2     1410492618790686720  1410492618790686720   \n",
              "3     1410492618803335174  1410492618803335174   \n",
              "4     1410492618778157059  1410492618778157059   \n",
              "...                   ...                  ...   \n",
              "9995  1410721732642492418  1410721732642492418   \n",
              "9996  1410721732659322881  1410721732659322881   \n",
              "9997  1410721736841056259  1410721736841056259   \n",
              "9998  1410721736828411905  1410721736828411905   \n",
              "9999  1410721736849379328  1410721736849379328   \n",
              "\n",
              "                                                   text lang  \\\n",
              "0     YOU BETTER SUCK HIS DICK KOZY I SEE YOU WITH K...   en   \n",
              "1                         I still canr believe it.😭😭😭😭😭   en   \n",
              "2     You should raise the webform....how would they...   en   \n",
              "3       im tired too but this is so entertaining i cant   en   \n",
              "4                                                Fuckof   en   \n",
              "...                                                 ...  ...   \n",
              "9995  Because It’s My Business: Hear Tabitha Brown’s...   en   \n",
              "9996  comer pipoca enquanto assisto girl from nowher...   en   \n",
              "9997  They will be mad with me if they’re not 504Boy...   en   \n",
              "9998                               Omg so beautiful 😍😍😍   en   \n",
              "9999          Aight I'll try better next time. Was fun!   en   \n",
              "\n",
              "                          created_at  \n",
              "0     Thu Jul 01 06:57:00 +0000 2021  \n",
              "1     Thu Jul 01 06:57:00 +0000 2021  \n",
              "2     Thu Jul 01 06:57:00 +0000 2021  \n",
              "3     Thu Jul 01 06:57:00 +0000 2021  \n",
              "4     Thu Jul 01 06:57:00 +0000 2021  \n",
              "...                              ...  \n",
              "9995  Thu Jul 01 22:07:25 +0000 2021  \n",
              "9996  Thu Jul 01 22:07:25 +0000 2021  \n",
              "9997  Thu Jul 01 22:07:26 +0000 2021  \n",
              "9998  Thu Jul 01 22:07:26 +0000 2021  \n",
              "9999  Thu Jul 01 22:07:26 +0000 2021  \n",
              "\n",
              "[9740 rows x 5 columns]"
            ]
          },
          "execution_count": 52,
          "metadata": {},
          "output_type": "execute_result"
        }
      ],
      "source": [
        "with open('tweets.json') as f:\n",
        "    data = json.load(f)\n",
        "\n",
        "df = pd.DataFrame(data)\n",
        "df = df.dropna()\n",
        "df = df.reset_index(drop=True)\n",
        "df = df.drop_duplicates(subset=['text'])\n",
        "\n",
        "df"
      ]
    },
    {
      "cell_type": "code",
      "execution_count": 53,
      "metadata": {},
      "outputs": [],
      "source": [
        "tweets_preds = roberta_pipeline(df['text'].tolist())"
      ]
    },
    {
      "cell_type": "code",
      "execution_count": 69,
      "metadata": {},
      "outputs": [],
      "source": [
        "def extract_top_tweets(predictions: List, nb_samples: int = 10) -> Tuple[List, List, List]:\n",
        "    \"\"\"\n",
        "    Extract the top nb_samples offensive, non-offensive and uncertain tweets.\n",
        "\n",
        "    ## Parameters\n",
        "    predictions: List\n",
        "        The predictions of a model.\n",
        "    nb_samples: int\n",
        "        The number of samples to extract per class.\n",
        "\n",
        "    ## Returns\n",
        "    top_offensive_tweets: List\n",
        "        The top nb_samples offensive tweets.\n",
        "    top_non_offensive_tweets: List\n",
        "        The top nb_samples non-offensive tweets.\n",
        "    top_uncertain_tweets: List\n",
        "        The top nb_samples uncertain tweets.\n",
        "    \"\"\"\n",
        "    top_offensive_tweets = []\n",
        "    top_non_offensive_tweets = []\n",
        "    top_uncertain_tweets = []\n",
        "\n",
        "    for i, p in enumerate(predictions):\n",
        "        if p['label'] == \"non-offensive\":\n",
        "            top_non_offensive_tweets.append((i, p['score']))\n",
        "        elif p['label'] == \"offensive\":\n",
        "            top_offensive_tweets.append((i, p['score']))\n",
        "        top_uncertain_tweets.append((i, p['score']))\n",
        "    top_offensive_tweets.sort(key=lambda x: x[1], reverse=True)\n",
        "    top_non_offensive_tweets.sort(key=lambda x: x[1], reverse=True)\n",
        "    top_uncertain_tweets.sort(key=lambda x: x[1])\n",
        "    \n",
        "    return top_offensive_tweets[:nb_samples], top_non_offensive_tweets[:nb_samples], top_uncertain_tweets[:nb_samples]"
      ]
    },
    {
      "cell_type": "code",
      "execution_count": 70,
      "metadata": {},
      "outputs": [],
      "source": [
        "top_offensive_tweets, top_non_offensive_tweets, top_uncertain_tweets = extract_top_tweets(tweets_preds)"
      ]
    },
    {
      "cell_type": "code",
      "execution_count": 72,
      "metadata": {},
      "outputs": [
        {
          "name": "stdout",
          "output_type": "stream",
          "text": [
            "0.9484737515449524 Stop with the slow mo it make it look bad\n",
            "0.9465802907943726 morninggggg\n",
            "0.9437395930290222 YOU GET ITTT and same omg, i think the last time i had one of those was in 2018 but its so good\n",
            "0.9423408508300781 Me too. Buck up; you are not alone. Good people agree, and we are all in this together.\n",
            "0.9394720792770386 sexy\n",
            "0.9366845488548279 she should pay attention more omg it’s so annoying :/\n",
            "0.9325129985809326 Or how about rather than playing a game and tweeting about it you pull your finger out and reply to your backers you are letting down every single day. Shame on you\n",
            "0.9313321113586426 Finally a good take ❤️\n",
            "0.9305409789085388 desoff\n",
            "0.9289026856422424 mans is lifting two of you.\n"
          ]
        }
      ],
      "source": [
        "for i, score in top_offensive_tweets:\n",
        "    print(score, df['text'][i])"
      ]
    },
    {
      "cell_type": "code",
      "execution_count": 73,
      "metadata": {},
      "outputs": [
        {
          "name": "stdout",
          "output_type": "stream",
          "text": [
            "0.9816755652427673 Cool\n",
            "0.9815455079078674 Man you guys really know how to make a mofo feel totally socially inept.\n",
            "0.9814001321792603  LITERALLY  WAKE  UP  RN  WHERE  R  U\n",
            "0.9809073805809021 I was referred to her by a friend online and I thought is a scam ...but I was moved to try and here I earned.. just want to share this to people too. @user\n",
            "0.9806414246559143 Deja vu\n",
            "\n",
            "BLINKS U KNOW WHAT 2 DO \n",
            "#PremiosMTVMIAW\n",
            "#MTVLAKPOPROSE \n",
            "#MTVLAFANDOMBLINKS\n",
            "@user\n",
            "0.9802667498588562 Who doesn’t love u\n",
            "0.9802438020706177 one person followed me and 3 people unfollowed me // automatically checked by http\n",
            "0.979927659034729 Just the way I make money and would not marry or even date who doesn’t make her own money, same applies to cooking. I know how to cook and I won’t settle with a woman who can’t cook unless she’s Rich/wealthy or sum. You can’t be broke and still be lazy\n",
            "0.9798141121864319 July\n",
            "0.9793971180915833 Good afternoon&lt;333\n"
          ]
        }
      ],
      "source": [
        "for i, score in top_non_offensive_tweets:\n",
        "    print(score, df['text'][i])"
      ]
    },
    {
      "cell_type": "code",
      "execution_count": 74,
      "metadata": {},
      "outputs": [
        {
          "name": "stdout",
          "output_type": "stream",
          "text": [
            "0.5004608631134033 Johor recorded most suicide cases for two consecutive years - 2019, 2020. As of May 2021, Selangor recorded the highest number of suicide cases, with 117 or 25% of 468 cases reported this year\n",
            "0.500519871711731 the part about this that scares me the most is that i drink heavily i take vyvanse i occasionally smoke and i use retinol every single night. like that baby would be gambling with its life keeping me out of the loop bruh\n",
            "0.5005561709403992 STOP HE WAITED TILL 3:25 HUH\n",
            "0.50067538022995 😲 stay safe.\n",
            "0.500801682472229 too scared to soend my own money bc my mom gets notifs if i buy something🤣🤣🙏\n",
            "0.5008642673492432 Having my nipples pierced again makes me feel closer to the person i was.\n",
            "0.5010842084884644 And you didn't need the Americans at all this time!\n",
            "0.5010976195335388 You feel like that, perhaps something in your past may have informed that. So maybe try understand what about sharing a milestone with loved ones is deeply making you feel like you're attention seeking because I'm pretty sure those that really care about you wont read it that way\n",
            "0.5011819005012512 LOL, you're excused Tequilla. x\n",
            "0.5011822581291199 oh Brent how i’ve missed you 🥺\n"
          ]
        }
      ],
      "source": [
        "for i, score in top_uncertain_tweets:\n",
        "    print(score, df['text'][i])"
      ]
    },
    {
      "cell_type": "code",
      "execution_count": 77,
      "metadata": {},
      "outputs": [
        {
          "name": "stdout",
          "output_type": "stream",
          "text": [
            "YOU BETTER SUCK HIS DICK KOZY I SEE YOU WITH KNUCKLES GET EM GYAAAAL {'label': 'offensive', 'score': 0.8737722039222717}\n"
          ]
        }
      ],
      "source": [
        "print(df['text'][0], tweets_preds[0])"
      ]
    },
    {
      "attachments": {},
      "cell_type": "markdown",
      "metadata": {},
      "source": [
        "Looking at the tweets that the model is most confident about, we can see that it's very confident when classifying non-offensive tweets as offensive. For example, it classified *\"morninggggg\"* as offensive with a score of $0.946$, which makes no sense. Top non-offensive tweets looks better classified than top offensive tweets. The uncertain ones also make sense, as some are about drinking, sex related vocabulary, or strange formulations. Overall, we can say it's not doing a great job, but in this case it seems better to have false positives than false negatives, so it's not that bad. It can still classify very offensive tweets such as the last example, which is good.\n",
        "\n",
        "#### 4. (Bonus) Use SHAP on the provided tweets, or manually written texts, to see if you can find topics on which the model is biased."
      ]
    },
    {
      "cell_type": "code",
      "execution_count": 62,
      "metadata": {},
      "outputs": [
        {
          "data": {
            "text/plain": [
              "['YOU BETTER SUCK HIS DICK KOZY I SEE YOU WITH KNUCKLES GET EM GYAAAAL',\n",
              " 'I still canr believe it.😭😭😭😭😭',\n",
              " 'You should raise the webform....how would they know then that you completed ur medicals',\n",
              " 'im tired too but this is so entertaining i cant',\n",
              " 'Fuckof',\n",
              " 'People 😋',\n",
              " 'Even if they didn’t exploit people to acquire their riches, how are you gonna be okay literally wasting thousands and thousands of dollars while there are still people who are homeless? While there are people skipping life saving medical treatments bc of the cost?',\n",
              " 'He rather have used the cash to buy some clothes that dont resemble a duvet.',\n",
              " 'Baret',\n",
              " 'Bloody awesome!']"
            ]
          },
          "execution_count": 62,
          "metadata": {},
          "output_type": "execute_result"
        }
      ],
      "source": [
        "some_tweets = df['text'].tolist()[:10]\n",
        "some_tweets"
      ]
    },
    {
      "cell_type": "code",
      "execution_count": 65,
      "metadata": {},
      "outputs": [
        {
          "ename": "AttributeError",
          "evalue": "module 'numpy' has no attribute 'bool'.\n`np.bool` was a deprecated alias for the builtin `bool`. To avoid this error in existing code, use `bool` by itself. Doing this will not modify any behavior and is safe. If you specifically wanted the numpy scalar type, use `np.bool_` here.\nThe aliases was originally deprecated in NumPy 1.20; for more details and guidance see the original release note at:\n    https://numpy.org/devdocs/release/1.20.0-notes.html#deprecations",
          "output_type": "error",
          "traceback": [
            "\u001b[0;31m---------------------------------------------------------------------------\u001b[0m",
            "\u001b[0;31mAttributeError\u001b[0m                            Traceback (most recent call last)",
            "Cell \u001b[0;32mIn[65], line 4\u001b[0m\n\u001b[1;32m      1\u001b[0m \u001b[39mimport\u001b[39;00m \u001b[39mshap\u001b[39;00m\n\u001b[1;32m      3\u001b[0m explainer \u001b[39m=\u001b[39m shap\u001b[39m.\u001b[39mExplainer(roberta_pipeline)\n\u001b[0;32m----> 4\u001b[0m shap_values \u001b[39m=\u001b[39m explainer(some_tweets)\n",
            "File \u001b[0;32m~/Documents/EPITA/ING2/SCIA/S8/NLP1/.venv/lib/python3.9/site-packages/shap/explainers/_partition.py:136\u001b[0m, in \u001b[0;36mPartition.__call__\u001b[0;34m(self, max_evals, fixed_context, main_effects, error_bounds, batch_size, outputs, silent, *args)\u001b[0m\n\u001b[1;32m    132\u001b[0m \u001b[39mdef\u001b[39;00m \u001b[39m__call__\u001b[39m(\u001b[39mself\u001b[39m, \u001b[39m*\u001b[39margs, max_evals\u001b[39m=\u001b[39m\u001b[39m500\u001b[39m, fixed_context\u001b[39m=\u001b[39m\u001b[39mNone\u001b[39;00m, main_effects\u001b[39m=\u001b[39m\u001b[39mFalse\u001b[39;00m, error_bounds\u001b[39m=\u001b[39m\u001b[39mFalse\u001b[39;00m, batch_size\u001b[39m=\u001b[39m\u001b[39m\"\u001b[39m\u001b[39mauto\u001b[39m\u001b[39m\"\u001b[39m,\n\u001b[1;32m    133\u001b[0m              outputs\u001b[39m=\u001b[39m\u001b[39mNone\u001b[39;00m, silent\u001b[39m=\u001b[39m\u001b[39mFalse\u001b[39;00m):\n\u001b[1;32m    134\u001b[0m \u001b[39m    \u001b[39m\u001b[39m\"\"\" Explain the output of the model on the given arguments.\u001b[39;00m\n\u001b[1;32m    135\u001b[0m \u001b[39m    \"\"\"\u001b[39;00m\n\u001b[0;32m--> 136\u001b[0m     \u001b[39mreturn\u001b[39;00m \u001b[39msuper\u001b[39;49m()\u001b[39m.\u001b[39;49m\u001b[39m__call__\u001b[39;49m(\n\u001b[1;32m    137\u001b[0m         \u001b[39m*\u001b[39;49margs, max_evals\u001b[39m=\u001b[39;49mmax_evals, fixed_context\u001b[39m=\u001b[39;49mfixed_context, main_effects\u001b[39m=\u001b[39;49mmain_effects, error_bounds\u001b[39m=\u001b[39;49merror_bounds, batch_size\u001b[39m=\u001b[39;49mbatch_size,\n\u001b[1;32m    138\u001b[0m         outputs\u001b[39m=\u001b[39;49moutputs, silent\u001b[39m=\u001b[39;49msilent\n\u001b[1;32m    139\u001b[0m     )\n",
            "File \u001b[0;32m~/Documents/EPITA/ING2/SCIA/S8/NLP1/.venv/lib/python3.9/site-packages/shap/explainers/_explainer.py:266\u001b[0m, in \u001b[0;36mExplainer.__call__\u001b[0;34m(self, max_evals, main_effects, error_bounds, batch_size, outputs, silent, *args, **kwargs)\u001b[0m\n\u001b[1;32m    264\u001b[0m     feature_names \u001b[39m=\u001b[39m [[] \u001b[39mfor\u001b[39;00m _ \u001b[39min\u001b[39;00m \u001b[39mrange\u001b[39m(\u001b[39mlen\u001b[39m(args))]\n\u001b[1;32m    265\u001b[0m \u001b[39mfor\u001b[39;00m row_args \u001b[39min\u001b[39;00m show_progress(\u001b[39mzip\u001b[39m(\u001b[39m*\u001b[39margs), num_rows, \u001b[39mself\u001b[39m\u001b[39m.\u001b[39m\u001b[39m__class__\u001b[39m\u001b[39m.\u001b[39m\u001b[39m__name__\u001b[39m\u001b[39m+\u001b[39m\u001b[39m\"\u001b[39m\u001b[39m explainer\u001b[39m\u001b[39m\"\u001b[39m, silent):\n\u001b[0;32m--> 266\u001b[0m     row_result \u001b[39m=\u001b[39m \u001b[39mself\u001b[39;49m\u001b[39m.\u001b[39;49mexplain_row(\n\u001b[1;32m    267\u001b[0m         \u001b[39m*\u001b[39;49mrow_args, max_evals\u001b[39m=\u001b[39;49mmax_evals, main_effects\u001b[39m=\u001b[39;49mmain_effects, error_bounds\u001b[39m=\u001b[39;49merror_bounds,\n\u001b[1;32m    268\u001b[0m         batch_size\u001b[39m=\u001b[39;49mbatch_size, outputs\u001b[39m=\u001b[39;49moutputs, silent\u001b[39m=\u001b[39;49msilent, \u001b[39m*\u001b[39;49m\u001b[39m*\u001b[39;49mkwargs\n\u001b[1;32m    269\u001b[0m     )\n\u001b[1;32m    270\u001b[0m     values\u001b[39m.\u001b[39mappend(row_result\u001b[39m.\u001b[39mget(\u001b[39m\"\u001b[39m\u001b[39mvalues\u001b[39m\u001b[39m\"\u001b[39m, \u001b[39mNone\u001b[39;00m))\n\u001b[1;32m    271\u001b[0m     output_indices\u001b[39m.\u001b[39mappend(row_result\u001b[39m.\u001b[39mget(\u001b[39m\"\u001b[39m\u001b[39moutput_indices\u001b[39m\u001b[39m\"\u001b[39m, \u001b[39mNone\u001b[39;00m))\n",
            "File \u001b[0;32m~/Documents/EPITA/ING2/SCIA/S8/NLP1/.venv/lib/python3.9/site-packages/shap/explainers/_partition.py:154\u001b[0m, in \u001b[0;36mPartition.explain_row\u001b[0;34m(self, max_evals, main_effects, error_bounds, batch_size, outputs, silent, fixed_context, *row_args)\u001b[0m\n\u001b[1;32m    151\u001b[0m     \u001b[39mraise\u001b[39;00m \u001b[39mValueError\u001b[39;00m(\u001b[39m\"\u001b[39m\u001b[39mUnknown fixed_context value passed (must be 0, 1 or None): \u001b[39m\u001b[39m%s\u001b[39;00m\u001b[39m\"\u001b[39m \u001b[39m%\u001b[39mfixed_context)\n\u001b[1;32m    153\u001b[0m \u001b[39m# build a masked version of the model for the current input sample\u001b[39;00m\n\u001b[0;32m--> 154\u001b[0m fm \u001b[39m=\u001b[39m MaskedModel(\u001b[39mself\u001b[39;49m\u001b[39m.\u001b[39;49mmodel, \u001b[39mself\u001b[39;49m\u001b[39m.\u001b[39;49mmasker, \u001b[39mself\u001b[39;49m\u001b[39m.\u001b[39;49mlink, \u001b[39mself\u001b[39;49m\u001b[39m.\u001b[39;49mlinearize_link, \u001b[39m*\u001b[39;49mrow_args)\n\u001b[1;32m    156\u001b[0m \u001b[39m# make sure we have the base value and current value outputs\u001b[39;00m\n\u001b[1;32m    157\u001b[0m M \u001b[39m=\u001b[39m \u001b[39mlen\u001b[39m(fm)\n",
            "File \u001b[0;32m~/Documents/EPITA/ING2/SCIA/S8/NLP1/.venv/lib/python3.9/site-packages/shap/utils/_masked_model.py:28\u001b[0m, in \u001b[0;36mMaskedModel.__init__\u001b[0;34m(self, model, masker, link, linearize_link, *args)\u001b[0m\n\u001b[1;32m     26\u001b[0m \u001b[39m# if the masker supports it, save what positions vary from the background\u001b[39;00m\n\u001b[1;32m     27\u001b[0m \u001b[39mif\u001b[39;00m callable(\u001b[39mgetattr\u001b[39m(\u001b[39mself\u001b[39m\u001b[39m.\u001b[39mmasker, \u001b[39m\"\u001b[39m\u001b[39minvariants\u001b[39m\u001b[39m\"\u001b[39m, \u001b[39mNone\u001b[39;00m)):\n\u001b[0;32m---> 28\u001b[0m     \u001b[39mself\u001b[39m\u001b[39m.\u001b[39m_variants \u001b[39m=\u001b[39m \u001b[39m~\u001b[39m\u001b[39mself\u001b[39;49m\u001b[39m.\u001b[39;49mmasker\u001b[39m.\u001b[39;49minvariants(\u001b[39m*\u001b[39;49margs)\n\u001b[1;32m     29\u001b[0m     \u001b[39mself\u001b[39m\u001b[39m.\u001b[39m_variants_column_sums \u001b[39m=\u001b[39m \u001b[39mself\u001b[39m\u001b[39m.\u001b[39m_variants\u001b[39m.\u001b[39msum(\u001b[39m0\u001b[39m)\n\u001b[1;32m     30\u001b[0m     \u001b[39mself\u001b[39m\u001b[39m.\u001b[39m_variants_row_inds \u001b[39m=\u001b[39m [\n\u001b[1;32m     31\u001b[0m         \u001b[39mself\u001b[39m\u001b[39m.\u001b[39m_variants[:,i] \u001b[39mfor\u001b[39;00m i \u001b[39min\u001b[39;00m \u001b[39mrange\u001b[39m(\u001b[39mself\u001b[39m\u001b[39m.\u001b[39m_variants\u001b[39m.\u001b[39mshape[\u001b[39m1\u001b[39m])\n\u001b[1;32m     32\u001b[0m     ]\n",
            "File \u001b[0;32m~/Documents/EPITA/ING2/SCIA/S8/NLP1/.venv/lib/python3.9/site-packages/shap/maskers/_text.py:297\u001b[0m, in \u001b[0;36mText.invariants\u001b[0;34m(self, s)\u001b[0m\n\u001b[1;32m    293\u001b[0m \u001b[39m\u001b[39m\u001b[39m\"\"\" The names of the features for each mask position for the given input string.\u001b[39;00m\n\u001b[1;32m    294\u001b[0m \u001b[39m\"\"\"\u001b[39;00m\n\u001b[1;32m    295\u001b[0m \u001b[39mself\u001b[39m\u001b[39m.\u001b[39m_update_s_cache(s)\n\u001b[0;32m--> 297\u001b[0m invariants \u001b[39m=\u001b[39m np\u001b[39m.\u001b[39mzeros(\u001b[39mlen\u001b[39m(\u001b[39mself\u001b[39m\u001b[39m.\u001b[39m_tokenized_s), dtype\u001b[39m=\u001b[39mnp\u001b[39m.\u001b[39;49mbool)\n\u001b[1;32m    298\u001b[0m \u001b[39mif\u001b[39;00m \u001b[39mself\u001b[39m\u001b[39m.\u001b[39mkeep_prefix \u001b[39m>\u001b[39m \u001b[39m0\u001b[39m:\n\u001b[1;32m    299\u001b[0m     invariants[:\u001b[39mself\u001b[39m\u001b[39m.\u001b[39mkeep_prefix] \u001b[39m=\u001b[39m \u001b[39mTrue\u001b[39;00m\n",
            "File \u001b[0;32m~/Documents/EPITA/ING2/SCIA/S8/NLP1/.venv/lib/python3.9/site-packages/numpy/__init__.py:305\u001b[0m, in \u001b[0;36m__getattr__\u001b[0;34m(attr)\u001b[0m\n\u001b[1;32m    300\u001b[0m     warnings\u001b[39m.\u001b[39mwarn(\n\u001b[1;32m    301\u001b[0m         \u001b[39mf\u001b[39m\u001b[39m\"\u001b[39m\u001b[39mIn the future `np.\u001b[39m\u001b[39m{\u001b[39;00mattr\u001b[39m}\u001b[39;00m\u001b[39m` will be defined as the \u001b[39m\u001b[39m\"\u001b[39m\n\u001b[1;32m    302\u001b[0m         \u001b[39m\"\u001b[39m\u001b[39mcorresponding NumPy scalar.\u001b[39m\u001b[39m\"\u001b[39m, \u001b[39mFutureWarning\u001b[39;00m, stacklevel\u001b[39m=\u001b[39m\u001b[39m2\u001b[39m)\n\u001b[1;32m    304\u001b[0m \u001b[39mif\u001b[39;00m attr \u001b[39min\u001b[39;00m __former_attrs__:\n\u001b[0;32m--> 305\u001b[0m     \u001b[39mraise\u001b[39;00m \u001b[39mAttributeError\u001b[39;00m(__former_attrs__[attr])\n\u001b[1;32m    307\u001b[0m \u001b[39m# Importing Tester requires importing all of UnitTest which is not a\u001b[39;00m\n\u001b[1;32m    308\u001b[0m \u001b[39m# cheap import Since it is mainly used in test suits, we lazy import it\u001b[39;00m\n\u001b[1;32m    309\u001b[0m \u001b[39m# here to save on the order of 10 ms of import time for most users\u001b[39;00m\n\u001b[1;32m    310\u001b[0m \u001b[39m#\u001b[39;00m\n\u001b[1;32m    311\u001b[0m \u001b[39m# The previous way Tester was imported also had a side effect of adding\u001b[39;00m\n\u001b[1;32m    312\u001b[0m \u001b[39m# the full `numpy.testing` namespace\u001b[39;00m\n\u001b[1;32m    313\u001b[0m \u001b[39mif\u001b[39;00m attr \u001b[39m==\u001b[39m \u001b[39m'\u001b[39m\u001b[39mtesting\u001b[39m\u001b[39m'\u001b[39m:\n",
            "\u001b[0;31mAttributeError\u001b[0m: module 'numpy' has no attribute 'bool'.\n`np.bool` was a deprecated alias for the builtin `bool`. To avoid this error in existing code, use `bool` by itself. Doing this will not modify any behavior and is safe. If you specifically wanted the numpy scalar type, use `np.bool_` here.\nThe aliases was originally deprecated in NumPy 1.20; for more details and guidance see the original release note at:\n    https://numpy.org/devdocs/release/1.20.0-notes.html#deprecations"
          ]
        }
      ],
      "source": [
        "explainer = shap.Explainer(roberta_pipeline)\n",
        "shap_values = explainer(some_tweets)"
      ]
    },
    {
      "cell_type": "code",
      "execution_count": null,
      "metadata": {},
      "outputs": [],
      "source": [
        "shap.plots.text(shap_values[:10])"
      ]
    },
    {
      "attachments": {},
      "cell_type": "markdown",
      "metadata": {},
      "source": [
        "SHAP seems to not be working anymore..."
      ]
    },
    {
      "attachments": {},
      "cell_type": "markdown",
      "metadata": {},
      "source": [
        "#### 5. What are the advantages of using a pre-trained transformer vs naive Bayes? Think about training, and usage in production.\n",
        "\n",
        "The advantages of using a pre-trained transformer are the following:\n",
        "- The model is already trained, so we don't need to train it again. This is a huge advantage because training a model can take a lot of time, and a lot of data.\n",
        "- The model can capture a lot of information, and can be used for a lot of different tasks. It can be used on tasks that are not related to the task it has been trained on, which is not the case for a Naive Bayes model.\n",
        "\n",
        "The advantages of using a Naive Bayes model are the following:\n",
        "- The model is very simple, and can be trained very quickly. It can also be trained on a small amount of data.\n",
        "- Since the model is very simple, it is way easier to understand how it works, and to debug it.\n",
        "\n",
        "In term of efficiency, the pre-trained transformer is way more efficient than the Naive Bayes model. However, the Naive Bayes model is way easier to understand and to debug, and it will be more efficient on a small dataset. It will also require less resources to run. So this is a trade-off between efficiency and simplicity.\n",
        "\n",
        "#### 6. Train a naive Bayes model on the data, and compare its results with this model."
      ]
    },
    {
      "cell_type": "code",
      "execution_count": 60,
      "metadata": {},
      "outputs": [
        {
          "name": "stdout",
          "output_type": "stream",
          "text": [
            "              precision    recall  f1-score   support\n",
            "\n",
            "           0       0.84      0.87      0.85       620\n",
            "           1       0.62      0.56      0.59       240\n",
            "\n",
            "    accuracy                           0.78       860\n",
            "   macro avg       0.73      0.71      0.72       860\n",
            "weighted avg       0.78      0.78      0.78       860\n",
            "\n"
          ]
        }
      ],
      "source": [
        "from sklearn.naive_bayes import MultinomialNB\n",
        "from sklearn.feature_extraction.text import CountVectorizer\n",
        "from sklearn.pipeline import Pipeline\n",
        "from sklearn.metrics import classification_report\n",
        "\n",
        "# define a pipeline\n",
        "pipeline = Pipeline([\n",
        "    ('vectorizer', CountVectorizer()),\n",
        "    ('classifier', MultinomialNB())\n",
        "])\n",
        "\n",
        "# train the model\n",
        "pipeline.fit(dataset['train']['text'], dataset['train']['label'])\n",
        "\n",
        "# evaluate the model\n",
        "predictions = pipeline.predict(dataset['test']['text'])\n",
        "print(classification_report(dataset['test']['label'], predictions))"
      ]
    },
    {
      "attachments": {},
      "cell_type": "markdown",
      "metadata": {},
      "source": [
        "The F1-score of the Naive Bayes model is 0.72, which is way lower than the F1-score of the RoBERTa model, which is 0.82. This makes sense and confirms what we said in the previous question: the RoBERTa model is way more efficient than the Naive Bayes model.\n",
        "\n",
        "## Annotate data\n",
        "\n",
        "#### 1. Extract about 100 tweets containing at least 20% of your target class (offensive/hateful), from the 10K tweets provided. You can use the pretrained model to help you find tweets in the target class."
      ]
    },
    {
      "cell_type": "code",
      "execution_count": 85,
      "metadata": {},
      "outputs": [
        {
          "data": {
            "text/plain": [
              "[('agree.', 'non-offensive'),\n",
              " ('I guess looking at interannotator metrics such as fleiss kappa may be useful to understand how consistent they are? You could look at some kind of document similarity to infer information about the related pages?',\n",
              "  'non-offensive'),\n",
              " ('Tried and tested 😂😂😂', 'non-offensive'),\n",
              " ('setiap lihat teman2ku baru main hades and they’re feeing horny for no reason yeah that’s the point babe this game and the fandom are so horny',\n",
              "  'offensive'),\n",
              " ('Free Britney', 'non-offensive'),\n",
              " ('Correction: Eastern WA will see *smoke from the #LavaFire in CA',\n",
              "  'non-offensive'),\n",
              " ('Fuckof', 'offensive'),\n",
              " ('literally', 'non-offensive'),\n",
              " ('feeling so sexy and principled at my horrifically corrupt and unfulfilling blue collar job',\n",
              "  'offensive'),\n",
              " ('VOTE FOR CHANGBIN RN', 'non-offensive')]"
            ]
          },
          "execution_count": 85,
          "metadata": {},
          "output_type": "execute_result"
        }
      ],
      "source": [
        "offensive_tweets = []\n",
        "for i, p in enumerate(tweets_preds):\n",
        "    if p['label'] == \"offensive\":\n",
        "        offensive_tweets.append((df[\"text\"][i], p[\"label\"]))\n",
        "    if len(offensive_tweets) == 30:\n",
        "        break\n",
        "\n",
        "non_offensive_tweets = []\n",
        "for i, p in enumerate(tweets_preds):\n",
        "    if p['label'] == \"non-offensive\":\n",
        "        non_offensive_tweets.append((df[\"text\"][i], p[\"label\"]))\n",
        "    if len(non_offensive_tweets) == 70:\n",
        "        break\n",
        "\n",
        "extracted_tweets = offensive_tweets + non_offensive_tweets\n",
        "\n",
        "# shuffle the tweets\n",
        "random.seed(SEED)\n",
        "random.shuffle(extracted_tweets)\n",
        "extracted_tweets[:10]"
      ]
    },
    {
      "cell_type": "code",
      "execution_count": 86,
      "metadata": {},
      "outputs": [],
      "source": [
        "extracted_tweets_without_labels = [t[0] for t in extracted_tweets]"
      ]
    },
    {
      "cell_type": "code",
      "execution_count": 90,
      "metadata": {},
      "outputs": [],
      "source": [
        "extracted_tweets_df = pd.DataFrame(extracted_tweets_without_labels, columns=[\"text\"])\n",
        "extracted_tweets_df[\"label\"] = \"\"\n",
        "extracted_tweets_df.to_csv(\"extracted_tweets.csv\", index=False)"
      ]
    },
    {
      "attachments": {},
      "cell_type": "markdown",
      "metadata": {},
      "source": [
        "#### 2. Write down an annotation guildeline.\n",
        "\n",
        "Annotation Guideline for Tweet Classification\n",
        "\n",
        "Objective:\n",
        "The aim of this annotation guideline is to provide clear instructions for annotating tweets into three distinct classes: \"neutral,\" \"offensive,\" and \"can't tell.\" The guidelines ensure consistent annotation across different annotators and help define the target classes, provide examples for ambiguous cases, and clarify the meaning of the \"can't tell\" class.\n",
        "\n",
        "1. Target Classes:\n",
        "   a. Neutral: Tweets that do not contain offensive or biased language, and express a neutral or non-controversial sentiment.\n",
        "   b. Offensive: Tweets that contain offensive, abusive, derogatory, or inappropriate language targeting individuals or groups.\n",
        "   c. Can't tell: Use this class when the tweet is too ambiguous, lacks context, or the annotator cannot confidently determine whether it belongs to the \"neutral\" or \"offensive\" class.\n",
        "\n",
        "2. Characteristics of Each Class:\n",
        "   a. Neutral:\n",
        "      - The tweet presents a non-controversial or unbiased opinion.\n",
        "      - It does not contain any offensive language, personal attacks, or discriminatory content.\n",
        "      - The sentiment expressed in the tweet is neither positive nor negative.\n",
        "      - The tweet express an opinion that is not likely to provoke any strong reactions.\n",
        "      - It does not contain any profanity, vulgar language, or sexually explicit content.\n",
        "\n",
        "   b. Offensive:\n",
        "      - The tweet includes explicit or implicit offensive language, hate speech, or derogatory remarks targeting individuals or groups based on attributes such as race, gender, religion, ethnicity, etc.\n",
        "      - It contains personal attacks, threats, or intends to demean or harm others.\n",
        "      - The tweet may provoke anger, disgust, or be considered inappropriate or disrespectful.\n",
        "      - It takes party in political or social discussions that are controversial or sensitive in nature.\n",
        "      - Contains profanity, vulgar language, or sexually explicit content.\n",
        "      - It contains offensive or abusive terms that are used to insult others.\n",
        "      - The tweet expresses extreme political or religious views that are likely to provoke strong reactions.\n",
        "\n",
        "   c. Can't tell:\n",
        "      - Select this class if the tweet is ambiguous, lacks sufficient context, or contains language that makes it difficult to confidently assign it to \"neutral\" or \"offensive.\"\n",
        "      - The tweet might be written in an unclear or sarcastic tone, making it hard to discern the true intent.\n",
        "      - The tweet could be in a language or cultural context that is unfamiliar to the annotator.\n",
        "      \n",
        "3. Examples of Ambiguous Cases:\n",
        "   a. Ambiguous \"neutral\" cases:\n",
        "      - Tweets that contain mild sarcasm or irony that might be mistaken for offensive language without proper context.\n",
        "      - Statements that mention controversial topics without expressing a clear opinion (e.g. \"People talk out more and more about racism these days\", this example should not be considered offensive because it does not express a clear opinion about racism, it just mentions that people talk about it more and more)\n",
        "      - Tweets with ambiguous humor that could be perceived as offensive without further clarification.\n",
        "\n",
        "   b. Ambiguous \"offensive\" cases:\n",
        "      - Tweets that mention sensitive topics but do not directly contain offensive language (e.g. \"Nazis were the enemy of Europe in WWII\", this example does not contain direct offensive language, but the topic is sensitive and could be considered offensive by some people).\n",
        "      - Statements that criticize public figures or institutions without crossing the line into offensive territory (e.g. \"The president is not doing a good job\", this example is not offensive because it does not contain any offensive language, it just expresses an opinion about the president, but should be considered offensive nonetheless because it criticizes a public figure).\n",
        "      - Tweets that include euphemisms, coded language, or implicit offensive content (e.g. \"I don't like people who are not like me\", this example does not contain any offensive language, but it could be considered offensive by some people because it implies that the author does not like people who are different from him/her)\n",
        "\n",
        "4. Handling \"Can't Tell\" Class:\n",
        "   - The \"can't tell\" class should be used sparingly when there is genuine uncertainty or lack of information to make a clear determination.\n",
        "   - Annotators should strive to provide clear and well-supported annotations for as many tweets as possible.\n",
        "   - Whenever possible, annotators should seek additional context, or utilize external resources to aid in the classification process.\n",
        "\n",
        "Consistency is key in maintaining high-quality annotations. Annotators should review and familiarize themselves with this guideline thoroughly before starting the annotation process."
      ]
    },
    {
      "attachments": {},
      "cell_type": "markdown",
      "metadata": {},
      "source": [
        "#### 4. Evaluate your inter-annotaor agreement using Fleiss Kappa"
      ]
    },
    {
      "cell_type": "code",
      "execution_count": 94,
      "metadata": {},
      "outputs": [
        {
          "data": {
            "text/html": [
              "<div>\n",
              "<style scoped>\n",
              "    .dataframe tbody tr th:only-of-type {\n",
              "        vertical-align: middle;\n",
              "    }\n",
              "\n",
              "    .dataframe tbody tr th {\n",
              "        vertical-align: top;\n",
              "    }\n",
              "\n",
              "    .dataframe thead th {\n",
              "        text-align: right;\n",
              "    }\n",
              "</style>\n",
              "<table border=\"1\" class=\"dataframe\">\n",
              "  <thead>\n",
              "    <tr style=\"text-align: right;\">\n",
              "      <th></th>\n",
              "      <th>text</th>\n",
              "      <th>label</th>\n",
              "    </tr>\n",
              "  </thead>\n",
              "  <tbody>\n",
              "    <tr>\n",
              "      <th>0</th>\n",
              "      <td>agree.</td>\n",
              "      <td>non-offensive</td>\n",
              "    </tr>\n",
              "    <tr>\n",
              "      <th>1</th>\n",
              "      <td>I guess looking at interannotator metrics such...</td>\n",
              "      <td>non-offensive</td>\n",
              "    </tr>\n",
              "    <tr>\n",
              "      <th>2</th>\n",
              "      <td>Tried and tested 😂😂😂</td>\n",
              "      <td>non-offensive</td>\n",
              "    </tr>\n",
              "    <tr>\n",
              "      <th>3</th>\n",
              "      <td>setiap lihat teman2ku baru main hades and they...</td>\n",
              "      <td>offensive</td>\n",
              "    </tr>\n",
              "    <tr>\n",
              "      <th>4</th>\n",
              "      <td>Free Britney</td>\n",
              "      <td>non-offensive</td>\n",
              "    </tr>\n",
              "    <tr>\n",
              "      <th>...</th>\n",
              "      <td>...</td>\n",
              "      <td>...</td>\n",
              "    </tr>\n",
              "    <tr>\n",
              "      <th>95</th>\n",
              "      <td>He rather have used the cash to buy some cloth...</td>\n",
              "      <td>non-offensive</td>\n",
              "    </tr>\n",
              "    <tr>\n",
              "      <th>96</th>\n",
              "      <td>Come one come all into 6988</td>\n",
              "      <td>non-offensive</td>\n",
              "    </tr>\n",
              "    <tr>\n",
              "      <th>97</th>\n",
              "      <td>Make up, dress up, like a princess \\nfor him s...</td>\n",
              "      <td>offensive</td>\n",
              "    </tr>\n",
              "    <tr>\n",
              "      <th>98</th>\n",
              "      <td>⠀⠀⠀\"Tell me then, YOU BROKEDICK SON OF A BITCH...</td>\n",
              "      <td>offensive</td>\n",
              "    </tr>\n",
              "    <tr>\n",
              "      <th>99</th>\n",
              "      <td>This is a man thing? I keep finding out I'm a ...</td>\n",
              "      <td>non-offensive</td>\n",
              "    </tr>\n",
              "  </tbody>\n",
              "</table>\n",
              "<p>100 rows × 2 columns</p>\n",
              "</div>"
            ],
            "text/plain": [
              "                                                 text          label\n",
              "0                                              agree.  non-offensive\n",
              "1   I guess looking at interannotator metrics such...  non-offensive\n",
              "2                                Tried and tested 😂😂😂  non-offensive\n",
              "3   setiap lihat teman2ku baru main hades and they...      offensive\n",
              "4                                        Free Britney  non-offensive\n",
              "..                                                ...            ...\n",
              "95  He rather have used the cash to buy some cloth...  non-offensive\n",
              "96                        Come one come all into 6988  non-offensive\n",
              "97  Make up, dress up, like a princess \\nfor him s...      offensive\n",
              "98  ⠀⠀⠀\"Tell me then, YOU BROKEDICK SON OF A BITCH...      offensive\n",
              "99  This is a man thing? I keep finding out I'm a ...  non-offensive\n",
              "\n",
              "[100 rows x 2 columns]"
            ]
          },
          "execution_count": 94,
          "metadata": {},
          "output_type": "execute_result"
        }
      ],
      "source": [
        "df = pd.read_csv(\"extracted_tweets2.csv\")\n",
        "df"
      ]
    },
    {
      "cell_type": "code",
      "execution_count": 120,
      "metadata": {},
      "outputs": [
        {
          "data": {
            "text/html": [
              "<div>\n",
              "<style scoped>\n",
              "    .dataframe tbody tr th:only-of-type {\n",
              "        vertical-align: middle;\n",
              "    }\n",
              "\n",
              "    .dataframe tbody tr th {\n",
              "        vertical-align: top;\n",
              "    }\n",
              "\n",
              "    .dataframe thead th {\n",
              "        text-align: right;\n",
              "    }\n",
              "</style>\n",
              "<table border=\"1\" class=\"dataframe\">\n",
              "  <thead>\n",
              "    <tr style=\"text-align: right;\">\n",
              "      <th></th>\n",
              "      <th>label</th>\n",
              "      <th>label2</th>\n",
              "    </tr>\n",
              "  </thead>\n",
              "  <tbody>\n",
              "    <tr>\n",
              "      <th>0</th>\n",
              "      <td>0</td>\n",
              "      <td>0</td>\n",
              "    </tr>\n",
              "    <tr>\n",
              "      <th>1</th>\n",
              "      <td>0</td>\n",
              "      <td>0</td>\n",
              "    </tr>\n",
              "    <tr>\n",
              "      <th>2</th>\n",
              "      <td>0</td>\n",
              "      <td>0</td>\n",
              "    </tr>\n",
              "    <tr>\n",
              "      <th>3</th>\n",
              "      <td>1</td>\n",
              "      <td>1</td>\n",
              "    </tr>\n",
              "    <tr>\n",
              "      <th>4</th>\n",
              "      <td>0</td>\n",
              "      <td>0</td>\n",
              "    </tr>\n",
              "    <tr>\n",
              "      <th>...</th>\n",
              "      <td>...</td>\n",
              "      <td>...</td>\n",
              "    </tr>\n",
              "    <tr>\n",
              "      <th>95</th>\n",
              "      <td>0</td>\n",
              "      <td>0</td>\n",
              "    </tr>\n",
              "    <tr>\n",
              "      <th>96</th>\n",
              "      <td>0</td>\n",
              "      <td>0</td>\n",
              "    </tr>\n",
              "    <tr>\n",
              "      <th>97</th>\n",
              "      <td>1</td>\n",
              "      <td>1</td>\n",
              "    </tr>\n",
              "    <tr>\n",
              "      <th>98</th>\n",
              "      <td>1</td>\n",
              "      <td>1</td>\n",
              "    </tr>\n",
              "    <tr>\n",
              "      <th>99</th>\n",
              "      <td>0</td>\n",
              "      <td>0</td>\n",
              "    </tr>\n",
              "  </tbody>\n",
              "</table>\n",
              "<p>100 rows × 2 columns</p>\n",
              "</div>"
            ],
            "text/plain": [
              "    label  label2\n",
              "0       0       0\n",
              "1       0       0\n",
              "2       0       0\n",
              "3       1       1\n",
              "4       0       0\n",
              "..    ...     ...\n",
              "95      0       0\n",
              "96      0       0\n",
              "97      1       1\n",
              "98      1       1\n",
              "99      0       0\n",
              "\n",
              "[100 rows x 2 columns]"
            ]
          },
          "execution_count": 120,
          "metadata": {},
          "output_type": "execute_result"
        }
      ],
      "source": [
        "df_annotators = df.drop(columns=[\"text\"])\n",
        "df_annotators = df_annotators.applymap(lambda x: 1 if x == \"offensive\" else 0)\n",
        "df_annotators[\"label2\"] = df_annotators[\"label\"]\n",
        "df_annotators"
      ]
    },
    {
      "cell_type": "code",
      "execution_count": 122,
      "metadata": {},
      "outputs": [
        {
          "data": {
            "text/plain": [
              "1.0"
            ]
          },
          "execution_count": 122,
          "metadata": {},
          "output_type": "execute_result"
        }
      ],
      "source": [
        "vals, _ = ir.aggregate_raters(df_annotators.values)\n",
        "ir.fleiss_kappa(vals, method='fleiss')"
      ]
    },
    {
      "attachments": {},
      "cell_type": "markdown",
      "metadata": {},
      "source": [
        "We obtained a Fleiss Kappa score of 1.0, which means that there is a perfect agreement between annotators. This is a very good score, and it means that our annotation guideline is very clear and easy to understand.\n",
        "\n",
        "#### 6. (Bonus) Evaluate the model your data. Use a majority vote for labels (remove majority \"can't tell\") and compute the precision, recall, and F1-score."
      ]
    },
    {
      "cell_type": "code",
      "execution_count": null,
      "metadata": {},
      "outputs": [],
      "source": [
        "evaluate(tweets_preds, df_annotators[\"label\"].tolist())"
      ]
    }
  ],
  "metadata": {
    "accelerator": "GPU",
    "colab": {
      "gpuType": "T4",
      "provenance": []
    },
    "kernelspec": {
      "display_name": "Python 3",
      "name": "python3"
    },
    "language_info": {
      "codemirror_mode": {
        "name": "ipython",
        "version": 3
      },
      "file_extension": ".py",
      "mimetype": "text/x-python",
      "name": "python",
      "nbconvert_exporter": "python",
      "pygments_lexer": "ipython3",
      "version": "3.9.6"
    },
    "orig_nbformat": 4,
    "widgets": {
      "application/vnd.jupyter.widget-state+json": {
        "00190b762e3f46db8b61193ac4a0cd87": {
          "model_module": "@jupyter-widgets/base",
          "model_module_version": "1.2.0",
          "model_name": "LayoutModel",
          "state": {
            "_model_module": "@jupyter-widgets/base",
            "_model_module_version": "1.2.0",
            "_model_name": "LayoutModel",
            "_view_count": null,
            "_view_module": "@jupyter-widgets/base",
            "_view_module_version": "1.2.0",
            "_view_name": "LayoutView",
            "align_content": null,
            "align_items": null,
            "align_self": null,
            "border": null,
            "bottom": null,
            "display": null,
            "flex": null,
            "flex_flow": null,
            "grid_area": null,
            "grid_auto_columns": null,
            "grid_auto_flow": null,
            "grid_auto_rows": null,
            "grid_column": null,
            "grid_gap": null,
            "grid_row": null,
            "grid_template_areas": null,
            "grid_template_columns": null,
            "grid_template_rows": null,
            "height": null,
            "justify_content": null,
            "justify_items": null,
            "left": null,
            "margin": null,
            "max_height": null,
            "max_width": null,
            "min_height": null,
            "min_width": null,
            "object_fit": null,
            "object_position": null,
            "order": null,
            "overflow": null,
            "overflow_x": null,
            "overflow_y": null,
            "padding": null,
            "right": null,
            "top": null,
            "visibility": null,
            "width": null
          }
        },
        "00877a2bc4424046a1a2c97cd52db994": {
          "model_module": "@jupyter-widgets/controls",
          "model_module_version": "1.5.0",
          "model_name": "DescriptionStyleModel",
          "state": {
            "_model_module": "@jupyter-widgets/controls",
            "_model_module_version": "1.5.0",
            "_model_name": "DescriptionStyleModel",
            "_view_count": null,
            "_view_module": "@jupyter-widgets/base",
            "_view_module_version": "1.2.0",
            "_view_name": "StyleView",
            "description_width": ""
          }
        },
        "00eaab3fcf6e4c4383a1705696815958": {
          "model_module": "@jupyter-widgets/controls",
          "model_module_version": "1.5.0",
          "model_name": "DescriptionStyleModel",
          "state": {
            "_model_module": "@jupyter-widgets/controls",
            "_model_module_version": "1.5.0",
            "_model_name": "DescriptionStyleModel",
            "_view_count": null,
            "_view_module": "@jupyter-widgets/base",
            "_view_module_version": "1.2.0",
            "_view_name": "StyleView",
            "description_width": ""
          }
        },
        "00eac038e7494e409b273b3bae44614d": {
          "model_module": "@jupyter-widgets/base",
          "model_module_version": "1.2.0",
          "model_name": "LayoutModel",
          "state": {
            "_model_module": "@jupyter-widgets/base",
            "_model_module_version": "1.2.0",
            "_model_name": "LayoutModel",
            "_view_count": null,
            "_view_module": "@jupyter-widgets/base",
            "_view_module_version": "1.2.0",
            "_view_name": "LayoutView",
            "align_content": null,
            "align_items": null,
            "align_self": null,
            "border": null,
            "bottom": null,
            "display": null,
            "flex": null,
            "flex_flow": null,
            "grid_area": null,
            "grid_auto_columns": null,
            "grid_auto_flow": null,
            "grid_auto_rows": null,
            "grid_column": null,
            "grid_gap": null,
            "grid_row": null,
            "grid_template_areas": null,
            "grid_template_columns": null,
            "grid_template_rows": null,
            "height": null,
            "justify_content": null,
            "justify_items": null,
            "left": null,
            "margin": null,
            "max_height": null,
            "max_width": null,
            "min_height": null,
            "min_width": null,
            "object_fit": null,
            "object_position": null,
            "order": null,
            "overflow": null,
            "overflow_x": null,
            "overflow_y": null,
            "padding": null,
            "right": null,
            "top": null,
            "visibility": null,
            "width": null
          }
        },
        "017a5e36b3e94cd4891ac631eaa95e4d": {
          "model_module": "@jupyter-widgets/base",
          "model_module_version": "1.2.0",
          "model_name": "LayoutModel",
          "state": {
            "_model_module": "@jupyter-widgets/base",
            "_model_module_version": "1.2.0",
            "_model_name": "LayoutModel",
            "_view_count": null,
            "_view_module": "@jupyter-widgets/base",
            "_view_module_version": "1.2.0",
            "_view_name": "LayoutView",
            "align_content": null,
            "align_items": null,
            "align_self": null,
            "border": null,
            "bottom": null,
            "display": null,
            "flex": null,
            "flex_flow": null,
            "grid_area": null,
            "grid_auto_columns": null,
            "grid_auto_flow": null,
            "grid_auto_rows": null,
            "grid_column": null,
            "grid_gap": null,
            "grid_row": null,
            "grid_template_areas": null,
            "grid_template_columns": null,
            "grid_template_rows": null,
            "height": null,
            "justify_content": null,
            "justify_items": null,
            "left": null,
            "margin": null,
            "max_height": null,
            "max_width": null,
            "min_height": null,
            "min_width": null,
            "object_fit": null,
            "object_position": null,
            "order": null,
            "overflow": null,
            "overflow_x": null,
            "overflow_y": null,
            "padding": null,
            "right": null,
            "top": null,
            "visibility": null,
            "width": null
          }
        },
        "019a0b19d10c4b518273ea7a64ddd7db": {
          "model_module": "@jupyter-widgets/controls",
          "model_module_version": "1.5.0",
          "model_name": "DescriptionStyleModel",
          "state": {
            "_model_module": "@jupyter-widgets/controls",
            "_model_module_version": "1.5.0",
            "_model_name": "DescriptionStyleModel",
            "_view_count": null,
            "_view_module": "@jupyter-widgets/base",
            "_view_module_version": "1.2.0",
            "_view_name": "StyleView",
            "description_width": ""
          }
        },
        "024a6d09f4ea48e7829a664ecfc1854f": {
          "model_module": "@jupyter-widgets/controls",
          "model_module_version": "1.5.0",
          "model_name": "HTMLModel",
          "state": {
            "_dom_classes": [],
            "_model_module": "@jupyter-widgets/controls",
            "_model_module_version": "1.5.0",
            "_model_name": "HTMLModel",
            "_view_count": null,
            "_view_module": "@jupyter-widgets/controls",
            "_view_module_version": "1.5.0",
            "_view_name": "HTMLView",
            "description": "",
            "description_tooltip": null,
            "layout": "IPY_MODEL_80bfaa60e46b409f82069484b462f286",
            "placeholder": "​",
            "style": "IPY_MODEL_6e1383d30e014a1c99692f2ca786e232",
            "value": " 9769/11916 [00:00&lt;00:00, 20106.85 examples/s]"
          }
        },
        "0265705af92948f9ab17226b0fb760be": {
          "model_module": "@jupyter-widgets/controls",
          "model_module_version": "1.5.0",
          "model_name": "FloatProgressModel",
          "state": {
            "_dom_classes": [],
            "_model_module": "@jupyter-widgets/controls",
            "_model_module_version": "1.5.0",
            "_model_name": "FloatProgressModel",
            "_view_count": null,
            "_view_module": "@jupyter-widgets/controls",
            "_view_module_version": "1.5.0",
            "_view_name": "ProgressView",
            "bar_style": "success",
            "description": "",
            "description_tooltip": null,
            "layout": "IPY_MODEL_74502b1ae1e745028352b643dabe85e9",
            "max": 190,
            "min": 0,
            "orientation": "horizontal",
            "style": "IPY_MODEL_ebd9fec6db59478f9da4232dc55f1426",
            "value": 190
          }
        },
        "02e5e84436784c02a588953eb904afc0": {
          "model_module": "@jupyter-widgets/controls",
          "model_module_version": "1.5.0",
          "model_name": "HTMLModel",
          "state": {
            "_dom_classes": [],
            "_model_module": "@jupyter-widgets/controls",
            "_model_module_version": "1.5.0",
            "_model_name": "HTMLModel",
            "_view_count": null,
            "_view_module": "@jupyter-widgets/controls",
            "_view_module_version": "1.5.0",
            "_view_name": "HTMLView",
            "description": "",
            "description_tooltip": null,
            "layout": "IPY_MODEL_6a1852daf3a74a9cb3f217236c9ca207",
            "placeholder": "​",
            "style": "IPY_MODEL_0c0fb6754e6145be9cbf2ed9df829af4",
            "value": "Map: 100%"
          }
        },
        "02fd795f36634897b535c92d123df670": {
          "model_module": "@jupyter-widgets/base",
          "model_module_version": "1.2.0",
          "model_name": "LayoutModel",
          "state": {
            "_model_module": "@jupyter-widgets/base",
            "_model_module_version": "1.2.0",
            "_model_name": "LayoutModel",
            "_view_count": null,
            "_view_module": "@jupyter-widgets/base",
            "_view_module_version": "1.2.0",
            "_view_name": "LayoutView",
            "align_content": null,
            "align_items": null,
            "align_self": null,
            "border": null,
            "bottom": null,
            "display": null,
            "flex": null,
            "flex_flow": null,
            "grid_area": null,
            "grid_auto_columns": null,
            "grid_auto_flow": null,
            "grid_auto_rows": null,
            "grid_column": null,
            "grid_gap": null,
            "grid_row": null,
            "grid_template_areas": null,
            "grid_template_columns": null,
            "grid_template_rows": null,
            "height": null,
            "justify_content": null,
            "justify_items": null,
            "left": null,
            "margin": null,
            "max_height": null,
            "max_width": null,
            "min_height": null,
            "min_width": null,
            "object_fit": null,
            "object_position": null,
            "order": null,
            "overflow": null,
            "overflow_x": null,
            "overflow_y": null,
            "padding": null,
            "right": null,
            "top": null,
            "visibility": null,
            "width": null
          }
        },
        "0353430856bd4bbd9f858c8228e499c3": {
          "model_module": "@jupyter-widgets/controls",
          "model_module_version": "1.5.0",
          "model_name": "HBoxModel",
          "state": {
            "_dom_classes": [],
            "_model_module": "@jupyter-widgets/controls",
            "_model_module_version": "1.5.0",
            "_model_name": "HBoxModel",
            "_view_count": null,
            "_view_module": "@jupyter-widgets/controls",
            "_view_module_version": "1.5.0",
            "_view_name": "HBoxView",
            "box_style": "",
            "children": [
              "IPY_MODEL_db5888638d8748b3af24273428170c8c",
              "IPY_MODEL_790ca69f9fde4798a6d34dc07c11e16e",
              "IPY_MODEL_d36325e2ecbd4587a36fbacf317ec769"
            ],
            "layout": "IPY_MODEL_4fdca00e2eca452bab63e65fbba0a5f8"
          }
        },
        "04221b1e9bd743e6890c53b4d89d3247": {
          "model_module": "@jupyter-widgets/controls",
          "model_module_version": "1.5.0",
          "model_name": "HBoxModel",
          "state": {
            "_dom_classes": [],
            "_model_module": "@jupyter-widgets/controls",
            "_model_module_version": "1.5.0",
            "_model_name": "HBoxModel",
            "_view_count": null,
            "_view_module": "@jupyter-widgets/controls",
            "_view_module_version": "1.5.0",
            "_view_name": "HBoxView",
            "box_style": "",
            "children": [
              "IPY_MODEL_da951d3ab83e4e3ea668a7b07cf5e122",
              "IPY_MODEL_fada35910d3f42429771357b97caadba",
              "IPY_MODEL_56de5a18809c4db0878afcffe453bc20"
            ],
            "layout": "IPY_MODEL_19d96f173742499aa724062e30394a33"
          }
        },
        "04f5750c717f4a34a020bac2eb83ee78": {
          "model_module": "@jupyter-widgets/base",
          "model_module_version": "1.2.0",
          "model_name": "LayoutModel",
          "state": {
            "_model_module": "@jupyter-widgets/base",
            "_model_module_version": "1.2.0",
            "_model_name": "LayoutModel",
            "_view_count": null,
            "_view_module": "@jupyter-widgets/base",
            "_view_module_version": "1.2.0",
            "_view_name": "LayoutView",
            "align_content": null,
            "align_items": null,
            "align_self": null,
            "border": null,
            "bottom": null,
            "display": null,
            "flex": null,
            "flex_flow": null,
            "grid_area": null,
            "grid_auto_columns": null,
            "grid_auto_flow": null,
            "grid_auto_rows": null,
            "grid_column": null,
            "grid_gap": null,
            "grid_row": null,
            "grid_template_areas": null,
            "grid_template_columns": null,
            "grid_template_rows": null,
            "height": null,
            "justify_content": null,
            "justify_items": null,
            "left": null,
            "margin": null,
            "max_height": null,
            "max_width": null,
            "min_height": null,
            "min_width": null,
            "object_fit": null,
            "object_position": null,
            "order": null,
            "overflow": null,
            "overflow_x": null,
            "overflow_y": null,
            "padding": null,
            "right": null,
            "top": null,
            "visibility": null,
            "width": null
          }
        },
        "0725a950732c4dfebef46970dde6b7c3": {
          "model_module": "@jupyter-widgets/base",
          "model_module_version": "1.2.0",
          "model_name": "LayoutModel",
          "state": {
            "_model_module": "@jupyter-widgets/base",
            "_model_module_version": "1.2.0",
            "_model_name": "LayoutModel",
            "_view_count": null,
            "_view_module": "@jupyter-widgets/base",
            "_view_module_version": "1.2.0",
            "_view_name": "LayoutView",
            "align_content": null,
            "align_items": null,
            "align_self": null,
            "border": null,
            "bottom": null,
            "display": null,
            "flex": null,
            "flex_flow": null,
            "grid_area": null,
            "grid_auto_columns": null,
            "grid_auto_flow": null,
            "grid_auto_rows": null,
            "grid_column": null,
            "grid_gap": null,
            "grid_row": null,
            "grid_template_areas": null,
            "grid_template_columns": null,
            "grid_template_rows": null,
            "height": null,
            "justify_content": null,
            "justify_items": null,
            "left": null,
            "margin": null,
            "max_height": null,
            "max_width": null,
            "min_height": null,
            "min_width": null,
            "object_fit": null,
            "object_position": null,
            "order": null,
            "overflow": null,
            "overflow_x": null,
            "overflow_y": null,
            "padding": null,
            "right": null,
            "top": null,
            "visibility": null,
            "width": null
          }
        },
        "074ac0bda02e4131936a26006e656b71": {
          "model_module": "@jupyter-widgets/base",
          "model_module_version": "1.2.0",
          "model_name": "LayoutModel",
          "state": {
            "_model_module": "@jupyter-widgets/base",
            "_model_module_version": "1.2.0",
            "_model_name": "LayoutModel",
            "_view_count": null,
            "_view_module": "@jupyter-widgets/base",
            "_view_module_version": "1.2.0",
            "_view_name": "LayoutView",
            "align_content": null,
            "align_items": null,
            "align_self": null,
            "border": null,
            "bottom": null,
            "display": null,
            "flex": null,
            "flex_flow": null,
            "grid_area": null,
            "grid_auto_columns": null,
            "grid_auto_flow": null,
            "grid_auto_rows": null,
            "grid_column": null,
            "grid_gap": null,
            "grid_row": null,
            "grid_template_areas": null,
            "grid_template_columns": null,
            "grid_template_rows": null,
            "height": null,
            "justify_content": null,
            "justify_items": null,
            "left": null,
            "margin": null,
            "max_height": null,
            "max_width": null,
            "min_height": null,
            "min_width": null,
            "object_fit": null,
            "object_position": null,
            "order": null,
            "overflow": null,
            "overflow_x": null,
            "overflow_y": null,
            "padding": null,
            "right": null,
            "top": null,
            "visibility": null,
            "width": null
          }
        },
        "077e13840c724554b5b126e3de9245f1": {
          "model_module": "@jupyter-widgets/controls",
          "model_module_version": "1.5.0",
          "model_name": "FloatProgressModel",
          "state": {
            "_dom_classes": [],
            "_model_module": "@jupyter-widgets/controls",
            "_model_module_version": "1.5.0",
            "_model_name": "FloatProgressModel",
            "_view_count": null,
            "_view_module": "@jupyter-widgets/controls",
            "_view_module_version": "1.5.0",
            "_view_name": "ProgressView",
            "bar_style": "success",
            "description": "",
            "description_tooltip": null,
            "layout": "IPY_MODEL_b0b34f5d643a4c499d98d9d47c497d0f",
            "max": 466247,
            "min": 0,
            "orientation": "horizontal",
            "style": "IPY_MODEL_9a81952bc3fa4bd0873a562b2d05231c",
            "value": 466247
          }
        },
        "079b7bd70d4940df86680663202b6575": {
          "model_module": "@jupyter-widgets/controls",
          "model_module_version": "1.5.0",
          "model_name": "HTMLModel",
          "state": {
            "_dom_classes": [],
            "_model_module": "@jupyter-widgets/controls",
            "_model_module_version": "1.5.0",
            "_model_name": "HTMLModel",
            "_view_count": null,
            "_view_module": "@jupyter-widgets/controls",
            "_view_module_version": "1.5.0",
            "_view_name": "HTMLView",
            "description": "",
            "description_tooltip": null,
            "layout": "IPY_MODEL_00eac038e7494e409b273b3bae44614d",
            "placeholder": "​",
            "style": "IPY_MODEL_172f609dea2349bbbd8b51d79afbc605",
            "value": " 21.9k/21.9k [00:00&lt;00:00, 1.02MB/s]"
          }
        },
        "0832a11afab84d0990b45e9a59d8c036": {
          "model_module": "@jupyter-widgets/controls",
          "model_module_version": "1.5.0",
          "model_name": "HBoxModel",
          "state": {
            "_dom_classes": [],
            "_model_module": "@jupyter-widgets/controls",
            "_model_module_version": "1.5.0",
            "_model_name": "HBoxModel",
            "_view_count": null,
            "_view_module": "@jupyter-widgets/controls",
            "_view_module_version": "1.5.0",
            "_view_name": "HBoxView",
            "box_style": "",
            "children": [
              "IPY_MODEL_7116691c161d476e9554c4e373679f69",
              "IPY_MODEL_db019cfd69534b07b2e2072cf28a7070",
              "IPY_MODEL_bf73c5ae490c4801b632e2c93c2d8ca6"
            ],
            "layout": "IPY_MODEL_d77ac075c00a42e98be444af608f266e"
          }
        },
        "086daf64e6dc4024ae94461dbb6efd24": {
          "model_module": "@jupyter-widgets/controls",
          "model_module_version": "1.5.0",
          "model_name": "HBoxModel",
          "state": {
            "_dom_classes": [],
            "_model_module": "@jupyter-widgets/controls",
            "_model_module_version": "1.5.0",
            "_model_name": "HBoxModel",
            "_view_count": null,
            "_view_module": "@jupyter-widgets/controls",
            "_view_module_version": "1.5.0",
            "_view_name": "HBoxView",
            "box_style": "",
            "children": [
              "IPY_MODEL_e07d1635343c4f96b0fe5938c33eade9",
              "IPY_MODEL_9a3e0288ac7d4e7182bce38395110bf7",
              "IPY_MODEL_2bc3582502174256b6dd992021301369"
            ],
            "layout": "IPY_MODEL_7fc5818bdedb4937b9699746504a86eb"
          }
        },
        "097262006fef4b5b83e6cfa38156ecf3": {
          "model_module": "@jupyter-widgets/controls",
          "model_module_version": "1.5.0",
          "model_name": "HBoxModel",
          "state": {
            "_dom_classes": [],
            "_model_module": "@jupyter-widgets/controls",
            "_model_module_version": "1.5.0",
            "_model_name": "HBoxModel",
            "_view_count": null,
            "_view_module": "@jupyter-widgets/controls",
            "_view_module_version": "1.5.0",
            "_view_name": "HBoxView",
            "box_style": "",
            "children": [
              "IPY_MODEL_3abd576f05024a35852e182d237cc382",
              "IPY_MODEL_ad1110fb008c4a21ae42daacabcca285",
              "IPY_MODEL_9d985a369c8a4371b3a2afada9699c02"
            ],
            "layout": "IPY_MODEL_51318d60b2264b36bfb5a480d5cce2c2"
          }
        },
        "0bbd2aa4ace54c0aa0f20a87ecd8f9bf": {
          "model_module": "@jupyter-widgets/controls",
          "model_module_version": "1.5.0",
          "model_name": "ProgressStyleModel",
          "state": {
            "_model_module": "@jupyter-widgets/controls",
            "_model_module_version": "1.5.0",
            "_model_name": "ProgressStyleModel",
            "_view_count": null,
            "_view_module": "@jupyter-widgets/base",
            "_view_module_version": "1.2.0",
            "_view_name": "StyleView",
            "bar_color": null,
            "description_width": ""
          }
        },
        "0c0fb6754e6145be9cbf2ed9df829af4": {
          "model_module": "@jupyter-widgets/controls",
          "model_module_version": "1.5.0",
          "model_name": "DescriptionStyleModel",
          "state": {
            "_model_module": "@jupyter-widgets/controls",
            "_model_module_version": "1.5.0",
            "_model_name": "DescriptionStyleModel",
            "_view_count": null,
            "_view_module": "@jupyter-widgets/base",
            "_view_module_version": "1.2.0",
            "_view_name": "StyleView",
            "description_width": ""
          }
        },
        "0c9d546090d84d46a5c9f486c46a48a2": {
          "model_module": "@jupyter-widgets/controls",
          "model_module_version": "1.5.0",
          "model_name": "DescriptionStyleModel",
          "state": {
            "_model_module": "@jupyter-widgets/controls",
            "_model_module_version": "1.5.0",
            "_model_name": "DescriptionStyleModel",
            "_view_count": null,
            "_view_module": "@jupyter-widgets/base",
            "_view_module_version": "1.2.0",
            "_view_name": "StyleView",
            "description_width": ""
          }
        },
        "0c9f2c48801e4da5935ecfe24386be34": {
          "model_module": "@jupyter-widgets/controls",
          "model_module_version": "1.5.0",
          "model_name": "HTMLModel",
          "state": {
            "_dom_classes": [],
            "_model_module": "@jupyter-widgets/controls",
            "_model_module_version": "1.5.0",
            "_model_name": "HTMLModel",
            "_view_count": null,
            "_view_module": "@jupyter-widgets/controls",
            "_view_module_version": "1.5.0",
            "_view_name": "HTMLView",
            "description": "",
            "description_tooltip": null,
            "layout": "IPY_MODEL_5995705276bd4dfd938281f116ec140f",
            "placeholder": "​",
            "style": "IPY_MODEL_69f6a031dcc04f8b8c0e964098416eb6",
            "value": " 2.65k/? [00:00&lt;00:00, 52.7kB/s]"
          }
        },
        "0e838a85e1dc4db4acd5f1266c086d34": {
          "model_module": "@jupyter-widgets/base",
          "model_module_version": "1.2.0",
          "model_name": "LayoutModel",
          "state": {
            "_model_module": "@jupyter-widgets/base",
            "_model_module_version": "1.2.0",
            "_model_name": "LayoutModel",
            "_view_count": null,
            "_view_module": "@jupyter-widgets/base",
            "_view_module_version": "1.2.0",
            "_view_name": "LayoutView",
            "align_content": null,
            "align_items": null,
            "align_self": null,
            "border": null,
            "bottom": null,
            "display": null,
            "flex": null,
            "flex_flow": null,
            "grid_area": null,
            "grid_auto_columns": null,
            "grid_auto_flow": null,
            "grid_auto_rows": null,
            "grid_column": null,
            "grid_gap": null,
            "grid_row": null,
            "grid_template_areas": null,
            "grid_template_columns": null,
            "grid_template_rows": null,
            "height": null,
            "justify_content": null,
            "justify_items": null,
            "left": null,
            "margin": null,
            "max_height": null,
            "max_width": null,
            "min_height": null,
            "min_width": null,
            "object_fit": null,
            "object_position": null,
            "order": null,
            "overflow": null,
            "overflow_x": null,
            "overflow_y": null,
            "padding": null,
            "right": null,
            "top": null,
            "visibility": null,
            "width": null
          }
        },
        "0f923a294ae348659d4c754baa341abe": {
          "model_module": "@jupyter-widgets/base",
          "model_module_version": "1.2.0",
          "model_name": "LayoutModel",
          "state": {
            "_model_module": "@jupyter-widgets/base",
            "_model_module_version": "1.2.0",
            "_model_name": "LayoutModel",
            "_view_count": null,
            "_view_module": "@jupyter-widgets/base",
            "_view_module_version": "1.2.0",
            "_view_name": "LayoutView",
            "align_content": null,
            "align_items": null,
            "align_self": null,
            "border": null,
            "bottom": null,
            "display": null,
            "flex": null,
            "flex_flow": null,
            "grid_area": null,
            "grid_auto_columns": null,
            "grid_auto_flow": null,
            "grid_auto_rows": null,
            "grid_column": null,
            "grid_gap": null,
            "grid_row": null,
            "grid_template_areas": null,
            "grid_template_columns": null,
            "grid_template_rows": null,
            "height": null,
            "justify_content": null,
            "justify_items": null,
            "left": null,
            "margin": null,
            "max_height": null,
            "max_width": null,
            "min_height": null,
            "min_width": null,
            "object_fit": null,
            "object_position": null,
            "order": null,
            "overflow": null,
            "overflow_x": null,
            "overflow_y": null,
            "padding": null,
            "right": null,
            "top": null,
            "visibility": null,
            "width": null
          }
        },
        "0fa12c16b08141cc8aa806aa875ff77b": {
          "model_module": "@jupyter-widgets/base",
          "model_module_version": "1.2.0",
          "model_name": "LayoutModel",
          "state": {
            "_model_module": "@jupyter-widgets/base",
            "_model_module_version": "1.2.0",
            "_model_name": "LayoutModel",
            "_view_count": null,
            "_view_module": "@jupyter-widgets/base",
            "_view_module_version": "1.2.0",
            "_view_name": "LayoutView",
            "align_content": null,
            "align_items": null,
            "align_self": null,
            "border": null,
            "bottom": null,
            "display": null,
            "flex": null,
            "flex_flow": null,
            "grid_area": null,
            "grid_auto_columns": null,
            "grid_auto_flow": null,
            "grid_auto_rows": null,
            "grid_column": null,
            "grid_gap": null,
            "grid_row": null,
            "grid_template_areas": null,
            "grid_template_columns": null,
            "grid_template_rows": null,
            "height": null,
            "justify_content": null,
            "justify_items": null,
            "left": null,
            "margin": null,
            "max_height": null,
            "max_width": null,
            "min_height": null,
            "min_width": null,
            "object_fit": null,
            "object_position": null,
            "order": null,
            "overflow": null,
            "overflow_x": null,
            "overflow_y": null,
            "padding": null,
            "right": null,
            "top": null,
            "visibility": null,
            "width": null
          }
        },
        "10d57a97539741cb8d5899bfc725a3ed": {
          "model_module": "@jupyter-widgets/controls",
          "model_module_version": "1.5.0",
          "model_name": "HBoxModel",
          "state": {
            "_dom_classes": [],
            "_model_module": "@jupyter-widgets/controls",
            "_model_module_version": "1.5.0",
            "_model_name": "HBoxModel",
            "_view_count": null,
            "_view_module": "@jupyter-widgets/controls",
            "_view_module_version": "1.5.0",
            "_view_name": "HBoxView",
            "box_style": "",
            "children": [
              "IPY_MODEL_5e3bbc5c46ec4835b7611e1c05ce2570",
              "IPY_MODEL_19d2cc310af3418991a3e61367516426",
              "IPY_MODEL_9fb980e74b604ed5a25c9506560e3351"
            ],
            "layout": "IPY_MODEL_7cdc321c44e440e9824981b9fce36279"
          }
        },
        "10eb11402f9b4e8e97be62fca972863e": {
          "model_module": "@jupyter-widgets/controls",
          "model_module_version": "1.5.0",
          "model_name": "HTMLModel",
          "state": {
            "_dom_classes": [],
            "_model_module": "@jupyter-widgets/controls",
            "_model_module_version": "1.5.0",
            "_model_name": "HTMLModel",
            "_view_count": null,
            "_view_module": "@jupyter-widgets/controls",
            "_view_module_version": "1.5.0",
            "_view_name": "HTMLView",
            "description": "",
            "description_tooltip": null,
            "layout": "IPY_MODEL_4e3ce78a1d5f45988491247b7441ae44",
            "placeholder": "​",
            "style": "IPY_MODEL_672fb51f26df4420b4a9098a6174422d",
            "value": "Downloading (…)e9125/.gitattributes: 100%"
          }
        },
        "1169762362a64800bf148a3025eb51fd": {
          "model_module": "@jupyter-widgets/controls",
          "model_module_version": "1.5.0",
          "model_name": "HBoxModel",
          "state": {
            "_dom_classes": [],
            "_model_module": "@jupyter-widgets/controls",
            "_model_module_version": "1.5.0",
            "_model_name": "HBoxModel",
            "_view_count": null,
            "_view_module": "@jupyter-widgets/controls",
            "_view_module_version": "1.5.0",
            "_view_name": "HBoxView",
            "box_style": "",
            "children": [
              "IPY_MODEL_f9dd7defff514540b2f413f90ec0f5d3",
              "IPY_MODEL_379510942a594d75bedfd9357d3ccbcb",
              "IPY_MODEL_4057a9ed8efc4b079051dc3f5d443a79"
            ],
            "layout": "IPY_MODEL_c673907fc2b6440ea32beef09aa4f88b"
          }
        },
        "11738d83be584c6a8451d9f749b22884": {
          "model_module": "@jupyter-widgets/controls",
          "model_module_version": "1.5.0",
          "model_name": "ProgressStyleModel",
          "state": {
            "_model_module": "@jupyter-widgets/controls",
            "_model_module_version": "1.5.0",
            "_model_name": "ProgressStyleModel",
            "_view_count": null,
            "_view_module": "@jupyter-widgets/base",
            "_view_module_version": "1.2.0",
            "_view_name": "StyleView",
            "bar_color": null,
            "description_width": ""
          }
        },
        "11d355787ed140bc850821f74adabd9d": {
          "model_module": "@jupyter-widgets/controls",
          "model_module_version": "1.5.0",
          "model_name": "FloatProgressModel",
          "state": {
            "_dom_classes": [],
            "_model_module": "@jupyter-widgets/controls",
            "_model_module_version": "1.5.0",
            "_model_name": "FloatProgressModel",
            "_view_count": null,
            "_view_module": "@jupyter-widgets/controls",
            "_view_module_version": "1.5.0",
            "_view_name": "ProgressView",
            "bar_style": "",
            "description": "",
            "description_tooltip": null,
            "layout": "IPY_MODEL_23e21394a9fa46fd8efd36f24544b184",
            "max": 11916,
            "min": 0,
            "orientation": "horizontal",
            "style": "IPY_MODEL_f84895268e7441909dae3ee98bb2b0ce",
            "value": 11916
          }
        },
        "11fb0f68810648d4af3f52441eacd358": {
          "model_module": "@jupyter-widgets/base",
          "model_module_version": "1.2.0",
          "model_name": "LayoutModel",
          "state": {
            "_model_module": "@jupyter-widgets/base",
            "_model_module_version": "1.2.0",
            "_model_name": "LayoutModel",
            "_view_count": null,
            "_view_module": "@jupyter-widgets/base",
            "_view_module_version": "1.2.0",
            "_view_name": "LayoutView",
            "align_content": null,
            "align_items": null,
            "align_self": null,
            "border": null,
            "bottom": null,
            "display": null,
            "flex": null,
            "flex_flow": null,
            "grid_area": null,
            "grid_auto_columns": null,
            "grid_auto_flow": null,
            "grid_auto_rows": null,
            "grid_column": null,
            "grid_gap": null,
            "grid_row": null,
            "grid_template_areas": null,
            "grid_template_columns": null,
            "grid_template_rows": null,
            "height": null,
            "justify_content": null,
            "justify_items": null,
            "left": null,
            "margin": null,
            "max_height": null,
            "max_width": null,
            "min_height": null,
            "min_width": null,
            "object_fit": null,
            "object_position": null,
            "order": null,
            "overflow": null,
            "overflow_x": null,
            "overflow_y": null,
            "padding": null,
            "right": null,
            "top": null,
            "visibility": null,
            "width": null
          }
        },
        "1273a7c2b4ad4a6284ffcedcec9adfde": {
          "model_module": "@jupyter-widgets/controls",
          "model_module_version": "1.5.0",
          "model_name": "HBoxModel",
          "state": {
            "_dom_classes": [],
            "_model_module": "@jupyter-widgets/controls",
            "_model_module_version": "1.5.0",
            "_model_name": "HBoxModel",
            "_view_count": null,
            "_view_module": "@jupyter-widgets/controls",
            "_view_module_version": "1.5.0",
            "_view_name": "HBoxView",
            "box_style": "",
            "children": [
              "IPY_MODEL_532a1d9b17ca4e1eb833f2249877689d",
              "IPY_MODEL_ca3fb22584d14b4fa785d2ed44959d01",
              "IPY_MODEL_024a6d09f4ea48e7829a664ecfc1854f"
            ],
            "layout": "IPY_MODEL_dd1e58422a474c199e6a1bc41615c78e"
          }
        },
        "127832dfe92a427f901bdee91bbc33e3": {
          "model_module": "@jupyter-widgets/controls",
          "model_module_version": "1.5.0",
          "model_name": "DescriptionStyleModel",
          "state": {
            "_model_module": "@jupyter-widgets/controls",
            "_model_module_version": "1.5.0",
            "_model_name": "DescriptionStyleModel",
            "_view_count": null,
            "_view_module": "@jupyter-widgets/base",
            "_view_module_version": "1.2.0",
            "_view_name": "StyleView",
            "description_width": ""
          }
        },
        "12d5d35de1b4424e83e6ad8cdff3907d": {
          "model_module": "@jupyter-widgets/base",
          "model_module_version": "1.2.0",
          "model_name": "LayoutModel",
          "state": {
            "_model_module": "@jupyter-widgets/base",
            "_model_module_version": "1.2.0",
            "_model_name": "LayoutModel",
            "_view_count": null,
            "_view_module": "@jupyter-widgets/base",
            "_view_module_version": "1.2.0",
            "_view_name": "LayoutView",
            "align_content": null,
            "align_items": null,
            "align_self": null,
            "border": null,
            "bottom": null,
            "display": null,
            "flex": null,
            "flex_flow": null,
            "grid_area": null,
            "grid_auto_columns": null,
            "grid_auto_flow": null,
            "grid_auto_rows": null,
            "grid_column": null,
            "grid_gap": null,
            "grid_row": null,
            "grid_template_areas": null,
            "grid_template_columns": null,
            "grid_template_rows": null,
            "height": null,
            "justify_content": null,
            "justify_items": null,
            "left": null,
            "margin": null,
            "max_height": null,
            "max_width": null,
            "min_height": null,
            "min_width": null,
            "object_fit": null,
            "object_position": null,
            "order": null,
            "overflow": null,
            "overflow_x": null,
            "overflow_y": null,
            "padding": null,
            "right": null,
            "top": null,
            "visibility": null,
            "width": null
          }
        },
        "1305995078d04d7ab821a668e412f785": {
          "model_module": "@jupyter-widgets/base",
          "model_module_version": "1.2.0",
          "model_name": "LayoutModel",
          "state": {
            "_model_module": "@jupyter-widgets/base",
            "_model_module_version": "1.2.0",
            "_model_name": "LayoutModel",
            "_view_count": null,
            "_view_module": "@jupyter-widgets/base",
            "_view_module_version": "1.2.0",
            "_view_name": "LayoutView",
            "align_content": null,
            "align_items": null,
            "align_self": null,
            "border": null,
            "bottom": null,
            "display": null,
            "flex": null,
            "flex_flow": null,
            "grid_area": null,
            "grid_auto_columns": null,
            "grid_auto_flow": null,
            "grid_auto_rows": null,
            "grid_column": null,
            "grid_gap": null,
            "grid_row": null,
            "grid_template_areas": null,
            "grid_template_columns": null,
            "grid_template_rows": null,
            "height": null,
            "justify_content": null,
            "justify_items": null,
            "left": null,
            "margin": null,
            "max_height": null,
            "max_width": null,
            "min_height": null,
            "min_width": null,
            "object_fit": null,
            "object_position": null,
            "order": null,
            "overflow": null,
            "overflow_x": null,
            "overflow_y": null,
            "padding": null,
            "right": null,
            "top": null,
            "visibility": null,
            "width": null
          }
        },
        "143ffa8c9b8f41398fb1b0690a572f6d": {
          "model_module": "@jupyter-widgets/controls",
          "model_module_version": "1.5.0",
          "model_name": "HBoxModel",
          "state": {
            "_dom_classes": [],
            "_model_module": "@jupyter-widgets/controls",
            "_model_module_version": "1.5.0",
            "_model_name": "HBoxModel",
            "_view_count": null,
            "_view_module": "@jupyter-widgets/controls",
            "_view_module_version": "1.5.0",
            "_view_name": "HBoxView",
            "box_style": "",
            "children": [
              "IPY_MODEL_877cfcd0ff2c45f1b509c9564cb5c407",
              "IPY_MODEL_97cf29576feb42198b88cdb27218c6fc",
              "IPY_MODEL_1bdc66c3245e419c9a6438007910fc1f"
            ],
            "layout": "IPY_MODEL_46e21e92d1344dd1898c774592cfe8a5"
          }
        },
        "1495fc9ff52440548dc5df3f26fe7150": {
          "model_module": "@jupyter-widgets/base",
          "model_module_version": "1.2.0",
          "model_name": "LayoutModel",
          "state": {
            "_model_module": "@jupyter-widgets/base",
            "_model_module_version": "1.2.0",
            "_model_name": "LayoutModel",
            "_view_count": null,
            "_view_module": "@jupyter-widgets/base",
            "_view_module_version": "1.2.0",
            "_view_name": "LayoutView",
            "align_content": null,
            "align_items": null,
            "align_self": null,
            "border": null,
            "bottom": null,
            "display": null,
            "flex": null,
            "flex_flow": null,
            "grid_area": null,
            "grid_auto_columns": null,
            "grid_auto_flow": null,
            "grid_auto_rows": null,
            "grid_column": null,
            "grid_gap": null,
            "grid_row": null,
            "grid_template_areas": null,
            "grid_template_columns": null,
            "grid_template_rows": null,
            "height": null,
            "justify_content": null,
            "justify_items": null,
            "left": null,
            "margin": null,
            "max_height": null,
            "max_width": null,
            "min_height": null,
            "min_width": null,
            "object_fit": null,
            "object_position": null,
            "order": null,
            "overflow": null,
            "overflow_x": null,
            "overflow_y": null,
            "padding": null,
            "right": null,
            "top": null,
            "visibility": null,
            "width": null
          }
        },
        "170d87c8852b413094e7771c91414a0a": {
          "model_module": "@jupyter-widgets/controls",
          "model_module_version": "1.5.0",
          "model_name": "FloatProgressModel",
          "state": {
            "_dom_classes": [],
            "_model_module": "@jupyter-widgets/controls",
            "_model_module_version": "1.5.0",
            "_model_name": "FloatProgressModel",
            "_view_count": null,
            "_view_module": "@jupyter-widgets/controls",
            "_view_module_version": "1.5.0",
            "_view_name": "ProgressView",
            "bar_style": "success",
            "description": "",
            "description_tooltip": null,
            "layout": "IPY_MODEL_02fd795f36634897b535c92d123df670",
            "max": 150,
            "min": 0,
            "orientation": "horizontal",
            "style": "IPY_MODEL_8df63a178c274f02975d0fb2280ec349",
            "value": 150
          }
        },
        "172f609dea2349bbbd8b51d79afbc605": {
          "model_module": "@jupyter-widgets/controls",
          "model_module_version": "1.5.0",
          "model_name": "DescriptionStyleModel",
          "state": {
            "_model_module": "@jupyter-widgets/controls",
            "_model_module_version": "1.5.0",
            "_model_name": "DescriptionStyleModel",
            "_view_count": null,
            "_view_module": "@jupyter-widgets/base",
            "_view_module_version": "1.2.0",
            "_view_name": "StyleView",
            "description_width": ""
          }
        },
        "18e41cea6f2c4fd5a8be542be84d26c0": {
          "model_module": "@jupyter-widgets/base",
          "model_module_version": "1.2.0",
          "model_name": "LayoutModel",
          "state": {
            "_model_module": "@jupyter-widgets/base",
            "_model_module_version": "1.2.0",
            "_model_name": "LayoutModel",
            "_view_count": null,
            "_view_module": "@jupyter-widgets/base",
            "_view_module_version": "1.2.0",
            "_view_name": "LayoutView",
            "align_content": null,
            "align_items": null,
            "align_self": null,
            "border": null,
            "bottom": null,
            "display": null,
            "flex": null,
            "flex_flow": null,
            "grid_area": null,
            "grid_auto_columns": null,
            "grid_auto_flow": null,
            "grid_auto_rows": null,
            "grid_column": null,
            "grid_gap": null,
            "grid_row": null,
            "grid_template_areas": null,
            "grid_template_columns": null,
            "grid_template_rows": null,
            "height": null,
            "justify_content": null,
            "justify_items": null,
            "left": null,
            "margin": null,
            "max_height": null,
            "max_width": null,
            "min_height": null,
            "min_width": null,
            "object_fit": null,
            "object_position": null,
            "order": null,
            "overflow": null,
            "overflow_x": null,
            "overflow_y": null,
            "padding": null,
            "right": null,
            "top": null,
            "visibility": "hidden",
            "width": null
          }
        },
        "19002c736b554b1dbf8659f4116667fc": {
          "model_module": "@jupyter-widgets/base",
          "model_module_version": "1.2.0",
          "model_name": "LayoutModel",
          "state": {
            "_model_module": "@jupyter-widgets/base",
            "_model_module_version": "1.2.0",
            "_model_name": "LayoutModel",
            "_view_count": null,
            "_view_module": "@jupyter-widgets/base",
            "_view_module_version": "1.2.0",
            "_view_name": "LayoutView",
            "align_content": null,
            "align_items": null,
            "align_self": null,
            "border": null,
            "bottom": null,
            "display": null,
            "flex": null,
            "flex_flow": null,
            "grid_area": null,
            "grid_auto_columns": null,
            "grid_auto_flow": null,
            "grid_auto_rows": null,
            "grid_column": null,
            "grid_gap": null,
            "grid_row": null,
            "grid_template_areas": null,
            "grid_template_columns": null,
            "grid_template_rows": null,
            "height": null,
            "justify_content": null,
            "justify_items": null,
            "left": null,
            "margin": null,
            "max_height": null,
            "max_width": null,
            "min_height": null,
            "min_width": null,
            "object_fit": null,
            "object_position": null,
            "order": null,
            "overflow": null,
            "overflow_x": null,
            "overflow_y": null,
            "padding": null,
            "right": null,
            "top": null,
            "visibility": null,
            "width": null
          }
        },
        "196046205fe34dd08f2b3cbf5f70fac6": {
          "model_module": "@jupyter-widgets/controls",
          "model_module_version": "1.5.0",
          "model_name": "HTMLModel",
          "state": {
            "_dom_classes": [],
            "_model_module": "@jupyter-widgets/controls",
            "_model_module_version": "1.5.0",
            "_model_name": "HTMLModel",
            "_view_count": null,
            "_view_module": "@jupyter-widgets/controls",
            "_view_module_version": "1.5.0",
            "_view_name": "HTMLView",
            "description": "",
            "description_tooltip": null,
            "layout": "IPY_MODEL_d85341de55084dfdb922637e9237ba08",
            "placeholder": "​",
            "style": "IPY_MODEL_40bb6a242414459fbf1fd635efe6003a",
            "value": " 90.9M/90.9M [00:00&lt;00:00, 154MB/s]"
          }
        },
        "19b2ade7260f4914bc5c806677745364": {
          "model_module": "@jupyter-widgets/controls",
          "model_module_version": "1.5.0",
          "model_name": "FloatProgressModel",
          "state": {
            "_dom_classes": [],
            "_model_module": "@jupyter-widgets/controls",
            "_model_module_version": "1.5.0",
            "_model_name": "FloatProgressModel",
            "_view_count": null,
            "_view_module": "@jupyter-widgets/controls",
            "_view_module_version": "1.5.0",
            "_view_name": "ProgressView",
            "bar_style": "success",
            "description": "",
            "description_tooltip": null,
            "layout": "IPY_MODEL_6cbd1edcfd4b455abab6385674820f37",
            "max": 231508,
            "min": 0,
            "orientation": "horizontal",
            "style": "IPY_MODEL_a6fa5625f39349679b27b6b4b36f7c27",
            "value": 231508
          }
        },
        "19bee9f92c1b4b6bbafb5602a3671de6": {
          "model_module": "@jupyter-widgets/controls",
          "model_module_version": "1.5.0",
          "model_name": "ProgressStyleModel",
          "state": {
            "_model_module": "@jupyter-widgets/controls",
            "_model_module_version": "1.5.0",
            "_model_name": "ProgressStyleModel",
            "_view_count": null,
            "_view_module": "@jupyter-widgets/base",
            "_view_module_version": "1.2.0",
            "_view_name": "StyleView",
            "bar_color": null,
            "description_width": ""
          }
        },
        "19d2cc310af3418991a3e61367516426": {
          "model_module": "@jupyter-widgets/controls",
          "model_module_version": "1.5.0",
          "model_name": "FloatProgressModel",
          "state": {
            "_dom_classes": [],
            "_model_module": "@jupyter-widgets/controls",
            "_model_module_version": "1.5.0",
            "_model_name": "FloatProgressModel",
            "_view_count": null,
            "_view_module": "@jupyter-widgets/controls",
            "_view_module_version": "1.5.0",
            "_view_name": "ProgressView",
            "bar_style": "success",
            "description": "",
            "description_tooltip": null,
            "layout": "IPY_MODEL_9274640b0dbf45679a6108743a2932c2",
            "max": 350,
            "min": 0,
            "orientation": "horizontal",
            "style": "IPY_MODEL_a13cb318dbca4c8882314a64a714be2b",
            "value": 350
          }
        },
        "19d88b2404a64f05967503f7f6fa00d5": {
          "model_module": "@jupyter-widgets/base",
          "model_module_version": "1.2.0",
          "model_name": "LayoutModel",
          "state": {
            "_model_module": "@jupyter-widgets/base",
            "_model_module_version": "1.2.0",
            "_model_name": "LayoutModel",
            "_view_count": null,
            "_view_module": "@jupyter-widgets/base",
            "_view_module_version": "1.2.0",
            "_view_name": "LayoutView",
            "align_content": null,
            "align_items": null,
            "align_self": null,
            "border": null,
            "bottom": null,
            "display": null,
            "flex": null,
            "flex_flow": null,
            "grid_area": null,
            "grid_auto_columns": null,
            "grid_auto_flow": null,
            "grid_auto_rows": null,
            "grid_column": null,
            "grid_gap": null,
            "grid_row": null,
            "grid_template_areas": null,
            "grid_template_columns": null,
            "grid_template_rows": null,
            "height": null,
            "justify_content": null,
            "justify_items": null,
            "left": null,
            "margin": null,
            "max_height": null,
            "max_width": null,
            "min_height": null,
            "min_width": null,
            "object_fit": null,
            "object_position": null,
            "order": null,
            "overflow": null,
            "overflow_x": null,
            "overflow_y": null,
            "padding": null,
            "right": null,
            "top": null,
            "visibility": null,
            "width": null
          }
        },
        "19d96f173742499aa724062e30394a33": {
          "model_module": "@jupyter-widgets/base",
          "model_module_version": "1.2.0",
          "model_name": "LayoutModel",
          "state": {
            "_model_module": "@jupyter-widgets/base",
            "_model_module_version": "1.2.0",
            "_model_name": "LayoutModel",
            "_view_count": null,
            "_view_module": "@jupyter-widgets/base",
            "_view_module_version": "1.2.0",
            "_view_name": "LayoutView",
            "align_content": null,
            "align_items": null,
            "align_self": null,
            "border": null,
            "bottom": null,
            "display": null,
            "flex": null,
            "flex_flow": null,
            "grid_area": null,
            "grid_auto_columns": null,
            "grid_auto_flow": null,
            "grid_auto_rows": null,
            "grid_column": null,
            "grid_gap": null,
            "grid_row": null,
            "grid_template_areas": null,
            "grid_template_columns": null,
            "grid_template_rows": null,
            "height": null,
            "justify_content": null,
            "justify_items": null,
            "left": null,
            "margin": null,
            "max_height": null,
            "max_width": null,
            "min_height": null,
            "min_width": null,
            "object_fit": null,
            "object_position": null,
            "order": null,
            "overflow": null,
            "overflow_x": null,
            "overflow_y": null,
            "padding": null,
            "right": null,
            "top": null,
            "visibility": null,
            "width": null
          }
        },
        "19ecea4bad4f49f982ce12c74b9ff149": {
          "model_module": "@jupyter-widgets/base",
          "model_module_version": "1.2.0",
          "model_name": "LayoutModel",
          "state": {
            "_model_module": "@jupyter-widgets/base",
            "_model_module_version": "1.2.0",
            "_model_name": "LayoutModel",
            "_view_count": null,
            "_view_module": "@jupyter-widgets/base",
            "_view_module_version": "1.2.0",
            "_view_name": "LayoutView",
            "align_content": null,
            "align_items": null,
            "align_self": null,
            "border": null,
            "bottom": null,
            "display": null,
            "flex": null,
            "flex_flow": null,
            "grid_area": null,
            "grid_auto_columns": null,
            "grid_auto_flow": null,
            "grid_auto_rows": null,
            "grid_column": null,
            "grid_gap": null,
            "grid_row": null,
            "grid_template_areas": null,
            "grid_template_columns": null,
            "grid_template_rows": null,
            "height": null,
            "justify_content": null,
            "justify_items": null,
            "left": null,
            "margin": null,
            "max_height": null,
            "max_width": null,
            "min_height": null,
            "min_width": null,
            "object_fit": null,
            "object_position": null,
            "order": null,
            "overflow": null,
            "overflow_x": null,
            "overflow_y": null,
            "padding": null,
            "right": null,
            "top": null,
            "visibility": null,
            "width": null
          }
        },
        "1b4661a9edd94b6b8df91b02a28120c7": {
          "model_module": "@jupyter-widgets/base",
          "model_module_version": "1.2.0",
          "model_name": "LayoutModel",
          "state": {
            "_model_module": "@jupyter-widgets/base",
            "_model_module_version": "1.2.0",
            "_model_name": "LayoutModel",
            "_view_count": null,
            "_view_module": "@jupyter-widgets/base",
            "_view_module_version": "1.2.0",
            "_view_name": "LayoutView",
            "align_content": null,
            "align_items": null,
            "align_self": null,
            "border": null,
            "bottom": null,
            "display": null,
            "flex": null,
            "flex_flow": null,
            "grid_area": null,
            "grid_auto_columns": null,
            "grid_auto_flow": null,
            "grid_auto_rows": null,
            "grid_column": null,
            "grid_gap": null,
            "grid_row": null,
            "grid_template_areas": null,
            "grid_template_columns": null,
            "grid_template_rows": null,
            "height": null,
            "justify_content": null,
            "justify_items": null,
            "left": null,
            "margin": null,
            "max_height": null,
            "max_width": null,
            "min_height": null,
            "min_width": null,
            "object_fit": null,
            "object_position": null,
            "order": null,
            "overflow": null,
            "overflow_x": null,
            "overflow_y": null,
            "padding": null,
            "right": null,
            "top": null,
            "visibility": null,
            "width": null
          }
        },
        "1b57511b73764266bed1cb4975a2b392": {
          "model_module": "@jupyter-widgets/controls",
          "model_module_version": "1.5.0",
          "model_name": "HBoxModel",
          "state": {
            "_dom_classes": [],
            "_model_module": "@jupyter-widgets/controls",
            "_model_module_version": "1.5.0",
            "_model_name": "HBoxModel",
            "_view_count": null,
            "_view_module": "@jupyter-widgets/controls",
            "_view_module_version": "1.5.0",
            "_view_name": "HBoxView",
            "box_style": "",
            "children": [
              "IPY_MODEL_b191083093d04f828e41b3e88cee797b",
              "IPY_MODEL_19b2ade7260f4914bc5c806677745364",
              "IPY_MODEL_c98b84819907434a909a9785a80699ec"
            ],
            "layout": "IPY_MODEL_3c786fce98cc4e878e92ffad3d434f43"
          }
        },
        "1bdc66c3245e419c9a6438007910fc1f": {
          "model_module": "@jupyter-widgets/controls",
          "model_module_version": "1.5.0",
          "model_name": "HTMLModel",
          "state": {
            "_dom_classes": [],
            "_model_module": "@jupyter-widgets/controls",
            "_model_module_version": "1.5.0",
            "_model_name": "HTMLModel",
            "_view_count": null,
            "_view_module": "@jupyter-widgets/controls",
            "_view_module_version": "1.5.0",
            "_view_name": "HTMLView",
            "description": "",
            "description_tooltip": null,
            "layout": "IPY_MODEL_0fa12c16b08141cc8aa806aa875ff77b",
            "placeholder": "​",
            "style": "IPY_MODEL_4351a6eecb2741a89d0985c01e9b2e33",
            "value": " 1.53M/? [00:00&lt;00:00, 26.6MB/s]"
          }
        },
        "1d9fc6af02e1439889f74ae338172774": {
          "model_module": "@jupyter-widgets/base",
          "model_module_version": "1.2.0",
          "model_name": "LayoutModel",
          "state": {
            "_model_module": "@jupyter-widgets/base",
            "_model_module_version": "1.2.0",
            "_model_name": "LayoutModel",
            "_view_count": null,
            "_view_module": "@jupyter-widgets/base",
            "_view_module_version": "1.2.0",
            "_view_name": "LayoutView",
            "align_content": null,
            "align_items": null,
            "align_self": null,
            "border": null,
            "bottom": null,
            "display": null,
            "flex": null,
            "flex_flow": null,
            "grid_area": null,
            "grid_auto_columns": null,
            "grid_auto_flow": null,
            "grid_auto_rows": null,
            "grid_column": null,
            "grid_gap": null,
            "grid_row": null,
            "grid_template_areas": null,
            "grid_template_columns": null,
            "grid_template_rows": null,
            "height": null,
            "justify_content": null,
            "justify_items": null,
            "left": null,
            "margin": null,
            "max_height": null,
            "max_width": null,
            "min_height": null,
            "min_width": null,
            "object_fit": null,
            "object_position": null,
            "order": null,
            "overflow": null,
            "overflow_x": null,
            "overflow_y": null,
            "padding": null,
            "right": null,
            "top": null,
            "visibility": null,
            "width": null
          }
        },
        "1df9a4ceeea043bd949b6013a105a8bc": {
          "model_module": "@jupyter-widgets/controls",
          "model_module_version": "1.5.0",
          "model_name": "ProgressStyleModel",
          "state": {
            "_model_module": "@jupyter-widgets/controls",
            "_model_module_version": "1.5.0",
            "_model_name": "ProgressStyleModel",
            "_view_count": null,
            "_view_module": "@jupyter-widgets/base",
            "_view_module_version": "1.2.0",
            "_view_name": "StyleView",
            "bar_color": null,
            "description_width": ""
          }
        },
        "1e2a5a05e95c499aae76f75f3f98461c": {
          "model_module": "@jupyter-widgets/controls",
          "model_module_version": "1.5.0",
          "model_name": "DescriptionStyleModel",
          "state": {
            "_model_module": "@jupyter-widgets/controls",
            "_model_module_version": "1.5.0",
            "_model_name": "DescriptionStyleModel",
            "_view_count": null,
            "_view_module": "@jupyter-widgets/base",
            "_view_module_version": "1.2.0",
            "_view_name": "StyleView",
            "description_width": ""
          }
        },
        "1e680d2e80c64974bfc7bd9c26933b0d": {
          "model_module": "@jupyter-widgets/base",
          "model_module_version": "1.2.0",
          "model_name": "LayoutModel",
          "state": {
            "_model_module": "@jupyter-widgets/base",
            "_model_module_version": "1.2.0",
            "_model_name": "LayoutModel",
            "_view_count": null,
            "_view_module": "@jupyter-widgets/base",
            "_view_module_version": "1.2.0",
            "_view_name": "LayoutView",
            "align_content": null,
            "align_items": null,
            "align_self": null,
            "border": null,
            "bottom": null,
            "display": null,
            "flex": null,
            "flex_flow": null,
            "grid_area": null,
            "grid_auto_columns": null,
            "grid_auto_flow": null,
            "grid_auto_rows": null,
            "grid_column": null,
            "grid_gap": null,
            "grid_row": null,
            "grid_template_areas": null,
            "grid_template_columns": null,
            "grid_template_rows": null,
            "height": null,
            "justify_content": null,
            "justify_items": null,
            "left": null,
            "margin": null,
            "max_height": null,
            "max_width": null,
            "min_height": null,
            "min_width": null,
            "object_fit": null,
            "object_position": null,
            "order": null,
            "overflow": null,
            "overflow_x": null,
            "overflow_y": null,
            "padding": null,
            "right": null,
            "top": null,
            "visibility": null,
            "width": null
          }
        },
        "1f5bd57c3e284ba6b3236e3a4eea7ee0": {
          "model_module": "@jupyter-widgets/base",
          "model_module_version": "1.2.0",
          "model_name": "LayoutModel",
          "state": {
            "_model_module": "@jupyter-widgets/base",
            "_model_module_version": "1.2.0",
            "_model_name": "LayoutModel",
            "_view_count": null,
            "_view_module": "@jupyter-widgets/base",
            "_view_module_version": "1.2.0",
            "_view_name": "LayoutView",
            "align_content": null,
            "align_items": null,
            "align_self": null,
            "border": null,
            "bottom": null,
            "display": null,
            "flex": null,
            "flex_flow": null,
            "grid_area": null,
            "grid_auto_columns": null,
            "grid_auto_flow": null,
            "grid_auto_rows": null,
            "grid_column": null,
            "grid_gap": null,
            "grid_row": null,
            "grid_template_areas": null,
            "grid_template_columns": null,
            "grid_template_rows": null,
            "height": null,
            "justify_content": null,
            "justify_items": null,
            "left": null,
            "margin": null,
            "max_height": null,
            "max_width": null,
            "min_height": null,
            "min_width": null,
            "object_fit": null,
            "object_position": null,
            "order": null,
            "overflow": null,
            "overflow_x": null,
            "overflow_y": null,
            "padding": null,
            "right": null,
            "top": null,
            "visibility": null,
            "width": null
          }
        },
        "200acd0629d345a693a11bb9be935fa7": {
          "model_module": "@jupyter-widgets/controls",
          "model_module_version": "1.5.0",
          "model_name": "HTMLModel",
          "state": {
            "_dom_classes": [],
            "_model_module": "@jupyter-widgets/controls",
            "_model_module_version": "1.5.0",
            "_model_name": "HTMLModel",
            "_view_count": null,
            "_view_module": "@jupyter-widgets/controls",
            "_view_module_version": "1.5.0",
            "_view_name": "HTMLView",
            "description": "",
            "description_tooltip": null,
            "layout": "IPY_MODEL_8200f95b41cd4b50aaaa94eb8ad85649",
            "placeholder": "​",
            "style": "IPY_MODEL_64cdb30e662448ba91af1fc6fda9c943",
            "value": "Downloading (…)55de9125/config.json: 100%"
          }
        },
        "20b453904fc84d7d88ffee5a62ebf06e": {
          "model_module": "@jupyter-widgets/base",
          "model_module_version": "1.2.0",
          "model_name": "LayoutModel",
          "state": {
            "_model_module": "@jupyter-widgets/base",
            "_model_module_version": "1.2.0",
            "_model_name": "LayoutModel",
            "_view_count": null,
            "_view_module": "@jupyter-widgets/base",
            "_view_module_version": "1.2.0",
            "_view_name": "LayoutView",
            "align_content": null,
            "align_items": null,
            "align_self": null,
            "border": null,
            "bottom": null,
            "display": null,
            "flex": null,
            "flex_flow": null,
            "grid_area": null,
            "grid_auto_columns": null,
            "grid_auto_flow": null,
            "grid_auto_rows": null,
            "grid_column": null,
            "grid_gap": null,
            "grid_row": null,
            "grid_template_areas": null,
            "grid_template_columns": null,
            "grid_template_rows": null,
            "height": null,
            "justify_content": null,
            "justify_items": null,
            "left": null,
            "margin": null,
            "max_height": null,
            "max_width": null,
            "min_height": null,
            "min_width": null,
            "object_fit": null,
            "object_position": null,
            "order": null,
            "overflow": null,
            "overflow_x": null,
            "overflow_y": null,
            "padding": null,
            "right": null,
            "top": null,
            "visibility": null,
            "width": null
          }
        },
        "21b882ad4df14313832bd497650b5b08": {
          "model_module": "@jupyter-widgets/controls",
          "model_module_version": "1.5.0",
          "model_name": "DescriptionStyleModel",
          "state": {
            "_model_module": "@jupyter-widgets/controls",
            "_model_module_version": "1.5.0",
            "_model_name": "DescriptionStyleModel",
            "_view_count": null,
            "_view_module": "@jupyter-widgets/base",
            "_view_module_version": "1.2.0",
            "_view_name": "StyleView",
            "description_width": ""
          }
        },
        "226b6c85114f4ba98e9d79db28fa27ac": {
          "model_module": "@jupyter-widgets/controls",
          "model_module_version": "1.5.0",
          "model_name": "DescriptionStyleModel",
          "state": {
            "_model_module": "@jupyter-widgets/controls",
            "_model_module_version": "1.5.0",
            "_model_name": "DescriptionStyleModel",
            "_view_count": null,
            "_view_module": "@jupyter-widgets/base",
            "_view_module_version": "1.2.0",
            "_view_name": "StyleView",
            "description_width": ""
          }
        },
        "230c393b3d094265b6f10898a9991ee7": {
          "model_module": "@jupyter-widgets/base",
          "model_module_version": "1.2.0",
          "model_name": "LayoutModel",
          "state": {
            "_model_module": "@jupyter-widgets/base",
            "_model_module_version": "1.2.0",
            "_model_name": "LayoutModel",
            "_view_count": null,
            "_view_module": "@jupyter-widgets/base",
            "_view_module_version": "1.2.0",
            "_view_name": "LayoutView",
            "align_content": null,
            "align_items": null,
            "align_self": null,
            "border": null,
            "bottom": null,
            "display": null,
            "flex": null,
            "flex_flow": null,
            "grid_area": null,
            "grid_auto_columns": null,
            "grid_auto_flow": null,
            "grid_auto_rows": null,
            "grid_column": null,
            "grid_gap": null,
            "grid_row": null,
            "grid_template_areas": null,
            "grid_template_columns": null,
            "grid_template_rows": null,
            "height": null,
            "justify_content": null,
            "justify_items": null,
            "left": null,
            "margin": null,
            "max_height": null,
            "max_width": null,
            "min_height": null,
            "min_width": null,
            "object_fit": null,
            "object_position": null,
            "order": null,
            "overflow": null,
            "overflow_x": null,
            "overflow_y": null,
            "padding": null,
            "right": null,
            "top": null,
            "visibility": null,
            "width": null
          }
        },
        "23e21394a9fa46fd8efd36f24544b184": {
          "model_module": "@jupyter-widgets/base",
          "model_module_version": "1.2.0",
          "model_name": "LayoutModel",
          "state": {
            "_model_module": "@jupyter-widgets/base",
            "_model_module_version": "1.2.0",
            "_model_name": "LayoutModel",
            "_view_count": null,
            "_view_module": "@jupyter-widgets/base",
            "_view_module_version": "1.2.0",
            "_view_name": "LayoutView",
            "align_content": null,
            "align_items": null,
            "align_self": null,
            "border": null,
            "bottom": null,
            "display": null,
            "flex": null,
            "flex_flow": null,
            "grid_area": null,
            "grid_auto_columns": null,
            "grid_auto_flow": null,
            "grid_auto_rows": null,
            "grid_column": null,
            "grid_gap": null,
            "grid_row": null,
            "grid_template_areas": null,
            "grid_template_columns": null,
            "grid_template_rows": null,
            "height": null,
            "justify_content": null,
            "justify_items": null,
            "left": null,
            "margin": null,
            "max_height": null,
            "max_width": null,
            "min_height": null,
            "min_width": null,
            "object_fit": null,
            "object_position": null,
            "order": null,
            "overflow": null,
            "overflow_x": null,
            "overflow_y": null,
            "padding": null,
            "right": null,
            "top": null,
            "visibility": null,
            "width": null
          }
        },
        "2508f267cc6a42deb1cb5a2defb66c70": {
          "model_module": "@jupyter-widgets/base",
          "model_module_version": "1.2.0",
          "model_name": "LayoutModel",
          "state": {
            "_model_module": "@jupyter-widgets/base",
            "_model_module_version": "1.2.0",
            "_model_name": "LayoutModel",
            "_view_count": null,
            "_view_module": "@jupyter-widgets/base",
            "_view_module_version": "1.2.0",
            "_view_name": "LayoutView",
            "align_content": null,
            "align_items": null,
            "align_self": null,
            "border": null,
            "bottom": null,
            "display": null,
            "flex": null,
            "flex_flow": null,
            "grid_area": null,
            "grid_auto_columns": null,
            "grid_auto_flow": null,
            "grid_auto_rows": null,
            "grid_column": null,
            "grid_gap": null,
            "grid_row": null,
            "grid_template_areas": null,
            "grid_template_columns": null,
            "grid_template_rows": null,
            "height": null,
            "justify_content": null,
            "justify_items": null,
            "left": null,
            "margin": null,
            "max_height": null,
            "max_width": null,
            "min_height": null,
            "min_width": null,
            "object_fit": null,
            "object_position": null,
            "order": null,
            "overflow": null,
            "overflow_x": null,
            "overflow_y": null,
            "padding": null,
            "right": null,
            "top": null,
            "visibility": null,
            "width": null
          }
        },
        "26d34706e4ac44929486523db07d4bee": {
          "model_module": "@jupyter-widgets/base",
          "model_module_version": "1.2.0",
          "model_name": "LayoutModel",
          "state": {
            "_model_module": "@jupyter-widgets/base",
            "_model_module_version": "1.2.0",
            "_model_name": "LayoutModel",
            "_view_count": null,
            "_view_module": "@jupyter-widgets/base",
            "_view_module_version": "1.2.0",
            "_view_name": "LayoutView",
            "align_content": null,
            "align_items": null,
            "align_self": null,
            "border": null,
            "bottom": null,
            "display": null,
            "flex": null,
            "flex_flow": null,
            "grid_area": null,
            "grid_auto_columns": null,
            "grid_auto_flow": null,
            "grid_auto_rows": null,
            "grid_column": null,
            "grid_gap": null,
            "grid_row": null,
            "grid_template_areas": null,
            "grid_template_columns": null,
            "grid_template_rows": null,
            "height": null,
            "justify_content": null,
            "justify_items": null,
            "left": null,
            "margin": null,
            "max_height": null,
            "max_width": null,
            "min_height": null,
            "min_width": null,
            "object_fit": null,
            "object_position": null,
            "order": null,
            "overflow": null,
            "overflow_x": null,
            "overflow_y": null,
            "padding": null,
            "right": null,
            "top": null,
            "visibility": null,
            "width": null
          }
        },
        "277a922651c642d592bafcb22a1b4815": {
          "model_module": "@jupyter-widgets/controls",
          "model_module_version": "1.5.0",
          "model_name": "HTMLModel",
          "state": {
            "_dom_classes": [],
            "_model_module": "@jupyter-widgets/controls",
            "_model_module_version": "1.5.0",
            "_model_name": "HTMLModel",
            "_view_count": null,
            "_view_module": "@jupyter-widgets/controls",
            "_view_module_version": "1.5.0",
            "_view_name": "HTMLView",
            "description": "",
            "description_tooltip": null,
            "layout": "IPY_MODEL_eb59dba69325480382bb4a3840d40319",
            "placeholder": "​",
            "style": "IPY_MODEL_f9ac29a470c743359684b7123dbf4a90",
            "value": "Extracting data files: 100%"
          }
        },
        "27e529afe755458ab600233c5354b6dc": {
          "model_module": "@jupyter-widgets/controls",
          "model_module_version": "1.5.0",
          "model_name": "ProgressStyleModel",
          "state": {
            "_model_module": "@jupyter-widgets/controls",
            "_model_module_version": "1.5.0",
            "_model_name": "ProgressStyleModel",
            "_view_count": null,
            "_view_module": "@jupyter-widgets/base",
            "_view_module_version": "1.2.0",
            "_view_name": "StyleView",
            "bar_color": null,
            "description_width": ""
          }
        },
        "28d7805046b24abd8be76ae7fbd7ebd6": {
          "model_module": "@jupyter-widgets/base",
          "model_module_version": "1.2.0",
          "model_name": "LayoutModel",
          "state": {
            "_model_module": "@jupyter-widgets/base",
            "_model_module_version": "1.2.0",
            "_model_name": "LayoutModel",
            "_view_count": null,
            "_view_module": "@jupyter-widgets/base",
            "_view_module_version": "1.2.0",
            "_view_name": "LayoutView",
            "align_content": null,
            "align_items": null,
            "align_self": null,
            "border": null,
            "bottom": null,
            "display": null,
            "flex": null,
            "flex_flow": null,
            "grid_area": null,
            "grid_auto_columns": null,
            "grid_auto_flow": null,
            "grid_auto_rows": null,
            "grid_column": null,
            "grid_gap": null,
            "grid_row": null,
            "grid_template_areas": null,
            "grid_template_columns": null,
            "grid_template_rows": null,
            "height": null,
            "justify_content": null,
            "justify_items": null,
            "left": null,
            "margin": null,
            "max_height": null,
            "max_width": null,
            "min_height": null,
            "min_width": null,
            "object_fit": null,
            "object_position": null,
            "order": null,
            "overflow": null,
            "overflow_x": null,
            "overflow_y": null,
            "padding": null,
            "right": null,
            "top": null,
            "visibility": null,
            "width": null
          }
        },
        "28da063d102d4bd9a501453460dbd3be": {
          "model_module": "@jupyter-widgets/controls",
          "model_module_version": "1.5.0",
          "model_name": "DescriptionStyleModel",
          "state": {
            "_model_module": "@jupyter-widgets/controls",
            "_model_module_version": "1.5.0",
            "_model_name": "DescriptionStyleModel",
            "_view_count": null,
            "_view_module": "@jupyter-widgets/base",
            "_view_module_version": "1.2.0",
            "_view_name": "StyleView",
            "description_width": ""
          }
        },
        "2976d9fe1032492cb97d2ee844faa1d5": {
          "model_module": "@jupyter-widgets/controls",
          "model_module_version": "1.5.0",
          "model_name": "HBoxModel",
          "state": {
            "_dom_classes": [],
            "_model_module": "@jupyter-widgets/controls",
            "_model_module_version": "1.5.0",
            "_model_name": "HBoxModel",
            "_view_count": null,
            "_view_module": "@jupyter-widgets/controls",
            "_view_module_version": "1.5.0",
            "_view_name": "HBoxView",
            "box_style": "",
            "children": [
              "IPY_MODEL_d893eac5d58049f7a72802061d1b06b0",
              "IPY_MODEL_8ef9661c9a6f40fc92cc67ed32f3ff0d",
              "IPY_MODEL_fa1d816e07374a1cb1c98359a3721185"
            ],
            "layout": "IPY_MODEL_9e54ec9ba32549599d15d6f4f25f00db"
          }
        },
        "29c9cbcb191345d782faad46974de011": {
          "model_module": "@jupyter-widgets/base",
          "model_module_version": "1.2.0",
          "model_name": "LayoutModel",
          "state": {
            "_model_module": "@jupyter-widgets/base",
            "_model_module_version": "1.2.0",
            "_model_name": "LayoutModel",
            "_view_count": null,
            "_view_module": "@jupyter-widgets/base",
            "_view_module_version": "1.2.0",
            "_view_name": "LayoutView",
            "align_content": null,
            "align_items": null,
            "align_self": null,
            "border": null,
            "bottom": null,
            "display": null,
            "flex": null,
            "flex_flow": null,
            "grid_area": null,
            "grid_auto_columns": null,
            "grid_auto_flow": null,
            "grid_auto_rows": null,
            "grid_column": null,
            "grid_gap": null,
            "grid_row": null,
            "grid_template_areas": null,
            "grid_template_columns": null,
            "grid_template_rows": null,
            "height": null,
            "justify_content": null,
            "justify_items": null,
            "left": null,
            "margin": null,
            "max_height": null,
            "max_width": null,
            "min_height": null,
            "min_width": null,
            "object_fit": null,
            "object_position": null,
            "order": null,
            "overflow": null,
            "overflow_x": null,
            "overflow_y": null,
            "padding": null,
            "right": null,
            "top": null,
            "visibility": null,
            "width": null
          }
        },
        "29d4123179a2468d9c0e1d6e8cb8aa07": {
          "model_module": "@jupyter-widgets/controls",
          "model_module_version": "1.5.0",
          "model_name": "ProgressStyleModel",
          "state": {
            "_model_module": "@jupyter-widgets/controls",
            "_model_module_version": "1.5.0",
            "_model_name": "ProgressStyleModel",
            "_view_count": null,
            "_view_module": "@jupyter-widgets/base",
            "_view_module_version": "1.2.0",
            "_view_name": "StyleView",
            "bar_color": null,
            "description_width": ""
          }
        },
        "2a8617f7b37a4fe0b7107097cea66843": {
          "model_module": "@jupyter-widgets/controls",
          "model_module_version": "1.5.0",
          "model_name": "HBoxModel",
          "state": {
            "_dom_classes": [],
            "_model_module": "@jupyter-widgets/controls",
            "_model_module_version": "1.5.0",
            "_model_name": "HBoxModel",
            "_view_count": null,
            "_view_module": "@jupyter-widgets/controls",
            "_view_module_version": "1.5.0",
            "_view_name": "HBoxView",
            "box_style": "",
            "children": [
              "IPY_MODEL_821f5a1123d1429c83a81d002cbbbfe0",
              "IPY_MODEL_4860aafbd8954065ba00da70e136bde8",
              "IPY_MODEL_4b2ae52e8af9419aa9b3b82049cfcc84"
            ],
            "layout": "IPY_MODEL_9feb66e8a84b44cb87df9afbfe5336f0"
          }
        },
        "2baa468fc24f4c809d5add4b111dd07a": {
          "model_module": "@jupyter-widgets/base",
          "model_module_version": "1.2.0",
          "model_name": "LayoutModel",
          "state": {
            "_model_module": "@jupyter-widgets/base",
            "_model_module_version": "1.2.0",
            "_model_name": "LayoutModel",
            "_view_count": null,
            "_view_module": "@jupyter-widgets/base",
            "_view_module_version": "1.2.0",
            "_view_name": "LayoutView",
            "align_content": null,
            "align_items": null,
            "align_self": null,
            "border": null,
            "bottom": null,
            "display": null,
            "flex": null,
            "flex_flow": null,
            "grid_area": null,
            "grid_auto_columns": null,
            "grid_auto_flow": null,
            "grid_auto_rows": null,
            "grid_column": null,
            "grid_gap": null,
            "grid_row": null,
            "grid_template_areas": null,
            "grid_template_columns": null,
            "grid_template_rows": null,
            "height": null,
            "justify_content": null,
            "justify_items": null,
            "left": null,
            "margin": null,
            "max_height": null,
            "max_width": null,
            "min_height": null,
            "min_width": null,
            "object_fit": null,
            "object_position": null,
            "order": null,
            "overflow": null,
            "overflow_x": null,
            "overflow_y": null,
            "padding": null,
            "right": null,
            "top": null,
            "visibility": null,
            "width": null
          }
        },
        "2bc3582502174256b6dd992021301369": {
          "model_module": "@jupyter-widgets/controls",
          "model_module_version": "1.5.0",
          "model_name": "HTMLModel",
          "state": {
            "_dom_classes": [],
            "_model_module": "@jupyter-widgets/controls",
            "_model_module_version": "1.5.0",
            "_model_name": "HTMLModel",
            "_view_count": null,
            "_view_module": "@jupyter-widgets/controls",
            "_view_module_version": "1.5.0",
            "_view_name": "HTMLView",
            "description": "",
            "description_tooltip": null,
            "layout": "IPY_MODEL_20b453904fc84d7d88ffee5a62ebf06e",
            "placeholder": "​",
            "style": "IPY_MODEL_ae32a05a29e845feaac5188efdba43cb",
            "value": " 127k/? [00:00&lt;00:00, 2.66MB/s]"
          }
        },
        "2dbe4b9a38894f6abd626b38feff7140": {
          "model_module": "@jupyter-widgets/base",
          "model_module_version": "1.2.0",
          "model_name": "LayoutModel",
          "state": {
            "_model_module": "@jupyter-widgets/base",
            "_model_module_version": "1.2.0",
            "_model_name": "LayoutModel",
            "_view_count": null,
            "_view_module": "@jupyter-widgets/base",
            "_view_module_version": "1.2.0",
            "_view_name": "LayoutView",
            "align_content": null,
            "align_items": null,
            "align_self": null,
            "border": null,
            "bottom": null,
            "display": null,
            "flex": null,
            "flex_flow": null,
            "grid_area": null,
            "grid_auto_columns": null,
            "grid_auto_flow": null,
            "grid_auto_rows": null,
            "grid_column": null,
            "grid_gap": null,
            "grid_row": null,
            "grid_template_areas": null,
            "grid_template_columns": null,
            "grid_template_rows": null,
            "height": null,
            "justify_content": null,
            "justify_items": null,
            "left": null,
            "margin": null,
            "max_height": null,
            "max_width": null,
            "min_height": null,
            "min_width": null,
            "object_fit": null,
            "object_position": null,
            "order": null,
            "overflow": null,
            "overflow_x": null,
            "overflow_y": null,
            "padding": null,
            "right": null,
            "top": null,
            "visibility": null,
            "width": null
          }
        },
        "2dcacb97e50f427b9dbb52a11e9abb38": {
          "model_module": "@jupyter-widgets/controls",
          "model_module_version": "1.5.0",
          "model_name": "HTMLModel",
          "state": {
            "_dom_classes": [],
            "_model_module": "@jupyter-widgets/controls",
            "_model_module_version": "1.5.0",
            "_model_name": "HTMLModel",
            "_view_count": null,
            "_view_module": "@jupyter-widgets/controls",
            "_view_module_version": "1.5.0",
            "_view_name": "HTMLView",
            "description": "",
            "description_tooltip": null,
            "layout": "IPY_MODEL_7fb7011f4aae4e8c86a51d12afc248cc",
            "placeholder": "​",
            "style": "IPY_MODEL_8b3b7b3350c04b45ae27bbd7376b340c",
            "value": " 466k/466k [00:00&lt;00:00, 2.49MB/s]"
          }
        },
        "2e18a2d26eaf4c95b03327fab756bd10": {
          "model_module": "@jupyter-widgets/base",
          "model_module_version": "1.2.0",
          "model_name": "LayoutModel",
          "state": {
            "_model_module": "@jupyter-widgets/base",
            "_model_module_version": "1.2.0",
            "_model_name": "LayoutModel",
            "_view_count": null,
            "_view_module": "@jupyter-widgets/base",
            "_view_module_version": "1.2.0",
            "_view_name": "LayoutView",
            "align_content": null,
            "align_items": null,
            "align_self": null,
            "border": null,
            "bottom": null,
            "display": null,
            "flex": null,
            "flex_flow": null,
            "grid_area": null,
            "grid_auto_columns": null,
            "grid_auto_flow": null,
            "grid_auto_rows": null,
            "grid_column": null,
            "grid_gap": null,
            "grid_row": null,
            "grid_template_areas": null,
            "grid_template_columns": null,
            "grid_template_rows": null,
            "height": null,
            "justify_content": null,
            "justify_items": null,
            "left": null,
            "margin": null,
            "max_height": null,
            "max_width": null,
            "min_height": null,
            "min_width": null,
            "object_fit": null,
            "object_position": null,
            "order": null,
            "overflow": null,
            "overflow_x": null,
            "overflow_y": null,
            "padding": null,
            "right": null,
            "top": null,
            "visibility": null,
            "width": null
          }
        },
        "2f3bec6bcf9a46118617d6d224ba8f31": {
          "model_module": "@jupyter-widgets/controls",
          "model_module_version": "1.5.0",
          "model_name": "FloatProgressModel",
          "state": {
            "_dom_classes": [],
            "_model_module": "@jupyter-widgets/controls",
            "_model_module_version": "1.5.0",
            "_model_name": "FloatProgressModel",
            "_view_count": null,
            "_view_module": "@jupyter-widgets/controls",
            "_view_module_version": "1.5.0",
            "_view_name": "ProgressView",
            "bar_style": "",
            "description": "",
            "description_tooltip": null,
            "layout": "IPY_MODEL_60ac49a51dc6468f874ee85f0202db54",
            "max": 1324,
            "min": 0,
            "orientation": "horizontal",
            "style": "IPY_MODEL_429c463e35304e088a5a95ac714883e3",
            "value": 1324
          }
        },
        "2f67d4518043480d8372c457c1eaf8ee": {
          "model_module": "@jupyter-widgets/controls",
          "model_module_version": "1.5.0",
          "model_name": "HTMLModel",
          "state": {
            "_dom_classes": [],
            "_model_module": "@jupyter-widgets/controls",
            "_model_module_version": "1.5.0",
            "_model_name": "HTMLModel",
            "_view_count": null,
            "_view_module": "@jupyter-widgets/controls",
            "_view_module_version": "1.5.0",
            "_view_name": "HTMLView",
            "description": "",
            "description_tooltip": null,
            "layout": "IPY_MODEL_7fcafd8553754b6cbad0c2a8b4fd1d02",
            "placeholder": "​",
            "style": "IPY_MODEL_c632afb97e31434ebdfdf8e7a755d3ec",
            "value": " 39.3k/39.3k [00:00&lt;00:00, 622kB/s]"
          }
        },
        "31d673555d334cab826249acbcf5c45f": {
          "model_module": "@jupyter-widgets/base",
          "model_module_version": "1.2.0",
          "model_name": "LayoutModel",
          "state": {
            "_model_module": "@jupyter-widgets/base",
            "_model_module_version": "1.2.0",
            "_model_name": "LayoutModel",
            "_view_count": null,
            "_view_module": "@jupyter-widgets/base",
            "_view_module_version": "1.2.0",
            "_view_name": "LayoutView",
            "align_content": null,
            "align_items": null,
            "align_self": null,
            "border": null,
            "bottom": null,
            "display": null,
            "flex": null,
            "flex_flow": null,
            "grid_area": null,
            "grid_auto_columns": null,
            "grid_auto_flow": null,
            "grid_auto_rows": null,
            "grid_column": null,
            "grid_gap": null,
            "grid_row": null,
            "grid_template_areas": null,
            "grid_template_columns": null,
            "grid_template_rows": null,
            "height": null,
            "justify_content": null,
            "justify_items": null,
            "left": null,
            "margin": null,
            "max_height": null,
            "max_width": null,
            "min_height": null,
            "min_width": null,
            "object_fit": null,
            "object_position": null,
            "order": null,
            "overflow": null,
            "overflow_x": null,
            "overflow_y": null,
            "padding": null,
            "right": null,
            "top": null,
            "visibility": null,
            "width": null
          }
        },
        "31dc56ea8d114dceb2a6538143d5a61f": {
          "model_module": "@jupyter-widgets/controls",
          "model_module_version": "1.5.0",
          "model_name": "FloatProgressModel",
          "state": {
            "_dom_classes": [],
            "_model_module": "@jupyter-widgets/controls",
            "_model_module_version": "1.5.0",
            "_model_name": "FloatProgressModel",
            "_view_count": null,
            "_view_module": "@jupyter-widgets/controls",
            "_view_module_version": "1.5.0",
            "_view_name": "ProgressView",
            "bar_style": "success",
            "description": "",
            "description_tooltip": null,
            "layout": "IPY_MODEL_ccece0f6b8d543b9b33ca0b4f0e048b0",
            "max": 21887,
            "min": 0,
            "orientation": "horizontal",
            "style": "IPY_MODEL_ac9bd385ce9544fa80359327c1f53cf6",
            "value": 21887
          }
        },
        "331daf1e33c546d68eb48e6cfc6c78d0": {
          "model_module": "@jupyter-widgets/controls",
          "model_module_version": "1.5.0",
          "model_name": "HTMLModel",
          "state": {
            "_dom_classes": [],
            "_model_module": "@jupyter-widgets/controls",
            "_model_module_version": "1.5.0",
            "_model_name": "HTMLModel",
            "_view_count": null,
            "_view_module": "@jupyter-widgets/controls",
            "_view_module_version": "1.5.0",
            "_view_name": "HTMLView",
            "description": "",
            "description_tooltip": null,
            "layout": "IPY_MODEL_f185b2280ccf47ff8e9a5445ae225b7f",
            "placeholder": "​",
            "style": "IPY_MODEL_226b6c85114f4ba98e9d79db28fa27ac",
            "value": " 6/6 [00:00&lt;00:00, 120.57it/s]"
          }
        },
        "333273c3c3c445b7a734e8192c99e363": {
          "model_module": "@jupyter-widgets/base",
          "model_module_version": "1.2.0",
          "model_name": "LayoutModel",
          "state": {
            "_model_module": "@jupyter-widgets/base",
            "_model_module_version": "1.2.0",
            "_model_name": "LayoutModel",
            "_view_count": null,
            "_view_module": "@jupyter-widgets/base",
            "_view_module_version": "1.2.0",
            "_view_name": "LayoutView",
            "align_content": null,
            "align_items": null,
            "align_self": null,
            "border": null,
            "bottom": null,
            "display": null,
            "flex": null,
            "flex_flow": null,
            "grid_area": null,
            "grid_auto_columns": null,
            "grid_auto_flow": null,
            "grid_auto_rows": null,
            "grid_column": null,
            "grid_gap": null,
            "grid_row": null,
            "grid_template_areas": null,
            "grid_template_columns": null,
            "grid_template_rows": null,
            "height": null,
            "justify_content": null,
            "justify_items": null,
            "left": null,
            "margin": null,
            "max_height": null,
            "max_width": null,
            "min_height": null,
            "min_width": null,
            "object_fit": null,
            "object_position": null,
            "order": null,
            "overflow": null,
            "overflow_x": null,
            "overflow_y": null,
            "padding": null,
            "right": null,
            "top": null,
            "visibility": null,
            "width": null
          }
        },
        "364b231d20c84c5188c7145e68931e36": {
          "model_module": "@jupyter-widgets/controls",
          "model_module_version": "1.5.0",
          "model_name": "HBoxModel",
          "state": {
            "_dom_classes": [],
            "_model_module": "@jupyter-widgets/controls",
            "_model_module_version": "1.5.0",
            "_model_name": "HBoxModel",
            "_view_count": null,
            "_view_module": "@jupyter-widgets/controls",
            "_view_module_version": "1.5.0",
            "_view_name": "HBoxView",
            "box_style": "",
            "children": [
              "IPY_MODEL_277a922651c642d592bafcb22a1b4815",
              "IPY_MODEL_6304a7ffb9544defa1a2634a4a84b628",
              "IPY_MODEL_331daf1e33c546d68eb48e6cfc6c78d0"
            ],
            "layout": "IPY_MODEL_1305995078d04d7ab821a668e412f785"
          }
        },
        "364df7cb8f5a481b88141dc68d4c57d9": {
          "model_module": "@jupyter-widgets/controls",
          "model_module_version": "1.5.0",
          "model_name": "HTMLModel",
          "state": {
            "_dom_classes": [],
            "_model_module": "@jupyter-widgets/controls",
            "_model_module_version": "1.5.0",
            "_model_name": "HTMLModel",
            "_view_count": null,
            "_view_module": "@jupyter-widgets/controls",
            "_view_module_version": "1.5.0",
            "_view_name": "HTMLView",
            "description": "",
            "description_tooltip": null,
            "layout": "IPY_MODEL_1e680d2e80c64974bfc7bd9c26933b0d",
            "placeholder": "​",
            "style": "IPY_MODEL_a4ed448c76614c44b29b6d76b4201e02",
            "value": "Downloading (…)cial_tokens_map.json: 100%"
          }
        },
        "369474afb05f47bab75d78fb66f43ebb": {
          "model_module": "@jupyter-widgets/controls",
          "model_module_version": "1.5.0",
          "model_name": "DescriptionStyleModel",
          "state": {
            "_model_module": "@jupyter-widgets/controls",
            "_model_module_version": "1.5.0",
            "_model_name": "DescriptionStyleModel",
            "_view_count": null,
            "_view_module": "@jupyter-widgets/base",
            "_view_module_version": "1.2.0",
            "_view_name": "StyleView",
            "description_width": ""
          }
        },
        "36d23392deae4d668538dc05edd2fa51": {
          "model_module": "@jupyter-widgets/base",
          "model_module_version": "1.2.0",
          "model_name": "LayoutModel",
          "state": {
            "_model_module": "@jupyter-widgets/base",
            "_model_module_version": "1.2.0",
            "_model_name": "LayoutModel",
            "_view_count": null,
            "_view_module": "@jupyter-widgets/base",
            "_view_module_version": "1.2.0",
            "_view_name": "LayoutView",
            "align_content": null,
            "align_items": null,
            "align_self": null,
            "border": null,
            "bottom": null,
            "display": null,
            "flex": null,
            "flex_flow": null,
            "grid_area": null,
            "grid_auto_columns": null,
            "grid_auto_flow": null,
            "grid_auto_rows": null,
            "grid_column": null,
            "grid_gap": null,
            "grid_row": null,
            "grid_template_areas": null,
            "grid_template_columns": null,
            "grid_template_rows": null,
            "height": null,
            "justify_content": null,
            "justify_items": null,
            "left": null,
            "margin": null,
            "max_height": null,
            "max_width": null,
            "min_height": null,
            "min_width": null,
            "object_fit": null,
            "object_position": null,
            "order": null,
            "overflow": null,
            "overflow_x": null,
            "overflow_y": null,
            "padding": null,
            "right": null,
            "top": null,
            "visibility": null,
            "width": null
          }
        },
        "379510942a594d75bedfd9357d3ccbcb": {
          "model_module": "@jupyter-widgets/controls",
          "model_module_version": "1.5.0",
          "model_name": "FloatProgressModel",
          "state": {
            "_dom_classes": [],
            "_model_module": "@jupyter-widgets/controls",
            "_model_module_version": "1.5.0",
            "_model_name": "FloatProgressModel",
            "_view_count": null,
            "_view_module": "@jupyter-widgets/controls",
            "_view_module_version": "1.5.0",
            "_view_name": "ProgressView",
            "bar_style": "success",
            "description": "",
            "description_tooltip": null,
            "layout": "IPY_MODEL_c0f1051c2b074faa8512639b14890707",
            "max": 116,
            "min": 0,
            "orientation": "horizontal",
            "style": "IPY_MODEL_dbad05f268bf468d9a03ad5cf47dbd72",
            "value": 116
          }
        },
        "37b62f343ccd49269ded5ce056738034": {
          "model_module": "@jupyter-widgets/base",
          "model_module_version": "1.2.0",
          "model_name": "LayoutModel",
          "state": {
            "_model_module": "@jupyter-widgets/base",
            "_model_module_version": "1.2.0",
            "_model_name": "LayoutModel",
            "_view_count": null,
            "_view_module": "@jupyter-widgets/base",
            "_view_module_version": "1.2.0",
            "_view_name": "LayoutView",
            "align_content": null,
            "align_items": null,
            "align_self": null,
            "border": null,
            "bottom": null,
            "display": null,
            "flex": null,
            "flex_flow": null,
            "grid_area": null,
            "grid_auto_columns": null,
            "grid_auto_flow": null,
            "grid_auto_rows": null,
            "grid_column": null,
            "grid_gap": null,
            "grid_row": null,
            "grid_template_areas": null,
            "grid_template_columns": null,
            "grid_template_rows": null,
            "height": null,
            "justify_content": null,
            "justify_items": null,
            "left": null,
            "margin": null,
            "max_height": null,
            "max_width": null,
            "min_height": null,
            "min_width": null,
            "object_fit": null,
            "object_position": null,
            "order": null,
            "overflow": null,
            "overflow_x": null,
            "overflow_y": null,
            "padding": null,
            "right": null,
            "top": null,
            "visibility": null,
            "width": null
          }
        },
        "384bc459f344408fa9565019f4cd76e7": {
          "model_module": "@jupyter-widgets/controls",
          "model_module_version": "1.5.0",
          "model_name": "DescriptionStyleModel",
          "state": {
            "_model_module": "@jupyter-widgets/controls",
            "_model_module_version": "1.5.0",
            "_model_name": "DescriptionStyleModel",
            "_view_count": null,
            "_view_module": "@jupyter-widgets/base",
            "_view_module_version": "1.2.0",
            "_view_name": "StyleView",
            "description_width": ""
          }
        },
        "39468dfcca74491299a39689081886b5": {
          "model_module": "@jupyter-widgets/controls",
          "model_module_version": "1.5.0",
          "model_name": "FloatProgressModel",
          "state": {
            "_dom_classes": [],
            "_model_module": "@jupyter-widgets/controls",
            "_model_module_version": "1.5.0",
            "_model_name": "FloatProgressModel",
            "_view_count": null,
            "_view_module": "@jupyter-widgets/controls",
            "_view_module_version": "1.5.0",
            "_view_name": "ProgressView",
            "bar_style": "success",
            "description": "",
            "description_tooltip": null,
            "layout": "IPY_MODEL_e774eb8dc5314feb971c59657c41ffcd",
            "max": 10610,
            "min": 0,
            "orientation": "horizontal",
            "style": "IPY_MODEL_60ce270ea7b1433b8222870044f2479f",
            "value": 10610
          }
        },
        "3a41349944e4478bb23ebbc7ab7e2623": {
          "model_module": "@jupyter-widgets/controls",
          "model_module_version": "1.5.0",
          "model_name": "HTMLModel",
          "state": {
            "_dom_classes": [],
            "_model_module": "@jupyter-widgets/controls",
            "_model_module_version": "1.5.0",
            "_model_name": "HTMLModel",
            "_view_count": null,
            "_view_module": "@jupyter-widgets/controls",
            "_view_module_version": "1.5.0",
            "_view_name": "HTMLView",
            "description": "",
            "description_tooltip": null,
            "layout": "IPY_MODEL_3f1d6434ecf840a1aac672eabb71083f",
            "placeholder": "​",
            "style": "IPY_MODEL_b5201f31fb5c47aeb2b810d1d843e7ef",
            "value": "Downloading (…)9125/train_script.py: 100%"
          }
        },
        "3a66e797a65d45b4a2156d3323f5f128": {
          "model_module": "@jupyter-widgets/controls",
          "model_module_version": "1.5.0",
          "model_name": "DescriptionStyleModel",
          "state": {
            "_model_module": "@jupyter-widgets/controls",
            "_model_module_version": "1.5.0",
            "_model_name": "DescriptionStyleModel",
            "_view_count": null,
            "_view_module": "@jupyter-widgets/base",
            "_view_module_version": "1.2.0",
            "_view_name": "StyleView",
            "description_width": ""
          }
        },
        "3abd576f05024a35852e182d237cc382": {
          "model_module": "@jupyter-widgets/controls",
          "model_module_version": "1.5.0",
          "model_name": "HTMLModel",
          "state": {
            "_dom_classes": [],
            "_model_module": "@jupyter-widgets/controls",
            "_model_module_version": "1.5.0",
            "_model_name": "HTMLModel",
            "_view_count": null,
            "_view_module": "@jupyter-widgets/controls",
            "_view_module_version": "1.5.0",
            "_view_name": "HTMLView",
            "description": "",
            "description_tooltip": null,
            "layout": "IPY_MODEL_d6e484a0aafe49f7bcb32699ee748875",
            "placeholder": "​",
            "style": "IPY_MODEL_9f73151669a045f88711e3894d406fa4",
            "value": "Downloading builder script: 100%"
          }
        },
        "3c786fce98cc4e878e92ffad3d434f43": {
          "model_module": "@jupyter-widgets/base",
          "model_module_version": "1.2.0",
          "model_name": "LayoutModel",
          "state": {
            "_model_module": "@jupyter-widgets/base",
            "_model_module_version": "1.2.0",
            "_model_name": "LayoutModel",
            "_view_count": null,
            "_view_module": "@jupyter-widgets/base",
            "_view_module_version": "1.2.0",
            "_view_name": "LayoutView",
            "align_content": null,
            "align_items": null,
            "align_self": null,
            "border": null,
            "bottom": null,
            "display": null,
            "flex": null,
            "flex_flow": null,
            "grid_area": null,
            "grid_auto_columns": null,
            "grid_auto_flow": null,
            "grid_auto_rows": null,
            "grid_column": null,
            "grid_gap": null,
            "grid_row": null,
            "grid_template_areas": null,
            "grid_template_columns": null,
            "grid_template_rows": null,
            "height": null,
            "justify_content": null,
            "justify_items": null,
            "left": null,
            "margin": null,
            "max_height": null,
            "max_width": null,
            "min_height": null,
            "min_width": null,
            "object_fit": null,
            "object_position": null,
            "order": null,
            "overflow": null,
            "overflow_x": null,
            "overflow_y": null,
            "padding": null,
            "right": null,
            "top": null,
            "visibility": null,
            "width": null
          }
        },
        "3cb3fe9331a449fc921dc724fb5a9836": {
          "model_module": "@jupyter-widgets/controls",
          "model_module_version": "1.5.0",
          "model_name": "HTMLModel",
          "state": {
            "_dom_classes": [],
            "_model_module": "@jupyter-widgets/controls",
            "_model_module_version": "1.5.0",
            "_model_name": "HTMLModel",
            "_view_count": null,
            "_view_module": "@jupyter-widgets/controls",
            "_view_module_version": "1.5.0",
            "_view_name": "HTMLView",
            "description": "",
            "description_tooltip": null,
            "layout": "IPY_MODEL_5799f93ce5df4312871370aa4a362b05",
            "placeholder": "​",
            "style": "IPY_MODEL_00877a2bc4424046a1a2c97cd52db994",
            "value": " 1324/1324 [00:00&lt;00:00, 13237.14 examples/s]"
          }
        },
        "3cd03e1f64454816a07946c65fd0370d": {
          "model_module": "@jupyter-widgets/controls",
          "model_module_version": "1.5.0",
          "model_name": "HBoxModel",
          "state": {
            "_dom_classes": [],
            "_model_module": "@jupyter-widgets/controls",
            "_model_module_version": "1.5.0",
            "_model_name": "HBoxModel",
            "_view_count": null,
            "_view_module": "@jupyter-widgets/controls",
            "_view_module_version": "1.5.0",
            "_view_name": "HBoxView",
            "box_style": "",
            "children": [
              "IPY_MODEL_b8b70b66272e47469d9801ff1c247bdc",
              "IPY_MODEL_39468dfcca74491299a39689081886b5",
              "IPY_MODEL_8062ecc741074e0e807b1ed7df3aff7e"
            ],
            "layout": "IPY_MODEL_6622594c77124b7784f6507642ad47a8"
          }
        },
        "3cf149aaf2e5472fa2fb18124f6b4391": {
          "model_module": "@jupyter-widgets/base",
          "model_module_version": "1.2.0",
          "model_name": "LayoutModel",
          "state": {
            "_model_module": "@jupyter-widgets/base",
            "_model_module_version": "1.2.0",
            "_model_name": "LayoutModel",
            "_view_count": null,
            "_view_module": "@jupyter-widgets/base",
            "_view_module_version": "1.2.0",
            "_view_name": "LayoutView",
            "align_content": null,
            "align_items": null,
            "align_self": null,
            "border": null,
            "bottom": null,
            "display": null,
            "flex": null,
            "flex_flow": null,
            "grid_area": null,
            "grid_auto_columns": null,
            "grid_auto_flow": null,
            "grid_auto_rows": null,
            "grid_column": null,
            "grid_gap": null,
            "grid_row": null,
            "grid_template_areas": null,
            "grid_template_columns": null,
            "grid_template_rows": null,
            "height": null,
            "justify_content": null,
            "justify_items": null,
            "left": null,
            "margin": null,
            "max_height": null,
            "max_width": null,
            "min_height": null,
            "min_width": null,
            "object_fit": null,
            "object_position": null,
            "order": null,
            "overflow": null,
            "overflow_x": null,
            "overflow_y": null,
            "padding": null,
            "right": null,
            "top": null,
            "visibility": null,
            "width": null
          }
        },
        "3cf3561f7e62489d893f5ac85aa9d925": {
          "model_module": "@jupyter-widgets/controls",
          "model_module_version": "1.5.0",
          "model_name": "DescriptionStyleModel",
          "state": {
            "_model_module": "@jupyter-widgets/controls",
            "_model_module_version": "1.5.0",
            "_model_name": "DescriptionStyleModel",
            "_view_count": null,
            "_view_module": "@jupyter-widgets/base",
            "_view_module_version": "1.2.0",
            "_view_name": "StyleView",
            "description_width": ""
          }
        },
        "3e834a31743d40e7b059fc0df8b38558": {
          "model_module": "@jupyter-widgets/base",
          "model_module_version": "1.2.0",
          "model_name": "LayoutModel",
          "state": {
            "_model_module": "@jupyter-widgets/base",
            "_model_module_version": "1.2.0",
            "_model_name": "LayoutModel",
            "_view_count": null,
            "_view_module": "@jupyter-widgets/base",
            "_view_module_version": "1.2.0",
            "_view_name": "LayoutView",
            "align_content": null,
            "align_items": null,
            "align_self": null,
            "border": null,
            "bottom": null,
            "display": null,
            "flex": null,
            "flex_flow": null,
            "grid_area": null,
            "grid_auto_columns": null,
            "grid_auto_flow": null,
            "grid_auto_rows": null,
            "grid_column": null,
            "grid_gap": null,
            "grid_row": null,
            "grid_template_areas": null,
            "grid_template_columns": null,
            "grid_template_rows": null,
            "height": null,
            "justify_content": null,
            "justify_items": null,
            "left": null,
            "margin": null,
            "max_height": null,
            "max_width": null,
            "min_height": null,
            "min_width": null,
            "object_fit": null,
            "object_position": null,
            "order": null,
            "overflow": null,
            "overflow_x": null,
            "overflow_y": null,
            "padding": null,
            "right": null,
            "top": null,
            "visibility": null,
            "width": null
          }
        },
        "3f1d6434ecf840a1aac672eabb71083f": {
          "model_module": "@jupyter-widgets/base",
          "model_module_version": "1.2.0",
          "model_name": "LayoutModel",
          "state": {
            "_model_module": "@jupyter-widgets/base",
            "_model_module_version": "1.2.0",
            "_model_name": "LayoutModel",
            "_view_count": null,
            "_view_module": "@jupyter-widgets/base",
            "_view_module_version": "1.2.0",
            "_view_name": "LayoutView",
            "align_content": null,
            "align_items": null,
            "align_self": null,
            "border": null,
            "bottom": null,
            "display": null,
            "flex": null,
            "flex_flow": null,
            "grid_area": null,
            "grid_auto_columns": null,
            "grid_auto_flow": null,
            "grid_auto_rows": null,
            "grid_column": null,
            "grid_gap": null,
            "grid_row": null,
            "grid_template_areas": null,
            "grid_template_columns": null,
            "grid_template_rows": null,
            "height": null,
            "justify_content": null,
            "justify_items": null,
            "left": null,
            "margin": null,
            "max_height": null,
            "max_width": null,
            "min_height": null,
            "min_width": null,
            "object_fit": null,
            "object_position": null,
            "order": null,
            "overflow": null,
            "overflow_x": null,
            "overflow_y": null,
            "padding": null,
            "right": null,
            "top": null,
            "visibility": null,
            "width": null
          }
        },
        "3fd1f89c7fc5413e9357a6cd26c580c7": {
          "model_module": "@jupyter-widgets/controls",
          "model_module_version": "1.5.0",
          "model_name": "HTMLModel",
          "state": {
            "_dom_classes": [],
            "_model_module": "@jupyter-widgets/controls",
            "_model_module_version": "1.5.0",
            "_model_name": "HTMLModel",
            "_view_count": null,
            "_view_module": "@jupyter-widgets/controls",
            "_view_module_version": "1.5.0",
            "_view_name": "HTMLView",
            "description": "",
            "description_tooltip": null,
            "layout": "IPY_MODEL_bd9cff6e5f694ef59e71ef204099b9ee",
            "placeholder": "​",
            "style": "IPY_MODEL_cba71493f3054d22bf1195f4e9f4a228",
            "value": "Downloading (…)e9125/tokenizer.json: 100%"
          }
        },
        "3fee4f5fa36c4bcba29160938af239d2": {
          "model_module": "@jupyter-widgets/base",
          "model_module_version": "1.2.0",
          "model_name": "LayoutModel",
          "state": {
            "_model_module": "@jupyter-widgets/base",
            "_model_module_version": "1.2.0",
            "_model_name": "LayoutModel",
            "_view_count": null,
            "_view_module": "@jupyter-widgets/base",
            "_view_module_version": "1.2.0",
            "_view_name": "LayoutView",
            "align_content": null,
            "align_items": null,
            "align_self": null,
            "border": null,
            "bottom": null,
            "display": null,
            "flex": null,
            "flex_flow": null,
            "grid_area": null,
            "grid_auto_columns": null,
            "grid_auto_flow": null,
            "grid_auto_rows": null,
            "grid_column": null,
            "grid_gap": null,
            "grid_row": null,
            "grid_template_areas": null,
            "grid_template_columns": null,
            "grid_template_rows": null,
            "height": null,
            "justify_content": null,
            "justify_items": null,
            "left": null,
            "margin": null,
            "max_height": null,
            "max_width": null,
            "min_height": null,
            "min_width": null,
            "object_fit": null,
            "object_position": null,
            "order": null,
            "overflow": null,
            "overflow_x": null,
            "overflow_y": null,
            "padding": null,
            "right": null,
            "top": null,
            "visibility": null,
            "width": null
          }
        },
        "4041a0cce855423c823b84e81839f4e0": {
          "model_module": "@jupyter-widgets/controls",
          "model_module_version": "1.5.0",
          "model_name": "DescriptionStyleModel",
          "state": {
            "_model_module": "@jupyter-widgets/controls",
            "_model_module_version": "1.5.0",
            "_model_name": "DescriptionStyleModel",
            "_view_count": null,
            "_view_module": "@jupyter-widgets/base",
            "_view_module_version": "1.2.0",
            "_view_name": "StyleView",
            "description_width": ""
          }
        },
        "4057a9ed8efc4b079051dc3f5d443a79": {
          "model_module": "@jupyter-widgets/controls",
          "model_module_version": "1.5.0",
          "model_name": "HTMLModel",
          "state": {
            "_dom_classes": [],
            "_model_module": "@jupyter-widgets/controls",
            "_model_module_version": "1.5.0",
            "_model_name": "HTMLModel",
            "_view_count": null,
            "_view_module": "@jupyter-widgets/controls",
            "_view_module_version": "1.5.0",
            "_view_name": "HTMLView",
            "description": "",
            "description_tooltip": null,
            "layout": "IPY_MODEL_2dbe4b9a38894f6abd626b38feff7140",
            "placeholder": "​",
            "style": "IPY_MODEL_3a66e797a65d45b4a2156d3323f5f128",
            "value": " 116/116 [00:00&lt;00:00, 4.01kB/s]"
          }
        },
        "40750825bf5b434a896ad7efde0c62a3": {
          "model_module": "@jupyter-widgets/base",
          "model_module_version": "1.2.0",
          "model_name": "LayoutModel",
          "state": {
            "_model_module": "@jupyter-widgets/base",
            "_model_module_version": "1.2.0",
            "_model_name": "LayoutModel",
            "_view_count": null,
            "_view_module": "@jupyter-widgets/base",
            "_view_module_version": "1.2.0",
            "_view_name": "LayoutView",
            "align_content": null,
            "align_items": null,
            "align_self": null,
            "border": null,
            "bottom": null,
            "display": null,
            "flex": null,
            "flex_flow": null,
            "grid_area": null,
            "grid_auto_columns": null,
            "grid_auto_flow": null,
            "grid_auto_rows": null,
            "grid_column": null,
            "grid_gap": null,
            "grid_row": null,
            "grid_template_areas": null,
            "grid_template_columns": null,
            "grid_template_rows": null,
            "height": null,
            "justify_content": null,
            "justify_items": null,
            "left": null,
            "margin": null,
            "max_height": null,
            "max_width": null,
            "min_height": null,
            "min_width": null,
            "object_fit": null,
            "object_position": null,
            "order": null,
            "overflow": null,
            "overflow_x": null,
            "overflow_y": null,
            "padding": null,
            "right": null,
            "top": null,
            "visibility": null,
            "width": null
          }
        },
        "40bb6a242414459fbf1fd635efe6003a": {
          "model_module": "@jupyter-widgets/controls",
          "model_module_version": "1.5.0",
          "model_name": "DescriptionStyleModel",
          "state": {
            "_model_module": "@jupyter-widgets/controls",
            "_model_module_version": "1.5.0",
            "_model_name": "DescriptionStyleModel",
            "_view_count": null,
            "_view_module": "@jupyter-widgets/base",
            "_view_module_version": "1.2.0",
            "_view_name": "StyleView",
            "description_width": ""
          }
        },
        "40c3f438bbe94f7b846afe79c912e0a5": {
          "model_module": "@jupyter-widgets/base",
          "model_module_version": "1.2.0",
          "model_name": "LayoutModel",
          "state": {
            "_model_module": "@jupyter-widgets/base",
            "_model_module_version": "1.2.0",
            "_model_name": "LayoutModel",
            "_view_count": null,
            "_view_module": "@jupyter-widgets/base",
            "_view_module_version": "1.2.0",
            "_view_name": "LayoutView",
            "align_content": null,
            "align_items": null,
            "align_self": null,
            "border": null,
            "bottom": null,
            "display": null,
            "flex": null,
            "flex_flow": null,
            "grid_area": null,
            "grid_auto_columns": null,
            "grid_auto_flow": null,
            "grid_auto_rows": null,
            "grid_column": null,
            "grid_gap": null,
            "grid_row": null,
            "grid_template_areas": null,
            "grid_template_columns": null,
            "grid_template_rows": null,
            "height": null,
            "justify_content": null,
            "justify_items": null,
            "left": null,
            "margin": null,
            "max_height": null,
            "max_width": null,
            "min_height": null,
            "min_width": null,
            "object_fit": null,
            "object_position": null,
            "order": null,
            "overflow": null,
            "overflow_x": null,
            "overflow_y": null,
            "padding": null,
            "right": null,
            "top": null,
            "visibility": null,
            "width": null
          }
        },
        "41a220df173342c19af03712e1a2955b": {
          "model_module": "@jupyter-widgets/controls",
          "model_module_version": "1.5.0",
          "model_name": "HBoxModel",
          "state": {
            "_dom_classes": [],
            "_model_module": "@jupyter-widgets/controls",
            "_model_module_version": "1.5.0",
            "_model_name": "HBoxModel",
            "_view_count": null,
            "_view_module": "@jupyter-widgets/controls",
            "_view_module_version": "1.5.0",
            "_view_name": "HBoxView",
            "box_style": "",
            "children": [
              "IPY_MODEL_dc8a91f567854c43bb4a79cc02dd7f58",
              "IPY_MODEL_8a02e079a41b40cd91f6fbdd8a8a9e67",
              "IPY_MODEL_0c9f2c48801e4da5935ecfe24386be34"
            ],
            "layout": "IPY_MODEL_c78dad6101124baabb44e2301f7ea156"
          }
        },
        "429c463e35304e088a5a95ac714883e3": {
          "model_module": "@jupyter-widgets/controls",
          "model_module_version": "1.5.0",
          "model_name": "ProgressStyleModel",
          "state": {
            "_model_module": "@jupyter-widgets/controls",
            "_model_module_version": "1.5.0",
            "_model_name": "ProgressStyleModel",
            "_view_count": null,
            "_view_module": "@jupyter-widgets/base",
            "_view_module_version": "1.2.0",
            "_view_name": "StyleView",
            "bar_color": null,
            "description_width": ""
          }
        },
        "42bf946986534198819976929acf769d": {
          "model_module": "@jupyter-widgets/base",
          "model_module_version": "1.2.0",
          "model_name": "LayoutModel",
          "state": {
            "_model_module": "@jupyter-widgets/base",
            "_model_module_version": "1.2.0",
            "_model_name": "LayoutModel",
            "_view_count": null,
            "_view_module": "@jupyter-widgets/base",
            "_view_module_version": "1.2.0",
            "_view_name": "LayoutView",
            "align_content": null,
            "align_items": null,
            "align_self": null,
            "border": null,
            "bottom": null,
            "display": null,
            "flex": null,
            "flex_flow": null,
            "grid_area": null,
            "grid_auto_columns": null,
            "grid_auto_flow": null,
            "grid_auto_rows": null,
            "grid_column": null,
            "grid_gap": null,
            "grid_row": null,
            "grid_template_areas": null,
            "grid_template_columns": null,
            "grid_template_rows": null,
            "height": null,
            "justify_content": null,
            "justify_items": null,
            "left": null,
            "margin": null,
            "max_height": null,
            "max_width": null,
            "min_height": null,
            "min_width": null,
            "object_fit": null,
            "object_position": null,
            "order": null,
            "overflow": null,
            "overflow_x": null,
            "overflow_y": null,
            "padding": null,
            "right": null,
            "top": null,
            "visibility": null,
            "width": null
          }
        },
        "4351a6eecb2741a89d0985c01e9b2e33": {
          "model_module": "@jupyter-widgets/controls",
          "model_module_version": "1.5.0",
          "model_name": "DescriptionStyleModel",
          "state": {
            "_model_module": "@jupyter-widgets/controls",
            "_model_module_version": "1.5.0",
            "_model_name": "DescriptionStyleModel",
            "_view_count": null,
            "_view_module": "@jupyter-widgets/base",
            "_view_module_version": "1.2.0",
            "_view_name": "StyleView",
            "description_width": ""
          }
        },
        "4383630c7995424eb745f1b8a9b81c80": {
          "model_module": "@jupyter-widgets/controls",
          "model_module_version": "1.5.0",
          "model_name": "HTMLModel",
          "state": {
            "_dom_classes": [],
            "_model_module": "@jupyter-widgets/controls",
            "_model_module_version": "1.5.0",
            "_model_name": "HTMLModel",
            "_view_count": null,
            "_view_module": "@jupyter-widgets/controls",
            "_view_module_version": "1.5.0",
            "_view_name": "HTMLView",
            "description": "",
            "description_tooltip": null,
            "layout": "IPY_MODEL_b0efb33d2fe84c94a4114dac76b23ca7",
            "placeholder": "​",
            "style": "IPY_MODEL_835b8458d3654da98e8cd8d75c8c100a",
            "value": " 13.2k/13.2k [00:00&lt;00:00, 242kB/s]"
          }
        },
        "45356ea88a9947c8b776ef48c7bda5fe": {
          "model_module": "@jupyter-widgets/controls",
          "model_module_version": "1.5.0",
          "model_name": "HBoxModel",
          "state": {
            "_dom_classes": [],
            "_model_module": "@jupyter-widgets/controls",
            "_model_module_version": "1.5.0",
            "_model_name": "HBoxModel",
            "_view_count": null,
            "_view_module": "@jupyter-widgets/controls",
            "_view_module_version": "1.5.0",
            "_view_name": "HBoxView",
            "box_style": "",
            "children": [
              "IPY_MODEL_92ed389ecbee4d8d91e2b0233865981c",
              "IPY_MODEL_31dc56ea8d114dceb2a6538143d5a61f",
              "IPY_MODEL_079b7bd70d4940df86680663202b6575"
            ],
            "layout": "IPY_MODEL_7b878f452d3043789043084314f40796"
          }
        },
        "45bab70a435a425a986ca4bdc44a088f": {
          "model_module": "@jupyter-widgets/controls",
          "model_module_version": "1.5.0",
          "model_name": "ProgressStyleModel",
          "state": {
            "_model_module": "@jupyter-widgets/controls",
            "_model_module_version": "1.5.0",
            "_model_name": "ProgressStyleModel",
            "_view_count": null,
            "_view_module": "@jupyter-widgets/base",
            "_view_module_version": "1.2.0",
            "_view_name": "StyleView",
            "bar_color": null,
            "description_width": ""
          }
        },
        "465ad539063f48e6b0e4f247e95e6e67": {
          "model_module": "@jupyter-widgets/controls",
          "model_module_version": "1.5.0",
          "model_name": "FloatProgressModel",
          "state": {
            "_dom_classes": [],
            "_model_module": "@jupyter-widgets/controls",
            "_model_module_version": "1.5.0",
            "_model_name": "FloatProgressModel",
            "_view_count": null,
            "_view_module": "@jupyter-widgets/controls",
            "_view_module_version": "1.5.0",
            "_view_name": "ProgressView",
            "bar_style": "success",
            "description": "",
            "description_tooltip": null,
            "layout": "IPY_MODEL_85ae18cc582144609414681d35b5279b",
            "max": 39265,
            "min": 0,
            "orientation": "horizontal",
            "style": "IPY_MODEL_29d4123179a2468d9c0e1d6e8cb8aa07",
            "value": 39265
          }
        },
        "46e21e92d1344dd1898c774592cfe8a5": {
          "model_module": "@jupyter-widgets/base",
          "model_module_version": "1.2.0",
          "model_name": "LayoutModel",
          "state": {
            "_model_module": "@jupyter-widgets/base",
            "_model_module_version": "1.2.0",
            "_model_name": "LayoutModel",
            "_view_count": null,
            "_view_module": "@jupyter-widgets/base",
            "_view_module_version": "1.2.0",
            "_view_name": "LayoutView",
            "align_content": null,
            "align_items": null,
            "align_self": null,
            "border": null,
            "bottom": null,
            "display": null,
            "flex": null,
            "flex_flow": null,
            "grid_area": null,
            "grid_auto_columns": null,
            "grid_auto_flow": null,
            "grid_auto_rows": null,
            "grid_column": null,
            "grid_gap": null,
            "grid_row": null,
            "grid_template_areas": null,
            "grid_template_columns": null,
            "grid_template_rows": null,
            "height": null,
            "justify_content": null,
            "justify_items": null,
            "left": null,
            "margin": null,
            "max_height": null,
            "max_width": null,
            "min_height": null,
            "min_width": null,
            "object_fit": null,
            "object_position": null,
            "order": null,
            "overflow": null,
            "overflow_x": null,
            "overflow_y": null,
            "padding": null,
            "right": null,
            "top": null,
            "visibility": null,
            "width": null
          }
        },
        "4860aafbd8954065ba00da70e136bde8": {
          "model_module": "@jupyter-widgets/controls",
          "model_module_version": "1.5.0",
          "model_name": "FloatProgressModel",
          "state": {
            "_dom_classes": [],
            "_model_module": "@jupyter-widgets/controls",
            "_model_module_version": "1.5.0",
            "_model_name": "FloatProgressModel",
            "_view_count": null,
            "_view_module": "@jupyter-widgets/controls",
            "_view_module_version": "1.5.0",
            "_view_name": "ProgressView",
            "bar_style": "",
            "description": "",
            "description_tooltip": null,
            "layout": "IPY_MODEL_3e834a31743d40e7b059fc0df8b38558",
            "max": 1324,
            "min": 0,
            "orientation": "horizontal",
            "style": "IPY_MODEL_45bab70a435a425a986ca4bdc44a088f",
            "value": 1324
          }
        },
        "4964786d527c468fbe03cd9d9d78d51e": {
          "model_module": "@jupyter-widgets/base",
          "model_module_version": "1.2.0",
          "model_name": "LayoutModel",
          "state": {
            "_model_module": "@jupyter-widgets/base",
            "_model_module_version": "1.2.0",
            "_model_name": "LayoutModel",
            "_view_count": null,
            "_view_module": "@jupyter-widgets/base",
            "_view_module_version": "1.2.0",
            "_view_name": "LayoutView",
            "align_content": null,
            "align_items": null,
            "align_self": null,
            "border": null,
            "bottom": null,
            "display": null,
            "flex": null,
            "flex_flow": null,
            "grid_area": null,
            "grid_auto_columns": null,
            "grid_auto_flow": null,
            "grid_auto_rows": null,
            "grid_column": null,
            "grid_gap": null,
            "grid_row": null,
            "grid_template_areas": null,
            "grid_template_columns": null,
            "grid_template_rows": null,
            "height": null,
            "justify_content": null,
            "justify_items": null,
            "left": null,
            "margin": null,
            "max_height": null,
            "max_width": null,
            "min_height": null,
            "min_width": null,
            "object_fit": null,
            "object_position": null,
            "order": null,
            "overflow": null,
            "overflow_x": null,
            "overflow_y": null,
            "padding": null,
            "right": null,
            "top": null,
            "visibility": null,
            "width": null
          }
        },
        "4a6264671c77407382c605db8c32e983": {
          "model_module": "@jupyter-widgets/controls",
          "model_module_version": "1.5.0",
          "model_name": "DescriptionStyleModel",
          "state": {
            "_model_module": "@jupyter-widgets/controls",
            "_model_module_version": "1.5.0",
            "_model_name": "DescriptionStyleModel",
            "_view_count": null,
            "_view_module": "@jupyter-widgets/base",
            "_view_module_version": "1.2.0",
            "_view_name": "StyleView",
            "description_width": ""
          }
        },
        "4b2ae52e8af9419aa9b3b82049cfcc84": {
          "model_module": "@jupyter-widgets/controls",
          "model_module_version": "1.5.0",
          "model_name": "HTMLModel",
          "state": {
            "_dom_classes": [],
            "_model_module": "@jupyter-widgets/controls",
            "_model_module_version": "1.5.0",
            "_model_name": "HTMLModel",
            "_view_count": null,
            "_view_module": "@jupyter-widgets/controls",
            "_view_module_version": "1.5.0",
            "_view_name": "HTMLView",
            "description": "",
            "description_tooltip": null,
            "layout": "IPY_MODEL_ea0b44475dcb41e0a6d030de57f5952b",
            "placeholder": "​",
            "style": "IPY_MODEL_648549b1150a443393ae61390f3a941a",
            "value": " 1000/1324 [00:00&lt;00:00, 5820.56 examples/s]"
          }
        },
        "4b2cafc042d341c587a8aa4bcf7e9c2f": {
          "model_module": "@jupyter-widgets/controls",
          "model_module_version": "1.5.0",
          "model_name": "HTMLModel",
          "state": {
            "_dom_classes": [],
            "_model_module": "@jupyter-widgets/controls",
            "_model_module_version": "1.5.0",
            "_model_name": "HTMLModel",
            "_view_count": null,
            "_view_module": "@jupyter-widgets/controls",
            "_view_module_version": "1.5.0",
            "_view_name": "HTMLView",
            "description": "",
            "description_tooltip": null,
            "layout": "IPY_MODEL_515a973ab61846f89da2bbdd3819b1b6",
            "placeholder": "​",
            "style": "IPY_MODEL_d8490e1aceba4ddba8c9a783374c0335",
            "value": " 499M/499M [00:01&lt;00:00, 263MB/s]"
          }
        },
        "4b65969759e24f42b589fe56164e1231": {
          "model_module": "@jupyter-widgets/controls",
          "model_module_version": "1.5.0",
          "model_name": "HTMLModel",
          "state": {
            "_dom_classes": [],
            "_model_module": "@jupyter-widgets/controls",
            "_model_module_version": "1.5.0",
            "_model_name": "HTMLModel",
            "_view_count": null,
            "_view_module": "@jupyter-widgets/controls",
            "_view_module_version": "1.5.0",
            "_view_name": "HTMLView",
            "description": "",
            "description_tooltip": null,
            "layout": "IPY_MODEL_40750825bf5b434a896ad7efde0c62a3",
            "placeholder": "​",
            "style": "IPY_MODEL_b3139d2b4a694104bc10a542077d6b76",
            "value": " 150/150 [00:00&lt;00:00, 9.37kB/s]"
          }
        },
        "4bd1d1eb53eb47dd8eb0714af084865d": {
          "model_module": "@jupyter-widgets/controls",
          "model_module_version": "1.5.0",
          "model_name": "HBoxModel",
          "state": {
            "_dom_classes": [],
            "_model_module": "@jupyter-widgets/controls",
            "_model_module_version": "1.5.0",
            "_model_name": "HBoxModel",
            "_view_count": null,
            "_view_module": "@jupyter-widgets/controls",
            "_view_module_version": "1.5.0",
            "_view_name": "HBoxView",
            "box_style": "",
            "children": [
              "IPY_MODEL_3fd1f89c7fc5413e9357a6cd26c580c7",
              "IPY_MODEL_077e13840c724554b5b126e3de9245f1",
              "IPY_MODEL_2dcacb97e50f427b9dbb52a11e9abb38"
            ],
            "layout": "IPY_MODEL_1d9fc6af02e1439889f74ae338172774"
          }
        },
        "4d10d624519d4e1aa581d0ee1f66c06b": {
          "model_module": "@jupyter-widgets/controls",
          "model_module_version": "1.5.0",
          "model_name": "HTMLModel",
          "state": {
            "_dom_classes": [],
            "_model_module": "@jupyter-widgets/controls",
            "_model_module_version": "1.5.0",
            "_model_name": "HTMLModel",
            "_view_count": null,
            "_view_module": "@jupyter-widgets/controls",
            "_view_module_version": "1.5.0",
            "_view_name": "HTMLView",
            "description": "",
            "description_tooltip": null,
            "layout": "IPY_MODEL_40c3f438bbe94f7b846afe79c912e0a5",
            "placeholder": "​",
            "style": "IPY_MODEL_d582a594cfbf4d93bbbb165dda4ee266",
            "value": " 1.72k/? [00:00&lt;00:00, 39.7kB/s]"
          }
        },
        "4d2bf355b56540c7a3748dbd92a0c3cb": {
          "model_module": "@jupyter-widgets/controls",
          "model_module_version": "1.5.0",
          "model_name": "DescriptionStyleModel",
          "state": {
            "_model_module": "@jupyter-widgets/controls",
            "_model_module_version": "1.5.0",
            "_model_name": "DescriptionStyleModel",
            "_view_count": null,
            "_view_module": "@jupyter-widgets/base",
            "_view_module_version": "1.2.0",
            "_view_name": "StyleView",
            "description_width": ""
          }
        },
        "4d8cbc532d1a4611b068ee25e136b134": {
          "model_module": "@jupyter-widgets/controls",
          "model_module_version": "1.5.0",
          "model_name": "ProgressStyleModel",
          "state": {
            "_model_module": "@jupyter-widgets/controls",
            "_model_module_version": "1.5.0",
            "_model_name": "ProgressStyleModel",
            "_view_count": null,
            "_view_module": "@jupyter-widgets/base",
            "_view_module_version": "1.2.0",
            "_view_name": "StyleView",
            "bar_color": null,
            "description_width": ""
          }
        },
        "4e3ce78a1d5f45988491247b7441ae44": {
          "model_module": "@jupyter-widgets/base",
          "model_module_version": "1.2.0",
          "model_name": "LayoutModel",
          "state": {
            "_model_module": "@jupyter-widgets/base",
            "_model_module_version": "1.2.0",
            "_model_name": "LayoutModel",
            "_view_count": null,
            "_view_module": "@jupyter-widgets/base",
            "_view_module_version": "1.2.0",
            "_view_name": "LayoutView",
            "align_content": null,
            "align_items": null,
            "align_self": null,
            "border": null,
            "bottom": null,
            "display": null,
            "flex": null,
            "flex_flow": null,
            "grid_area": null,
            "grid_auto_columns": null,
            "grid_auto_flow": null,
            "grid_auto_rows": null,
            "grid_column": null,
            "grid_gap": null,
            "grid_row": null,
            "grid_template_areas": null,
            "grid_template_columns": null,
            "grid_template_rows": null,
            "height": null,
            "justify_content": null,
            "justify_items": null,
            "left": null,
            "margin": null,
            "max_height": null,
            "max_width": null,
            "min_height": null,
            "min_width": null,
            "object_fit": null,
            "object_position": null,
            "order": null,
            "overflow": null,
            "overflow_x": null,
            "overflow_y": null,
            "padding": null,
            "right": null,
            "top": null,
            "visibility": null,
            "width": null
          }
        },
        "4ed4780f9b424d0cb98967c2de459aac": {
          "model_module": "@jupyter-widgets/base",
          "model_module_version": "1.2.0",
          "model_name": "LayoutModel",
          "state": {
            "_model_module": "@jupyter-widgets/base",
            "_model_module_version": "1.2.0",
            "_model_name": "LayoutModel",
            "_view_count": null,
            "_view_module": "@jupyter-widgets/base",
            "_view_module_version": "1.2.0",
            "_view_name": "LayoutView",
            "align_content": null,
            "align_items": null,
            "align_self": null,
            "border": null,
            "bottom": null,
            "display": null,
            "flex": null,
            "flex_flow": null,
            "grid_area": null,
            "grid_auto_columns": null,
            "grid_auto_flow": null,
            "grid_auto_rows": null,
            "grid_column": null,
            "grid_gap": null,
            "grid_row": null,
            "grid_template_areas": null,
            "grid_template_columns": null,
            "grid_template_rows": null,
            "height": null,
            "justify_content": null,
            "justify_items": null,
            "left": null,
            "margin": null,
            "max_height": null,
            "max_width": null,
            "min_height": null,
            "min_width": null,
            "object_fit": null,
            "object_position": null,
            "order": null,
            "overflow": null,
            "overflow_x": null,
            "overflow_y": null,
            "padding": null,
            "right": null,
            "top": null,
            "visibility": null,
            "width": null
          }
        },
        "4f9b91177a334b9f903ff17a5a288175": {
          "model_module": "@jupyter-widgets/controls",
          "model_module_version": "1.5.0",
          "model_name": "HBoxModel",
          "state": {
            "_dom_classes": [],
            "_model_module": "@jupyter-widgets/controls",
            "_model_module_version": "1.5.0",
            "_model_name": "HBoxModel",
            "_view_count": null,
            "_view_module": "@jupyter-widgets/controls",
            "_view_module_version": "1.5.0",
            "_view_name": "HBoxView",
            "box_style": "",
            "children": [
              "IPY_MODEL_7a81a3e6c37b4b409d39f895b331f75e",
              "IPY_MODEL_84533a2dc7ba4dfc9458a3fda7a0903c",
              "IPY_MODEL_e95fc5490d704a4e9236c48e3b2beb00"
            ],
            "layout": "IPY_MODEL_e6305cc7f5754b888ec80fe0b517b51f"
          }
        },
        "4fdca00e2eca452bab63e65fbba0a5f8": {
          "model_module": "@jupyter-widgets/base",
          "model_module_version": "1.2.0",
          "model_name": "LayoutModel",
          "state": {
            "_model_module": "@jupyter-widgets/base",
            "_model_module_version": "1.2.0",
            "_model_name": "LayoutModel",
            "_view_count": null,
            "_view_module": "@jupyter-widgets/base",
            "_view_module_version": "1.2.0",
            "_view_name": "LayoutView",
            "align_content": null,
            "align_items": null,
            "align_self": null,
            "border": null,
            "bottom": null,
            "display": null,
            "flex": null,
            "flex_flow": null,
            "grid_area": null,
            "grid_auto_columns": null,
            "grid_auto_flow": null,
            "grid_auto_rows": null,
            "grid_column": null,
            "grid_gap": null,
            "grid_row": null,
            "grid_template_areas": null,
            "grid_template_columns": null,
            "grid_template_rows": null,
            "height": null,
            "justify_content": null,
            "justify_items": null,
            "left": null,
            "margin": null,
            "max_height": null,
            "max_width": null,
            "min_height": null,
            "min_width": null,
            "object_fit": null,
            "object_position": null,
            "order": null,
            "overflow": null,
            "overflow_x": null,
            "overflow_y": null,
            "padding": null,
            "right": null,
            "top": null,
            "visibility": null,
            "width": null
          }
        },
        "512b1526a88f4ac58b8690654cd3baf9": {
          "model_module": "@jupyter-widgets/base",
          "model_module_version": "1.2.0",
          "model_name": "LayoutModel",
          "state": {
            "_model_module": "@jupyter-widgets/base",
            "_model_module_version": "1.2.0",
            "_model_name": "LayoutModel",
            "_view_count": null,
            "_view_module": "@jupyter-widgets/base",
            "_view_module_version": "1.2.0",
            "_view_name": "LayoutView",
            "align_content": null,
            "align_items": null,
            "align_self": null,
            "border": null,
            "bottom": null,
            "display": null,
            "flex": null,
            "flex_flow": null,
            "grid_area": null,
            "grid_auto_columns": null,
            "grid_auto_flow": null,
            "grid_auto_rows": null,
            "grid_column": null,
            "grid_gap": null,
            "grid_row": null,
            "grid_template_areas": null,
            "grid_template_columns": null,
            "grid_template_rows": null,
            "height": null,
            "justify_content": null,
            "justify_items": null,
            "left": null,
            "margin": null,
            "max_height": null,
            "max_width": null,
            "min_height": null,
            "min_width": null,
            "object_fit": null,
            "object_position": null,
            "order": null,
            "overflow": null,
            "overflow_x": null,
            "overflow_y": null,
            "padding": null,
            "right": null,
            "top": null,
            "visibility": null,
            "width": null
          }
        },
        "51318d60b2264b36bfb5a480d5cce2c2": {
          "model_module": "@jupyter-widgets/base",
          "model_module_version": "1.2.0",
          "model_name": "LayoutModel",
          "state": {
            "_model_module": "@jupyter-widgets/base",
            "_model_module_version": "1.2.0",
            "_model_name": "LayoutModel",
            "_view_count": null,
            "_view_module": "@jupyter-widgets/base",
            "_view_module_version": "1.2.0",
            "_view_name": "LayoutView",
            "align_content": null,
            "align_items": null,
            "align_self": null,
            "border": null,
            "bottom": null,
            "display": null,
            "flex": null,
            "flex_flow": null,
            "grid_area": null,
            "grid_auto_columns": null,
            "grid_auto_flow": null,
            "grid_auto_rows": null,
            "grid_column": null,
            "grid_gap": null,
            "grid_row": null,
            "grid_template_areas": null,
            "grid_template_columns": null,
            "grid_template_rows": null,
            "height": null,
            "justify_content": null,
            "justify_items": null,
            "left": null,
            "margin": null,
            "max_height": null,
            "max_width": null,
            "min_height": null,
            "min_width": null,
            "object_fit": null,
            "object_position": null,
            "order": null,
            "overflow": null,
            "overflow_x": null,
            "overflow_y": null,
            "padding": null,
            "right": null,
            "top": null,
            "visibility": null,
            "width": null
          }
        },
        "515a973ab61846f89da2bbdd3819b1b6": {
          "model_module": "@jupyter-widgets/base",
          "model_module_version": "1.2.0",
          "model_name": "LayoutModel",
          "state": {
            "_model_module": "@jupyter-widgets/base",
            "_model_module_version": "1.2.0",
            "_model_name": "LayoutModel",
            "_view_count": null,
            "_view_module": "@jupyter-widgets/base",
            "_view_module_version": "1.2.0",
            "_view_name": "LayoutView",
            "align_content": null,
            "align_items": null,
            "align_self": null,
            "border": null,
            "bottom": null,
            "display": null,
            "flex": null,
            "flex_flow": null,
            "grid_area": null,
            "grid_auto_columns": null,
            "grid_auto_flow": null,
            "grid_auto_rows": null,
            "grid_column": null,
            "grid_gap": null,
            "grid_row": null,
            "grid_template_areas": null,
            "grid_template_columns": null,
            "grid_template_rows": null,
            "height": null,
            "justify_content": null,
            "justify_items": null,
            "left": null,
            "margin": null,
            "max_height": null,
            "max_width": null,
            "min_height": null,
            "min_width": null,
            "object_fit": null,
            "object_position": null,
            "order": null,
            "overflow": null,
            "overflow_x": null,
            "overflow_y": null,
            "padding": null,
            "right": null,
            "top": null,
            "visibility": null,
            "width": null
          }
        },
        "532a1d9b17ca4e1eb833f2249877689d": {
          "model_module": "@jupyter-widgets/controls",
          "model_module_version": "1.5.0",
          "model_name": "HTMLModel",
          "state": {
            "_dom_classes": [],
            "_model_module": "@jupyter-widgets/controls",
            "_model_module_version": "1.5.0",
            "_model_name": "HTMLModel",
            "_view_count": null,
            "_view_module": "@jupyter-widgets/controls",
            "_view_module_version": "1.5.0",
            "_view_name": "HTMLView",
            "description": "",
            "description_tooltip": null,
            "layout": "IPY_MODEL_ec9e8e005fc3494c95f3a8523279bd08",
            "placeholder": "​",
            "style": "IPY_MODEL_904e76285fde4427929ecb1f754a5696",
            "value": "Generating train split:  82%"
          }
        },
        "53ccb9a11297436e922ea5a79389f5a4": {
          "model_module": "@jupyter-widgets/controls",
          "model_module_version": "1.5.0",
          "model_name": "ProgressStyleModel",
          "state": {
            "_model_module": "@jupyter-widgets/controls",
            "_model_module_version": "1.5.0",
            "_model_name": "ProgressStyleModel",
            "_view_count": null,
            "_view_module": "@jupyter-widgets/base",
            "_view_module_version": "1.2.0",
            "_view_name": "StyleView",
            "bar_color": null,
            "description_width": ""
          }
        },
        "53e665c5514146bd8042d2f80e04443f": {
          "model_module": "@jupyter-widgets/controls",
          "model_module_version": "1.5.0",
          "model_name": "HTMLModel",
          "state": {
            "_dom_classes": [],
            "_model_module": "@jupyter-widgets/controls",
            "_model_module_version": "1.5.0",
            "_model_name": "HTMLModel",
            "_view_count": null,
            "_view_module": "@jupyter-widgets/controls",
            "_view_module_version": "1.5.0",
            "_view_name": "HTMLView",
            "description": "",
            "description_tooltip": null,
            "layout": "IPY_MODEL_da2fb5a8b75e4821a58edade566a540f",
            "placeholder": "​",
            "style": "IPY_MODEL_e72153b44fa042748b885cbaeaf868cf",
            "value": "Downloading pytorch_model.bin: 100%"
          }
        },
        "5506b3c09934462ca0098a15d720fe1d": {
          "model_module": "@jupyter-widgets/controls",
          "model_module_version": "1.5.0",
          "model_name": "FloatProgressModel",
          "state": {
            "_dom_classes": [],
            "_model_module": "@jupyter-widgets/controls",
            "_model_module_version": "1.5.0",
            "_model_name": "FloatProgressModel",
            "_view_count": null,
            "_view_module": "@jupyter-widgets/controls",
            "_view_module_version": "1.5.0",
            "_view_name": "ProgressView",
            "bar_style": "success",
            "description": "",
            "description_tooltip": null,
            "layout": "IPY_MODEL_7a67e326935e4da6aef486f5f6e92b76",
            "max": 725,
            "min": 0,
            "orientation": "horizontal",
            "style": "IPY_MODEL_5bc37c6c546b474599f3d467c89a996b",
            "value": 725
          }
        },
        "56de5a18809c4db0878afcffe453bc20": {
          "model_module": "@jupyter-widgets/controls",
          "model_module_version": "1.5.0",
          "model_name": "HTMLModel",
          "state": {
            "_dom_classes": [],
            "_model_module": "@jupyter-widgets/controls",
            "_model_module_version": "1.5.0",
            "_model_name": "HTMLModel",
            "_view_count": null,
            "_view_module": "@jupyter-widgets/controls",
            "_view_module_version": "1.5.0",
            "_view_name": "HTMLView",
            "description": "",
            "description_tooltip": null,
            "layout": "IPY_MODEL_98b763b12fe7448e8d8cd06a5185cea1",
            "placeholder": "​",
            "style": "IPY_MODEL_8912f708afc54a77aa28afd04395da56",
            "value": " 456k/456k [00:00&lt;00:00, 26.0MB/s]"
          }
        },
        "573284e164084ae9b6c0b8d63f596703": {
          "model_module": "@jupyter-widgets/controls",
          "model_module_version": "1.5.0",
          "model_name": "HTMLModel",
          "state": {
            "_dom_classes": [],
            "_model_module": "@jupyter-widgets/controls",
            "_model_module_version": "1.5.0",
            "_model_name": "HTMLModel",
            "_view_count": null,
            "_view_module": "@jupyter-widgets/controls",
            "_view_module_version": "1.5.0",
            "_view_name": "HTMLView",
            "description": "",
            "description_tooltip": null,
            "layout": "IPY_MODEL_d81aa69eb6634457aa9e986d360319b3",
            "placeholder": "​",
            "style": "IPY_MODEL_b1f49bffba7e439fb073dce5aa3bf39e",
            "value": " 725/725 [00:00&lt;00:00, 55.2kB/s]"
          }
        },
        "573fc09d194a448c835d73d134dc9571": {
          "model_module": "@jupyter-widgets/base",
          "model_module_version": "1.2.0",
          "model_name": "LayoutModel",
          "state": {
            "_model_module": "@jupyter-widgets/base",
            "_model_module_version": "1.2.0",
            "_model_name": "LayoutModel",
            "_view_count": null,
            "_view_module": "@jupyter-widgets/base",
            "_view_module_version": "1.2.0",
            "_view_name": "LayoutView",
            "align_content": null,
            "align_items": null,
            "align_self": null,
            "border": null,
            "bottom": null,
            "display": null,
            "flex": null,
            "flex_flow": null,
            "grid_area": null,
            "grid_auto_columns": null,
            "grid_auto_flow": null,
            "grid_auto_rows": null,
            "grid_column": null,
            "grid_gap": null,
            "grid_row": null,
            "grid_template_areas": null,
            "grid_template_columns": null,
            "grid_template_rows": null,
            "height": null,
            "justify_content": null,
            "justify_items": null,
            "left": null,
            "margin": null,
            "max_height": null,
            "max_width": null,
            "min_height": null,
            "min_width": null,
            "object_fit": null,
            "object_position": null,
            "order": null,
            "overflow": null,
            "overflow_x": null,
            "overflow_y": null,
            "padding": null,
            "right": null,
            "top": null,
            "visibility": null,
            "width": null
          }
        },
        "5799f93ce5df4312871370aa4a362b05": {
          "model_module": "@jupyter-widgets/base",
          "model_module_version": "1.2.0",
          "model_name": "LayoutModel",
          "state": {
            "_model_module": "@jupyter-widgets/base",
            "_model_module_version": "1.2.0",
            "_model_name": "LayoutModel",
            "_view_count": null,
            "_view_module": "@jupyter-widgets/base",
            "_view_module_version": "1.2.0",
            "_view_name": "LayoutView",
            "align_content": null,
            "align_items": null,
            "align_self": null,
            "border": null,
            "bottom": null,
            "display": null,
            "flex": null,
            "flex_flow": null,
            "grid_area": null,
            "grid_auto_columns": null,
            "grid_auto_flow": null,
            "grid_auto_rows": null,
            "grid_column": null,
            "grid_gap": null,
            "grid_row": null,
            "grid_template_areas": null,
            "grid_template_columns": null,
            "grid_template_rows": null,
            "height": null,
            "justify_content": null,
            "justify_items": null,
            "left": null,
            "margin": null,
            "max_height": null,
            "max_width": null,
            "min_height": null,
            "min_width": null,
            "object_fit": null,
            "object_position": null,
            "order": null,
            "overflow": null,
            "overflow_x": null,
            "overflow_y": null,
            "padding": null,
            "right": null,
            "top": null,
            "visibility": null,
            "width": null
          }
        },
        "58234405500c45bcb2c01c0feed4906b": {
          "model_module": "@jupyter-widgets/controls",
          "model_module_version": "1.5.0",
          "model_name": "DescriptionStyleModel",
          "state": {
            "_model_module": "@jupyter-widgets/controls",
            "_model_module_version": "1.5.0",
            "_model_name": "DescriptionStyleModel",
            "_view_count": null,
            "_view_module": "@jupyter-widgets/base",
            "_view_module_version": "1.2.0",
            "_view_name": "StyleView",
            "description_width": ""
          }
        },
        "596aa05bd0a8402b9c6df197c4fcff0f": {
          "model_module": "@jupyter-widgets/controls",
          "model_module_version": "1.5.0",
          "model_name": "ProgressStyleModel",
          "state": {
            "_model_module": "@jupyter-widgets/controls",
            "_model_module_version": "1.5.0",
            "_model_name": "ProgressStyleModel",
            "_view_count": null,
            "_view_module": "@jupyter-widgets/base",
            "_view_module_version": "1.2.0",
            "_view_name": "StyleView",
            "bar_color": null,
            "description_width": ""
          }
        },
        "5995705276bd4dfd938281f116ec140f": {
          "model_module": "@jupyter-widgets/base",
          "model_module_version": "1.2.0",
          "model_name": "LayoutModel",
          "state": {
            "_model_module": "@jupyter-widgets/base",
            "_model_module_version": "1.2.0",
            "_model_name": "LayoutModel",
            "_view_count": null,
            "_view_module": "@jupyter-widgets/base",
            "_view_module_version": "1.2.0",
            "_view_name": "LayoutView",
            "align_content": null,
            "align_items": null,
            "align_self": null,
            "border": null,
            "bottom": null,
            "display": null,
            "flex": null,
            "flex_flow": null,
            "grid_area": null,
            "grid_auto_columns": null,
            "grid_auto_flow": null,
            "grid_auto_rows": null,
            "grid_column": null,
            "grid_gap": null,
            "grid_row": null,
            "grid_template_areas": null,
            "grid_template_columns": null,
            "grid_template_rows": null,
            "height": null,
            "justify_content": null,
            "justify_items": null,
            "left": null,
            "margin": null,
            "max_height": null,
            "max_width": null,
            "min_height": null,
            "min_width": null,
            "object_fit": null,
            "object_position": null,
            "order": null,
            "overflow": null,
            "overflow_x": null,
            "overflow_y": null,
            "padding": null,
            "right": null,
            "top": null,
            "visibility": null,
            "width": null
          }
        },
        "5a81da9fcfda4265841c557f26b8a190": {
          "model_module": "@jupyter-widgets/controls",
          "model_module_version": "1.5.0",
          "model_name": "DescriptionStyleModel",
          "state": {
            "_model_module": "@jupyter-widgets/controls",
            "_model_module_version": "1.5.0",
            "_model_name": "DescriptionStyleModel",
            "_view_count": null,
            "_view_module": "@jupyter-widgets/base",
            "_view_module_version": "1.2.0",
            "_view_name": "StyleView",
            "description_width": ""
          }
        },
        "5bc37c6c546b474599f3d467c89a996b": {
          "model_module": "@jupyter-widgets/controls",
          "model_module_version": "1.5.0",
          "model_name": "ProgressStyleModel",
          "state": {
            "_model_module": "@jupyter-widgets/controls",
            "_model_module_version": "1.5.0",
            "_model_name": "ProgressStyleModel",
            "_view_count": null,
            "_view_module": "@jupyter-widgets/base",
            "_view_module_version": "1.2.0",
            "_view_name": "StyleView",
            "bar_color": null,
            "description_width": ""
          }
        },
        "5be3e2854bd44589b2458e2badf90a65": {
          "model_module": "@jupyter-widgets/controls",
          "model_module_version": "1.5.0",
          "model_name": "DescriptionStyleModel",
          "state": {
            "_model_module": "@jupyter-widgets/controls",
            "_model_module_version": "1.5.0",
            "_model_name": "DescriptionStyleModel",
            "_view_count": null,
            "_view_module": "@jupyter-widgets/base",
            "_view_module_version": "1.2.0",
            "_view_name": "StyleView",
            "description_width": ""
          }
        },
        "5c0afac5efcd424e8097edd5d459339a": {
          "model_module": "@jupyter-widgets/controls",
          "model_module_version": "1.5.0",
          "model_name": "DescriptionStyleModel",
          "state": {
            "_model_module": "@jupyter-widgets/controls",
            "_model_module_version": "1.5.0",
            "_model_name": "DescriptionStyleModel",
            "_view_count": null,
            "_view_module": "@jupyter-widgets/base",
            "_view_module_version": "1.2.0",
            "_view_name": "StyleView",
            "description_width": ""
          }
        },
        "5cd1507f371042aeacd47b9252a7f6ee": {
          "model_module": "@jupyter-widgets/base",
          "model_module_version": "1.2.0",
          "model_name": "LayoutModel",
          "state": {
            "_model_module": "@jupyter-widgets/base",
            "_model_module_version": "1.2.0",
            "_model_name": "LayoutModel",
            "_view_count": null,
            "_view_module": "@jupyter-widgets/base",
            "_view_module_version": "1.2.0",
            "_view_name": "LayoutView",
            "align_content": null,
            "align_items": null,
            "align_self": null,
            "border": null,
            "bottom": null,
            "display": null,
            "flex": null,
            "flex_flow": null,
            "grid_area": null,
            "grid_auto_columns": null,
            "grid_auto_flow": null,
            "grid_auto_rows": null,
            "grid_column": null,
            "grid_gap": null,
            "grid_row": null,
            "grid_template_areas": null,
            "grid_template_columns": null,
            "grid_template_rows": null,
            "height": null,
            "justify_content": null,
            "justify_items": null,
            "left": null,
            "margin": null,
            "max_height": null,
            "max_width": null,
            "min_height": null,
            "min_width": null,
            "object_fit": null,
            "object_position": null,
            "order": null,
            "overflow": null,
            "overflow_x": null,
            "overflow_y": null,
            "padding": null,
            "right": null,
            "top": null,
            "visibility": null,
            "width": null
          }
        },
        "5e3bbc5c46ec4835b7611e1c05ce2570": {
          "model_module": "@jupyter-widgets/controls",
          "model_module_version": "1.5.0",
          "model_name": "HTMLModel",
          "state": {
            "_dom_classes": [],
            "_model_module": "@jupyter-widgets/controls",
            "_model_module_version": "1.5.0",
            "_model_name": "HTMLModel",
            "_view_count": null,
            "_view_module": "@jupyter-widgets/controls",
            "_view_module_version": "1.5.0",
            "_view_name": "HTMLView",
            "description": "",
            "description_tooltip": null,
            "layout": "IPY_MODEL_f455b6bdc0a6415bb3a0e3a541e97773",
            "placeholder": "​",
            "style": "IPY_MODEL_c7457e5104584ee6815ab2b285a08d0e",
            "value": "Downloading (…)okenizer_config.json: 100%"
          }
        },
        "5f1a020c3d36416cbf7aa3ff443e30f3": {
          "model_module": "@jupyter-widgets/controls",
          "model_module_version": "1.5.0",
          "model_name": "HTMLModel",
          "state": {
            "_dom_classes": [],
            "_model_module": "@jupyter-widgets/controls",
            "_model_module_version": "1.5.0",
            "_model_name": "HTMLModel",
            "_view_count": null,
            "_view_module": "@jupyter-widgets/controls",
            "_view_module_version": "1.5.0",
            "_view_name": "HTMLView",
            "description": "",
            "description_tooltip": null,
            "layout": "IPY_MODEL_0e838a85e1dc4db4acd5f1266c086d34",
            "placeholder": "​",
            "style": "IPY_MODEL_019a0b19d10c4b518273ea7a64ddd7db",
            "value": " 11916/11916 [00:02&lt;00:00, 3870.70 examples/s]"
          }
        },
        "6042a337bafd469b82ab781f5b5a5dee": {
          "model_module": "@jupyter-widgets/base",
          "model_module_version": "1.2.0",
          "model_name": "LayoutModel",
          "state": {
            "_model_module": "@jupyter-widgets/base",
            "_model_module_version": "1.2.0",
            "_model_name": "LayoutModel",
            "_view_count": null,
            "_view_module": "@jupyter-widgets/base",
            "_view_module_version": "1.2.0",
            "_view_name": "LayoutView",
            "align_content": null,
            "align_items": null,
            "align_self": null,
            "border": null,
            "bottom": null,
            "display": null,
            "flex": null,
            "flex_flow": null,
            "grid_area": null,
            "grid_auto_columns": null,
            "grid_auto_flow": null,
            "grid_auto_rows": null,
            "grid_column": null,
            "grid_gap": null,
            "grid_row": null,
            "grid_template_areas": null,
            "grid_template_columns": null,
            "grid_template_rows": null,
            "height": null,
            "justify_content": null,
            "justify_items": null,
            "left": null,
            "margin": null,
            "max_height": null,
            "max_width": null,
            "min_height": null,
            "min_width": null,
            "object_fit": null,
            "object_position": null,
            "order": null,
            "overflow": null,
            "overflow_x": null,
            "overflow_y": null,
            "padding": null,
            "right": null,
            "top": null,
            "visibility": null,
            "width": null
          }
        },
        "60ac49a51dc6468f874ee85f0202db54": {
          "model_module": "@jupyter-widgets/base",
          "model_module_version": "1.2.0",
          "model_name": "LayoutModel",
          "state": {
            "_model_module": "@jupyter-widgets/base",
            "_model_module_version": "1.2.0",
            "_model_name": "LayoutModel",
            "_view_count": null,
            "_view_module": "@jupyter-widgets/base",
            "_view_module_version": "1.2.0",
            "_view_name": "LayoutView",
            "align_content": null,
            "align_items": null,
            "align_self": null,
            "border": null,
            "bottom": null,
            "display": null,
            "flex": null,
            "flex_flow": null,
            "grid_area": null,
            "grid_auto_columns": null,
            "grid_auto_flow": null,
            "grid_auto_rows": null,
            "grid_column": null,
            "grid_gap": null,
            "grid_row": null,
            "grid_template_areas": null,
            "grid_template_columns": null,
            "grid_template_rows": null,
            "height": null,
            "justify_content": null,
            "justify_items": null,
            "left": null,
            "margin": null,
            "max_height": null,
            "max_width": null,
            "min_height": null,
            "min_width": null,
            "object_fit": null,
            "object_position": null,
            "order": null,
            "overflow": null,
            "overflow_x": null,
            "overflow_y": null,
            "padding": null,
            "right": null,
            "top": null,
            "visibility": null,
            "width": null
          }
        },
        "60ce270ea7b1433b8222870044f2479f": {
          "model_module": "@jupyter-widgets/controls",
          "model_module_version": "1.5.0",
          "model_name": "ProgressStyleModel",
          "state": {
            "_model_module": "@jupyter-widgets/controls",
            "_model_module_version": "1.5.0",
            "_model_name": "ProgressStyleModel",
            "_view_count": null,
            "_view_module": "@jupyter-widgets/base",
            "_view_module_version": "1.2.0",
            "_view_name": "StyleView",
            "bar_color": null,
            "description_width": ""
          }
        },
        "61040bb0a595452bae2a9af925a9fc88": {
          "model_module": "@jupyter-widgets/controls",
          "model_module_version": "1.5.0",
          "model_name": "HTMLModel",
          "state": {
            "_dom_classes": [],
            "_model_module": "@jupyter-widgets/controls",
            "_model_module_version": "1.5.0",
            "_model_name": "HTMLModel",
            "_view_count": null,
            "_view_module": "@jupyter-widgets/controls",
            "_view_module_version": "1.5.0",
            "_view_name": "HTMLView",
            "description": "",
            "description_tooltip": null,
            "layout": "IPY_MODEL_96ed79bdb3ad4975b0f0f8b4077568e4",
            "placeholder": "​",
            "style": "IPY_MODEL_1e2a5a05e95c499aae76f75f3f98461c",
            "value": "Downloading (…)cial_tokens_map.json: 100%"
          }
        },
        "6196b6c8b73749108ad395455c546365": {
          "model_module": "@jupyter-widgets/base",
          "model_module_version": "1.2.0",
          "model_name": "LayoutModel",
          "state": {
            "_model_module": "@jupyter-widgets/base",
            "_model_module_version": "1.2.0",
            "_model_name": "LayoutModel",
            "_view_count": null,
            "_view_module": "@jupyter-widgets/base",
            "_view_module_version": "1.2.0",
            "_view_name": "LayoutView",
            "align_content": null,
            "align_items": null,
            "align_self": null,
            "border": null,
            "bottom": null,
            "display": null,
            "flex": null,
            "flex_flow": null,
            "grid_area": null,
            "grid_auto_columns": null,
            "grid_auto_flow": null,
            "grid_auto_rows": null,
            "grid_column": null,
            "grid_gap": null,
            "grid_row": null,
            "grid_template_areas": null,
            "grid_template_columns": null,
            "grid_template_rows": null,
            "height": null,
            "justify_content": null,
            "justify_items": null,
            "left": null,
            "margin": null,
            "max_height": null,
            "max_width": null,
            "min_height": null,
            "min_width": null,
            "object_fit": null,
            "object_position": null,
            "order": null,
            "overflow": null,
            "overflow_x": null,
            "overflow_y": null,
            "padding": null,
            "right": null,
            "top": null,
            "visibility": "hidden",
            "width": null
          }
        },
        "62cc2c9bc39c416ea55f1e7195f6a369": {
          "model_module": "@jupyter-widgets/base",
          "model_module_version": "1.2.0",
          "model_name": "LayoutModel",
          "state": {
            "_model_module": "@jupyter-widgets/base",
            "_model_module_version": "1.2.0",
            "_model_name": "LayoutModel",
            "_view_count": null,
            "_view_module": "@jupyter-widgets/base",
            "_view_module_version": "1.2.0",
            "_view_name": "LayoutView",
            "align_content": null,
            "align_items": null,
            "align_self": null,
            "border": null,
            "bottom": null,
            "display": null,
            "flex": null,
            "flex_flow": null,
            "grid_area": null,
            "grid_auto_columns": null,
            "grid_auto_flow": null,
            "grid_auto_rows": null,
            "grid_column": null,
            "grid_gap": null,
            "grid_row": null,
            "grid_template_areas": null,
            "grid_template_columns": null,
            "grid_template_rows": null,
            "height": null,
            "justify_content": null,
            "justify_items": null,
            "left": null,
            "margin": null,
            "max_height": null,
            "max_width": null,
            "min_height": null,
            "min_width": null,
            "object_fit": null,
            "object_position": null,
            "order": null,
            "overflow": null,
            "overflow_x": null,
            "overflow_y": null,
            "padding": null,
            "right": null,
            "top": null,
            "visibility": null,
            "width": null
          }
        },
        "62ecce505a5b4289b78458eff0a0918b": {
          "model_module": "@jupyter-widgets/base",
          "model_module_version": "1.2.0",
          "model_name": "LayoutModel",
          "state": {
            "_model_module": "@jupyter-widgets/base",
            "_model_module_version": "1.2.0",
            "_model_name": "LayoutModel",
            "_view_count": null,
            "_view_module": "@jupyter-widgets/base",
            "_view_module_version": "1.2.0",
            "_view_name": "LayoutView",
            "align_content": null,
            "align_items": null,
            "align_self": null,
            "border": null,
            "bottom": null,
            "display": null,
            "flex": null,
            "flex_flow": null,
            "grid_area": null,
            "grid_auto_columns": null,
            "grid_auto_flow": null,
            "grid_auto_rows": null,
            "grid_column": null,
            "grid_gap": null,
            "grid_row": null,
            "grid_template_areas": null,
            "grid_template_columns": null,
            "grid_template_rows": null,
            "height": null,
            "justify_content": null,
            "justify_items": null,
            "left": null,
            "margin": null,
            "max_height": null,
            "max_width": null,
            "min_height": null,
            "min_width": null,
            "object_fit": null,
            "object_position": null,
            "order": null,
            "overflow": null,
            "overflow_x": null,
            "overflow_y": null,
            "padding": null,
            "right": null,
            "top": null,
            "visibility": null,
            "width": null
          }
        },
        "6304a7ffb9544defa1a2634a4a84b628": {
          "model_module": "@jupyter-widgets/controls",
          "model_module_version": "1.5.0",
          "model_name": "FloatProgressModel",
          "state": {
            "_dom_classes": [],
            "_model_module": "@jupyter-widgets/controls",
            "_model_module_version": "1.5.0",
            "_model_name": "FloatProgressModel",
            "_view_count": null,
            "_view_module": "@jupyter-widgets/controls",
            "_view_module_version": "1.5.0",
            "_view_name": "ProgressView",
            "bar_style": "success",
            "description": "",
            "description_tooltip": null,
            "layout": "IPY_MODEL_6c8242240f91407084a45a3f9307e80b",
            "max": 6,
            "min": 0,
            "orientation": "horizontal",
            "style": "IPY_MODEL_0bbd2aa4ace54c0aa0f20a87ecd8f9bf",
            "value": 6
          }
        },
        "648549b1150a443393ae61390f3a941a": {
          "model_module": "@jupyter-widgets/controls",
          "model_module_version": "1.5.0",
          "model_name": "DescriptionStyleModel",
          "state": {
            "_model_module": "@jupyter-widgets/controls",
            "_model_module_version": "1.5.0",
            "_model_name": "DescriptionStyleModel",
            "_view_count": null,
            "_view_module": "@jupyter-widgets/base",
            "_view_module_version": "1.2.0",
            "_view_name": "StyleView",
            "description_width": ""
          }
        },
        "64cdb30e662448ba91af1fc6fda9c943": {
          "model_module": "@jupyter-widgets/controls",
          "model_module_version": "1.5.0",
          "model_name": "DescriptionStyleModel",
          "state": {
            "_model_module": "@jupyter-widgets/controls",
            "_model_module_version": "1.5.0",
            "_model_name": "DescriptionStyleModel",
            "_view_count": null,
            "_view_module": "@jupyter-widgets/base",
            "_view_module_version": "1.2.0",
            "_view_name": "StyleView",
            "description_width": ""
          }
        },
        "65eb666921a94adb927635b9c2649ad5": {
          "model_module": "@jupyter-widgets/controls",
          "model_module_version": "1.5.0",
          "model_name": "HBoxModel",
          "state": {
            "_dom_classes": [],
            "_model_module": "@jupyter-widgets/controls",
            "_model_module_version": "1.5.0",
            "_model_name": "HBoxModel",
            "_view_count": null,
            "_view_module": "@jupyter-widgets/controls",
            "_view_module_version": "1.5.0",
            "_view_name": "HBoxView",
            "box_style": "",
            "children": [
              "IPY_MODEL_3a41349944e4478bb23ebbc7ab7e2623",
              "IPY_MODEL_ee82dbb1213f4313943577b447611f0e",
              "IPY_MODEL_4383630c7995424eb745f1b8a9b81c80"
            ],
            "layout": "IPY_MODEL_bb829a315bd5466d88e3eec43329f241"
          }
        },
        "6622594c77124b7784f6507642ad47a8": {
          "model_module": "@jupyter-widgets/base",
          "model_module_version": "1.2.0",
          "model_name": "LayoutModel",
          "state": {
            "_model_module": "@jupyter-widgets/base",
            "_model_module_version": "1.2.0",
            "_model_name": "LayoutModel",
            "_view_count": null,
            "_view_module": "@jupyter-widgets/base",
            "_view_module_version": "1.2.0",
            "_view_name": "LayoutView",
            "align_content": null,
            "align_items": null,
            "align_self": null,
            "border": null,
            "bottom": null,
            "display": null,
            "flex": null,
            "flex_flow": null,
            "grid_area": null,
            "grid_auto_columns": null,
            "grid_auto_flow": null,
            "grid_auto_rows": null,
            "grid_column": null,
            "grid_gap": null,
            "grid_row": null,
            "grid_template_areas": null,
            "grid_template_columns": null,
            "grid_template_rows": null,
            "height": null,
            "justify_content": null,
            "justify_items": null,
            "left": null,
            "margin": null,
            "max_height": null,
            "max_width": null,
            "min_height": null,
            "min_width": null,
            "object_fit": null,
            "object_position": null,
            "order": null,
            "overflow": null,
            "overflow_x": null,
            "overflow_y": null,
            "padding": null,
            "right": null,
            "top": null,
            "visibility": null,
            "width": null
          }
        },
        "672fb51f26df4420b4a9098a6174422d": {
          "model_module": "@jupyter-widgets/controls",
          "model_module_version": "1.5.0",
          "model_name": "DescriptionStyleModel",
          "state": {
            "_model_module": "@jupyter-widgets/controls",
            "_model_module_version": "1.5.0",
            "_model_name": "DescriptionStyleModel",
            "_view_count": null,
            "_view_module": "@jupyter-widgets/base",
            "_view_module_version": "1.2.0",
            "_view_name": "StyleView",
            "description_width": ""
          }
        },
        "6939f652e72e40049164518ffc2268ca": {
          "model_module": "@jupyter-widgets/base",
          "model_module_version": "1.2.0",
          "model_name": "LayoutModel",
          "state": {
            "_model_module": "@jupyter-widgets/base",
            "_model_module_version": "1.2.0",
            "_model_name": "LayoutModel",
            "_view_count": null,
            "_view_module": "@jupyter-widgets/base",
            "_view_module_version": "1.2.0",
            "_view_name": "LayoutView",
            "align_content": null,
            "align_items": null,
            "align_self": null,
            "border": null,
            "bottom": null,
            "display": null,
            "flex": null,
            "flex_flow": null,
            "grid_area": null,
            "grid_auto_columns": null,
            "grid_auto_flow": null,
            "grid_auto_rows": null,
            "grid_column": null,
            "grid_gap": null,
            "grid_row": null,
            "grid_template_areas": null,
            "grid_template_columns": null,
            "grid_template_rows": null,
            "height": null,
            "justify_content": null,
            "justify_items": null,
            "left": null,
            "margin": null,
            "max_height": null,
            "max_width": null,
            "min_height": null,
            "min_width": null,
            "object_fit": null,
            "object_position": null,
            "order": null,
            "overflow": null,
            "overflow_x": null,
            "overflow_y": null,
            "padding": null,
            "right": null,
            "top": null,
            "visibility": null,
            "width": null
          }
        },
        "69653e2bdf53454bab5cc7b245fc34b3": {
          "model_module": "@jupyter-widgets/controls",
          "model_module_version": "1.5.0",
          "model_name": "DescriptionStyleModel",
          "state": {
            "_model_module": "@jupyter-widgets/controls",
            "_model_module_version": "1.5.0",
            "_model_name": "DescriptionStyleModel",
            "_view_count": null,
            "_view_module": "@jupyter-widgets/base",
            "_view_module_version": "1.2.0",
            "_view_name": "StyleView",
            "description_width": ""
          }
        },
        "69edc12207fd43a484c330c2e27dc82f": {
          "model_module": "@jupyter-widgets/controls",
          "model_module_version": "1.5.0",
          "model_name": "HBoxModel",
          "state": {
            "_dom_classes": [],
            "_model_module": "@jupyter-widgets/controls",
            "_model_module_version": "1.5.0",
            "_model_name": "HBoxModel",
            "_view_count": null,
            "_view_module": "@jupyter-widgets/controls",
            "_view_module_version": "1.5.0",
            "_view_name": "HBoxView",
            "box_style": "",
            "children": [
              "IPY_MODEL_8d6a64357ae74392a9d2b07c837e2ddc",
              "IPY_MODEL_a4c740c141344ae5954b89a0f54f48bb",
              "IPY_MODEL_75eccd954bca4c62a32546375f02acc3"
            ],
            "layout": "IPY_MODEL_c90e54bd2a9048c5b9e30c9392efa078"
          }
        },
        "69f6a031dcc04f8b8c0e964098416eb6": {
          "model_module": "@jupyter-widgets/controls",
          "model_module_version": "1.5.0",
          "model_name": "DescriptionStyleModel",
          "state": {
            "_model_module": "@jupyter-widgets/controls",
            "_model_module_version": "1.5.0",
            "_model_name": "DescriptionStyleModel",
            "_view_count": null,
            "_view_module": "@jupyter-widgets/base",
            "_view_module_version": "1.2.0",
            "_view_name": "StyleView",
            "description_width": ""
          }
        },
        "6a1852daf3a74a9cb3f217236c9ca207": {
          "model_module": "@jupyter-widgets/base",
          "model_module_version": "1.2.0",
          "model_name": "LayoutModel",
          "state": {
            "_model_module": "@jupyter-widgets/base",
            "_model_module_version": "1.2.0",
            "_model_name": "LayoutModel",
            "_view_count": null,
            "_view_module": "@jupyter-widgets/base",
            "_view_module_version": "1.2.0",
            "_view_name": "LayoutView",
            "align_content": null,
            "align_items": null,
            "align_self": null,
            "border": null,
            "bottom": null,
            "display": null,
            "flex": null,
            "flex_flow": null,
            "grid_area": null,
            "grid_auto_columns": null,
            "grid_auto_flow": null,
            "grid_auto_rows": null,
            "grid_column": null,
            "grid_gap": null,
            "grid_row": null,
            "grid_template_areas": null,
            "grid_template_columns": null,
            "grid_template_rows": null,
            "height": null,
            "justify_content": null,
            "justify_items": null,
            "left": null,
            "margin": null,
            "max_height": null,
            "max_width": null,
            "min_height": null,
            "min_width": null,
            "object_fit": null,
            "object_position": null,
            "order": null,
            "overflow": null,
            "overflow_x": null,
            "overflow_y": null,
            "padding": null,
            "right": null,
            "top": null,
            "visibility": null,
            "width": null
          }
        },
        "6b0d041a84fe4b90aa0aef92d094c68b": {
          "model_module": "@jupyter-widgets/base",
          "model_module_version": "1.2.0",
          "model_name": "LayoutModel",
          "state": {
            "_model_module": "@jupyter-widgets/base",
            "_model_module_version": "1.2.0",
            "_model_name": "LayoutModel",
            "_view_count": null,
            "_view_module": "@jupyter-widgets/base",
            "_view_module_version": "1.2.0",
            "_view_name": "LayoutView",
            "align_content": null,
            "align_items": null,
            "align_self": null,
            "border": null,
            "bottom": null,
            "display": null,
            "flex": null,
            "flex_flow": null,
            "grid_area": null,
            "grid_auto_columns": null,
            "grid_auto_flow": null,
            "grid_auto_rows": null,
            "grid_column": null,
            "grid_gap": null,
            "grid_row": null,
            "grid_template_areas": null,
            "grid_template_columns": null,
            "grid_template_rows": null,
            "height": null,
            "justify_content": null,
            "justify_items": null,
            "left": null,
            "margin": null,
            "max_height": null,
            "max_width": null,
            "min_height": null,
            "min_width": null,
            "object_fit": null,
            "object_position": null,
            "order": null,
            "overflow": null,
            "overflow_x": null,
            "overflow_y": null,
            "padding": null,
            "right": null,
            "top": null,
            "visibility": null,
            "width": null
          }
        },
        "6c8242240f91407084a45a3f9307e80b": {
          "model_module": "@jupyter-widgets/base",
          "model_module_version": "1.2.0",
          "model_name": "LayoutModel",
          "state": {
            "_model_module": "@jupyter-widgets/base",
            "_model_module_version": "1.2.0",
            "_model_name": "LayoutModel",
            "_view_count": null,
            "_view_module": "@jupyter-widgets/base",
            "_view_module_version": "1.2.0",
            "_view_name": "LayoutView",
            "align_content": null,
            "align_items": null,
            "align_self": null,
            "border": null,
            "bottom": null,
            "display": null,
            "flex": null,
            "flex_flow": null,
            "grid_area": null,
            "grid_auto_columns": null,
            "grid_auto_flow": null,
            "grid_auto_rows": null,
            "grid_column": null,
            "grid_gap": null,
            "grid_row": null,
            "grid_template_areas": null,
            "grid_template_columns": null,
            "grid_template_rows": null,
            "height": null,
            "justify_content": null,
            "justify_items": null,
            "left": null,
            "margin": null,
            "max_height": null,
            "max_width": null,
            "min_height": null,
            "min_width": null,
            "object_fit": null,
            "object_position": null,
            "order": null,
            "overflow": null,
            "overflow_x": null,
            "overflow_y": null,
            "padding": null,
            "right": null,
            "top": null,
            "visibility": null,
            "width": null
          }
        },
        "6cbd1edcfd4b455abab6385674820f37": {
          "model_module": "@jupyter-widgets/base",
          "model_module_version": "1.2.0",
          "model_name": "LayoutModel",
          "state": {
            "_model_module": "@jupyter-widgets/base",
            "_model_module_version": "1.2.0",
            "_model_name": "LayoutModel",
            "_view_count": null,
            "_view_module": "@jupyter-widgets/base",
            "_view_module_version": "1.2.0",
            "_view_name": "LayoutView",
            "align_content": null,
            "align_items": null,
            "align_self": null,
            "border": null,
            "bottom": null,
            "display": null,
            "flex": null,
            "flex_flow": null,
            "grid_area": null,
            "grid_auto_columns": null,
            "grid_auto_flow": null,
            "grid_auto_rows": null,
            "grid_column": null,
            "grid_gap": null,
            "grid_row": null,
            "grid_template_areas": null,
            "grid_template_columns": null,
            "grid_template_rows": null,
            "height": null,
            "justify_content": null,
            "justify_items": null,
            "left": null,
            "margin": null,
            "max_height": null,
            "max_width": null,
            "min_height": null,
            "min_width": null,
            "object_fit": null,
            "object_position": null,
            "order": null,
            "overflow": null,
            "overflow_x": null,
            "overflow_y": null,
            "padding": null,
            "right": null,
            "top": null,
            "visibility": null,
            "width": null
          }
        },
        "6cd58c53a90e4cca90fa96582a104745": {
          "model_module": "@jupyter-widgets/base",
          "model_module_version": "1.2.0",
          "model_name": "LayoutModel",
          "state": {
            "_model_module": "@jupyter-widgets/base",
            "_model_module_version": "1.2.0",
            "_model_name": "LayoutModel",
            "_view_count": null,
            "_view_module": "@jupyter-widgets/base",
            "_view_module_version": "1.2.0",
            "_view_name": "LayoutView",
            "align_content": null,
            "align_items": null,
            "align_self": null,
            "border": null,
            "bottom": null,
            "display": null,
            "flex": null,
            "flex_flow": null,
            "grid_area": null,
            "grid_auto_columns": null,
            "grid_auto_flow": null,
            "grid_auto_rows": null,
            "grid_column": null,
            "grid_gap": null,
            "grid_row": null,
            "grid_template_areas": null,
            "grid_template_columns": null,
            "grid_template_rows": null,
            "height": null,
            "justify_content": null,
            "justify_items": null,
            "left": null,
            "margin": null,
            "max_height": null,
            "max_width": null,
            "min_height": null,
            "min_width": null,
            "object_fit": null,
            "object_position": null,
            "order": null,
            "overflow": null,
            "overflow_x": null,
            "overflow_y": null,
            "padding": null,
            "right": null,
            "top": null,
            "visibility": "hidden",
            "width": null
          }
        },
        "6d5fa06b75aa4f09a33b10d50a041421": {
          "model_module": "@jupyter-widgets/controls",
          "model_module_version": "1.5.0",
          "model_name": "DescriptionStyleModel",
          "state": {
            "_model_module": "@jupyter-widgets/controls",
            "_model_module_version": "1.5.0",
            "_model_name": "DescriptionStyleModel",
            "_view_count": null,
            "_view_module": "@jupyter-widgets/base",
            "_view_module_version": "1.2.0",
            "_view_name": "StyleView",
            "description_width": ""
          }
        },
        "6da24b62012e449dbd88fb0472f805bd": {
          "model_module": "@jupyter-widgets/controls",
          "model_module_version": "1.5.0",
          "model_name": "ProgressStyleModel",
          "state": {
            "_model_module": "@jupyter-widgets/controls",
            "_model_module_version": "1.5.0",
            "_model_name": "ProgressStyleModel",
            "_view_count": null,
            "_view_module": "@jupyter-widgets/base",
            "_view_module_version": "1.2.0",
            "_view_name": "StyleView",
            "bar_color": null,
            "description_width": ""
          }
        },
        "6db90a7d87c444d9bc5b84ac43759203": {
          "model_module": "@jupyter-widgets/base",
          "model_module_version": "1.2.0",
          "model_name": "LayoutModel",
          "state": {
            "_model_module": "@jupyter-widgets/base",
            "_model_module_version": "1.2.0",
            "_model_name": "LayoutModel",
            "_view_count": null,
            "_view_module": "@jupyter-widgets/base",
            "_view_module_version": "1.2.0",
            "_view_name": "LayoutView",
            "align_content": null,
            "align_items": null,
            "align_self": null,
            "border": null,
            "bottom": null,
            "display": null,
            "flex": null,
            "flex_flow": null,
            "grid_area": null,
            "grid_auto_columns": null,
            "grid_auto_flow": null,
            "grid_auto_rows": null,
            "grid_column": null,
            "grid_gap": null,
            "grid_row": null,
            "grid_template_areas": null,
            "grid_template_columns": null,
            "grid_template_rows": null,
            "height": null,
            "justify_content": null,
            "justify_items": null,
            "left": null,
            "margin": null,
            "max_height": null,
            "max_width": null,
            "min_height": null,
            "min_width": null,
            "object_fit": null,
            "object_position": null,
            "order": null,
            "overflow": null,
            "overflow_x": null,
            "overflow_y": null,
            "padding": null,
            "right": null,
            "top": null,
            "visibility": null,
            "width": null
          }
        },
        "6e0f86f24a8d44d49db28757091c0b0c": {
          "model_module": "@jupyter-widgets/base",
          "model_module_version": "1.2.0",
          "model_name": "LayoutModel",
          "state": {
            "_model_module": "@jupyter-widgets/base",
            "_model_module_version": "1.2.0",
            "_model_name": "LayoutModel",
            "_view_count": null,
            "_view_module": "@jupyter-widgets/base",
            "_view_module_version": "1.2.0",
            "_view_name": "LayoutView",
            "align_content": null,
            "align_items": null,
            "align_self": null,
            "border": null,
            "bottom": null,
            "display": null,
            "flex": null,
            "flex_flow": null,
            "grid_area": null,
            "grid_auto_columns": null,
            "grid_auto_flow": null,
            "grid_auto_rows": null,
            "grid_column": null,
            "grid_gap": null,
            "grid_row": null,
            "grid_template_areas": null,
            "grid_template_columns": null,
            "grid_template_rows": null,
            "height": null,
            "justify_content": null,
            "justify_items": null,
            "left": null,
            "margin": null,
            "max_height": null,
            "max_width": null,
            "min_height": null,
            "min_width": null,
            "object_fit": null,
            "object_position": null,
            "order": null,
            "overflow": null,
            "overflow_x": null,
            "overflow_y": null,
            "padding": null,
            "right": null,
            "top": null,
            "visibility": null,
            "width": null
          }
        },
        "6e1383d30e014a1c99692f2ca786e232": {
          "model_module": "@jupyter-widgets/controls",
          "model_module_version": "1.5.0",
          "model_name": "DescriptionStyleModel",
          "state": {
            "_model_module": "@jupyter-widgets/controls",
            "_model_module_version": "1.5.0",
            "_model_name": "DescriptionStyleModel",
            "_view_count": null,
            "_view_module": "@jupyter-widgets/base",
            "_view_module_version": "1.2.0",
            "_view_name": "StyleView",
            "description_width": ""
          }
        },
        "6e29030189ab49fd93c1ad5ce65be6e9": {
          "model_module": "@jupyter-widgets/base",
          "model_module_version": "1.2.0",
          "model_name": "LayoutModel",
          "state": {
            "_model_module": "@jupyter-widgets/base",
            "_model_module_version": "1.2.0",
            "_model_name": "LayoutModel",
            "_view_count": null,
            "_view_module": "@jupyter-widgets/base",
            "_view_module_version": "1.2.0",
            "_view_name": "LayoutView",
            "align_content": null,
            "align_items": null,
            "align_self": null,
            "border": null,
            "bottom": null,
            "display": null,
            "flex": null,
            "flex_flow": null,
            "grid_area": null,
            "grid_auto_columns": null,
            "grid_auto_flow": null,
            "grid_auto_rows": null,
            "grid_column": null,
            "grid_gap": null,
            "grid_row": null,
            "grid_template_areas": null,
            "grid_template_columns": null,
            "grid_template_rows": null,
            "height": null,
            "justify_content": null,
            "justify_items": null,
            "left": null,
            "margin": null,
            "max_height": null,
            "max_width": null,
            "min_height": null,
            "min_width": null,
            "object_fit": null,
            "object_position": null,
            "order": null,
            "overflow": null,
            "overflow_x": null,
            "overflow_y": null,
            "padding": null,
            "right": null,
            "top": null,
            "visibility": null,
            "width": null
          }
        },
        "6f3d053d8a65471a8e97725fe847251d": {
          "model_module": "@jupyter-widgets/controls",
          "model_module_version": "1.5.0",
          "model_name": "HTMLModel",
          "state": {
            "_dom_classes": [],
            "_model_module": "@jupyter-widgets/controls",
            "_model_module_version": "1.5.0",
            "_model_name": "HTMLModel",
            "_view_count": null,
            "_view_module": "@jupyter-widgets/controls",
            "_view_module_version": "1.5.0",
            "_view_name": "HTMLView",
            "description": "",
            "description_tooltip": null,
            "layout": "IPY_MODEL_3fee4f5fa36c4bcba29160938af239d2",
            "placeholder": "​",
            "style": "IPY_MODEL_a8e2d33eecd74500a8060a65f20cd9aa",
            "value": "Downloading (…)lve/main/config.json: 100%"
          }
        },
        "6f3d27371912472eba195296e9643e85": {
          "model_module": "@jupyter-widgets/controls",
          "model_module_version": "1.5.0",
          "model_name": "HTMLModel",
          "state": {
            "_dom_classes": [],
            "_model_module": "@jupyter-widgets/controls",
            "_model_module_version": "1.5.0",
            "_model_name": "HTMLModel",
            "_view_count": null,
            "_view_module": "@jupyter-widgets/controls",
            "_view_module_version": "1.5.0",
            "_view_name": "HTMLView",
            "description": "",
            "description_tooltip": null,
            "layout": "IPY_MODEL_b4ed69077cbb436fa6ed1ba63c91f5c8",
            "placeholder": "​",
            "style": "IPY_MODEL_127832dfe92a427f901bdee91bbc33e3",
            "value": "Downloading (…)olve/main/vocab.json: 100%"
          }
        },
        "7116691c161d476e9554c4e373679f69": {
          "model_module": "@jupyter-widgets/controls",
          "model_module_version": "1.5.0",
          "model_name": "HTMLModel",
          "state": {
            "_dom_classes": [],
            "_model_module": "@jupyter-widgets/controls",
            "_model_module_version": "1.5.0",
            "_model_name": "HTMLModel",
            "_view_count": null,
            "_view_module": "@jupyter-widgets/controls",
            "_view_module_version": "1.5.0",
            "_view_name": "HTMLView",
            "description": "",
            "description_tooltip": null,
            "layout": "IPY_MODEL_f525b53ad62c4676bdfe60a6150e95bf",
            "placeholder": "​",
            "style": "IPY_MODEL_b9ecc9e0e78d44c3890b7265382c2687",
            "value": "100%"
          }
        },
        "72ec1fd5e394465eb5bba13320f298ba": {
          "model_module": "@jupyter-widgets/controls",
          "model_module_version": "1.5.0",
          "model_name": "DescriptionStyleModel",
          "state": {
            "_model_module": "@jupyter-widgets/controls",
            "_model_module_version": "1.5.0",
            "_model_name": "DescriptionStyleModel",
            "_view_count": null,
            "_view_module": "@jupyter-widgets/base",
            "_view_module_version": "1.2.0",
            "_view_name": "StyleView",
            "description_width": ""
          }
        },
        "7340db89fcc0426b8b3e2eba5390b3b1": {
          "model_module": "@jupyter-widgets/controls",
          "model_module_version": "1.5.0",
          "model_name": "HBoxModel",
          "state": {
            "_dom_classes": [],
            "_model_module": "@jupyter-widgets/controls",
            "_model_module_version": "1.5.0",
            "_model_name": "HBoxModel",
            "_view_count": null,
            "_view_module": "@jupyter-widgets/controls",
            "_view_module_version": "1.5.0",
            "_view_name": "HBoxView",
            "box_style": "",
            "children": [
              "IPY_MODEL_10eb11402f9b4e8e97be62fca972863e",
              "IPY_MODEL_969c24c6694742f8a75255b4a0978789",
              "IPY_MODEL_9eff37ba85fb46f6b26ee0924f0b4b21"
            ],
            "layout": "IPY_MODEL_b00adade6eb24098ba69f9ddd2eb62e5"
          }
        },
        "74502b1ae1e745028352b643dabe85e9": {
          "model_module": "@jupyter-widgets/base",
          "model_module_version": "1.2.0",
          "model_name": "LayoutModel",
          "state": {
            "_model_module": "@jupyter-widgets/base",
            "_model_module_version": "1.2.0",
            "_model_name": "LayoutModel",
            "_view_count": null,
            "_view_module": "@jupyter-widgets/base",
            "_view_module_version": "1.2.0",
            "_view_name": "LayoutView",
            "align_content": null,
            "align_items": null,
            "align_self": null,
            "border": null,
            "bottom": null,
            "display": null,
            "flex": null,
            "flex_flow": null,
            "grid_area": null,
            "grid_auto_columns": null,
            "grid_auto_flow": null,
            "grid_auto_rows": null,
            "grid_column": null,
            "grid_gap": null,
            "grid_row": null,
            "grid_template_areas": null,
            "grid_template_columns": null,
            "grid_template_rows": null,
            "height": null,
            "justify_content": null,
            "justify_items": null,
            "left": null,
            "margin": null,
            "max_height": null,
            "max_width": null,
            "min_height": null,
            "min_width": null,
            "object_fit": null,
            "object_position": null,
            "order": null,
            "overflow": null,
            "overflow_x": null,
            "overflow_y": null,
            "padding": null,
            "right": null,
            "top": null,
            "visibility": null,
            "width": null
          }
        },
        "74ba3a3e82c243b18871ebe06d12f767": {
          "model_module": "@jupyter-widgets/base",
          "model_module_version": "1.2.0",
          "model_name": "LayoutModel",
          "state": {
            "_model_module": "@jupyter-widgets/base",
            "_model_module_version": "1.2.0",
            "_model_name": "LayoutModel",
            "_view_count": null,
            "_view_module": "@jupyter-widgets/base",
            "_view_module_version": "1.2.0",
            "_view_name": "LayoutView",
            "align_content": null,
            "align_items": null,
            "align_self": null,
            "border": null,
            "bottom": null,
            "display": null,
            "flex": null,
            "flex_flow": null,
            "grid_area": null,
            "grid_auto_columns": null,
            "grid_auto_flow": null,
            "grid_auto_rows": null,
            "grid_column": null,
            "grid_gap": null,
            "grid_row": null,
            "grid_template_areas": null,
            "grid_template_columns": null,
            "grid_template_rows": null,
            "height": null,
            "justify_content": null,
            "justify_items": null,
            "left": null,
            "margin": null,
            "max_height": null,
            "max_width": null,
            "min_height": null,
            "min_width": null,
            "object_fit": null,
            "object_position": null,
            "order": null,
            "overflow": null,
            "overflow_x": null,
            "overflow_y": null,
            "padding": null,
            "right": null,
            "top": null,
            "visibility": "hidden",
            "width": null
          }
        },
        "74d732ac00e847489d18153ea3a3d5a8": {
          "model_module": "@jupyter-widgets/controls",
          "model_module_version": "1.5.0",
          "model_name": "ProgressStyleModel",
          "state": {
            "_model_module": "@jupyter-widgets/controls",
            "_model_module_version": "1.5.0",
            "_model_name": "ProgressStyleModel",
            "_view_count": null,
            "_view_module": "@jupyter-widgets/base",
            "_view_module_version": "1.2.0",
            "_view_name": "StyleView",
            "bar_color": null,
            "description_width": ""
          }
        },
        "759fa8e88a7144f7a73879c088c798a1": {
          "model_module": "@jupyter-widgets/controls",
          "model_module_version": "1.5.0",
          "model_name": "HTMLModel",
          "state": {
            "_dom_classes": [],
            "_model_module": "@jupyter-widgets/controls",
            "_model_module_version": "1.5.0",
            "_model_name": "HTMLModel",
            "_view_count": null,
            "_view_module": "@jupyter-widgets/controls",
            "_view_module_version": "1.5.0",
            "_view_name": "HTMLView",
            "description": "",
            "description_tooltip": null,
            "layout": "IPY_MODEL_6e0f86f24a8d44d49db28757091c0b0c",
            "placeholder": "​",
            "style": "IPY_MODEL_e39d468bdc1a4c9380789b39864d6bc9",
            "value": "Downloading pytorch_model.bin: 100%"
          }
        },
        "75eccd954bca4c62a32546375f02acc3": {
          "model_module": "@jupyter-widgets/controls",
          "model_module_version": "1.5.0",
          "model_name": "HTMLModel",
          "state": {
            "_dom_classes": [],
            "_model_module": "@jupyter-widgets/controls",
            "_model_module_version": "1.5.0",
            "_model_name": "HTMLModel",
            "_view_count": null,
            "_view_module": "@jupyter-widgets/controls",
            "_view_module_version": "1.5.0",
            "_view_name": "HTMLView",
            "description": "",
            "description_tooltip": null,
            "layout": "IPY_MODEL_0f923a294ae348659d4c754baa341abe",
            "placeholder": "​",
            "style": "IPY_MODEL_4d2bf355b56540c7a3748dbd92a0c3cb",
            "value": " 6/6 [00:01&lt;00:00,  3.15it/s]"
          }
        },
        "790ca69f9fde4798a6d34dc07c11e16e": {
          "model_module": "@jupyter-widgets/controls",
          "model_module_version": "1.5.0",
          "model_name": "FloatProgressModel",
          "state": {
            "_dom_classes": [],
            "_model_module": "@jupyter-widgets/controls",
            "_model_module_version": "1.5.0",
            "_model_name": "FloatProgressModel",
            "_view_count": null,
            "_view_module": "@jupyter-widgets/controls",
            "_view_module_version": "1.5.0",
            "_view_name": "ProgressView",
            "bar_style": "success",
            "description": "",
            "description_tooltip": null,
            "layout": "IPY_MODEL_e2b50379333b409c9e95dd1bd953cfa8",
            "max": 349,
            "min": 0,
            "orientation": "horizontal",
            "style": "IPY_MODEL_c667e4ee08674556822476d98e23ff2b",
            "value": 349
          }
        },
        "7a67e326935e4da6aef486f5f6e92b76": {
          "model_module": "@jupyter-widgets/base",
          "model_module_version": "1.2.0",
          "model_name": "LayoutModel",
          "state": {
            "_model_module": "@jupyter-widgets/base",
            "_model_module_version": "1.2.0",
            "_model_name": "LayoutModel",
            "_view_count": null,
            "_view_module": "@jupyter-widgets/base",
            "_view_module_version": "1.2.0",
            "_view_name": "LayoutView",
            "align_content": null,
            "align_items": null,
            "align_self": null,
            "border": null,
            "bottom": null,
            "display": null,
            "flex": null,
            "flex_flow": null,
            "grid_area": null,
            "grid_auto_columns": null,
            "grid_auto_flow": null,
            "grid_auto_rows": null,
            "grid_column": null,
            "grid_gap": null,
            "grid_row": null,
            "grid_template_areas": null,
            "grid_template_columns": null,
            "grid_template_rows": null,
            "height": null,
            "justify_content": null,
            "justify_items": null,
            "left": null,
            "margin": null,
            "max_height": null,
            "max_width": null,
            "min_height": null,
            "min_width": null,
            "object_fit": null,
            "object_position": null,
            "order": null,
            "overflow": null,
            "overflow_x": null,
            "overflow_y": null,
            "padding": null,
            "right": null,
            "top": null,
            "visibility": null,
            "width": null
          }
        },
        "7a81a3e6c37b4b409d39f895b331f75e": {
          "model_module": "@jupyter-widgets/controls",
          "model_module_version": "1.5.0",
          "model_name": "HTMLModel",
          "state": {
            "_dom_classes": [],
            "_model_module": "@jupyter-widgets/controls",
            "_model_module_version": "1.5.0",
            "_model_name": "HTMLModel",
            "_view_count": null,
            "_view_module": "@jupyter-widgets/controls",
            "_view_module_version": "1.5.0",
            "_view_name": "HTMLView",
            "description": "",
            "description_tooltip": null,
            "layout": "IPY_MODEL_a1623dba9e794a9ea32aef9d7bbad53d",
            "placeholder": "​",
            "style": "IPY_MODEL_69653e2bdf53454bab5cc7b245fc34b3",
            "value": "Downloading data: "
          }
        },
        "7b0948ee72ae4af9867db45a8bc9ba25": {
          "model_module": "@jupyter-widgets/controls",
          "model_module_version": "1.5.0",
          "model_name": "HTMLModel",
          "state": {
            "_dom_classes": [],
            "_model_module": "@jupyter-widgets/controls",
            "_model_module_version": "1.5.0",
            "_model_name": "HTMLModel",
            "_view_count": null,
            "_view_module": "@jupyter-widgets/controls",
            "_view_module_version": "1.5.0",
            "_view_name": "HTMLView",
            "description": "",
            "description_tooltip": null,
            "layout": "IPY_MODEL_074ac0bda02e4131936a26006e656b71",
            "placeholder": "​",
            "style": "IPY_MODEL_4a6264671c77407382c605db8c32e983",
            "value": " 860/860 [00:00&lt;00:00, 5295.43 examples/s]"
          }
        },
        "7b0d634532464b23acd16aa470bb0e90": {
          "model_module": "@jupyter-widgets/controls",
          "model_module_version": "1.5.0",
          "model_name": "FloatProgressModel",
          "state": {
            "_dom_classes": [],
            "_model_module": "@jupyter-widgets/controls",
            "_model_module_version": "1.5.0",
            "_model_name": "FloatProgressModel",
            "_view_count": null,
            "_view_module": "@jupyter-widgets/controls",
            "_view_module_version": "1.5.0",
            "_view_name": "ProgressView",
            "bar_style": "success",
            "description": "",
            "description_tooltip": null,
            "layout": "IPY_MODEL_4964786d527c468fbe03cd9d9d78d51e",
            "max": 53,
            "min": 0,
            "orientation": "horizontal",
            "style": "IPY_MODEL_6da24b62012e449dbd88fb0472f805bd",
            "value": 53
          }
        },
        "7b878f452d3043789043084314f40796": {
          "model_module": "@jupyter-widgets/base",
          "model_module_version": "1.2.0",
          "model_name": "LayoutModel",
          "state": {
            "_model_module": "@jupyter-widgets/base",
            "_model_module_version": "1.2.0",
            "_model_name": "LayoutModel",
            "_view_count": null,
            "_view_module": "@jupyter-widgets/base",
            "_view_module_version": "1.2.0",
            "_view_name": "LayoutView",
            "align_content": null,
            "align_items": null,
            "align_self": null,
            "border": null,
            "bottom": null,
            "display": null,
            "flex": null,
            "flex_flow": null,
            "grid_area": null,
            "grid_auto_columns": null,
            "grid_auto_flow": null,
            "grid_auto_rows": null,
            "grid_column": null,
            "grid_gap": null,
            "grid_row": null,
            "grid_template_areas": null,
            "grid_template_columns": null,
            "grid_template_rows": null,
            "height": null,
            "justify_content": null,
            "justify_items": null,
            "left": null,
            "margin": null,
            "max_height": null,
            "max_width": null,
            "min_height": null,
            "min_width": null,
            "object_fit": null,
            "object_position": null,
            "order": null,
            "overflow": null,
            "overflow_x": null,
            "overflow_y": null,
            "padding": null,
            "right": null,
            "top": null,
            "visibility": null,
            "width": null
          }
        },
        "7cdc321c44e440e9824981b9fce36279": {
          "model_module": "@jupyter-widgets/base",
          "model_module_version": "1.2.0",
          "model_name": "LayoutModel",
          "state": {
            "_model_module": "@jupyter-widgets/base",
            "_model_module_version": "1.2.0",
            "_model_name": "LayoutModel",
            "_view_count": null,
            "_view_module": "@jupyter-widgets/base",
            "_view_module_version": "1.2.0",
            "_view_name": "LayoutView",
            "align_content": null,
            "align_items": null,
            "align_self": null,
            "border": null,
            "bottom": null,
            "display": null,
            "flex": null,
            "flex_flow": null,
            "grid_area": null,
            "grid_auto_columns": null,
            "grid_auto_flow": null,
            "grid_auto_rows": null,
            "grid_column": null,
            "grid_gap": null,
            "grid_row": null,
            "grid_template_areas": null,
            "grid_template_columns": null,
            "grid_template_rows": null,
            "height": null,
            "justify_content": null,
            "justify_items": null,
            "left": null,
            "margin": null,
            "max_height": null,
            "max_width": null,
            "min_height": null,
            "min_width": null,
            "object_fit": null,
            "object_position": null,
            "order": null,
            "overflow": null,
            "overflow_x": null,
            "overflow_y": null,
            "padding": null,
            "right": null,
            "top": null,
            "visibility": null,
            "width": null
          }
        },
        "7f24a33efed9449d907c8e415b4e5fd3": {
          "model_module": "@jupyter-widgets/controls",
          "model_module_version": "1.5.0",
          "model_name": "DescriptionStyleModel",
          "state": {
            "_model_module": "@jupyter-widgets/controls",
            "_model_module_version": "1.5.0",
            "_model_name": "DescriptionStyleModel",
            "_view_count": null,
            "_view_module": "@jupyter-widgets/base",
            "_view_module_version": "1.2.0",
            "_view_name": "StyleView",
            "description_width": ""
          }
        },
        "7fb7011f4aae4e8c86a51d12afc248cc": {
          "model_module": "@jupyter-widgets/base",
          "model_module_version": "1.2.0",
          "model_name": "LayoutModel",
          "state": {
            "_model_module": "@jupyter-widgets/base",
            "_model_module_version": "1.2.0",
            "_model_name": "LayoutModel",
            "_view_count": null,
            "_view_module": "@jupyter-widgets/base",
            "_view_module_version": "1.2.0",
            "_view_name": "LayoutView",
            "align_content": null,
            "align_items": null,
            "align_self": null,
            "border": null,
            "bottom": null,
            "display": null,
            "flex": null,
            "flex_flow": null,
            "grid_area": null,
            "grid_auto_columns": null,
            "grid_auto_flow": null,
            "grid_auto_rows": null,
            "grid_column": null,
            "grid_gap": null,
            "grid_row": null,
            "grid_template_areas": null,
            "grid_template_columns": null,
            "grid_template_rows": null,
            "height": null,
            "justify_content": null,
            "justify_items": null,
            "left": null,
            "margin": null,
            "max_height": null,
            "max_width": null,
            "min_height": null,
            "min_width": null,
            "object_fit": null,
            "object_position": null,
            "order": null,
            "overflow": null,
            "overflow_x": null,
            "overflow_y": null,
            "padding": null,
            "right": null,
            "top": null,
            "visibility": null,
            "width": null
          }
        },
        "7fc5818bdedb4937b9699746504a86eb": {
          "model_module": "@jupyter-widgets/base",
          "model_module_version": "1.2.0",
          "model_name": "LayoutModel",
          "state": {
            "_model_module": "@jupyter-widgets/base",
            "_model_module_version": "1.2.0",
            "_model_name": "LayoutModel",
            "_view_count": null,
            "_view_module": "@jupyter-widgets/base",
            "_view_module_version": "1.2.0",
            "_view_name": "LayoutView",
            "align_content": null,
            "align_items": null,
            "align_self": null,
            "border": null,
            "bottom": null,
            "display": null,
            "flex": null,
            "flex_flow": null,
            "grid_area": null,
            "grid_auto_columns": null,
            "grid_auto_flow": null,
            "grid_auto_rows": null,
            "grid_column": null,
            "grid_gap": null,
            "grid_row": null,
            "grid_template_areas": null,
            "grid_template_columns": null,
            "grid_template_rows": null,
            "height": null,
            "justify_content": null,
            "justify_items": null,
            "left": null,
            "margin": null,
            "max_height": null,
            "max_width": null,
            "min_height": null,
            "min_width": null,
            "object_fit": null,
            "object_position": null,
            "order": null,
            "overflow": null,
            "overflow_x": null,
            "overflow_y": null,
            "padding": null,
            "right": null,
            "top": null,
            "visibility": null,
            "width": null
          }
        },
        "7fcafd8553754b6cbad0c2a8b4fd1d02": {
          "model_module": "@jupyter-widgets/base",
          "model_module_version": "1.2.0",
          "model_name": "LayoutModel",
          "state": {
            "_model_module": "@jupyter-widgets/base",
            "_model_module_version": "1.2.0",
            "_model_name": "LayoutModel",
            "_view_count": null,
            "_view_module": "@jupyter-widgets/base",
            "_view_module_version": "1.2.0",
            "_view_name": "LayoutView",
            "align_content": null,
            "align_items": null,
            "align_self": null,
            "border": null,
            "bottom": null,
            "display": null,
            "flex": null,
            "flex_flow": null,
            "grid_area": null,
            "grid_auto_columns": null,
            "grid_auto_flow": null,
            "grid_auto_rows": null,
            "grid_column": null,
            "grid_gap": null,
            "grid_row": null,
            "grid_template_areas": null,
            "grid_template_columns": null,
            "grid_template_rows": null,
            "height": null,
            "justify_content": null,
            "justify_items": null,
            "left": null,
            "margin": null,
            "max_height": null,
            "max_width": null,
            "min_height": null,
            "min_width": null,
            "object_fit": null,
            "object_position": null,
            "order": null,
            "overflow": null,
            "overflow_x": null,
            "overflow_y": null,
            "padding": null,
            "right": null,
            "top": null,
            "visibility": null,
            "width": null
          }
        },
        "8062ecc741074e0e807b1ed7df3aff7e": {
          "model_module": "@jupyter-widgets/controls",
          "model_module_version": "1.5.0",
          "model_name": "HTMLModel",
          "state": {
            "_dom_classes": [],
            "_model_module": "@jupyter-widgets/controls",
            "_model_module_version": "1.5.0",
            "_model_name": "HTMLModel",
            "_view_count": null,
            "_view_module": "@jupyter-widgets/controls",
            "_view_module_version": "1.5.0",
            "_view_name": "HTMLView",
            "description": "",
            "description_tooltip": null,
            "layout": "IPY_MODEL_cbbe8565d23348e48744c97079468ccb",
            "placeholder": "​",
            "style": "IPY_MODEL_fd009f2778514c82bf0f0df4e2369c10",
            "value": " 10.6k/10.6k [00:00&lt;00:00, 251kB/s]"
          }
        },
        "80a6f57feca948a5b7ed3446ab0cc262": {
          "model_module": "@jupyter-widgets/base",
          "model_module_version": "1.2.0",
          "model_name": "LayoutModel",
          "state": {
            "_model_module": "@jupyter-widgets/base",
            "_model_module_version": "1.2.0",
            "_model_name": "LayoutModel",
            "_view_count": null,
            "_view_module": "@jupyter-widgets/base",
            "_view_module_version": "1.2.0",
            "_view_name": "LayoutView",
            "align_content": null,
            "align_items": null,
            "align_self": null,
            "border": null,
            "bottom": null,
            "display": null,
            "flex": null,
            "flex_flow": null,
            "grid_area": null,
            "grid_auto_columns": null,
            "grid_auto_flow": null,
            "grid_auto_rows": null,
            "grid_column": null,
            "grid_gap": null,
            "grid_row": null,
            "grid_template_areas": null,
            "grid_template_columns": null,
            "grid_template_rows": null,
            "height": null,
            "justify_content": null,
            "justify_items": null,
            "left": null,
            "margin": null,
            "max_height": null,
            "max_width": null,
            "min_height": null,
            "min_width": null,
            "object_fit": null,
            "object_position": null,
            "order": null,
            "overflow": null,
            "overflow_x": null,
            "overflow_y": null,
            "padding": null,
            "right": null,
            "top": null,
            "visibility": null,
            "width": null
          }
        },
        "80bfaa60e46b409f82069484b462f286": {
          "model_module": "@jupyter-widgets/base",
          "model_module_version": "1.2.0",
          "model_name": "LayoutModel",
          "state": {
            "_model_module": "@jupyter-widgets/base",
            "_model_module_version": "1.2.0",
            "_model_name": "LayoutModel",
            "_view_count": null,
            "_view_module": "@jupyter-widgets/base",
            "_view_module_version": "1.2.0",
            "_view_name": "LayoutView",
            "align_content": null,
            "align_items": null,
            "align_self": null,
            "border": null,
            "bottom": null,
            "display": null,
            "flex": null,
            "flex_flow": null,
            "grid_area": null,
            "grid_auto_columns": null,
            "grid_auto_flow": null,
            "grid_auto_rows": null,
            "grid_column": null,
            "grid_gap": null,
            "grid_row": null,
            "grid_template_areas": null,
            "grid_template_columns": null,
            "grid_template_rows": null,
            "height": null,
            "justify_content": null,
            "justify_items": null,
            "left": null,
            "margin": null,
            "max_height": null,
            "max_width": null,
            "min_height": null,
            "min_width": null,
            "object_fit": null,
            "object_position": null,
            "order": null,
            "overflow": null,
            "overflow_x": null,
            "overflow_y": null,
            "padding": null,
            "right": null,
            "top": null,
            "visibility": null,
            "width": null
          }
        },
        "81b5e647f045456cb5d016c917ac9d70": {
          "model_module": "@jupyter-widgets/controls",
          "model_module_version": "1.5.0",
          "model_name": "ProgressStyleModel",
          "state": {
            "_model_module": "@jupyter-widgets/controls",
            "_model_module_version": "1.5.0",
            "_model_name": "ProgressStyleModel",
            "_view_count": null,
            "_view_module": "@jupyter-widgets/base",
            "_view_module_version": "1.2.0",
            "_view_name": "StyleView",
            "bar_color": null,
            "description_width": ""
          }
        },
        "8200f95b41cd4b50aaaa94eb8ad85649": {
          "model_module": "@jupyter-widgets/base",
          "model_module_version": "1.2.0",
          "model_name": "LayoutModel",
          "state": {
            "_model_module": "@jupyter-widgets/base",
            "_model_module_version": "1.2.0",
            "_model_name": "LayoutModel",
            "_view_count": null,
            "_view_module": "@jupyter-widgets/base",
            "_view_module_version": "1.2.0",
            "_view_name": "LayoutView",
            "align_content": null,
            "align_items": null,
            "align_self": null,
            "border": null,
            "bottom": null,
            "display": null,
            "flex": null,
            "flex_flow": null,
            "grid_area": null,
            "grid_auto_columns": null,
            "grid_auto_flow": null,
            "grid_auto_rows": null,
            "grid_column": null,
            "grid_gap": null,
            "grid_row": null,
            "grid_template_areas": null,
            "grid_template_columns": null,
            "grid_template_rows": null,
            "height": null,
            "justify_content": null,
            "justify_items": null,
            "left": null,
            "margin": null,
            "max_height": null,
            "max_width": null,
            "min_height": null,
            "min_width": null,
            "object_fit": null,
            "object_position": null,
            "order": null,
            "overflow": null,
            "overflow_x": null,
            "overflow_y": null,
            "padding": null,
            "right": null,
            "top": null,
            "visibility": null,
            "width": null
          }
        },
        "821f5a1123d1429c83a81d002cbbbfe0": {
          "model_module": "@jupyter-widgets/controls",
          "model_module_version": "1.5.0",
          "model_name": "HTMLModel",
          "state": {
            "_dom_classes": [],
            "_model_module": "@jupyter-widgets/controls",
            "_model_module_version": "1.5.0",
            "_model_name": "HTMLModel",
            "_view_count": null,
            "_view_module": "@jupyter-widgets/controls",
            "_view_module_version": "1.5.0",
            "_view_name": "HTMLView",
            "description": "",
            "description_tooltip": null,
            "layout": "IPY_MODEL_2508f267cc6a42deb1cb5a2defb66c70",
            "placeholder": "​",
            "style": "IPY_MODEL_21b882ad4df14313832bd497650b5b08",
            "value": "Map:  76%"
          }
        },
        "835b8458d3654da98e8cd8d75c8c100a": {
          "model_module": "@jupyter-widgets/controls",
          "model_module_version": "1.5.0",
          "model_name": "DescriptionStyleModel",
          "state": {
            "_model_module": "@jupyter-widgets/controls",
            "_model_module_version": "1.5.0",
            "_model_name": "DescriptionStyleModel",
            "_view_count": null,
            "_view_module": "@jupyter-widgets/base",
            "_view_module_version": "1.2.0",
            "_view_name": "StyleView",
            "description_width": ""
          }
        },
        "837b66f69b754cf6ada0b7f7afb033eb": {
          "model_module": "@jupyter-widgets/controls",
          "model_module_version": "1.5.0",
          "model_name": "ProgressStyleModel",
          "state": {
            "_model_module": "@jupyter-widgets/controls",
            "_model_module_version": "1.5.0",
            "_model_name": "ProgressStyleModel",
            "_view_count": null,
            "_view_module": "@jupyter-widgets/base",
            "_view_module_version": "1.2.0",
            "_view_name": "StyleView",
            "bar_color": null,
            "description_width": ""
          }
        },
        "83d959d58bf244109b89765cf343a66b": {
          "model_module": "@jupyter-widgets/base",
          "model_module_version": "1.2.0",
          "model_name": "LayoutModel",
          "state": {
            "_model_module": "@jupyter-widgets/base",
            "_model_module_version": "1.2.0",
            "_model_name": "LayoutModel",
            "_view_count": null,
            "_view_module": "@jupyter-widgets/base",
            "_view_module_version": "1.2.0",
            "_view_name": "LayoutView",
            "align_content": null,
            "align_items": null,
            "align_self": null,
            "border": null,
            "bottom": null,
            "display": null,
            "flex": null,
            "flex_flow": null,
            "grid_area": null,
            "grid_auto_columns": null,
            "grid_auto_flow": null,
            "grid_auto_rows": null,
            "grid_column": null,
            "grid_gap": null,
            "grid_row": null,
            "grid_template_areas": null,
            "grid_template_columns": null,
            "grid_template_rows": null,
            "height": null,
            "justify_content": null,
            "justify_items": null,
            "left": null,
            "margin": null,
            "max_height": null,
            "max_width": null,
            "min_height": null,
            "min_width": null,
            "object_fit": null,
            "object_position": null,
            "order": null,
            "overflow": null,
            "overflow_x": null,
            "overflow_y": null,
            "padding": null,
            "right": null,
            "top": null,
            "visibility": null,
            "width": null
          }
        },
        "84533a2dc7ba4dfc9458a3fda7a0903c": {
          "model_module": "@jupyter-widgets/controls",
          "model_module_version": "1.5.0",
          "model_name": "FloatProgressModel",
          "state": {
            "_dom_classes": [],
            "_model_module": "@jupyter-widgets/controls",
            "_model_module_version": "1.5.0",
            "_model_name": "FloatProgressModel",
            "_view_count": null,
            "_view_module": "@jupyter-widgets/controls",
            "_view_module_version": "1.5.0",
            "_view_name": "ProgressView",
            "bar_style": "success",
            "description": "",
            "description_tooltip": null,
            "layout": "IPY_MODEL_d023550053d04166a53d66005751ee1a",
            "max": 2262,
            "min": 0,
            "orientation": "horizontal",
            "style": "IPY_MODEL_11738d83be584c6a8451d9f749b22884",
            "value": 2262
          }
        },
        "8506c4512aba4f15a9e846df4e597e67": {
          "model_module": "@jupyter-widgets/base",
          "model_module_version": "1.2.0",
          "model_name": "LayoutModel",
          "state": {
            "_model_module": "@jupyter-widgets/base",
            "_model_module_version": "1.2.0",
            "_model_name": "LayoutModel",
            "_view_count": null,
            "_view_module": "@jupyter-widgets/base",
            "_view_module_version": "1.2.0",
            "_view_name": "LayoutView",
            "align_content": null,
            "align_items": null,
            "align_self": null,
            "border": null,
            "bottom": null,
            "display": null,
            "flex": null,
            "flex_flow": null,
            "grid_area": null,
            "grid_auto_columns": null,
            "grid_auto_flow": null,
            "grid_auto_rows": null,
            "grid_column": null,
            "grid_gap": null,
            "grid_row": null,
            "grid_template_areas": null,
            "grid_template_columns": null,
            "grid_template_rows": null,
            "height": null,
            "justify_content": null,
            "justify_items": null,
            "left": null,
            "margin": null,
            "max_height": null,
            "max_width": null,
            "min_height": null,
            "min_width": null,
            "object_fit": null,
            "object_position": null,
            "order": null,
            "overflow": null,
            "overflow_x": null,
            "overflow_y": null,
            "padding": null,
            "right": null,
            "top": null,
            "visibility": null,
            "width": null
          }
        },
        "85ae18cc582144609414681d35b5279b": {
          "model_module": "@jupyter-widgets/base",
          "model_module_version": "1.2.0",
          "model_name": "LayoutModel",
          "state": {
            "_model_module": "@jupyter-widgets/base",
            "_model_module_version": "1.2.0",
            "_model_name": "LayoutModel",
            "_view_count": null,
            "_view_module": "@jupyter-widgets/base",
            "_view_module_version": "1.2.0",
            "_view_name": "LayoutView",
            "align_content": null,
            "align_items": null,
            "align_self": null,
            "border": null,
            "bottom": null,
            "display": null,
            "flex": null,
            "flex_flow": null,
            "grid_area": null,
            "grid_auto_columns": null,
            "grid_auto_flow": null,
            "grid_auto_rows": null,
            "grid_column": null,
            "grid_gap": null,
            "grid_row": null,
            "grid_template_areas": null,
            "grid_template_columns": null,
            "grid_template_rows": null,
            "height": null,
            "justify_content": null,
            "justify_items": null,
            "left": null,
            "margin": null,
            "max_height": null,
            "max_width": null,
            "min_height": null,
            "min_width": null,
            "object_fit": null,
            "object_position": null,
            "order": null,
            "overflow": null,
            "overflow_x": null,
            "overflow_y": null,
            "padding": null,
            "right": null,
            "top": null,
            "visibility": null,
            "width": null
          }
        },
        "877cfcd0ff2c45f1b509c9564cb5c407": {
          "model_module": "@jupyter-widgets/controls",
          "model_module_version": "1.5.0",
          "model_name": "HTMLModel",
          "state": {
            "_dom_classes": [],
            "_model_module": "@jupyter-widgets/controls",
            "_model_module_version": "1.5.0",
            "_model_name": "HTMLModel",
            "_view_count": null,
            "_view_module": "@jupyter-widgets/controls",
            "_view_module_version": "1.5.0",
            "_view_name": "HTMLView",
            "description": "",
            "description_tooltip": null,
            "layout": "IPY_MODEL_2baa468fc24f4c809d5add4b111dd07a",
            "placeholder": "​",
            "style": "IPY_MODEL_5a81da9fcfda4265841c557f26b8a190",
            "value": "Downloading data: "
          }
        },
        "8824c541d98c48a09ac7d396f344c1ee": {
          "model_module": "@jupyter-widgets/controls",
          "model_module_version": "1.5.0",
          "model_name": "HTMLModel",
          "state": {
            "_dom_classes": [],
            "_model_module": "@jupyter-widgets/controls",
            "_model_module_version": "1.5.0",
            "_model_name": "HTMLModel",
            "_view_count": null,
            "_view_module": "@jupyter-widgets/controls",
            "_view_module_version": "1.5.0",
            "_view_name": "HTMLView",
            "description": "",
            "description_tooltip": null,
            "layout": "IPY_MODEL_00190b762e3f46db8b61193ac4a0cd87",
            "placeholder": "​",
            "style": "IPY_MODEL_e86f2b2129294d37b0fcd4ab1f21d608",
            "value": " 112/112 [00:00&lt;00:00, 5.21kB/s]"
          }
        },
        "8912f708afc54a77aa28afd04395da56": {
          "model_module": "@jupyter-widgets/controls",
          "model_module_version": "1.5.0",
          "model_name": "DescriptionStyleModel",
          "state": {
            "_model_module": "@jupyter-widgets/controls",
            "_model_module_version": "1.5.0",
            "_model_name": "DescriptionStyleModel",
            "_view_count": null,
            "_view_module": "@jupyter-widgets/base",
            "_view_module_version": "1.2.0",
            "_view_name": "StyleView",
            "description_width": ""
          }
        },
        "8981c1eea9a3450c86bd24eb2a86a235": {
          "model_module": "@jupyter-widgets/base",
          "model_module_version": "1.2.0",
          "model_name": "LayoutModel",
          "state": {
            "_model_module": "@jupyter-widgets/base",
            "_model_module_version": "1.2.0",
            "_model_name": "LayoutModel",
            "_view_count": null,
            "_view_module": "@jupyter-widgets/base",
            "_view_module_version": "1.2.0",
            "_view_name": "LayoutView",
            "align_content": null,
            "align_items": null,
            "align_self": null,
            "border": null,
            "bottom": null,
            "display": null,
            "flex": null,
            "flex_flow": null,
            "grid_area": null,
            "grid_auto_columns": null,
            "grid_auto_flow": null,
            "grid_auto_rows": null,
            "grid_column": null,
            "grid_gap": null,
            "grid_row": null,
            "grid_template_areas": null,
            "grid_template_columns": null,
            "grid_template_rows": null,
            "height": null,
            "justify_content": null,
            "justify_items": null,
            "left": null,
            "margin": null,
            "max_height": null,
            "max_width": null,
            "min_height": null,
            "min_width": null,
            "object_fit": null,
            "object_position": null,
            "order": null,
            "overflow": null,
            "overflow_x": null,
            "overflow_y": null,
            "padding": null,
            "right": null,
            "top": null,
            "visibility": null,
            "width": null
          }
        },
        "8a02e079a41b40cd91f6fbdd8a8a9e67": {
          "model_module": "@jupyter-widgets/controls",
          "model_module_version": "1.5.0",
          "model_name": "FloatProgressModel",
          "state": {
            "_dom_classes": [],
            "_model_module": "@jupyter-widgets/controls",
            "_model_module_version": "1.5.0",
            "_model_name": "FloatProgressModel",
            "_view_count": null,
            "_view_module": "@jupyter-widgets/controls",
            "_view_module_version": "1.5.0",
            "_view_name": "ProgressView",
            "bar_style": "success",
            "description": "",
            "description_tooltip": null,
            "layout": "IPY_MODEL_1495fc9ff52440548dc5df3f26fe7150",
            "max": 304,
            "min": 0,
            "orientation": "horizontal",
            "style": "IPY_MODEL_4d8cbc532d1a4611b068ee25e136b134",
            "value": 304
          }
        },
        "8b3b7b3350c04b45ae27bbd7376b340c": {
          "model_module": "@jupyter-widgets/controls",
          "model_module_version": "1.5.0",
          "model_name": "DescriptionStyleModel",
          "state": {
            "_model_module": "@jupyter-widgets/controls",
            "_model_module_version": "1.5.0",
            "_model_name": "DescriptionStyleModel",
            "_view_count": null,
            "_view_module": "@jupyter-widgets/base",
            "_view_module_version": "1.2.0",
            "_view_name": "StyleView",
            "description_width": ""
          }
        },
        "8ce1d8413fc84bb38c6753d64024f0ca": {
          "model_module": "@jupyter-widgets/controls",
          "model_module_version": "1.5.0",
          "model_name": "DescriptionStyleModel",
          "state": {
            "_model_module": "@jupyter-widgets/controls",
            "_model_module_version": "1.5.0",
            "_model_name": "DescriptionStyleModel",
            "_view_count": null,
            "_view_module": "@jupyter-widgets/base",
            "_view_module_version": "1.2.0",
            "_view_name": "StyleView",
            "description_width": ""
          }
        },
        "8d6a64357ae74392a9d2b07c837e2ddc": {
          "model_module": "@jupyter-widgets/controls",
          "model_module_version": "1.5.0",
          "model_name": "HTMLModel",
          "state": {
            "_dom_classes": [],
            "_model_module": "@jupyter-widgets/controls",
            "_model_module_version": "1.5.0",
            "_model_name": "HTMLModel",
            "_view_count": null,
            "_view_module": "@jupyter-widgets/controls",
            "_view_module_version": "1.5.0",
            "_view_name": "HTMLView",
            "description": "",
            "description_tooltip": null,
            "layout": "IPY_MODEL_36d23392deae4d668538dc05edd2fa51",
            "placeholder": "​",
            "style": "IPY_MODEL_c425bccda610467294c1d0888e9e60e5",
            "value": "Downloading data files: 100%"
          }
        },
        "8d6bbe0730a3487e8eabe41f12f8bb0c": {
          "model_module": "@jupyter-widgets/controls",
          "model_module_version": "1.5.0",
          "model_name": "FloatProgressModel",
          "state": {
            "_dom_classes": [],
            "_model_module": "@jupyter-widgets/controls",
            "_model_module_version": "1.5.0",
            "_model_name": "FloatProgressModel",
            "_view_count": null,
            "_view_module": "@jupyter-widgets/controls",
            "_view_module_version": "1.5.0",
            "_view_name": "ProgressView",
            "bar_style": "success",
            "description": "",
            "description_tooltip": null,
            "layout": "IPY_MODEL_f17c435e26504b0c858f540b3c868599",
            "max": 498676425,
            "min": 0,
            "orientation": "horizontal",
            "style": "IPY_MODEL_9e9883636cb2419e8a1e2eff19a408a1",
            "value": 498676425
          }
        },
        "8d969d7435dc4a938c726e03ac3ab5e4": {
          "model_module": "@jupyter-widgets/base",
          "model_module_version": "1.2.0",
          "model_name": "LayoutModel",
          "state": {
            "_model_module": "@jupyter-widgets/base",
            "_model_module_version": "1.2.0",
            "_model_name": "LayoutModel",
            "_view_count": null,
            "_view_module": "@jupyter-widgets/base",
            "_view_module_version": "1.2.0",
            "_view_name": "LayoutView",
            "align_content": null,
            "align_items": null,
            "align_self": null,
            "border": null,
            "bottom": null,
            "display": null,
            "flex": null,
            "flex_flow": null,
            "grid_area": null,
            "grid_auto_columns": null,
            "grid_auto_flow": null,
            "grid_auto_rows": null,
            "grid_column": null,
            "grid_gap": null,
            "grid_row": null,
            "grid_template_areas": null,
            "grid_template_columns": null,
            "grid_template_rows": null,
            "height": null,
            "justify_content": null,
            "justify_items": null,
            "left": null,
            "margin": null,
            "max_height": null,
            "max_width": null,
            "min_height": null,
            "min_width": null,
            "object_fit": null,
            "object_position": null,
            "order": null,
            "overflow": null,
            "overflow_x": null,
            "overflow_y": null,
            "padding": null,
            "right": null,
            "top": null,
            "visibility": null,
            "width": null
          }
        },
        "8df63a178c274f02975d0fb2280ec349": {
          "model_module": "@jupyter-widgets/controls",
          "model_module_version": "1.5.0",
          "model_name": "ProgressStyleModel",
          "state": {
            "_model_module": "@jupyter-widgets/controls",
            "_model_module_version": "1.5.0",
            "_model_name": "ProgressStyleModel",
            "_view_count": null,
            "_view_module": "@jupyter-widgets/base",
            "_view_module_version": "1.2.0",
            "_view_name": "StyleView",
            "bar_color": null,
            "description_width": ""
          }
        },
        "8e3ce5adf6d54b5e95bfa5646c261757": {
          "model_module": "@jupyter-widgets/controls",
          "model_module_version": "1.5.0",
          "model_name": "HTMLModel",
          "state": {
            "_dom_classes": [],
            "_model_module": "@jupyter-widgets/controls",
            "_model_module_version": "1.5.0",
            "_model_name": "HTMLModel",
            "_view_count": null,
            "_view_module": "@jupyter-widgets/controls",
            "_view_module_version": "1.5.0",
            "_view_name": "HTMLView",
            "description": "",
            "description_tooltip": null,
            "layout": "IPY_MODEL_9f31bff46c7240e8a4f104753be08d31",
            "placeholder": "​",
            "style": "IPY_MODEL_c171c5a4a0504852aa6959626dc9879b",
            "value": "Generating test split:   0%"
          }
        },
        "8ef9661c9a6f40fc92cc67ed32f3ff0d": {
          "model_module": "@jupyter-widgets/controls",
          "model_module_version": "1.5.0",
          "model_name": "FloatProgressModel",
          "state": {
            "_dom_classes": [],
            "_model_module": "@jupyter-widgets/controls",
            "_model_module_version": "1.5.0",
            "_model_name": "FloatProgressModel",
            "_view_count": null,
            "_view_module": "@jupyter-widgets/controls",
            "_view_module_version": "1.5.0",
            "_view_name": "ProgressView",
            "bar_style": "success",
            "description": "",
            "description_tooltip": null,
            "layout": "IPY_MODEL_6939f652e72e40049164518ffc2268ca",
            "max": 30384,
            "min": 0,
            "orientation": "horizontal",
            "style": "IPY_MODEL_e5f1af0559e04a7cba90119024f9807a",
            "value": 30384
          }
        },
        "8ff3f7af21a645308ad6474e3cb6a422": {
          "model_module": "@jupyter-widgets/controls",
          "model_module_version": "1.5.0",
          "model_name": "HBoxModel",
          "state": {
            "_dom_classes": [],
            "_model_module": "@jupyter-widgets/controls",
            "_model_module_version": "1.5.0",
            "_model_name": "HBoxModel",
            "_view_count": null,
            "_view_module": "@jupyter-widgets/controls",
            "_view_module_version": "1.5.0",
            "_view_name": "HBoxView",
            "box_style": "",
            "children": [
              "IPY_MODEL_ee4a147ba0194643b8dc45b293115eab",
              "IPY_MODEL_2f3bec6bcf9a46118617d6d224ba8f31",
              "IPY_MODEL_3cb3fe9331a449fc921dc724fb5a9836"
            ],
            "layout": "IPY_MODEL_18e41cea6f2c4fd5a8be542be84d26c0"
          }
        },
        "904e76285fde4427929ecb1f754a5696": {
          "model_module": "@jupyter-widgets/controls",
          "model_module_version": "1.5.0",
          "model_name": "DescriptionStyleModel",
          "state": {
            "_model_module": "@jupyter-widgets/controls",
            "_model_module_version": "1.5.0",
            "_model_name": "DescriptionStyleModel",
            "_view_count": null,
            "_view_module": "@jupyter-widgets/base",
            "_view_module_version": "1.2.0",
            "_view_name": "StyleView",
            "description_width": ""
          }
        },
        "90e8648379c94be89db96f6344ad5937": {
          "model_module": "@jupyter-widgets/controls",
          "model_module_version": "1.5.0",
          "model_name": "FloatProgressModel",
          "state": {
            "_dom_classes": [],
            "_model_module": "@jupyter-widgets/controls",
            "_model_module_version": "1.5.0",
            "_model_name": "FloatProgressModel",
            "_view_count": null,
            "_view_module": "@jupyter-widgets/controls",
            "_view_module_version": "1.5.0",
            "_view_name": "ProgressView",
            "bar_style": "",
            "description": "",
            "description_tooltip": null,
            "layout": "IPY_MODEL_31d673555d334cab826249acbcf5c45f",
            "max": 860,
            "min": 0,
            "orientation": "horizontal",
            "style": "IPY_MODEL_b6038a9b380048c991f88b68d10ae902",
            "value": 860
          }
        },
        "91b177c93f72413daf8dc56e55afaaa7": {
          "model_module": "@jupyter-widgets/controls",
          "model_module_version": "1.5.0",
          "model_name": "DescriptionStyleModel",
          "state": {
            "_model_module": "@jupyter-widgets/controls",
            "_model_module_version": "1.5.0",
            "_model_name": "DescriptionStyleModel",
            "_view_count": null,
            "_view_module": "@jupyter-widgets/base",
            "_view_module_version": "1.2.0",
            "_view_name": "StyleView",
            "description_width": ""
          }
        },
        "9274640b0dbf45679a6108743a2932c2": {
          "model_module": "@jupyter-widgets/base",
          "model_module_version": "1.2.0",
          "model_name": "LayoutModel",
          "state": {
            "_model_module": "@jupyter-widgets/base",
            "_model_module_version": "1.2.0",
            "_model_name": "LayoutModel",
            "_view_count": null,
            "_view_module": "@jupyter-widgets/base",
            "_view_module_version": "1.2.0",
            "_view_name": "LayoutView",
            "align_content": null,
            "align_items": null,
            "align_self": null,
            "border": null,
            "bottom": null,
            "display": null,
            "flex": null,
            "flex_flow": null,
            "grid_area": null,
            "grid_auto_columns": null,
            "grid_auto_flow": null,
            "grid_auto_rows": null,
            "grid_column": null,
            "grid_gap": null,
            "grid_row": null,
            "grid_template_areas": null,
            "grid_template_columns": null,
            "grid_template_rows": null,
            "height": null,
            "justify_content": null,
            "justify_items": null,
            "left": null,
            "margin": null,
            "max_height": null,
            "max_width": null,
            "min_height": null,
            "min_width": null,
            "object_fit": null,
            "object_position": null,
            "order": null,
            "overflow": null,
            "overflow_x": null,
            "overflow_y": null,
            "padding": null,
            "right": null,
            "top": null,
            "visibility": null,
            "width": null
          }
        },
        "92ed389ecbee4d8d91e2b0233865981c": {
          "model_module": "@jupyter-widgets/controls",
          "model_module_version": "1.5.0",
          "model_name": "HTMLModel",
          "state": {
            "_dom_classes": [],
            "_model_module": "@jupyter-widgets/controls",
            "_model_module_version": "1.5.0",
            "_model_name": "HTMLModel",
            "_view_count": null,
            "_view_module": "@jupyter-widgets/controls",
            "_view_module_version": "1.5.0",
            "_view_name": "HTMLView",
            "description": "",
            "description_tooltip": null,
            "layout": "IPY_MODEL_9bb14f7701f34c7bb8befb46540631e7",
            "placeholder": "​",
            "style": "IPY_MODEL_384bc459f344408fa9565019f4cd76e7",
            "value": "Downloading readme: 100%"
          }
        },
        "9312beaa14834275a36fa210d0a1d488": {
          "model_module": "@jupyter-widgets/controls",
          "model_module_version": "1.5.0",
          "model_name": "DescriptionStyleModel",
          "state": {
            "_model_module": "@jupyter-widgets/controls",
            "_model_module_version": "1.5.0",
            "_model_name": "DescriptionStyleModel",
            "_view_count": null,
            "_view_module": "@jupyter-widgets/base",
            "_view_module_version": "1.2.0",
            "_view_name": "StyleView",
            "description_width": ""
          }
        },
        "93edd03e97c74fd29d4e8124c5059d5b": {
          "model_module": "@jupyter-widgets/controls",
          "model_module_version": "1.5.0",
          "model_name": "DescriptionStyleModel",
          "state": {
            "_model_module": "@jupyter-widgets/controls",
            "_model_module_version": "1.5.0",
            "_model_name": "DescriptionStyleModel",
            "_view_count": null,
            "_view_module": "@jupyter-widgets/base",
            "_view_module_version": "1.2.0",
            "_view_name": "StyleView",
            "description_width": ""
          }
        },
        "94a979c778064f39af942e5559ce5f3d": {
          "model_module": "@jupyter-widgets/controls",
          "model_module_version": "1.5.0",
          "model_name": "DescriptionStyleModel",
          "state": {
            "_model_module": "@jupyter-widgets/controls",
            "_model_module_version": "1.5.0",
            "_model_name": "DescriptionStyleModel",
            "_view_count": null,
            "_view_module": "@jupyter-widgets/base",
            "_view_module_version": "1.2.0",
            "_view_name": "StyleView",
            "description_width": ""
          }
        },
        "94c3bdedab5147928a334cafb39e5fde": {
          "model_module": "@jupyter-widgets/controls",
          "model_module_version": "1.5.0",
          "model_name": "HBoxModel",
          "state": {
            "_dom_classes": [],
            "_model_module": "@jupyter-widgets/controls",
            "_model_module_version": "1.5.0",
            "_model_name": "HBoxModel",
            "_view_count": null,
            "_view_module": "@jupyter-widgets/controls",
            "_view_module_version": "1.5.0",
            "_view_name": "HBoxView",
            "box_style": "",
            "children": [
              "IPY_MODEL_02e5e84436784c02a588953eb904afc0",
              "IPY_MODEL_11d355787ed140bc850821f74adabd9d",
              "IPY_MODEL_5f1a020c3d36416cbf7aa3ff443e30f3"
            ],
            "layout": "IPY_MODEL_74ba3a3e82c243b18871ebe06d12f767"
          }
        },
        "94ec1f421542486b83838154720c45f9": {
          "model_module": "@jupyter-widgets/controls",
          "model_module_version": "1.5.0",
          "model_name": "DescriptionStyleModel",
          "state": {
            "_model_module": "@jupyter-widgets/controls",
            "_model_module_version": "1.5.0",
            "_model_name": "DescriptionStyleModel",
            "_view_count": null,
            "_view_module": "@jupyter-widgets/base",
            "_view_module_version": "1.2.0",
            "_view_name": "StyleView",
            "description_width": ""
          }
        },
        "96680ab1b597497cbc76df1fb33f64c0": {
          "model_module": "@jupyter-widgets/base",
          "model_module_version": "1.2.0",
          "model_name": "LayoutModel",
          "state": {
            "_model_module": "@jupyter-widgets/base",
            "_model_module_version": "1.2.0",
            "_model_name": "LayoutModel",
            "_view_count": null,
            "_view_module": "@jupyter-widgets/base",
            "_view_module_version": "1.2.0",
            "_view_name": "LayoutView",
            "align_content": null,
            "align_items": null,
            "align_self": null,
            "border": null,
            "bottom": null,
            "display": null,
            "flex": null,
            "flex_flow": null,
            "grid_area": null,
            "grid_auto_columns": null,
            "grid_auto_flow": null,
            "grid_auto_rows": null,
            "grid_column": null,
            "grid_gap": null,
            "grid_row": null,
            "grid_template_areas": null,
            "grid_template_columns": null,
            "grid_template_rows": null,
            "height": null,
            "justify_content": null,
            "justify_items": null,
            "left": null,
            "margin": null,
            "max_height": null,
            "max_width": null,
            "min_height": null,
            "min_width": null,
            "object_fit": null,
            "object_position": null,
            "order": null,
            "overflow": null,
            "overflow_x": null,
            "overflow_y": null,
            "padding": null,
            "right": null,
            "top": null,
            "visibility": null,
            "width": null
          }
        },
        "969c24c6694742f8a75255b4a0978789": {
          "model_module": "@jupyter-widgets/controls",
          "model_module_version": "1.5.0",
          "model_name": "FloatProgressModel",
          "state": {
            "_dom_classes": [],
            "_model_module": "@jupyter-widgets/controls",
            "_model_module_version": "1.5.0",
            "_model_name": "FloatProgressModel",
            "_view_count": null,
            "_view_module": "@jupyter-widgets/controls",
            "_view_module_version": "1.5.0",
            "_view_name": "ProgressView",
            "bar_style": "success",
            "description": "",
            "description_tooltip": null,
            "layout": "IPY_MODEL_83d959d58bf244109b89765cf343a66b",
            "max": 1175,
            "min": 0,
            "orientation": "horizontal",
            "style": "IPY_MODEL_ac0c76d437c04b8dab65a8fe1867ac25",
            "value": 1175
          }
        },
        "96ed79bdb3ad4975b0f0f8b4077568e4": {
          "model_module": "@jupyter-widgets/base",
          "model_module_version": "1.2.0",
          "model_name": "LayoutModel",
          "state": {
            "_model_module": "@jupyter-widgets/base",
            "_model_module_version": "1.2.0",
            "_model_name": "LayoutModel",
            "_view_count": null,
            "_view_module": "@jupyter-widgets/base",
            "_view_module_version": "1.2.0",
            "_view_name": "LayoutView",
            "align_content": null,
            "align_items": null,
            "align_self": null,
            "border": null,
            "bottom": null,
            "display": null,
            "flex": null,
            "flex_flow": null,
            "grid_area": null,
            "grid_auto_columns": null,
            "grid_auto_flow": null,
            "grid_auto_rows": null,
            "grid_column": null,
            "grid_gap": null,
            "grid_row": null,
            "grid_template_areas": null,
            "grid_template_columns": null,
            "grid_template_rows": null,
            "height": null,
            "justify_content": null,
            "justify_items": null,
            "left": null,
            "margin": null,
            "max_height": null,
            "max_width": null,
            "min_height": null,
            "min_width": null,
            "object_fit": null,
            "object_position": null,
            "order": null,
            "overflow": null,
            "overflow_x": null,
            "overflow_y": null,
            "padding": null,
            "right": null,
            "top": null,
            "visibility": null,
            "width": null
          }
        },
        "97cf29576feb42198b88cdb27218c6fc": {
          "model_module": "@jupyter-widgets/controls",
          "model_module_version": "1.5.0",
          "model_name": "FloatProgressModel",
          "state": {
            "_dom_classes": [],
            "_model_module": "@jupyter-widgets/controls",
            "_model_module_version": "1.5.0",
            "_model_name": "FloatProgressModel",
            "_view_count": null,
            "_view_module": "@jupyter-widgets/controls",
            "_view_module_version": "1.5.0",
            "_view_name": "ProgressView",
            "bar_style": "success",
            "description": "",
            "description_tooltip": null,
            "layout": "IPY_MODEL_df870afa459d460ebb401572ed0ab860",
            "max": 608152,
            "min": 0,
            "orientation": "horizontal",
            "style": "IPY_MODEL_fb0654bc9b834b539f57fd4ade812b7c",
            "value": 608152
          }
        },
        "98a9161e562240e9a72576f9a1cc0683": {
          "model_module": "@jupyter-widgets/controls",
          "model_module_version": "1.5.0",
          "model_name": "FloatProgressModel",
          "state": {
            "_dom_classes": [],
            "_model_module": "@jupyter-widgets/controls",
            "_model_module_version": "1.5.0",
            "_model_name": "FloatProgressModel",
            "_view_count": null,
            "_view_module": "@jupyter-widgets/controls",
            "_view_module_version": "1.5.0",
            "_view_name": "ProgressView",
            "bar_style": "success",
            "description": "",
            "description_tooltip": null,
            "layout": "IPY_MODEL_0725a950732c4dfebef46970dde6b7c3",
            "max": 898822,
            "min": 0,
            "orientation": "horizontal",
            "style": "IPY_MODEL_27e529afe755458ab600233c5354b6dc",
            "value": 898822
          }
        },
        "98b763b12fe7448e8d8cd06a5185cea1": {
          "model_module": "@jupyter-widgets/base",
          "model_module_version": "1.2.0",
          "model_name": "LayoutModel",
          "state": {
            "_model_module": "@jupyter-widgets/base",
            "_model_module_version": "1.2.0",
            "_model_name": "LayoutModel",
            "_view_count": null,
            "_view_module": "@jupyter-widgets/base",
            "_view_module_version": "1.2.0",
            "_view_name": "LayoutView",
            "align_content": null,
            "align_items": null,
            "align_self": null,
            "border": null,
            "bottom": null,
            "display": null,
            "flex": null,
            "flex_flow": null,
            "grid_area": null,
            "grid_auto_columns": null,
            "grid_auto_flow": null,
            "grid_auto_rows": null,
            "grid_column": null,
            "grid_gap": null,
            "grid_row": null,
            "grid_template_areas": null,
            "grid_template_columns": null,
            "grid_template_rows": null,
            "height": null,
            "justify_content": null,
            "justify_items": null,
            "left": null,
            "margin": null,
            "max_height": null,
            "max_width": null,
            "min_height": null,
            "min_width": null,
            "object_fit": null,
            "object_position": null,
            "order": null,
            "overflow": null,
            "overflow_x": null,
            "overflow_y": null,
            "padding": null,
            "right": null,
            "top": null,
            "visibility": null,
            "width": null
          }
        },
        "99c3996299174f3cab134d7275fe05d6": {
          "model_module": "@jupyter-widgets/base",
          "model_module_version": "1.2.0",
          "model_name": "LayoutModel",
          "state": {
            "_model_module": "@jupyter-widgets/base",
            "_model_module_version": "1.2.0",
            "_model_name": "LayoutModel",
            "_view_count": null,
            "_view_module": "@jupyter-widgets/base",
            "_view_module_version": "1.2.0",
            "_view_name": "LayoutView",
            "align_content": null,
            "align_items": null,
            "align_self": null,
            "border": null,
            "bottom": null,
            "display": null,
            "flex": null,
            "flex_flow": null,
            "grid_area": null,
            "grid_auto_columns": null,
            "grid_auto_flow": null,
            "grid_auto_rows": null,
            "grid_column": null,
            "grid_gap": null,
            "grid_row": null,
            "grid_template_areas": null,
            "grid_template_columns": null,
            "grid_template_rows": null,
            "height": null,
            "justify_content": null,
            "justify_items": null,
            "left": null,
            "margin": null,
            "max_height": null,
            "max_width": null,
            "min_height": null,
            "min_width": null,
            "object_fit": null,
            "object_position": null,
            "order": null,
            "overflow": null,
            "overflow_x": null,
            "overflow_y": null,
            "padding": null,
            "right": null,
            "top": null,
            "visibility": null,
            "width": null
          }
        },
        "9a3e0288ac7d4e7182bce38395110bf7": {
          "model_module": "@jupyter-widgets/controls",
          "model_module_version": "1.5.0",
          "model_name": "FloatProgressModel",
          "state": {
            "_dom_classes": [],
            "_model_module": "@jupyter-widgets/controls",
            "_model_module_version": "1.5.0",
            "_model_name": "FloatProgressModel",
            "_view_count": null,
            "_view_module": "@jupyter-widgets/controls",
            "_view_module_version": "1.5.0",
            "_view_name": "ProgressView",
            "bar_style": "success",
            "description": "",
            "description_tooltip": null,
            "layout": "IPY_MODEL_26d34706e4ac44929486523db07d4bee",
            "max": 58381,
            "min": 0,
            "orientation": "horizontal",
            "style": "IPY_MODEL_53ccb9a11297436e922ea5a79389f5a4",
            "value": 58381
          }
        },
        "9a81952bc3fa4bd0873a562b2d05231c": {
          "model_module": "@jupyter-widgets/controls",
          "model_module_version": "1.5.0",
          "model_name": "ProgressStyleModel",
          "state": {
            "_model_module": "@jupyter-widgets/controls",
            "_model_module_version": "1.5.0",
            "_model_name": "ProgressStyleModel",
            "_view_count": null,
            "_view_module": "@jupyter-widgets/base",
            "_view_module_version": "1.2.0",
            "_view_name": "StyleView",
            "bar_color": null,
            "description_width": ""
          }
        },
        "9bb14f7701f34c7bb8befb46540631e7": {
          "model_module": "@jupyter-widgets/base",
          "model_module_version": "1.2.0",
          "model_name": "LayoutModel",
          "state": {
            "_model_module": "@jupyter-widgets/base",
            "_model_module_version": "1.2.0",
            "_model_name": "LayoutModel",
            "_view_count": null,
            "_view_module": "@jupyter-widgets/base",
            "_view_module_version": "1.2.0",
            "_view_name": "LayoutView",
            "align_content": null,
            "align_items": null,
            "align_self": null,
            "border": null,
            "bottom": null,
            "display": null,
            "flex": null,
            "flex_flow": null,
            "grid_area": null,
            "grid_auto_columns": null,
            "grid_auto_flow": null,
            "grid_auto_rows": null,
            "grid_column": null,
            "grid_gap": null,
            "grid_row": null,
            "grid_template_areas": null,
            "grid_template_columns": null,
            "grid_template_rows": null,
            "height": null,
            "justify_content": null,
            "justify_items": null,
            "left": null,
            "margin": null,
            "max_height": null,
            "max_width": null,
            "min_height": null,
            "min_width": null,
            "object_fit": null,
            "object_position": null,
            "order": null,
            "overflow": null,
            "overflow_x": null,
            "overflow_y": null,
            "padding": null,
            "right": null,
            "top": null,
            "visibility": null,
            "width": null
          }
        },
        "9c46db38540a4ee7b0fc95d1a1cfbe5f": {
          "model_module": "@jupyter-widgets/controls",
          "model_module_version": "1.5.0",
          "model_name": "FloatProgressModel",
          "state": {
            "_dom_classes": [],
            "_model_module": "@jupyter-widgets/controls",
            "_model_module_version": "1.5.0",
            "_model_name": "FloatProgressModel",
            "_view_count": null,
            "_view_module": "@jupyter-widgets/controls",
            "_view_module_version": "1.5.0",
            "_view_name": "ProgressView",
            "bar_style": "success",
            "description": "",
            "description_tooltip": null,
            "layout": "IPY_MODEL_f09af9e50cf94ae5906b30787ec640da",
            "max": 210,
            "min": 0,
            "orientation": "horizontal",
            "style": "IPY_MODEL_19bee9f92c1b4b6bbafb5602a3671de6",
            "value": 210
          }
        },
        "9cef99fbb70a4b688a04c52fa20eff7d": {
          "model_module": "@jupyter-widgets/controls",
          "model_module_version": "1.5.0",
          "model_name": "HTMLModel",
          "state": {
            "_dom_classes": [],
            "_model_module": "@jupyter-widgets/controls",
            "_model_module_version": "1.5.0",
            "_model_name": "HTMLModel",
            "_view_count": null,
            "_view_module": "@jupyter-widgets/controls",
            "_view_module_version": "1.5.0",
            "_view_name": "HTMLView",
            "description": "",
            "description_tooltip": null,
            "layout": "IPY_MODEL_512b1526a88f4ac58b8690654cd3baf9",
            "placeholder": "​",
            "style": "IPY_MODEL_c8b0cae92c164700a08e87f9fa1adeb6",
            "value": " 53.0/53.0 [00:00&lt;00:00, 2.09kB/s]"
          }
        },
        "9d030f15efeb4ee387d5877d95ab0065": {
          "model_module": "@jupyter-widgets/controls",
          "model_module_version": "1.5.0",
          "model_name": "ProgressStyleModel",
          "state": {
            "_model_module": "@jupyter-widgets/controls",
            "_model_module_version": "1.5.0",
            "_model_name": "ProgressStyleModel",
            "_view_count": null,
            "_view_module": "@jupyter-widgets/base",
            "_view_module_version": "1.2.0",
            "_view_name": "StyleView",
            "bar_color": null,
            "description_width": ""
          }
        },
        "9d185e7c926f40fba0613563736be985": {
          "model_module": "@jupyter-widgets/controls",
          "model_module_version": "1.5.0",
          "model_name": "ProgressStyleModel",
          "state": {
            "_model_module": "@jupyter-widgets/controls",
            "_model_module_version": "1.5.0",
            "_model_name": "ProgressStyleModel",
            "_view_count": null,
            "_view_module": "@jupyter-widgets/base",
            "_view_module_version": "1.2.0",
            "_view_name": "StyleView",
            "bar_color": null,
            "description_width": ""
          }
        },
        "9d985a369c8a4371b3a2afada9699c02": {
          "model_module": "@jupyter-widgets/controls",
          "model_module_version": "1.5.0",
          "model_name": "HTMLModel",
          "state": {
            "_dom_classes": [],
            "_model_module": "@jupyter-widgets/controls",
            "_model_module_version": "1.5.0",
            "_model_name": "HTMLModel",
            "_view_count": null,
            "_view_module": "@jupyter-widgets/controls",
            "_view_module_version": "1.5.0",
            "_view_name": "HTMLView",
            "description": "",
            "description_tooltip": null,
            "layout": "IPY_MODEL_6042a337bafd469b82ab781f5b5a5dee",
            "placeholder": "​",
            "style": "IPY_MODEL_5be3e2854bd44589b2458e2badf90a65",
            "value": " 9.72k/9.72k [00:00&lt;00:00, 164kB/s]"
          }
        },
        "9e54ec9ba32549599d15d6f4f25f00db": {
          "model_module": "@jupyter-widgets/base",
          "model_module_version": "1.2.0",
          "model_name": "LayoutModel",
          "state": {
            "_model_module": "@jupyter-widgets/base",
            "_model_module_version": "1.2.0",
            "_model_name": "LayoutModel",
            "_view_count": null,
            "_view_module": "@jupyter-widgets/base",
            "_view_module_version": "1.2.0",
            "_view_name": "LayoutView",
            "align_content": null,
            "align_items": null,
            "align_self": null,
            "border": null,
            "bottom": null,
            "display": null,
            "flex": null,
            "flex_flow": null,
            "grid_area": null,
            "grid_auto_columns": null,
            "grid_auto_flow": null,
            "grid_auto_rows": null,
            "grid_column": null,
            "grid_gap": null,
            "grid_row": null,
            "grid_template_areas": null,
            "grid_template_columns": null,
            "grid_template_rows": null,
            "height": null,
            "justify_content": null,
            "justify_items": null,
            "left": null,
            "margin": null,
            "max_height": null,
            "max_width": null,
            "min_height": null,
            "min_width": null,
            "object_fit": null,
            "object_position": null,
            "order": null,
            "overflow": null,
            "overflow_x": null,
            "overflow_y": null,
            "padding": null,
            "right": null,
            "top": null,
            "visibility": null,
            "width": null
          }
        },
        "9e9883636cb2419e8a1e2eff19a408a1": {
          "model_module": "@jupyter-widgets/controls",
          "model_module_version": "1.5.0",
          "model_name": "ProgressStyleModel",
          "state": {
            "_model_module": "@jupyter-widgets/controls",
            "_model_module_version": "1.5.0",
            "_model_name": "ProgressStyleModel",
            "_view_count": null,
            "_view_module": "@jupyter-widgets/base",
            "_view_module_version": "1.2.0",
            "_view_name": "StyleView",
            "bar_color": null,
            "description_width": ""
          }
        },
        "9eff37ba85fb46f6b26ee0924f0b4b21": {
          "model_module": "@jupyter-widgets/controls",
          "model_module_version": "1.5.0",
          "model_name": "HTMLModel",
          "state": {
            "_dom_classes": [],
            "_model_module": "@jupyter-widgets/controls",
            "_model_module_version": "1.5.0",
            "_model_name": "HTMLModel",
            "_view_count": null,
            "_view_module": "@jupyter-widgets/controls",
            "_view_module_version": "1.5.0",
            "_view_name": "HTMLView",
            "description": "",
            "description_tooltip": null,
            "layout": "IPY_MODEL_62cc2c9bc39c416ea55f1e7195f6a369",
            "placeholder": "​",
            "style": "IPY_MODEL_4041a0cce855423c823b84e81839f4e0",
            "value": " 1.18k/1.18k [00:00&lt;00:00, 25.9kB/s]"
          }
        },
        "9f312a41122f4db78fe91d7e2c2d8c47": {
          "model_module": "@jupyter-widgets/controls",
          "model_module_version": "1.5.0",
          "model_name": "DescriptionStyleModel",
          "state": {
            "_model_module": "@jupyter-widgets/controls",
            "_model_module_version": "1.5.0",
            "_model_name": "DescriptionStyleModel",
            "_view_count": null,
            "_view_module": "@jupyter-widgets/base",
            "_view_module_version": "1.2.0",
            "_view_name": "StyleView",
            "description_width": ""
          }
        },
        "9f31bff46c7240e8a4f104753be08d31": {
          "model_module": "@jupyter-widgets/base",
          "model_module_version": "1.2.0",
          "model_name": "LayoutModel",
          "state": {
            "_model_module": "@jupyter-widgets/base",
            "_model_module_version": "1.2.0",
            "_model_name": "LayoutModel",
            "_view_count": null,
            "_view_module": "@jupyter-widgets/base",
            "_view_module_version": "1.2.0",
            "_view_name": "LayoutView",
            "align_content": null,
            "align_items": null,
            "align_self": null,
            "border": null,
            "bottom": null,
            "display": null,
            "flex": null,
            "flex_flow": null,
            "grid_area": null,
            "grid_auto_columns": null,
            "grid_auto_flow": null,
            "grid_auto_rows": null,
            "grid_column": null,
            "grid_gap": null,
            "grid_row": null,
            "grid_template_areas": null,
            "grid_template_columns": null,
            "grid_template_rows": null,
            "height": null,
            "justify_content": null,
            "justify_items": null,
            "left": null,
            "margin": null,
            "max_height": null,
            "max_width": null,
            "min_height": null,
            "min_width": null,
            "object_fit": null,
            "object_position": null,
            "order": null,
            "overflow": null,
            "overflow_x": null,
            "overflow_y": null,
            "padding": null,
            "right": null,
            "top": null,
            "visibility": null,
            "width": null
          }
        },
        "9f73151669a045f88711e3894d406fa4": {
          "model_module": "@jupyter-widgets/controls",
          "model_module_version": "1.5.0",
          "model_name": "DescriptionStyleModel",
          "state": {
            "_model_module": "@jupyter-widgets/controls",
            "_model_module_version": "1.5.0",
            "_model_name": "DescriptionStyleModel",
            "_view_count": null,
            "_view_module": "@jupyter-widgets/base",
            "_view_module_version": "1.2.0",
            "_view_name": "StyleView",
            "description_width": ""
          }
        },
        "9fb980e74b604ed5a25c9506560e3351": {
          "model_module": "@jupyter-widgets/controls",
          "model_module_version": "1.5.0",
          "model_name": "HTMLModel",
          "state": {
            "_dom_classes": [],
            "_model_module": "@jupyter-widgets/controls",
            "_model_module_version": "1.5.0",
            "_model_name": "HTMLModel",
            "_view_count": null,
            "_view_module": "@jupyter-widgets/controls",
            "_view_module_version": "1.5.0",
            "_view_name": "HTMLView",
            "description": "",
            "description_tooltip": null,
            "layout": "IPY_MODEL_29c9cbcb191345d782faad46974de011",
            "placeholder": "​",
            "style": "IPY_MODEL_28da063d102d4bd9a501453460dbd3be",
            "value": " 350/350 [00:00&lt;00:00, 6.30kB/s]"
          }
        },
        "9feb66e8a84b44cb87df9afbfe5336f0": {
          "model_module": "@jupyter-widgets/base",
          "model_module_version": "1.2.0",
          "model_name": "LayoutModel",
          "state": {
            "_model_module": "@jupyter-widgets/base",
            "_model_module_version": "1.2.0",
            "_model_name": "LayoutModel",
            "_view_count": null,
            "_view_module": "@jupyter-widgets/base",
            "_view_module_version": "1.2.0",
            "_view_name": "LayoutView",
            "align_content": null,
            "align_items": null,
            "align_self": null,
            "border": null,
            "bottom": null,
            "display": null,
            "flex": null,
            "flex_flow": null,
            "grid_area": null,
            "grid_auto_columns": null,
            "grid_auto_flow": null,
            "grid_auto_rows": null,
            "grid_column": null,
            "grid_gap": null,
            "grid_row": null,
            "grid_template_areas": null,
            "grid_template_columns": null,
            "grid_template_rows": null,
            "height": null,
            "justify_content": null,
            "justify_items": null,
            "left": null,
            "margin": null,
            "max_height": null,
            "max_width": null,
            "min_height": null,
            "min_width": null,
            "object_fit": null,
            "object_position": null,
            "order": null,
            "overflow": null,
            "overflow_x": null,
            "overflow_y": null,
            "padding": null,
            "right": null,
            "top": null,
            "visibility": "hidden",
            "width": null
          }
        },
        "a0160c1eb34e41529e32baf11943f8e5": {
          "model_module": "@jupyter-widgets/base",
          "model_module_version": "1.2.0",
          "model_name": "LayoutModel",
          "state": {
            "_model_module": "@jupyter-widgets/base",
            "_model_module_version": "1.2.0",
            "_model_name": "LayoutModel",
            "_view_count": null,
            "_view_module": "@jupyter-widgets/base",
            "_view_module_version": "1.2.0",
            "_view_name": "LayoutView",
            "align_content": null,
            "align_items": null,
            "align_self": null,
            "border": null,
            "bottom": null,
            "display": null,
            "flex": null,
            "flex_flow": null,
            "grid_area": null,
            "grid_auto_columns": null,
            "grid_auto_flow": null,
            "grid_auto_rows": null,
            "grid_column": null,
            "grid_gap": null,
            "grid_row": null,
            "grid_template_areas": null,
            "grid_template_columns": null,
            "grid_template_rows": null,
            "height": null,
            "justify_content": null,
            "justify_items": null,
            "left": null,
            "margin": null,
            "max_height": null,
            "max_width": null,
            "min_height": null,
            "min_width": null,
            "object_fit": null,
            "object_position": null,
            "order": null,
            "overflow": null,
            "overflow_x": null,
            "overflow_y": null,
            "padding": null,
            "right": null,
            "top": null,
            "visibility": null,
            "width": null
          }
        },
        "a12f3ae22af449679a50a061ad489ea9": {
          "model_module": "@jupyter-widgets/controls",
          "model_module_version": "1.5.0",
          "model_name": "DescriptionStyleModel",
          "state": {
            "_model_module": "@jupyter-widgets/controls",
            "_model_module_version": "1.5.0",
            "_model_name": "DescriptionStyleModel",
            "_view_count": null,
            "_view_module": "@jupyter-widgets/base",
            "_view_module_version": "1.2.0",
            "_view_name": "StyleView",
            "description_width": ""
          }
        },
        "a13cb318dbca4c8882314a64a714be2b": {
          "model_module": "@jupyter-widgets/controls",
          "model_module_version": "1.5.0",
          "model_name": "ProgressStyleModel",
          "state": {
            "_model_module": "@jupyter-widgets/controls",
            "_model_module_version": "1.5.0",
            "_model_name": "ProgressStyleModel",
            "_view_count": null,
            "_view_module": "@jupyter-widgets/base",
            "_view_module_version": "1.2.0",
            "_view_name": "StyleView",
            "bar_color": null,
            "description_width": ""
          }
        },
        "a1623dba9e794a9ea32aef9d7bbad53d": {
          "model_module": "@jupyter-widgets/base",
          "model_module_version": "1.2.0",
          "model_name": "LayoutModel",
          "state": {
            "_model_module": "@jupyter-widgets/base",
            "_model_module_version": "1.2.0",
            "_model_name": "LayoutModel",
            "_view_count": null,
            "_view_module": "@jupyter-widgets/base",
            "_view_module_version": "1.2.0",
            "_view_name": "LayoutView",
            "align_content": null,
            "align_items": null,
            "align_self": null,
            "border": null,
            "bottom": null,
            "display": null,
            "flex": null,
            "flex_flow": null,
            "grid_area": null,
            "grid_auto_columns": null,
            "grid_auto_flow": null,
            "grid_auto_rows": null,
            "grid_column": null,
            "grid_gap": null,
            "grid_row": null,
            "grid_template_areas": null,
            "grid_template_columns": null,
            "grid_template_rows": null,
            "height": null,
            "justify_content": null,
            "justify_items": null,
            "left": null,
            "margin": null,
            "max_height": null,
            "max_width": null,
            "min_height": null,
            "min_width": null,
            "object_fit": null,
            "object_position": null,
            "order": null,
            "overflow": null,
            "overflow_x": null,
            "overflow_y": null,
            "padding": null,
            "right": null,
            "top": null,
            "visibility": null,
            "width": null
          }
        },
        "a3901ec00ebf4d79bfa79626c5987579": {
          "model_module": "@jupyter-widgets/controls",
          "model_module_version": "1.5.0",
          "model_name": "FloatProgressModel",
          "state": {
            "_dom_classes": [],
            "_model_module": "@jupyter-widgets/controls",
            "_model_module_version": "1.5.0",
            "_model_name": "FloatProgressModel",
            "_view_count": null,
            "_view_module": "@jupyter-widgets/controls",
            "_view_module_version": "1.5.0",
            "_view_name": "ProgressView",
            "bar_style": "success",
            "description": "",
            "description_tooltip": null,
            "layout": "IPY_MODEL_19ecea4bad4f49f982ce12c74b9ff149",
            "max": 612,
            "min": 0,
            "orientation": "horizontal",
            "style": "IPY_MODEL_74d732ac00e847489d18153ea3a3d5a8",
            "value": 612
          }
        },
        "a4c740c141344ae5954b89a0f54f48bb": {
          "model_module": "@jupyter-widgets/controls",
          "model_module_version": "1.5.0",
          "model_name": "FloatProgressModel",
          "state": {
            "_dom_classes": [],
            "_model_module": "@jupyter-widgets/controls",
            "_model_module_version": "1.5.0",
            "_model_name": "FloatProgressModel",
            "_view_count": null,
            "_view_module": "@jupyter-widgets/controls",
            "_view_module_version": "1.5.0",
            "_view_name": "ProgressView",
            "bar_style": "success",
            "description": "",
            "description_tooltip": null,
            "layout": "IPY_MODEL_6b0d041a84fe4b90aa0aef92d094c68b",
            "max": 6,
            "min": 0,
            "orientation": "horizontal",
            "style": "IPY_MODEL_9d185e7c926f40fba0613563736be985",
            "value": 6
          }
        },
        "a4ed448c76614c44b29b6d76b4201e02": {
          "model_module": "@jupyter-widgets/controls",
          "model_module_version": "1.5.0",
          "model_name": "DescriptionStyleModel",
          "state": {
            "_model_module": "@jupyter-widgets/controls",
            "_model_module_version": "1.5.0",
            "_model_name": "DescriptionStyleModel",
            "_view_count": null,
            "_view_module": "@jupyter-widgets/base",
            "_view_module_version": "1.2.0",
            "_view_name": "StyleView",
            "description_width": ""
          }
        },
        "a6fa5625f39349679b27b6b4b36f7c27": {
          "model_module": "@jupyter-widgets/controls",
          "model_module_version": "1.5.0",
          "model_name": "ProgressStyleModel",
          "state": {
            "_model_module": "@jupyter-widgets/controls",
            "_model_module_version": "1.5.0",
            "_model_name": "ProgressStyleModel",
            "_view_count": null,
            "_view_module": "@jupyter-widgets/base",
            "_view_module_version": "1.2.0",
            "_view_name": "StyleView",
            "bar_color": null,
            "description_width": ""
          }
        },
        "a7cd687c272f4c7d9e4d092cd83c59ec": {
          "model_module": "@jupyter-widgets/controls",
          "model_module_version": "1.5.0",
          "model_name": "HBoxModel",
          "state": {
            "_dom_classes": [],
            "_model_module": "@jupyter-widgets/controls",
            "_model_module_version": "1.5.0",
            "_model_name": "HBoxModel",
            "_view_count": null,
            "_view_module": "@jupyter-widgets/controls",
            "_view_module_version": "1.5.0",
            "_view_name": "HBoxView",
            "box_style": "",
            "children": [
              "IPY_MODEL_8e3ce5adf6d54b5e95bfa5646c261757",
              "IPY_MODEL_90e8648379c94be89db96f6344ad5937",
              "IPY_MODEL_c847b56ef7b84454b2dc7745a9fea697"
            ],
            "layout": "IPY_MODEL_6196b6c8b73749108ad395455c546365"
          }
        },
        "a8e2d33eecd74500a8060a65f20cd9aa": {
          "model_module": "@jupyter-widgets/controls",
          "model_module_version": "1.5.0",
          "model_name": "DescriptionStyleModel",
          "state": {
            "_model_module": "@jupyter-widgets/controls",
            "_model_module_version": "1.5.0",
            "_model_name": "DescriptionStyleModel",
            "_view_count": null,
            "_view_module": "@jupyter-widgets/base",
            "_view_module_version": "1.2.0",
            "_view_name": "StyleView",
            "description_width": ""
          }
        },
        "aa575635ee3f40fe9e63ba99bf14315d": {
          "model_module": "@jupyter-widgets/base",
          "model_module_version": "1.2.0",
          "model_name": "LayoutModel",
          "state": {
            "_model_module": "@jupyter-widgets/base",
            "_model_module_version": "1.2.0",
            "_model_name": "LayoutModel",
            "_view_count": null,
            "_view_module": "@jupyter-widgets/base",
            "_view_module_version": "1.2.0",
            "_view_name": "LayoutView",
            "align_content": null,
            "align_items": null,
            "align_self": null,
            "border": null,
            "bottom": null,
            "display": null,
            "flex": null,
            "flex_flow": null,
            "grid_area": null,
            "grid_auto_columns": null,
            "grid_auto_flow": null,
            "grid_auto_rows": null,
            "grid_column": null,
            "grid_gap": null,
            "grid_row": null,
            "grid_template_areas": null,
            "grid_template_columns": null,
            "grid_template_rows": null,
            "height": null,
            "justify_content": null,
            "justify_items": null,
            "left": null,
            "margin": null,
            "max_height": null,
            "max_width": null,
            "min_height": null,
            "min_width": null,
            "object_fit": null,
            "object_position": null,
            "order": null,
            "overflow": null,
            "overflow_x": null,
            "overflow_y": null,
            "padding": null,
            "right": null,
            "top": null,
            "visibility": null,
            "width": null
          }
        },
        "ac0c76d437c04b8dab65a8fe1867ac25": {
          "model_module": "@jupyter-widgets/controls",
          "model_module_version": "1.5.0",
          "model_name": "ProgressStyleModel",
          "state": {
            "_model_module": "@jupyter-widgets/controls",
            "_model_module_version": "1.5.0",
            "_model_name": "ProgressStyleModel",
            "_view_count": null,
            "_view_module": "@jupyter-widgets/base",
            "_view_module_version": "1.2.0",
            "_view_name": "StyleView",
            "bar_color": null,
            "description_width": ""
          }
        },
        "ac9bd385ce9544fa80359327c1f53cf6": {
          "model_module": "@jupyter-widgets/controls",
          "model_module_version": "1.5.0",
          "model_name": "ProgressStyleModel",
          "state": {
            "_model_module": "@jupyter-widgets/controls",
            "_model_module_version": "1.5.0",
            "_model_name": "ProgressStyleModel",
            "_view_count": null,
            "_view_module": "@jupyter-widgets/base",
            "_view_module_version": "1.2.0",
            "_view_name": "StyleView",
            "bar_color": null,
            "description_width": ""
          }
        },
        "ad1110fb008c4a21ae42daacabcca285": {
          "model_module": "@jupyter-widgets/controls",
          "model_module_version": "1.5.0",
          "model_name": "FloatProgressModel",
          "state": {
            "_dom_classes": [],
            "_model_module": "@jupyter-widgets/controls",
            "_model_module_version": "1.5.0",
            "_model_name": "FloatProgressModel",
            "_view_count": null,
            "_view_module": "@jupyter-widgets/controls",
            "_view_module_version": "1.5.0",
            "_view_name": "ProgressView",
            "bar_style": "success",
            "description": "",
            "description_tooltip": null,
            "layout": "IPY_MODEL_e9ec901783024b408993850fdb42c280",
            "max": 9720,
            "min": 0,
            "orientation": "horizontal",
            "style": "IPY_MODEL_81b5e647f045456cb5d016c917ac9d70",
            "value": 9720
          }
        },
        "ae32a05a29e845feaac5188efdba43cb": {
          "model_module": "@jupyter-widgets/controls",
          "model_module_version": "1.5.0",
          "model_name": "DescriptionStyleModel",
          "state": {
            "_model_module": "@jupyter-widgets/controls",
            "_model_module_version": "1.5.0",
            "_model_name": "DescriptionStyleModel",
            "_view_count": null,
            "_view_module": "@jupyter-widgets/base",
            "_view_module_version": "1.2.0",
            "_view_name": "StyleView",
            "description_width": ""
          }
        },
        "afd7ed095fff4c579446adee6c5e876e": {
          "model_module": "@jupyter-widgets/controls",
          "model_module_version": "1.5.0",
          "model_name": "HTMLModel",
          "state": {
            "_dom_classes": [],
            "_model_module": "@jupyter-widgets/controls",
            "_model_module_version": "1.5.0",
            "_model_name": "HTMLModel",
            "_view_count": null,
            "_view_module": "@jupyter-widgets/controls",
            "_view_module_version": "1.5.0",
            "_view_name": "HTMLView",
            "description": "",
            "description_tooltip": null,
            "layout": "IPY_MODEL_aa575635ee3f40fe9e63ba99bf14315d",
            "placeholder": "​",
            "style": "IPY_MODEL_a12f3ae22af449679a50a061ad489ea9",
            "value": "Downloading (…)nce_bert_config.json: 100%"
          }
        },
        "b00adade6eb24098ba69f9ddd2eb62e5": {
          "model_module": "@jupyter-widgets/base",
          "model_module_version": "1.2.0",
          "model_name": "LayoutModel",
          "state": {
            "_model_module": "@jupyter-widgets/base",
            "_model_module_version": "1.2.0",
            "_model_name": "LayoutModel",
            "_view_count": null,
            "_view_module": "@jupyter-widgets/base",
            "_view_module_version": "1.2.0",
            "_view_name": "LayoutView",
            "align_content": null,
            "align_items": null,
            "align_self": null,
            "border": null,
            "bottom": null,
            "display": null,
            "flex": null,
            "flex_flow": null,
            "grid_area": null,
            "grid_auto_columns": null,
            "grid_auto_flow": null,
            "grid_auto_rows": null,
            "grid_column": null,
            "grid_gap": null,
            "grid_row": null,
            "grid_template_areas": null,
            "grid_template_columns": null,
            "grid_template_rows": null,
            "height": null,
            "justify_content": null,
            "justify_items": null,
            "left": null,
            "margin": null,
            "max_height": null,
            "max_width": null,
            "min_height": null,
            "min_width": null,
            "object_fit": null,
            "object_position": null,
            "order": null,
            "overflow": null,
            "overflow_x": null,
            "overflow_y": null,
            "padding": null,
            "right": null,
            "top": null,
            "visibility": null,
            "width": null
          }
        },
        "b028dcc6d7e741549fafe36c0fd09896": {
          "model_module": "@jupyter-widgets/base",
          "model_module_version": "1.2.0",
          "model_name": "LayoutModel",
          "state": {
            "_model_module": "@jupyter-widgets/base",
            "_model_module_version": "1.2.0",
            "_model_name": "LayoutModel",
            "_view_count": null,
            "_view_module": "@jupyter-widgets/base",
            "_view_module_version": "1.2.0",
            "_view_name": "LayoutView",
            "align_content": null,
            "align_items": null,
            "align_self": null,
            "border": null,
            "bottom": null,
            "display": null,
            "flex": null,
            "flex_flow": null,
            "grid_area": null,
            "grid_auto_columns": null,
            "grid_auto_flow": null,
            "grid_auto_rows": null,
            "grid_column": null,
            "grid_gap": null,
            "grid_row": null,
            "grid_template_areas": null,
            "grid_template_columns": null,
            "grid_template_rows": null,
            "height": null,
            "justify_content": null,
            "justify_items": null,
            "left": null,
            "margin": null,
            "max_height": null,
            "max_width": null,
            "min_height": null,
            "min_width": null,
            "object_fit": null,
            "object_position": null,
            "order": null,
            "overflow": null,
            "overflow_x": null,
            "overflow_y": null,
            "padding": null,
            "right": null,
            "top": null,
            "visibility": null,
            "width": null
          }
        },
        "b0b34f5d643a4c499d98d9d47c497d0f": {
          "model_module": "@jupyter-widgets/base",
          "model_module_version": "1.2.0",
          "model_name": "LayoutModel",
          "state": {
            "_model_module": "@jupyter-widgets/base",
            "_model_module_version": "1.2.0",
            "_model_name": "LayoutModel",
            "_view_count": null,
            "_view_module": "@jupyter-widgets/base",
            "_view_module_version": "1.2.0",
            "_view_name": "LayoutView",
            "align_content": null,
            "align_items": null,
            "align_self": null,
            "border": null,
            "bottom": null,
            "display": null,
            "flex": null,
            "flex_flow": null,
            "grid_area": null,
            "grid_auto_columns": null,
            "grid_auto_flow": null,
            "grid_auto_rows": null,
            "grid_column": null,
            "grid_gap": null,
            "grid_row": null,
            "grid_template_areas": null,
            "grid_template_columns": null,
            "grid_template_rows": null,
            "height": null,
            "justify_content": null,
            "justify_items": null,
            "left": null,
            "margin": null,
            "max_height": null,
            "max_width": null,
            "min_height": null,
            "min_width": null,
            "object_fit": null,
            "object_position": null,
            "order": null,
            "overflow": null,
            "overflow_x": null,
            "overflow_y": null,
            "padding": null,
            "right": null,
            "top": null,
            "visibility": null,
            "width": null
          }
        },
        "b0efb33d2fe84c94a4114dac76b23ca7": {
          "model_module": "@jupyter-widgets/base",
          "model_module_version": "1.2.0",
          "model_name": "LayoutModel",
          "state": {
            "_model_module": "@jupyter-widgets/base",
            "_model_module_version": "1.2.0",
            "_model_name": "LayoutModel",
            "_view_count": null,
            "_view_module": "@jupyter-widgets/base",
            "_view_module_version": "1.2.0",
            "_view_name": "LayoutView",
            "align_content": null,
            "align_items": null,
            "align_self": null,
            "border": null,
            "bottom": null,
            "display": null,
            "flex": null,
            "flex_flow": null,
            "grid_area": null,
            "grid_auto_columns": null,
            "grid_auto_flow": null,
            "grid_auto_rows": null,
            "grid_column": null,
            "grid_gap": null,
            "grid_row": null,
            "grid_template_areas": null,
            "grid_template_columns": null,
            "grid_template_rows": null,
            "height": null,
            "justify_content": null,
            "justify_items": null,
            "left": null,
            "margin": null,
            "max_height": null,
            "max_width": null,
            "min_height": null,
            "min_width": null,
            "object_fit": null,
            "object_position": null,
            "order": null,
            "overflow": null,
            "overflow_x": null,
            "overflow_y": null,
            "padding": null,
            "right": null,
            "top": null,
            "visibility": null,
            "width": null
          }
        },
        "b191083093d04f828e41b3e88cee797b": {
          "model_module": "@jupyter-widgets/controls",
          "model_module_version": "1.5.0",
          "model_name": "HTMLModel",
          "state": {
            "_dom_classes": [],
            "_model_module": "@jupyter-widgets/controls",
            "_model_module_version": "1.5.0",
            "_model_name": "HTMLModel",
            "_view_count": null,
            "_view_module": "@jupyter-widgets/controls",
            "_view_module_version": "1.5.0",
            "_view_name": "HTMLView",
            "description": "",
            "description_tooltip": null,
            "layout": "IPY_MODEL_2e18a2d26eaf4c95b03327fab756bd10",
            "placeholder": "​",
            "style": "IPY_MODEL_9f312a41122f4db78fe91d7e2c2d8c47",
            "value": "Downloading (…)7e55de9125/vocab.txt: 100%"
          }
        },
        "b191de4616de4efc8fbf1aaf41f00538": {
          "model_module": "@jupyter-widgets/controls",
          "model_module_version": "1.5.0",
          "model_name": "HBoxModel",
          "state": {
            "_dom_classes": [],
            "_model_module": "@jupyter-widgets/controls",
            "_model_module_version": "1.5.0",
            "_model_name": "HBoxModel",
            "_view_count": null,
            "_view_module": "@jupyter-widgets/controls",
            "_view_module_version": "1.5.0",
            "_view_name": "HBoxView",
            "box_style": "",
            "children": [
              "IPY_MODEL_200acd0629d345a693a11bb9be935fa7",
              "IPY_MODEL_a3901ec00ebf4d79bfa79626c5987579",
              "IPY_MODEL_b99da7ea9de54c9794c10e189a6b069b"
            ],
            "layout": "IPY_MODEL_96680ab1b597497cbc76df1fb33f64c0"
          }
        },
        "b1f49bffba7e439fb073dce5aa3bf39e": {
          "model_module": "@jupyter-widgets/controls",
          "model_module_version": "1.5.0",
          "model_name": "DescriptionStyleModel",
          "state": {
            "_model_module": "@jupyter-widgets/controls",
            "_model_module_version": "1.5.0",
            "_model_name": "DescriptionStyleModel",
            "_view_count": null,
            "_view_module": "@jupyter-widgets/base",
            "_view_module_version": "1.2.0",
            "_view_name": "StyleView",
            "description_width": ""
          }
        },
        "b3139d2b4a694104bc10a542077d6b76": {
          "model_module": "@jupyter-widgets/controls",
          "model_module_version": "1.5.0",
          "model_name": "DescriptionStyleModel",
          "state": {
            "_model_module": "@jupyter-widgets/controls",
            "_model_module_version": "1.5.0",
            "_model_name": "DescriptionStyleModel",
            "_view_count": null,
            "_view_module": "@jupyter-widgets/base",
            "_view_module_version": "1.2.0",
            "_view_name": "StyleView",
            "description_width": ""
          }
        },
        "b347af28dc16412b89a404e33f0a8c7a": {
          "model_module": "@jupyter-widgets/controls",
          "model_module_version": "1.5.0",
          "model_name": "HTMLModel",
          "state": {
            "_dom_classes": [],
            "_model_module": "@jupyter-widgets/controls",
            "_model_module_version": "1.5.0",
            "_model_name": "HTMLModel",
            "_view_count": null,
            "_view_module": "@jupyter-widgets/controls",
            "_view_module_version": "1.5.0",
            "_view_name": "HTMLView",
            "description": "",
            "description_tooltip": null,
            "layout": "IPY_MODEL_c31021a6416e47c08bed22848edf3c95",
            "placeholder": "​",
            "style": "IPY_MODEL_94ec1f421542486b83838154720c45f9",
            "value": " 190/190 [00:00&lt;00:00, 6.63kB/s]"
          }
        },
        "b4ed69077cbb436fa6ed1ba63c91f5c8": {
          "model_module": "@jupyter-widgets/base",
          "model_module_version": "1.2.0",
          "model_name": "LayoutModel",
          "state": {
            "_model_module": "@jupyter-widgets/base",
            "_model_module_version": "1.2.0",
            "_model_name": "LayoutModel",
            "_view_count": null,
            "_view_module": "@jupyter-widgets/base",
            "_view_module_version": "1.2.0",
            "_view_name": "LayoutView",
            "align_content": null,
            "align_items": null,
            "align_self": null,
            "border": null,
            "bottom": null,
            "display": null,
            "flex": null,
            "flex_flow": null,
            "grid_area": null,
            "grid_auto_columns": null,
            "grid_auto_flow": null,
            "grid_auto_rows": null,
            "grid_column": null,
            "grid_gap": null,
            "grid_row": null,
            "grid_template_areas": null,
            "grid_template_columns": null,
            "grid_template_rows": null,
            "height": null,
            "justify_content": null,
            "justify_items": null,
            "left": null,
            "margin": null,
            "max_height": null,
            "max_width": null,
            "min_height": null,
            "min_width": null,
            "object_fit": null,
            "object_position": null,
            "order": null,
            "overflow": null,
            "overflow_x": null,
            "overflow_y": null,
            "padding": null,
            "right": null,
            "top": null,
            "visibility": null,
            "width": null
          }
        },
        "b50f689e52b8432bbde0bb61b9a0b6ed": {
          "model_module": "@jupyter-widgets/controls",
          "model_module_version": "1.5.0",
          "model_name": "HBoxModel",
          "state": {
            "_dom_classes": [],
            "_model_module": "@jupyter-widgets/controls",
            "_model_module_version": "1.5.0",
            "_model_name": "HBoxModel",
            "_view_count": null,
            "_view_module": "@jupyter-widgets/controls",
            "_view_module_version": "1.5.0",
            "_view_name": "HBoxView",
            "box_style": "",
            "children": [
              "IPY_MODEL_759fa8e88a7144f7a73879c088c798a1",
              "IPY_MODEL_8d6bbe0730a3487e8eabe41f12f8bb0c",
              "IPY_MODEL_4b2cafc042d341c587a8aa4bcf7e9c2f"
            ],
            "layout": "IPY_MODEL_c9eedaf0797c452cb2810482ed6b8913"
          }
        },
        "b5201f31fb5c47aeb2b810d1d843e7ef": {
          "model_module": "@jupyter-widgets/controls",
          "model_module_version": "1.5.0",
          "model_name": "DescriptionStyleModel",
          "state": {
            "_model_module": "@jupyter-widgets/controls",
            "_model_module_version": "1.5.0",
            "_model_name": "DescriptionStyleModel",
            "_view_count": null,
            "_view_module": "@jupyter-widgets/base",
            "_view_module_version": "1.2.0",
            "_view_name": "StyleView",
            "description_width": ""
          }
        },
        "b6038a9b380048c991f88b68d10ae902": {
          "model_module": "@jupyter-widgets/controls",
          "model_module_version": "1.5.0",
          "model_name": "ProgressStyleModel",
          "state": {
            "_model_module": "@jupyter-widgets/controls",
            "_model_module_version": "1.5.0",
            "_model_name": "ProgressStyleModel",
            "_view_count": null,
            "_view_module": "@jupyter-widgets/base",
            "_view_module_version": "1.2.0",
            "_view_name": "StyleView",
            "bar_color": null,
            "description_width": ""
          }
        },
        "b6eb58f72faf4b3c9eee2eb06209a49a": {
          "model_module": "@jupyter-widgets/controls",
          "model_module_version": "1.5.0",
          "model_name": "DescriptionStyleModel",
          "state": {
            "_model_module": "@jupyter-widgets/controls",
            "_model_module_version": "1.5.0",
            "_model_name": "DescriptionStyleModel",
            "_view_count": null,
            "_view_module": "@jupyter-widgets/base",
            "_view_module_version": "1.2.0",
            "_view_name": "StyleView",
            "description_width": ""
          }
        },
        "b8b70b66272e47469d9801ff1c247bdc": {
          "model_module": "@jupyter-widgets/controls",
          "model_module_version": "1.5.0",
          "model_name": "HTMLModel",
          "state": {
            "_dom_classes": [],
            "_model_module": "@jupyter-widgets/controls",
            "_model_module_version": "1.5.0",
            "_model_name": "HTMLModel",
            "_view_count": null,
            "_view_module": "@jupyter-widgets/controls",
            "_view_module_version": "1.5.0",
            "_view_name": "HTMLView",
            "description": "",
            "description_tooltip": null,
            "layout": "IPY_MODEL_37b62f343ccd49269ded5ce056738034",
            "placeholder": "​",
            "style": "IPY_MODEL_7f24a33efed9449d907c8e415b4e5fd3",
            "value": "Downloading (…)7e55de9125/README.md: 100%"
          }
        },
        "b99da7ea9de54c9794c10e189a6b069b": {
          "model_module": "@jupyter-widgets/controls",
          "model_module_version": "1.5.0",
          "model_name": "HTMLModel",
          "state": {
            "_dom_classes": [],
            "_model_module": "@jupyter-widgets/controls",
            "_model_module_version": "1.5.0",
            "_model_name": "HTMLModel",
            "_view_count": null,
            "_view_module": "@jupyter-widgets/controls",
            "_view_module_version": "1.5.0",
            "_view_name": "HTMLView",
            "description": "",
            "description_tooltip": null,
            "layout": "IPY_MODEL_19002c736b554b1dbf8659f4116667fc",
            "placeholder": "​",
            "style": "IPY_MODEL_94a979c778064f39af942e5559ce5f3d",
            "value": " 612/612 [00:00&lt;00:00, 15.2kB/s]"
          }
        },
        "b9ecc9e0e78d44c3890b7265382c2687": {
          "model_module": "@jupyter-widgets/controls",
          "model_module_version": "1.5.0",
          "model_name": "DescriptionStyleModel",
          "state": {
            "_model_module": "@jupyter-widgets/controls",
            "_model_module_version": "1.5.0",
            "_model_name": "DescriptionStyleModel",
            "_view_count": null,
            "_view_module": "@jupyter-widgets/base",
            "_view_module_version": "1.2.0",
            "_view_name": "StyleView",
            "description_width": ""
          }
        },
        "bb546b5ca5f64bc89dd32df705fa6d13": {
          "model_module": "@jupyter-widgets/controls",
          "model_module_version": "1.5.0",
          "model_name": "HBoxModel",
          "state": {
            "_dom_classes": [],
            "_model_module": "@jupyter-widgets/controls",
            "_model_module_version": "1.5.0",
            "_model_name": "HBoxModel",
            "_view_count": null,
            "_view_module": "@jupyter-widgets/controls",
            "_view_module_version": "1.5.0",
            "_view_name": "HBoxView",
            "box_style": "",
            "children": [
              "IPY_MODEL_f51a5a1a57e546c189812afa5c62ff42",
              "IPY_MODEL_0265705af92948f9ab17226b0fb760be",
              "IPY_MODEL_b347af28dc16412b89a404e33f0a8c7a"
            ],
            "layout": "IPY_MODEL_bd4f8b29f8c94361badf789abb27c8bb"
          }
        },
        "bb829a315bd5466d88e3eec43329f241": {
          "model_module": "@jupyter-widgets/base",
          "model_module_version": "1.2.0",
          "model_name": "LayoutModel",
          "state": {
            "_model_module": "@jupyter-widgets/base",
            "_model_module_version": "1.2.0",
            "_model_name": "LayoutModel",
            "_view_count": null,
            "_view_module": "@jupyter-widgets/base",
            "_view_module_version": "1.2.0",
            "_view_name": "LayoutView",
            "align_content": null,
            "align_items": null,
            "align_self": null,
            "border": null,
            "bottom": null,
            "display": null,
            "flex": null,
            "flex_flow": null,
            "grid_area": null,
            "grid_auto_columns": null,
            "grid_auto_flow": null,
            "grid_auto_rows": null,
            "grid_column": null,
            "grid_gap": null,
            "grid_row": null,
            "grid_template_areas": null,
            "grid_template_columns": null,
            "grid_template_rows": null,
            "height": null,
            "justify_content": null,
            "justify_items": null,
            "left": null,
            "margin": null,
            "max_height": null,
            "max_width": null,
            "min_height": null,
            "min_width": null,
            "object_fit": null,
            "object_position": null,
            "order": null,
            "overflow": null,
            "overflow_x": null,
            "overflow_y": null,
            "padding": null,
            "right": null,
            "top": null,
            "visibility": null,
            "width": null
          }
        },
        "bc7d13cadaa54121a3862a4c508a636b": {
          "model_module": "@jupyter-widgets/base",
          "model_module_version": "1.2.0",
          "model_name": "LayoutModel",
          "state": {
            "_model_module": "@jupyter-widgets/base",
            "_model_module_version": "1.2.0",
            "_model_name": "LayoutModel",
            "_view_count": null,
            "_view_module": "@jupyter-widgets/base",
            "_view_module_version": "1.2.0",
            "_view_name": "LayoutView",
            "align_content": null,
            "align_items": null,
            "align_self": null,
            "border": null,
            "bottom": null,
            "display": null,
            "flex": null,
            "flex_flow": null,
            "grid_area": null,
            "grid_auto_columns": null,
            "grid_auto_flow": null,
            "grid_auto_rows": null,
            "grid_column": null,
            "grid_gap": null,
            "grid_row": null,
            "grid_template_areas": null,
            "grid_template_columns": null,
            "grid_template_rows": null,
            "height": null,
            "justify_content": null,
            "justify_items": null,
            "left": null,
            "margin": null,
            "max_height": null,
            "max_width": null,
            "min_height": null,
            "min_width": null,
            "object_fit": null,
            "object_position": null,
            "order": null,
            "overflow": null,
            "overflow_x": null,
            "overflow_y": null,
            "padding": null,
            "right": null,
            "top": null,
            "visibility": null,
            "width": null
          }
        },
        "bd483725b008419ea1fd0647b95e0c33": {
          "model_module": "@jupyter-widgets/controls",
          "model_module_version": "1.5.0",
          "model_name": "FloatProgressModel",
          "state": {
            "_dom_classes": [],
            "_model_module": "@jupyter-widgets/controls",
            "_model_module_version": "1.5.0",
            "_model_name": "FloatProgressModel",
            "_view_count": null,
            "_view_module": "@jupyter-widgets/controls",
            "_view_module_version": "1.5.0",
            "_view_name": "ProgressView",
            "bar_style": "success",
            "description": "",
            "description_tooltip": null,
            "layout": "IPY_MODEL_28d7805046b24abd8be76ae7fbd7ebd6",
            "max": 112,
            "min": 0,
            "orientation": "horizontal",
            "style": "IPY_MODEL_596aa05bd0a8402b9c6df197c4fcff0f",
            "value": 112
          }
        },
        "bd4f8b29f8c94361badf789abb27c8bb": {
          "model_module": "@jupyter-widgets/base",
          "model_module_version": "1.2.0",
          "model_name": "LayoutModel",
          "state": {
            "_model_module": "@jupyter-widgets/base",
            "_model_module_version": "1.2.0",
            "_model_name": "LayoutModel",
            "_view_count": null,
            "_view_module": "@jupyter-widgets/base",
            "_view_module_version": "1.2.0",
            "_view_name": "LayoutView",
            "align_content": null,
            "align_items": null,
            "align_self": null,
            "border": null,
            "bottom": null,
            "display": null,
            "flex": null,
            "flex_flow": null,
            "grid_area": null,
            "grid_auto_columns": null,
            "grid_auto_flow": null,
            "grid_auto_rows": null,
            "grid_column": null,
            "grid_gap": null,
            "grid_row": null,
            "grid_template_areas": null,
            "grid_template_columns": null,
            "grid_template_rows": null,
            "height": null,
            "justify_content": null,
            "justify_items": null,
            "left": null,
            "margin": null,
            "max_height": null,
            "max_width": null,
            "min_height": null,
            "min_width": null,
            "object_fit": null,
            "object_position": null,
            "order": null,
            "overflow": null,
            "overflow_x": null,
            "overflow_y": null,
            "padding": null,
            "right": null,
            "top": null,
            "visibility": null,
            "width": null
          }
        },
        "bd9cff6e5f694ef59e71ef204099b9ee": {
          "model_module": "@jupyter-widgets/base",
          "model_module_version": "1.2.0",
          "model_name": "LayoutModel",
          "state": {
            "_model_module": "@jupyter-widgets/base",
            "_model_module_version": "1.2.0",
            "_model_name": "LayoutModel",
            "_view_count": null,
            "_view_module": "@jupyter-widgets/base",
            "_view_module_version": "1.2.0",
            "_view_name": "LayoutView",
            "align_content": null,
            "align_items": null,
            "align_self": null,
            "border": null,
            "bottom": null,
            "display": null,
            "flex": null,
            "flex_flow": null,
            "grid_area": null,
            "grid_auto_columns": null,
            "grid_auto_flow": null,
            "grid_auto_rows": null,
            "grid_column": null,
            "grid_gap": null,
            "grid_row": null,
            "grid_template_areas": null,
            "grid_template_columns": null,
            "grid_template_rows": null,
            "height": null,
            "justify_content": null,
            "justify_items": null,
            "left": null,
            "margin": null,
            "max_height": null,
            "max_width": null,
            "min_height": null,
            "min_width": null,
            "object_fit": null,
            "object_position": null,
            "order": null,
            "overflow": null,
            "overflow_x": null,
            "overflow_y": null,
            "padding": null,
            "right": null,
            "top": null,
            "visibility": null,
            "width": null
          }
        },
        "bf47aa654e644b82a037102946fb97ce": {
          "model_module": "@jupyter-widgets/controls",
          "model_module_version": "1.5.0",
          "model_name": "HBoxModel",
          "state": {
            "_dom_classes": [],
            "_model_module": "@jupyter-widgets/controls",
            "_model_module_version": "1.5.0",
            "_model_name": "HBoxModel",
            "_view_count": null,
            "_view_module": "@jupyter-widgets/controls",
            "_view_module_version": "1.5.0",
            "_view_name": "HBoxView",
            "box_style": "",
            "children": [
              "IPY_MODEL_afd7ed095fff4c579446adee6c5e876e",
              "IPY_MODEL_7b0d634532464b23acd16aa470bb0e90",
              "IPY_MODEL_9cef99fbb70a4b688a04c52fa20eff7d"
            ],
            "layout": "IPY_MODEL_c3f8c89b55fa4ef99d1e8d8cce03780e"
          }
        },
        "bf73c5ae490c4801b632e2c93c2d8ca6": {
          "model_module": "@jupyter-widgets/controls",
          "model_module_version": "1.5.0",
          "model_name": "HTMLModel",
          "state": {
            "_dom_classes": [],
            "_model_module": "@jupyter-widgets/controls",
            "_model_module_version": "1.5.0",
            "_model_name": "HTMLModel",
            "_view_count": null,
            "_view_module": "@jupyter-widgets/controls",
            "_view_module_version": "1.5.0",
            "_view_name": "HTMLView",
            "description": "",
            "description_tooltip": null,
            "layout": "IPY_MODEL_5cd1507f371042aeacd47b9252a7f6ee",
            "placeholder": "​",
            "style": "IPY_MODEL_58234405500c45bcb2c01c0feed4906b",
            "value": " 3/3 [00:00&lt;00:00, 63.86it/s]"
          }
        },
        "c039d5af9be94e47a7e3dd1bc56d80a2": {
          "model_module": "@jupyter-widgets/controls",
          "model_module_version": "1.5.0",
          "model_name": "HBoxModel",
          "state": {
            "_dom_classes": [],
            "_model_module": "@jupyter-widgets/controls",
            "_model_module_version": "1.5.0",
            "_model_name": "HBoxModel",
            "_view_count": null,
            "_view_module": "@jupyter-widgets/controls",
            "_view_module_version": "1.5.0",
            "_view_name": "HBoxView",
            "box_style": "",
            "children": [
              "IPY_MODEL_61040bb0a595452bae2a9af925a9fc88",
              "IPY_MODEL_bd483725b008419ea1fd0647b95e0c33",
              "IPY_MODEL_8824c541d98c48a09ac7d396f344c1ee"
            ],
            "layout": "IPY_MODEL_017a5e36b3e94cd4891ac631eaa95e4d"
          }
        },
        "c0f1051c2b074faa8512639b14890707": {
          "model_module": "@jupyter-widgets/base",
          "model_module_version": "1.2.0",
          "model_name": "LayoutModel",
          "state": {
            "_model_module": "@jupyter-widgets/base",
            "_model_module_version": "1.2.0",
            "_model_name": "LayoutModel",
            "_view_count": null,
            "_view_module": "@jupyter-widgets/base",
            "_view_module_version": "1.2.0",
            "_view_name": "LayoutView",
            "align_content": null,
            "align_items": null,
            "align_self": null,
            "border": null,
            "bottom": null,
            "display": null,
            "flex": null,
            "flex_flow": null,
            "grid_area": null,
            "grid_auto_columns": null,
            "grid_auto_flow": null,
            "grid_auto_rows": null,
            "grid_column": null,
            "grid_gap": null,
            "grid_row": null,
            "grid_template_areas": null,
            "grid_template_columns": null,
            "grid_template_rows": null,
            "height": null,
            "justify_content": null,
            "justify_items": null,
            "left": null,
            "margin": null,
            "max_height": null,
            "max_width": null,
            "min_height": null,
            "min_width": null,
            "object_fit": null,
            "object_position": null,
            "order": null,
            "overflow": null,
            "overflow_x": null,
            "overflow_y": null,
            "padding": null,
            "right": null,
            "top": null,
            "visibility": null,
            "width": null
          }
        },
        "c171c5a4a0504852aa6959626dc9879b": {
          "model_module": "@jupyter-widgets/controls",
          "model_module_version": "1.5.0",
          "model_name": "DescriptionStyleModel",
          "state": {
            "_model_module": "@jupyter-widgets/controls",
            "_model_module_version": "1.5.0",
            "_model_name": "DescriptionStyleModel",
            "_view_count": null,
            "_view_module": "@jupyter-widgets/base",
            "_view_module_version": "1.2.0",
            "_view_name": "StyleView",
            "description_width": ""
          }
        },
        "c31021a6416e47c08bed22848edf3c95": {
          "model_module": "@jupyter-widgets/base",
          "model_module_version": "1.2.0",
          "model_name": "LayoutModel",
          "state": {
            "_model_module": "@jupyter-widgets/base",
            "_model_module_version": "1.2.0",
            "_model_name": "LayoutModel",
            "_view_count": null,
            "_view_module": "@jupyter-widgets/base",
            "_view_module_version": "1.2.0",
            "_view_name": "LayoutView",
            "align_content": null,
            "align_items": null,
            "align_self": null,
            "border": null,
            "bottom": null,
            "display": null,
            "flex": null,
            "flex_flow": null,
            "grid_area": null,
            "grid_auto_columns": null,
            "grid_auto_flow": null,
            "grid_auto_rows": null,
            "grid_column": null,
            "grid_gap": null,
            "grid_row": null,
            "grid_template_areas": null,
            "grid_template_columns": null,
            "grid_template_rows": null,
            "height": null,
            "justify_content": null,
            "justify_items": null,
            "left": null,
            "margin": null,
            "max_height": null,
            "max_width": null,
            "min_height": null,
            "min_width": null,
            "object_fit": null,
            "object_position": null,
            "order": null,
            "overflow": null,
            "overflow_x": null,
            "overflow_y": null,
            "padding": null,
            "right": null,
            "top": null,
            "visibility": null,
            "width": null
          }
        },
        "c391c092b67e411f9108609c32cd8b5d": {
          "model_module": "@jupyter-widgets/controls",
          "model_module_version": "1.5.0",
          "model_name": "HTMLModel",
          "state": {
            "_dom_classes": [],
            "_model_module": "@jupyter-widgets/controls",
            "_model_module_version": "1.5.0",
            "_model_name": "HTMLModel",
            "_view_count": null,
            "_view_module": "@jupyter-widgets/controls",
            "_view_module_version": "1.5.0",
            "_view_name": "HTMLView",
            "description": "",
            "description_tooltip": null,
            "layout": "IPY_MODEL_80a6f57feca948a5b7ed3446ab0cc262",
            "placeholder": "​",
            "style": "IPY_MODEL_72ec1fd5e394465eb5bba13320f298ba",
            "value": " 179k/? [00:00&lt;00:00, 2.88MB/s]"
          }
        },
        "c3f8c89b55fa4ef99d1e8d8cce03780e": {
          "model_module": "@jupyter-widgets/base",
          "model_module_version": "1.2.0",
          "model_name": "LayoutModel",
          "state": {
            "_model_module": "@jupyter-widgets/base",
            "_model_module_version": "1.2.0",
            "_model_name": "LayoutModel",
            "_view_count": null,
            "_view_module": "@jupyter-widgets/base",
            "_view_module_version": "1.2.0",
            "_view_name": "LayoutView",
            "align_content": null,
            "align_items": null,
            "align_self": null,
            "border": null,
            "bottom": null,
            "display": null,
            "flex": null,
            "flex_flow": null,
            "grid_area": null,
            "grid_auto_columns": null,
            "grid_auto_flow": null,
            "grid_auto_rows": null,
            "grid_column": null,
            "grid_gap": null,
            "grid_row": null,
            "grid_template_areas": null,
            "grid_template_columns": null,
            "grid_template_rows": null,
            "height": null,
            "justify_content": null,
            "justify_items": null,
            "left": null,
            "margin": null,
            "max_height": null,
            "max_width": null,
            "min_height": null,
            "min_width": null,
            "object_fit": null,
            "object_position": null,
            "order": null,
            "overflow": null,
            "overflow_x": null,
            "overflow_y": null,
            "padding": null,
            "right": null,
            "top": null,
            "visibility": null,
            "width": null
          }
        },
        "c425bccda610467294c1d0888e9e60e5": {
          "model_module": "@jupyter-widgets/controls",
          "model_module_version": "1.5.0",
          "model_name": "DescriptionStyleModel",
          "state": {
            "_model_module": "@jupyter-widgets/controls",
            "_model_module_version": "1.5.0",
            "_model_name": "DescriptionStyleModel",
            "_view_count": null,
            "_view_module": "@jupyter-widgets/base",
            "_view_module_version": "1.2.0",
            "_view_name": "StyleView",
            "description_width": ""
          }
        },
        "c5440496b794428a89e5f91a29f52e39": {
          "model_module": "@jupyter-widgets/controls",
          "model_module_version": "1.5.0",
          "model_name": "ProgressStyleModel",
          "state": {
            "_model_module": "@jupyter-widgets/controls",
            "_model_module_version": "1.5.0",
            "_model_name": "ProgressStyleModel",
            "_view_count": null,
            "_view_module": "@jupyter-widgets/base",
            "_view_module_version": "1.2.0",
            "_view_name": "StyleView",
            "bar_color": null,
            "description_width": ""
          }
        },
        "c632afb97e31434ebdfdf8e7a755d3ec": {
          "model_module": "@jupyter-widgets/controls",
          "model_module_version": "1.5.0",
          "model_name": "DescriptionStyleModel",
          "state": {
            "_model_module": "@jupyter-widgets/controls",
            "_model_module_version": "1.5.0",
            "_model_name": "DescriptionStyleModel",
            "_view_count": null,
            "_view_module": "@jupyter-widgets/base",
            "_view_module_version": "1.2.0",
            "_view_name": "StyleView",
            "description_width": ""
          }
        },
        "c667e4ee08674556822476d98e23ff2b": {
          "model_module": "@jupyter-widgets/controls",
          "model_module_version": "1.5.0",
          "model_name": "ProgressStyleModel",
          "state": {
            "_model_module": "@jupyter-widgets/controls",
            "_model_module_version": "1.5.0",
            "_model_name": "ProgressStyleModel",
            "_view_count": null,
            "_view_module": "@jupyter-widgets/base",
            "_view_module_version": "1.2.0",
            "_view_name": "StyleView",
            "bar_color": null,
            "description_width": ""
          }
        },
        "c673907fc2b6440ea32beef09aa4f88b": {
          "model_module": "@jupyter-widgets/base",
          "model_module_version": "1.2.0",
          "model_name": "LayoutModel",
          "state": {
            "_model_module": "@jupyter-widgets/base",
            "_model_module_version": "1.2.0",
            "_model_name": "LayoutModel",
            "_view_count": null,
            "_view_module": "@jupyter-widgets/base",
            "_view_module_version": "1.2.0",
            "_view_name": "LayoutView",
            "align_content": null,
            "align_items": null,
            "align_self": null,
            "border": null,
            "bottom": null,
            "display": null,
            "flex": null,
            "flex_flow": null,
            "grid_area": null,
            "grid_auto_columns": null,
            "grid_auto_flow": null,
            "grid_auto_rows": null,
            "grid_column": null,
            "grid_gap": null,
            "grid_row": null,
            "grid_template_areas": null,
            "grid_template_columns": null,
            "grid_template_rows": null,
            "height": null,
            "justify_content": null,
            "justify_items": null,
            "left": null,
            "margin": null,
            "max_height": null,
            "max_width": null,
            "min_height": null,
            "min_width": null,
            "object_fit": null,
            "object_position": null,
            "order": null,
            "overflow": null,
            "overflow_x": null,
            "overflow_y": null,
            "padding": null,
            "right": null,
            "top": null,
            "visibility": null,
            "width": null
          }
        },
        "c7457e5104584ee6815ab2b285a08d0e": {
          "model_module": "@jupyter-widgets/controls",
          "model_module_version": "1.5.0",
          "model_name": "DescriptionStyleModel",
          "state": {
            "_model_module": "@jupyter-widgets/controls",
            "_model_module_version": "1.5.0",
            "_model_name": "DescriptionStyleModel",
            "_view_count": null,
            "_view_module": "@jupyter-widgets/base",
            "_view_module_version": "1.2.0",
            "_view_name": "StyleView",
            "description_width": ""
          }
        },
        "c78dad6101124baabb44e2301f7ea156": {
          "model_module": "@jupyter-widgets/base",
          "model_module_version": "1.2.0",
          "model_name": "LayoutModel",
          "state": {
            "_model_module": "@jupyter-widgets/base",
            "_model_module_version": "1.2.0",
            "_model_name": "LayoutModel",
            "_view_count": null,
            "_view_module": "@jupyter-widgets/base",
            "_view_module_version": "1.2.0",
            "_view_name": "LayoutView",
            "align_content": null,
            "align_items": null,
            "align_self": null,
            "border": null,
            "bottom": null,
            "display": null,
            "flex": null,
            "flex_flow": null,
            "grid_area": null,
            "grid_auto_columns": null,
            "grid_auto_flow": null,
            "grid_auto_rows": null,
            "grid_column": null,
            "grid_gap": null,
            "grid_row": null,
            "grid_template_areas": null,
            "grid_template_columns": null,
            "grid_template_rows": null,
            "height": null,
            "justify_content": null,
            "justify_items": null,
            "left": null,
            "margin": null,
            "max_height": null,
            "max_width": null,
            "min_height": null,
            "min_width": null,
            "object_fit": null,
            "object_position": null,
            "order": null,
            "overflow": null,
            "overflow_x": null,
            "overflow_y": null,
            "padding": null,
            "right": null,
            "top": null,
            "visibility": null,
            "width": null
          }
        },
        "c7ccdd0704744a31ade21431ef3d6f84": {
          "model_module": "@jupyter-widgets/controls",
          "model_module_version": "1.5.0",
          "model_name": "HBoxModel",
          "state": {
            "_dom_classes": [],
            "_model_module": "@jupyter-widgets/controls",
            "_model_module_version": "1.5.0",
            "_model_name": "HBoxModel",
            "_view_count": null,
            "_view_module": "@jupyter-widgets/controls",
            "_view_module_version": "1.5.0",
            "_view_name": "HBoxView",
            "box_style": "",
            "children": [
              "IPY_MODEL_e94e158b04a040ae85e4e02e17dfc35d",
              "IPY_MODEL_f460295dd3d0413f908843282de9c854",
              "IPY_MODEL_7b0948ee72ae4af9867db45a8bc9ba25"
            ],
            "layout": "IPY_MODEL_6cd58c53a90e4cca90fa96582a104745"
          }
        },
        "c847b56ef7b84454b2dc7745a9fea697": {
          "model_module": "@jupyter-widgets/controls",
          "model_module_version": "1.5.0",
          "model_name": "HTMLModel",
          "state": {
            "_dom_classes": [],
            "_model_module": "@jupyter-widgets/controls",
            "_model_module_version": "1.5.0",
            "_model_name": "HTMLModel",
            "_view_count": null,
            "_view_module": "@jupyter-widgets/controls",
            "_view_module_version": "1.5.0",
            "_view_name": "HTMLView",
            "description": "",
            "description_tooltip": null,
            "layout": "IPY_MODEL_f31aaa4dd2a2404c9df97e0af94593a6",
            "placeholder": "​",
            "style": "IPY_MODEL_6d5fa06b75aa4f09a33b10d50a041421",
            "value": " 0/860 [00:00&lt;?, ? examples/s]"
          }
        },
        "c87b0d4413f745acb18223d22205dc72": {
          "model_module": "@jupyter-widgets/controls",
          "model_module_version": "1.5.0",
          "model_name": "DescriptionStyleModel",
          "state": {
            "_model_module": "@jupyter-widgets/controls",
            "_model_module_version": "1.5.0",
            "_model_name": "DescriptionStyleModel",
            "_view_count": null,
            "_view_module": "@jupyter-widgets/base",
            "_view_module_version": "1.2.0",
            "_view_name": "StyleView",
            "description_width": ""
          }
        },
        "c8b0cae92c164700a08e87f9fa1adeb6": {
          "model_module": "@jupyter-widgets/controls",
          "model_module_version": "1.5.0",
          "model_name": "DescriptionStyleModel",
          "state": {
            "_model_module": "@jupyter-widgets/controls",
            "_model_module_version": "1.5.0",
            "_model_name": "DescriptionStyleModel",
            "_view_count": null,
            "_view_module": "@jupyter-widgets/base",
            "_view_module_version": "1.2.0",
            "_view_name": "StyleView",
            "description_width": ""
          }
        },
        "c90e54bd2a9048c5b9e30c9392efa078": {
          "model_module": "@jupyter-widgets/base",
          "model_module_version": "1.2.0",
          "model_name": "LayoutModel",
          "state": {
            "_model_module": "@jupyter-widgets/base",
            "_model_module_version": "1.2.0",
            "_model_name": "LayoutModel",
            "_view_count": null,
            "_view_module": "@jupyter-widgets/base",
            "_view_module_version": "1.2.0",
            "_view_name": "LayoutView",
            "align_content": null,
            "align_items": null,
            "align_self": null,
            "border": null,
            "bottom": null,
            "display": null,
            "flex": null,
            "flex_flow": null,
            "grid_area": null,
            "grid_auto_columns": null,
            "grid_auto_flow": null,
            "grid_auto_rows": null,
            "grid_column": null,
            "grid_gap": null,
            "grid_row": null,
            "grid_template_areas": null,
            "grid_template_columns": null,
            "grid_template_rows": null,
            "height": null,
            "justify_content": null,
            "justify_items": null,
            "left": null,
            "margin": null,
            "max_height": null,
            "max_width": null,
            "min_height": null,
            "min_width": null,
            "object_fit": null,
            "object_position": null,
            "order": null,
            "overflow": null,
            "overflow_x": null,
            "overflow_y": null,
            "padding": null,
            "right": null,
            "top": null,
            "visibility": null,
            "width": null
          }
        },
        "c96fbd5cecf94013b417b5ae1ba366be": {
          "model_module": "@jupyter-widgets/base",
          "model_module_version": "1.2.0",
          "model_name": "LayoutModel",
          "state": {
            "_model_module": "@jupyter-widgets/base",
            "_model_module_version": "1.2.0",
            "_model_name": "LayoutModel",
            "_view_count": null,
            "_view_module": "@jupyter-widgets/base",
            "_view_module_version": "1.2.0",
            "_view_name": "LayoutView",
            "align_content": null,
            "align_items": null,
            "align_self": null,
            "border": null,
            "bottom": null,
            "display": null,
            "flex": null,
            "flex_flow": null,
            "grid_area": null,
            "grid_auto_columns": null,
            "grid_auto_flow": null,
            "grid_auto_rows": null,
            "grid_column": null,
            "grid_gap": null,
            "grid_row": null,
            "grid_template_areas": null,
            "grid_template_columns": null,
            "grid_template_rows": null,
            "height": null,
            "justify_content": null,
            "justify_items": null,
            "left": null,
            "margin": null,
            "max_height": null,
            "max_width": null,
            "min_height": null,
            "min_width": null,
            "object_fit": null,
            "object_position": null,
            "order": null,
            "overflow": null,
            "overflow_x": null,
            "overflow_y": null,
            "padding": null,
            "right": null,
            "top": null,
            "visibility": null,
            "width": null
          }
        },
        "c98b84819907434a909a9785a80699ec": {
          "model_module": "@jupyter-widgets/controls",
          "model_module_version": "1.5.0",
          "model_name": "HTMLModel",
          "state": {
            "_dom_classes": [],
            "_model_module": "@jupyter-widgets/controls",
            "_model_module_version": "1.5.0",
            "_model_name": "HTMLModel",
            "_view_count": null,
            "_view_module": "@jupyter-widgets/controls",
            "_view_module_version": "1.5.0",
            "_view_name": "HTMLView",
            "description": "",
            "description_tooltip": null,
            "layout": "IPY_MODEL_6db90a7d87c444d9bc5b84ac43759203",
            "placeholder": "​",
            "style": "IPY_MODEL_3cf3561f7e62489d893f5ac85aa9d925",
            "value": " 232k/232k [00:00&lt;00:00, 1.82MB/s]"
          }
        },
        "c98fea82ae8145be88d1565a8c6affdf": {
          "model_module": "@jupyter-widgets/controls",
          "model_module_version": "1.5.0",
          "model_name": "FloatProgressModel",
          "state": {
            "_dom_classes": [],
            "_model_module": "@jupyter-widgets/controls",
            "_model_module_version": "1.5.0",
            "_model_name": "FloatProgressModel",
            "_view_count": null,
            "_view_module": "@jupyter-widgets/controls",
            "_view_module_version": "1.5.0",
            "_view_name": "ProgressView",
            "bar_style": "success",
            "description": "",
            "description_tooltip": null,
            "layout": "IPY_MODEL_04f5750c717f4a34a020bac2eb83ee78",
            "max": 72563,
            "min": 0,
            "orientation": "horizontal",
            "style": "IPY_MODEL_def1f660d5d24f51a7a05ae55bc4c969",
            "value": 72563
          }
        },
        "c9eedaf0797c452cb2810482ed6b8913": {
          "model_module": "@jupyter-widgets/base",
          "model_module_version": "1.2.0",
          "model_name": "LayoutModel",
          "state": {
            "_model_module": "@jupyter-widgets/base",
            "_model_module_version": "1.2.0",
            "_model_name": "LayoutModel",
            "_view_count": null,
            "_view_module": "@jupyter-widgets/base",
            "_view_module_version": "1.2.0",
            "_view_name": "LayoutView",
            "align_content": null,
            "align_items": null,
            "align_self": null,
            "border": null,
            "bottom": null,
            "display": null,
            "flex": null,
            "flex_flow": null,
            "grid_area": null,
            "grid_auto_columns": null,
            "grid_auto_flow": null,
            "grid_auto_rows": null,
            "grid_column": null,
            "grid_gap": null,
            "grid_row": null,
            "grid_template_areas": null,
            "grid_template_columns": null,
            "grid_template_rows": null,
            "height": null,
            "justify_content": null,
            "justify_items": null,
            "left": null,
            "margin": null,
            "max_height": null,
            "max_width": null,
            "min_height": null,
            "min_width": null,
            "object_fit": null,
            "object_position": null,
            "order": null,
            "overflow": null,
            "overflow_x": null,
            "overflow_y": null,
            "padding": null,
            "right": null,
            "top": null,
            "visibility": null,
            "width": null
          }
        },
        "ca3fb22584d14b4fa785d2ed44959d01": {
          "model_module": "@jupyter-widgets/controls",
          "model_module_version": "1.5.0",
          "model_name": "FloatProgressModel",
          "state": {
            "_dom_classes": [],
            "_model_module": "@jupyter-widgets/controls",
            "_model_module_version": "1.5.0",
            "_model_name": "FloatProgressModel",
            "_view_count": null,
            "_view_module": "@jupyter-widgets/controls",
            "_view_module_version": "1.5.0",
            "_view_name": "ProgressView",
            "bar_style": "",
            "description": "",
            "description_tooltip": null,
            "layout": "IPY_MODEL_4ed4780f9b424d0cb98967c2de459aac",
            "max": 11916,
            "min": 0,
            "orientation": "horizontal",
            "style": "IPY_MODEL_fc2176b499304b7c9758954c6a86ad7d",
            "value": 11916
          }
        },
        "cb069cc0b8ba46bbb36d1007dfbdc556": {
          "model_module": "@jupyter-widgets/base",
          "model_module_version": "1.2.0",
          "model_name": "LayoutModel",
          "state": {
            "_model_module": "@jupyter-widgets/base",
            "_model_module_version": "1.2.0",
            "_model_name": "LayoutModel",
            "_view_count": null,
            "_view_module": "@jupyter-widgets/base",
            "_view_module_version": "1.2.0",
            "_view_name": "LayoutView",
            "align_content": null,
            "align_items": null,
            "align_self": null,
            "border": null,
            "bottom": null,
            "display": null,
            "flex": null,
            "flex_flow": null,
            "grid_area": null,
            "grid_auto_columns": null,
            "grid_auto_flow": null,
            "grid_auto_rows": null,
            "grid_column": null,
            "grid_gap": null,
            "grid_row": null,
            "grid_template_areas": null,
            "grid_template_columns": null,
            "grid_template_rows": null,
            "height": null,
            "justify_content": null,
            "justify_items": null,
            "left": null,
            "margin": null,
            "max_height": null,
            "max_width": null,
            "min_height": null,
            "min_width": null,
            "object_fit": null,
            "object_position": null,
            "order": null,
            "overflow": null,
            "overflow_x": null,
            "overflow_y": null,
            "padding": null,
            "right": null,
            "top": null,
            "visibility": null,
            "width": null
          }
        },
        "cb866cea62a646baabb705505adcb8d0": {
          "model_module": "@jupyter-widgets/base",
          "model_module_version": "1.2.0",
          "model_name": "LayoutModel",
          "state": {
            "_model_module": "@jupyter-widgets/base",
            "_model_module_version": "1.2.0",
            "_model_name": "LayoutModel",
            "_view_count": null,
            "_view_module": "@jupyter-widgets/base",
            "_view_module_version": "1.2.0",
            "_view_name": "LayoutView",
            "align_content": null,
            "align_items": null,
            "align_self": null,
            "border": null,
            "bottom": null,
            "display": null,
            "flex": null,
            "flex_flow": null,
            "grid_area": null,
            "grid_auto_columns": null,
            "grid_auto_flow": null,
            "grid_auto_rows": null,
            "grid_column": null,
            "grid_gap": null,
            "grid_row": null,
            "grid_template_areas": null,
            "grid_template_columns": null,
            "grid_template_rows": null,
            "height": null,
            "justify_content": null,
            "justify_items": null,
            "left": null,
            "margin": null,
            "max_height": null,
            "max_width": null,
            "min_height": null,
            "min_width": null,
            "object_fit": null,
            "object_position": null,
            "order": null,
            "overflow": null,
            "overflow_x": null,
            "overflow_y": null,
            "padding": null,
            "right": null,
            "top": null,
            "visibility": null,
            "width": null
          }
        },
        "cba71493f3054d22bf1195f4e9f4a228": {
          "model_module": "@jupyter-widgets/controls",
          "model_module_version": "1.5.0",
          "model_name": "DescriptionStyleModel",
          "state": {
            "_model_module": "@jupyter-widgets/controls",
            "_model_module_version": "1.5.0",
            "_model_name": "DescriptionStyleModel",
            "_view_count": null,
            "_view_module": "@jupyter-widgets/base",
            "_view_module_version": "1.2.0",
            "_view_name": "StyleView",
            "description_width": ""
          }
        },
        "cbbe8565d23348e48744c97079468ccb": {
          "model_module": "@jupyter-widgets/base",
          "model_module_version": "1.2.0",
          "model_name": "LayoutModel",
          "state": {
            "_model_module": "@jupyter-widgets/base",
            "_model_module_version": "1.2.0",
            "_model_name": "LayoutModel",
            "_view_count": null,
            "_view_module": "@jupyter-widgets/base",
            "_view_module_version": "1.2.0",
            "_view_name": "LayoutView",
            "align_content": null,
            "align_items": null,
            "align_self": null,
            "border": null,
            "bottom": null,
            "display": null,
            "flex": null,
            "flex_flow": null,
            "grid_area": null,
            "grid_auto_columns": null,
            "grid_auto_flow": null,
            "grid_auto_rows": null,
            "grid_column": null,
            "grid_gap": null,
            "grid_row": null,
            "grid_template_areas": null,
            "grid_template_columns": null,
            "grid_template_rows": null,
            "height": null,
            "justify_content": null,
            "justify_items": null,
            "left": null,
            "margin": null,
            "max_height": null,
            "max_width": null,
            "min_height": null,
            "min_width": null,
            "object_fit": null,
            "object_position": null,
            "order": null,
            "overflow": null,
            "overflow_x": null,
            "overflow_y": null,
            "padding": null,
            "right": null,
            "top": null,
            "visibility": null,
            "width": null
          }
        },
        "ccece0f6b8d543b9b33ca0b4f0e048b0": {
          "model_module": "@jupyter-widgets/base",
          "model_module_version": "1.2.0",
          "model_name": "LayoutModel",
          "state": {
            "_model_module": "@jupyter-widgets/base",
            "_model_module_version": "1.2.0",
            "_model_name": "LayoutModel",
            "_view_count": null,
            "_view_module": "@jupyter-widgets/base",
            "_view_module_version": "1.2.0",
            "_view_name": "LayoutView",
            "align_content": null,
            "align_items": null,
            "align_self": null,
            "border": null,
            "bottom": null,
            "display": null,
            "flex": null,
            "flex_flow": null,
            "grid_area": null,
            "grid_auto_columns": null,
            "grid_auto_flow": null,
            "grid_auto_rows": null,
            "grid_column": null,
            "grid_gap": null,
            "grid_row": null,
            "grid_template_areas": null,
            "grid_template_columns": null,
            "grid_template_rows": null,
            "height": null,
            "justify_content": null,
            "justify_items": null,
            "left": null,
            "margin": null,
            "max_height": null,
            "max_width": null,
            "min_height": null,
            "min_width": null,
            "object_fit": null,
            "object_position": null,
            "order": null,
            "overflow": null,
            "overflow_x": null,
            "overflow_y": null,
            "padding": null,
            "right": null,
            "top": null,
            "visibility": null,
            "width": null
          }
        },
        "ce442d95b235442e907d6c7d07ca0b1c": {
          "model_module": "@jupyter-widgets/controls",
          "model_module_version": "1.5.0",
          "model_name": "HBoxModel",
          "state": {
            "_dom_classes": [],
            "_model_module": "@jupyter-widgets/controls",
            "_model_module_version": "1.5.0",
            "_model_name": "HBoxModel",
            "_view_count": null,
            "_view_module": "@jupyter-widgets/controls",
            "_view_module_version": "1.5.0",
            "_view_name": "HBoxView",
            "box_style": "",
            "children": [
              "IPY_MODEL_6f3d053d8a65471a8e97725fe847251d",
              "IPY_MODEL_5506b3c09934462ca0098a15d720fe1d",
              "IPY_MODEL_573284e164084ae9b6c0b8d63f596703"
            ],
            "layout": "IPY_MODEL_6e29030189ab49fd93c1ad5ce65be6e9"
          }
        },
        "ce4aedeca62c481d8e9907c196ea3282": {
          "model_module": "@jupyter-widgets/base",
          "model_module_version": "1.2.0",
          "model_name": "LayoutModel",
          "state": {
            "_model_module": "@jupyter-widgets/base",
            "_model_module_version": "1.2.0",
            "_model_name": "LayoutModel",
            "_view_count": null,
            "_view_module": "@jupyter-widgets/base",
            "_view_module_version": "1.2.0",
            "_view_name": "LayoutView",
            "align_content": null,
            "align_items": null,
            "align_self": null,
            "border": null,
            "bottom": null,
            "display": null,
            "flex": null,
            "flex_flow": null,
            "grid_area": null,
            "grid_auto_columns": null,
            "grid_auto_flow": null,
            "grid_auto_rows": null,
            "grid_column": null,
            "grid_gap": null,
            "grid_row": null,
            "grid_template_areas": null,
            "grid_template_columns": null,
            "grid_template_rows": null,
            "height": null,
            "justify_content": null,
            "justify_items": null,
            "left": null,
            "margin": null,
            "max_height": null,
            "max_width": null,
            "min_height": null,
            "min_width": null,
            "object_fit": null,
            "object_position": null,
            "order": null,
            "overflow": null,
            "overflow_x": null,
            "overflow_y": null,
            "padding": null,
            "right": null,
            "top": null,
            "visibility": null,
            "width": null
          }
        },
        "d023550053d04166a53d66005751ee1a": {
          "model_module": "@jupyter-widgets/base",
          "model_module_version": "1.2.0",
          "model_name": "LayoutModel",
          "state": {
            "_model_module": "@jupyter-widgets/base",
            "_model_module_version": "1.2.0",
            "_model_name": "LayoutModel",
            "_view_count": null,
            "_view_module": "@jupyter-widgets/base",
            "_view_module_version": "1.2.0",
            "_view_name": "LayoutView",
            "align_content": null,
            "align_items": null,
            "align_self": null,
            "border": null,
            "bottom": null,
            "display": null,
            "flex": null,
            "flex_flow": null,
            "grid_area": null,
            "grid_auto_columns": null,
            "grid_auto_flow": null,
            "grid_auto_rows": null,
            "grid_column": null,
            "grid_gap": null,
            "grid_row": null,
            "grid_template_areas": null,
            "grid_template_columns": null,
            "grid_template_rows": null,
            "height": null,
            "justify_content": null,
            "justify_items": null,
            "left": null,
            "margin": null,
            "max_height": null,
            "max_width": null,
            "min_height": null,
            "min_width": null,
            "object_fit": null,
            "object_position": null,
            "order": null,
            "overflow": null,
            "overflow_x": null,
            "overflow_y": null,
            "padding": null,
            "right": null,
            "top": null,
            "visibility": null,
            "width": null
          }
        },
        "d1a8e5439f8a4704aa7878e7a1d384c9": {
          "model_module": "@jupyter-widgets/base",
          "model_module_version": "1.2.0",
          "model_name": "LayoutModel",
          "state": {
            "_model_module": "@jupyter-widgets/base",
            "_model_module_version": "1.2.0",
            "_model_name": "LayoutModel",
            "_view_count": null,
            "_view_module": "@jupyter-widgets/base",
            "_view_module_version": "1.2.0",
            "_view_name": "LayoutView",
            "align_content": null,
            "align_items": null,
            "align_self": null,
            "border": null,
            "bottom": null,
            "display": null,
            "flex": null,
            "flex_flow": null,
            "grid_area": null,
            "grid_auto_columns": null,
            "grid_auto_flow": null,
            "grid_auto_rows": null,
            "grid_column": null,
            "grid_gap": null,
            "grid_row": null,
            "grid_template_areas": null,
            "grid_template_columns": null,
            "grid_template_rows": null,
            "height": null,
            "justify_content": null,
            "justify_items": null,
            "left": null,
            "margin": null,
            "max_height": null,
            "max_width": null,
            "min_height": null,
            "min_width": null,
            "object_fit": null,
            "object_position": null,
            "order": null,
            "overflow": null,
            "overflow_x": null,
            "overflow_y": null,
            "padding": null,
            "right": null,
            "top": null,
            "visibility": null,
            "width": null
          }
        },
        "d2cbc694008a4674afe14bfe9d5a00af": {
          "model_module": "@jupyter-widgets/base",
          "model_module_version": "1.2.0",
          "model_name": "LayoutModel",
          "state": {
            "_model_module": "@jupyter-widgets/base",
            "_model_module_version": "1.2.0",
            "_model_name": "LayoutModel",
            "_view_count": null,
            "_view_module": "@jupyter-widgets/base",
            "_view_module_version": "1.2.0",
            "_view_name": "LayoutView",
            "align_content": null,
            "align_items": null,
            "align_self": null,
            "border": null,
            "bottom": null,
            "display": null,
            "flex": null,
            "flex_flow": null,
            "grid_area": null,
            "grid_auto_columns": null,
            "grid_auto_flow": null,
            "grid_auto_rows": null,
            "grid_column": null,
            "grid_gap": null,
            "grid_row": null,
            "grid_template_areas": null,
            "grid_template_columns": null,
            "grid_template_rows": null,
            "height": null,
            "justify_content": null,
            "justify_items": null,
            "left": null,
            "margin": null,
            "max_height": null,
            "max_width": null,
            "min_height": null,
            "min_width": null,
            "object_fit": null,
            "object_position": null,
            "order": null,
            "overflow": null,
            "overflow_x": null,
            "overflow_y": null,
            "padding": null,
            "right": null,
            "top": null,
            "visibility": null,
            "width": null
          }
        },
        "d302925d6613414b9ab7d6f62c2f1211": {
          "model_module": "@jupyter-widgets/controls",
          "model_module_version": "1.5.0",
          "model_name": "DescriptionStyleModel",
          "state": {
            "_model_module": "@jupyter-widgets/controls",
            "_model_module_version": "1.5.0",
            "_model_name": "DescriptionStyleModel",
            "_view_count": null,
            "_view_module": "@jupyter-widgets/base",
            "_view_module_version": "1.2.0",
            "_view_name": "StyleView",
            "description_width": ""
          }
        },
        "d36325e2ecbd4587a36fbacf317ec769": {
          "model_module": "@jupyter-widgets/controls",
          "model_module_version": "1.5.0",
          "model_name": "HTMLModel",
          "state": {
            "_dom_classes": [],
            "_model_module": "@jupyter-widgets/controls",
            "_model_module_version": "1.5.0",
            "_model_name": "HTMLModel",
            "_view_count": null,
            "_view_module": "@jupyter-widgets/controls",
            "_view_module_version": "1.5.0",
            "_view_name": "HTMLView",
            "description": "",
            "description_tooltip": null,
            "layout": "IPY_MODEL_ce4aedeca62c481d8e9907c196ea3282",
            "placeholder": "​",
            "style": "IPY_MODEL_d302925d6613414b9ab7d6f62c2f1211",
            "value": " 349/349 [00:00&lt;00:00, 14.1kB/s]"
          }
        },
        "d582a594cfbf4d93bbbb165dda4ee266": {
          "model_module": "@jupyter-widgets/controls",
          "model_module_version": "1.5.0",
          "model_name": "DescriptionStyleModel",
          "state": {
            "_model_module": "@jupyter-widgets/controls",
            "_model_module_version": "1.5.0",
            "_model_name": "DescriptionStyleModel",
            "_view_count": null,
            "_view_module": "@jupyter-widgets/base",
            "_view_module_version": "1.2.0",
            "_view_name": "StyleView",
            "description_width": ""
          }
        },
        "d6e484a0aafe49f7bcb32699ee748875": {
          "model_module": "@jupyter-widgets/base",
          "model_module_version": "1.2.0",
          "model_name": "LayoutModel",
          "state": {
            "_model_module": "@jupyter-widgets/base",
            "_model_module_version": "1.2.0",
            "_model_name": "LayoutModel",
            "_view_count": null,
            "_view_module": "@jupyter-widgets/base",
            "_view_module_version": "1.2.0",
            "_view_name": "LayoutView",
            "align_content": null,
            "align_items": null,
            "align_self": null,
            "border": null,
            "bottom": null,
            "display": null,
            "flex": null,
            "flex_flow": null,
            "grid_area": null,
            "grid_auto_columns": null,
            "grid_auto_flow": null,
            "grid_auto_rows": null,
            "grid_column": null,
            "grid_gap": null,
            "grid_row": null,
            "grid_template_areas": null,
            "grid_template_columns": null,
            "grid_template_rows": null,
            "height": null,
            "justify_content": null,
            "justify_items": null,
            "left": null,
            "margin": null,
            "max_height": null,
            "max_width": null,
            "min_height": null,
            "min_width": null,
            "object_fit": null,
            "object_position": null,
            "order": null,
            "overflow": null,
            "overflow_x": null,
            "overflow_y": null,
            "padding": null,
            "right": null,
            "top": null,
            "visibility": null,
            "width": null
          }
        },
        "d77ac075c00a42e98be444af608f266e": {
          "model_module": "@jupyter-widgets/base",
          "model_module_version": "1.2.0",
          "model_name": "LayoutModel",
          "state": {
            "_model_module": "@jupyter-widgets/base",
            "_model_module_version": "1.2.0",
            "_model_name": "LayoutModel",
            "_view_count": null,
            "_view_module": "@jupyter-widgets/base",
            "_view_module_version": "1.2.0",
            "_view_name": "LayoutView",
            "align_content": null,
            "align_items": null,
            "align_self": null,
            "border": null,
            "bottom": null,
            "display": null,
            "flex": null,
            "flex_flow": null,
            "grid_area": null,
            "grid_auto_columns": null,
            "grid_auto_flow": null,
            "grid_auto_rows": null,
            "grid_column": null,
            "grid_gap": null,
            "grid_row": null,
            "grid_template_areas": null,
            "grid_template_columns": null,
            "grid_template_rows": null,
            "height": null,
            "justify_content": null,
            "justify_items": null,
            "left": null,
            "margin": null,
            "max_height": null,
            "max_width": null,
            "min_height": null,
            "min_width": null,
            "object_fit": null,
            "object_position": null,
            "order": null,
            "overflow": null,
            "overflow_x": null,
            "overflow_y": null,
            "padding": null,
            "right": null,
            "top": null,
            "visibility": null,
            "width": null
          }
        },
        "d81aa69eb6634457aa9e986d360319b3": {
          "model_module": "@jupyter-widgets/base",
          "model_module_version": "1.2.0",
          "model_name": "LayoutModel",
          "state": {
            "_model_module": "@jupyter-widgets/base",
            "_model_module_version": "1.2.0",
            "_model_name": "LayoutModel",
            "_view_count": null,
            "_view_module": "@jupyter-widgets/base",
            "_view_module_version": "1.2.0",
            "_view_name": "LayoutView",
            "align_content": null,
            "align_items": null,
            "align_self": null,
            "border": null,
            "bottom": null,
            "display": null,
            "flex": null,
            "flex_flow": null,
            "grid_area": null,
            "grid_auto_columns": null,
            "grid_auto_flow": null,
            "grid_auto_rows": null,
            "grid_column": null,
            "grid_gap": null,
            "grid_row": null,
            "grid_template_areas": null,
            "grid_template_columns": null,
            "grid_template_rows": null,
            "height": null,
            "justify_content": null,
            "justify_items": null,
            "left": null,
            "margin": null,
            "max_height": null,
            "max_width": null,
            "min_height": null,
            "min_width": null,
            "object_fit": null,
            "object_position": null,
            "order": null,
            "overflow": null,
            "overflow_x": null,
            "overflow_y": null,
            "padding": null,
            "right": null,
            "top": null,
            "visibility": null,
            "width": null
          }
        },
        "d8490e1aceba4ddba8c9a783374c0335": {
          "model_module": "@jupyter-widgets/controls",
          "model_module_version": "1.5.0",
          "model_name": "DescriptionStyleModel",
          "state": {
            "_model_module": "@jupyter-widgets/controls",
            "_model_module_version": "1.5.0",
            "_model_name": "DescriptionStyleModel",
            "_view_count": null,
            "_view_module": "@jupyter-widgets/base",
            "_view_module_version": "1.2.0",
            "_view_name": "StyleView",
            "description_width": ""
          }
        },
        "d85341de55084dfdb922637e9237ba08": {
          "model_module": "@jupyter-widgets/base",
          "model_module_version": "1.2.0",
          "model_name": "LayoutModel",
          "state": {
            "_model_module": "@jupyter-widgets/base",
            "_model_module_version": "1.2.0",
            "_model_name": "LayoutModel",
            "_view_count": null,
            "_view_module": "@jupyter-widgets/base",
            "_view_module_version": "1.2.0",
            "_view_name": "LayoutView",
            "align_content": null,
            "align_items": null,
            "align_self": null,
            "border": null,
            "bottom": null,
            "display": null,
            "flex": null,
            "flex_flow": null,
            "grid_area": null,
            "grid_auto_columns": null,
            "grid_auto_flow": null,
            "grid_auto_rows": null,
            "grid_column": null,
            "grid_gap": null,
            "grid_row": null,
            "grid_template_areas": null,
            "grid_template_columns": null,
            "grid_template_rows": null,
            "height": null,
            "justify_content": null,
            "justify_items": null,
            "left": null,
            "margin": null,
            "max_height": null,
            "max_width": null,
            "min_height": null,
            "min_width": null,
            "object_fit": null,
            "object_position": null,
            "order": null,
            "overflow": null,
            "overflow_x": null,
            "overflow_y": null,
            "padding": null,
            "right": null,
            "top": null,
            "visibility": null,
            "width": null
          }
        },
        "d893eac5d58049f7a72802061d1b06b0": {
          "model_module": "@jupyter-widgets/controls",
          "model_module_version": "1.5.0",
          "model_name": "HTMLModel",
          "state": {
            "_dom_classes": [],
            "_model_module": "@jupyter-widgets/controls",
            "_model_module_version": "1.5.0",
            "_model_name": "HTMLModel",
            "_view_count": null,
            "_view_module": "@jupyter-widgets/controls",
            "_view_module_version": "1.5.0",
            "_view_name": "HTMLView",
            "description": "",
            "description_tooltip": null,
            "layout": "IPY_MODEL_8d969d7435dc4a938c726e03ac3ab5e4",
            "placeholder": "​",
            "style": "IPY_MODEL_5c0afac5efcd424e8097edd5d459339a",
            "value": "Downloading metadata: 100%"
          }
        },
        "d8c346c7c1644a3e901d55b256a3cb76": {
          "model_module": "@jupyter-widgets/base",
          "model_module_version": "1.2.0",
          "model_name": "LayoutModel",
          "state": {
            "_model_module": "@jupyter-widgets/base",
            "_model_module_version": "1.2.0",
            "_model_name": "LayoutModel",
            "_view_count": null,
            "_view_module": "@jupyter-widgets/base",
            "_view_module_version": "1.2.0",
            "_view_name": "LayoutView",
            "align_content": null,
            "align_items": null,
            "align_self": null,
            "border": null,
            "bottom": null,
            "display": null,
            "flex": null,
            "flex_flow": null,
            "grid_area": null,
            "grid_auto_columns": null,
            "grid_auto_flow": null,
            "grid_auto_rows": null,
            "grid_column": null,
            "grid_gap": null,
            "grid_row": null,
            "grid_template_areas": null,
            "grid_template_columns": null,
            "grid_template_rows": null,
            "height": null,
            "justify_content": null,
            "justify_items": null,
            "left": null,
            "margin": null,
            "max_height": null,
            "max_width": null,
            "min_height": null,
            "min_width": null,
            "object_fit": null,
            "object_position": null,
            "order": null,
            "overflow": null,
            "overflow_x": null,
            "overflow_y": null,
            "padding": null,
            "right": null,
            "top": null,
            "visibility": null,
            "width": null
          }
        },
        "da2fb5a8b75e4821a58edade566a540f": {
          "model_module": "@jupyter-widgets/base",
          "model_module_version": "1.2.0",
          "model_name": "LayoutModel",
          "state": {
            "_model_module": "@jupyter-widgets/base",
            "_model_module_version": "1.2.0",
            "_model_name": "LayoutModel",
            "_view_count": null,
            "_view_module": "@jupyter-widgets/base",
            "_view_module_version": "1.2.0",
            "_view_name": "LayoutView",
            "align_content": null,
            "align_items": null,
            "align_self": null,
            "border": null,
            "bottom": null,
            "display": null,
            "flex": null,
            "flex_flow": null,
            "grid_area": null,
            "grid_auto_columns": null,
            "grid_auto_flow": null,
            "grid_auto_rows": null,
            "grid_column": null,
            "grid_gap": null,
            "grid_row": null,
            "grid_template_areas": null,
            "grid_template_columns": null,
            "grid_template_rows": null,
            "height": null,
            "justify_content": null,
            "justify_items": null,
            "left": null,
            "margin": null,
            "max_height": null,
            "max_width": null,
            "min_height": null,
            "min_width": null,
            "object_fit": null,
            "object_position": null,
            "order": null,
            "overflow": null,
            "overflow_x": null,
            "overflow_y": null,
            "padding": null,
            "right": null,
            "top": null,
            "visibility": null,
            "width": null
          }
        },
        "da951d3ab83e4e3ea668a7b07cf5e122": {
          "model_module": "@jupyter-widgets/controls",
          "model_module_version": "1.5.0",
          "model_name": "HTMLModel",
          "state": {
            "_dom_classes": [],
            "_model_module": "@jupyter-widgets/controls",
            "_model_module_version": "1.5.0",
            "_model_name": "HTMLModel",
            "_view_count": null,
            "_view_module": "@jupyter-widgets/controls",
            "_view_module_version": "1.5.0",
            "_view_name": "HTMLView",
            "description": "",
            "description_tooltip": null,
            "layout": "IPY_MODEL_1f5bd57c3e284ba6b3236e3a4eea7ee0",
            "placeholder": "​",
            "style": "IPY_MODEL_b6eb58f72faf4b3c9eee2eb06209a49a",
            "value": "Downloading (…)olve/main/merges.txt: 100%"
          }
        },
        "db019cfd69534b07b2e2072cf28a7070": {
          "model_module": "@jupyter-widgets/controls",
          "model_module_version": "1.5.0",
          "model_name": "FloatProgressModel",
          "state": {
            "_dom_classes": [],
            "_model_module": "@jupyter-widgets/controls",
            "_model_module_version": "1.5.0",
            "_model_name": "FloatProgressModel",
            "_view_count": null,
            "_view_module": "@jupyter-widgets/controls",
            "_view_module_version": "1.5.0",
            "_view_name": "ProgressView",
            "bar_style": "success",
            "description": "",
            "description_tooltip": null,
            "layout": "IPY_MODEL_573fc09d194a448c835d73d134dc9571",
            "max": 3,
            "min": 0,
            "orientation": "horizontal",
            "style": "IPY_MODEL_c5440496b794428a89e5f91a29f52e39",
            "value": 3
          }
        },
        "db5888638d8748b3af24273428170c8c": {
          "model_module": "@jupyter-widgets/controls",
          "model_module_version": "1.5.0",
          "model_name": "HTMLModel",
          "state": {
            "_dom_classes": [],
            "_model_module": "@jupyter-widgets/controls",
            "_model_module_version": "1.5.0",
            "_model_name": "HTMLModel",
            "_view_count": null,
            "_view_module": "@jupyter-widgets/controls",
            "_view_module_version": "1.5.0",
            "_view_name": "HTMLView",
            "description": "",
            "description_tooltip": null,
            "layout": "IPY_MODEL_230c393b3d094265b6f10898a9991ee7",
            "placeholder": "​",
            "style": "IPY_MODEL_f97908075e764a4182df6c9b839332b4",
            "value": "Downloading (…)5de9125/modules.json: 100%"
          }
        },
        "dbad05f268bf468d9a03ad5cf47dbd72": {
          "model_module": "@jupyter-widgets/controls",
          "model_module_version": "1.5.0",
          "model_name": "ProgressStyleModel",
          "state": {
            "_model_module": "@jupyter-widgets/controls",
            "_model_module_version": "1.5.0",
            "_model_name": "ProgressStyleModel",
            "_view_count": null,
            "_view_module": "@jupyter-widgets/base",
            "_view_module_version": "1.2.0",
            "_view_name": "StyleView",
            "bar_color": null,
            "description_width": ""
          }
        },
        "dc8a91f567854c43bb4a79cc02dd7f58": {
          "model_module": "@jupyter-widgets/controls",
          "model_module_version": "1.5.0",
          "model_name": "HTMLModel",
          "state": {
            "_dom_classes": [],
            "_model_module": "@jupyter-widgets/controls",
            "_model_module_version": "1.5.0",
            "_model_name": "HTMLModel",
            "_view_count": null,
            "_view_module": "@jupyter-widgets/controls",
            "_view_module_version": "1.5.0",
            "_view_name": "HTMLView",
            "description": "",
            "description_tooltip": null,
            "layout": "IPY_MODEL_d1a8e5439f8a4704aa7878e7a1d384c9",
            "placeholder": "​",
            "style": "IPY_MODEL_c87b0d4413f745acb18223d22205dc72",
            "value": "Downloading data: "
          }
        },
        "dd1e58422a474c199e6a1bc41615c78e": {
          "model_module": "@jupyter-widgets/base",
          "model_module_version": "1.2.0",
          "model_name": "LayoutModel",
          "state": {
            "_model_module": "@jupyter-widgets/base",
            "_model_module_version": "1.2.0",
            "_model_name": "LayoutModel",
            "_view_count": null,
            "_view_module": "@jupyter-widgets/base",
            "_view_module_version": "1.2.0",
            "_view_name": "LayoutView",
            "align_content": null,
            "align_items": null,
            "align_self": null,
            "border": null,
            "bottom": null,
            "display": null,
            "flex": null,
            "flex_flow": null,
            "grid_area": null,
            "grid_auto_columns": null,
            "grid_auto_flow": null,
            "grid_auto_rows": null,
            "grid_column": null,
            "grid_gap": null,
            "grid_row": null,
            "grid_template_areas": null,
            "grid_template_columns": null,
            "grid_template_rows": null,
            "height": null,
            "justify_content": null,
            "justify_items": null,
            "left": null,
            "margin": null,
            "max_height": null,
            "max_width": null,
            "min_height": null,
            "min_width": null,
            "object_fit": null,
            "object_position": null,
            "order": null,
            "overflow": null,
            "overflow_x": null,
            "overflow_y": null,
            "padding": null,
            "right": null,
            "top": null,
            "visibility": "hidden",
            "width": null
          }
        },
        "def1f660d5d24f51a7a05ae55bc4c969": {
          "model_module": "@jupyter-widgets/controls",
          "model_module_version": "1.5.0",
          "model_name": "ProgressStyleModel",
          "state": {
            "_model_module": "@jupyter-widgets/controls",
            "_model_module_version": "1.5.0",
            "_model_name": "ProgressStyleModel",
            "_view_count": null,
            "_view_module": "@jupyter-widgets/base",
            "_view_module_version": "1.2.0",
            "_view_name": "StyleView",
            "bar_color": null,
            "description_width": ""
          }
        },
        "df870afa459d460ebb401572ed0ab860": {
          "model_module": "@jupyter-widgets/base",
          "model_module_version": "1.2.0",
          "model_name": "LayoutModel",
          "state": {
            "_model_module": "@jupyter-widgets/base",
            "_model_module_version": "1.2.0",
            "_model_name": "LayoutModel",
            "_view_count": null,
            "_view_module": "@jupyter-widgets/base",
            "_view_module_version": "1.2.0",
            "_view_name": "LayoutView",
            "align_content": null,
            "align_items": null,
            "align_self": null,
            "border": null,
            "bottom": null,
            "display": null,
            "flex": null,
            "flex_flow": null,
            "grid_area": null,
            "grid_auto_columns": null,
            "grid_auto_flow": null,
            "grid_auto_rows": null,
            "grid_column": null,
            "grid_gap": null,
            "grid_row": null,
            "grid_template_areas": null,
            "grid_template_columns": null,
            "grid_template_rows": null,
            "height": null,
            "justify_content": null,
            "justify_items": null,
            "left": null,
            "margin": null,
            "max_height": null,
            "max_width": null,
            "min_height": null,
            "min_width": null,
            "object_fit": null,
            "object_position": null,
            "order": null,
            "overflow": null,
            "overflow_x": null,
            "overflow_y": null,
            "padding": null,
            "right": null,
            "top": null,
            "visibility": null,
            "width": null
          }
        },
        "e07d1635343c4f96b0fe5938c33eade9": {
          "model_module": "@jupyter-widgets/controls",
          "model_module_version": "1.5.0",
          "model_name": "HTMLModel",
          "state": {
            "_dom_classes": [],
            "_model_module": "@jupyter-widgets/controls",
            "_model_module_version": "1.5.0",
            "_model_name": "HTMLModel",
            "_view_count": null,
            "_view_module": "@jupyter-widgets/controls",
            "_view_module_version": "1.5.0",
            "_view_name": "HTMLView",
            "description": "",
            "description_tooltip": null,
            "layout": "IPY_MODEL_333273c3c3c445b7a734e8192c99e363",
            "placeholder": "​",
            "style": "IPY_MODEL_91b177c93f72413daf8dc56e55afaaa7",
            "value": "Downloading data: "
          }
        },
        "e29df093d8d0450c9e7d9b90e02c21d6": {
          "model_module": "@jupyter-widgets/base",
          "model_module_version": "1.2.0",
          "model_name": "LayoutModel",
          "state": {
            "_model_module": "@jupyter-widgets/base",
            "_model_module_version": "1.2.0",
            "_model_name": "LayoutModel",
            "_view_count": null,
            "_view_module": "@jupyter-widgets/base",
            "_view_module_version": "1.2.0",
            "_view_name": "LayoutView",
            "align_content": null,
            "align_items": null,
            "align_self": null,
            "border": null,
            "bottom": null,
            "display": null,
            "flex": null,
            "flex_flow": null,
            "grid_area": null,
            "grid_auto_columns": null,
            "grid_auto_flow": null,
            "grid_auto_rows": null,
            "grid_column": null,
            "grid_gap": null,
            "grid_row": null,
            "grid_template_areas": null,
            "grid_template_columns": null,
            "grid_template_rows": null,
            "height": null,
            "justify_content": null,
            "justify_items": null,
            "left": null,
            "margin": null,
            "max_height": null,
            "max_width": null,
            "min_height": null,
            "min_width": null,
            "object_fit": null,
            "object_position": null,
            "order": null,
            "overflow": null,
            "overflow_x": null,
            "overflow_y": null,
            "padding": null,
            "right": null,
            "top": null,
            "visibility": null,
            "width": null
          }
        },
        "e2b50379333b409c9e95dd1bd953cfa8": {
          "model_module": "@jupyter-widgets/base",
          "model_module_version": "1.2.0",
          "model_name": "LayoutModel",
          "state": {
            "_model_module": "@jupyter-widgets/base",
            "_model_module_version": "1.2.0",
            "_model_name": "LayoutModel",
            "_view_count": null,
            "_view_module": "@jupyter-widgets/base",
            "_view_module_version": "1.2.0",
            "_view_name": "LayoutView",
            "align_content": null,
            "align_items": null,
            "align_self": null,
            "border": null,
            "bottom": null,
            "display": null,
            "flex": null,
            "flex_flow": null,
            "grid_area": null,
            "grid_auto_columns": null,
            "grid_auto_flow": null,
            "grid_auto_rows": null,
            "grid_column": null,
            "grid_gap": null,
            "grid_row": null,
            "grid_template_areas": null,
            "grid_template_columns": null,
            "grid_template_rows": null,
            "height": null,
            "justify_content": null,
            "justify_items": null,
            "left": null,
            "margin": null,
            "max_height": null,
            "max_width": null,
            "min_height": null,
            "min_width": null,
            "object_fit": null,
            "object_position": null,
            "order": null,
            "overflow": null,
            "overflow_x": null,
            "overflow_y": null,
            "padding": null,
            "right": null,
            "top": null,
            "visibility": null,
            "width": null
          }
        },
        "e39d468bdc1a4c9380789b39864d6bc9": {
          "model_module": "@jupyter-widgets/controls",
          "model_module_version": "1.5.0",
          "model_name": "DescriptionStyleModel",
          "state": {
            "_model_module": "@jupyter-widgets/controls",
            "_model_module_version": "1.5.0",
            "_model_name": "DescriptionStyleModel",
            "_view_count": null,
            "_view_module": "@jupyter-widgets/base",
            "_view_module_version": "1.2.0",
            "_view_name": "StyleView",
            "description_width": ""
          }
        },
        "e4d52578d9e34f1f99a7abda7ba3f751": {
          "model_module": "@jupyter-widgets/base",
          "model_module_version": "1.2.0",
          "model_name": "LayoutModel",
          "state": {
            "_model_module": "@jupyter-widgets/base",
            "_model_module_version": "1.2.0",
            "_model_name": "LayoutModel",
            "_view_count": null,
            "_view_module": "@jupyter-widgets/base",
            "_view_module_version": "1.2.0",
            "_view_name": "LayoutView",
            "align_content": null,
            "align_items": null,
            "align_self": null,
            "border": null,
            "bottom": null,
            "display": null,
            "flex": null,
            "flex_flow": null,
            "grid_area": null,
            "grid_auto_columns": null,
            "grid_auto_flow": null,
            "grid_auto_rows": null,
            "grid_column": null,
            "grid_gap": null,
            "grid_row": null,
            "grid_template_areas": null,
            "grid_template_columns": null,
            "grid_template_rows": null,
            "height": null,
            "justify_content": null,
            "justify_items": null,
            "left": null,
            "margin": null,
            "max_height": null,
            "max_width": null,
            "min_height": null,
            "min_width": null,
            "object_fit": null,
            "object_position": null,
            "order": null,
            "overflow": null,
            "overflow_x": null,
            "overflow_y": null,
            "padding": null,
            "right": null,
            "top": null,
            "visibility": null,
            "width": null
          }
        },
        "e5f1af0559e04a7cba90119024f9807a": {
          "model_module": "@jupyter-widgets/controls",
          "model_module_version": "1.5.0",
          "model_name": "ProgressStyleModel",
          "state": {
            "_model_module": "@jupyter-widgets/controls",
            "_model_module_version": "1.5.0",
            "_model_name": "ProgressStyleModel",
            "_view_count": null,
            "_view_module": "@jupyter-widgets/base",
            "_view_module_version": "1.2.0",
            "_view_name": "StyleView",
            "bar_color": null,
            "description_width": ""
          }
        },
        "e6305cc7f5754b888ec80fe0b517b51f": {
          "model_module": "@jupyter-widgets/base",
          "model_module_version": "1.2.0",
          "model_name": "LayoutModel",
          "state": {
            "_model_module": "@jupyter-widgets/base",
            "_model_module_version": "1.2.0",
            "_model_name": "LayoutModel",
            "_view_count": null,
            "_view_module": "@jupyter-widgets/base",
            "_view_module_version": "1.2.0",
            "_view_name": "LayoutView",
            "align_content": null,
            "align_items": null,
            "align_self": null,
            "border": null,
            "bottom": null,
            "display": null,
            "flex": null,
            "flex_flow": null,
            "grid_area": null,
            "grid_auto_columns": null,
            "grid_auto_flow": null,
            "grid_auto_rows": null,
            "grid_column": null,
            "grid_gap": null,
            "grid_row": null,
            "grid_template_areas": null,
            "grid_template_columns": null,
            "grid_template_rows": null,
            "height": null,
            "justify_content": null,
            "justify_items": null,
            "left": null,
            "margin": null,
            "max_height": null,
            "max_width": null,
            "min_height": null,
            "min_width": null,
            "object_fit": null,
            "object_position": null,
            "order": null,
            "overflow": null,
            "overflow_x": null,
            "overflow_y": null,
            "padding": null,
            "right": null,
            "top": null,
            "visibility": null,
            "width": null
          }
        },
        "e6495d81677f4055a9db3d67e8067285": {
          "model_module": "@jupyter-widgets/controls",
          "model_module_version": "1.5.0",
          "model_name": "HBoxModel",
          "state": {
            "_dom_classes": [],
            "_model_module": "@jupyter-widgets/controls",
            "_model_module_version": "1.5.0",
            "_model_name": "HBoxModel",
            "_view_count": null,
            "_view_module": "@jupyter-widgets/controls",
            "_view_module_version": "1.5.0",
            "_view_name": "HBoxView",
            "box_style": "",
            "children": [
              "IPY_MODEL_faca56cef6054f16988a961c8c7dfa20",
              "IPY_MODEL_c98fea82ae8145be88d1565a8c6affdf",
              "IPY_MODEL_c391c092b67e411f9108609c32cd8b5d"
            ],
            "layout": "IPY_MODEL_11fb0f68810648d4af3f52441eacd358"
          }
        },
        "e72153b44fa042748b885cbaeaf868cf": {
          "model_module": "@jupyter-widgets/controls",
          "model_module_version": "1.5.0",
          "model_name": "DescriptionStyleModel",
          "state": {
            "_model_module": "@jupyter-widgets/controls",
            "_model_module_version": "1.5.0",
            "_model_name": "DescriptionStyleModel",
            "_view_count": null,
            "_view_module": "@jupyter-widgets/base",
            "_view_module_version": "1.2.0",
            "_view_name": "StyleView",
            "description_width": ""
          }
        },
        "e774eb8dc5314feb971c59657c41ffcd": {
          "model_module": "@jupyter-widgets/base",
          "model_module_version": "1.2.0",
          "model_name": "LayoutModel",
          "state": {
            "_model_module": "@jupyter-widgets/base",
            "_model_module_version": "1.2.0",
            "_model_name": "LayoutModel",
            "_view_count": null,
            "_view_module": "@jupyter-widgets/base",
            "_view_module_version": "1.2.0",
            "_view_name": "LayoutView",
            "align_content": null,
            "align_items": null,
            "align_self": null,
            "border": null,
            "bottom": null,
            "display": null,
            "flex": null,
            "flex_flow": null,
            "grid_area": null,
            "grid_auto_columns": null,
            "grid_auto_flow": null,
            "grid_auto_rows": null,
            "grid_column": null,
            "grid_gap": null,
            "grid_row": null,
            "grid_template_areas": null,
            "grid_template_columns": null,
            "grid_template_rows": null,
            "height": null,
            "justify_content": null,
            "justify_items": null,
            "left": null,
            "margin": null,
            "max_height": null,
            "max_width": null,
            "min_height": null,
            "min_width": null,
            "object_fit": null,
            "object_position": null,
            "order": null,
            "overflow": null,
            "overflow_x": null,
            "overflow_y": null,
            "padding": null,
            "right": null,
            "top": null,
            "visibility": null,
            "width": null
          }
        },
        "e8069e698b5a4459b21759e60770ee13": {
          "model_module": "@jupyter-widgets/controls",
          "model_module_version": "1.5.0",
          "model_name": "HBoxModel",
          "state": {
            "_dom_classes": [],
            "_model_module": "@jupyter-widgets/controls",
            "_model_module_version": "1.5.0",
            "_model_name": "HBoxModel",
            "_view_count": null,
            "_view_module": "@jupyter-widgets/controls",
            "_view_module_version": "1.5.0",
            "_view_name": "HBoxView",
            "box_style": "",
            "children": [
              "IPY_MODEL_6f3d27371912472eba195296e9643e85",
              "IPY_MODEL_98a9161e562240e9a72576f9a1cc0683",
              "IPY_MODEL_fb9904ab219a483084cf6552bb12e3e4"
            ],
            "layout": "IPY_MODEL_b028dcc6d7e741549fafe36c0fd09896"
          }
        },
        "e86f2b2129294d37b0fcd4ab1f21d608": {
          "model_module": "@jupyter-widgets/controls",
          "model_module_version": "1.5.0",
          "model_name": "DescriptionStyleModel",
          "state": {
            "_model_module": "@jupyter-widgets/controls",
            "_model_module_version": "1.5.0",
            "_model_name": "DescriptionStyleModel",
            "_view_count": null,
            "_view_module": "@jupyter-widgets/base",
            "_view_module_version": "1.2.0",
            "_view_name": "StyleView",
            "description_width": ""
          }
        },
        "e94e158b04a040ae85e4e02e17dfc35d": {
          "model_module": "@jupyter-widgets/controls",
          "model_module_version": "1.5.0",
          "model_name": "HTMLModel",
          "state": {
            "_dom_classes": [],
            "_model_module": "@jupyter-widgets/controls",
            "_model_module_version": "1.5.0",
            "_model_name": "HTMLModel",
            "_view_count": null,
            "_view_module": "@jupyter-widgets/controls",
            "_view_module_version": "1.5.0",
            "_view_name": "HTMLView",
            "description": "",
            "description_tooltip": null,
            "layout": "IPY_MODEL_8981c1eea9a3450c86bd24eb2a86a235",
            "placeholder": "​",
            "style": "IPY_MODEL_0c9d546090d84d46a5c9f486c46a48a2",
            "value": "Map: 100%"
          }
        },
        "e95fc5490d704a4e9236c48e3b2beb00": {
          "model_module": "@jupyter-widgets/controls",
          "model_module_version": "1.5.0",
          "model_name": "HTMLModel",
          "state": {
            "_dom_classes": [],
            "_model_module": "@jupyter-widgets/controls",
            "_model_module_version": "1.5.0",
            "_model_name": "HTMLModel",
            "_view_count": null,
            "_view_module": "@jupyter-widgets/controls",
            "_view_module_version": "1.5.0",
            "_view_name": "HTMLView",
            "description": "",
            "description_tooltip": null,
            "layout": "IPY_MODEL_c96fbd5cecf94013b417b5ae1ba366be",
            "placeholder": "​",
            "style": "IPY_MODEL_93edd03e97c74fd29d4e8124c5059d5b",
            "value": " 23.8k/? [00:00&lt;00:00, 1.20MB/s]"
          }
        },
        "e9ec901783024b408993850fdb42c280": {
          "model_module": "@jupyter-widgets/base",
          "model_module_version": "1.2.0",
          "model_name": "LayoutModel",
          "state": {
            "_model_module": "@jupyter-widgets/base",
            "_model_module_version": "1.2.0",
            "_model_name": "LayoutModel",
            "_view_count": null,
            "_view_module": "@jupyter-widgets/base",
            "_view_module_version": "1.2.0",
            "_view_name": "LayoutView",
            "align_content": null,
            "align_items": null,
            "align_self": null,
            "border": null,
            "bottom": null,
            "display": null,
            "flex": null,
            "flex_flow": null,
            "grid_area": null,
            "grid_auto_columns": null,
            "grid_auto_flow": null,
            "grid_auto_rows": null,
            "grid_column": null,
            "grid_gap": null,
            "grid_row": null,
            "grid_template_areas": null,
            "grid_template_columns": null,
            "grid_template_rows": null,
            "height": null,
            "justify_content": null,
            "justify_items": null,
            "left": null,
            "margin": null,
            "max_height": null,
            "max_width": null,
            "min_height": null,
            "min_width": null,
            "object_fit": null,
            "object_position": null,
            "order": null,
            "overflow": null,
            "overflow_x": null,
            "overflow_y": null,
            "padding": null,
            "right": null,
            "top": null,
            "visibility": null,
            "width": null
          }
        },
        "ea0b44475dcb41e0a6d030de57f5952b": {
          "model_module": "@jupyter-widgets/base",
          "model_module_version": "1.2.0",
          "model_name": "LayoutModel",
          "state": {
            "_model_module": "@jupyter-widgets/base",
            "_model_module_version": "1.2.0",
            "_model_name": "LayoutModel",
            "_view_count": null,
            "_view_module": "@jupyter-widgets/base",
            "_view_module_version": "1.2.0",
            "_view_name": "LayoutView",
            "align_content": null,
            "align_items": null,
            "align_self": null,
            "border": null,
            "bottom": null,
            "display": null,
            "flex": null,
            "flex_flow": null,
            "grid_area": null,
            "grid_auto_columns": null,
            "grid_auto_flow": null,
            "grid_auto_rows": null,
            "grid_column": null,
            "grid_gap": null,
            "grid_row": null,
            "grid_template_areas": null,
            "grid_template_columns": null,
            "grid_template_rows": null,
            "height": null,
            "justify_content": null,
            "justify_items": null,
            "left": null,
            "margin": null,
            "max_height": null,
            "max_width": null,
            "min_height": null,
            "min_width": null,
            "object_fit": null,
            "object_position": null,
            "order": null,
            "overflow": null,
            "overflow_x": null,
            "overflow_y": null,
            "padding": null,
            "right": null,
            "top": null,
            "visibility": null,
            "width": null
          }
        },
        "ea47785b372248c987590af7550ce816": {
          "model_module": "@jupyter-widgets/controls",
          "model_module_version": "1.5.0",
          "model_name": "DescriptionStyleModel",
          "state": {
            "_model_module": "@jupyter-widgets/controls",
            "_model_module_version": "1.5.0",
            "_model_name": "DescriptionStyleModel",
            "_view_count": null,
            "_view_module": "@jupyter-widgets/base",
            "_view_module_version": "1.2.0",
            "_view_name": "StyleView",
            "description_width": ""
          }
        },
        "eb59dba69325480382bb4a3840d40319": {
          "model_module": "@jupyter-widgets/base",
          "model_module_version": "1.2.0",
          "model_name": "LayoutModel",
          "state": {
            "_model_module": "@jupyter-widgets/base",
            "_model_module_version": "1.2.0",
            "_model_name": "LayoutModel",
            "_view_count": null,
            "_view_module": "@jupyter-widgets/base",
            "_view_module_version": "1.2.0",
            "_view_name": "LayoutView",
            "align_content": null,
            "align_items": null,
            "align_self": null,
            "border": null,
            "bottom": null,
            "display": null,
            "flex": null,
            "flex_flow": null,
            "grid_area": null,
            "grid_auto_columns": null,
            "grid_auto_flow": null,
            "grid_auto_rows": null,
            "grid_column": null,
            "grid_gap": null,
            "grid_row": null,
            "grid_template_areas": null,
            "grid_template_columns": null,
            "grid_template_rows": null,
            "height": null,
            "justify_content": null,
            "justify_items": null,
            "left": null,
            "margin": null,
            "max_height": null,
            "max_width": null,
            "min_height": null,
            "min_width": null,
            "object_fit": null,
            "object_position": null,
            "order": null,
            "overflow": null,
            "overflow_x": null,
            "overflow_y": null,
            "padding": null,
            "right": null,
            "top": null,
            "visibility": null,
            "width": null
          }
        },
        "ebd9fec6db59478f9da4232dc55f1426": {
          "model_module": "@jupyter-widgets/controls",
          "model_module_version": "1.5.0",
          "model_name": "ProgressStyleModel",
          "state": {
            "_model_module": "@jupyter-widgets/controls",
            "_model_module_version": "1.5.0",
            "_model_name": "ProgressStyleModel",
            "_view_count": null,
            "_view_module": "@jupyter-widgets/base",
            "_view_module_version": "1.2.0",
            "_view_name": "StyleView",
            "bar_color": null,
            "description_width": ""
          }
        },
        "ec5f9230a08d407aaa81730f7761c8f9": {
          "model_module": "@jupyter-widgets/controls",
          "model_module_version": "1.5.0",
          "model_name": "HBoxModel",
          "state": {
            "_dom_classes": [],
            "_model_module": "@jupyter-widgets/controls",
            "_model_module_version": "1.5.0",
            "_model_name": "HBoxModel",
            "_view_count": null,
            "_view_module": "@jupyter-widgets/controls",
            "_view_module_version": "1.5.0",
            "_view_name": "HBoxView",
            "box_style": "",
            "children": [
              "IPY_MODEL_f19c361602d445c5be96e06e6417eaa9",
              "IPY_MODEL_465ad539063f48e6b0e4f247e95e6e67",
              "IPY_MODEL_2f67d4518043480d8372c457c1eaf8ee"
            ],
            "layout": "IPY_MODEL_d8c346c7c1644a3e901d55b256a3cb76"
          }
        },
        "ec7694ce692241e288f740537c3afda3": {
          "model_module": "@jupyter-widgets/controls",
          "model_module_version": "1.5.0",
          "model_name": "DescriptionStyleModel",
          "state": {
            "_model_module": "@jupyter-widgets/controls",
            "_model_module_version": "1.5.0",
            "_model_name": "DescriptionStyleModel",
            "_view_count": null,
            "_view_module": "@jupyter-widgets/base",
            "_view_module_version": "1.2.0",
            "_view_name": "StyleView",
            "description_width": ""
          }
        },
        "ec9e8e005fc3494c95f3a8523279bd08": {
          "model_module": "@jupyter-widgets/base",
          "model_module_version": "1.2.0",
          "model_name": "LayoutModel",
          "state": {
            "_model_module": "@jupyter-widgets/base",
            "_model_module_version": "1.2.0",
            "_model_name": "LayoutModel",
            "_view_count": null,
            "_view_module": "@jupyter-widgets/base",
            "_view_module_version": "1.2.0",
            "_view_name": "LayoutView",
            "align_content": null,
            "align_items": null,
            "align_self": null,
            "border": null,
            "bottom": null,
            "display": null,
            "flex": null,
            "flex_flow": null,
            "grid_area": null,
            "grid_auto_columns": null,
            "grid_auto_flow": null,
            "grid_auto_rows": null,
            "grid_column": null,
            "grid_gap": null,
            "grid_row": null,
            "grid_template_areas": null,
            "grid_template_columns": null,
            "grid_template_rows": null,
            "height": null,
            "justify_content": null,
            "justify_items": null,
            "left": null,
            "margin": null,
            "max_height": null,
            "max_width": null,
            "min_height": null,
            "min_width": null,
            "object_fit": null,
            "object_position": null,
            "order": null,
            "overflow": null,
            "overflow_x": null,
            "overflow_y": null,
            "padding": null,
            "right": null,
            "top": null,
            "visibility": null,
            "width": null
          }
        },
        "ee1a183d00154a5ab672169edcd22adf": {
          "model_module": "@jupyter-widgets/controls",
          "model_module_version": "1.5.0",
          "model_name": "HTMLModel",
          "state": {
            "_dom_classes": [],
            "_model_module": "@jupyter-widgets/controls",
            "_model_module_version": "1.5.0",
            "_model_name": "HTMLModel",
            "_view_count": null,
            "_view_module": "@jupyter-widgets/controls",
            "_view_module_version": "1.5.0",
            "_view_name": "HTMLView",
            "description": "",
            "description_tooltip": null,
            "layout": "IPY_MODEL_e4d52578d9e34f1f99a7abda7ba3f751",
            "placeholder": "​",
            "style": "IPY_MODEL_ee9315163df54de2bbaa3d3cfc85c3d2",
            "value": "Downloading data: "
          }
        },
        "ee4a147ba0194643b8dc45b293115eab": {
          "model_module": "@jupyter-widgets/controls",
          "model_module_version": "1.5.0",
          "model_name": "HTMLModel",
          "state": {
            "_dom_classes": [],
            "_model_module": "@jupyter-widgets/controls",
            "_model_module_version": "1.5.0",
            "_model_name": "HTMLModel",
            "_view_count": null,
            "_view_module": "@jupyter-widgets/controls",
            "_view_module_version": "1.5.0",
            "_view_name": "HTMLView",
            "description": "",
            "description_tooltip": null,
            "layout": "IPY_MODEL_e29df093d8d0450c9e7d9b90e02c21d6",
            "placeholder": "​",
            "style": "IPY_MODEL_ec7694ce692241e288f740537c3afda3",
            "value": "Generating validation split: 100%"
          }
        },
        "ee82dbb1213f4313943577b447611f0e": {
          "model_module": "@jupyter-widgets/controls",
          "model_module_version": "1.5.0",
          "model_name": "FloatProgressModel",
          "state": {
            "_dom_classes": [],
            "_model_module": "@jupyter-widgets/controls",
            "_model_module_version": "1.5.0",
            "_model_name": "FloatProgressModel",
            "_view_count": null,
            "_view_module": "@jupyter-widgets/controls",
            "_view_module_version": "1.5.0",
            "_view_name": "ProgressView",
            "bar_style": "success",
            "description": "",
            "description_tooltip": null,
            "layout": "IPY_MODEL_12d5d35de1b4424e83e6ad8cdff3907d",
            "max": 13156,
            "min": 0,
            "orientation": "horizontal",
            "style": "IPY_MODEL_1df9a4ceeea043bd949b6013a105a8bc",
            "value": 13156
          }
        },
        "ee9315163df54de2bbaa3d3cfc85c3d2": {
          "model_module": "@jupyter-widgets/controls",
          "model_module_version": "1.5.0",
          "model_name": "DescriptionStyleModel",
          "state": {
            "_model_module": "@jupyter-widgets/controls",
            "_model_module_version": "1.5.0",
            "_model_name": "DescriptionStyleModel",
            "_view_count": null,
            "_view_module": "@jupyter-widgets/base",
            "_view_module_version": "1.2.0",
            "_view_name": "StyleView",
            "description_width": ""
          }
        },
        "f09af9e50cf94ae5906b30787ec640da": {
          "model_module": "@jupyter-widgets/base",
          "model_module_version": "1.2.0",
          "model_name": "LayoutModel",
          "state": {
            "_model_module": "@jupyter-widgets/base",
            "_model_module_version": "1.2.0",
            "_model_name": "LayoutModel",
            "_view_count": null,
            "_view_module": "@jupyter-widgets/base",
            "_view_module_version": "1.2.0",
            "_view_name": "LayoutView",
            "align_content": null,
            "align_items": null,
            "align_self": null,
            "border": null,
            "bottom": null,
            "display": null,
            "flex": null,
            "flex_flow": null,
            "grid_area": null,
            "grid_auto_columns": null,
            "grid_auto_flow": null,
            "grid_auto_rows": null,
            "grid_column": null,
            "grid_gap": null,
            "grid_row": null,
            "grid_template_areas": null,
            "grid_template_columns": null,
            "grid_template_rows": null,
            "height": null,
            "justify_content": null,
            "justify_items": null,
            "left": null,
            "margin": null,
            "max_height": null,
            "max_width": null,
            "min_height": null,
            "min_width": null,
            "object_fit": null,
            "object_position": null,
            "order": null,
            "overflow": null,
            "overflow_x": null,
            "overflow_y": null,
            "padding": null,
            "right": null,
            "top": null,
            "visibility": null,
            "width": null
          }
        },
        "f0b9c24a0c7b41d8906ded5d42e3c6ba": {
          "model_module": "@jupyter-widgets/controls",
          "model_module_version": "1.5.0",
          "model_name": "FloatProgressModel",
          "state": {
            "_dom_classes": [],
            "_model_module": "@jupyter-widgets/controls",
            "_model_module_version": "1.5.0",
            "_model_name": "FloatProgressModel",
            "_view_count": null,
            "_view_module": "@jupyter-widgets/controls",
            "_view_module_version": "1.5.0",
            "_view_name": "ProgressView",
            "bar_style": "success",
            "description": "",
            "description_tooltip": null,
            "layout": "IPY_MODEL_3cf149aaf2e5472fa2fb18124f6b4391",
            "max": 90888945,
            "min": 0,
            "orientation": "horizontal",
            "style": "IPY_MODEL_837b66f69b754cf6ada0b7f7afb033eb",
            "value": 90888945
          }
        },
        "f12313177b8d4f7e9aa29e43c8340a7d": {
          "model_module": "@jupyter-widgets/controls",
          "model_module_version": "1.5.0",
          "model_name": "HBoxModel",
          "state": {
            "_dom_classes": [],
            "_model_module": "@jupyter-widgets/controls",
            "_model_module_version": "1.5.0",
            "_model_name": "HBoxModel",
            "_view_count": null,
            "_view_module": "@jupyter-widgets/controls",
            "_view_module_version": "1.5.0",
            "_view_name": "HBoxView",
            "box_style": "",
            "children": [
              "IPY_MODEL_53e665c5514146bd8042d2f80e04443f",
              "IPY_MODEL_f0b9c24a0c7b41d8906ded5d42e3c6ba",
              "IPY_MODEL_196046205fe34dd08f2b3cbf5f70fac6"
            ],
            "layout": "IPY_MODEL_42bf946986534198819976929acf769d"
          }
        },
        "f17c435e26504b0c858f540b3c868599": {
          "model_module": "@jupyter-widgets/base",
          "model_module_version": "1.2.0",
          "model_name": "LayoutModel",
          "state": {
            "_model_module": "@jupyter-widgets/base",
            "_model_module_version": "1.2.0",
            "_model_name": "LayoutModel",
            "_view_count": null,
            "_view_module": "@jupyter-widgets/base",
            "_view_module_version": "1.2.0",
            "_view_name": "LayoutView",
            "align_content": null,
            "align_items": null,
            "align_self": null,
            "border": null,
            "bottom": null,
            "display": null,
            "flex": null,
            "flex_flow": null,
            "grid_area": null,
            "grid_auto_columns": null,
            "grid_auto_flow": null,
            "grid_auto_rows": null,
            "grid_column": null,
            "grid_gap": null,
            "grid_row": null,
            "grid_template_areas": null,
            "grid_template_columns": null,
            "grid_template_rows": null,
            "height": null,
            "justify_content": null,
            "justify_items": null,
            "left": null,
            "margin": null,
            "max_height": null,
            "max_width": null,
            "min_height": null,
            "min_width": null,
            "object_fit": null,
            "object_position": null,
            "order": null,
            "overflow": null,
            "overflow_x": null,
            "overflow_y": null,
            "padding": null,
            "right": null,
            "top": null,
            "visibility": null,
            "width": null
          }
        },
        "f185b2280ccf47ff8e9a5445ae225b7f": {
          "model_module": "@jupyter-widgets/base",
          "model_module_version": "1.2.0",
          "model_name": "LayoutModel",
          "state": {
            "_model_module": "@jupyter-widgets/base",
            "_model_module_version": "1.2.0",
            "_model_name": "LayoutModel",
            "_view_count": null,
            "_view_module": "@jupyter-widgets/base",
            "_view_module_version": "1.2.0",
            "_view_name": "LayoutView",
            "align_content": null,
            "align_items": null,
            "align_self": null,
            "border": null,
            "bottom": null,
            "display": null,
            "flex": null,
            "flex_flow": null,
            "grid_area": null,
            "grid_auto_columns": null,
            "grid_auto_flow": null,
            "grid_auto_rows": null,
            "grid_column": null,
            "grid_gap": null,
            "grid_row": null,
            "grid_template_areas": null,
            "grid_template_columns": null,
            "grid_template_rows": null,
            "height": null,
            "justify_content": null,
            "justify_items": null,
            "left": null,
            "margin": null,
            "max_height": null,
            "max_width": null,
            "min_height": null,
            "min_width": null,
            "object_fit": null,
            "object_position": null,
            "order": null,
            "overflow": null,
            "overflow_x": null,
            "overflow_y": null,
            "padding": null,
            "right": null,
            "top": null,
            "visibility": null,
            "width": null
          }
        },
        "f19c361602d445c5be96e06e6417eaa9": {
          "model_module": "@jupyter-widgets/controls",
          "model_module_version": "1.5.0",
          "model_name": "HTMLModel",
          "state": {
            "_dom_classes": [],
            "_model_module": "@jupyter-widgets/controls",
            "_model_module_version": "1.5.0",
            "_model_name": "HTMLModel",
            "_view_count": null,
            "_view_module": "@jupyter-widgets/controls",
            "_view_module_version": "1.5.0",
            "_view_name": "HTMLView",
            "description": "",
            "description_tooltip": null,
            "layout": "IPY_MODEL_62ecce505a5b4289b78458eff0a0918b",
            "placeholder": "​",
            "style": "IPY_MODEL_ea47785b372248c987590af7550ce816",
            "value": "Downloading (…)125/data_config.json: 100%"
          }
        },
        "f28731a670424598b6339d4524589f0e": {
          "model_module": "@jupyter-widgets/controls",
          "model_module_version": "1.5.0",
          "model_name": "HBoxModel",
          "state": {
            "_dom_classes": [],
            "_model_module": "@jupyter-widgets/controls",
            "_model_module_version": "1.5.0",
            "_model_name": "HBoxModel",
            "_view_count": null,
            "_view_module": "@jupyter-widgets/controls",
            "_view_module_version": "1.5.0",
            "_view_name": "HBoxView",
            "box_style": "",
            "children": [
              "IPY_MODEL_364df7cb8f5a481b88141dc68d4c57d9",
              "IPY_MODEL_170d87c8852b413094e7771c91414a0a",
              "IPY_MODEL_4b65969759e24f42b589fe56164e1231"
            ],
            "layout": "IPY_MODEL_cb069cc0b8ba46bbb36d1007dfbdc556"
          }
        },
        "f31aaa4dd2a2404c9df97e0af94593a6": {
          "model_module": "@jupyter-widgets/base",
          "model_module_version": "1.2.0",
          "model_name": "LayoutModel",
          "state": {
            "_model_module": "@jupyter-widgets/base",
            "_model_module_version": "1.2.0",
            "_model_name": "LayoutModel",
            "_view_count": null,
            "_view_module": "@jupyter-widgets/base",
            "_view_module_version": "1.2.0",
            "_view_name": "LayoutView",
            "align_content": null,
            "align_items": null,
            "align_self": null,
            "border": null,
            "bottom": null,
            "display": null,
            "flex": null,
            "flex_flow": null,
            "grid_area": null,
            "grid_auto_columns": null,
            "grid_auto_flow": null,
            "grid_auto_rows": null,
            "grid_column": null,
            "grid_gap": null,
            "grid_row": null,
            "grid_template_areas": null,
            "grid_template_columns": null,
            "grid_template_rows": null,
            "height": null,
            "justify_content": null,
            "justify_items": null,
            "left": null,
            "margin": null,
            "max_height": null,
            "max_width": null,
            "min_height": null,
            "min_width": null,
            "object_fit": null,
            "object_position": null,
            "order": null,
            "overflow": null,
            "overflow_x": null,
            "overflow_y": null,
            "padding": null,
            "right": null,
            "top": null,
            "visibility": null,
            "width": null
          }
        },
        "f455b6bdc0a6415bb3a0e3a541e97773": {
          "model_module": "@jupyter-widgets/base",
          "model_module_version": "1.2.0",
          "model_name": "LayoutModel",
          "state": {
            "_model_module": "@jupyter-widgets/base",
            "_model_module_version": "1.2.0",
            "_model_name": "LayoutModel",
            "_view_count": null,
            "_view_module": "@jupyter-widgets/base",
            "_view_module_version": "1.2.0",
            "_view_name": "LayoutView",
            "align_content": null,
            "align_items": null,
            "align_self": null,
            "border": null,
            "bottom": null,
            "display": null,
            "flex": null,
            "flex_flow": null,
            "grid_area": null,
            "grid_auto_columns": null,
            "grid_auto_flow": null,
            "grid_auto_rows": null,
            "grid_column": null,
            "grid_gap": null,
            "grid_row": null,
            "grid_template_areas": null,
            "grid_template_columns": null,
            "grid_template_rows": null,
            "height": null,
            "justify_content": null,
            "justify_items": null,
            "left": null,
            "margin": null,
            "max_height": null,
            "max_width": null,
            "min_height": null,
            "min_width": null,
            "object_fit": null,
            "object_position": null,
            "order": null,
            "overflow": null,
            "overflow_x": null,
            "overflow_y": null,
            "padding": null,
            "right": null,
            "top": null,
            "visibility": null,
            "width": null
          }
        },
        "f460295dd3d0413f908843282de9c854": {
          "model_module": "@jupyter-widgets/controls",
          "model_module_version": "1.5.0",
          "model_name": "FloatProgressModel",
          "state": {
            "_dom_classes": [],
            "_model_module": "@jupyter-widgets/controls",
            "_model_module_version": "1.5.0",
            "_model_name": "FloatProgressModel",
            "_view_count": null,
            "_view_module": "@jupyter-widgets/controls",
            "_view_module_version": "1.5.0",
            "_view_name": "ProgressView",
            "bar_style": "",
            "description": "",
            "description_tooltip": null,
            "layout": "IPY_MODEL_bc7d13cadaa54121a3862a4c508a636b",
            "max": 860,
            "min": 0,
            "orientation": "horizontal",
            "style": "IPY_MODEL_f507b4015a334275a791a587fd6a8639",
            "value": 860
          }
        },
        "f507b4015a334275a791a587fd6a8639": {
          "model_module": "@jupyter-widgets/controls",
          "model_module_version": "1.5.0",
          "model_name": "ProgressStyleModel",
          "state": {
            "_model_module": "@jupyter-widgets/controls",
            "_model_module_version": "1.5.0",
            "_model_name": "ProgressStyleModel",
            "_view_count": null,
            "_view_module": "@jupyter-widgets/base",
            "_view_module_version": "1.2.0",
            "_view_name": "StyleView",
            "bar_color": null,
            "description_width": ""
          }
        },
        "f51a5a1a57e546c189812afa5c62ff42": {
          "model_module": "@jupyter-widgets/controls",
          "model_module_version": "1.5.0",
          "model_name": "HTMLModel",
          "state": {
            "_dom_classes": [],
            "_model_module": "@jupyter-widgets/controls",
            "_model_module_version": "1.5.0",
            "_model_name": "HTMLModel",
            "_view_count": null,
            "_view_module": "@jupyter-widgets/controls",
            "_view_module_version": "1.5.0",
            "_view_name": "HTMLView",
            "description": "",
            "description_tooltip": null,
            "layout": "IPY_MODEL_19d88b2404a64f05967503f7f6fa00d5",
            "placeholder": "​",
            "style": "IPY_MODEL_8ce1d8413fc84bb38c6753d64024f0ca",
            "value": "Downloading (…)_Pooling/config.json: 100%"
          }
        },
        "f525b53ad62c4676bdfe60a6150e95bf": {
          "model_module": "@jupyter-widgets/base",
          "model_module_version": "1.2.0",
          "model_name": "LayoutModel",
          "state": {
            "_model_module": "@jupyter-widgets/base",
            "_model_module_version": "1.2.0",
            "_model_name": "LayoutModel",
            "_view_count": null,
            "_view_module": "@jupyter-widgets/base",
            "_view_module_version": "1.2.0",
            "_view_name": "LayoutView",
            "align_content": null,
            "align_items": null,
            "align_self": null,
            "border": null,
            "bottom": null,
            "display": null,
            "flex": null,
            "flex_flow": null,
            "grid_area": null,
            "grid_auto_columns": null,
            "grid_auto_flow": null,
            "grid_auto_rows": null,
            "grid_column": null,
            "grid_gap": null,
            "grid_row": null,
            "grid_template_areas": null,
            "grid_template_columns": null,
            "grid_template_rows": null,
            "height": null,
            "justify_content": null,
            "justify_items": null,
            "left": null,
            "margin": null,
            "max_height": null,
            "max_width": null,
            "min_height": null,
            "min_width": null,
            "object_fit": null,
            "object_position": null,
            "order": null,
            "overflow": null,
            "overflow_x": null,
            "overflow_y": null,
            "padding": null,
            "right": null,
            "top": null,
            "visibility": null,
            "width": null
          }
        },
        "f84895268e7441909dae3ee98bb2b0ce": {
          "model_module": "@jupyter-widgets/controls",
          "model_module_version": "1.5.0",
          "model_name": "ProgressStyleModel",
          "state": {
            "_model_module": "@jupyter-widgets/controls",
            "_model_module_version": "1.5.0",
            "_model_name": "ProgressStyleModel",
            "_view_count": null,
            "_view_module": "@jupyter-widgets/base",
            "_view_module_version": "1.2.0",
            "_view_name": "StyleView",
            "bar_color": null,
            "description_width": ""
          }
        },
        "f85c1768a244488ebd5e590fccef2653": {
          "model_module": "@jupyter-widgets/controls",
          "model_module_version": "1.5.0",
          "model_name": "HBoxModel",
          "state": {
            "_dom_classes": [],
            "_model_module": "@jupyter-widgets/controls",
            "_model_module_version": "1.5.0",
            "_model_name": "HBoxModel",
            "_view_count": null,
            "_view_module": "@jupyter-widgets/controls",
            "_view_module_version": "1.5.0",
            "_view_name": "HBoxView",
            "box_style": "",
            "children": [
              "IPY_MODEL_ee1a183d00154a5ab672169edcd22adf",
              "IPY_MODEL_9c46db38540a4ee7b0fc95d1a1cfbe5f",
              "IPY_MODEL_4d10d624519d4e1aa581d0ee1f66c06b"
            ],
            "layout": "IPY_MODEL_a0160c1eb34e41529e32baf11943f8e5"
          }
        },
        "f97908075e764a4182df6c9b839332b4": {
          "model_module": "@jupyter-widgets/controls",
          "model_module_version": "1.5.0",
          "model_name": "DescriptionStyleModel",
          "state": {
            "_model_module": "@jupyter-widgets/controls",
            "_model_module_version": "1.5.0",
            "_model_name": "DescriptionStyleModel",
            "_view_count": null,
            "_view_module": "@jupyter-widgets/base",
            "_view_module_version": "1.2.0",
            "_view_name": "StyleView",
            "description_width": ""
          }
        },
        "f9ac29a470c743359684b7123dbf4a90": {
          "model_module": "@jupyter-widgets/controls",
          "model_module_version": "1.5.0",
          "model_name": "DescriptionStyleModel",
          "state": {
            "_model_module": "@jupyter-widgets/controls",
            "_model_module_version": "1.5.0",
            "_model_name": "DescriptionStyleModel",
            "_view_count": null,
            "_view_module": "@jupyter-widgets/base",
            "_view_module_version": "1.2.0",
            "_view_name": "StyleView",
            "description_width": ""
          }
        },
        "f9dd7defff514540b2f413f90ec0f5d3": {
          "model_module": "@jupyter-widgets/controls",
          "model_module_version": "1.5.0",
          "model_name": "HTMLModel",
          "state": {
            "_dom_classes": [],
            "_model_module": "@jupyter-widgets/controls",
            "_model_module_version": "1.5.0",
            "_model_name": "HTMLModel",
            "_view_count": null,
            "_view_module": "@jupyter-widgets/controls",
            "_view_module_version": "1.5.0",
            "_view_name": "HTMLView",
            "description": "",
            "description_tooltip": null,
            "layout": "IPY_MODEL_8506c4512aba4f15a9e846df4e597e67",
            "placeholder": "​",
            "style": "IPY_MODEL_369474afb05f47bab75d78fb66f43ebb",
            "value": "Downloading (…)ce_transformers.json: 100%"
          }
        },
        "fa1d816e07374a1cb1c98359a3721185": {
          "model_module": "@jupyter-widgets/controls",
          "model_module_version": "1.5.0",
          "model_name": "HTMLModel",
          "state": {
            "_dom_classes": [],
            "_model_module": "@jupyter-widgets/controls",
            "_model_module_version": "1.5.0",
            "_model_name": "HTMLModel",
            "_view_count": null,
            "_view_module": "@jupyter-widgets/controls",
            "_view_module_version": "1.5.0",
            "_view_name": "HTMLView",
            "description": "",
            "description_tooltip": null,
            "layout": "IPY_MODEL_cb866cea62a646baabb705505adcb8d0",
            "placeholder": "​",
            "style": "IPY_MODEL_00eaab3fcf6e4c4383a1705696815958",
            "value": " 30.4k/30.4k [00:00&lt;00:00, 1.40MB/s]"
          }
        },
        "fa8bf0b700c442a587226d9049748875": {
          "model_module": "@jupyter-widgets/controls",
          "model_module_version": "1.5.0",
          "model_name": "DescriptionStyleModel",
          "state": {
            "_model_module": "@jupyter-widgets/controls",
            "_model_module_version": "1.5.0",
            "_model_name": "DescriptionStyleModel",
            "_view_count": null,
            "_view_module": "@jupyter-widgets/base",
            "_view_module_version": "1.2.0",
            "_view_name": "StyleView",
            "description_width": ""
          }
        },
        "faca56cef6054f16988a961c8c7dfa20": {
          "model_module": "@jupyter-widgets/controls",
          "model_module_version": "1.5.0",
          "model_name": "HTMLModel",
          "state": {
            "_dom_classes": [],
            "_model_module": "@jupyter-widgets/controls",
            "_model_module_version": "1.5.0",
            "_model_name": "HTMLModel",
            "_view_count": null,
            "_view_module": "@jupyter-widgets/controls",
            "_view_module_version": "1.5.0",
            "_view_name": "HTMLView",
            "description": "",
            "description_tooltip": null,
            "layout": "IPY_MODEL_99c3996299174f3cab134d7275fe05d6",
            "placeholder": "​",
            "style": "IPY_MODEL_fa8bf0b700c442a587226d9049748875",
            "value": "Downloading data: "
          }
        },
        "fada35910d3f42429771357b97caadba": {
          "model_module": "@jupyter-widgets/controls",
          "model_module_version": "1.5.0",
          "model_name": "FloatProgressModel",
          "state": {
            "_dom_classes": [],
            "_model_module": "@jupyter-widgets/controls",
            "_model_module_version": "1.5.0",
            "_model_name": "FloatProgressModel",
            "_view_count": null,
            "_view_module": "@jupyter-widgets/controls",
            "_view_module_version": "1.5.0",
            "_view_name": "ProgressView",
            "bar_style": "success",
            "description": "",
            "description_tooltip": null,
            "layout": "IPY_MODEL_d2cbc694008a4674afe14bfe9d5a00af",
            "max": 456318,
            "min": 0,
            "orientation": "horizontal",
            "style": "IPY_MODEL_9d030f15efeb4ee387d5877d95ab0065",
            "value": 456318
          }
        },
        "fb0654bc9b834b539f57fd4ade812b7c": {
          "model_module": "@jupyter-widgets/controls",
          "model_module_version": "1.5.0",
          "model_name": "ProgressStyleModel",
          "state": {
            "_model_module": "@jupyter-widgets/controls",
            "_model_module_version": "1.5.0",
            "_model_name": "ProgressStyleModel",
            "_view_count": null,
            "_view_module": "@jupyter-widgets/base",
            "_view_module_version": "1.2.0",
            "_view_name": "StyleView",
            "bar_color": null,
            "description_width": ""
          }
        },
        "fb9904ab219a483084cf6552bb12e3e4": {
          "model_module": "@jupyter-widgets/controls",
          "model_module_version": "1.5.0",
          "model_name": "HTMLModel",
          "state": {
            "_dom_classes": [],
            "_model_module": "@jupyter-widgets/controls",
            "_model_module_version": "1.5.0",
            "_model_name": "HTMLModel",
            "_view_count": null,
            "_view_module": "@jupyter-widgets/controls",
            "_view_module_version": "1.5.0",
            "_view_name": "HTMLView",
            "description": "",
            "description_tooltip": null,
            "layout": "IPY_MODEL_1b4661a9edd94b6b8df91b02a28120c7",
            "placeholder": "​",
            "style": "IPY_MODEL_9312beaa14834275a36fa210d0a1d488",
            "value": " 899k/899k [00:00&lt;00:00, 3.52MB/s]"
          }
        },
        "fc2176b499304b7c9758954c6a86ad7d": {
          "model_module": "@jupyter-widgets/controls",
          "model_module_version": "1.5.0",
          "model_name": "ProgressStyleModel",
          "state": {
            "_model_module": "@jupyter-widgets/controls",
            "_model_module_version": "1.5.0",
            "_model_name": "ProgressStyleModel",
            "_view_count": null,
            "_view_module": "@jupyter-widgets/base",
            "_view_module_version": "1.2.0",
            "_view_name": "StyleView",
            "bar_color": null,
            "description_width": ""
          }
        },
        "fd009f2778514c82bf0f0df4e2369c10": {
          "model_module": "@jupyter-widgets/controls",
          "model_module_version": "1.5.0",
          "model_name": "DescriptionStyleModel",
          "state": {
            "_model_module": "@jupyter-widgets/controls",
            "_model_module_version": "1.5.0",
            "_model_name": "DescriptionStyleModel",
            "_view_count": null,
            "_view_module": "@jupyter-widgets/base",
            "_view_module_version": "1.2.0",
            "_view_name": "StyleView",
            "description_width": ""
          }
        }
      }
    }
  },
  "nbformat": 4,
  "nbformat_minor": 0
}
