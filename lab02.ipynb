{
 "cells": [
  {
   "attachments": {},
   "cell_type": "markdown",
   "metadata": {},
   "source": [
    "NLP LAB 02\n",
    "Théo Ripoll - Quentin Fish - Nicolas Fidel"
   ]
  },
  {
   "attachments": {},
   "cell_type": "markdown",
   "metadata": {},
   "source": [
    "## Part 1: The Dataset"
   ]
  },
  {
   "cell_type": "code",
   "execution_count": 1,
   "metadata": {},
   "outputs": [],
   "source": [
    "from datasets import load_dataset\n",
    "from datasets import get_dataset_split_names\n",
    "import pandas as pd"
   ]
  },
  {
   "cell_type": "code",
   "execution_count": 2,
   "metadata": {},
   "outputs": [
    {
     "name": "stderr",
     "output_type": "stream",
     "text": [
      "Found cached dataset imdb (/Users/quentinfisch/.cache/huggingface/datasets/imdb/plain_text/1.0.0/d613c88cf8fa3bab83b4ded3713f1f74830d1100e171db75bbddb80b3345c9c0)\n"
     ]
    },
    {
     "data": {
      "application/vnd.jupyter.widget-view+json": {
       "model_id": "1cf278789315405d9f5525777064075e",
       "version_major": 2,
       "version_minor": 0
      },
      "text/plain": [
       "  0%|          | 0/3 [00:00<?, ?it/s]"
      ]
     },
     "metadata": {},
     "output_type": "display_data"
    },
    {
     "data": {
      "text/plain": [
       "DatasetDict({\n",
       "    train: Dataset({\n",
       "        features: ['text', 'label'],\n",
       "        num_rows: 25000\n",
       "    })\n",
       "    test: Dataset({\n",
       "        features: ['text', 'label'],\n",
       "        num_rows: 25000\n",
       "    })\n",
       "    unsupervised: Dataset({\n",
       "        features: ['text', 'label'],\n",
       "        num_rows: 50000\n",
       "    })\n",
       "})"
      ]
     },
     "execution_count": 2,
     "metadata": {},
     "output_type": "execute_result"
    }
   ],
   "source": [
    "dataset = load_dataset(\"imdb\")\n",
    "dataset"
   ]
  },
  {
   "cell_type": "code",
   "execution_count": 70,
   "metadata": {},
   "outputs": [
    {
     "data": {
      "text/plain": [
       "['train', 'test', 'unsupervised']"
      ]
     },
     "execution_count": 70,
     "metadata": {},
     "output_type": "execute_result"
    }
   ],
   "source": [
    "get_dataset_split_names(\"imdb\")"
   ]
  },
  {
   "cell_type": "code",
   "execution_count": 3,
   "metadata": {},
   "outputs": [
    {
     "name": "stdout",
     "output_type": "stream",
     "text": [
      "label\n",
      "0    12500\n",
      "1    12500\n",
      "Name: label, dtype: int64\n",
      "label\n",
      "0    12500\n",
      "1    12500\n",
      "Name: label, dtype: int64\n"
     ]
    }
   ],
   "source": [
    "#Count the number of different labels in each datasets\n",
    "train_labels = pd.DataFrame(dataset[\"train\"]['label'], columns=[\"label\"])\n",
    "print(train_labels.groupby(\"label\")[\"label\"].count())\n",
    "\n",
    "test_labels = pd.DataFrame(dataset[\"test\"]['label'], columns=[\"label\"])\n",
    "print(test_labels.groupby(\"label\")[\"label\"].count())"
   ]
  },
  {
   "attachments": {},
   "cell_type": "markdown",
   "metadata": {},
   "source": [
    "### Question 1: How many splits does the dataset has?\n",
    "There are 3 splits: train, test and unsupervised\n",
    "\n",
    "### Question 2: How big are the splits ?\n",
    "train: 25000\n",
    "test: 25000\n",
    "unsupervised: 50000\n",
    "\n",
    "### Question 3: What is the proportion of each class on the supervised splits?\n",
    "train: 50% positive, 50% negative\n",
    "test: 50% positive, 50% negative"
   ]
  },
  {
   "attachments": {},
   "cell_type": "markdown",
   "metadata": {},
   "source": [
    "## Partie 2: Naive Bayes classifier"
   ]
  },
  {
   "cell_type": "code",
   "execution_count": 3,
   "metadata": {},
   "outputs": [],
   "source": [
    "from string import punctuation\n",
    "import re\n",
    "\n",
    "def preprocess(dataset: pd.DataFrame) -> pd.DataFrame :\n",
    "    \"\"\"\n",
    "    Preprocess the dataset by lowercasing the text and removing the punctuation manually\n",
    "\n",
    "    Parameters\n",
    "    ----------\n",
    "    dataset : pd.DataFrame\n",
    "        The dataset to preprocess\n",
    "\n",
    "    Returns\n",
    "    -------\n",
    "    pd.DataFrame\n",
    "        The preprocessed dataset\n",
    "    \"\"\"\n",
    "    # First lower the case\n",
    "    dataset[\"document\"] = dataset[\"document\"].apply(lambda x: x.lower())\n",
    "    # Replace the punctuation with spaces. We keep the ' - that may give revelant informations\n",
    "    # Replace HTML tag <br />\n",
    "    punctuation_to_remove = '|'.join(map(re.escape, sorted(list(filter(lambda p: p != \"'\" and p != '-', punctuation)), reverse=True)))\n",
    "    print(f\"Deleting all these punctuation: {punctuation_to_remove}\")\n",
    "    dataset[\"document\"] = dataset[\"document\"].apply(lambda x: re.sub(punctuation_to_remove, \" \", x.replace('<br />', \"\")))\n",
    "    return dataset"
   ]
  },
  {
   "cell_type": "code",
   "execution_count": 4,
   "metadata": {},
   "outputs": [
    {
     "name": "stdout",
     "output_type": "stream",
     "text": [
      "Deleting all these punctuation: \\~|\\}|\\||\\{|`|_|\\^|\\]|\\\\|\\[|@|\\?|>|=|<|;|:|/|\\.|,|\\+|\\*|\\)|\\(|\\&|%|\\$|\\#|\"|!\n"
     ]
    },
    {
     "data": {
      "text/html": [
       "<div>\n",
       "<style scoped>\n",
       "    .dataframe tbody tr th:only-of-type {\n",
       "        vertical-align: middle;\n",
       "    }\n",
       "\n",
       "    .dataframe tbody tr th {\n",
       "        vertical-align: top;\n",
       "    }\n",
       "\n",
       "    .dataframe thead th {\n",
       "        text-align: right;\n",
       "    }\n",
       "</style>\n",
       "<table border=\"1\" class=\"dataframe\">\n",
       "  <thead>\n",
       "    <tr style=\"text-align: right;\">\n",
       "      <th></th>\n",
       "      <th>document</th>\n",
       "      <th>class</th>\n",
       "    </tr>\n",
       "  </thead>\n",
       "  <tbody>\n",
       "    <tr>\n",
       "      <th>0</th>\n",
       "      <td>i rented i am curious-yellow from my video sto...</td>\n",
       "      <td>0</td>\n",
       "    </tr>\n",
       "    <tr>\n",
       "      <th>1</th>\n",
       "      <td>i am curious  yellow  is a risible and preten...</td>\n",
       "      <td>0</td>\n",
       "    </tr>\n",
       "    <tr>\n",
       "      <th>2</th>\n",
       "      <td>if only to avoid making this type of film in t...</td>\n",
       "      <td>0</td>\n",
       "    </tr>\n",
       "    <tr>\n",
       "      <th>3</th>\n",
       "      <td>this film was probably inspired by godard's ma...</td>\n",
       "      <td>0</td>\n",
       "    </tr>\n",
       "    <tr>\n",
       "      <th>4</th>\n",
       "      <td>oh  brother   after hearing about this ridicul...</td>\n",
       "      <td>0</td>\n",
       "    </tr>\n",
       "    <tr>\n",
       "      <th>...</th>\n",
       "      <td>...</td>\n",
       "      <td>...</td>\n",
       "    </tr>\n",
       "    <tr>\n",
       "      <th>24995</th>\n",
       "      <td>a hit at the time but now better categorised a...</td>\n",
       "      <td>1</td>\n",
       "    </tr>\n",
       "    <tr>\n",
       "      <th>24996</th>\n",
       "      <td>i love this movie like no other  another time ...</td>\n",
       "      <td>1</td>\n",
       "    </tr>\n",
       "    <tr>\n",
       "      <th>24997</th>\n",
       "      <td>this film and it's sequel barry mckenzie holds...</td>\n",
       "      <td>1</td>\n",
       "    </tr>\n",
       "    <tr>\n",
       "      <th>24998</th>\n",
       "      <td>'the adventures of barry mckenzie' started lif...</td>\n",
       "      <td>1</td>\n",
       "    </tr>\n",
       "    <tr>\n",
       "      <th>24999</th>\n",
       "      <td>the story centers around barry mckenzie who mu...</td>\n",
       "      <td>1</td>\n",
       "    </tr>\n",
       "  </tbody>\n",
       "</table>\n",
       "<p>25000 rows × 2 columns</p>\n",
       "</div>"
      ],
      "text/plain": [
       "                                                document  class\n",
       "0      i rented i am curious-yellow from my video sto...      0\n",
       "1       i am curious  yellow  is a risible and preten...      0\n",
       "2      if only to avoid making this type of film in t...      0\n",
       "3      this film was probably inspired by godard's ma...      0\n",
       "4      oh  brother   after hearing about this ridicul...      0\n",
       "...                                                  ...    ...\n",
       "24995  a hit at the time but now better categorised a...      1\n",
       "24996  i love this movie like no other  another time ...      1\n",
       "24997  this film and it's sequel barry mckenzie holds...      1\n",
       "24998  'the adventures of barry mckenzie' started lif...      1\n",
       "24999  the story centers around barry mckenzie who mu...      1\n",
       "\n",
       "[25000 rows x 2 columns]"
      ]
     },
     "execution_count": 4,
     "metadata": {},
     "output_type": "execute_result"
    }
   ],
   "source": [
    "train_raw = pd.DataFrame(dataset[\"train\"], columns=[\"text\", \"label\"]).rename(columns={\"text\": \"document\", \"label\": \"class\"})\n",
    "preprocessed_train = preprocess(train_raw)\n",
    "preprocessed_train"
   ]
  },
  {
   "cell_type": "code",
   "execution_count": 5,
   "metadata": {},
   "outputs": [
    {
     "name": "stdout",
     "output_type": "stream",
     "text": [
      "Deleting all these punctuation: \\~|\\}|\\||\\{|`|_|\\^|\\]|\\\\|\\[|@|\\?|>|=|<|;|:|/|\\.|,|\\+|\\*|\\)|\\(|\\&|%|\\$|\\#|\"|!\n"
     ]
    },
    {
     "data": {
      "text/html": [
       "<div>\n",
       "<style scoped>\n",
       "    .dataframe tbody tr th:only-of-type {\n",
       "        vertical-align: middle;\n",
       "    }\n",
       "\n",
       "    .dataframe tbody tr th {\n",
       "        vertical-align: top;\n",
       "    }\n",
       "\n",
       "    .dataframe thead th {\n",
       "        text-align: right;\n",
       "    }\n",
       "</style>\n",
       "<table border=\"1\" class=\"dataframe\">\n",
       "  <thead>\n",
       "    <tr style=\"text-align: right;\">\n",
       "      <th></th>\n",
       "      <th>document</th>\n",
       "      <th>class</th>\n",
       "    </tr>\n",
       "  </thead>\n",
       "  <tbody>\n",
       "    <tr>\n",
       "      <th>0</th>\n",
       "      <td>i love sci-fi and am willing to put up with a ...</td>\n",
       "      <td>0</td>\n",
       "    </tr>\n",
       "    <tr>\n",
       "      <th>1</th>\n",
       "      <td>worth the entertainment value of a rental  esp...</td>\n",
       "      <td>0</td>\n",
       "    </tr>\n",
       "    <tr>\n",
       "      <th>2</th>\n",
       "      <td>its a totally average film with a few semi-alr...</td>\n",
       "      <td>0</td>\n",
       "    </tr>\n",
       "    <tr>\n",
       "      <th>3</th>\n",
       "      <td>star rating        saturday night      friday ...</td>\n",
       "      <td>0</td>\n",
       "    </tr>\n",
       "    <tr>\n",
       "      <th>4</th>\n",
       "      <td>first off let me say  if you haven't enjoyed a...</td>\n",
       "      <td>0</td>\n",
       "    </tr>\n",
       "    <tr>\n",
       "      <th>...</th>\n",
       "      <td>...</td>\n",
       "      <td>...</td>\n",
       "    </tr>\n",
       "    <tr>\n",
       "      <th>24995</th>\n",
       "      <td>just got around to seeing monster man yesterda...</td>\n",
       "      <td>1</td>\n",
       "    </tr>\n",
       "    <tr>\n",
       "      <th>24996</th>\n",
       "      <td>i got this as part of a competition prize  i w...</td>\n",
       "      <td>1</td>\n",
       "    </tr>\n",
       "    <tr>\n",
       "      <th>24997</th>\n",
       "      <td>i got monster man in a box set of three films ...</td>\n",
       "      <td>1</td>\n",
       "    </tr>\n",
       "    <tr>\n",
       "      <th>24998</th>\n",
       "      <td>five minutes in  i started to feel how naff th...</td>\n",
       "      <td>1</td>\n",
       "    </tr>\n",
       "    <tr>\n",
       "      <th>24999</th>\n",
       "      <td>i caught this movie on the sci-fi channel rece...</td>\n",
       "      <td>1</td>\n",
       "    </tr>\n",
       "  </tbody>\n",
       "</table>\n",
       "<p>25000 rows × 2 columns</p>\n",
       "</div>"
      ],
      "text/plain": [
       "                                                document  class\n",
       "0      i love sci-fi and am willing to put up with a ...      0\n",
       "1      worth the entertainment value of a rental  esp...      0\n",
       "2      its a totally average film with a few semi-alr...      0\n",
       "3      star rating        saturday night      friday ...      0\n",
       "4      first off let me say  if you haven't enjoyed a...      0\n",
       "...                                                  ...    ...\n",
       "24995  just got around to seeing monster man yesterda...      1\n",
       "24996  i got this as part of a competition prize  i w...      1\n",
       "24997  i got monster man in a box set of three films ...      1\n",
       "24998  five minutes in  i started to feel how naff th...      1\n",
       "24999  i caught this movie on the sci-fi channel rece...      1\n",
       "\n",
       "[25000 rows x 2 columns]"
      ]
     },
     "execution_count": 5,
     "metadata": {},
     "output_type": "execute_result"
    }
   ],
   "source": [
    "test_raw = pd.DataFrame(dataset[\"test\"], columns=[\"text\", \"label\"]).rename(columns={\"text\": \"document\", \"label\": \"class\"})\n",
    "preprocessed_test = preprocess(test_raw)\n",
    "preprocessed_test"
   ]
  },
  {
   "attachments": {},
   "cell_type": "markdown",
   "metadata": {},
   "source": [
    "### Question 2: Naive Bayes Classifier using pseudo-code"
   ]
  },
  {
   "cell_type": "code",
   "execution_count": 35,
   "metadata": {},
   "outputs": [],
   "source": [
    "import numpy as np\n",
    "from typing import List\n",
    "from sklearn.metrics import accuracy_score, precision_score, recall_score\n",
    "from sklearn.feature_extraction.text import CountVectorizer\n",
    "import operator\n",
    "\n",
    "def get_vocabulary(d: pd.DataFrame) -> List[str]:\n",
    "    \"\"\"\n",
    "    Return the vocabulary of the dataset\n",
    "\n",
    "    Parameters\n",
    "    ----------\n",
    "    d : pd.DataFrame\n",
    "\n",
    "    Returns\n",
    "    -------\n",
    "    List[str]\n",
    "        The vocabulary\n",
    "    \"\"\"\n",
    "    res = list(set(\" \".join(d[\"document\"]).split(\" \")))\n",
    "    # Remove empty string and words without any letter\n",
    "    res = list(filter(lambda x: x != \"\" and re.search(\"[a-zA-Z]\", x), res))\n",
    "    return res\n",
    "\n",
    "def train_naive_bayes(d: pd.DataFrame):\n",
    "    \"\"\"\n",
    "    Train a Naive Bayes classifier\n",
    "\n",
    "    Parameters\n",
    "    ----------\n",
    "    d : pd.DataFrame\n",
    "\n",
    "    Returns\n",
    "    -------\n",
    "    logprior : dict\n",
    "        The log prior of each class\n",
    "    loglikelihood : dict\n",
    "        The log likelihood of each word for each class\n",
    "    V : List[str]\n",
    "        The vocabulary\n",
    "    \"\"\"\n",
    "    classes = d[\"class\"].unique()\n",
    "    logprior = {}\n",
    "    bigdoc = {}\n",
    "    loglikelihood = {}\n",
    "    V = get_vocabulary(d)\n",
    "    for c in classes:\n",
    "        count = {}\n",
    "        n_doc = len(d)\n",
    "        n_c = len(d[d[\"class\"] == c])\n",
    "        logprior[c] = np.log(n_c / n_doc)\n",
    "        bigdoc[c] = list(\" \".join(d[d[\"class\"] == c][\"document\"]).split(\" \"))\n",
    "        for word in V:\n",
    "            count[(word, c)] = bigdoc[c].count(word)\n",
    "        for word in V:\n",
    "            loglikelihood[(word, c)] = np.log((count[(word, c)] + 1) / (sum(count.values()) + len(V)))\n",
    "    return logprior, loglikelihood, V\n",
    "\n",
    "def test_naive_bayes(testdoc, classes, logprior, loglikelihood, V) -> int:\n",
    "    \"\"\"\n",
    "    Test a Naive Bayes classifier\n",
    "\n",
    "    Parameters\n",
    "    ----------\n",
    "    testdoc : str\n",
    "        The document to classify\n",
    "    classes : List[int]\n",
    "        The list of classes\n",
    "    logprior : dict\n",
    "        The log prior of each class\n",
    "    loglikelihood : dict\n",
    "        The log likelihood of each word for each class\n",
    "    V : List[str]\n",
    "        The vocabulary\n",
    "\n",
    "    Returns\n",
    "    -------\n",
    "    int\n",
    "        The predicted class\n",
    "    \"\"\"\n",
    "    sum_loglikelihood = {}\n",
    "    for c in classes:\n",
    "        sum_loglikelihood[c] = logprior[c]\n",
    "        for word in testdoc.split(\" \"):\n",
    "            if word in V:\n",
    "                sum_loglikelihood[c] += loglikelihood[(word, c)]\n",
    "    return max(sum_loglikelihood, key=sum_loglikelihood.get)"
   ]
  },
  {
   "cell_type": "code",
   "execution_count": 40,
   "metadata": {
    "pycharm": {
     "is_executing": true
    }
   },
   "outputs": [
    {
     "name": "stdout",
     "output_type": "stream",
     "text": [
      "Manual Naive Bayes Accuracy Score ->  80.12\n",
      "Manual Naive Bayes Precision Score ->  84.44647758462946\n",
      "Manual Naive Bayes Recall Score ->  73.83999999999999\n"
     ]
    }
   ],
   "source": [
    "train_dataset_reduced = preprocessed_train.loc[::10, :]\n",
    "test_dataset_reduced = preprocessed_test.loc[::10, :]\n",
    "logprior_r, loglikelyhood_r, V_r = train_naive_bayes(train_dataset_reduced)\n",
    "\n",
    "all_res = []\n",
    "for row in test_dataset_reduced.iterrows():\n",
    "    test_doc = row[1][\"document\"]\n",
    "    res = test_naive_bayes(test_doc, preprocessed_test[\"class\"].unique(), logprior_r, loglikelyhood_r, V_r)\n",
    "    # if res != row[1][\"class\"]:\n",
    "    #     print(f\"Error: {res} != {row[1]['class']}\")\n",
    "    all_res.append(res)\n",
    "\n",
    "print(\"Manual Naive Bayes Accuracy Score -> \",accuracy_score(test_dataset_reduced[\"class\"], all_res)*100)\n",
    "print(\"Manual Naive Bayes Precision Score -> \",precision_score(test_dataset_reduced[\"class\"], all_res)*100)\n",
    "print(\"Manual Naive Bayes Recall Score -> \",recall_score(test_dataset_reduced[\"class\"], all_res)*100)"
   ]
  },
  {
   "attachments": {},
   "cell_type": "markdown",
   "metadata": {},
   "source": [
    "### Question 3: Naive Bayes Classifier using sklearn (Pipeline with CountVectorizer and MultinomialNB)"
   ]
  },
  {
   "cell_type": "code",
   "execution_count": 58,
   "metadata": {},
   "outputs": [],
   "source": [
    "from sklearn.naive_bayes import MultinomialNB\n",
    "from sklearn.pipeline import Pipeline"
   ]
  },
  {
   "cell_type": "code",
   "execution_count": 59,
   "metadata": {},
   "outputs": [],
   "source": [
    "def sklearn_naive_bayes(d_train: pd.DataFrame, pipeline_params: dict = {}) -> Pipeline:\n",
    "    \"\"\"\n",
    "    Train a Naive Bayes classifier using sklearn\n",
    "\n",
    "    Parameters\n",
    "    ----------\n",
    "    d_train : pd.DataFrame\n",
    "        The training dataset\n",
    "    pipeline_params : dict, optional\n",
    "        The parameters of the pipeline, by default {}\n",
    "\n",
    "    Returns\n",
    "    -------\n",
    "    Pipeline\n",
    "        The trained pipeline\n",
    "    \"\"\"\n",
    "    # create pipeline\n",
    "    pipeline = Pipeline([\n",
    "        ('vectorizer', CountVectorizer()),\n",
    "        ('classifier', MultinomialNB())\n",
    "    ])\n",
    "    pipeline.set_params(**pipeline_params)\n",
    "\n",
    "    # train the model\n",
    "    pipeline.fit(d_train[\"document\"], d_train[\"class\"])\n",
    "    return pipeline\n",
    "\n",
    "def test_sklearn_naive_bayes(pipeline: Pipeline, d_test: pd.DataFrame) -> List[int]:\n",
    "    \"\"\"\n",
    "    Test a Naive Bayes classifier using sklearn\n",
    "\n",
    "    Parameters\n",
    "    ----------\n",
    "    pipeline : Pipeline\n",
    "        The trained pipeline\n",
    "    d_test : pd.DataFrame\n",
    "        The test dataset\n",
    "\n",
    "    Returns\n",
    "    -------\n",
    "    List[int]\n",
    "        The predicted classes\n",
    "    \"\"\"\n",
    "    # predict the labels on validation dataset\n",
    "    predictions = pipeline.predict(d_test[\"document\"])\n",
    "\n",
    "    print(\"Sklearn Naive Bayes Accuracy Score -> \",accuracy_score(d_test[\"class\"], predictions)*100)\n",
    "    print(\"Sklearn Naive Bayes Precision Score -> \",precision_score(d_test[\"class\"], predictions)*100)\n",
    "    print(\"Sklearn Naive Bayes Recall Score -> \",recall_score(d_test[\"class\"], predictions)*100)\n",
    "\n",
    "    return predictions"
   ]
  },
  {
   "cell_type": "code",
   "execution_count": 60,
   "metadata": {},
   "outputs": [
    {
     "name": "stdout",
     "output_type": "stream",
     "text": [
      "Sklearn Naive Bayes Accuracy Score ->  81.44\n",
      "Sklearn Naive Bayes Precision Score ->  86.05504587155963\n",
      "Sklearn Naive Bayes Recall Score ->  75.03999999999999\n"
     ]
    }
   ],
   "source": [
    "pipeline = sklearn_naive_bayes(preprocessed_train)\n",
    "predictions = test_sklearn_naive_bayes(pipeline, preprocessed_test)"
   ]
  },
  {
   "attachments": {},
   "cell_type": "markdown",
   "metadata": {},
   "source": [
    "### Question 4: Report the accuracy on the test set\n",
    "\n",
    "See prints above\n",
    "\n",
    "### Question 5: Most likely, the scikit-learn implementation will give better results. Looking at the documentation, explain why it could be the case.\n",
    "\n",
    "The scikit-learn implementation is better because it uses a MultinomialNB which is a more efficient way to compute the probabilities. It also uses a CountVectorizer which is a more efficient way to count the words in the dataset.\n",
    "\n",
    "### Question 6: Why is accuracy a sufficient measure of evaluation here?\n",
    "\n",
    "Because the dataset is balanced, we have the same number of positive and negative reviews. So the accuracy is a good measure of evaluation.\n",
    "\n",
    "### Question 7: Using one of the implementation, take at least 2 wrongly classified example from the test set and try explaining why the model failed."
   ]
  },
  {
   "cell_type": "code",
   "execution_count": 33,
   "metadata": {},
   "outputs": [
    {
     "name": "stdout",
     "output_type": "stream",
     "text": [
      "blind date  columbia pictures  1934   was a decent film  but i have a few issues with this film. first of all  i don t fault the actors in this film at all  but more or less  i have a problem with the script. also  i understand that this film was made in the 1930 s and people were looking to escape reality  but the script made ann sothern s character look weak. she kept going back and forth between suitors and i felt as though she should have stayed with paul kelly s character in the end. he truly did care about her and her family and would have done anything for her and he did by giving her up in the end to fickle neil hamilton who in my opinion was only out for a good time. paul kelly s character  although a workaholic was a man of integrity and truly loved kitty  ann sothern  as opposed to neil hamilton  while he did like her a lot  i didn t see the depth of love that he had for her character. the production values were great  but the script could have used a little work.\n",
      "ben   rupert grint   is a deeply unhappy adolescent  the son of his unhappily married parents. his father   nicholas farrell   is a vicar and his mother   laura linney   is ... well  let s just say she s a somewhat hypocritical soldier in jesus  army. it s only when he takes a summer job as an assistant to a foul-mouthed  eccentric  once-famous and now-forgotten actress evie walton   julie walters   that he finally finds himself in true  harold and maude  fashion. of course  evie is deeply unhappy herself and it s only when these two sad sacks find each other that they can put their mutual misery aside and hit the road to happiness.of course it s corny and sentimental and very predictable but it has a hard side to it  too and walters  who could sleep-walk her way through this sort of thing if she wanted  is excellent. it s when she puts the craziness to one side and finds the pathos in the character   like hitting the bottle and throwing up in the sink   that she s at her best. the problem is she s the only interesting character in the film  and it s not because of the script which doesn t do anybody any favours . grint  on the other hand  isn t just unhappy  he s a bit of a bore as well while linney s starched bitch is completely one-dimensional.  still  she s got the english accent off pat . the best that can be said for it is that it s mildly enjoyable - with the emphasis on the mildly.\n",
      "\n",
      "[[4.22158007e-06 9.99995778e-01]]\n",
      "[[0.00150068 0.99849932]]\n"
     ]
    }
   ],
   "source": [
    "# We will take a look at the sklearn implementation\n",
    "# First we need to get the wrongly classified examples\n",
    "wrongly_classified = preprocessed_test[preprocessed_test[\"class\"] != predictions]\n",
    "\n",
    "# We will take the first 2 examples\n",
    "# We can see that the first example is a negative review but the model predicted it as a positive review\n",
    "# The second example is a positive review but the model predicted it as a negative review\n",
    "print(wrongly_classified.iloc[0][\"document\"])\n",
    "print(wrongly_classified.iloc[1][\"document\"])\n",
    "print()\n",
    "\n",
    "# Let's see the probability of each class for the first example\n",
    "print(pipeline.predict_proba([wrongly_classified.iloc[0][\"document\"]]))\n",
    "# Let's see the probability of each class for the second example\n",
    "print(pipeline.predict_proba([wrongly_classified.iloc[1][\"document\"]]))"
   ]
  },
  {
   "attachments": {},
   "cell_type": "markdown",
   "metadata": {},
   "source": [
    "We can see that the model is very confident about its prediction for the two examples (0.99...) but it's wrong. These examples are very hard to classify because they are very close to the decision boundary and also mixing a movie description (which can have positive or negative connotations due to the life of the main character, etc) and a review. So the model is not able to classify them correctly because of the confusing bundary between description and facts and the opinion."
   ]
  },
  {
   "attachments": {},
   "cell_type": "markdown",
   "metadata": {},
   "source": [
    "### Question 8: What are the top 10 most important words (features) for each class? (bonus points)"
   ]
  },
  {
   "cell_type": "code",
   "execution_count": 71,
   "metadata": {},
   "outputs": [],
   "source": [
    "# We will use the sklearn implementation to get the top 10 most important words for each class\n",
    "\n",
    "def get_top_10_words(pipeline: Pipeline) -> dict:\n",
    "    \"\"\"\n",
    "    Get the top 10 words for each class\n",
    "\n",
    "    Parameters\n",
    "    ----------\n",
    "    pipeline : Pipeline\n",
    "        The trained pipeline\n",
    "\n",
    "    Returns\n",
    "    -------\n",
    "    dict\n",
    "        The top 10 words for each class\n",
    "    \"\"\"\n",
    "    top_10_words = {}\n",
    "    for c in preprocessed_test[\"class\"].unique():\n",
    "        loglikelihood = pipeline.named_steps[\"classifier\"].feature_log_prob_[c]\n",
    "        V = pipeline.named_steps[\"vectorizer\"].vocabulary_\n",
    "        top_10_words[c] = [list(V.keys())[list(V.values()).index(i)] for i in np.argsort(loglikelihood)[-10:]]\n",
    "    return top_10_words"
   ]
  },
  {
   "cell_type": "code",
   "execution_count": 72,
   "metadata": {},
   "outputs": [
    {
     "data": {
      "text/plain": [
       "{0: ['was', 'that', 'this', 'in', 'it', 'is', 'to', 'of', 'and', 'the'],\n",
       " 1: ['as', 'this', 'that', 'it', 'in', 'is', 'to', 'of', 'and', 'the']}"
      ]
     },
     "execution_count": 72,
     "metadata": {},
     "output_type": "execute_result"
    }
   ],
   "source": [
    "get_top_10_words(pipeline)"
   ]
  },
  {
   "cell_type": "code",
   "execution_count": 84,
   "metadata": {},
   "outputs": [
    {
     "name": "stdout",
     "output_type": "stream",
     "text": [
      "Sklearn Naive Bayes Accuracy Score ->  81.976\n",
      "Sklearn Naive Bayes Precision Score ->  86.22439731738264\n",
      "Sklearn Naive Bayes Recall Score ->  76.112\n"
     ]
    },
    {
     "data": {
      "text/plain": [
       "{0: ['story',\n",
       "  'don',\n",
       "  'time',\n",
       "  'really',\n",
       "  'bad',\n",
       "  'good',\n",
       "  'just',\n",
       "  'like',\n",
       "  'film',\n",
       "  'movie'],\n",
       " 1: ['people',\n",
       "  'really',\n",
       "  'great',\n",
       "  'time',\n",
       "  'story',\n",
       "  'just',\n",
       "  'good',\n",
       "  'like',\n",
       "  'movie',\n",
       "  'film']}"
      ]
     },
     "execution_count": 84,
     "metadata": {},
     "output_type": "execute_result"
    }
   ],
   "source": [
    "pipeline_stopwords = sklearn_naive_bayes(preprocessed_train, {\"vectorizer__stop_words\": \"english\"})\n",
    "predictions_stopwords = test_sklearn_naive_bayes(pipeline_stopwords, preprocessed_test)\n",
    "\n",
    "get_top_10_words(pipeline_stopwords)"
   ]
  },
  {
   "attachments": {},
   "cell_type": "markdown",
   "metadata": {},
   "source": [
    "We see that the top 10 words are more unique using stopwords\n",
    "\n",
    "### Question 9: Play with scikit-learn's version parameters. For example, see if you can consider unigram and bigram instead of only unigrams."
   ]
  },
  {
   "cell_type": "code",
   "execution_count": 89,
   "metadata": {},
   "outputs": [
    {
     "name": "stdout",
     "output_type": "stream",
     "text": [
      "Sklearn Naive Bayes Accuracy Score ->  84.244\n",
      "Sklearn Naive Bayes Precision Score ->  87.4857693318154\n",
      "Sklearn Naive Bayes Recall Score ->  79.92\n"
     ]
    }
   ],
   "source": [
    "# Unigram and bigram\n",
    "pipeline_bigram = sklearn_naive_bayes(preprocessed_train, {\"vectorizer__ngram_range\": (1, 2), \"vectorizer__stop_words\": \"english\"})\n",
    "predictions_bigram = test_sklearn_naive_bayes(pipeline_bigram, preprocessed_test)"
   ]
  },
  {
   "cell_type": "code",
   "execution_count": 93,
   "metadata": {},
   "outputs": [
    {
     "name": "stdout",
     "output_type": "stream",
     "text": [
      "Sklearn Naive Bayes Accuracy Score ->  85.672\n",
      "Sklearn Naive Bayes Precision Score ->  88.62612612612612\n",
      "Sklearn Naive Bayes Recall Score ->  81.848\n"
     ]
    }
   ],
   "source": [
    "# Unigram and bigram with stopwords\n",
    "pipeline_bigram_stopwords = sklearn_naive_bayes(preprocessed_train, {\"vectorizer__ngram_range\": (1, 2)})\n",
    "predictions_bigram_stopwords = test_sklearn_naive_bayes(pipeline_bigram_stopwords, preprocessed_test)"
   ]
  },
  {
   "cell_type": "code",
   "execution_count": 91,
   "metadata": {},
   "outputs": [
    {
     "name": "stdout",
     "output_type": "stream",
     "text": [
      "Sklearn Naive Bayes Accuracy Score ->  82.952\n",
      "Sklearn Naive Bayes Precision Score ->  87.63018454229857\n",
      "Sklearn Naive Bayes Recall Score ->  76.736\n"
     ]
    }
   ],
   "source": [
    "# Only bigram\n",
    "pipeline_only_bigram = sklearn_naive_bayes(preprocessed_train, {\"vectorizer__ngram_range\": (2, 2), \"vectorizer__stop_words\": \"english\"})\n",
    "predictions_only_bigram = test_sklearn_naive_bayes(pipeline_only_bigram, preprocessed_test)"
   ]
  },
  {
   "cell_type": "code",
   "execution_count": 94,
   "metadata": {},
   "outputs": [
    {
     "name": "stdout",
     "output_type": "stream",
     "text": [
      "Sklearn Naive Bayes Accuracy Score ->  86.952\n",
      "Sklearn Naive Bayes Precision Score ->  89.35753237900477\n",
      "Sklearn Naive Bayes Recall Score ->  83.896\n"
     ]
    }
   ],
   "source": [
    "# Only bigram with stopwords\n",
    "pipeline_only_bigram_stopwords = sklearn_naive_bayes(preprocessed_train, {\"vectorizer__ngram_range\": (2, 2)})\n",
    "predictions_only_bigram_stopwords = test_sklearn_naive_bayes(pipeline_only_bigram_stopwords, preprocessed_test)"
   ]
  },
  {
   "attachments": {},
   "cell_type": "markdown",
   "metadata": {},
   "source": [
    "The accuracy is better with only unigrams and without removing stopwords."
   ]
  },
  {
   "attachments": {},
   "cell_type": "markdown",
   "metadata": {},
   "source": [
    "## Part 3: Stemming & Lemmatization\n"
   ]
  },
  {
   "cell_type": "code",
   "execution_count": null,
   "metadata": {},
   "outputs": [],
   "source": [
    "! python -m spacy download en_core_web_sm"
   ]
  },
  {
   "attachments": {},
   "cell_type": "markdown",
   "metadata": {},
   "source": [
    "### Lemmatization\n",
    "\n",
    "Let's do a quick test"
   ]
  },
  {
   "cell_type": "code",
   "execution_count": 41,
   "metadata": {},
   "outputs": [
    {
     "name": "stdout",
     "output_type": "stream",
     "text": [
      "Original Sentence: {test_sentence}\n",
      "\n",
      "Original : rented, New: rent\n",
      "Original : AM, New: be\n",
      "Original : CURIOUS, New: curious\n",
      "Original : surrounded, New: surround\n",
      "Original : was, New: be\n"
     ]
    }
   ],
   "source": [
    "# Setup spacy\n",
    "import spacy\n",
    "nlp = spacy.load('en_core_web_sm')\n",
    "\n",
    "# Take a 20 characters sentence example from the test dataset\n",
    "test_list = dataset['train']['text'][0].split()[:20]\n",
    "test_sentence = ' '.join(test_list)\n",
    "\n",
    "# Lemmatize the sentence\n",
    "doc = nlp(test_sentence)\n",
    "\n",
    "# Get all token\n",
    "tokens = [token.text for token in doc]\n",
    "\n",
    "print('Original Sentence: {test_sentence}')\n",
    "print()\n",
    "for token in doc:\n",
    "    if token.text != token.lemma_:\n",
    "        print(f'Original : {token.text}, New: {token.lemma_}')"
   ]
  },
  {
   "cell_type": "code",
   "execution_count": 42,
   "metadata": {},
   "outputs": [],
   "source": [
    "def lemma_preprocessor(x_list: List[str]) -> List[str]:\n",
    "    \"\"\"\n",
    "    Preprocessing function to lowercase and remove punctuation\n",
    "    of a list of string and lemmatize each string.\n",
    "    \n",
    "    Args:\n",
    "        x_list: List of strings\n",
    "    \n",
    "    Returns:\n",
    "        List of preprocessed strings.\n",
    "    \"\"\"\n",
    "    no_punc_lower = [x.lower().translate(str.maketrans(\"\", \"\", punctuation)) for x in x_list]\n",
    "    spacy_nlp = spacy.load('en_core_web_sm')\n",
    "    res = []\n",
    "    for sentence in no_punc_lower:\n",
    "        doc = spacy_nlp(sentence)\n",
    "        s = []\n",
    "        for word in doc:\n",
    "            s.append(word.lemma_)\n",
    "        s = ' '.join(s)\n",
    "        res.append(s)\n",
    "    return res"
   ]
  },
  {
   "cell_type": "code",
   "execution_count": 47,
   "metadata": {},
   "outputs": [
    {
     "name": "stdout",
     "output_type": "stream",
     "text": [
      "['I rented I AM CURIOUS-YELLOW from my video store because of all the controversy that surrounded it when it was first released in 1967. I also heard that at first it was seized by U.S. customs if it ever tried to enter this country, therefore being a fan of films considered \"controversial\" I really had to see this for myself.<br /><br />The plot is centered around a young Swedish drama student named Lena who wants to learn everything she can about life. In particular she wants to focus her attentions to making some sort of documentary on what the average Swede thought about certain political issues such as the Vietnam War and race issues in the United States. In between asking politicians and ordinary denizens of Stockholm about their opinions on politics, she has sex with her drama teacher, classmates, and married men.<br /><br />What kills me about I AM CURIOUS-YELLOW is that 40 years ago, this was considered pornographic. Really, the sex and nudity scenes are few and far between, even then it\\'s not shot like some cheaply made porno. While my countrymen mind find it shocking, in reality sex and nudity are a major staple in Swedish cinema. Even Ingmar Bergman, arguably their answer to good old boy John Ford, had sex scenes in his films.<br /><br />I do commend the filmmakers for the fact that any sex shown in the film is shown for artistic purposes rather than just to shock people and make money to be shown in pornographic theaters in America. I AM CURIOUS-YELLOW is a good film for anyone wanting to study the meat and potatoes (no pun intended) of Swedish cinema. But really, this film doesn\\'t have much of a plot.', '\"I Am Curious: Yellow\" is a risible and pretentious steaming pile. It doesn\\'t matter what one\\'s political views are because this film can hardly be taken seriously on any level. As for the claim that frontal male nudity is an automatic NC-17, that isn\\'t true. I\\'ve seen R-rated films with male nudity. Granted, they only offer some fleeting views, but where are the R-rated films with gaping vulvas and flapping labia? Nowhere, because they don\\'t exist. The same goes for those crappy cable shows: schlongs swinging in the breeze but not a clitoris in sight. And those pretentious indie movies like The Brown Bunny, in which we\\'re treated to the site of Vincent Gallo\\'s throbbing johnson, but not a trace of pink visible on Chloe Sevigny. Before crying (or implying) \"double-standard\" in matters of nudity, the mentally obtuse should take into account one unavoidably obvious anatomical difference between men and women: there are no genitals on display when actresses appears nude, and the same cannot be said for a man. In fact, you generally won\\'t see female genitals in an American film in anything short of porn or explicit erotica. This alleged double-standard is less a double standard than an admittedly depressing ability to come to terms culturally with the insides of women\\'s bodies.', \"If only to avoid making this type of film in the future. This film is interesting as an experiment but tells no cogent story.<br /><br />One might feel virtuous for sitting thru it because it touches on so many IMPORTANT issues but it does so without any discernable motive. The viewer comes away with no new perspectives (unless one comes up with one while one's mind wanders, as it will invariably do during this pointless film).<br /><br />One might better spend one's time staring out a window at a tree growing.<br /><br />\", \"This film was probably inspired by Godard's Masculin, féminin and I urge you to see that film instead.<br /><br />The film has two strong elements and those are, (1) the realistic acting (2) the impressive, undeservedly good, photo. Apart from that, what strikes me most is the endless stream of silliness. Lena Nyman has to be most annoying actress in the world. She acts so stupid and with all the nudity in this film,...it's unattractive. Comparing to Godard's film, intellectuality has been replaced with stupidity. Without going too far on this subject, I would say that follows from the difference in ideals between the French and the Swedish society.<br /><br />A movie of its time, and place. 2/10.\", 'Oh, brother...after hearing about this ridiculous film for umpteen years all I can think of is that old Peggy Lee song..<br /><br />\"Is that all there is??\" ...I was just an early teen when this smoked fish hit the U.S. I was too young to get in the theater (although I did manage to sneak into \"Goodbye Columbus\"). Then a screening at a local film museum beckoned - Finally I could see this film, except now I was as old as my parents were when they schlepped to see it!!<br /><br />The ONLY reason this film was not condemned to the anonymous sands of time was because of the obscenity case sparked by its U.S. release. MILLIONS of people flocked to this stinker, thinking they were going to see a sex film...Instead, they got lots of closeups of gnarly, repulsive Swedes, on-street interviews in bland shopping malls, asinie political pretension...and feeble who-cares simulated sex scenes with saggy, pale actors.<br /><br />Cultural icon, holy grail, historic artifact..whatever this thing was, shred it, burn it, then stuff the ashes in a lead box!<br /><br />Elite esthetes still scrape to find value in its boring pseudo revolutionary political spewings..But if it weren\\'t for the censorship scandal, it would have been ignored, then forgotten.<br /><br />Instead, the \"I Am Blank, Blank\" rhythymed title was repeated endlessly for years as a titilation for porno films (I am Curious, Lavender - for gay films, I Am Curious, Black - for blaxploitation films, etc..) and every ten years or so the thing rises from the dead, to be viewed by a new generation of suckers who want to see that \"naughty sex film\" that \"revolutionized the film industry\"...<br /><br />Yeesh, avoid like the plague..Or if you MUST see it - rent the video and fast forward to the \"dirty\" parts, just to get it over with.<br /><br />', \"I would put this at the top of my list of films in the category of unwatchable trash! There are films that are bad, but the worst kind are the ones that are unwatchable but you are suppose to like them because they are supposed to be good for you! The sex sequences, so shocking in its day, couldn't even arouse a rabbit. The so called controversial politics is strictly high school sophomore amateur night Marxism. The film is self-consciously arty in the worst sense of the term. The photography is in a harsh grainy black and white. Some scenes are out of focus or taken from the wrong angle. Even the sound is bad! And some people call this art?<br /><br />\", \"Whoever wrote the screenplay for this movie obviously never consulted any books about Lucille Ball, especially her autobiography. I've never seen so many mistakes in a biopic, ranging from her early years in Celoron and Jamestown to her later years with Desi. I could write a whole list of factual errors, but it would go on for pages. In all, I believe that Lucille Ball is one of those inimitable people who simply cannot be portrayed by anyone other than themselves. If I were Lucie Arnaz and Desi, Jr., I would be irate at how many mistakes were made in this film. The filmmakers tried hard, but the movie seems awfully sloppy to me.\", 'When I first saw a glimpse of this movie, I quickly noticed the actress who was playing the role of Lucille Ball. Rachel York\\'s portrayal of Lucy is absolutely awful. Lucille Ball was an astounding comedian with incredible talent. To think about a legend like Lucille Ball being portrayed the way she was in the movie is horrendous. I cannot believe out of all the actresses in the world who could play a much better Lucy, the producers decided to get Rachel York. She might be a good actress in other roles but to play the role of Lucille Ball is tough. It is pretty hard to find someone who could resemble Lucille Ball, but they could at least find someone a bit similar in looks and talent. If you noticed York\\'s portrayal of Lucy in episodes of I Love Lucy like the chocolate factory or vitavetavegamin, nothing is similar in any way-her expression, voice, or movement.<br /><br />To top it all off, Danny Pino playing Desi Arnaz is horrible. Pino does not qualify to play as Ricky. He\\'s small and skinny, his accent is unreal, and once again, his acting is unbelievable. Although Fred and Ethel were not similar either, they were not as bad as the characters of Lucy and Ricky.<br /><br />Overall, extremely horrible casting and the story is badly told. If people want to understand the real life situation of Lucille Ball, I suggest watching A&E Biography of Lucy and Desi, read the book from Lucille Ball herself, or PBS\\' American Masters: Finding Lucy. If you want to see a docudrama, \"Before the Laughter\" would be a better choice. The casting of Lucille Ball and Desi Arnaz in \"Before the Laughter\" is much better compared to this. At least, a similar aspect is shown rather than nothing.', 'Who are these \"They\"- the actors? the filmmakers? Certainly couldn\\'t be the audience- this is among the most air-puffed productions in existence. It\\'s the kind of movie that looks like it was a lot of fun to shoot\\x97 TOO much fun, nobody is getting any actual work done, and that almost always makes for a movie that\\'s no fun to watch.<br /><br />Ritter dons glasses so as to hammer home his character\\'s status as a sort of doppleganger of the bespectacled Bogdanovich; the scenes with the breezy Ms. Stratten are sweet, but have an embarrassing, look-guys-I\\'m-dating-the-prom-queen feel to them. Ben Gazzara sports his usual cat\\'s-got-canary grin in a futile attempt to elevate the meager plot, which requires him to pursue Audrey Hepburn with all the interest of a narcoleptic at an insomnia clinic. In the meantime, the budding couple\\'s respective children (nepotism alert: Bogdanovich\\'s daughters) spew cute and pick up some fairly disturbing pointers on \\'love\\' while observing their parents. (Ms. Hepburn, drawing on her dignity, manages to rise above the proceedings- but she has the monumental challenge of playing herself, ostensibly.) Everybody looks great, but so what? It\\'s a movie and we can expect that much, if that\\'s what you\\'re looking for you\\'d be better off picking up a copy of Vogue.<br /><br />Oh- and it has to be mentioned that Colleen Camp thoroughly annoys, even apart from her singing, which, while competent, is wholly unconvincing... the country and western numbers are woefully mismatched with the standards on the soundtrack. Surely this is NOT what Gershwin (who wrote the song from which the movie\\'s title is derived) had in mind; his stage musicals of the 20\\'s may have been slight, but at least they were long on charm. \"They All Laughed\" tries to coast on its good intentions, but nobody- least of all Peter Bogdanovich - has the good sense to put on the brakes.<br /><br />Due in no small part to the tragic death of Dorothy Stratten, this movie has a special place in the heart of Mr. Bogdanovich- he even bought it back from its producers, then distributed it on his own and went bankrupt when it didn\\'t prove popular. His rise and fall is among the more sympathetic and tragic of Hollywood stories, so there\\'s no joy in criticizing the film... there _is_ real emotional investment in Ms. Stratten\\'s scenes. But \"Laughed\" is a faint echo of \"The Last Picture Show\", \"Paper Moon\" or \"What\\'s Up, Doc\"- following \"Daisy Miller\" and \"At Long Last Love\", it was a thundering confirmation of the phase from which P.B. has never emerged.<br /><br />All in all, though, the movie is harmless, only a waste of rental. I want to watch people having a good time, I\\'ll go to the park on a sunny day. For filmic expressions of joy and love, I\\'ll stick to Ernest Lubitsch and Jaques Demy...', \"This is said to be a personal film for Peter Bogdonavitch. He based it on his life but changed things around to fit the characters, who are detectives. These detectives date beautiful models and have no problem getting them. Sounds more like a millionaire playboy filmmaker than a detective, doesn't it? This entire movie was written by Peter, and it shows how out of touch with real people he was. You're supposed to write what you know, and he did that, indeed. And leaves the audience bored and confused, and jealous, for that matter. This is a curio for people who want to see Dorothy Stratten, who was murdered right after filming. But Patti Hanson, who would, in real life, marry Keith Richards, was also a model, like Stratten, but is a lot better and has a more ample part. In fact, Stratten's part seemed forced; added. She doesn't have a lot to do with the story, which is pretty convoluted to begin with. All in all, every character in this film is somebody that very few people can relate with, unless you're millionaire from Manhattan with beautiful supermodels at your beckon call. For the rest of us, it's an irritating snore fest. That's what happens when you're out of touch. You entertain your few friends with inside jokes, and bore all the rest.\"]\n"
     ]
    },
    {
     "data": {
      "text/plain": [
       "['I rent I be curiousyellow from my video store because of all the controversy that surround it when it be first release in 1967 I also hear that at first it be seize by us customs if it ever try to enter this country therefore be a fan of film consider controversial I really have to see this for myselfbr br the plot be center around a young swedish drama student name lena who want to learn everything she can about life in particular she want to focus her attention to make some sort of documentary on what the average swede think about certain political issue such as the vietnam war and race issue in the united states in between ask politician and ordinary denizen of stockholm about their opinion on politic she have sex with her drama teacher classmate and married menbr br what kill I about I be curiousyellow be that 40 year ago this be consider pornographic really the sex and nudity scene be few and far between even then its not shoot like some cheaply make porno while my countryman mind find it shock in reality sex and nudity be a major staple in swedish cinema even ingmar bergman arguably their answer to good old boy john ford have sex scene in his filmsbr br I do commend the filmmaker for the fact that any sex show in the film be show for artistic purpose rather than just to shock people and make money to be show in pornographic theater in america I be curiousyellow be a good film for anyone want to study the meat and potatoe no pun intend of swedish cinema but really this film do not have much of a plot',\n",
       " 'I be curious yellow be a risible and pretentious steaming pile it do not matter what one political view be because this film can hardly be take seriously on any level as for the claim that frontal male nudity be an automatic nc17 that be not true I ve see rrate film with male nudity grant they only offer some fleeting view but where be the rrate film with gape vulvas and flap labia nowhere because they do not exist the same go for those crappy cable show schlong swinge in the breeze but not a clitoris in sight and those pretentious indie movie like the brown bunny in which be treat to the site of vincent gallos throb johnson but not a trace of pink visible on chloe sevigny before cry or imply doublestandard in matter of nudity the mentally obtuse should take into account one unavoidably obvious anatomical difference between man and woman there be no genital on display when actress appear nude and the same can not be say for a man in fact you generally will not see female genital in an american film in anything short of porn or explicit erotica this allege doublestandard be less a double standard than an admittedly depressing ability to come to term culturally with the inside of women body',\n",
       " 'if only to avoid make this type of film in the future this film be interesting as an experiment but tell no cogent storybr br one might feel virtuous for sit thru it because it touch on so many important issue but it do so without any discernable motive the viewer come away with no new perspective unless one come up with one while one mind wander as it will invariably do during this pointless filmbr br one might well spend one time stare out a window at a tree growingbr br',\n",
       " 'this film be probably inspire by godard masculin féminin and I urge you to see that film insteadbr br the film have two strong element and those be 1 the realistic acting 2 the impressive undeservedly good photo apart from that what strike I most be the endless stream of silliness lena nyman have to be most annoying actress in the world she act so stupid and with all the nudity in this filmits unattractive compare to godard film intellectuality have be replace with stupidity without go too far on this subject I would say that follow from the difference in ideal between the french and the swedish societybr br a movie of its time and place 210',\n",
       " 'oh brotherafter hear about this ridiculous film for umpteen year all I can think of be that old peggy lee songbr br be that all there be I be just an early teen when this smoke fish hit the us I be too young to get in the theater although I do manage to sneak into goodbye columbus then a screening at a local film museum beckon   finally I could see this film except now I be as old as my parent be when they schleppe to see itbr br the only reason this film be not condemn to the anonymous sand of time be because of the obscenity case spark by its us release million of people flock to this stinker think they be go to see a sex filminstead they get lot of closeup of gnarly repulsive swede onstreet interview in bland shopping mall asinie political pretensionand feeble whocare simulate sex scene with saggy pale actorsbr br cultural icon holy grail historic artifactwhatever this thing be shre it burn it then stuff the ashe in a lead boxbr br elite esthete still scrape to find value in its boring pseudo revolutionary political spewingsbut if it be not for the censorship scandal it would have be ignore then forgottenbr br instead the I be blank blank rhythymed title be repeat endlessly for year as a titilation for porno film I be curious lavender   for gay film I be curious black   for blaxploitation film etc and every ten year or so the thing rise from the dead to be view by a new generation of sucker who want to see that naughty sex film that revolutionize the film industrybr br yeesh avoid like the plagueor if you must see it   rent the video and fast forward to the dirty part just to get it over withbr br',\n",
       " 'I would put this at the top of my list of film in the category of unwatchable trash there be film that be bad but the bad kind be the one that be unwatchable but you be suppose to like they because they be suppose to be good for you the sex sequence so shocking in its day could not even arouse a rabbit the so call controversial politic be strictly high school sophomore amateur night marxism the film be selfconsciously arty in the bad sense of the term the photography be in a harsh grainy black and white some scene be out of focus or take from the wrong angle even the sound be bad and some people call this artbr br',\n",
       " 'whoever write the screenplay for this movie obviously never consult any book about lucille ball especially her autobiography I ve never see so many mistake in a biopic range from her early year in celoron and jamestown to her later year with desi I could write a whole list of factual error but it would go on for page in all I believe that lucille ball be one of those inimitable people who simply can not be portray by anyone other than themselves if I be lucie arnaz and desi jr I would be irate at how many mistake be make in this film the filmmaker try hard but the movie seem awfully sloppy to I',\n",
       " 'when I first see a glimpse of this movie I quickly notice the actress who be play the role of lucille ball rachel yorks portrayal of lucy be absolutely awful lucille ball be an astounding comedian with incredible talent to think about a legend like lucille ball be portray the way she be in the movie be horrendous I can not believe out of all the actress in the world who could play a much well lucy the producer decide to get rachel york she might be a good actress in other role but to play the role of lucille ball be tough it be pretty hard to find someone who could resemble lucille ball but they could at least find someone a bit similar in look and talent if you notice york portrayal of lucy in episode of I love lucy like the chocolate factory or vitavetavegamin nothing be similar in any wayher expression voice or movementbr br to top it all off danny pino play desi arnaz be horrible pino do not qualify to play as ricky he s small and skinny his accent be unreal and once again his acting be unbelievable although fred and ethel be not similar either they be not as bad as the character of lucy and rickybr br overall extremely horrible casting and the story be badly tell if people want to understand the real life situation of lucille ball I suggest watch ae biography of lucy and desi read the book from lucille ball herself or pbs american master find lucy if you want to see a docudrama before the laughter would be a well choice the casting of lucille ball and desi arnaz in before the laughter be much well compare to this at least a similar aspect be show rather than nothing',\n",
       " 'who be these they the actor the filmmaker certainly could not be the audience this be among the most airpuffe production in existence its the kind of movie that look like it be a lot of fun to shoot\\x97 too much fun nobody be get any actual work do and that almost always make for a movie that s no fun to watchbr br ritter don glass so as to hammer home his character status as a sort of doppleganger of the bespectacle bogdanovich the scene with the breezy ms stratten be sweet but have an embarrassing lookguysimdatingthepromqueen feel to they ben gazzara sport his usual catsgotcanary grin in a futile attempt to elevate the meager plot which require he to pursue audrey hepburn with all the interest of a narcoleptic at an insomnia clinic in the meantime the bud couple respective child nepotism alert bogdanovich daughter spew cute and pick up some fairly disturbing pointer on love while observe their parent ms hepburn draw on her dignity manage to rise above the proceeding but she have the monumental challenge of play herself ostensibly everybody look great but so what its a movie and we can expect that much if that s what you re look for you d be well off pick up a copy of voguebr br oh and it have to be mention that colleen camp thoroughly annoy even apart from her singing which while competent be wholly unconvincing the country and western number be woefully mismatch with the standard on the soundtrack surely this be not what gershwin who write the song from which the movie title be derive have in mind his stage musical of the 20 may have be slight but at least they be long on charm they all laugh try to coast on its good intention but nobody least of all peter bogdanovich   have the good sense to put on the brakesbr br due in no small part to the tragic death of dorothy stratten this movie have a special place in the heart of mr bogdanovich he even buy it back from its producer then distribute it on his own and go bankrupt when it do not prove popular his rise and fall be among the more sympathetic and tragic of hollywood story so there s no joy in criticize the film there be real emotional investment in ms stratten scene but laugh be a faint echo of the last picture show paper moon or what s up doc follow daisy miller and at long last love it be a thunder confirmation of the phase from which pb have never emergedbr br all in all though the movie be harmless only a waste of rental I want to watch people have a good time ill go to the park on a sunny day for filmic expression of joy and love ill stick to ernest lubitsch and jaque demy',\n",
       " 'this be say to be a personal film for peter bogdonavitch he base it on his life but change thing around to fit the character who be detective these detective date beautiful model and have no problem get they sound more like a millionaire playboy filmmaker than a detective do not it this entire movie be write by peter and it show how out of touch with real people he be you re suppose to write what you know and he do that indeed and leave the audience bored and confused and jealous for that matter this be a curio for people who want to see dorothy stratten who be murder right after film but patti hanson who would in real life marry keith richard be also a model like stratten but be a lot well and have a more ample part in fact stratten part seem force add she do not have a lot to do with the story which be pretty convoluted to begin with all in all every character in this film be somebody that very few people can relate with unless you re millionaire from manhattan with beautiful supermodel at your beckon call for the rest of we its an irritating snore fest that s what happen when you re out of touch you entertain your few friend with inside joke and bear all the rest']"
      ]
     },
     "execution_count": 47,
     "metadata": {},
     "output_type": "execute_result"
    }
   ],
   "source": [
    "print(dataset['train']['text'][:10])\n",
    "lemma_preprocessor(dataset['train']['text'][:10])"
   ]
  },
  {
   "attachments": {},
   "cell_type": "markdown",
   "metadata": {},
   "source": [
    "### Stemming"
   ]
  },
  {
   "cell_type": "code",
   "execution_count": 43,
   "metadata": {},
   "outputs": [
    {
     "name": "stdout",
     "output_type": "stream",
     "text": [
      "--Word--            --Stem--            \n",
      "program             program             \n",
      "programming         program             \n",
      "programer           program             \n",
      "programs            program             \n",
      "programmed          program             \n"
     ]
    },
    {
     "name": "stderr",
     "output_type": "stream",
     "text": [
      "[nltk_data] Downloading package punkt to\n",
      "[nltk_data]     /Users/quentinfisch/nltk_data...\n",
      "[nltk_data]   Package punkt is already up-to-date!\n"
     ]
    }
   ],
   "source": [
    "import nltk\n",
    "from nltk.stem import PorterStemmer\n",
    "nltk.download(\"punkt\")\n",
    "\n",
    "# Initialize Python porter stemmer\n",
    "ps = PorterStemmer()\n",
    "\n",
    "# Example inflections to reduce\n",
    "example_words = [\"program\",\"programming\",\"programer\",\"programs\",\"programmed\"]\n",
    "\n",
    "# Perform stemming\n",
    "print(\"{0:20}{1:20}\".format(\"--Word--\",\"--Stem--\"))\n",
    "for word in example_words:\n",
    "    print (\"{0:20}{1:20}\".format(word, ps.stem(word)))"
   ]
  },
  {
   "cell_type": "code",
   "execution_count": 53,
   "metadata": {},
   "outputs": [],
   "source": [
    "def stem_preprocessor(x_list: List[str]) -> List[str]:\n",
    "    \"\"\"\n",
    "    Preprocessing function to stem each string.\n",
    "    \n",
    "    Args:\n",
    "        x_list: List of strings\n",
    "    \n",
    "    Returns:\n",
    "        List of preprocessed strings.\n",
    "    \"\"\"\n",
    "    spacy_nlp = spacy.load('en_core_web_sm')\n",
    "    res = []\n",
    "    ps = PorterStemmer()\n",
    "    for sentence in x_list:\n",
    "        doc = spacy_nlp(sentence)\n",
    "        s = []\n",
    "        for word in doc:\n",
    "            s.append(ps.stem(str(word)))\n",
    "        s = ' '.join(s)\n",
    "        res.append(s)\n",
    "    return res"
   ]
  },
  {
   "cell_type": "code",
   "execution_count": 54,
   "metadata": {},
   "outputs": [
    {
     "data": {
      "text/plain": [
       "['program', 'program', 'program', 'program', 'program']"
      ]
     },
     "execution_count": 54,
     "metadata": {},
     "output_type": "execute_result"
    }
   ],
   "source": [
    "example_words = [\"program\",\"programming\",\"programer\",\"programs\",\"programmed\"]\n",
    "stem_preprocessor(example_words)"
   ]
  },
  {
   "attachments": {},
   "cell_type": "markdown",
   "metadata": {},
   "source": [
    "Both are working well. Now let's try to use lemmatization in our pipeline"
   ]
  },
  {
   "cell_type": "code",
   "execution_count": 68,
   "metadata": {},
   "outputs": [
    {
     "data": {
      "text/plain": [
       "['I rent I be curiousyellow from my video store because of all the controversy that surround it when it be first release in 1967   I also hear that at first it be seize by u s   custom if it ever try to enter this country   therefore be a fan of film consider   controversial   I really have to see this for myself the plot be center around a young swedish drama student name lena who want to learn everything she can about life   in particular she want to focus her attention to make some sort of documentary on what the average swede think about certain political issue such as the vietnam war and race issue in the united states   in between ask politician and ordinary denizen of stockholm about their opinion on politic   she have sex with her drama teacher   classmate   and married man what kill I about I be curiousyellow be that 40 year ago   this be consider pornographic   really   the sex and nudity scene be few and far between   even then its not shoot like some cheaply make porno   while my countryman mind find it shocking   in reality sex and nudity be a major staple in swedish cinema   even ingmar bergman   arguably their answer to good old boy john ford   have sex scene in his film I do commend the filmmaker for the fact that any sex show in the film be show for artistic purpose rather than just to shock people and make money to be show in pornographic theater in america   I be curiousyellow be a good film for anyone want to study the meat and potato   no pun intend   of swedish cinema   but really   this film do not have much of a plot',\n",
       " '  I be curious   yellow   be a risible and pretentious steaming pile   it do not matter what one political view be because this film can hardly be take seriously on any level   as for the claim that frontal male nudity be an automatic nc17   that be not true   I ve see rrate film with male nudity   grant   they only offer some fleeting view   but where be the rrate film with gape vulvas and flap labia   nowhere   because they do not exist   the same go for those crappy cable show   schlong swinge in the breeze but not a clitoris in sight   and those pretentious indie movie like the brown bunny   in which be treat to the site of vincent gallos throb johnson   but not a trace of pink visible on chloe sevigny   before cry   or imply    doublestandard   in matter of nudity   the mentally obtuse should take into account one unavoidably obvious anatomical difference between man and woman   there be no genital on display when actress appear nude   and the same can not be say for a man   in fact   you generally will not see female genital in an american film in anything short of porn or explicit erotica   this allege doublestandard be less a double standard than an admittedly depressing ability to come to term culturally with the inside of women body',\n",
       " 'if only to avoid make this type of film in the future   this film be interesting as an experiment but tell no cogent story one might feel virtuous for sit thru it because it touch on so many important issue but it do so without any discernable motive   the viewer come away with no new perspective   unless one come up with one while one mind wander   as it will invariably do during this pointless film   one might well spend one time stare out a window at a tree grow',\n",
       " 'this film be probably inspire by godard masculin   féminin and I urge you to see that film instead the film have two strong element and those be    1   the realistic act   2   the impressive   undeservedly good   photo   apart from that   what strike I most be the endless stream of silliness   lena nyman have to be most annoying actress in the world   she act so stupid and with all the nudity in this film     its unattractive   compare to godard film   intellectuality have be replace with stupidity   without go too far on this subject   I would say that follow from the difference in ideal between the french and the swedish society a movie of its time   and place   2 10',\n",
       " 'oh   brother    after hear about this ridiculous film for umpteen year all I can think of be that old peggy lee song    be that all there be        I be just an early teen when this smoke fish hit the u s   I be too young to get in the theater   although I do manage to sneak into   goodbye columbus     then a screening at a local film museum beckon   finally I could see this film   except now I be as old as my parent be when they schleppe to see it   the only reason this film be not condemn to the anonymous sand of time be because of the obscenity case spark by its u s   release   million of people flock to this stinker   thinking they be go to see a sex film    instead   they get lot of closeup of gnarly   repulsive swede   onstreet interview in bland shopping mall   asinie political pretension    and feeble whocare simulate sex scene with saggy   pale actor cultural icon   holy grail   historic artifact   whatever this thing be   shre it   burn it   then stuff the ashe in a lead box elite esthete still scrape to find value in its boring pseudo revolutionary political spewing   but if it be not for the censorship scandal   it would have be ignore   then forget instead   the   I be blank   blank   rhythyme title be repeat endlessly for year as a titilation for porno film   I be curious   lavender   for gay film   I be curious   black   for blaxploitation film   etc     and every ten year or so the thing rise from the dead   to be view by a new generation of sucker who want to see that   naughty sex film   that   revolutionize the film industry     yeesh   avoid like the plague   or if you must see it   rent the video and fast forward to the   dirty   part   just to get it over with',\n",
       " 'I would put this at the top of my list of film in the category of unwatchable trash   there be film that be bad   but the bad kind be the one that be unwatchable but you be suppose to like they because they be suppose to be good for you   the sex sequence   so shocking in its day   could not even arouse a rabbit   the so call controversial politic be strictly high school sophomore amateur night marxism   the film be selfconsciously arty in the bad sense of the term   the photography be in a harsh grainy black and white   some scene be out of focus or take from the wrong angle   even the sound be bad   and some people call this art',\n",
       " 'whoever write the screenplay for this movie obviously never consult any book about lucille ball   especially her autobiography   I ve never see so many mistake in a biopic   range from her early year in celoron and jamestown to her later year with desi   I could write a whole list of factual error   but it would go on for page   in all   I believe that lucille ball be one of those inimitable people who simply can not be portray by anyone other than themselves   if I be lucie arnaz and desi   jr    I would be irate at how many mistake be make in this film   the filmmaker try hard   but the movie seem awfully sloppy to I',\n",
       " 'when I first see a glimpse of this movie   I quickly notice the actress who be play the role of lucille ball   rachel yorks portrayal of lucy be absolutely awful   lucille ball be an astounding comedian with incredible talent   to think about a legend like lucille ball be portray the way she be in the movie be horrendous   I can not believe out of all the actress in the world who could play a much well lucy   the producer decide to get rachel york   she might be a good actress in other role but to play the role of lucille ball be tough   it be pretty hard to find someone who could resemble lucille ball   but they could at least find someone a bit similar in look and talent   if you notice york portrayal of lucy in episode of I love lucy like the chocolate factory or vitavetavegamin   nothing be similar in any wayher expression   voice   or movement to top it all off   danny pino play desi arnaz be horrible   pino do not qualify to play as ricky   he s small and skinny   his accent be unreal   and once again   his acting be unbelievable   although fred and ethel be not similar either   they be not as bad as the character of lucy and ricky overall   extremely horrible casting and the story be badly tell   if people want to understand the real life situation of lucille ball   I suggest watch a e biography of lucy and desi   read the book from lucille ball herself   or pbs american masters   find lucy   if you want to see a docudrama    before the laughter   would be a well choice   the casting of lucille ball and desi arnaz in   before the laughter   be much well compare to this   at least   a similar aspect be show rather than nothing',\n",
       " 'who be these   they   the actor   the filmmaker   certainly could not be the audience this be among the most airpuffe production in existence   its the kind of movie that look like it be a lot of fun to shoot\\x97 too much fun   nobody be get any actual work do   and that almost always make for a movie that s no fun to watch ritter don glass so as to hammer home his character status as a sort of doppleganger of the bespectacle bogdanovich   the scene with the breezy ms   stratten be sweet   but have an embarrassing   lookguysimdatingthepromqueen feel to they   ben gazzara sport his usual catsgotcanary grin in a futile attempt to elevate the meager plot   which require he to pursue audrey hepburn with all the interest of a narcoleptic at an insomnia clinic   in the meantime   the bud couple respective child   nepotism alert   bogdanovich daughter   spew cute and pick up some fairly disturbing pointer on love while observe their parent    ms   hepburn   draw on her dignity   manage to rise above the proceeding but she have the monumental challenge of play herself   ostensibly    everybody look great   but so what   its a movie and we can expect that much   if that s what you re look for you d be well off pick up a copy of vogue oh and it have to be mention that colleen camp thoroughly annoy   even apart from her singing   which   while competent   be wholly unconvincing     the country and western number be woefully mismatch with the standard on the soundtrack   surely this be not what gershwin   who write the song from which the movie title be derive   have in mind   his stage musical of the 20 may have be slight   but at least they be long on charm    they all laugh   try to coast on its good intention   but nobody least of all peter bogdanovich   have the good sense to put on the brake due in no small part to the tragic death of dorothy stratten   this movie have a special place in the heart of mr   bogdanovich he even buy it back from its producer   then distribute it on his own and go bankrupt when it do not prove popular   his rise and fall be among the more sympathetic and tragic of hollywood story   so there s no joy in criticize the film     there   be   real emotional investment in ms   stratten scene   but   laugh   be a faint echo of   the last picture show     paper moon   or   what s up   doc   follow   daisy miller   and   at long last love    it be a thunder confirmation of the phase from which p b   have never emerge all in all   though   the movie be harmless   only a waste of rental   I want to watch people have a good time   ill go to the park on a sunny day   for filmic expression of joy and love   ill stick to ernest lubitsch and jaques demy   ',\n",
       " 'this be say to be a personal film for peter bogdonavitch   he base it on his life but change thing around to fit the character   who be detective   these detective date beautiful model and have no problem get they   sound more like a millionaire playboy filmmaker than a detective   do not it   this entire movie be write by peter   and it show how out of touch with real people he be   you re suppose to write what you know   and he do that   indeed   and leave the audience bored and confuse   and jealous   for that matter   this be a curio for people who want to see dorothy stratten   who be murder right after film   but patti hanson   who would   in real life   marry keith richard   be also a model   like stratten   but be a lot well and have a more ample part   in fact   stratten part seem force   add   she do not have a lot to do with the story   which be pretty convoluted to begin with   all in all   every character in this film be somebody that very few people can relate with   unless you re millionaire from manhattan with beautiful supermodel at your beckon call   for the rest of we   its an irritating snore fest   that s what happen when you re out of touch   you entertain your few friend with inside joke   and bear all the rest']"
      ]
     },
     "execution_count": 68,
     "metadata": {},
     "output_type": "execute_result"
    }
   ],
   "source": [
    "# use stem_preprocessor to preprocess the training and test data\n",
    "preprocessed_train_stem = lemma_preprocessor(train_raw[\"document\"][:10])\n",
    "preprocessed_train_stem"
   ]
  },
  {
   "cell_type": "code",
   "execution_count": 63,
   "metadata": {},
   "outputs": [],
   "source": [
    "from sklearn.preprocessing import FunctionTransformer\n",
    "\n",
    "def sklearn_naive_bayes_lemma(d_train: pd.DataFrame, pipeline_params: dict = {}) -> Pipeline:\n",
    "    \"\"\"\n",
    "    Train a Naive Bayes classifier using sklearn with lemmatization.\n",
    "\n",
    "    Parameters\n",
    "    ----------\n",
    "    d_train : pd.DataFrame\n",
    "        The training dataset\n",
    "    pipeline_params : dict, optional\n",
    "        The parameters of the pipeline, by default {}\n",
    "\n",
    "    Returns\n",
    "    -------\n",
    "    Pipeline\n",
    "        The trained pipeline\n",
    "    \"\"\"\n",
    "    # create pipeline with lemmatization, vectorizer and classifier\n",
    "    pipeline = Pipeline([\n",
    "        ('lemmatizer', FunctionTransformer(lemma_preprocessor)),\n",
    "        ('vectorizer', CountVectorizer()),\n",
    "        ('classifier', MultinomialNB())\n",
    "    ])\n",
    "    pipeline.set_params(**pipeline_params)\n",
    "\n",
    "    # train the model\n",
    "    pipeline.fit(d_train[\"document\"], d_train[\"class\"])\n",
    "    return pipeline"
   ]
  },
  {
   "cell_type": "code",
   "execution_count": 69,
   "metadata": {},
   "outputs": [
    {
     "name": "stdout",
     "output_type": "stream",
     "text": [
      "Sklearn Naive Bayes Accuracy Score ->  76.2\n",
      "Sklearn Naive Bayes Precision Score ->  83.58974358974359\n",
      "Sklearn Naive Bayes Recall Score ->  65.2\n"
     ]
    }
   ],
   "source": [
    "pipeline_lemma = sklearn_naive_bayes_lemma(train_raw[::50])\n",
    "predictions_lemma = test_sklearn_naive_bayes(pipeline_lemma, test_raw[::50])"
   ]
  }
 ],
 "metadata": {
  "kernelspec": {
   "display_name": ".venv",
   "language": "python",
   "name": "python3"
  },
  "language_info": {
   "codemirror_mode": {
    "name": "ipython",
    "version": 3
   },
   "file_extension": ".py",
   "mimetype": "text/x-python",
   "name": "python",
   "nbconvert_exporter": "python",
   "pygments_lexer": "ipython3",
   "version": "3.9.6"
  },
  "orig_nbformat": 4
 },
 "nbformat": 4,
 "nbformat_minor": 2
}
