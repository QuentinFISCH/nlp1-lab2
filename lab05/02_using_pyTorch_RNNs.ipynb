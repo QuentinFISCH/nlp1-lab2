{
 "cells": [
  {
   "cell_type": "markdown",
   "id": "3b39112c",
   "metadata": {},
   "source": [
    "# Using pyTorch implementation\n",
    "\n",
    "In this second part, we use pyTorch's implementation of RNNs and LSTMs. Again, as we are focusing on understanding the model and library, we will keep using the IMDB dataset. The good news is training is much faster using pyTorch's implementations."
   ]
  },
  {
   "cell_type": "code",
   "execution_count": 1,
   "id": "5c9f1e0c",
   "metadata": {
    "execution": {
     "iopub.execute_input": "2023-05-09T14:30:24.856250Z",
     "iopub.status.busy": "2023-05-09T14:30:24.855636Z",
     "iopub.status.idle": "2023-05-09T14:30:30.482576Z",
     "shell.execute_reply": "2023-05-09T14:30:30.481729Z",
     "shell.execute_reply.started": "2023-05-09T14:30:24.856221Z"
    }
   },
   "outputs": [],
   "source": [
    "from functools import partial\n",
    "from typing import Callable, Dict, Generator, List, Tuple\n",
    "\n",
    "from datasets import load_dataset\n",
    "import numpy as np\n",
    "from sklearn.utils import shuffle\n",
    "import torch\n",
    "from torch import nn\n",
    "from torchtext.vocab import vocab, Vocab\n",
    "from torchtext.data.utils import get_tokenizer\n",
    "\n",
    "from tqdm.auto import tqdm"
   ]
  },
  {
   "cell_type": "markdown",
   "id": "e1e51259",
   "metadata": {},
   "source": [
    "## From dataset to batch inputs\n",
    "\n",
    "You already know what to do here, it's the same as in the previous notebook."
   ]
  },
  {
   "cell_type": "code",
   "execution_count": null,
   "id": "a6ddbf1e",
   "metadata": {
    "execution": {
     "iopub.execute_input": "2023-05-09T14:32:40.112890Z",
     "iopub.status.busy": "2023-05-09T14:32:40.112548Z",
     "iopub.status.idle": "2023-05-09T14:32:40.553456Z",
     "shell.execute_reply": "2023-05-09T14:32:40.552423Z",
     "shell.execute_reply.started": "2023-05-09T14:32:40.112864Z"
    }
   },
   "outputs": [],
   "source": [
    "dataset = load_dataset(\"imdb\")\n",
    "train_dataset = dataset[\"train\"].train_test_split(test_size=0.2, seed=42)\n",
    "test_df = dataset[\"test\"]\n",
    "train_df = train_dataset[\"train\"]\n",
    "valid_df = train_dataset[\"test\"]"
   ]
  },
  {
   "cell_type": "code",
   "execution_count": 3,
   "id": "3281a460",
   "metadata": {
    "execution": {
     "iopub.execute_input": "2023-05-09T14:32:46.873643Z",
     "iopub.status.busy": "2023-05-09T14:32:46.873290Z",
     "iopub.status.idle": "2023-05-09T14:32:46.878666Z",
     "shell.execute_reply": "2023-05-09T14:32:46.877749Z",
     "shell.execute_reply.started": "2023-05-09T14:32:46.873613Z"
    }
   },
   "outputs": [],
   "source": [
    "def vectorize_text(\n",
    "    text: str, vocabulary: Vocab, tokenizer: Callable[[str], List[str]]\n",
    ") -> torch.Tensor:\n",
    "    \"\"\"\n",
    "    Generate a tensor of vocabluary IDs for a given text.\n",
    "    Args:\n",
    "        text: the input text.\n",
    "        vocabulary: a Vocab objects.\n",
    "        tokenizer: a text tokenizer.\n",
    "    Returns:\n",
    "        A tensor of IDs (torch.long).\n",
    "    \"\"\"\n",
    "    return torch.tensor(\n",
    "        [vocabulary[token] for token in tokenizer(text)], dtype=torch.long\n",
    "    )"
   ]
  },
  {
   "cell_type": "code",
   "execution_count": null,
   "id": "00fb4d29",
   "metadata": {
    "execution": {
     "iopub.execute_input": "2023-05-09T14:32:48.023496Z",
     "iopub.status.busy": "2023-05-09T14:32:48.023121Z",
     "iopub.status.idle": "2023-05-09T14:32:52.788909Z",
     "shell.execute_reply": "2023-05-09T14:32:52.787876Z",
     "shell.execute_reply.started": "2023-05-09T14:32:48.023465Z"
    }
   },
   "outputs": [],
   "source": [
    "from collections import Counter\n",
    "\n",
    "tokenizer = get_tokenizer(\"basic_english\")\n",
    "vocabulary = vocab(\n",
    "    Counter(token for text in tqdm(train_df[\"text\"]) for token in tokenizer(text)),\n",
    "    min_freq=10,\n",
    "    specials=[\"<unk>\", \"<pad>\"],\n",
    ")\n",
    "vocabulary.set_default_index(vocabulary[\"<unk>\"])\n",
    "\n",
    "text_pipeline = partial(vectorize_text, vocabulary=vocabulary, tokenizer=tokenizer)"
   ]
  },
  {
   "cell_type": "code",
   "execution_count": null,
   "id": "ab2de93f",
   "metadata": {
    "execution": {
     "iopub.execute_input": "2023-05-09T14:32:52.796345Z",
     "iopub.status.busy": "2023-05-09T14:32:52.793813Z",
     "iopub.status.idle": "2023-05-09T14:33:12.761312Z",
     "shell.execute_reply": "2023-05-09T14:33:12.760504Z",
     "shell.execute_reply.started": "2023-05-09T14:32:52.796310Z"
    }
   },
   "outputs": [],
   "source": [
    "X_train = [text_pipeline(text) for text in tqdm(train_df[\"text\"])]\n",
    "y_train = train_df[\"label\"]\n",
    "X_valid = [text_pipeline(text) for text in tqdm(valid_df[\"text\"])]\n",
    "y_valid = valid_df[\"label\"]\n",
    "X_test = [text_pipeline(text) for text in tqdm(test_df[\"text\"])]\n",
    "y_test = test_df[\"label\"]"
   ]
  },
  {
   "cell_type": "code",
   "execution_count": 6,
   "id": "02eef296",
   "metadata": {
    "execution": {
     "iopub.execute_input": "2023-05-09T14:33:22.555568Z",
     "iopub.status.busy": "2023-05-09T14:33:22.555209Z",
     "iopub.status.idle": "2023-05-09T14:33:22.562678Z",
     "shell.execute_reply": "2023-05-09T14:33:22.561722Z",
     "shell.execute_reply.started": "2023-05-09T14:33:22.555537Z"
    }
   },
   "outputs": [],
   "source": [
    "def data_generator(\n",
    "    X: List[torch.tensor], y: List[int], pad_id: int, batch_size: int = 32\n",
    ") -> Generator[Tuple[torch.Tensor, torch.Tensor], None, None]:\n",
    "    \"\"\"\n",
    "    Yield batches from given input data and labels.\n",
    "    Args:\n",
    "        X: a list of tensor (input features).\n",
    "        y: the corresponding labels.\n",
    "        batch_size: the size of every batch [32].\n",
    "    Returns:\n",
    "        A tuple of tensors (features, labels).\n",
    "    \"\"\"\n",
    "    X, y = shuffle(X, y)\n",
    "    for i in range(0, len(X), batch_size):\n",
    "        batch_X = X[i : i + batch_size]\n",
    "        batch_y = y[i : i + batch_size]\n",
    "        max_len = max([len(x) for x in batch_X])\n",
    "        batch_X = torch.stack(\n",
    "            [\n",
    "                torch.cat([torch.ones(max_len - len(x), dtype=torch.long) * pad_id, x])\n",
    "                for x in batch_X\n",
    "            ]\n",
    "        )\n",
    "        yield batch_X, torch.tensor(batch_y, dtype=torch.long)"
   ]
  },
  {
   "cell_type": "code",
   "execution_count": 7,
   "id": "5ab6dbd2",
   "metadata": {
    "execution": {
     "iopub.execute_input": "2023-05-09T14:33:23.489959Z",
     "iopub.status.busy": "2023-05-09T14:33:23.489293Z",
     "iopub.status.idle": "2023-05-09T14:33:23.495616Z",
     "shell.execute_reply": "2023-05-09T14:33:23.494679Z",
     "shell.execute_reply.started": "2023-05-09T14:33:23.489922Z"
    }
   },
   "outputs": [],
   "source": [
    "pad_token = \"<pad>\"\n",
    "train_gen = lambda: data_generator(X_train, y_train, vocabulary[pad_token])\n",
    "valid_gen = lambda: data_generator(X_valid, y_valid, vocabulary[pad_token])\n",
    "test_gen = lambda: data_generator(X_test, y_test, vocabulary[pad_token])"
   ]
  },
  {
   "cell_type": "code",
   "execution_count": 8,
   "id": "d55c2faa",
   "metadata": {
    "execution": {
     "iopub.execute_input": "2023-05-09T14:33:24.652268Z",
     "iopub.status.busy": "2023-05-09T14:33:24.651934Z",
     "iopub.status.idle": "2023-05-09T14:33:24.680790Z",
     "shell.execute_reply": "2023-05-09T14:33:24.679857Z",
     "shell.execute_reply.started": "2023-05-09T14:33:24.652238Z"
    }
   },
   "outputs": [
    {
     "data": {
      "text/plain": [
       "'cpu'"
      ]
     },
     "execution_count": 8,
     "metadata": {},
     "output_type": "execute_result"
    }
   ],
   "source": [
    "device = \"cuda:0\" if torch.cuda.is_available() else \"cpu\"\n",
    "device"
   ]
  },
  {
   "cell_type": "markdown",
   "id": "e07e3fa8",
   "metadata": {},
   "source": [
    "## The classifier\n",
    "\n",
    "The implementation behind shows how to use the [RNN](https://pytorch.org/docs/stable/generated/torch.nn.RNN.html) implementation provided by pyTorch to code a simple RNN."
   ]
  },
  {
   "cell_type": "code",
   "execution_count": 9,
   "id": "3298bfc7",
   "metadata": {
    "execution": {
     "iopub.execute_input": "2023-05-09T14:33:30.537699Z",
     "iopub.status.busy": "2023-05-09T14:33:30.536834Z",
     "iopub.status.idle": "2023-05-09T14:33:30.546576Z",
     "shell.execute_reply": "2023-05-09T14:33:30.545536Z",
     "shell.execute_reply.started": "2023-05-09T14:33:30.537657Z"
    }
   },
   "outputs": [],
   "source": [
    "class RNN(nn.Module):\n",
    "    \"\"\"A simple RNN module with word embeddings.\"\"\"\n",
    "\n",
    "    def __init__(\n",
    "        self,\n",
    "        vocab_size: int,\n",
    "        embed_size: int,\n",
    "        hidden_size: int,\n",
    "        n_layers: int,\n",
    "        n_outputs: int,\n",
    "    ) -> None:\n",
    "        \"\"\"\n",
    "        Args:\n",
    "            vocab_size: vocabulary size.\n",
    "            embed_size: embedding dimensions.\n",
    "            hidden_size: hidden layer size.\n",
    "            n_layers: the number of layers.\n",
    "            n_outputs: the number of output classes.\n",
    "        \"\"\"\n",
    "        super().__init__()\n",
    "        self.vocab_size = vocab_size\n",
    "        self.embed_size = embed_size\n",
    "        self.hidden_size = hidden_size\n",
    "        self.n_layers = n_layers\n",
    "        self.n_outputs = n_outputs\n",
    "\n",
    "        # The word embedding layer.\n",
    "        self.embed = nn.Embedding(self.vocab_size, self.embed_size)\n",
    "        # The RNN\n",
    "        self.rnn = nn.RNN(\n",
    "            input_size=self.embed_size,\n",
    "            hidden_size=self.hidden_size,\n",
    "            num_layers=self.n_layers,\n",
    "            batch_first=True,  # Changes the order of dimension to put the batches first.\n",
    "        )\n",
    "        # A fully connected layer to project the RNN's output to only one output used for classification.\n",
    "        self.fc = nn.Linear(self.hidden_size, self.n_outputs)\n",
    "\n",
    "    def forward(self, X: torch.Tensor) -> torch.Tensor:\n",
    "        \"\"\"Function called when the model is called with data as input.\n",
    "        Args:\n",
    "            X: the input tensor of dimensions batch_size, sequence length, vocab size (actually just an int).\n",
    "        Returns:\n",
    "            The resulting tensor of dimension batch_size, sequence length, output dimensions.\n",
    "        \"\"\"\n",
    "        h0 = torch.zeros(self.n_layers, X.size(0), self.hidden_size).to(device)\n",
    "\n",
    "        out = self.embed(X)\n",
    "        # out contains the output layer of all words in the sequence.\n",
    "        # First dim is batch, second the word in the sequence, third is the vector itself.\n",
    "        # The second output value is the last vector of all intermediate layer.\n",
    "        # Only use it if you want to access the intermediate layer values of a\n",
    "        # multilayer model.\n",
    "        out, _ = self.rnn(out, h0)\n",
    "        # Getting the last value only.\n",
    "        out = out[:, -1, :]\n",
    "\n",
    "        # Linear projection.\n",
    "        out = self.fc(out)\n",
    "\n",
    "        return out"
   ]
  },
  {
   "cell_type": "markdown",
   "id": "ba6a16dc",
   "metadata": {},
   "source": [
    "## Training (1 point)"
   ]
  },
  {
   "cell_type": "markdown",
   "id": "4a45a1e5",
   "metadata": {},
   "source": [
    "**\\[1 point\\]** Code the training function.\n",
    "* Note that we are using a function, as we will use it on several models here.\n",
    "* The RNN implementation of pyTorch doesn't need to be manually looped. As commented in the `forward` function above, `out` contains the ouptut layer for all words in the sequence, and taking its last value is what we needed."
   ]
  },
  {
   "cell_type": "code",
   "execution_count": 10,
   "id": "2a100ff4",
   "metadata": {
    "execution": {
     "iopub.execute_input": "2023-05-09T14:33:43.201150Z",
     "iopub.status.busy": "2023-05-09T14:33:43.200808Z",
     "iopub.status.idle": "2023-05-09T14:33:43.210144Z",
     "shell.execute_reply": "2023-05-09T14:33:43.209289Z",
     "shell.execute_reply.started": "2023-05-09T14:33:43.201121Z"
    }
   },
   "outputs": [],
   "source": [
    "import copy\n",
    "\n",
    "\n",
    "def train(\n",
    "    model: nn.Module,\n",
    "    criterion: Callable,\n",
    "    optimizer: torch.optim.Optimizer,\n",
    "    n_epochs: int,\n",
    "    train_gen: Callable,\n",
    "    valid_gen: Callable,\n",
    ") -> Tuple[nn.Module, List[float], List[float]]:\n",
    "    \"\"\"Train a model using a batch gradient descent.\n",
    "    Args:\n",
    "        model: a class inheriting from nn.Module.\n",
    "        criterion: a loss criterion.\n",
    "        optimizer: an optimizer (e.g. Adam, RMSprop, ...).\n",
    "        n_epochs: the number of training epochs.\n",
    "        train_gen: a callable function returing a batch (data, labels).\n",
    "        valid_gen: a callable function returing a batch (data, labels).\n",
    "    Returns:\n",
    "        A tuple:[best_model (by validation loss), training losses, validation losses].\n",
    "    \"\"\"\n",
    "    best_model = copy.deepcopy(model)\n",
    "    best_loss = float(\"inf\")\n",
    "    train_losses = []\n",
    "    valid_losses = []\n",
    "    for _ in tqdm(range(n_epochs)):\n",
    "        model.train()\n",
    "        train_loss = 0.0\n",
    "        for X, y in train_gen():\n",
    "            X, y = X.to(device), y.to(device).float()\n",
    "            optimizer.zero_grad()\n",
    "            y_pred = model(X)\n",
    "            loss = criterion(y_pred.squeeze(), y)\n",
    "            loss.backward()\n",
    "            optimizer.step()\n",
    "            train_loss += loss.item() * X.size(0)\n",
    "        train_loss /= len(X_train)\n",
    "        train_losses.append(train_loss)\n",
    "\n",
    "        model.eval()\n",
    "        valid_loss = 0.0\n",
    "        with torch.no_grad():\n",
    "            for X, y in valid_gen():\n",
    "                X, y = X.to(device), y.to(device).float()\n",
    "                y_pred = model(X)\n",
    "                loss = criterion(y_pred.squeeze(), y)\n",
    "                valid_loss += loss.item() * X.size(0)\n",
    "            valid_loss /= len(X_valid)\n",
    "            valid_losses.append(valid_loss)\n",
    "            if valid_loss < best_loss:\n",
    "                best_loss = valid_loss\n",
    "                best_model = copy.deepcopy(model)\n",
    "    return best_model, train_losses, valid_losses"
   ]
  },
  {
   "cell_type": "code",
   "execution_count": 11,
   "id": "09248069",
   "metadata": {
    "execution": {
     "iopub.execute_input": "2023-05-09T14:33:44.767604Z",
     "iopub.status.busy": "2023-05-09T14:33:44.767233Z",
     "iopub.status.idle": "2023-05-09T14:33:48.967577Z",
     "shell.execute_reply": "2023-05-09T14:33:48.966605Z",
     "shell.execute_reply.started": "2023-05-09T14:33:44.767569Z"
    }
   },
   "outputs": [],
   "source": [
    "model = RNN(len(vocabulary), 32, 64, 1, 1).to(device)\n",
    "criterion = nn.BCEWithLogitsLoss()\n",
    "optimizer = torch.optim.Adam(model.parameters())"
   ]
  },
  {
   "cell_type": "code",
   "execution_count": null,
   "id": "39d77232",
   "metadata": {
    "execution": {
     "iopub.execute_input": "2023-05-09T14:33:48.970356Z",
     "iopub.status.busy": "2023-05-09T14:33:48.969775Z",
     "iopub.status.idle": "2023-05-09T14:40:56.392129Z",
     "shell.execute_reply": "2023-05-09T14:40:56.391201Z",
     "shell.execute_reply.started": "2023-05-09T14:33:48.970321Z"
    }
   },
   "outputs": [],
   "source": [
    "best_model, train_losses, valid_losses = train(model, criterion, optimizer, 20, train_gen, valid_gen)"
   ]
  },
  {
   "cell_type": "code",
   "execution_count": 13,
   "id": "265cef62",
   "metadata": {
    "execution": {
     "iopub.execute_input": "2023-05-09T14:41:01.213450Z",
     "iopub.status.busy": "2023-05-09T14:41:01.213110Z",
     "iopub.status.idle": "2023-05-09T14:41:01.483556Z",
     "shell.execute_reply": "2023-05-09T14:41:01.482476Z",
     "shell.execute_reply.started": "2023-05-09T14:41:01.213421Z"
    }
   },
   "outputs": [
    {
     "data": {
      "text/plain": [
       "<matplotlib.legend.Legend at 0x2bbe687f0>"
      ]
     },
     "execution_count": 13,
     "metadata": {},
     "output_type": "execute_result"
    },
    {
     "data": {
      "image/png": "[encoded data removed]",
      "text/plain": [
       "<Figure size 640x480 with 1 Axes>"
      ]
     },
     "metadata": {},
     "output_type": "display_data"
    }
   ],
   "source": [
    "from matplotlib import pyplot as plt\n",
    "\n",
    "\n",
    "plt.plot(train_losses, label=\"Training loss\")\n",
    "plt.plot(valid_losses, label=\"Validation loss\")\n",
    "plt.legend()"
   ]
  },
  {
   "cell_type": "markdown",
   "id": "ab556e9f",
   "metadata": {},
   "source": [
    "## Do the following (5 points)\n",
    "* **\\[1 point\\]** Add an accuracy function and report the accuracy of the training, validation, and test set.\n",
    "* **\\[2 points\\]** Create an LSTM class which uses an LSTM instead of an RNN. Compare its results with the RNN.\n",
    "  * Look at the [LSTM documentation of pyTorch](https://pytorch.org/docs/stable/generated/torch.nn.LSTM.html).\n",
    "* **\\[1 point\\]** Implement a function which takes any text and returns the model's prediction.\n",
    "    * The function should have a string as input and return a class (0 or 1) and its confidence (between 0 and 1).\n",
    "* **\\[Bonus\\]** Create a bidirectional LSTM (BiLSTM) class to classify your sentences. Report the accuracy on the training and test data.\n",
    "    * **Beware of the behaviour of the output layer.** For a bidirectional LSTM, the output layer concatenates the forward and backward vector of each token. But we need to use the forward output of the last token, and the backward output of the first token, as input to our output layer.\n",
    "* **\\[1 point\\]** With your best classifier, look at two wrongly classified examples on the test set. Try explaining why the model was wrong.\n",
    "* **\\[Bonus\\]** Try finding better hyperparameters (dimensions, number of layers, ...). Document your experiments and results."
   ]
  },
  {
   "cell_type": "code",
   "execution_count": 14,
   "id": "f716b5aa",
   "metadata": {
    "execution": {
     "iopub.execute_input": "2023-05-09T14:41:53.185121Z",
     "iopub.status.busy": "2023-05-09T14:41:53.184718Z",
     "iopub.status.idle": "2023-05-09T14:41:53.192632Z",
     "shell.execute_reply": "2023-05-09T14:41:53.191606Z",
     "shell.execute_reply.started": "2023-05-09T14:41:53.185087Z"
    }
   },
   "outputs": [],
   "source": [
    "# Add an accuracy function and report the accuracy of the training, validation, and test set.\n",
    "def accuracy(model: nn.Module, data_gen: Callable) -> float:\n",
    "    \"\"\"Compute the accuracy of a model.\n",
    "    Args:\n",
    "        model: a class inheriting from nn.Module.\n",
    "        data_gen: a callable function returing a batch (data, labels).\n",
    "    Returns:\n",
    "        The accuracy of the model.\n",
    "    \"\"\"\n",
    "    model.eval()\n",
    "    with torch.no_grad():\n",
    "        correct = 0\n",
    "        total = 0\n",
    "        for X, y in data_gen():\n",
    "            X, y = X.to(device), y.to(device).float()\n",
    "            y_pred = model(X)\n",
    "            y_pred = torch.sigmoid(y_pred)\n",
    "            y_pred = torch.round(y_pred)\n",
    "            correct += (y_pred.squeeze() == y).sum().item()\n",
    "            total += y.size(0)\n",
    "    return correct / total"
   ]
  },
  {
   "cell_type": "code",
   "execution_count": 15,
   "id": "9de706af",
   "metadata": {
    "execution": {
     "iopub.execute_input": "2023-05-09T14:41:54.035737Z",
     "iopub.status.busy": "2023-05-09T14:41:54.035391Z",
     "iopub.status.idle": "2023-05-09T14:42:13.799146Z",
     "shell.execute_reply": "2023-05-09T14:42:13.798211Z",
     "shell.execute_reply.started": "2023-05-09T14:41:54.035707Z"
    }
   },
   "outputs": [
    {
     "name": "stdout",
     "output_type": "stream",
     "text": [
      "Training accuracy: 0.81\n",
      "Validation accuracy: 0.73\n",
      "Test accuracy: 0.74\n"
     ]
    }
   ],
   "source": [
    "print(f\"Training accuracy: {accuracy(best_model, train_gen):.2f}\")\n",
    "print(f\"Validation accuracy: {accuracy(best_model, valid_gen):.2f}\")\n",
    "print(f\"Test accuracy: {accuracy(best_model, test_gen):.2f}\")"
   ]
  },
  {
   "cell_type": "markdown",
   "id": "1119c638",
   "metadata": {},
   "source": [
    "Results for PyTorch RNN:\n",
    "* Accuracy on training set: 0.88\n",
    "* Accuracy on validation set: 0.77\n",
    "* Accuracy on test set: 0.77\n",
    "\n",
    "\n",
    "#### Create an LSTM class which uses an LSTM instead of an RNN. Compare its results with the RNN."
   ]
  },
  {
   "cell_type": "code",
   "execution_count": 16,
   "id": "a86256d9",
   "metadata": {
    "execution": {
     "iopub.execute_input": "2023-05-09T14:47:11.498430Z",
     "iopub.status.busy": "2023-05-09T14:47:11.497454Z",
     "iopub.status.idle": "2023-05-09T14:47:11.507448Z",
     "shell.execute_reply": "2023-05-09T14:47:11.506351Z",
     "shell.execute_reply.started": "2023-05-09T14:47:11.498386Z"
    }
   },
   "outputs": [],
   "source": [
    "class LSTM(nn.Module):\n",
    "    def __init__(\n",
    "        self,\n",
    "        vocab_size: int,\n",
    "        embed_size: int,\n",
    "        hidden_size: int,\n",
    "        n_layers: int,\n",
    "        n_outputs: int,\n",
    "    ):\n",
    "        \"\"\"Initialize a LSTM.\n",
    "        Args:\n",
    "            vocab_size: the size of the vocabulary.\n",
    "            embed_size: embedding dimensions.\n",
    "            hidden_size: hidden layer size.\n",
    "            n_layers: the number of layers.\n",
    "            n_outputs: the number of output classes.\n",
    "        \"\"\"\n",
    "        super().__init__()\n",
    "        self.vocab_size = vocab_size\n",
    "        self.embed_size = embed_size\n",
    "        self.hidden_size = hidden_size\n",
    "        self.n_layers = n_layers\n",
    "        self.n_outputs = n_outputs\n",
    "\n",
    "        # The word embedding layer.\n",
    "        self.embed = nn.Embedding(self.vocab_size, self.embed_size)\n",
    "        # The LSTM\n",
    "        self.lstm = nn.LSTM(\n",
    "            input_size=self.embed_size,\n",
    "            hidden_size=self.hidden_size,\n",
    "            num_layers=self.n_layers,\n",
    "            batch_first=True,  # Changes the order of dimension to put the batches first.\n",
    "        )\n",
    "        # A fully connected layer to project the RNN's output to only one output used for classification.\n",
    "        self.fc = nn.Linear(self.hidden_size, self.n_outputs)\n",
    "\n",
    "    def forward(self, X: torch.Tensor) -> torch.Tensor:\n",
    "        \"\"\"Forward pass of the LSTM.\n",
    "        Args:\n",
    "            X: the input data.\n",
    "        Returns:\n",
    "            The output of the LSTM.\n",
    "        \"\"\"\n",
    "        # Embedding the input.\n",
    "        out = self.embed(X)\n",
    "        # LSTM\n",
    "        out, _ = self.lstm(out)\n",
    "        # Getting the last value only.\n",
    "        out = out[:, -1, :]\n",
    "\n",
    "        # Linear projection.\n",
    "        out = self.fc(out)\n",
    "\n",
    "        return out"
   ]
  },
  {
   "cell_type": "code",
   "execution_count": 17,
   "id": "5d3dc107",
   "metadata": {
    "execution": {
     "iopub.execute_input": "2023-05-09T14:47:13.683225Z",
     "iopub.status.busy": "2023-05-09T14:47:13.682597Z",
     "iopub.status.idle": "2023-05-09T14:57:41.733781Z",
     "shell.execute_reply": "2023-05-09T14:57:41.732918Z",
     "shell.execute_reply.started": "2023-05-09T14:47:13.683193Z"
    }
   },
   "outputs": [
    {
     "data": {
      "application/vnd.jupyter.widget-view+json": {
       "model_id": "72870d6ebbf64b17b49290044a51e369",
       "version_major": 2,
       "version_minor": 0
      },
      "text/plain": [
       "  0%|          | 0/20 [00:00<?, ?it/s]"
      ]
     },
     "metadata": {},
     "output_type": "display_data"
    },
    {
     "data": {
      "text/plain": [
       "<matplotlib.legend.Legend at 0x2bc4773d0>"
      ]
     },
     "execution_count": 17,
     "metadata": {},
     "output_type": "execute_result"
    },
    {
     "data": {
      "image/png": "[encoded data removed]",
      "text/plain": [
       "<Figure size 640x480 with 1 Axes>"
      ]
     },
     "metadata": {},
     "output_type": "display_data"
    }
   ],
   "source": [
    "model = LSTM(len(vocabulary), 32, 64, 1, 1).to(device)\n",
    "criterion = nn.BCEWithLogitsLoss()\n",
    "optimizer = torch.optim.Adam(model.parameters())\n",
    "\n",
    "best_model_lstm, train_losses, valid_losses = train(model, criterion, optimizer, 20, train_gen, valid_gen)\n",
    "\n",
    "plt.plot(train_losses, label=\"Training loss\")\n",
    "plt.plot(valid_losses, label=\"Validation loss\")\n",
    "plt.legend()"
   ]
  },
  {
   "cell_type": "code",
   "execution_count": 18,
   "id": "8ed76692",
   "metadata": {
    "execution": {
     "iopub.execute_input": "2023-05-09T15:00:58.738197Z",
     "iopub.status.busy": "2023-05-09T15:00:58.737352Z",
     "iopub.status.idle": "2023-05-09T15:01:21.658443Z",
     "shell.execute_reply": "2023-05-09T15:01:21.657581Z",
     "shell.execute_reply.started": "2023-05-09T15:00:58.738163Z"
    }
   },
   "outputs": [
    {
     "name": "stdout",
     "output_type": "stream",
     "text": [
      "Training accuracy: 0.94\n",
      "Validation accuracy: 0.88\n",
      "Test accuracy: 0.87\n"
     ]
    }
   ],
   "source": [
    "print(f\"Training accuracy: {accuracy(best_model_lstm, train_gen):.2f}\")\n",
    "print(f\"Validation accuracy: {accuracy(best_model_lstm, valid_gen):.2f}\")\n",
    "print(f\"Test accuracy: {accuracy(best_model_lstm, test_gen):.2f}\")"
   ]
  },
  {
   "cell_type": "markdown",
   "id": "b8a75b86",
   "metadata": {},
   "source": [
    "Results for PyTorch LSTM:\n",
    "* Accuracy on training set: 0.94\n",
    "* Accuracy on validation set: 0.88\n",
    "* Accuracy on test set: 0.87\n",
    "\n",
    "Results are way better with LSTM than with RNN. LSTM is better at remembering long term dependencies due to its memory cell. RNNs are better at remembering short term dependencies.\n",
    "\n",
    "#### Implement a function which takes any text and returns the model's prediction."
   ]
  },
  {
   "cell_type": "code",
   "execution_count": 23,
   "id": "0d604552",
   "metadata": {
    "execution": {
     "iopub.execute_input": "2023-05-09T15:01:34.646867Z",
     "iopub.status.busy": "2023-05-09T15:01:34.646508Z",
     "iopub.status.idle": "2023-05-09T15:01:34.654648Z",
     "shell.execute_reply": "2023-05-09T15:01:34.653414Z",
     "shell.execute_reply.started": "2023-05-09T15:01:34.646835Z"
    }
   },
   "outputs": [],
   "source": [
    "def text_to_int(text: str, vocabulary: Dict[str, int]) -> List[int]:\n",
    "    \"\"\"Convert a text to a list of integers.\n",
    "    Args:\n",
    "        text: the text to convert.\n",
    "        vocabulary: the vocabulary to use.\n",
    "    Returns:\n",
    "        The list of integers.\n",
    "    \"\"\"\n",
    "    return [vocabulary[c] for c in text]\n",
    "\n",
    "\n",
    "def predict(model: nn.Module, text: str) -> Tuple[int, float]:\n",
    "    model.eval()\n",
    "    with torch.no_grad():\n",
    "        # Convert the text to a tensor.\n",
    "        X = torch.tensor([text_to_int(text, vocabulary)]).to(device)\n",
    "        # Forward pass.\n",
    "        y_pred = model(X)\n",
    "        y_pred = torch.sigmoid(y_pred)\n",
    "        confidence = y_pred.squeeze().item()\n",
    "        y_pred = torch.round(y_pred)\n",
    "        # Get the class and the probability.\n",
    "        y_pred = y_pred.item()\n",
    "        return y_pred, confidence"
   ]
  },
  {
   "cell_type": "code",
   "execution_count": 24,
   "id": "4b8066a2",
   "metadata": {
    "execution": {
     "iopub.execute_input": "2023-05-09T15:25:23.043105Z",
     "iopub.status.busy": "2023-05-09T15:25:23.042412Z",
     "iopub.status.idle": "2023-05-09T15:25:23.054172Z",
     "shell.execute_reply": "2023-05-09T15:25:23.053137Z",
     "shell.execute_reply.started": "2023-05-09T15:25:23.043071Z"
    }
   },
   "outputs": [
    {
     "name": "stdout",
     "output_type": "stream",
     "text": [
      "tensor([[-1.5489]])\n",
      "(0.0, 0.17524296045303345)\n",
      "tensor([[-0.5910]])\n",
      "(0.0, 0.3564160466194153)\n",
      "tensor([[0.2444]])\n",
      "(1.0, 0.560808002948761)\n",
      "tensor([[0.8074]])\n",
      "(1.0, 0.6915622353553772)\n",
      "tensor([[-0.8316]])\n",
      "(0.0, 0.3033004105091095)\n"
     ]
    }
   ],
   "source": [
    "# Test the function on a few examples.\n",
    "print(predict(best_model_lstm, \"I love this movie!\"))\n",
    "print(predict(best_model_lstm, \"I hate this movie!\"))\n",
    "print(predict(best_model_lstm, \"This movie is great!\"))\n",
    "print(predict(best_model_lstm, \"This movie is bad!\"))\n",
    "print(predict(best_model_lstm, \"What to think about this movie?\"))"
   ]
  },
  {
   "cell_type": "markdown",
   "id": "3ab00892",
   "metadata": {},
   "source": [
    "#### Create a bidirectional LSTM (BiLSTM) class to classify your sentences. Report the accuracy on the training and test data."
   ]
  },
  {
   "cell_type": "code",
   "execution_count": 25,
   "id": "a0bb2f10",
   "metadata": {
    "execution": {
     "iopub.execute_input": "2023-05-09T15:10:22.538459Z",
     "iopub.status.busy": "2023-05-09T15:10:22.537660Z",
     "iopub.status.idle": "2023-05-09T15:10:22.546920Z",
     "shell.execute_reply": "2023-05-09T15:10:22.545889Z",
     "shell.execute_reply.started": "2023-05-09T15:10:22.538424Z"
    }
   },
   "outputs": [],
   "source": [
    "class BiLSTM(nn.Module):\n",
    "    def __init__(\n",
    "        self,\n",
    "        vocab_size: int,\n",
    "        embed_size: int,\n",
    "        hidden_size: int,\n",
    "        n_layers: int,\n",
    "        n_outputs: int,\n",
    "    ):\n",
    "        \"\"\"Initialize a BiLSTM.\n",
    "        Args:\n",
    "            vocab_size: the size of the vocabulary.\n",
    "            embed_size: embedding dimensions.\n",
    "            hidden_size: hidden layer size.\n",
    "            n_layers: the number of layers.\n",
    "            n_outputs: the number of output classes.\n",
    "        \"\"\"\n",
    "        super().__init__()\n",
    "        self.vocab_size = vocab_size\n",
    "        self.embed_size = embed_size\n",
    "        self.hidden_size = hidden_size\n",
    "        self.n_layers = n_layers\n",
    "        self.n_outputs = n_outputs\n",
    "\n",
    "        # The word embedding layer.\n",
    "        self.embed = nn.Embedding(self.vocab_size, self.embed_size)\n",
    "        # The BiLSTM\n",
    "        self.lstm = nn.LSTM(\n",
    "            input_size=self.embed_size,\n",
    "            hidden_size=self.hidden_size,\n",
    "            num_layers=self.n_layers,\n",
    "            batch_first=True,  # Changes the order of dimension to put the batches first.\n",
    "            bidirectional=True,\n",
    "        )\n",
    "        # A fully connected layer to project the RNN's output to only one output used for classification.\n",
    "        self.fc = nn.Linear(self.hidden_size * 2, self.n_outputs)\n",
    "\n",
    "    def forward(self, X: torch.Tensor) -> torch.Tensor:\n",
    "        \"\"\"Forward pass of the BiLSTM.\n",
    "        Args:\n",
    "            X: the input data.\n",
    "        Returns:\n",
    "            The output of the BiLSTM.\n",
    "        \"\"\"\n",
    "        # we need to use the forward output of the last token, and the backward output of the first token, as input to our output layer.\n",
    "        # Embedding the input.\n",
    "        out = self.embed(X)\n",
    "        # BiLSTM\n",
    "        out, _ = self.lstm(out)\n",
    "        # Getting the last value only.\n",
    "        out = torch.cat(\n",
    "            (out[:, -1, : self.hidden_size], out[:, 0, self.hidden_size :]), dim=1\n",
    "        )\n",
    "        # Linear projection.\n",
    "        out = self.fc(out)\n",
    "\n",
    "        return out"
   ]
  },
  {
   "cell_type": "code",
   "execution_count": 26,
   "id": "ab519d31",
   "metadata": {
    "execution": {
     "iopub.execute_input": "2023-05-09T15:10:25.946645Z",
     "iopub.status.busy": "2023-05-09T15:10:25.946171Z",
     "iopub.status.idle": "2023-05-09T15:24:45.410643Z",
     "shell.execute_reply": "2023-05-09T15:24:45.409571Z",
     "shell.execute_reply.started": "2023-05-09T15:10:25.946615Z"
    }
   },
   "outputs": [
    {
     "data": {
      "application/vnd.jupyter.widget-view+json": {
       "model_id": "499b3d4cfcf94025bde02b417bc9baae",
       "version_major": 2,
       "version_minor": 0
      },
      "text/plain": [
       "  0%|          | 0/20 [00:00<?, ?it/s]"
      ]
     },
     "metadata": {},
     "output_type": "display_data"
    },
    {
     "data": {
      "text/plain": [
       "<matplotlib.legend.Legend at 0x2abd751f0>"
      ]
     },
     "execution_count": 26,
     "metadata": {},
     "output_type": "execute_result"
    },
    {
     "data": {
      "image/png": "[encoded data removed]",
      "text/plain": [
       "<Figure size 640x480 with 1 Axes>"
      ]
     },
     "metadata": {},
     "output_type": "display_data"
    }
   ],
   "source": [
    "model = BiLSTM(len(vocabulary), 32, 64, 1, 1).to(device)\n",
    "criterion = nn.BCEWithLogitsLoss()\n",
    "optimizer = torch.optim.Adam(model.parameters())\n",
    "\n",
    "best_model_bilstm, train_losses, valid_losses = train(model, criterion, optimizer, 20, train_gen, valid_gen)\n",
    "\n",
    "plt.plot(train_losses, label=\"Training loss\")\n",
    "plt.plot(valid_losses, label=\"Validation loss\")\n",
    "plt.legend()"
   ]
  },
  {
   "cell_type": "code",
   "execution_count": 27,
   "id": "6da1f3e4",
   "metadata": {
    "execution": {
     "iopub.execute_input": "2023-05-09T15:24:45.413045Z",
     "iopub.status.busy": "2023-05-09T15:24:45.412674Z",
     "iopub.status.idle": "2023-05-09T15:25:23.040816Z",
     "shell.execute_reply": "2023-05-09T15:25:23.039878Z",
     "shell.execute_reply.started": "2023-05-09T15:24:45.413007Z"
    }
   },
   "outputs": [
    {
     "name": "stdout",
     "output_type": "stream",
     "text": [
      "Training accuracy: 0.96\n",
      "Validation accuracy: 0.88\n",
      "Test accuracy: 0.88\n"
     ]
    }
   ],
   "source": [
    "print(f\"Training accuracy: {accuracy(best_model_bilstm, train_gen):.2f}\")\n",
    "print(f\"Validation accuracy: {accuracy(best_model_bilstm, valid_gen):.2f}\")\n",
    "print(f\"Test accuracy: {accuracy(best_model_bilstm, test_gen):.2f}\")"
   ]
  },
  {
   "cell_type": "markdown",
   "id": "3e50492d",
   "metadata": {},
   "source": [
    "Results for PyTorch BiLSTM:\n",
    "* Accuracy on training set: 0.96\n",
    "* Accuracy on validation set: 0.88\n",
    "* Accuracy on test set: 0.88\n",
    "\n",
    "BiLSTM is slightly better than LSTM. This is predictable as BiLSTM is a combination of two LSTMs, one going forward and one going backward. This allows the model to remember both short and long term dependencies.\n",
    "\n",
    "#### Look at two wrongly classified examples on the test set. Try explaining why the model was wrong."
   ]
  },
  {
   "cell_type": "code",
   "execution_count": 28,
   "id": "188f6d77",
   "metadata": {
    "execution": {
     "iopub.execute_input": "2023-05-09T15:38:21.588629Z",
     "iopub.status.busy": "2023-05-09T15:38:21.588274Z",
     "iopub.status.idle": "2023-05-09T15:38:41.947105Z",
     "shell.execute_reply": "2023-05-09T15:38:41.946208Z",
     "shell.execute_reply.started": "2023-05-09T15:38:21.588601Z"
    }
   },
   "outputs": [
    {
     "name": "stdout",
     "output_type": "stream",
     "text": [
      "Text: the <unk> color cinematography of leon <unk> is quite remarkable here , including his use of colored filters for various scenes . the alfred <unk> score has to be the most sensual and seductive score hollywood ever produced . it ' s a shame it is no longer available on cd . the actors , however , never rise to the occasion . the accents are so varied , from the subdued british of ustinov and <unk> to the hollywood of baxter and mature that it seems a true hodgepodge with no central vision . tommy <unk> is <unk> american . acting styles span the range from <unk> to stilted . only ustinov as a conniving <unk> servant steals the show - what there is of it to steal . the premise - the story of a young egyptian doctor , seduced and abandoned by the rich - and the parallel theme of the cult of the single god , ra - persecuted by the authorities , has its interesting points . but when the film ' s plot fades , it is the haunting music and visuals that remain .\n",
      "True class: 0\n",
      "Predicted class: 1.0\n",
      "\n",
      "Text: perhaps it ' s just the format of this film , a documentary , but i believe that the movie would have been much better served by good actors and more solid dialogue . the fact that the actors are also the business owners is a <unk> sword . they know better than anyone else the emotions and complexities of the business they were in , but , since they are not professional actors , they do a very poor job of conveying those emotions and the documentary suffers . there were some truly memorable scenes in this movie and lots of good lines but they were delivered so poorly that they will fade away with time and the only memory i will have of this documentary is that it had some good scenes which i can ' t remember . watch this if you want a <unk> account of the . com bust and see what happened to the 99% of people in the industry who didn ' t become instant <unk> . however , be prepared for some nauseating camera work , poor acting , poor dialogue , and an overall bad movie that <unk> the era of the internet boom .\n",
      "True class: 0\n",
      "Predicted class: 1.0\n",
      "\n"
     ]
    }
   ],
   "source": [
    "def get_wrong_predictions(\n",
    "    model: nn.Module, generator: Callable\n",
    ") -> List[Tuple[str, int, float]]:\n",
    "    \"\"\"Get the wrong predictions of a model.\n",
    "    Args:\n",
    "        model: the model to use.\n",
    "        generator: the generator to use.\n",
    "    Returns:\n",
    "        The wrong predictions.\n",
    "    \"\"\"\n",
    "    wrong_predictions = []\n",
    "    for X, y in generator():\n",
    "        X = X.to(device)\n",
    "        y = y.to(device)\n",
    "        y_pred = model(X)\n",
    "        y_pred = torch.sigmoid(y_pred)\n",
    "        y_pred = torch.round(y_pred)\n",
    "        for i in range(len(y)):\n",
    "            if y_pred[i] != y[i]:\n",
    "                wrong_predictions.append(\n",
    "                    (\n",
    "                        \" \".join(\n",
    "                            filter(\n",
    "                                lambda t: t != pad_token,\n",
    "                                vocabulary.lookup_tokens(X[i].tolist()),\n",
    "                            )\n",
    "                        ),\n",
    "                        int(y[i]),\n",
    "                        y_pred[i].item(),\n",
    "                    )\n",
    "                )\n",
    "    return wrong_predictions\n",
    "\n",
    "\n",
    "wrong_predictions = get_wrong_predictions(best_model_bilstm, test_gen)\n",
    "\n",
    "for text, y, y_pred in wrong_predictions[:2]:\n",
    "    print(f\"Text: {text}\")\n",
    "    print(f\"True class: {y}\")\n",
    "    print(f\"Predicted class: {y_pred}\")\n",
    "    print()"
   ]
  },
  {
   "cell_type": "markdown",
   "id": "1b569ad7",
   "metadata": {},
   "source": [
    "Here are the two wrongly classified examples (preprocessed):\n",
    "- \"*the <unk> color cinematography of leon <unk> is quite remarkable here , including his use of colored filters for various scenes . the alfred <unk> score has to be the most sensual and seductive score hollywood ever produced . it ' s a shame it is no longer available on cd . the actors , however , never rise to the occasion . the accents are so varied , from the subdued british of ustinov and <unk> to the hollywood of baxter and mature that it seems a true hodgepodge with no central vision . tommy <unk> is <unk> american . acting styles span the range from <unk> to stilted . only ustinov as a conniving <unk> servant steals the show - what there is of it to steal . the premise - the story of a young egyptian doctor , seduced and abandoned by the rich - and the parallel theme of the cult of the single god , ra - persecuted by the authorities , has its interesting points . but when the film ' s plot fades , it is the haunting music and visuals that remain .*\"\n",
    "- \"*perhaps it ' s just the format of this film , a documentary , but i believe that the movie would have been much better served by good actors and more solid dialogue . the fact that the actors are also the business owners is a <unk> sword . they know better than anyone else the emotions and complexities of the business they were in , but , since they are not professional actors , they do a very poor job of conveying those emotions and the documentary suffers . there were some truly memorable scenes in this movie and lots of good lines but they were delivered so poorly that they will fade away with time and the only memory i will have of this documentary is that it had some good scenes which i can ' t remember . watch this if you want a <unk> account of the . com bust and see what happened to the 99% of people in the industry who didn ' t become instant <unk> . however , be prepared for some nauseating camera work , poor acting , poor dialogue , and an overall bad movie that <unk> the era of the internet boom .*\"\n",
    "\n",
    "Both are classified as negative while they are positive.\n",
    "The first example could be confusing because it's not really biased towards positive or negative. It's more of a neutral review. The fact that we are using a BiLSTM and that must of the \"negative\" words are in the middle of the review could explain why the model is wrong.\n",
    "The second example is strange because it's clearly not a positive review. Maybe this sample has been mislabeled, because it doesn't look like the model is wrong here."
   ]
  },
  {
   "cell_type": "code",
   "execution_count": 29,
   "id": "fe8d1587",
   "metadata": {
    "execution": {
     "iopub.execute_input": "2023-05-09T15:38:53.960477Z",
     "iopub.status.busy": "2023-05-09T15:38:53.960140Z",
     "iopub.status.idle": "2023-05-09T15:38:53.987294Z",
     "shell.execute_reply": "2023-05-09T15:38:53.986356Z",
     "shell.execute_reply.started": "2023-05-09T15:38:53.960449Z"
    }
   },
   "outputs": [],
   "source": [
    "torch.save(best_model, \"best_model_torch.pt\")\n",
    "torch.save(best_model_lstm, \"best_model_lstm.pt\")\n",
    "torch.save(best_model_bilstm, \"best_model_bilstm.pt\")"
   ]
  }
 ],
 "metadata": {
  "kernelspec": {
   "display_name": "Python 3 (ipykernel)",
   "language": "python",
   "name": "python3"
  },
  "language_info": {
   "codemirror_mode": {
    "name": "ipython",
    "version": 3
   },
   "file_extension": ".py",
   "mimetype": "text/x-python",
   "name": "python",
   "nbconvert_exporter": "python",
   "pygments_lexer": "ipython3",
   "version": "3.10.10"
  }
 },
 "nbformat": 4,
 "nbformat_minor": 5
}
