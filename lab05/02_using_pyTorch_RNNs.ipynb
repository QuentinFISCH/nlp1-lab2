{
    "cells": [
        {
            "cell_type": "markdown",
            "id": "97cf9568-cd60-4dc6-aaa8-096ee6e0156e",
            "metadata": {},
            "source": [
                "# Using pyTorch implementation\n",
                "\n",
                "In this second part, we use pyTorch's implementation of RNNs and LSTMs. Again, as we are focusing on understanding the model and library, we will keep using the IMDB dataset. The good news is training is much faster using pyTorch's implementations."
            ]
        },
        {
            "cell_type": "code",
            "execution_count": 1,
            "id": "ad70c42b",
            "metadata": {},
            "outputs": [],
            "source": [
                "from functools import partial\n",
                "from typing import Callable, Dict, Generator, List, Tuple\n",
                "\n",
                "from datasets import load_dataset\n",
                "import numpy as np\n",
                "from sklearn.utils import shuffle\n",
                "import torch\n",
                "from torch import nn\n",
                "from torchtext.vocab import vocab, Vocab\n",
                "from torchtext.data.utils import get_tokenizer\n",
                "\n",
                "from tqdm.auto import tqdm"
            ]
        },
        {
            "cell_type": "markdown",
            "id": "9bcc80f0-e4e1-4ba3-bbda-582167fb43dc",
            "metadata": {},
            "source": [
                "## From dataset to batch inputs\n",
                "\n",
                "You already know what to do here, it's the same as in the previous notebook."
            ]
        },
        {
            "cell_type": "code",
            "execution_count": 2,
            "id": "0f130b79",
            "metadata": {},
            "outputs": [
                {
                    "name": "stderr",
                    "output_type": "stream",
                    "text": [
                        "Found cached dataset imdb (/Users/quentinfisch/.cache/huggingface/datasets/imdb/plain_text/1.0.0/d613c88cf8fa3bab83b4ded3713f1f74830d1100e171db75bbddb80b3345c9c0)\n"
                    ]
                },
                {
                    "data": {
                        "application/vnd.jupyter.widget-view+json": {
                            "model_id": "c87841dde2fd48c7b501242e8738b0b6",
                            "version_major": 2,
                            "version_minor": 0
                        },
                        "text/plain": [
                            "  0%|          | 0/3 [00:00<?, ?it/s]"
                        ]
                    },
                    "metadata": {},
                    "output_type": "display_data"
                },
                {
                    "name": "stderr",
                    "output_type": "stream",
                    "text": [
                        "Loading cached split indices for dataset at /Users/quentinfisch/.cache/huggingface/datasets/imdb/plain_text/1.0.0/d613c88cf8fa3bab83b4ded3713f1f74830d1100e171db75bbddb80b3345c9c0/cache-5f37fd0866e4f89f.arrow and /Users/quentinfisch/.cache/huggingface/datasets/imdb/plain_text/1.0.0/d613c88cf8fa3bab83b4ded3713f1f74830d1100e171db75bbddb80b3345c9c0/cache-dd5732a0e6ac784c.arrow\n"
                    ]
                },
                {
                    "data": {
                        "text/plain": [
                            "((20000, 2), (5000, 2), (25000, 2))"
                        ]
                    },
                    "execution_count": 2,
                    "metadata": {},
                    "output_type": "execute_result"
                }
            ],
            "source": [
                "dataset = load_dataset(\"imdb\")\n",
                "train_dataset = dataset[\"train\"].train_test_split(\n",
                "    stratify_by_column=\"label\", test_size=0.2, seed=42\n",
                ")\n",
                "test_df = dataset[\"test\"]\n",
                "train_df = train_dataset[\"train\"]\n",
                "valid_df = train_dataset[\"test\"]\n",
                "train_df.shape, valid_df.shape, test_df.shape"
            ]
        },
        {
            "cell_type": "code",
            "execution_count": 3,
            "id": "ebbc9078",
            "metadata": {},
            "outputs": [],
            "source": [
                "def vectorize_text(\n",
                "    text: str, vocabulary: Vocab, tokenizer: Callable[[str], List[str]]\n",
                ") -> torch.Tensor:\n",
                "    \"\"\"\n",
                "    Generate a tensor of vocabluary IDs for a given text.\n",
                "    Args:\n",
                "        text: the input text.\n",
                "        vocabulary: a Vocab objects.\n",
                "        tokenizer: a text tokenizer.\n",
                "    Returns:\n",
                "        A tensor of IDs (torch.long).\n",
                "    \"\"\"\n",
                "    return torch.tensor(\n",
                "        [vocabulary[token] for token in tokenizer(text)], dtype=torch.long\n",
                "    )"
            ]
        },
        {
            "cell_type": "code",
            "execution_count": 4,
            "id": "dabe21ee",
            "metadata": {},
            "outputs": [
                {
                    "data": {
                        "application/vnd.jupyter.widget-view+json": {
                            "model_id": "15c6018de4094b6e80b0b477c9310849",
                            "version_major": 2,
                            "version_minor": 0
                        },
                        "text/plain": [
                            "  0%|          | 0/20000 [00:00<?, ?it/s]"
                        ]
                    },
                    "metadata": {},
                    "output_type": "display_data"
                }
            ],
            "source": [
                "from collections import Counter\n",
                "\n",
                "tokenizer = get_tokenizer(\"basic_english\")\n",
                "vocabulary = vocab(\n",
                "    Counter(token for text in tqdm(train_df[\"text\"]) for token in tokenizer(text)),\n",
                "    min_freq=10,\n",
                "    specials=[\"<unk>\"]\n",
                ")\n",
                "vocabulary.set_default_index(vocabulary[\"<unk>\"])\n",
                "\n",
                "text_pipeline = partial(vectorize_text, vocabulary=vocabulary, tokenizer=tokenizer)"
            ]
        },
        {
            "cell_type": "code",
            "execution_count": 5,
            "id": "f4c519a2",
            "metadata": {},
            "outputs": [
                {
                    "data": {
                        "application/vnd.jupyter.widget-view+json": {
                            "model_id": "90b774ad988c4280ac0858c5c7b5cd4a",
                            "version_major": 2,
                            "version_minor": 0
                        },
                        "text/plain": [
                            "  0%|          | 0/20000 [00:00<?, ?it/s]"
                        ]
                    },
                    "metadata": {},
                    "output_type": "display_data"
                },
                {
                    "data": {
                        "application/vnd.jupyter.widget-view+json": {
                            "model_id": "5bae2927e83c43d1bbf21fd90a42c717",
                            "version_major": 2,
                            "version_minor": 0
                        },
                        "text/plain": [
                            "  0%|          | 0/5000 [00:00<?, ?it/s]"
                        ]
                    },
                    "metadata": {},
                    "output_type": "display_data"
                },
                {
                    "data": {
                        "application/vnd.jupyter.widget-view+json": {
                            "model_id": "5e5dc465c3c34fa785720ce67e010aa9",
                            "version_major": 2,
                            "version_minor": 0
                        },
                        "text/plain": [
                            "  0%|          | 0/25000 [00:00<?, ?it/s]"
                        ]
                    },
                    "metadata": {},
                    "output_type": "display_data"
                }
            ],
            "source": [
                "X_train = [text_pipeline(text) for text in tqdm(train_df[\"text\"])]\n",
                "y_train = train_df[\"label\"]\n",
                "X_valid = [text_pipeline(text) for text in tqdm(valid_df[\"text\"])]\n",
                "y_valid = valid_df[\"label\"]\n",
                "X_test = [text_pipeline(text) for text in tqdm(test_df[\"text\"])]\n",
                "y_test = test_df[\"label\"]"
            ]
        },
        {
            "cell_type": "code",
            "execution_count": 6,
            "id": "050bc1b4",
            "metadata": {},
            "outputs": [],
            "source": [
                "def data_generator(\n",
                "    X: List[torch.tensor], y: List[int], pad_id: int, batch_size: int = 32\n",
                ") -> Generator[Tuple[torch.Tensor, torch.Tensor], None, None]:\n",
                "    \"\"\"\n",
                "    Yield batches from given input data and labels.\n",
                "    Args:\n",
                "        X: a list of tensor (input features).\n",
                "        y: the corresponding labels.\n",
                "        batch_size: the size of every batch [32].\n",
                "    Returns:\n",
                "        A tuple of tensors (features, labels).\n",
                "    \"\"\"\n",
                "    X, y = shuffle(X, y)\n",
                "    for i in range(0, len(X), batch_size):\n",
                "        batch_X = X[i : i + batch_size]\n",
                "        batch_y = y[i : i + batch_size]\n",
                "        max_len = max([len(x) for x in batch_X])\n",
                "        batch_X = torch.stack(\n",
                "            [torch.cat([x, torch.ones(max_len - len(x), dtype=torch.long) * pad_id]) for x in batch_X]\n",
                "        )\n",
                "        yield batch_X, torch.tensor(batch_y, dtype=torch.long)"
            ]
        },
        {
            "cell_type": "code",
            "execution_count": 7,
            "id": "450a0188",
            "metadata": {},
            "outputs": [],
            "source": [
                "pad_token = \"<pad>\"\n",
                "train_gen = lambda: data_generator(X_train, y_train, vocabulary[pad_token])\n",
                "valid_gen = lambda: data_generator(X_valid, y_valid, vocabulary[pad_token])\n",
                "test_gen = lambda: data_generator(X_test, y_test, vocabulary[pad_token])"
            ]
        },
        {
            "cell_type": "code",
            "execution_count": 8,
            "id": "73cb5b09",
            "metadata": {},
            "outputs": [
                {
                    "data": {
                        "text/plain": [
                            "'cpu'"
                        ]
                    },
                    "execution_count": 8,
                    "metadata": {},
                    "output_type": "execute_result"
                }
            ],
            "source": [
                "device = \"cuda:0\" if torch.cuda.is_available() else \"cpu\"\n",
                "device"
            ]
        },
        {
            "cell_type": "markdown",
            "id": "55cecf52-8386-4dc1-9600-0f03554fe082",
            "metadata": {},
            "source": [
                "## The classifier\n",
                "\n",
                "The implementation behind shows how to use the [RNN](https://pytorch.org/docs/stable/generated/torch.nn.RNN.html) implementation provided by pyTorch to code a simple RNN."
            ]
        },
        {
            "cell_type": "code",
            "execution_count": 9,
            "id": "f4e78187-f53f-42b9-92c1-b94d23f9d28b",
            "metadata": {},
            "outputs": [],
            "source": [
                "class RNN(nn.Module):\n",
                "    \"\"\"A simple RNN module with word embeddings.\n",
                "    \"\"\"\n",
                "    def __init__(self, vocab_size: int, embed_size: int, hidden_size: int, n_layers: int, n_outputs: int) -> None:\n",
                "        \"\"\"\n",
                "        Args:\n",
                "            vocab_size: vocabulary size.\n",
                "            embed_size: embedding dimensions.\n",
                "            hidden_size: hidden layer size.\n",
                "            n_layers: the number of layers.\n",
                "            n_outputs: the number of output classes.\n",
                "        \"\"\"\n",
                "        super().__init__()\n",
                "        self.vocab_size = vocab_size\n",
                "        self.embed_size = embed_size\n",
                "        self.hidden_size = hidden_size\n",
                "        self.n_layers = n_layers\n",
                "        self.n_outputs = n_outputs\n",
                "\n",
                "\n",
                "        # The word embedding layer.\n",
                "        self.embed = nn.Embedding(self.vocab_size, self.embed_size)\n",
                "        # The RNN\n",
                "        self.rnn = nn.RNN(\n",
                "            input_size = self.embed_size,\n",
                "            hidden_size = self.hidden_size,\n",
                "            num_layers = self.n_layers,\n",
                "            batch_first = True, # Changes the order of dimension to put the batches first.\n",
                "        )\n",
                "        # A fully connected layer to project the RNN's output to only one output used for classification.\n",
                "        self.fc = nn.Linear(self.hidden_size, self.n_outputs)\n",
                "\n",
                "    def forward(self, X: torch.Tensor) -> torch.Tensor:\n",
                "        \"\"\"Function called when the model is called with data as input.\n",
                "        Args:\n",
                "            X: the input tensor of dimensions batch_size, sequence length, vocab size (actually just an int).\n",
                "        Returns:\n",
                "            The resulting tensor of dimension batch_size, sequence length, output dimensions.\n",
                "        \"\"\"\n",
                "        h0 = torch.zeros(self.n_layers, X.size(0), self.hidden_size).to(device)\n",
                "\n",
                "        out = self.embed(X)\n",
                "        # out contains the output layer of all words in the sequence.\n",
                "        # First dim is batch, second the word in the sequence, third is the vector itself.\n",
                "        # The second output value is the last vector of all intermediate layer.\n",
                "        # Only use it if you want to access the intermediate layer values of a\n",
                "        # multilayer model.\n",
                "        out, _ = self.rnn(out, h0)\n",
                "        # Getting the last value only.\n",
                "        out = out[:, -1, :]\n",
                "    \n",
                "        # Linear projection.\n",
                "        out = self.fc(out)\n",
                "\n",
                "        return out"
            ]
        },
        {
            "cell_type": "markdown",
            "id": "5c590a0c-69f0-48b5-9336-f7f33df481af",
            "metadata": {},
            "source": [
                "## Training (1 point)"
            ]
        },
        {
            "cell_type": "markdown",
            "id": "aa17a3c8-640d-41bd-be8d-8976e935a274",
            "metadata": {},
            "source": [
                "**\\[1 point\\]** Code the training function.\n",
                "* Note that we are using a function, as we will use it on several models here.\n",
                "* The RNN implementation of pyTorch doesn't need to be manually looped. As commented in the `forward` function above, `out` contains the ouptut layer for all words in the sequence, and taking its last value is what we needed."
            ]
        },
        {
            "cell_type": "code",
            "execution_count": 60,
            "id": "528c1bf6-386d-4db4-9c85-001bd3379568",
            "metadata": {},
            "outputs": [],
            "source": [
                "import copy\n",
                "\n",
                "\n",
                "def train(\n",
                "    model: nn.Module,\n",
                "    criterion: Callable,\n",
                "    optimizer: torch.optim.Optimizer,\n",
                "    n_epochs: int,\n",
                "    train_gen: Callable,\n",
                "    valid_gen: Callable,\n",
                ") -> Tuple[nn.Module, List[float], List[float]]:\n",
                "    \"\"\"Train a model using a batch gradient descent.\n",
                "    Args:\n",
                "        model: a class inheriting from nn.Module.\n",
                "        criterion: a loss criterion.\n",
                "        optimizer: an optimizer (e.g. Adam, RMSprop, ...).\n",
                "        n_epochs: the number of training epochs.\n",
                "        train_gen: a callable function returing a batch (data, labels).\n",
                "        valid_gen: a callable function returing a batch (data, labels).\n",
                "    Returns:\n",
                "        A tuple:[best_model (by validation loss), training losses, validation losses].\n",
                "    \"\"\"\n",
                "    best_model = copy.deepcopy(model)\n",
                "    best_loss = float(\"inf\")\n",
                "    train_losses = []\n",
                "    valid_losses = []\n",
                "    for epoch in tqdm(range(n_epochs)):\n",
                "        model.train()\n",
                "        train_loss = 0.0\n",
                "        for X, y in train_gen():\n",
                "            X = X.to(device)\n",
                "            y = y.to(device).float()\n",
                "            optimizer.zero_grad()\n",
                "            y_hat = model(X)\n",
                "            y_hat = y_hat.squeeze()\n",
                "            loss = criterion(y_hat, y)\n",
                "            loss.backward()\n",
                "            optimizer.step()\n",
                "            train_loss += loss.item() * X.size(0)\n",
                "        train_loss /= len(train_gen.X)\n",
                "        train_losses.append(train_loss)\n",
                "        model.eval()\n",
                "        valid_loss = 0.0\n",
                "        for X, y in valid_gen():\n",
                "            X = X.to(device)\n",
                "            y = y.to(device).float()\n",
                "            y_hat = model(X)\n",
                "            y_hat = y_hat.squeeze()\n",
                "            loss = criterion(y_hat, y)\n",
                "            valid_loss += loss.item() * X.size(0)\n",
                "        valid_loss /= len(valid_gen.X)\n",
                "        valid_losses.append(valid_loss)\n",
                "        if valid_loss < best_loss:\n",
                "            best_loss = valid_loss\n",
                "            best_model = copy.deepcopy(model)\n",
                "    return best_model, train_losses, valid_losses"
            ]
        },
        {
            "cell_type": "code",
            "execution_count": 61,
            "id": "dab8bdab-8072-45e5-a1d8-90041fa49936",
            "metadata": {},
            "outputs": [],
            "source": [
                "model = RNN(len(vocabulary), 32, 64, 1, 1).to(device)\n",
                "criterion = nn.BCEWithLogitsLoss()\n",
                "optimizer = torch.optim.Adam(model.parameters())"
            ]
        },
        {
            "cell_type": "code",
            "execution_count": 62,
            "id": "32881f1e-f71f-463e-8f86-b0b6a16bd919",
            "metadata": {},
            "outputs": [
                {
                    "data": {
                        "application/vnd.jupyter.widget-view+json": {
                            "model_id": "f66495f2b970491589991bc8405e0666",
                            "version_major": 2,
                            "version_minor": 0
                        },
                        "text/plain": [
                            "  0%|          | 0/20 [00:00<?, ?it/s]"
                        ]
                    },
                    "metadata": {},
                    "output_type": "display_data"
                },
                {
                    "ename": "KeyboardInterrupt",
                    "evalue": "",
                    "output_type": "error",
                    "traceback": [
                        "\u001b[0;31m---------------------------------------------------------------------------\u001b[0m",
                        "\u001b[0;31mKeyboardInterrupt\u001b[0m                         Traceback (most recent call last)",
                        "Cell \u001b[0;32mIn[62], line 1\u001b[0m\n\u001b[0;32m----> 1\u001b[0m best_model, train_losses, valid_losses \u001b[39m=\u001b[39m train(model, criterion, optimizer, \u001b[39m20\u001b[39;49m, train_gen, valid_gen)\n",
                        "Cell \u001b[0;32mIn[60], line 37\u001b[0m, in \u001b[0;36mtrain\u001b[0;34m(model, criterion, optimizer, n_epochs, train_gen, valid_gen)\u001b[0m\n\u001b[1;32m     35\u001b[0m y_hat \u001b[39m=\u001b[39m y_hat\u001b[39m.\u001b[39msqueeze()\n\u001b[1;32m     36\u001b[0m loss \u001b[39m=\u001b[39m criterion(y_hat, y)\n\u001b[0;32m---> 37\u001b[0m loss\u001b[39m.\u001b[39;49mbackward()\n\u001b[1;32m     38\u001b[0m optimizer\u001b[39m.\u001b[39mstep()\n\u001b[1;32m     39\u001b[0m train_loss \u001b[39m+\u001b[39m\u001b[39m=\u001b[39m loss\u001b[39m.\u001b[39mitem() \u001b[39m*\u001b[39m X\u001b[39m.\u001b[39msize(\u001b[39m0\u001b[39m)\n",
                        "File \u001b[0;32m~/Documents/EPITA/ING2/SCIA/S8/NLP1/.venv/lib/python3.9/site-packages/torch/_tensor.py:487\u001b[0m, in \u001b[0;36mTensor.backward\u001b[0;34m(self, gradient, retain_graph, create_graph, inputs)\u001b[0m\n\u001b[1;32m    477\u001b[0m \u001b[39mif\u001b[39;00m has_torch_function_unary(\u001b[39mself\u001b[39m):\n\u001b[1;32m    478\u001b[0m     \u001b[39mreturn\u001b[39;00m handle_torch_function(\n\u001b[1;32m    479\u001b[0m         Tensor\u001b[39m.\u001b[39mbackward,\n\u001b[1;32m    480\u001b[0m         (\u001b[39mself\u001b[39m,),\n\u001b[0;32m   (...)\u001b[0m\n\u001b[1;32m    485\u001b[0m         inputs\u001b[39m=\u001b[39minputs,\n\u001b[1;32m    486\u001b[0m     )\n\u001b[0;32m--> 487\u001b[0m torch\u001b[39m.\u001b[39;49mautograd\u001b[39m.\u001b[39;49mbackward(\n\u001b[1;32m    488\u001b[0m     \u001b[39mself\u001b[39;49m, gradient, retain_graph, create_graph, inputs\u001b[39m=\u001b[39;49minputs\n\u001b[1;32m    489\u001b[0m )\n",
                        "File \u001b[0;32m~/Documents/EPITA/ING2/SCIA/S8/NLP1/.venv/lib/python3.9/site-packages/torch/autograd/__init__.py:200\u001b[0m, in \u001b[0;36mbackward\u001b[0;34m(tensors, grad_tensors, retain_graph, create_graph, grad_variables, inputs)\u001b[0m\n\u001b[1;32m    195\u001b[0m     retain_graph \u001b[39m=\u001b[39m create_graph\n\u001b[1;32m    197\u001b[0m \u001b[39m# The reason we repeat same the comment below is that\u001b[39;00m\n\u001b[1;32m    198\u001b[0m \u001b[39m# some Python versions print out the first line of a multi-line function\u001b[39;00m\n\u001b[1;32m    199\u001b[0m \u001b[39m# calls in the traceback and some print out the last line\u001b[39;00m\n\u001b[0;32m--> 200\u001b[0m Variable\u001b[39m.\u001b[39;49m_execution_engine\u001b[39m.\u001b[39;49mrun_backward(  \u001b[39m# Calls into the C++ engine to run the backward pass\u001b[39;49;00m\n\u001b[1;32m    201\u001b[0m     tensors, grad_tensors_, retain_graph, create_graph, inputs,\n\u001b[1;32m    202\u001b[0m     allow_unreachable\u001b[39m=\u001b[39;49m\u001b[39mTrue\u001b[39;49;00m, accumulate_grad\u001b[39m=\u001b[39;49m\u001b[39mTrue\u001b[39;49;00m)\n",
                        "\u001b[0;31mKeyboardInterrupt\u001b[0m: "
                    ]
                }
            ],
            "source": [
                "best_model, train_losses, valid_losses = train(model, criterion, optimizer, 20, train_gen, valid_gen)"
            ]
        },
        {
            "cell_type": "code",
            "execution_count": null,
            "id": "87db1d40-187a-40cd-a940-89a1af1e6b0c",
            "metadata": {},
            "outputs": [],
            "source": [
                "from matplotlib import pyplot as plt\n",
                "\n",
                "\n",
                "plt.plot(train_losses, label=\"Training loss\")\n",
                "plt.plot(valid_losses, label=\"Validation loss\")\n",
                "plt.legend()"
            ]
        },
        {
            "cell_type": "markdown",
            "id": "cf154e66-6ba3-411e-80c9-6b0eebf122e3",
            "metadata": {},
            "source": [
                "## Do the following (5 points)\n",
                "* **\\[1 point\\]** Add an accuracy function and report the accuracy of the training, validation, and test set.\n",
                "* **\\[2 points\\]** Create an LSTM class which uses an LSTM instead of an RNN. Compare its results with the RNN.\n",
                "  * Look at the [LSTM documentation of pyTorch](https://pytorch.org/docs/stable/generated/torch.nn.LSTM.html).\n",
                "* **\\[1 point\\]** Implement a function which takes any text and returns the model's prediction.\n",
                "    * The function should have a string as input and return a class (0 or 1) and its confidence (between 0 and 1).\n",
                "* **\\[Bonus\\]** Create a bidirectional LSTM (BiLSTM) class to classify your sentences. Report the accuracy on the training and test data.\n",
                "    * **Beware of the behaviour of the output layer.** For a bidirectional LSTM, the output layer concatenates the forward and backward vector of each token. But we need to use the forward output of the last token, and the backward output of the first token, as input to our output layer.\n",
                "* **\\[1 point\\]** With your best classifier, look at two wrongly classified examples on the test set. Try explaining why the model was wrong.\n",
                "* **\\[Bonus\\]** Try finding better hyperparameters (dimensions, number of layers, ...). Document your experiments and results."
            ]
        },
        {
            "cell_type": "code",
            "execution_count": null,
            "id": "eec85aa0-2afa-4007-b68c-b8359addc1ca",
            "metadata": {},
            "outputs": [],
            "source": []
        }
    ],
    "metadata": {
        "kernelspec": {
            "display_name": "Python 3 (ipykernel)",
            "language": "python",
            "name": "python3"
        },
        "language_info": {
            "codemirror_mode": {
                "name": "ipython",
                "version": 3
            },
            "file_extension": ".py",
            "mimetype": "text/x-python",
            "name": "python",
            "nbconvert_exporter": "python",
            "pygments_lexer": "ipython3",
            "version": "3.9.6"
        }
    },
    "nbformat": 4,
    "nbformat_minor": 5
}
