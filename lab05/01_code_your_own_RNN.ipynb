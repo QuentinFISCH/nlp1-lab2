{
    "cells": [
        {
            "cell_type": "markdown",
            "id": "780cf295-7141-43e8-b8b8-199b14071e2a",
            "metadata": {},
            "source": [
                "# Coding your own RNN\n",
                "\n",
                "Using this pre-filled notebook, we will code our own RNN for sentence classification. For now, we'll keep using IMDB, as the goal of this part is to understand how an RNN works.\n",
                "\n",
                "Unlike our previous lab, we will also learn the embedding layer. Which means we need to deal with vocabulary by ourselves."
            ]
        },
        {
            "cell_type": "code",
            "execution_count": 1,
            "id": "f26c411e-1cd5-4a1c-9b3d-de16e26db901",
            "metadata": {},
            "outputs": [],
            "source": [
                "from functools import partial\n",
                "from typing import Callable, Dict, Generator, List, Tuple\n",
                "\n",
                "from datasets import load_dataset\n",
                "import numpy as np\n",
                "from sklearn.utils import shuffle\n",
                "import torch\n",
                "from torch import nn\n",
                "from torchtext.vocab import vocab, Vocab\n",
                "from torchtext.data.utils import get_tokenizer\n",
                "\n",
                "from tqdm.auto import tqdm"
            ]
        },
        {
            "cell_type": "markdown",
            "id": "ec040734-ff61-4c85-982c-acb2a5bd6d8c",
            "metadata": {},
            "source": [
                "## Dataset\n",
                "We load the dataset and split the training set in a stratified train/validation set."
            ]
        },
        {
            "cell_type": "code",
            "execution_count": 73,
            "id": "42b598f9-36b5-43e3-bb25-488b0fb53aac",
            "metadata": {},
            "outputs": [
                {
                    "name": "stderr",
                    "output_type": "stream",
                    "text": [
                        "Found cached dataset imdb (/Users/quentinfisch/.cache/huggingface/datasets/imdb/plain_text/1.0.0/d613c88cf8fa3bab83b4ded3713f1f74830d1100e171db75bbddb80b3345c9c0)\n"
                    ]
                },
                {
                    "data": {
                        "application/vnd.jupyter.widget-view+json": {
                            "model_id": "ec793e68f9c64d80a9dcbf31e38e7472",
                            "version_major": 2,
                            "version_minor": 0
                        },
                        "text/plain": [
                            "  0%|          | 0/3 [00:00<?, ?it/s]"
                        ]
                    },
                    "metadata": {},
                    "output_type": "display_data"
                },
                {
                    "name": "stderr",
                    "output_type": "stream",
                    "text": [
                        "Loading cached split indices for dataset at /Users/quentinfisch/.cache/huggingface/datasets/imdb/plain_text/1.0.0/d613c88cf8fa3bab83b4ded3713f1f74830d1100e171db75bbddb80b3345c9c0/cache-5f37fd0866e4f89f.arrow and /Users/quentinfisch/.cache/huggingface/datasets/imdb/plain_text/1.0.0/d613c88cf8fa3bab83b4ded3713f1f74830d1100e171db75bbddb80b3345c9c0/cache-dd5732a0e6ac784c.arrow\n"
                    ]
                },
                {
                    "data": {
                        "text/plain": [
                            "((20000, 2), (5000, 2), (25000, 2))"
                        ]
                    },
                    "execution_count": 73,
                    "metadata": {},
                    "output_type": "execute_result"
                }
            ],
            "source": [
                "dataset = load_dataset(\"imdb\")\n",
                "train_dataset = dataset[\"train\"].train_test_split(\n",
                "    stratify_by_column=\"label\", test_size=0.2, seed=42\n",
                ")\n",
                "test_df = dataset[\"test\"]\n",
                "train_df = train_dataset[\"train\"]\n",
                "valid_df = train_dataset[\"test\"]\n",
                "train_df.shape, valid_df.shape, test_df.shape"
            ]
        },
        {
            "cell_type": "markdown",
            "id": "f309e444-d52d-4f87-8d18-7bb470b7cfcd",
            "metadata": {},
            "source": [
                "## Vocabulary (1 point)\n",
                "\n",
                "**\\[1 point\\]** Build your own vocabulary. The [example provided in torchtext documentation](https://pytorch.org/text/stable/vocab.html#id1) might be of help.\n",
                "* Don't forge to setup the `min_freq` parameter to not include unfrequent noise.\n",
                "* You will need a tokenizer. Reuse the `basic_english` one from the our previous lab.\n",
                "* For an RNN we need two special tokens: `<unk>`, for unknown words, and `<pad>` for padding."
            ]
        },
        {
            "cell_type": "code",
            "execution_count": 76,
            "id": "fe20272d",
            "metadata": {},
            "outputs": [
                {
                    "data": {
                        "application/vnd.jupyter.widget-view+json": {
                            "model_id": "5e447e5fc36347d9aa71f65dc6dbac15",
                            "version_major": 2,
                            "version_minor": 0
                        },
                        "text/plain": [
                            "  0%|          | 0/20000 [00:00<?, ?it/s]"
                        ]
                    },
                    "metadata": {},
                    "output_type": "display_data"
                }
            ],
            "source": [
                "from collections import Counter\n",
                "\n",
                "tokenizer = get_tokenizer(\"basic_english\")\n",
                "vocabulary = vocab(\n",
                "    Counter(token for text in tqdm(train_df[\"text\"]) for token in tokenizer(text)),\n",
                "    min_freq=10,\n",
                "    specials=[\"<unk>\", \"<pad>\"])\n",
                "vocabulary.set_default_index(vocabulary[\"<unk>\"])"
            ]
        },
        {
            "cell_type": "markdown",
            "id": "89386d66-f758-4d87-b786-9d570eb22f2f",
            "metadata": {},
            "source": [
                "## Vectorize and batch the input (3 points)\n",
                "\n",
                "As seen in class, our model should take one-hot encoded vectors corresponding to the each token vocabulary id. However, computing a vector x matrix multiplication for every input is unnecessarily costly. Multiplying a one-hot vector with a matrix is the equivalent of taking one row of the matrix. In pyTorch, we provide ids for each token which will be used as input to an `nn.Embedding` layer. The id is simply the row in the embedding matrix.\n",
                "\n",
                "**\\[1 point\\]** Fill the `vectorize_text` function returning a 1D torch tensor of `torch.long` for each input text."
            ]
        },
        {
            "cell_type": "code",
            "execution_count": 77,
            "id": "3f6fc4eb-2f25-43ee-8b2f-a9154545ebc6",
            "metadata": {},
            "outputs": [],
            "source": [
                "def vectorize_text(\n",
                "    text: str, vocabulary: Vocab, tokenizer: Callable[[str], List[str]]\n",
                ") -> torch.Tensor:\n",
                "    \"\"\"\n",
                "    Generate a tensor of vocabluary IDs for a given text.\n",
                "    Args:\n",
                "        text: the input text.\n",
                "        vocabulary: a Vocab objects.\n",
                "        tokenizer: a text tokenizer.\n",
                "    Returns:\n",
                "        A tensor of IDs (torch.long).\n",
                "    \"\"\"\n",
                "    return torch.tensor(\n",
                "        [vocabulary[token] for token in tokenizer(text)], dtype=torch.long\n",
                "    )"
            ]
        },
        {
            "cell_type": "code",
            "execution_count": 78,
            "id": "2a4a9058-ad04-43b9-bf5c-680afb44e35c",
            "metadata": {},
            "outputs": [],
            "source": [
                "text_pipeline = partial(vectorize_text, vocabulary=vocabulary, tokenizer=tokenizer)"
            ]
        },
        {
            "cell_type": "markdown",
            "id": "9717208d-2f50-4d16-b170-904beeeb71ad",
            "metadata": {},
            "source": [
                "Check the function is working correctly, especially it should return the right special id for unknown words."
            ]
        },
        {
            "cell_type": "code",
            "execution_count": 79,
            "id": "9727204a-ecff-4e4d-a316-543865d52a31",
            "metadata": {},
            "outputs": [
                {
                    "data": {
                        "text/plain": [
                            "tensor([  39, 4850,   11,  265,  646,    8,   27,   27,   27,    0])"
                        ]
                    },
                    "execution_count": 79,
                    "metadata": {},
                    "output_type": "execute_result"
                }
            ],
            "source": [
                "text_pipeline(\"Some text I am thinking about... ragafqfa\")"
            ]
        },
        {
            "cell_type": "code",
            "execution_count": 80,
            "id": "97eb948c-cfae-47b1-b8ce-bafa358afe65",
            "metadata": {},
            "outputs": [
                {
                    "data": {
                        "application/vnd.jupyter.widget-view+json": {
                            "model_id": "b6aa117359c243fa87a4cec740532984",
                            "version_major": 2,
                            "version_minor": 0
                        },
                        "text/plain": [
                            "  0%|          | 0/20000 [00:00<?, ?it/s]"
                        ]
                    },
                    "metadata": {},
                    "output_type": "display_data"
                },
                {
                    "data": {
                        "application/vnd.jupyter.widget-view+json": {
                            "model_id": "7fe26614ad474e1b92ef390e82e8ceca",
                            "version_major": 2,
                            "version_minor": 0
                        },
                        "text/plain": [
                            "  0%|          | 0/5000 [00:00<?, ?it/s]"
                        ]
                    },
                    "metadata": {},
                    "output_type": "display_data"
                },
                {
                    "data": {
                        "application/vnd.jupyter.widget-view+json": {
                            "model_id": "f7f8bc46dee64bf3aa859d126a2bb2b9",
                            "version_major": 2,
                            "version_minor": 0
                        },
                        "text/plain": [
                            "  0%|          | 0/25000 [00:00<?, ?it/s]"
                        ]
                    },
                    "metadata": {},
                    "output_type": "display_data"
                }
            ],
            "source": [
                "X_train = [text_pipeline(text) for text in tqdm(train_df[\"text\"])]\n",
                "y_train = train_df[\"label\"]\n",
                "X_valid = [text_pipeline(text) for text in tqdm(valid_df[\"text\"])]\n",
                "y_valid = valid_df[\"label\"]\n",
                "X_test = [text_pipeline(text) for text in tqdm(test_df[\"text\"])]\n",
                "y_test = test_df[\"label\"]"
            ]
        },
        {
            "cell_type": "markdown",
            "id": "67138763-f848-4dd7-9036-68df352d22a0",
            "metadata": {},
            "source": [
                "To speed up the training process, we turn the inputs into batches, as we did last time. For batches to work, every line must have the same lengths. Last time, it was implicit as only a vector (the average of all embeddings) was provided. This time, every line has the length of a different review.\n",
                "\n",
                "To go around this problem, we use padding. So every line within a batch is padded to the length of its longest element.\n",
                "\n",
                "* **\\[1 point\\]** Fill the data generator function.\n",
                "* **\\[1 point\\]** On which side should you pad and why?"
            ]
        },
        {
            "cell_type": "code",
            "execution_count": 81,
            "id": "a88dd162-8107-4f05-bc8a-2fd313a3b8da",
            "metadata": {},
            "outputs": [],
            "source": [
                "def data_generator(\n",
                "    X: List[torch.tensor], y: List[int], pad_id: int, batch_size: int = 32\n",
                ") -> Generator[Tuple[torch.Tensor, torch.Tensor], None, None]:\n",
                "    \"\"\"\n",
                "    Yield batches from given input data and labels.\n",
                "    Args:\n",
                "        X: a list of tensor (input features).\n",
                "        y: the corresponding labels.\n",
                "        batch_size: the size of every batch [32].\n",
                "    Returns:\n",
                "        A tuple of tensors (features, labels).\n",
                "    \"\"\"\n",
                "    X, y = shuffle(X, y)\n",
                "    for i in range(0, len(X), batch_size):\n",
                "        batch_X = X[i : i + batch_size]\n",
                "        batch_y = y[i : i + batch_size]\n",
                "        max_len = max([len(x) for x in batch_X])\n",
                "        batch_X = torch.stack(\n",
                "            [torch.cat([x, torch.ones(max_len - len(x), dtype=torch.long) * pad_id]) for x in batch_X]\n",
                "        )\n",
                "        yield batch_X, torch.tensor(batch_y, dtype=torch.long)"
            ]
        },
        {
            "cell_type": "code",
            "execution_count": 82,
            "id": "c2e10342-4d6b-45c4-8e05-68ef6375b977",
            "metadata": {},
            "outputs": [],
            "source": [
                "pad_token = \"<pad>\"\n",
                "train_gen = lambda: data_generator(X_train, y_train, vocabulary[pad_token])\n",
                "valid_gen = lambda: data_generator(X_valid, y_valid, vocabulary[pad_token])\n",
                "test_gen = lambda: data_generator(X_test, y_test, vocabulary[pad_token])"
            ]
        },
        {
            "cell_type": "markdown",
            "id": "4489d625-f1ad-49ea-8b54-74463e04877f",
            "metadata": {
                "tags": []
            },
            "source": [
                "## Classifier (3 points)\n",
                "\n",
                "**\\[3 points\\]** Code your own RNN. Fill the `RNN` class correctly. Remember, an RNN has 3 elements.\n",
                "* An embedding layer to turn one-hot vectors into dense vectors.\n",
                "* A linear layer which takes the concatenation of the current embedding and hidden layer and send it to the hidden layer of our next step.\n",
                "  * `embedding_size + hidden_size -> hidden_size`\n",
                "* A linear layer which takes the concatenation of the current embedding and hidden layer and send it to the output.\n",
                "  * `embedding_size + hidden_size -> 1`\n",
                "* The provided `init_hidden` function sho"
            ]
        },
        {
            "cell_type": "code",
            "execution_count": 83,
            "id": "397ca1b0",
            "metadata": {},
            "outputs": [],
            "source": [
                "# Create a RNN classes with the following architecture:\n",
                "# - The embedding layer turns a one-hot vectors into dense vectors.\n",
                "# - The first matrix (W) connects the embedding to the hidden layer.\n",
                "#       embedding_size -> hidden_size\n",
                "# - The second matrix (U) connect the previous hidden layer to the current one.\n",
                "#       hidden_size -> hidden_size\n",
                "# - These to vectors are added and go through an activation function (e.g. h_t = tanh(Wx_i+Uh_{t-1})).\n",
                "# - The last matrix (V) connects the hidden layer to the hidden layer to the output.\n",
                "#       hidden_size -> 1\n",
                "# - Don't forget to add an init_hidden function which initialize the first hidden layer to 0.\n",
                "\n",
                "class RNN(nn.Module):\n",
                "    def __init__(self, vocab_size: int, embedding_size: int, hidden_size: int):\n",
                "        \"\"\"\n",
                "        Args:\n",
                "            vocab_size: the size of the vocabulary.\n",
                "            embedding_size: the size of the embedding layer.\n",
                "            hidden_size: the size of the hidden layer.\n",
                "        \"\"\"\n",
                "        super().__init__()\n",
                "        self.embedding = nn.Embedding(vocab_size, embedding_size)\n",
                "        self.hidden_size = hidden_size\n",
                "        self.hidden = nn.Linear(embedding_size + hidden_size, hidden_size, activation=\"tanh\")\n",
                "        self.out = nn.Linear(embedding_size + hidden_size, 1)\n",
                "\n",
                "    def forward(self, x: torch.Tensor, hidden: torch.Tensor) -> torch.Tensor:\n",
                "        \"\"\"\n",
                "        Forward pass of the RNN.\n",
                "        Args:\n",
                "            x: the input tensor of shape (batch_size, sequence_length).\n",
                "            hidden: the hidden state of the previous step of shape (batch_size, hidden_size).\n",
                "        Returns:\n",
                "            The output tensor of shape (batch_size, 1).\n",
                "        \"\"\"\n",
                "        x = self.embedding(x)\n",
                "        x = torch.cat([x, hidden], dim=1)\n",
                "        hidden = self.hidden(x)\n",
                "        out = self.out(x)\n",
                "        return out, hidden\n",
                "\n",
                "    def init_hidden(self, batch_size: int) -> torch.Tensor:\n",
                "        \"\"\"\n",
                "        Initialize the hidden state of the RNN.\n",
                "        Args:\n",
                "            batch_size: the size of the batch.\n",
                "        Returns:\n",
                "            A tensor of zeros of shape (batch_size, hidden_size).\n",
                "        \"\"\"\n",
                "        return torch.zeros(batch_size, self.hidden_size)\n"
            ]
        },
        {
            "cell_type": "markdown",
            "id": "4c665df6-ff9a-4b66-80fe-8abe62d895c9",
            "metadata": {},
            "source": [
                "## Training (2 points)\n",
                "\n",
                "Training is a bit different than usual. We will need to sequentially (but in \"batch parallel\") go through an input, keeping track of the hidden layer, and use the last output as prediction.\n",
                "\n",
                "**\\[2 point\\]** Code the training loop.\n",
                "* Note that for each batch, you need to loop through the whole input and use the output of the last token as input to your criterion.\n",
                "* Keep the best model evaluated on the validation set.\n",
                "* Plot the training and validation losses.\n",
                "* Training will take some time (~30 min on a T4 GPU). Make sure your results appear in the notebook."
            ]
        },
        {
            "cell_type": "code",
            "execution_count": 84,
            "id": "0e9053b8-19f3-45b4-a434-2f8cef8a1f64",
            "metadata": {},
            "outputs": [
                {
                    "data": {
                        "text/plain": [
                            "'cpu'"
                        ]
                    },
                    "execution_count": 84,
                    "metadata": {},
                    "output_type": "execute_result"
                }
            ],
            "source": [
                "device = \"cuda:0\" if torch.cuda.is_available() else \"cpu\"\n",
                "device"
            ]
        },
        {
            "cell_type": "code",
            "execution_count": 85,
            "id": "46cdc558-249b-4c26-b1e5-fc1c0a78d32d",
            "metadata": {},
            "outputs": [],
            "source": [
                "n_embedding = 32\n",
                "n_hidden = 64\n",
                "model = RNN(len(vocabulary.get_itos()), n_embedding, n_hidden).to(device)\n",
                "criterion = nn.BCEWithLogitsLoss()\n",
                "optimizer = torch.optim.RMSprop(model.parameters(), lr=0.001)"
            ]
        },
        {
            "cell_type": "code",
            "execution_count": 86,
            "id": "a66700ef",
            "metadata": {},
            "outputs": [
                {
                    "data": {
                        "application/vnd.jupyter.widget-view+json": {
                            "model_id": "14fabee16a814e4c9772e5f0471e0743",
                            "version_major": 2,
                            "version_minor": 0
                        },
                        "text/plain": [
                            "0it [00:00, ?it/s]"
                        ]
                    },
                    "metadata": {},
                    "output_type": "display_data"
                },
                {
                    "data": {
                        "application/vnd.jupyter.widget-view+json": {
                            "model_id": "5836da734241400b834ecba93d4ecd49",
                            "version_major": 2,
                            "version_minor": 0
                        },
                        "text/plain": [
                            "0it [00:00, ?it/s]"
                        ]
                    },
                    "metadata": {},
                    "output_type": "display_data"
                },
                {
                    "name": "stdout",
                    "output_type": "stream",
                    "text": [
                        "Epoch 1/3 - train loss: 0.022 - valid loss: 0.022\n"
                    ]
                },
                {
                    "data": {
                        "application/vnd.jupyter.widget-view+json": {
                            "model_id": "956365a3aae84812ba3bbc8b371f8912",
                            "version_major": 2,
                            "version_minor": 0
                        },
                        "text/plain": [
                            "0it [00:00, ?it/s]"
                        ]
                    },
                    "metadata": {},
                    "output_type": "display_data"
                },
                {
                    "data": {
                        "application/vnd.jupyter.widget-view+json": {
                            "model_id": "d49a04987cda40d2b5dbd142ed29214f",
                            "version_major": 2,
                            "version_minor": 0
                        },
                        "text/plain": [
                            "0it [00:00, ?it/s]"
                        ]
                    },
                    "metadata": {},
                    "output_type": "display_data"
                },
                {
                    "name": "stdout",
                    "output_type": "stream",
                    "text": [
                        "Epoch 2/3 - train loss: 0.022 - valid loss: 0.022\n"
                    ]
                },
                {
                    "data": {
                        "application/vnd.jupyter.widget-view+json": {
                            "model_id": "c95031ab5e654b44aef0834ecab086a6",
                            "version_major": 2,
                            "version_minor": 0
                        },
                        "text/plain": [
                            "0it [00:00, ?it/s]"
                        ]
                    },
                    "metadata": {},
                    "output_type": "display_data"
                },
                {
                    "data": {
                        "application/vnd.jupyter.widget-view+json": {
                            "model_id": "3aac6b46b5cd4df4a0b4925cec917332",
                            "version_major": 2,
                            "version_minor": 0
                        },
                        "text/plain": [
                            "0it [00:00, ?it/s]"
                        ]
                    },
                    "metadata": {},
                    "output_type": "display_data"
                },
                {
                    "name": "stdout",
                    "output_type": "stream",
                    "text": [
                        "Epoch 3/3 - train loss: 0.022 - valid loss: 0.022\n"
                    ]
                },
                {
                    "data": {
                        "image/png": "[encoded data removed]",
                        "text/plain": [
                            "<Figure size 640x480 with 1 Axes>"
                        ]
                    },
                    "metadata": {},
                    "output_type": "display_data"
                }
            ],
            "source": [
                "# train the model\n",
                "from matplotlib import pyplot as plt\n",
                "\n",
                "\n",
                "n_epochs = 3\n",
                "best_valid_loss = np.inf\n",
                "train_losses = []\n",
                "valid_losses = []\n",
                "for epoch in range(n_epochs):\n",
                "    # train\n",
                "    model.train()\n",
                "    train_loss = 0\n",
                "    for X, y in tqdm(train_gen()):\n",
                "        optimizer.zero_grad()\n",
                "        hidden = model.init_hidden(X.shape[0]).to(device)\n",
                "        for i in range(X.shape[1]):\n",
                "            out, hidden = model(X[:, i].to(device), hidden)\n",
                "        loss = criterion(out.squeeze(), y.to(device).float())\n",
                "        loss.backward()\n",
                "        optimizer.step()\n",
                "        train_loss += loss.item()\n",
                "    train_loss /= len(X_train)\n",
                "    train_losses.append(train_loss)\n",
                "    # valid\n",
                "    model.eval()\n",
                "    valid_loss = 0\n",
                "    with torch.no_grad():\n",
                "        for X, y in tqdm(valid_gen()):\n",
                "            hidden = model.init_hidden(X.shape[0]).to(device)\n",
                "            for i in range(X.shape[1]):\n",
                "                out, hidden = model(X[:, i].to(device), hidden)\n",
                "            loss = criterion(out.squeeze(), y.to(device).float())\n",
                "            valid_loss += loss.item()\n",
                "    valid_loss /= len(X_valid)\n",
                "    valid_losses.append(valid_loss)\n",
                "    # save best model\n",
                "    if valid_loss < best_valid_loss:\n",
                "        best_valid_loss = valid_loss\n",
                "        torch.save(model.state_dict(), \"best_model.pt\")\n",
                "    print(\n",
                "        f\"Epoch {epoch + 1}/{n_epochs} - train loss: {train_loss:.3f} - valid loss: {valid_loss:.3f}\"\n",
                "    )\n",
                "\n",
                "plt.plot(train_losses, label=\"train\")\n",
                "plt.plot(valid_losses, label=\"valid\")\n",
                "plt.legend()\n",
                "plt.show()"
            ]
        },
        {
            "cell_type": "markdown",
            "id": "137dc500-ece2-4efa-8207-758a5f428c26",
            "metadata": {},
            "source": [
                "## Evaluation (1 point)\n",
                "\n",
                "* **\\[1 point\\]** Compute the accuracy for all 3 splits."
            ]
        },
        {
            "cell_type": "code",
            "execution_count": 87,
            "id": "a4544dfd-7567-4bea-b484-490b6a7b74e4",
            "metadata": {},
            "outputs": [],
            "source": [
                "def compute_accuracy(model: nn.Module, data_gen: Callable[[], Generator[Tuple[torch.Tensor, torch.Tensor], None, None]]) -> float:\n",
                "    \"\"\"\n",
                "    Compute the accuracy of the model on the given data.\n",
                "    Args:\n",
                "        model: the model to evaluate.\n",
                "        data_gen: a data generator which yields batches of data.\n",
                "    Returns:\n",
                "        The accuracy of the model on the data.\n",
                "    \"\"\"\n",
                "    model.eval()\n",
                "    correct = 0\n",
                "    total = 0\n",
                "    with torch.no_grad():\n",
                "        for X, y in data_gen():\n",
                "            hidden = model.init_hidden(X.shape[0]).to(device)\n",
                "            for i in range(X.shape[1]):\n",
                "                out, hidden = model(X[:, i].to(device), hidden)\n",
                "            pred = (out > 0).squeeze().long()\n",
                "            correct += (pred == y.to(device)).sum().item()\n",
                "            total += len(y)\n",
                "    return correct / total"
            ]
        },
        {
            "cell_type": "code",
            "execution_count": 88,
            "id": "2fd811ca",
            "metadata": {},
            "outputs": [
                {
                    "name": "stdout",
                    "output_type": "stream",
                    "text": [
                        "Train accuracy: 0.503, valid accuracy: 0.503, test accuracy: 0.502\n"
                    ]
                }
            ],
            "source": [
                "model.load_state_dict(torch.load(\"best_model.pt\"))\n",
                "train_acc = compute_accuracy(model, train_gen)\n",
                "valid_acc = compute_accuracy(model, valid_gen)\n",
                "test_acc = compute_accuracy(model, test_gen)\n",
                "print(f\"Train accuracy: {train_acc:.3f}, valid accuracy: {valid_acc:.3f}, test accuracy: {test_acc:.3f}\")"
            ]
        },
        {
            "cell_type": "code",
            "execution_count": null,
            "id": "c32e4ae1",
            "metadata": {},
            "outputs": [],
            "source": []
        }
    ],
    "metadata": {
        "kernelspec": {
            "display_name": "Python 3 (ipykernel)",
            "language": "python",
            "name": "python3"
        },
        "language_info": {
            "codemirror_mode": {
                "name": "ipython",
                "version": 3
            },
            "file_extension": ".py",
            "mimetype": "text/x-python",
            "name": "python",
            "nbconvert_exporter": "python",
            "pygments_lexer": "ipython3",
            "version": "3.9.6"
        }
    },
    "nbformat": 4,
    "nbformat_minor": 5
}
