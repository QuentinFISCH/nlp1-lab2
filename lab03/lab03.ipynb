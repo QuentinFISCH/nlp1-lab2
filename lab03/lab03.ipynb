{
 "cells": [
  {
   "cell_type": "code",
   "execution_count": 34,
   "metadata": {},
   "outputs": [],
   "source": [
    "from datasets import load_dataset\n",
    "import pandas as pd\n",
    "import numpy as np"
   ]
  },
  {
   "cell_type": "code",
   "execution_count": 35,
   "metadata": {},
   "outputs": [
    {
     "name": "stderr",
     "output_type": "stream",
     "text": [
      "Found cached dataset imdb (/Users/quentinfisch/.cache/huggingface/datasets/imdb/plain_text/1.0.0/d613c88cf8fa3bab83b4ded3713f1f74830d1100e171db75bbddb80b3345c9c0)\n",
      "100%|██████████| 3/3 [00:00<00:00, 88.11it/s]\n"
     ]
    },
    {
     "data": {
      "text/plain": [
       "DatasetDict({\n",
       "    train: Dataset({\n",
       "        features: ['text', 'label'],\n",
       "        num_rows: 25000\n",
       "    })\n",
       "    test: Dataset({\n",
       "        features: ['text', 'label'],\n",
       "        num_rows: 25000\n",
       "    })\n",
       "    unsupervised: Dataset({\n",
       "        features: ['text', 'label'],\n",
       "        num_rows: 50000\n",
       "    })\n",
       "})"
      ]
     },
     "execution_count": 35,
     "metadata": {},
     "output_type": "execute_result"
    }
   ],
   "source": [
    "dataset = load_dataset(\"imdb\")\n",
    "dataset"
   ]
  },
  {
   "attachments": {},
   "cell_type": "markdown",
   "metadata": {},
   "source": [
    "## Features"
   ]
  },
  {
   "attachments": {},
   "cell_type": "markdown",
   "metadata": {},
   "source": [
    "### Preprocessing"
   ]
  },
  {
   "cell_type": "code",
   "execution_count": 36,
   "metadata": {},
   "outputs": [],
   "source": [
    "from string import punctuation\n",
    "import re\n",
    "\n",
    "def preprocess(dataset: pd.DataFrame) -> pd.DataFrame :\n",
    "    \"\"\"\n",
    "    Preprocess the dataset by lowercasing the text and removing the punctuation manually\n",
    "\n",
    "    Parameters\n",
    "    ----------\n",
    "    dataset : pd.DataFrame\n",
    "        The dataset to preprocess\n",
    "\n",
    "    Returns\n",
    "    -------\n",
    "    pd.DataFrame\n",
    "        The preprocessed dataset\n",
    "    \"\"\"\n",
    "    # First lower the case\n",
    "    dataset[\"document\"] = dataset[\"document\"].apply(lambda x: x.lower())\n",
    "    # Replace the punctuation with spaces. We keep the ' - that may give revelant informations\n",
    "    # Replace HTML tag <br />\n",
    "    punctuation_to_remove = '|'.join(map(re.escape, sorted(list(filter(lambda p: p != \"'\" and p != '-' and p != \"!\", punctuation)), reverse=True)))\n",
    "    print(f\"Deleting all these punctuation: {punctuation_to_remove}\")\n",
    "    dataset[\"document\"] = dataset[\"document\"].apply(lambda x: re.sub(punctuation_to_remove, \" \", x.replace('<br />', \"\")))\n",
    "    return dataset"
   ]
  },
  {
   "cell_type": "code",
   "execution_count": 37,
   "metadata": {},
   "outputs": [
    {
     "name": "stdout",
     "output_type": "stream",
     "text": [
      "Deleting all these punctuation: \\~|\\}|\\||\\{|`|_|\\^|\\]|\\\\|\\[|@|\\?|>|=|<|;|:|/|\\.|,|\\+|\\*|\\)|\\(|\\&|%|\\$|\\#|\"\n",
      "Deleting all these punctuation: \\~|\\}|\\||\\{|`|_|\\^|\\]|\\\\|\\[|@|\\?|>|=|<|;|:|/|\\.|,|\\+|\\*|\\)|\\(|\\&|%|\\$|\\#|\"\n"
     ]
    },
    {
     "data": {
      "text/plain": [
       "(                                                document  class\n",
       " 0      i rented i am curious-yellow from my video sto...      0\n",
       " 1       i am curious  yellow  is a risible and preten...      0\n",
       " 2      if only to avoid making this type of film in t...      0\n",
       " 3      this film was probably inspired by godard's ma...      0\n",
       " 4      oh  brother   after hearing about this ridicul...      0\n",
       " ...                                                  ...    ...\n",
       " 24995  a hit at the time but now better categorised a...      1\n",
       " 24996  i love this movie like no other  another time ...      1\n",
       " 24997  this film and it's sequel barry mckenzie holds...      1\n",
       " 24998  'the adventures of barry mckenzie' started lif...      1\n",
       " 24999  the story centers around barry mckenzie who mu...      1\n",
       " \n",
       " [25000 rows x 2 columns],\n",
       "                                                 document  class\n",
       " 0      i love sci-fi and am willing to put up with a ...      0\n",
       " 1      worth the entertainment value of a rental  esp...      0\n",
       " 2      its a totally average film with a few semi-alr...      0\n",
       " 3      star rating        saturday night      friday ...      0\n",
       " 4      first off let me say  if you haven't enjoyed a...      0\n",
       " ...                                                  ...    ...\n",
       " 24995  just got around to seeing monster man yesterda...      1\n",
       " 24996  i got this as part of a competition prize  i w...      1\n",
       " 24997  i got monster man in a box set of three films ...      1\n",
       " 24998  five minutes in  i started to feel how naff th...      1\n",
       " 24999  i caught this movie on the sci-fi channel rece...      1\n",
       " \n",
       " [25000 rows x 2 columns])"
      ]
     },
     "execution_count": 37,
     "metadata": {},
     "output_type": "execute_result"
    }
   ],
   "source": [
    "train_raw = pd.DataFrame(dataset[\"train\"], columns=[\"text\", \"label\"]).rename(columns={\"text\": \"document\", \"label\": \"class\"})\n",
    "preprocessed_train = preprocess(train_raw)\n",
    "\n",
    "test_raw = pd.DataFrame(dataset[\"test\"], columns=[\"text\", \"label\"]).rename(columns={\"text\": \"document\", \"label\": \"class\"})\n",
    "preprocessed_test = preprocess(test_raw)\n",
    "preprocessed_train, preprocessed_test"
   ]
  },
  {
   "attachments": {},
   "cell_type": "markdown",
   "metadata": {},
   "source": [
    "Load lexicon and keep only interesting tokens (one above the treshold)"
   ]
  },
  {
   "cell_type": "code",
   "execution_count": 10,
   "metadata": {},
   "outputs": [
    {
     "data": {
      "text/html": [
       "<div>\n",
       "<style scoped>\n",
       "    .dataframe tbody tr th:only-of-type {\n",
       "        vertical-align: middle;\n",
       "    }\n",
       "\n",
       "    .dataframe tbody tr th {\n",
       "        vertical-align: top;\n",
       "    }\n",
       "\n",
       "    .dataframe thead th {\n",
       "        text-align: right;\n",
       "    }\n",
       "</style>\n",
       "<table border=\"1\" class=\"dataframe\">\n",
       "  <thead>\n",
       "    <tr style=\"text-align: right;\">\n",
       "      <th></th>\n",
       "      <th>Score</th>\n",
       "    </tr>\n",
       "    <tr>\n",
       "      <th>Token</th>\n",
       "      <th></th>\n",
       "    </tr>\n",
       "  </thead>\n",
       "  <tbody>\n",
       "    <tr>\n",
       "      <th>$:</th>\n",
       "      <td>-1.5</td>\n",
       "    </tr>\n",
       "    <tr>\n",
       "      <th>%-)</th>\n",
       "      <td>-1.5</td>\n",
       "    </tr>\n",
       "    <tr>\n",
       "      <th>( '}{' )</th>\n",
       "      <td>1.6</td>\n",
       "    </tr>\n",
       "    <tr>\n",
       "      <th>('-:</th>\n",
       "      <td>2.2</td>\n",
       "    </tr>\n",
       "    <tr>\n",
       "      <th>(':</th>\n",
       "      <td>2.3</td>\n",
       "    </tr>\n",
       "    <tr>\n",
       "      <th>...</th>\n",
       "      <td>...</td>\n",
       "    </tr>\n",
       "    <tr>\n",
       "      <th>|^:</th>\n",
       "      <td>-1.1</td>\n",
       "    </tr>\n",
       "    <tr>\n",
       "      <th>||-:</th>\n",
       "      <td>-2.3</td>\n",
       "    </tr>\n",
       "    <tr>\n",
       "      <th>}:</th>\n",
       "      <td>-2.1</td>\n",
       "    </tr>\n",
       "    <tr>\n",
       "      <th>}:(</th>\n",
       "      <td>-2.0</td>\n",
       "    </tr>\n",
       "    <tr>\n",
       "      <th>}:-(</th>\n",
       "      <td>-2.1</td>\n",
       "    </tr>\n",
       "  </tbody>\n",
       "</table>\n",
       "<p>5830 rows × 1 columns</p>\n",
       "</div>"
      ],
      "text/plain": [
       "          Score\n",
       "Token          \n",
       "$:         -1.5\n",
       "%-)        -1.5\n",
       "( '}{' )    1.6\n",
       "('-:        2.2\n",
       "(':         2.3\n",
       "...         ...\n",
       "|^:        -1.1\n",
       "||-:       -2.3\n",
       "}:         -2.1\n",
       "}:(        -2.0\n",
       "}:-(       -2.1\n",
       "\n",
       "[5830 rows x 1 columns]"
      ]
     },
     "execution_count": 10,
     "metadata": {},
     "output_type": "execute_result"
    }
   ],
   "source": [
    "threshold = 1\n",
    "lexicon = pd.read_csv(\"vader_lexicon.txt\", sep=\"\\t\", names=['Token', \"Score\", \"Std\", \"Vector\"]).drop(columns=[\"Std\", \"Vector\"]).set_index(\"Token\")\n",
    "lexicon = lexicon[(lexicon[\"Score\"] <= -threshold) | (lexicon[\"Score\"] >= threshold)]\n",
    "lexicon"
   ]
  },
  {
   "attachments": {},
   "cell_type": "markdown",
   "metadata": {},
   "source": [
    "Generate the following features:\n",
    "- 1 if \"no\" appears in the document, 0 otherwise.\n",
    "- The count of first and second pronouns in the document.\n",
    "- 1 if \"!\" is in the document, 0 otherwise.\n",
    "- Log(word count in the document).\n",
    "- Number of words in the document which are in the positive lexicon.\n",
    "- Number of words in the document which are in the negative lexicon.\n",
    "- [Bonus] Add another feature of your choice."
   ]
  },
  {
   "cell_type": "code",
   "execution_count": 11,
   "metadata": {},
   "outputs": [],
   "source": [
    "# Generate the following features:\n",
    "# - 1 if \"no\" appears in the document, 0 otherwise.\n",
    "# - The count of first and second pronouns in the document.\n",
    "# - 1 if \"!\" is in the document, 0 otherwise.\n",
    "# - Log(word count in the document).\n",
    "# - Number of words in the document which are in the positive lexicon.\n",
    "# - Number of words in the document which are in the negative lexicon.\n",
    "# - [Bonus] Add another feature of your choice.\n",
    "\n",
    "def is_in_lexicon(word: str, positive: bool):\n",
    "    try:\n",
    "        score = lexicon.at[word, \"Score\"].item()\n",
    "        return score >= threshold if positive else score <= -threshold\n",
    "    except:\n",
    "        return False\n",
    "\n",
    "def generate_features(dataset: pd.DataFrame) -> pd.DataFrame :\n",
    "    \"\"\"\n",
    "    Generate the features for the dataset\n",
    "\n",
    "    Parameters\n",
    "    ----------\n",
    "    dataset : pd.DataFrame\n",
    "        The dataset to generate the features for\n",
    "\n",
    "    Returns\n",
    "    -------\n",
    "    pd.DataFrame\n",
    "        The dataset with the features\n",
    "    \"\"\"\n",
    "    dataset[\"no\"] = dataset[\"document\"].apply(lambda x: 1 if \"no\" in x.split(\" \") else 0)\n",
    "    dataset[\"pronouns\"] = dataset[\"document\"].apply(lambda x: x.split(\" \")).apply(lambda x: x.count(\"i\") + x.count(\"we\") + x.count(\"you\"))\n",
    "    dataset[\"exclamation\"] = dataset[\"document\"].apply(lambda x: 1 if \"!\" in x else 0)\n",
    "    dataset[\"log_word_count\"] = dataset[\"document\"].apply(lambda x: np.log(len(x.split(\" \"))))\n",
    "    dataset[\"positive_lexicon\"] = dataset[\"document\"].apply(lambda x: len(list(filter(lambda w: is_in_lexicon(w, True), x.split(\" \")))))\n",
    "    dataset[\"negative_lexicon\"] = dataset[\"document\"].apply(lambda x: len(list(filter(lambda w: is_in_lexicon(w, False), x.split(\" \")))))\n",
    "\n",
    "    # add feature vector column\n",
    "    dataset[\"feature_vector\"] = dataset.apply(lambda x: [x[\"no\"], x[\"pronouns\"], x[\"exclamation\"], x[\"log_word_count\"], x[\"positive_lexicon\"], x[\"negative_lexicon\"]], axis=1)\n",
    "    # drop the other columns\n",
    "    dataset = dataset.drop(columns=[\"no\", \"pronouns\", \"exclamation\", \"log_word_count\", \"positive_lexicon\", \"negative_lexicon\"])\n",
    "\n",
    "    return dataset"
   ]
  },
  {
   "cell_type": "code",
   "execution_count": 21,
   "metadata": {},
   "outputs": [
    {
     "data": {
      "text/html": [
       "<div>\n",
       "<style scoped>\n",
       "    .dataframe tbody tr th:only-of-type {\n",
       "        vertical-align: middle;\n",
       "    }\n",
       "\n",
       "    .dataframe tbody tr th {\n",
       "        vertical-align: top;\n",
       "    }\n",
       "\n",
       "    .dataframe thead th {\n",
       "        text-align: right;\n",
       "    }\n",
       "</style>\n",
       "<table border=\"1\" class=\"dataframe\">\n",
       "  <thead>\n",
       "    <tr style=\"text-align: right;\">\n",
       "      <th></th>\n",
       "      <th>document</th>\n",
       "      <th>class</th>\n",
       "      <th>feature_vector</th>\n",
       "    </tr>\n",
       "  </thead>\n",
       "  <tbody>\n",
       "    <tr>\n",
       "      <th>0</th>\n",
       "      <td>i rented i am curious-yellow from my video sto...</td>\n",
       "      <td>0</td>\n",
       "      <td>[1, 11, 0, 5.739792912179234, 7, 6]</td>\n",
       "    </tr>\n",
       "    <tr>\n",
       "      <th>10</th>\n",
       "      <td>it was great to see some of my favorite stars ...</td>\n",
       "      <td>0</td>\n",
       "      <td>[1, 9, 0, 5.680172609017068, 14, 4]</td>\n",
       "    </tr>\n",
       "    <tr>\n",
       "      <th>20</th>\n",
       "      <td>if the crew behind  zombie chronicles  ever re...</td>\n",
       "      <td>0</td>\n",
       "      <td>[1, 9, 0, 5.327876168789581, 9, 2]</td>\n",
       "    </tr>\n",
       "    <tr>\n",
       "      <th>30</th>\n",
       "      <td>i have not seen many low budget films i must a...</td>\n",
       "      <td>0</td>\n",
       "      <td>[0, 7, 0, 5.209486152841421, 8, 7]</td>\n",
       "    </tr>\n",
       "    <tr>\n",
       "      <th>40</th>\n",
       "      <td>i have read all of the love come softly books ...</td>\n",
       "      <td>0</td>\n",
       "      <td>[0, 5, 0, 5.0106352940962555, 5, 3]</td>\n",
       "    </tr>\n",
       "    <tr>\n",
       "      <th>...</th>\n",
       "      <td>...</td>\n",
       "      <td>...</td>\n",
       "      <td>...</td>\n",
       "    </tr>\n",
       "    <tr>\n",
       "      <th>24950</th>\n",
       "      <td>i definitely recommend reading the book prior ...</td>\n",
       "      <td>1</td>\n",
       "      <td>[0, 6, 1, 5.703782474656201, 14, 3]</td>\n",
       "    </tr>\n",
       "    <tr>\n",
       "      <th>24960</th>\n",
       "      <td>i used to watch this show when i was a little ...</td>\n",
       "      <td>1</td>\n",
       "      <td>[0, 14, 0, 5.123963979403259, 9, 0]</td>\n",
       "    </tr>\n",
       "    <tr>\n",
       "      <th>24970</th>\n",
       "      <td>i've seen this movie and i must say i'm very i...</td>\n",
       "      <td>1</td>\n",
       "      <td>[0, 13, 0, 5.0689042022202315, 13, 2]</td>\n",
       "    </tr>\n",
       "    <tr>\n",
       "      <th>24980</th>\n",
       "      <td>i was pleased to see that she had black hair! ...</td>\n",
       "      <td>1</td>\n",
       "      <td>[0, 8, 1, 5.049856007249537, 9, 3]</td>\n",
       "    </tr>\n",
       "    <tr>\n",
       "      <th>24990</th>\n",
       "      <td>like i said its a hidden surprise  it well wri...</td>\n",
       "      <td>1</td>\n",
       "      <td>[0, 4, 0, 4.127134385045092, 9, 0]</td>\n",
       "    </tr>\n",
       "  </tbody>\n",
       "</table>\n",
       "<p>2500 rows × 3 columns</p>\n",
       "</div>"
      ],
      "text/plain": [
       "                                                document  class  \\\n",
       "0      i rented i am curious-yellow from my video sto...      0   \n",
       "10     it was great to see some of my favorite stars ...      0   \n",
       "20     if the crew behind  zombie chronicles  ever re...      0   \n",
       "30     i have not seen many low budget films i must a...      0   \n",
       "40     i have read all of the love come softly books ...      0   \n",
       "...                                                  ...    ...   \n",
       "24950  i definitely recommend reading the book prior ...      1   \n",
       "24960  i used to watch this show when i was a little ...      1   \n",
       "24970  i've seen this movie and i must say i'm very i...      1   \n",
       "24980  i was pleased to see that she had black hair! ...      1   \n",
       "24990  like i said its a hidden surprise  it well wri...      1   \n",
       "\n",
       "                              feature_vector  \n",
       "0        [1, 11, 0, 5.739792912179234, 7, 6]  \n",
       "10       [1, 9, 0, 5.680172609017068, 14, 4]  \n",
       "20        [1, 9, 0, 5.327876168789581, 9, 2]  \n",
       "30        [0, 7, 0, 5.209486152841421, 8, 7]  \n",
       "40       [0, 5, 0, 5.0106352940962555, 5, 3]  \n",
       "...                                      ...  \n",
       "24950    [0, 6, 1, 5.703782474656201, 14, 3]  \n",
       "24960    [0, 14, 0, 5.123963979403259, 9, 0]  \n",
       "24970  [0, 13, 0, 5.0689042022202315, 13, 2]  \n",
       "24980     [0, 8, 1, 5.049856007249537, 9, 3]  \n",
       "24990     [0, 4, 0, 4.127134385045092, 9, 0]  \n",
       "\n",
       "[2500 rows x 3 columns]"
      ]
     },
     "execution_count": 21,
     "metadata": {},
     "output_type": "execute_result"
    }
   ],
   "source": [
    "reduced_train = preprocessed_train.iloc[::10].copy()\n",
    "reduced_train = generate_features(reduced_train)\n",
    "reduced_train"
   ]
  },
  {
   "cell_type": "code",
   "execution_count": 14,
   "metadata": {},
   "outputs": [
    {
     "data": {
      "text/html": [
       "<div>\n",
       "<style scoped>\n",
       "    .dataframe tbody tr th:only-of-type {\n",
       "        vertical-align: middle;\n",
       "    }\n",
       "\n",
       "    .dataframe tbody tr th {\n",
       "        vertical-align: top;\n",
       "    }\n",
       "\n",
       "    .dataframe thead th {\n",
       "        text-align: right;\n",
       "    }\n",
       "</style>\n",
       "<table border=\"1\" class=\"dataframe\">\n",
       "  <thead>\n",
       "    <tr style=\"text-align: right;\">\n",
       "      <th></th>\n",
       "      <th>document</th>\n",
       "      <th>class</th>\n",
       "      <th>feature_vector</th>\n",
       "    </tr>\n",
       "  </thead>\n",
       "  <tbody>\n",
       "    <tr>\n",
       "      <th>0</th>\n",
       "      <td>i love sci-fi and am willing to put up with a ...</td>\n",
       "      <td>0</td>\n",
       "      <td>[0, 5, 1, 5.62040086571715, 9, 8]</td>\n",
       "    </tr>\n",
       "    <tr>\n",
       "      <th>10</th>\n",
       "      <td>this flick is a waste of time i expect from an...</td>\n",
       "      <td>0</td>\n",
       "      <td>[1, 1, 0, 4.948759890378168, 3, 12]</td>\n",
       "    </tr>\n",
       "    <tr>\n",
       "      <th>20</th>\n",
       "      <td>low budget horror movie  if you don't raise yo...</td>\n",
       "      <td>0</td>\n",
       "      <td>[0, 6, 1, 5.225746673713202, 10, 7]</td>\n",
       "    </tr>\n",
       "    <tr>\n",
       "      <th>30</th>\n",
       "      <td>lowe returns to the nest after  yet another  f...</td>\n",
       "      <td>0</td>\n",
       "      <td>[0, 4, 1, 5.459585514144159, 8, 9]</td>\n",
       "    </tr>\n",
       "    <tr>\n",
       "      <th>40</th>\n",
       "      <td>i can't believe the high marks people have giv...</td>\n",
       "      <td>0</td>\n",
       "      <td>[0, 6, 1, 5.6240175061873385, 8, 9]</td>\n",
       "    </tr>\n",
       "    <tr>\n",
       "      <th>...</th>\n",
       "      <td>...</td>\n",
       "      <td>...</td>\n",
       "      <td>...</td>\n",
       "    </tr>\n",
       "    <tr>\n",
       "      <th>24950</th>\n",
       "      <td>especially by lambert  this is the essential...</td>\n",
       "      <td>1</td>\n",
       "      <td>[0, 8, 0, 5.10594547390058, 8, 3]</td>\n",
       "    </tr>\n",
       "    <tr>\n",
       "      <th>24960</th>\n",
       "      <td>watch it with an open mind  it is very differe...</td>\n",
       "      <td>1</td>\n",
       "      <td>[0, 1, 0, 4.02535169073515, 4, 0]</td>\n",
       "    </tr>\n",
       "    <tr>\n",
       "      <th>24970</th>\n",
       "      <td>slipknot is a heavy metal band from the great ...</td>\n",
       "      <td>1</td>\n",
       "      <td>[0, 8, 0, 5.117993812416755, 6, 1]</td>\n",
       "    </tr>\n",
       "    <tr>\n",
       "      <th>24980</th>\n",
       "      <td>this film is just plain lovely  it's funny as ...</td>\n",
       "      <td>1</td>\n",
       "      <td>[0, 3, 1, 4.912654885736052, 5, 2]</td>\n",
       "    </tr>\n",
       "    <tr>\n",
       "      <th>24990</th>\n",
       "      <td>i first saw this on demand  or on tv  i'm not ...</td>\n",
       "      <td>1</td>\n",
       "      <td>[0, 9, 1, 4.969813299576001, 10, 0]</td>\n",
       "    </tr>\n",
       "  </tbody>\n",
       "</table>\n",
       "<p>2500 rows × 3 columns</p>\n",
       "</div>"
      ],
      "text/plain": [
       "                                                document  class  \\\n",
       "0      i love sci-fi and am willing to put up with a ...      0   \n",
       "10     this flick is a waste of time i expect from an...      0   \n",
       "20     low budget horror movie  if you don't raise yo...      0   \n",
       "30     lowe returns to the nest after  yet another  f...      0   \n",
       "40     i can't believe the high marks people have giv...      0   \n",
       "...                                                  ...    ...   \n",
       "24950    especially by lambert  this is the essential...      1   \n",
       "24960  watch it with an open mind  it is very differe...      1   \n",
       "24970  slipknot is a heavy metal band from the great ...      1   \n",
       "24980  this film is just plain lovely  it's funny as ...      1   \n",
       "24990  i first saw this on demand  or on tv  i'm not ...      1   \n",
       "\n",
       "                            feature_vector  \n",
       "0        [0, 5, 1, 5.62040086571715, 9, 8]  \n",
       "10     [1, 1, 0, 4.948759890378168, 3, 12]  \n",
       "20     [0, 6, 1, 5.225746673713202, 10, 7]  \n",
       "30      [0, 4, 1, 5.459585514144159, 8, 9]  \n",
       "40     [0, 6, 1, 5.6240175061873385, 8, 9]  \n",
       "...                                    ...  \n",
       "24950    [0, 8, 0, 5.10594547390058, 8, 3]  \n",
       "24960    [0, 1, 0, 4.02535169073515, 4, 0]  \n",
       "24970   [0, 8, 0, 5.117993812416755, 6, 1]  \n",
       "24980   [0, 3, 1, 4.912654885736052, 5, 2]  \n",
       "24990  [0, 9, 1, 4.969813299576001, 10, 0]  \n",
       "\n",
       "[2500 rows x 3 columns]"
      ]
     },
     "execution_count": 14,
     "metadata": {},
     "output_type": "execute_result"
    }
   ],
   "source": [
    "reduced_test = preprocessed_test.iloc[::10].copy()\n",
    "\n",
    "reduced_test = generate_features(reduced_test)\n",
    "reduced_test"
   ]
  },
  {
   "cell_type": "code",
   "execution_count": 45,
   "metadata": {},
   "outputs": [
    {
     "name": "stdout",
     "output_type": "stream",
     "text": [
      "Train set generated\n",
      "Test set generated\n"
     ]
    }
   ],
   "source": [
    "preprocessed_train = generate_features(preprocessed_train)\n",
    "print(\"Train set generated\")\n",
    "preprocessed_test = generate_features(preprocessed_test)\n",
    "print(\"Test set generated\")"
   ]
  },
  {
   "attachments": {},
   "cell_type": "markdown",
   "metadata": {},
   "source": [
    "## Logistic regression classifier"
   ]
  },
  {
   "cell_type": "code",
   "execution_count": 23,
   "metadata": {},
   "outputs": [],
   "source": [
    "import torch\n",
    "from torch import nn\n",
    "from sklearn.model_selection import train_test_split\n",
    "\n",
    "import matplotlib.pyplot as plt"
   ]
  },
  {
   "cell_type": "code",
   "execution_count": 68,
   "metadata": {},
   "outputs": [],
   "source": [
    "class LinearRegression(nn.Module):\n",
    "    \"\"\"A linear regression implementation\"\"\"\n",
    "\n",
    "    def __init__(self, input_dim: int, nb_classes: int) -> None:\n",
    "        \"\"\"\n",
    "        Args:\n",
    "            input_dim: the dimension of the input features.\n",
    "            nb_classes: the number of classes to predict.\n",
    "        \"\"\"\n",
    "        super().__init__()\n",
    "        self.linear = nn.Linear(input_dim, nb_classes)\n",
    "\n",
    "    def forward(self, x: torch.Tensor) -> torch.Tensor:\n",
    "        \"\"\"\n",
    "        Args:\n",
    "            x: the input tensor.\n",
    "        Returns:\n",
    "            The output of the linear layer.\n",
    "        \"\"\"\n",
    "        return self.linear(x)"
   ]
  },
  {
   "cell_type": "code",
   "execution_count": 69,
   "metadata": {},
   "outputs": [],
   "source": [
    "model = LinearRegression(6, 1)\n",
    "criterion = nn.BCEWithLogitsLoss()\n",
    "optimizer = torch.optim.SGD(model.parameters(), lr=0.01, weight_decay=0.5)"
   ]
  },
  {
   "attachments": {},
   "cell_type": "markdown",
   "metadata": {},
   "source": [
    "Split the data into training and test sets."
   ]
  },
  {
   "cell_type": "code",
   "execution_count": 62,
   "metadata": {},
   "outputs": [
    {
     "data": {
      "text/plain": [
       "(torch.Size([21250, 6]),\n",
       " torch.Size([3750, 6]),\n",
       " torch.Size([21250, 1]),\n",
       " torch.Size([3750, 1]))"
      ]
     },
     "execution_count": 62,
     "metadata": {},
     "output_type": "execute_result"
    }
   ],
   "source": [
    "features_train = preprocessed_train[\"feature_vector\"]\n",
    "# convert to numpy array 2d\n",
    "features_train = np.array(features_train.to_list())\n",
    "labels_train = preprocessed_train[\"class\"].to_numpy()\n",
    "\n",
    "features_train = torch.tensor(features_train, dtype=torch.float32)\n",
    "labels_train = torch.tensor(labels_train, dtype=torch.float32).reshape(-1, 1)\n",
    "\n",
    "X_train, X_valid, y_train, y_valid = train_test_split(\n",
    "    features_train,\n",
    "    labels_train,\n",
    "    test_size=0.15,\n",
    "    stratify=labels_train,\n",
    "    random_state=42,\n",
    ")\n",
    "\n",
    "X_train.shape, X_valid.shape, y_train.shape, y_valid.shape"
   ]
  },
  {
   "cell_type": "code",
   "execution_count": 63,
   "metadata": {},
   "outputs": [
    {
     "data": {
      "text/plain": [
       "(torch.Size([25000, 6]), torch.Size([25000, 1]))"
      ]
     },
     "execution_count": 63,
     "metadata": {},
     "output_type": "execute_result"
    }
   ],
   "source": [
    "# Let's do the same feature engineering for the test set\n",
    "features_test = preprocessed_test[\"feature_vector\"]\n",
    "features_test = np.array(features_test.to_list())\n",
    "X_test = torch.tensor(features_test, dtype=torch.float32)\n",
    "\n",
    "labels_test = preprocessed_test[\"class\"].to_numpy()\n",
    "y_test = torch.tensor(labels_test, dtype=torch.float32).reshape(-1, 1)\n",
    "\n",
    "X_test.shape, y_test.shape"
   ]
  },
  {
   "cell_type": "code",
   "execution_count": 70,
   "metadata": {},
   "outputs": [
    {
     "name": "stdout",
     "output_type": "stream",
     "text": [
      "tensor(2.8912, grad_fn=<BinaryCrossEntropyWithLogitsBackward0>)\n",
      "tensor(0.5868, grad_fn=<BinaryCrossEntropyWithLogitsBackward0>)\n",
      "tensor(0.5859, grad_fn=<BinaryCrossEntropyWithLogitsBackward0>)\n",
      "tensor(0.5853, grad_fn=<BinaryCrossEntropyWithLogitsBackward0>)\n",
      "tensor(0.5850, grad_fn=<BinaryCrossEntropyWithLogitsBackward0>)\n",
      "tensor(0.5849, grad_fn=<BinaryCrossEntropyWithLogitsBackward0>)\n",
      "tensor(0.5848, grad_fn=<BinaryCrossEntropyWithLogitsBackward0>)\n",
      "tensor(0.5848, grad_fn=<BinaryCrossEntropyWithLogitsBackward0>)\n",
      "tensor(0.5848, grad_fn=<BinaryCrossEntropyWithLogitsBackward0>)\n",
      "tensor(0.5848, grad_fn=<BinaryCrossEntropyWithLogitsBackward0>)\n",
      "CPU times: user 680 ms, sys: 176 ms, total: 856 ms\n",
      "Wall time: 597 ms\n"
     ]
    }
   ],
   "source": [
    "%%time\n",
    "\n",
    "n_epochs = 1000\n",
    "\n",
    "# Keeping an eye on the losses\n",
    "train_losses = []\n",
    "test_losses = []\n",
    "\n",
    "# Training loop\n",
    "for epoch in range(n_epochs):\n",
    "    # Setting all gradients to zero.\n",
    "    optimizer.zero_grad()\n",
    "\n",
    "    # Sending the whole training set through the model.\n",
    "    predictions = model(X_train)\n",
    "    # Computing the loss.\n",
    "    loss = criterion(predictions, y_train)\n",
    "    train_losses.append(loss.item())\n",
    "    if epoch % 100 == 0:\n",
    "        print(loss)\n",
    "    # Computing the gradients and gradient descent.\n",
    "    loss.backward()\n",
    "    optimizer.step()\n",
    "\n",
    "    # When computing the validation loss, we do not want to update the weights.\n",
    "    # torch.no_grad tells PyTorch to not save the necessary data used for\n",
    "    # gradient descent.\n",
    "    with torch.no_grad():\n",
    "        predictions = model(X_valid)\n",
    "        loss = criterion(predictions, y_valid)\n",
    "        test_losses.append(loss)"
   ]
  },
  {
   "cell_type": "code",
   "execution_count": 71,
   "metadata": {},
   "outputs": [
    {
     "data": {
      "text/plain": [
       "<matplotlib.legend.Legend at 0x28828af10>"
      ]
     },
     "execution_count": 71,
     "metadata": {},
     "output_type": "execute_result"
    },
    {
     "data": {
      "image/png": "[encoded data removed]",
      "text/plain": [
       "<Figure size 640x480 with 1 Axes>"
      ]
     },
     "metadata": {},
     "output_type": "display_data"
    }
   ],
   "source": [
    "plt.plot(np.arange(len(train_losses)), train_losses, label=\"Training loss\")\n",
    "plt.plot(np.arange(len(test_losses)), test_losses, label=\"Test loss\")\n",
    "plt.legend()"
   ]
  },
  {
   "cell_type": "code",
   "execution_count": 72,
   "metadata": {},
   "outputs": [
    {
     "name": "stdout",
     "output_type": "stream",
     "text": [
      "0.7152 0.7 0.71408\n"
     ]
    }
   ],
   "source": [
    "with torch.no_grad():\n",
    "    p_train = torch.sigmoid(model(X_train))\n",
    "    p_train = np.round(p_train.numpy())\n",
    "    training_accuracy = np.mean(p_train == y_train.numpy())\n",
    "    p_valid = torch.sigmoid(model(X_valid))\n",
    "    p_valid = np.round(p_valid.numpy())\n",
    "    valid_accuracy = np.mean(p_valid == y_valid.numpy())\n",
    "    p_test = torch.sigmoid(model(X_test))\n",
    "    p_test = np.round(p_test.numpy())\n",
    "    test_accuracy = np.mean(p_test == y_test.numpy())\n",
    "print(training_accuracy, valid_accuracy, test_accuracy)"
   ]
  },
  {
   "cell_type": "code",
   "execution_count": 77,
   "metadata": {},
   "outputs": [
    {
     "name": "stdout",
     "output_type": "stream",
     "text": [
      "[[-0.02932489 -0.02839465 -0.00931369 -0.02108636  0.12831183 -0.15112449]]\n",
      "4\n"
     ]
    }
   ],
   "source": [
    "# Look at the weights of your classifier. Which features seems to play most for both classes ?\n",
    "\n",
    "# Let's look at the weights of the linear layer\n",
    "weights = model.linear.weight.detach().numpy()\n",
    "print(weights)\n",
    "print(np.argmax(weights))"
   ]
  },
  {
   "attachments": {},
   "cell_type": "markdown",
   "metadata": {},
   "source": [
    "The feature playing the most important role in the classification is the number of words in the document which are in the positive lexicon. This is not surprising as the positive lexicon contains words such as \"good\", \"great\", \"excellent\", etc. which are very indicative of a positive review."
   ]
  },
  {
   "cell_type": "code",
   "execution_count": 91,
   "metadata": {},
   "outputs": [
    {
     "name": "stdout",
     "output_type": "stream",
     "text": [
      "[    4     6    11 ... 24991 24998 24999]\n",
      "first off let me say  if you haven't enjoyed a van damme movie since bloodsport  you probably will not like this movie  most of these movies may not have the best plots or best actors but i enjoy these kinds of movies for what they are  this movie is much better than any of the movies the other action guys  segal and dolph  have thought about putting out the past few years  van damme is good in the movie  the movie is only worth watching to van damme fans  it is not as good as wake of death  which i highly recommend to anyone of likes van damme  or in hell but  in my opinion it's worth watching  it has the same type of feel to it as nowhere to run  good fun stuff!\n",
      "document          first off let me say  if you haven't enjoyed a...\n",
      "class                                                             0\n",
      "feature_vector                  [0, 6, 1, 4.997212273764115, 12, 2]\n",
      "Name: 4, dtype: object\n",
      "isaac florentine has made some of the best western martial arts action movies ever produced  in particular us seals 2  cold harvest  special forces and undisputed 2 are all action classics  you can tell isaac has a real passion for the genre and his films are always eventful  creative and sharp affairs  with some of the best fight sequences an action fan could hope for  in particular he has found a muse with scott adkins  as talented an actor and action performer as you could hope for  this is borne out with special forces and undisputed 2  but unfortunately the shepherd just doesn't live up to their abilities there is no doubt that jcvd looks better here fight-wise than he has done in years  especially in the fight he has  for pretty much no reason  in a prison cell  and in the final showdown with scott  but look in his eyes  jcvd seems to be dead inside  there's nothing in his eyes at all  it's like he just doesn't care about anything throughout the whole film  and this is the leading man there are other dodgy aspects to the film  script-wise and visually  but the main problem is that you are utterly unable to empathise with the hero of the film  a genuine shame as i know we all wanted this film to be as special as it genuinely could have been  there are some good bits  mostly the action scenes themselves  this film had a terrific director and action choreographer  and an awesome opponent for jcvd to face down  this could have been the one to bring the veteran action star back up to scratch in the balls-out action movie stakes sincerely a shame that this didn't happen \n",
      "document          isaac florentine has made some of the best wes...\n",
      "class                                                             0\n",
      "feature_vector                  [1, 6, 0, 5.75890177387728, 21, 11]\n",
      "Name: 6, dtype: object\n"
     ]
    }
   ],
   "source": [
    "# Take two wrongly classified samples in the test set and try explaining why the model was wrong.\n",
    "\n",
    "# Let's look at the wrongly classified samples\n",
    "wrongly_classified = np.where(p_test != y_test.numpy())[0]\n",
    "print(wrongly_classified)\n",
    "\n",
    "# Let's look at the first wrongly classified sample\n",
    "print(preprocessed_test.iloc[wrongly_classified[0]][\"document\"], preprocessed_test.iloc[wrongly_classified[0]], sep=\"\\n\")\n",
    "\n",
    "# Let's look at the second wrongly classified sample\n",
    "print(preprocessed_test.iloc[wrongly_classified[1]][\"document\"], preprocessed_test.iloc[wrongly_classified[1]], sep=\"\\n\")"
   ]
  },
  {
   "attachments": {},
   "cell_type": "markdown",
   "metadata": {},
   "source": [
    "These wrondly classified examples are mostly positive reviews which are classified as negative. This is surely because they are really hard to classify, mixing positive and negative parts. In the first one: 'if you haven't enjoyed a van damme movie since bloodsport you probably will not like this movie' is negative when read on its own, but positive when read in the context of the whole review. The second one also contains negative or mixed parts inside the whole review, which is very confusing for the classifier."
   ]
  }
 ],
 "metadata": {
  "kernelspec": {
   "display_name": ".venv",
   "language": "python",
   "name": "python3"
  },
  "language_info": {
   "codemirror_mode": {
    "name": "ipython",
    "version": 3
   },
   "file_extension": ".py",
   "mimetype": "text/x-python",
   "name": "python",
   "nbconvert_exporter": "python",
   "pygments_lexer": "ipython3",
   "version": "3.9.6"
  },
  "orig_nbformat": 4
 },
 "nbformat": 4,
 "nbformat_minor": 2
}
