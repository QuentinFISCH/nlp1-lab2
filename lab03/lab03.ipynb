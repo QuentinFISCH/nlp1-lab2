{
 "cells": [
  {
   "cell_type": "code",
   "execution_count": 1,
   "metadata": {},
   "outputs": [
    {
     "name": "stderr",
     "output_type": "stream",
     "text": [
      "/Users/quentinfisch/Documents/EPITA/ING2/SCIA/S8/NLP1/.venv/lib/python3.9/site-packages/tqdm/auto.py:21: TqdmWarning: IProgress not found. Please update jupyter and ipywidgets. See https://ipywidgets.readthedocs.io/en/stable/user_install.html\n",
      "  from .autonotebook import tqdm as notebook_tqdm\n"
     ]
    }
   ],
   "source": [
    "from datasets import load_dataset\n",
    "import pandas as pd\n",
    "import numpy as np"
   ]
  },
  {
   "cell_type": "code",
   "execution_count": 2,
   "metadata": {},
   "outputs": [
    {
     "name": "stderr",
     "output_type": "stream",
     "text": [
      "Found cached dataset imdb (/Users/quentinfisch/.cache/huggingface/datasets/imdb/plain_text/1.0.0/d613c88cf8fa3bab83b4ded3713f1f74830d1100e171db75bbddb80b3345c9c0)\n",
      "100%|██████████| 3/3 [00:00<00:00, 128.00it/s]\n"
     ]
    },
    {
     "data": {
      "text/plain": [
       "DatasetDict({\n",
       "    train: Dataset({\n",
       "        features: ['text', 'label'],\n",
       "        num_rows: 25000\n",
       "    })\n",
       "    test: Dataset({\n",
       "        features: ['text', 'label'],\n",
       "        num_rows: 25000\n",
       "    })\n",
       "    unsupervised: Dataset({\n",
       "        features: ['text', 'label'],\n",
       "        num_rows: 50000\n",
       "    })\n",
       "})"
      ]
     },
     "execution_count": 2,
     "metadata": {},
     "output_type": "execute_result"
    }
   ],
   "source": [
    "dataset = load_dataset(\"imdb\")\n",
    "dataset"
   ]
  },
  {
   "attachments": {},
   "cell_type": "markdown",
   "metadata": {},
   "source": [
    "## Features"
   ]
  },
  {
   "attachments": {},
   "cell_type": "markdown",
   "metadata": {},
   "source": [
    "### Preprocessing"
   ]
  },
  {
   "cell_type": "code",
   "execution_count": 3,
   "metadata": {},
   "outputs": [],
   "source": [
    "from string import punctuation\n",
    "import re\n",
    "\n",
    "def preprocess(df: pd.DataFrame) -> pd.DataFrame :\n",
    "    \"\"\"\n",
    "    Preprocess the dataset by lowercasing the text and removing the punctuation manually\n",
    "\n",
    "    Parameters\n",
    "    ----------\n",
    "    df : pd.DataFrame\n",
    "        The dataset to preprocess\n",
    "\n",
    "    Returns\n",
    "    -------\n",
    "    pd.DataFrame\n",
    "        The preprocessed dataset\n",
    "    \"\"\"\n",
    "    # First lower the case\n",
    "    df[\"document\"] = df[\"document\"].apply(lambda x: x.lower())\n",
    "    # Replace the punctuation with spaces. We keep the ' - that may give revelant informations\n",
    "    # Replace HTML tag <br />\n",
    "    punctuation_to_remove = '|'.join(map(re.escape, sorted(list(filter(lambda p: p != \"'\" and p != '-' and p != \"!\", punctuation)), reverse=True)))\n",
    "    print(f\"Deleting all these punctuation: {punctuation_to_remove}\")\n",
    "    df[\"document\"] = df[\"document\"].apply(lambda x: re.sub(punctuation_to_remove, \" \", x.replace('<br />', \"\")))\n",
    "    # Remove the multiple spaces\n",
    "    df[\"document\"] = df[\"document\"].apply(lambda x: re.sub(' +', ' ', x))\n",
    "    # Remove the leading and trailing whitespaces\n",
    "    df[\"document\"] = df[\"document\"].apply(lambda x: x.strip())\n",
    "    return df"
   ]
  },
  {
   "cell_type": "code",
   "execution_count": 4,
   "metadata": {},
   "outputs": [
    {
     "name": "stdout",
     "output_type": "stream",
     "text": [
      "Deleting all these punctuation: \\~|\\}|\\||\\{|`|_|\\^|\\]|\\\\|\\[|@|\\?|>|=|<|;|:|/|\\.|,|\\+|\\*|\\)|\\(|\\&|%|\\$|\\#|\"\n",
      "Deleting all these punctuation: \\~|\\}|\\||\\{|`|_|\\^|\\]|\\\\|\\[|@|\\?|>|=|<|;|:|/|\\.|,|\\+|\\*|\\)|\\(|\\&|%|\\$|\\#|\"\n"
     ]
    },
    {
     "data": {
      "text/plain": [
       "(                                            document  class\n",
       " 0  i rented i am curious-yellow from my video sto...      0\n",
       " 1  i am curious yellow is a risible and pretentio...      0\n",
       " 2  if only to avoid making this type of film in t...      0\n",
       " 3  this film was probably inspired by godard's ma...      0\n",
       " 4  oh brother after hearing about this ridiculous...      0,\n",
       "                                             document  class\n",
       " 0  i love sci-fi and am willing to put up with a ...      0\n",
       " 1  worth the entertainment value of a rental espe...      0\n",
       " 2  its a totally average film with a few semi-alr...      0\n",
       " 3  star rating saturday night friday night friday...      0\n",
       " 4  first off let me say if you haven't enjoyed a ...      0)"
      ]
     },
     "execution_count": 4,
     "metadata": {},
     "output_type": "execute_result"
    }
   ],
   "source": [
    "train_raw = pd.DataFrame(dataset[\"train\"], columns=[\"text\", \"label\"]).rename(columns={\"text\": \"document\", \"label\": \"class\"})\n",
    "preprocessed_train = preprocess(train_raw)\n",
    "test_raw = pd.DataFrame(dataset[\"test\"], columns=[\"text\", \"label\"]).rename(columns={\"text\": \"document\", \"label\": \"class\"})\n",
    "preprocessed_test = preprocess(test_raw)\n",
    "preprocessed_train.head(), preprocessed_test.head()"
   ]
  },
  {
   "attachments": {},
   "cell_type": "markdown",
   "metadata": {},
   "source": [
    "Load lexicon and keep only interesting tokens (one above the treshold)"
   ]
  },
  {
   "cell_type": "code",
   "execution_count": 5,
   "metadata": {},
   "outputs": [
    {
     "data": {
      "text/html": [
       "<div>\n",
       "<style scoped>\n",
       "    .dataframe tbody tr th:only-of-type {\n",
       "        vertical-align: middle;\n",
       "    }\n",
       "\n",
       "    .dataframe tbody tr th {\n",
       "        vertical-align: top;\n",
       "    }\n",
       "\n",
       "    .dataframe thead th {\n",
       "        text-align: right;\n",
       "    }\n",
       "</style>\n",
       "<table border=\"1\" class=\"dataframe\">\n",
       "  <thead>\n",
       "    <tr style=\"text-align: right;\">\n",
       "      <th></th>\n",
       "      <th>Score</th>\n",
       "    </tr>\n",
       "    <tr>\n",
       "      <th>Token</th>\n",
       "      <th></th>\n",
       "    </tr>\n",
       "  </thead>\n",
       "  <tbody>\n",
       "    <tr>\n",
       "      <th>$:</th>\n",
       "      <td>-1.5</td>\n",
       "    </tr>\n",
       "    <tr>\n",
       "      <th>%-)</th>\n",
       "      <td>-1.5</td>\n",
       "    </tr>\n",
       "    <tr>\n",
       "      <th>( '}{' )</th>\n",
       "      <td>1.6</td>\n",
       "    </tr>\n",
       "    <tr>\n",
       "      <th>('-:</th>\n",
       "      <td>2.2</td>\n",
       "    </tr>\n",
       "    <tr>\n",
       "      <th>(':</th>\n",
       "      <td>2.3</td>\n",
       "    </tr>\n",
       "    <tr>\n",
       "      <th>...</th>\n",
       "      <td>...</td>\n",
       "    </tr>\n",
       "    <tr>\n",
       "      <th>|^:</th>\n",
       "      <td>-1.1</td>\n",
       "    </tr>\n",
       "    <tr>\n",
       "      <th>||-:</th>\n",
       "      <td>-2.3</td>\n",
       "    </tr>\n",
       "    <tr>\n",
       "      <th>}:</th>\n",
       "      <td>-2.1</td>\n",
       "    </tr>\n",
       "    <tr>\n",
       "      <th>}:(</th>\n",
       "      <td>-2.0</td>\n",
       "    </tr>\n",
       "    <tr>\n",
       "      <th>}:-(</th>\n",
       "      <td>-2.1</td>\n",
       "    </tr>\n",
       "  </tbody>\n",
       "</table>\n",
       "<p>5830 rows × 1 columns</p>\n",
       "</div>"
      ],
      "text/plain": [
       "          Score\n",
       "Token          \n",
       "$:         -1.5\n",
       "%-)        -1.5\n",
       "( '}{' )    1.6\n",
       "('-:        2.2\n",
       "(':         2.3\n",
       "...         ...\n",
       "|^:        -1.1\n",
       "||-:       -2.3\n",
       "}:         -2.1\n",
       "}:(        -2.0\n",
       "}:-(       -2.1\n",
       "\n",
       "[5830 rows x 1 columns]"
      ]
     },
     "execution_count": 5,
     "metadata": {},
     "output_type": "execute_result"
    }
   ],
   "source": [
    "threshold = 1\n",
    "lexicon = pd.read_csv(\"vader_lexicon.txt\", sep=\"\\t\", names=['Token', \"Score\", \"Std\", \"Vector\"]).drop(columns=[\"Std\", \"Vector\"]).set_index(\"Token\")\n",
    "lexicon = lexicon[(lexicon[\"Score\"] <= -threshold) | (lexicon[\"Score\"] >= threshold)]\n",
    "lexicon"
   ]
  },
  {
   "attachments": {},
   "cell_type": "markdown",
   "metadata": {},
   "source": [
    "Generate the following features:\n",
    "- 1 if \"no\" appears in the document, 0 otherwise.\n",
    "- The count of first and second pronouns in the document.\n",
    "- 1 if \"!\" is in the document, 0 otherwise.\n",
    "- Log(word count in the document).\n",
    "- Number of words in the document which are in the positive lexicon.\n",
    "- Number of words in the document which are in the negative lexicon.\n",
    "- [Bonus] Add another feature of your choice."
   ]
  },
  {
   "cell_type": "code",
   "execution_count": 6,
   "metadata": {},
   "outputs": [],
   "source": [
    "def is_in_lexicon(word: str, positive: bool):\n",
    "    try:\n",
    "        score = lexicon.at[word, \"Score\"].item()\n",
    "        return score >= threshold if positive else score <= -threshold\n",
    "    except:\n",
    "        return False\n",
    "\n",
    "def generate_features(dataset: pd.DataFrame) -> pd.DataFrame :\n",
    "    \"\"\"\n",
    "    Generate the features for the dataset\n",
    "\n",
    "    Parameters\n",
    "    ----------\n",
    "    dataset : pd.DataFrame\n",
    "        The dataset to generate the features for\n",
    "\n",
    "    Returns\n",
    "    -------\n",
    "    pd.DataFrame\n",
    "        The dataset with the features\n",
    "    \"\"\"\n",
    "    dataset[\"no\"] = dataset[\"document\"].apply(lambda x: 1 if \"no\" in x.split(\" \") else 0)\n",
    "    dataset[\"pronouns\"] = dataset[\"document\"].apply(lambda x: x.split(\" \")).apply(lambda x: x.count(\"i\") + x.count(\"we\") + x.count(\"you\"))\n",
    "    dataset[\"exclamation\"] = dataset[\"document\"].apply(lambda x: 1 if \"!\" in x else 0)\n",
    "    dataset[\"log_word_count\"] = dataset[\"document\"].apply(lambda x: np.log(len(x.split(\" \"))))\n",
    "    dataset[\"positive_lexicon\"] = dataset[\"document\"].apply(lambda x: len(list(filter(lambda w: is_in_lexicon(w, True), x.split(\" \")))))\n",
    "    dataset[\"negative_lexicon\"] = dataset[\"document\"].apply(lambda x: len(list(filter(lambda w: is_in_lexicon(w, False), x.split(\" \")))))\n",
    "\n",
    "    # add feature vector column\n",
    "    dataset[\"feature_vector\"] = dataset.apply(lambda x: [x[\"no\"], x[\"pronouns\"], x[\"exclamation\"], x[\"log_word_count\"], x[\"positive_lexicon\"], x[\"negative_lexicon\"]], axis=1)\n",
    "    # drop the other columns\n",
    "    dataset = dataset.drop(columns=[\"no\", \"pronouns\", \"exclamation\", \"log_word_count\", \"positive_lexicon\", \"negative_lexicon\"])\n",
    "\n",
    "    return dataset"
   ]
  },
  {
   "cell_type": "code",
   "execution_count": 7,
   "metadata": {},
   "outputs": [
    {
     "data": {
      "text/html": [
       "<div>\n",
       "<style scoped>\n",
       "    .dataframe tbody tr th:only-of-type {\n",
       "        vertical-align: middle;\n",
       "    }\n",
       "\n",
       "    .dataframe tbody tr th {\n",
       "        vertical-align: top;\n",
       "    }\n",
       "\n",
       "    .dataframe thead th {\n",
       "        text-align: right;\n",
       "    }\n",
       "</style>\n",
       "<table border=\"1\" class=\"dataframe\">\n",
       "  <thead>\n",
       "    <tr style=\"text-align: right;\">\n",
       "      <th></th>\n",
       "      <th>document</th>\n",
       "      <th>class</th>\n",
       "      <th>feature_vector</th>\n",
       "    </tr>\n",
       "  </thead>\n",
       "  <tbody>\n",
       "    <tr>\n",
       "      <th>0</th>\n",
       "      <td>i rented i am curious-yellow from my video sto...</td>\n",
       "      <td>0</td>\n",
       "      <td>[1, 7, 0, 5.655991810819852, 7, 6]</td>\n",
       "    </tr>\n",
       "    <tr>\n",
       "      <th>10</th>\n",
       "      <td>it was great to see some of my favorite stars ...</td>\n",
       "      <td>0</td>\n",
       "      <td>[1, 7, 0, 5.552959584921617, 14, 4]</td>\n",
       "    </tr>\n",
       "    <tr>\n",
       "      <th>20</th>\n",
       "      <td>if the crew behind zombie chronicles ever read...</td>\n",
       "      <td>0</td>\n",
       "      <td>[1, 7, 0, 5.135798437050262, 9, 2]</td>\n",
       "    </tr>\n",
       "    <tr>\n",
       "      <th>30</th>\n",
       "      <td>i have not seen many low budget films i must a...</td>\n",
       "      <td>0</td>\n",
       "      <td>[0, 6, 0, 5.123963979403259, 8, 7]</td>\n",
       "    </tr>\n",
       "    <tr>\n",
       "      <th>40</th>\n",
       "      <td>i have read all of the love come softly books ...</td>\n",
       "      <td>0</td>\n",
       "      <td>[0, 5, 0, 4.912654885736052, 5, 3]</td>\n",
       "    </tr>\n",
       "    <tr>\n",
       "      <th>...</th>\n",
       "      <td>...</td>\n",
       "      <td>...</td>\n",
       "      <td>...</td>\n",
       "    </tr>\n",
       "    <tr>\n",
       "      <th>24950</th>\n",
       "      <td>i definitely recommend reading the book prior ...</td>\n",
       "      <td>1</td>\n",
       "      <td>[0, 5, 1, 5.634789603169249, 14, 3]</td>\n",
       "    </tr>\n",
       "    <tr>\n",
       "      <th>24960</th>\n",
       "      <td>i used to watch this show when i was a little ...</td>\n",
       "      <td>1</td>\n",
       "      <td>[0, 12, 0, 4.990432586778736, 9, 0]</td>\n",
       "    </tr>\n",
       "    <tr>\n",
       "      <th>24970</th>\n",
       "      <td>i've seen this movie and i must say i'm very i...</td>\n",
       "      <td>1</td>\n",
       "      <td>[0, 11, 0, 4.919980925828125, 13, 2]</td>\n",
       "    </tr>\n",
       "    <tr>\n",
       "      <th>24980</th>\n",
       "      <td>i was pleased to see that she had black hair! ...</td>\n",
       "      <td>1</td>\n",
       "      <td>[0, 8, 1, 5.003946305945459, 9, 3]</td>\n",
       "    </tr>\n",
       "    <tr>\n",
       "      <th>24990</th>\n",
       "      <td>like i said its a hidden surprise it well writ...</td>\n",
       "      <td>1</td>\n",
       "      <td>[0, 3, 0, 4.02535169073515, 9, 0]</td>\n",
       "    </tr>\n",
       "  </tbody>\n",
       "</table>\n",
       "<p>2500 rows × 3 columns</p>\n",
       "</div>"
      ],
      "text/plain": [
       "                                                document  class  \\\n",
       "0      i rented i am curious-yellow from my video sto...      0   \n",
       "10     it was great to see some of my favorite stars ...      0   \n",
       "20     if the crew behind zombie chronicles ever read...      0   \n",
       "30     i have not seen many low budget films i must a...      0   \n",
       "40     i have read all of the love come softly books ...      0   \n",
       "...                                                  ...    ...   \n",
       "24950  i definitely recommend reading the book prior ...      1   \n",
       "24960  i used to watch this show when i was a little ...      1   \n",
       "24970  i've seen this movie and i must say i'm very i...      1   \n",
       "24980  i was pleased to see that she had black hair! ...      1   \n",
       "24990  like i said its a hidden surprise it well writ...      1   \n",
       "\n",
       "                             feature_vector  \n",
       "0        [1, 7, 0, 5.655991810819852, 7, 6]  \n",
       "10      [1, 7, 0, 5.552959584921617, 14, 4]  \n",
       "20       [1, 7, 0, 5.135798437050262, 9, 2]  \n",
       "30       [0, 6, 0, 5.123963979403259, 8, 7]  \n",
       "40       [0, 5, 0, 4.912654885736052, 5, 3]  \n",
       "...                                     ...  \n",
       "24950   [0, 5, 1, 5.634789603169249, 14, 3]  \n",
       "24960   [0, 12, 0, 4.990432586778736, 9, 0]  \n",
       "24970  [0, 11, 0, 4.919980925828125, 13, 2]  \n",
       "24980    [0, 8, 1, 5.003946305945459, 9, 3]  \n",
       "24990     [0, 3, 0, 4.02535169073515, 9, 0]  \n",
       "\n",
       "[2500 rows x 3 columns]"
      ]
     },
     "execution_count": 7,
     "metadata": {},
     "output_type": "execute_result"
    }
   ],
   "source": [
    "reduced_train = preprocessed_train.iloc[::10].copy()\n",
    "reduced_train = generate_features(reduced_train)\n",
    "reduced_train"
   ]
  },
  {
   "cell_type": "code",
   "execution_count": 14,
   "metadata": {},
   "outputs": [
    {
     "data": {
      "text/html": [
       "<div>\n",
       "<style scoped>\n",
       "    .dataframe tbody tr th:only-of-type {\n",
       "        vertical-align: middle;\n",
       "    }\n",
       "\n",
       "    .dataframe tbody tr th {\n",
       "        vertical-align: top;\n",
       "    }\n",
       "\n",
       "    .dataframe thead th {\n",
       "        text-align: right;\n",
       "    }\n",
       "</style>\n",
       "<table border=\"1\" class=\"dataframe\">\n",
       "  <thead>\n",
       "    <tr style=\"text-align: right;\">\n",
       "      <th></th>\n",
       "      <th>document</th>\n",
       "      <th>class</th>\n",
       "      <th>feature_vector</th>\n",
       "    </tr>\n",
       "  </thead>\n",
       "  <tbody>\n",
       "    <tr>\n",
       "      <th>0</th>\n",
       "      <td>i love sci-fi and am willing to put up with a ...</td>\n",
       "      <td>0</td>\n",
       "      <td>[0, 5, 1, 5.62040086571715, 9, 8]</td>\n",
       "    </tr>\n",
       "    <tr>\n",
       "      <th>10</th>\n",
       "      <td>this flick is a waste of time i expect from an...</td>\n",
       "      <td>0</td>\n",
       "      <td>[1, 1, 0, 4.948759890378168, 3, 12]</td>\n",
       "    </tr>\n",
       "    <tr>\n",
       "      <th>20</th>\n",
       "      <td>low budget horror movie  if you don't raise yo...</td>\n",
       "      <td>0</td>\n",
       "      <td>[0, 6, 1, 5.225746673713202, 10, 7]</td>\n",
       "    </tr>\n",
       "    <tr>\n",
       "      <th>30</th>\n",
       "      <td>lowe returns to the nest after  yet another  f...</td>\n",
       "      <td>0</td>\n",
       "      <td>[0, 4, 1, 5.459585514144159, 8, 9]</td>\n",
       "    </tr>\n",
       "    <tr>\n",
       "      <th>40</th>\n",
       "      <td>i can't believe the high marks people have giv...</td>\n",
       "      <td>0</td>\n",
       "      <td>[0, 6, 1, 5.6240175061873385, 8, 9]</td>\n",
       "    </tr>\n",
       "    <tr>\n",
       "      <th>...</th>\n",
       "      <td>...</td>\n",
       "      <td>...</td>\n",
       "      <td>...</td>\n",
       "    </tr>\n",
       "    <tr>\n",
       "      <th>24950</th>\n",
       "      <td>especially by lambert  this is the essential...</td>\n",
       "      <td>1</td>\n",
       "      <td>[0, 8, 0, 5.10594547390058, 8, 3]</td>\n",
       "    </tr>\n",
       "    <tr>\n",
       "      <th>24960</th>\n",
       "      <td>watch it with an open mind  it is very differe...</td>\n",
       "      <td>1</td>\n",
       "      <td>[0, 1, 0, 4.02535169073515, 4, 0]</td>\n",
       "    </tr>\n",
       "    <tr>\n",
       "      <th>24970</th>\n",
       "      <td>slipknot is a heavy metal band from the great ...</td>\n",
       "      <td>1</td>\n",
       "      <td>[0, 8, 0, 5.117993812416755, 6, 1]</td>\n",
       "    </tr>\n",
       "    <tr>\n",
       "      <th>24980</th>\n",
       "      <td>this film is just plain lovely  it's funny as ...</td>\n",
       "      <td>1</td>\n",
       "      <td>[0, 3, 1, 4.912654885736052, 5, 2]</td>\n",
       "    </tr>\n",
       "    <tr>\n",
       "      <th>24990</th>\n",
       "      <td>i first saw this on demand  or on tv  i'm not ...</td>\n",
       "      <td>1</td>\n",
       "      <td>[0, 9, 1, 4.969813299576001, 10, 0]</td>\n",
       "    </tr>\n",
       "  </tbody>\n",
       "</table>\n",
       "<p>2500 rows × 3 columns</p>\n",
       "</div>"
      ],
      "text/plain": [
       "                                                document  class  \\\n",
       "0      i love sci-fi and am willing to put up with a ...      0   \n",
       "10     this flick is a waste of time i expect from an...      0   \n",
       "20     low budget horror movie  if you don't raise yo...      0   \n",
       "30     lowe returns to the nest after  yet another  f...      0   \n",
       "40     i can't believe the high marks people have giv...      0   \n",
       "...                                                  ...    ...   \n",
       "24950    especially by lambert  this is the essential...      1   \n",
       "24960  watch it with an open mind  it is very differe...      1   \n",
       "24970  slipknot is a heavy metal band from the great ...      1   \n",
       "24980  this film is just plain lovely  it's funny as ...      1   \n",
       "24990  i first saw this on demand  or on tv  i'm not ...      1   \n",
       "\n",
       "                            feature_vector  \n",
       "0        [0, 5, 1, 5.62040086571715, 9, 8]  \n",
       "10     [1, 1, 0, 4.948759890378168, 3, 12]  \n",
       "20     [0, 6, 1, 5.225746673713202, 10, 7]  \n",
       "30      [0, 4, 1, 5.459585514144159, 8, 9]  \n",
       "40     [0, 6, 1, 5.6240175061873385, 8, 9]  \n",
       "...                                    ...  \n",
       "24950    [0, 8, 0, 5.10594547390058, 8, 3]  \n",
       "24960    [0, 1, 0, 4.02535169073515, 4, 0]  \n",
       "24970   [0, 8, 0, 5.117993812416755, 6, 1]  \n",
       "24980   [0, 3, 1, 4.912654885736052, 5, 2]  \n",
       "24990  [0, 9, 1, 4.969813299576001, 10, 0]  \n",
       "\n",
       "[2500 rows x 3 columns]"
      ]
     },
     "execution_count": 14,
     "metadata": {},
     "output_type": "execute_result"
    }
   ],
   "source": [
    "reduced_test = preprocessed_test.iloc[::10].copy()\n",
    "\n",
    "reduced_test = generate_features(reduced_test)\n",
    "reduced_test"
   ]
  },
  {
   "cell_type": "code",
   "execution_count": 7,
   "metadata": {},
   "outputs": [
    {
     "name": "stdout",
     "output_type": "stream",
     "text": [
      "Train set generated\n",
      "Test set generated\n"
     ]
    }
   ],
   "source": [
    "preprocessed_train = generate_features(preprocessed_train)\n",
    "print(\"Train set generated\")\n",
    "preprocessed_test = generate_features(preprocessed_test)\n",
    "print(\"Test set generated\")"
   ]
  },
  {
   "cell_type": "code",
   "execution_count": 3,
   "metadata": {},
   "outputs": [],
   "source": [
    "from abc import ABC, abstractmethod\n",
    "from string import punctuation\n",
    "import re\n",
    "\n",
    "class DatasetManager(ABC):\n",
    "    \"\"\"\n",
    "    Abstract class to manage the dataset\n",
    "    \n",
    "    Methods\n",
    "    -------\n",
    "    _raw_dataset(split: str) -> pd.DataFrame\n",
    "        Return the raw dataset as a pandas dataframe\n",
    "    preprocess(df: pd.DataFrame) -> pd.DataFrame\n",
    "        Preprocess the dataset by lowercasing the text and removing the punctuation manually\n",
    "    \"\"\"\n",
    "    @abstractmethod\n",
    "    def _raw_dataset(self, split: str) -> pd.DataFrame:\n",
    "        raise NotImplementedError()\n",
    "    \n",
    "    @abstractmethod\n",
    "    def preprocess(self, df: pd.DataFrame) -> pd.DataFrame :\n",
    "        raise NotImplementedError()\n",
    "    \n",
    "    @abstractmethod\n",
    "    def generate_features(self, dataset) :\n",
    "        raise NotImplementedError()\n",
    "\n",
    "\n",
    "class IMDBDataset(DatasetManager):\n",
    "    \"\"\"\n",
    "    Class to manage the IMDB dataset using Pandas\n",
    "\n",
    "    Parameters\n",
    "    ----------\n",
    "    dataset : dict\n",
    "        The dataset to manage\n",
    "\n",
    "    Attributes\n",
    "    ----------\n",
    "    dataset : dict\n",
    "        The dataset to manage\n",
    "    train_raw : pd.DataFrame\n",
    "        The raw train dataset\n",
    "    test_raw : pd.DataFrame\n",
    "        The raw test dataset\n",
    "    train : pd.DataFrame\n",
    "        The preprocessed train dataset\n",
    "    test : pd.DataFrame \n",
    "        The preprocessed test dataset\n",
    "    lexicon : pd.DataFrame\n",
    "        The lexicon used to generate the features\n",
    "    \"\"\"\n",
    "    def __init__(self, dataset: dict):\n",
    "        self.dataset = dataset\n",
    "        self.train_raw = self._raw_dataset(\"train\")\n",
    "        self.test_raw = self._raw_dataset(\"test\")\n",
    "        self.train = self.preprocess(self.train_raw)\n",
    "        self.test = self.preprocess(self.test_raw)\n",
    "    \n",
    "    def _raw_dataset(self, split: str) -> pd.DataFrame:\n",
    "        \"\"\"\n",
    "        Return the raw dataset as a pandas dataframe\n",
    "\n",
    "        Parameters\n",
    "        ----------\n",
    "        split : str\n",
    "            The split of the dataset to return\n",
    "\n",
    "        Returns\n",
    "        -------\n",
    "        pd.DataFrame\n",
    "            The raw dataset as a pandas dataframe\n",
    "        \"\"\"\n",
    "        return pd.DataFrame(dataset[split], columns=[\"text\", \"label\"]).rename(columns={\"text\": \"document\", \"label\": \"class\"})\n",
    "    \n",
    "    def preprocess(self, df: pd.DataFrame) -> pd.DataFrame :\n",
    "        \"\"\"\n",
    "        Preprocess the dataset by lowercasing the text and removing the punctuation manually\n",
    "\n",
    "        Parameters\n",
    "        ----------\n",
    "        df : pd.DataFrame\n",
    "            The dataset to preprocess\n",
    "\n",
    "        Returns\n",
    "        -------\n",
    "        pd.DataFrame\n",
    "            The preprocessed dataset\n",
    "        \"\"\"\n",
    "        # First lower the case\n",
    "        df[\"document\"] = df[\"document\"].apply(lambda x: x.lower())\n",
    "        # Replace the punctuation with spaces. We keep the ' - that may give revelant informations\n",
    "        # Replace HTML tag <br />\n",
    "        punctuation_to_remove = '|'.join(map(re.escape, sorted(list(filter(lambda p: p != \"'\" and p != '-' and p != \"!\", punctuation)), reverse=True)))\n",
    "        print(f\"Deleting all these punctuation: {punctuation_to_remove}\")\n",
    "        df[\"document\"] = df[\"document\"].apply(lambda x: re.sub(punctuation_to_remove, \" \", x.replace('<br />', \"\")))\n",
    "        # Remove the multiple spaces\n",
    "        df[\"document\"] = df[\"document\"].apply(lambda x: re.sub(' +', ' ', x))\n",
    "        # Remove the leading and trailing whitespaces\n",
    "        df[\"document\"] = df[\"document\"].apply(lambda x: x.strip())\n",
    "        return df\n",
    "\n",
    "    def add_lexicon(self, lexicon: pd.DataFrame, threshold: int = 1) -> None:\n",
    "        \"\"\"\n",
    "        Add the lexicon to the dataset\n",
    "\n",
    "        Parameters\n",
    "        ----------\n",
    "        lexicon : pd.DataFrame\n",
    "            The lexicon to add\n",
    "        threshold : int, optional\n",
    "            The threshold to use to add the lexicon, by default 1\n",
    "\n",
    "        Returns\n",
    "        -------\n",
    "        None\n",
    "        \"\"\"\n",
    "        self.lexicon = lexicon[(lexicon[\"Score\"] <= -threshold) | (lexicon[\"Score\"] >= threshold)]\n",
    "\n",
    "    def is_in_lexicon(self, word: str, positive: bool):\n",
    "        \"\"\"\n",
    "        Check if the word is in the lexicon\n",
    "\n",
    "        Parameters\n",
    "        ----------\n",
    "        word : str\n",
    "            The word to check\n",
    "        positive : bool\n",
    "            If the word should be positive or negative\n",
    "\n",
    "        Returns\n",
    "        -------\n",
    "        bool\n",
    "            True if the word is in the lexicon, False otherwise\n",
    "        \"\"\"\n",
    "        try:\n",
    "            score = lexicon.at[word, \"Score\"].item()\n",
    "            return score >= threshold if positive else score <= -threshold\n",
    "        except:\n",
    "            return False\n",
    "\n",
    "    def generate_features(self, df: pd.DataFrame) -> None :\n",
    "        \"\"\"\n",
    "        Generate the features for the dataset\n",
    "\n",
    "        Parameters\n",
    "        ----------\n",
    "        df : pd.DataFrame\n",
    "            The dataset to generate the features for\n",
    "        \"\"\"\n",
    "        df[\"no\"] = df[\"document\"].apply(lambda x: 1 if \"no\" in x.split(\" \") else 0)\n",
    "        df[\"pronouns\"] = df[\"document\"].apply(lambda x: x.split(\" \")).apply(lambda x: x.count(\"i\") + x.count(\"we\") + x.count(\"you\"))\n",
    "        df[\"exclamation\"] = df[\"document\"].apply(lambda x: 1 if \"!\" in x else 0)\n",
    "        df[\"log_word_count\"] = df[\"document\"].apply(lambda x: np.log(len(x.split(\" \"))))\n",
    "        df[\"positive_lexicon\"] = df[\"document\"].apply(lambda x: len(list(filter(lambda w: is_in_lexicon(w, True), x.split(\" \")))))\n",
    "        df[\"negative_lexicon\"] = df[\"document\"].apply(lambda x: len(list(filter(lambda w: is_in_lexicon(w, False), x.split(\" \")))))\n",
    "\n",
    "        # add feature vector column\n",
    "        df[\"feature_vector\"] = df.apply(lambda x: [x[\"no\"], x[\"pronouns\"], x[\"exclamation\"], x[\"log_word_count\"], x[\"positive_lexicon\"], x[\"negative_lexicon\"]], axis=1)\n",
    "        # drop the other columns\n",
    "        df = df.drop(columns=[\"no\", \"pronouns\", \"exclamation\", \"log_word_count\", \"positive_lexicon\", \"negative_lexicon\"])\n",
    "        return df"
   ]
  },
  {
   "cell_type": "code",
   "execution_count": 18,
   "metadata": {},
   "outputs": [
    {
     "name": "stdout",
     "output_type": "stream",
     "text": [
      "Deleting all these punctuation: \\~|\\}|\\||\\{|`|_|\\^|\\]|\\\\|\\[|@|\\?|>|=|<|;|:|/|\\.|,|\\+|\\*|\\)|\\(|\\&|%|\\$|\\#|\"\n",
      "Deleting all these punctuation: \\~|\\}|\\||\\{|`|_|\\^|\\]|\\\\|\\[|@|\\?|>|=|<|;|:|/|\\.|,|\\+|\\*|\\)|\\(|\\&|%|\\$|\\#|\"\n"
     ]
    },
    {
     "data": {
      "text/html": [
       "<div>\n",
       "<style scoped>\n",
       "    .dataframe tbody tr th:only-of-type {\n",
       "        vertical-align: middle;\n",
       "    }\n",
       "\n",
       "    .dataframe tbody tr th {\n",
       "        vertical-align: top;\n",
       "    }\n",
       "\n",
       "    .dataframe thead th {\n",
       "        text-align: right;\n",
       "    }\n",
       "</style>\n",
       "<table border=\"1\" class=\"dataframe\">\n",
       "  <thead>\n",
       "    <tr style=\"text-align: right;\">\n",
       "      <th></th>\n",
       "      <th>document</th>\n",
       "      <th>class</th>\n",
       "      <th>feature_vector</th>\n",
       "    </tr>\n",
       "  </thead>\n",
       "  <tbody>\n",
       "    <tr>\n",
       "      <th>0</th>\n",
       "      <td>i rented i am curious-yellow from my video sto...</td>\n",
       "      <td>0</td>\n",
       "      <td>[1, 7, 0, 5.655991810819852, 7, 6]</td>\n",
       "    </tr>\n",
       "    <tr>\n",
       "      <th>1</th>\n",
       "      <td>i am curious yellow is a risible and pretentio...</td>\n",
       "      <td>0</td>\n",
       "      <td>[1, 2, 0, 5.365976015021851, 5, 4]</td>\n",
       "    </tr>\n",
       "    <tr>\n",
       "      <th>2</th>\n",
       "      <td>if only to avoid making this type of film in t...</td>\n",
       "      <td>0</td>\n",
       "      <td>[1, 0, 0, 4.48863636973214, 3, 3]</td>\n",
       "    </tr>\n",
       "    <tr>\n",
       "      <th>3</th>\n",
       "      <td>this film was probably inspired by godard's ma...</td>\n",
       "      <td>0</td>\n",
       "      <td>[0, 3, 0, 4.770684624465665, 5, 5]</td>\n",
       "    </tr>\n",
       "    <tr>\n",
       "      <th>4</th>\n",
       "      <td>oh brother after hearing about this ridiculous...</td>\n",
       "      <td>0</td>\n",
       "      <td>[0, 10, 1, 5.733341276897746, 4, 11]</td>\n",
       "    </tr>\n",
       "  </tbody>\n",
       "</table>\n",
       "</div>"
      ],
      "text/plain": [
       "                                            document  class  \\\n",
       "0  i rented i am curious-yellow from my video sto...      0   \n",
       "1  i am curious yellow is a risible and pretentio...      0   \n",
       "2  if only to avoid making this type of film in t...      0   \n",
       "3  this film was probably inspired by godard's ma...      0   \n",
       "4  oh brother after hearing about this ridiculous...      0   \n",
       "\n",
       "                         feature_vector  \n",
       "0    [1, 7, 0, 5.655991810819852, 7, 6]  \n",
       "1    [1, 2, 0, 5.365976015021851, 5, 4]  \n",
       "2     [1, 0, 0, 4.48863636973214, 3, 3]  \n",
       "3    [0, 3, 0, 4.770684624465665, 5, 5]  \n",
       "4  [0, 10, 1, 5.733341276897746, 4, 11]  "
      ]
     },
     "execution_count": 18,
     "metadata": {},
     "output_type": "execute_result"
    }
   ],
   "source": [
    "imdb_dataset = IMDBDataset(dataset)\n",
    "lexicon = pd.read_csv(\"vader_lexicon.txt\", sep=\"\\t\", names=['Token', \"Score\", \"Std\", \"Vector\"]).drop(columns=[\"Std\", \"Vector\"]).set_index(\"Token\")\n",
    "imdb_dataset.add_lexicon(lexicon, threshold=1)\n",
    "imdb_dataset.train = imdb_dataset.generate_features(imdb_dataset.train.copy())\n",
    "imdb_dataset.test = imdb_dataset.generate_features(imdb_dataset.test.copy())\n",
    "imdb_dataset.train.head()"
   ]
  },
  {
   "attachments": {},
   "cell_type": "markdown",
   "metadata": {},
   "source": [
    "## Logistic regression classifier"
   ]
  },
  {
   "cell_type": "code",
   "execution_count": 4,
   "metadata": {},
   "outputs": [],
   "source": [
    "import torch\n",
    "from torch import nn\n",
    "from sklearn.model_selection import train_test_split\n",
    "\n",
    "import matplotlib.pyplot as plt"
   ]
  },
  {
   "cell_type": "code",
   "execution_count": 5,
   "metadata": {},
   "outputs": [],
   "source": [
    "class LinearRegression(nn.Module):\n",
    "    \"\"\"A linear regression implementation\"\"\"\n",
    "\n",
    "    def __init__(self, input_dim: int, nb_classes: int) -> None:\n",
    "        \"\"\"\n",
    "        Args:\n",
    "            input_dim: the dimension of the input features.\n",
    "            nb_classes: the number of classes to predict.\n",
    "        \"\"\"\n",
    "        super().__init__()\n",
    "        self.linear = nn.Linear(input_dim, nb_classes)\n",
    "\n",
    "    def forward(self, x: torch.Tensor) -> torch.Tensor:\n",
    "        \"\"\"\n",
    "        Args:\n",
    "            x: the input tensor.\n",
    "        Returns:\n",
    "            The output of the linear layer.\n",
    "        \"\"\"\n",
    "        return self.linear(x)"
   ]
  },
  {
   "cell_type": "code",
   "execution_count": 23,
   "metadata": {},
   "outputs": [],
   "source": [
    "model = LinearRegression(6, 1)\n",
    "criterion = nn.BCEWithLogitsLoss()\n",
    "optimizer = torch.optim.SGD(model.parameters(), lr=0.01, weight_decay=0.5)"
   ]
  },
  {
   "attachments": {},
   "cell_type": "markdown",
   "metadata": {},
   "source": [
    "Split the data into training and test sets."
   ]
  },
  {
   "cell_type": "code",
   "execution_count": 25,
   "metadata": {},
   "outputs": [
    {
     "data": {
      "text/plain": [
       "(torch.Size([21250, 6]),\n",
       " torch.Size([3750, 6]),\n",
       " torch.Size([21250, 1]),\n",
       " torch.Size([3750, 1]))"
      ]
     },
     "execution_count": 25,
     "metadata": {},
     "output_type": "execute_result"
    }
   ],
   "source": [
    "features_train = imdb_dataset.train[\"feature_vector\"]\n",
    "# convert to numpy array 2d\n",
    "features_train = np.array(features_train.to_list())\n",
    "labels_train = imdb_dataset.train[\"class\"].to_numpy()\n",
    "\n",
    "features_train = torch.tensor(features_train, dtype=torch.float32)\n",
    "labels_train = torch.tensor(labels_train, dtype=torch.float32).reshape(-1, 1)\n",
    "\n",
    "X_train, X_valid, y_train, y_valid = train_test_split(\n",
    "    features_train,\n",
    "    labels_train,\n",
    "    test_size=0.15,\n",
    "    stratify=labels_train,\n",
    "    random_state=42,\n",
    ")\n",
    "\n",
    "X_train.shape, X_valid.shape, y_train.shape, y_valid.shape"
   ]
  },
  {
   "cell_type": "code",
   "execution_count": 26,
   "metadata": {},
   "outputs": [
    {
     "data": {
      "text/plain": [
       "(torch.Size([25000, 6]), torch.Size([25000, 1]))"
      ]
     },
     "execution_count": 26,
     "metadata": {},
     "output_type": "execute_result"
    }
   ],
   "source": [
    "# Let's do the same feature engineering for the test set\n",
    "features_test = imdb_dataset.test[\"feature_vector\"]\n",
    "features_test = np.array(features_test.to_list())\n",
    "X_test = torch.tensor(features_test, dtype=torch.float32)\n",
    "\n",
    "labels_test = imdb_dataset.test[\"class\"].to_numpy()\n",
    "y_test = torch.tensor(labels_test, dtype=torch.float32).reshape(-1, 1)\n",
    "\n",
    "X_test.shape, y_test.shape"
   ]
  },
  {
   "cell_type": "code",
   "execution_count": 27,
   "metadata": {},
   "outputs": [
    {
     "name": "stdout",
     "output_type": "stream",
     "text": [
      "tensor(2.1841, grad_fn=<BinaryCrossEntropyWithLogitsBackward0>)\n",
      "tensor(0.5853, grad_fn=<BinaryCrossEntropyWithLogitsBackward0>)\n",
      "tensor(0.5840, grad_fn=<BinaryCrossEntropyWithLogitsBackward0>)\n",
      "tensor(0.5839, grad_fn=<BinaryCrossEntropyWithLogitsBackward0>)\n",
      "tensor(0.5838, grad_fn=<BinaryCrossEntropyWithLogitsBackward0>)\n",
      "tensor(0.5838, grad_fn=<BinaryCrossEntropyWithLogitsBackward0>)\n",
      "tensor(0.5838, grad_fn=<BinaryCrossEntropyWithLogitsBackward0>)\n",
      "tensor(0.5838, grad_fn=<BinaryCrossEntropyWithLogitsBackward0>)\n",
      "tensor(0.5838, grad_fn=<BinaryCrossEntropyWithLogitsBackward0>)\n",
      "tensor(0.5838, grad_fn=<BinaryCrossEntropyWithLogitsBackward0>)\n",
      "CPU times: user 755 ms, sys: 233 ms, total: 988 ms\n",
      "Wall time: 768 ms\n"
     ]
    }
   ],
   "source": [
    "%%time\n",
    "\n",
    "n_epochs = 1000\n",
    "\n",
    "# Keeping an eye on the losses\n",
    "train_losses = []\n",
    "test_losses = []\n",
    "\n",
    "# Training loop\n",
    "for epoch in range(n_epochs):\n",
    "    # Setting all gradients to zero.\n",
    "    optimizer.zero_grad()\n",
    "\n",
    "    # Sending the whole training set through the model.\n",
    "    predictions = model(X_train)\n",
    "    # Computing the loss.\n",
    "    loss = criterion(predictions, y_train)\n",
    "    train_losses.append(loss.item())\n",
    "    if epoch % 100 == 0:\n",
    "        print(loss)\n",
    "    # Computing the gradients and gradient descent.\n",
    "    loss.backward()\n",
    "    optimizer.step()\n",
    "\n",
    "    # When computing the validation loss, we do not want to update the weights.\n",
    "    # torch.no_grad tells PyTorch to not save the necessary data used for\n",
    "    # gradient descent.\n",
    "    with torch.no_grad():\n",
    "        predictions = model(X_valid)\n",
    "        loss = criterion(predictions, y_valid)\n",
    "        test_losses.append(loss)"
   ]
  },
  {
   "cell_type": "code",
   "execution_count": 28,
   "metadata": {},
   "outputs": [
    {
     "data": {
      "text/plain": [
       "<matplotlib.legend.Legend at 0x2a2404280>"
      ]
     },
     "execution_count": 28,
     "metadata": {},
     "output_type": "execute_result"
    },
    {
     "data": {
      "image/png": "[encoded data removed]",
      "text/plain": [
       "<Figure size 640x480 with 1 Axes>"
      ]
     },
     "metadata": {},
     "output_type": "display_data"
    }
   ],
   "source": [
    "plt.plot(np.arange(len(train_losses)), train_losses, label=\"Training loss\")\n",
    "plt.plot(np.arange(len(test_losses)), test_losses, label=\"Test loss\")\n",
    "plt.legend()"
   ]
  },
  {
   "cell_type": "code",
   "execution_count": 29,
   "metadata": {},
   "outputs": [
    {
     "name": "stdout",
     "output_type": "stream",
     "text": [
      "0.7149176470588235 0.7034666666666667 0.71348\n"
     ]
    }
   ],
   "source": [
    "with torch.no_grad():\n",
    "    p_train = torch.sigmoid(model(X_train))\n",
    "    p_train = np.round(p_train.numpy())\n",
    "    training_accuracy = np.mean(p_train == y_train.numpy())\n",
    "    p_valid = torch.sigmoid(model(X_valid))\n",
    "    p_valid = np.round(p_valid.numpy())\n",
    "    valid_accuracy = np.mean(p_valid == y_valid.numpy())\n",
    "    p_test = torch.sigmoid(model(X_test))\n",
    "    p_test = np.round(p_test.numpy())\n",
    "    test_accuracy = np.mean(p_test == y_test.numpy())\n",
    "print(training_accuracy, valid_accuracy, test_accuracy)"
   ]
  },
  {
   "cell_type": "code",
   "execution_count": 30,
   "metadata": {},
   "outputs": [
    {
     "name": "stdout",
     "output_type": "stream",
     "text": [
      "[[-0.03016669 -0.04087529 -0.00730748 -0.01868127  0.12871487 -0.1512581 ]]\n",
      "4\n"
     ]
    }
   ],
   "source": [
    "# Look at the weights of your classifier. Which features seems to play most for both classes ?\n",
    "\n",
    "# Let's look at the weights of the linear layer\n",
    "weights = model.linear.weight.detach().numpy()\n",
    "print(weights)\n",
    "print(np.argmax(weights))"
   ]
  },
  {
   "attachments": {},
   "cell_type": "markdown",
   "metadata": {},
   "source": [
    "The feature playing the most important role in the classification is the number of words in the document which are in the positive lexicon. This is not surprising as the positive lexicon contains words such as \"good\", \"great\", \"excellent\", etc. which are very indicative of a positive review."
   ]
  },
  {
   "cell_type": "code",
   "execution_count": 31,
   "metadata": {},
   "outputs": [
    {
     "name": "stdout",
     "output_type": "stream",
     "text": [
      "[    4     6    11 ... 24991 24998 24999]\n",
      "first off let me say if you haven't enjoyed a van damme movie since bloodsport you probably will not like this movie most of these movies may not have the best plots or best actors but i enjoy these kinds of movies for what they are this movie is much better than any of the movies the other action guys segal and dolph have thought about putting out the past few years van damme is good in the movie the movie is only worth watching to van damme fans it is not as good as wake of death which i highly recommend to anyone of likes van damme or in hell but in my opinion it's worth watching it has the same type of feel to it as nowhere to run good fun stuff!\n",
      "document          first off let me say if you haven't enjoyed a ...\n",
      "class                                                             0\n",
      "feature_vector                  [0, 4, 1, 4.897839799950911, 12, 2]\n",
      "Name: 4, dtype: object\n",
      "isaac florentine has made some of the best western martial arts action movies ever produced in particular us seals 2 cold harvest special forces and undisputed 2 are all action classics you can tell isaac has a real passion for the genre and his films are always eventful creative and sharp affairs with some of the best fight sequences an action fan could hope for in particular he has found a muse with scott adkins as talented an actor and action performer as you could hope for this is borne out with special forces and undisputed 2 but unfortunately the shepherd just doesn't live up to their abilities there is no doubt that jcvd looks better here fight-wise than he has done in years especially in the fight he has for pretty much no reason in a prison cell and in the final showdown with scott but look in his eyes jcvd seems to be dead inside there's nothing in his eyes at all it's like he just doesn't care about anything throughout the whole film and this is the leading man there are other dodgy aspects to the film script-wise and visually but the main problem is that you are utterly unable to empathise with the hero of the film a genuine shame as i know we all wanted this film to be as special as it genuinely could have been there are some good bits mostly the action scenes themselves this film had a terrific director and action choreographer and an awesome opponent for jcvd to face down this could have been the one to bring the veteran action star back up to scratch in the balls-out action movie stakes sincerely a shame that this didn't happen\n",
      "document          isaac florentine has made some of the best wes...\n",
      "class                                                             0\n",
      "feature_vector                 [1, 5, 0, 5.666426688112432, 21, 11]\n",
      "Name: 6, dtype: object\n"
     ]
    }
   ],
   "source": [
    "# Take two wrongly classified samples in the test set and try explaining why the model was wrong.\n",
    "\n",
    "# Let's look at the wrongly classified samples\n",
    "wrongly_classified = np.where(p_test != y_test.numpy())[0]\n",
    "print(wrongly_classified)\n",
    "\n",
    "# Let's look at the first wrongly classified sample\n",
    "print(imdb_dataset.test.iloc[wrongly_classified[0]][\"document\"], imdb_dataset.test.iloc[wrongly_classified[0]], sep=\"\\n\")\n",
    "\n",
    "# Let's look at the second wrongly classified sample\n",
    "print(imdb_dataset.test.iloc[wrongly_classified[1]][\"document\"], imdb_dataset.test.iloc[wrongly_classified[1]], sep=\"\\n\")"
   ]
  },
  {
   "attachments": {},
   "cell_type": "markdown",
   "metadata": {},
   "source": [
    "These wrondly classified examples are mostly positive reviews which are classified as negative. This is surely because they are really hard to classify, mixing positive and negative parts. In the first one: 'if you haven't enjoyed a van damme movie since bloodsport you probably will not like this movie' is negative when read on its own, but positive when read in the context of the whole review. The second one also contains negative or mixed parts inside the whole review, which is very confusing for the classifier."
   ]
  },
  {
   "attachments": {},
   "cell_type": "markdown",
   "metadata": {},
   "source": [
    "#### Cleaning and refactoring\n",
    "\n",
    "Let's wrap the classifier inside a class to make it easier to use."
   ]
  },
  {
   "cell_type": "code",
   "execution_count": 17,
   "metadata": {},
   "outputs": [],
   "source": [
    "from typing import List\n",
    "\n",
    "class ClassifierWrapper():\n",
    "    random_state = 42\n",
    "\n",
    "    def __init__(self, model: nn.Module, criterion, optimizer, dataset_manager: DatasetManager):\n",
    "        \"\"\"\n",
    "        Args:\n",
    "            model: the model to train.\n",
    "            criterion: the loss function.\n",
    "            optimizer: the optimizer.\n",
    "            dataset_manager: the dataset manager.\n",
    "        \"\"\"\n",
    "        self.model = model\n",
    "        self.dataset_manager = dataset_manager\n",
    "        self.criterion = criterion\n",
    "        self.optimizer = optimizer\n",
    "        self._extract_features()\n",
    "        self.X_train, self.X_valid, self.y_train, self.y_valid = self._split_train_valid()\n",
    "    \n",
    "\n",
    "    def _extract_features(self):\n",
    "        \"\"\"\n",
    "        Extracts the features and labels from the dataset manager\n",
    "        \"\"\"\n",
    "        self.features_train = self.dataset_manager.train[\"feature_vector\"]\n",
    "        self.features_train = np.array(self.features_train.to_list()).astype(np.float32)\n",
    "        self.features_train = torch.tensor(self.features_train, dtype=torch.float32)\n",
    "        self.labels_train = self.dataset_manager.train[\"class\"].to_numpy()\n",
    "        self.labels_train = torch.tensor(self.labels_train, dtype=torch.float32).reshape(-1, 1)\n",
    "\n",
    "        self.features_test = self.dataset_manager.test[\"feature_vector\"]\n",
    "        self.features_test = np.array(self.features_test.to_list()).astype(np.float32)\n",
    "        self.features_test = torch.tensor(self.features_test, dtype=torch.float32)\n",
    "        self.labels_test = self.dataset_manager.test[\"class\"].to_numpy()\n",
    "        self.labels_test = torch.tensor(self.labels_test, dtype=torch.float32).reshape(-1, 1)\n",
    "\n",
    "\n",
    "    def _split_train_valid(self, test_size: float = 0.15) -> tuple[torch.Tensor, torch.Tensor, torch.Tensor, torch.Tensor]:\n",
    "        \"\"\"\n",
    "        Splits the training set into training and validation sets\n",
    "\n",
    "        Parameters\n",
    "        ----------\n",
    "        test_size : float, optional\n",
    "            The proportion of the training set to use for validation, by default 0.15\n",
    "\n",
    "        Returns\n",
    "        -------\n",
    "        X_train, X_valid, y_train, y_valid : torch.Tensor\n",
    "            The training and validation sets\n",
    "        \"\"\"\n",
    "        X_train, X_valid, y_train, y_valid = train_test_split(\n",
    "            self.features_train,\n",
    "            self.labels_train,\n",
    "            test_size=test_size,\n",
    "            stratify=self.labels_train,\n",
    "            random_state=self.random_state,\n",
    "        )\n",
    "        return X_train, X_valid, y_train, y_valid\n",
    "\n",
    "\n",
    "    def fit(self, X: torch.Tensor = None, y: torch.Tensor = None, n_epochs: int = 1000) -> tuple[List[float], List[float]]:\n",
    "        \"\"\"\n",
    "        Fits the model\n",
    "\n",
    "        Parameters\n",
    "        ----------\n",
    "        X : torch.Tensor, optional\n",
    "            The training set. If None, the training set from the dataset manager is used, by default None\n",
    "        y : torch.Tensor, optional\n",
    "            The labels of the training set. If None, the labels from the dataset manager are used, by default None\n",
    "        n_epochs : int, optional\n",
    "            The number of epochs to train for, by default 1000\n",
    "\n",
    "        Returns\n",
    "        -------\n",
    "        train_losses, test_losses : List[float]\n",
    "            The losses of the training and validation sets\n",
    "        \"\"\"\n",
    "        if X is None:\n",
    "            X = self.X_train\n",
    "        if y is None:\n",
    "            y = self.y_train\n",
    "\n",
    "        train_losses = []\n",
    "        test_losses = []\n",
    "        for epoch in range(n_epochs):\n",
    "            self.optimizer.zero_grad()\n",
    "            predictions = self.model(X)\n",
    "            loss = self.criterion(predictions, y)\n",
    "            train_losses.append(loss.item())\n",
    "            if epoch % 100 == 0:\n",
    "                print(loss)\n",
    "            loss.backward()\n",
    "            self.optimizer.step()\n",
    "\n",
    "            with torch.no_grad():\n",
    "                predictions = self.model(self.X_valid)\n",
    "                loss = self.criterion(predictions, self.y_valid)\n",
    "                test_losses.append(loss)\n",
    "\n",
    "        self.train_losses = train_losses\n",
    "        self.test_losses = test_losses\n",
    "\n",
    "\n",
    "    def plot_losses(self):\n",
    "        \"\"\"\n",
    "        Plots the losses of the training and validation sets\n",
    "        \"\"\"\n",
    "        plt.plot(np.arange(len(self.train_losses)), self.train_losses, label=\"Training loss\")\n",
    "        plt.plot(np.arange(len(self.test_losses)), self.test_losses, label=\"Test loss\")\n",
    "        plt.legend()\n",
    "        plt.show()\n",
    "    \n",
    "\n",
    "    def predict(self, X: torch.Tensor) -> torch.Tensor:\n",
    "        \"\"\"\n",
    "        Predicts the labels of the given data\n",
    "\n",
    "        Parameters\n",
    "        ----------\n",
    "        X : torch.Tensor\n",
    "            The data to predict\n",
    "\n",
    "        Returns\n",
    "        -------\n",
    "        p : torch.Tensor\n",
    "            The predictions\n",
    "        \"\"\"\n",
    "        with torch.no_grad():\n",
    "            p = torch.sigmoid(self.model(X))\n",
    "            p = np.round(p.numpy())\n",
    "            return p"
   ]
  },
  {
   "cell_type": "code",
   "execution_count": 44,
   "metadata": {},
   "outputs": [
    {
     "name": "stdout",
     "output_type": "stream",
     "text": [
      "tensor(2.5599, grad_fn=<BinaryCrossEntropyWithLogitsBackward0>)\n",
      "tensor(0.5868, grad_fn=<BinaryCrossEntropyWithLogitsBackward0>)\n",
      "tensor(0.5832, grad_fn=<BinaryCrossEntropyWithLogitsBackward0>)\n",
      "tensor(0.5833, grad_fn=<BinaryCrossEntropyWithLogitsBackward0>)\n",
      "tensor(0.5834, grad_fn=<BinaryCrossEntropyWithLogitsBackward0>)\n",
      "tensor(0.5836, grad_fn=<BinaryCrossEntropyWithLogitsBackward0>)\n",
      "tensor(0.5836, grad_fn=<BinaryCrossEntropyWithLogitsBackward0>)\n",
      "tensor(0.5837, grad_fn=<BinaryCrossEntropyWithLogitsBackward0>)\n",
      "tensor(0.5837, grad_fn=<BinaryCrossEntropyWithLogitsBackward0>)\n",
      "tensor(0.5837, grad_fn=<BinaryCrossEntropyWithLogitsBackward0>)\n"
     ]
    }
   ],
   "source": [
    "# reinitialize the model\n",
    "model = LinearRegression(6, 1)\n",
    "criterion = nn.BCEWithLogitsLoss()\n",
    "optimizer = torch.optim.SGD(model.parameters(), lr=0.01, weight_decay=0.5)\n",
    "\n",
    "classifier = ClassifierWrapper(model, criterion, optimizer, imdb_dataset)\n",
    "classifier.fit()"
   ]
  },
  {
   "cell_type": "code",
   "execution_count": 45,
   "metadata": {},
   "outputs": [
    {
     "data": {
      "image/png": "[encoded data removed]",
      "text/plain": [
       "<Figure size 640x480 with 1 Axes>"
      ]
     },
     "metadata": {},
     "output_type": "display_data"
    }
   ],
   "source": [
    "classifier.plot_losses()"
   ]
  },
  {
   "cell_type": "code",
   "execution_count": 46,
   "metadata": {},
   "outputs": [
    {
     "name": "stdout",
     "output_type": "stream",
     "text": [
      "0.7151058823529411 0.7029333333333333 0.71352\n"
     ]
    }
   ],
   "source": [
    "p_train = classifier.predict(classifier.X_train)\n",
    "training_accuracy = np.mean(p_train == classifier.y_train.numpy())\n",
    "p_valid = classifier.predict(classifier.X_valid)\n",
    "valid_accuracy = np.mean(p_valid == classifier.y_valid.numpy())\n",
    "p_test = classifier.predict(classifier.features_test)\n",
    "test_accuracy = np.mean(p_test == classifier.labels_test.numpy())\n",
    "print(training_accuracy, valid_accuracy, test_accuracy)"
   ]
  },
  {
   "attachments": {},
   "cell_type": "markdown",
   "metadata": {},
   "source": [
    "### Try using PySpark"
   ]
  },
  {
   "attachments": {},
   "cell_type": "markdown",
   "metadata": {},
   "source": [
    "It takes too much time to preprocess the data with Pandas, so we will use PySpark instead.\n",
    "To do so, we will create a new DatasetManager class which will use PySpark to load the data and generate the features.\n",
    "\n",
    "In a first place, we will detail separatly each step of the preprocessing, to make it easier to understand."
   ]
  },
  {
   "cell_type": "code",
   "execution_count": 6,
   "metadata": {},
   "outputs": [
    {
     "name": "stdout",
     "output_type": "stream",
     "text": [
      "23/04/03 09:03:17 WARN Utils: Your hostname, MacBook-Pro-de-FISCH.local resolves to a loopback address: 127.0.0.1; using 10.41.179.14 instead (on interface en0)\n",
      "23/04/03 09:03:17 WARN Utils: Set SPARK_LOCAL_IP if you need to bind to another address\n"
     ]
    },
    {
     "name": "stderr",
     "output_type": "stream",
     "text": [
      "Setting default log level to \"WARN\".\n",
      "To adjust logging level use sc.setLogLevel(newLevel). For SparkR, use setLogLevel(newLevel).\n"
     ]
    },
    {
     "name": "stdout",
     "output_type": "stream",
     "text": [
      "23/04/03 09:03:17 WARN NativeCodeLoader: Unable to load native-hadoop library for your platform... using builtin-java classes where applicable\n",
      "23/04/03 09:03:18 WARN Utils: Service 'SparkUI' could not bind on port 4040. Attempting port 4041.\n"
     ]
    }
   ],
   "source": [
    "# let's use pyspark to preprocess the data\n",
    "from pyspark.sql import SparkSession\n",
    "import pyspark.sql.functions as F\n",
    "import pyspark.sql.dataframe as pyspark_df\n",
    "from pyspark.sql.functions import udf\n",
    "\n",
    "spark = SparkSession.builder.getOrCreate()"
   ]
  },
  {
   "attachments": {},
   "cell_type": "markdown",
   "metadata": {},
   "source": [
    "Let's try to create a Spark dataframe from the dataset"
   ]
  },
  {
   "cell_type": "code",
   "execution_count": 7,
   "metadata": {},
   "outputs": [
    {
     "name": "stdout",
     "output_type": "stream",
     "text": [
      "root\n",
      " |-- class: long (nullable = true)\n",
      " |-- document: string (nullable = true)\n",
      "\n"
     ]
    },
    {
     "name": "stderr",
     "output_type": "stream",
     "text": [
      "[Stage 0:>                                                          (0 + 0) / 1]\r"
     ]
    },
    {
     "name": "stdout",
     "output_type": "stream",
     "text": [
      "23/04/03 09:03:26 WARN TaskSetManager: Stage 0 contains a task of very large size (3893 KiB). The maximum recommended task size is 1000 KiB.\n"
     ]
    },
    {
     "name": "stderr",
     "output_type": "stream",
     "text": [
      "[Stage 0:>                                                          (0 + 1) / 1]\r"
     ]
    },
    {
     "name": "stdout",
     "output_type": "stream",
     "text": [
      "+-----+--------------------+\n",
      "|class|            document|\n",
      "+-----+--------------------+\n",
      "|    0|I rented I AM CUR...|\n",
      "|    0|\"I Am Curious: Ye...|\n",
      "|    0|If only to avoid ...|\n",
      "|    0|This film was pro...|\n",
      "|    0|Oh, brother...aft...|\n",
      "|    0|I would put this ...|\n",
      "|    0|Whoever wrote the...|\n",
      "|    0|When I first saw ...|\n",
      "|    0|Who are these \"Th...|\n",
      "|    0|This is said to b...|\n",
      "+-----+--------------------+\n",
      "only showing top 10 rows\n",
      "\n"
     ]
    },
    {
     "name": "stderr",
     "output_type": "stream",
     "text": [
      "                                                                                \r"
     ]
    }
   ],
   "source": [
    "# use 'dataset' variable and convert it to a spark dataframe\n",
    "spark_df = spark.createDataFrame(dataset[\"train\"], schema=[\"class\", \"document\"])\n",
    "\n",
    "# Let's look at the schema of the dataframe\n",
    "spark_df.printSchema()\n",
    "\n",
    "# Let's look at the first 10 rows of the dataframe\n",
    "spark_df.show(10)"
   ]
  },
  {
   "attachments": {},
   "cell_type": "markdown",
   "metadata": {},
   "source": [
    "Seems to be working as expected. Now, we need to do the same preprocessing as before, which means:\n",
    "- lowercasing\n",
    "- removing punctuation (except ' ! and -)\n",
    "- remove extra spaces"
   ]
  },
  {
   "cell_type": "code",
   "execution_count": 8,
   "metadata": {},
   "outputs": [],
   "source": [
    "def preprocess_spark(dataset: pd.DataFrame) -> pd.DataFrame :\n",
    "    \"\"\"\n",
    "    Preprocess the dataset by lowercasing the text and removing the punctuation manually using spark\n",
    "\n",
    "    Parameters\n",
    "    ----------\n",
    "    dataset : pd.DataFrame\n",
    "        The dataset to preprocess\n",
    "\n",
    "    Returns\n",
    "    -------\n",
    "    pd.DataFrame\n",
    "        The preprocessed dataset\n",
    "    \"\"\"\n",
    "    # First lower the case\n",
    "    dataset = dataset.withColumn(\"document\", F.lower(F.col(\"document\")))\n",
    "    # Replace the punctuation with spaces. We keep the ' - and ! that may give revelant informations\n",
    "    # Replace HTML tag <br />\n",
    "    dataset = dataset.withColumn(\"document\", F.regexp_replace(F.col(\"document\"), r\"[^a-zA-Z0-9\\s-!]\", \" \"))\n",
    "    dataset = dataset.withColumn(\"document\", F.regexp_replace(F.col(\"document\"), r\"<br />\", \" \"))\n",
    "    # Remove the extra spaces\n",
    "    dataset = dataset.withColumn(\"document\", F.regexp_replace(F.col(\"document\"), r\"\\s+\", \" \"))\n",
    "    return dataset"
   ]
  },
  {
   "cell_type": "code",
   "execution_count": 9,
   "metadata": {},
   "outputs": [
    {
     "name": "stdout",
     "output_type": "stream",
     "text": [
      "23/04/03 09:03:35 WARN TaskSetManager: Stage 1 contains a task of very large size (3893 KiB). The maximum recommended task size is 1000 KiB.\n"
     ]
    },
    {
     "name": "stderr",
     "output_type": "stream",
     "text": [
      "[Stage 1:>                                                          (0 + 1) / 1]\r"
     ]
    },
    {
     "name": "stdout",
     "output_type": "stream",
     "text": [
      "23/04/03 09:03:40 WARN PythonRunner: Detected deadlock while completing task 0.0 in stage 1 (TID 1): Attempting to kill Python Worker\n",
      "+-----+--------------------+\n",
      "|class|            document|\n",
      "+-----+--------------------+\n",
      "|    0|i rented i am cur...|\n",
      "|    0| i am curious yel...|\n",
      "|    0|if only to avoid ...|\n",
      "|    0|this film was pro...|\n",
      "|    0|oh brother after ...|\n",
      "|    0|i would put this ...|\n",
      "|    0|whoever wrote the...|\n",
      "|    0|when i first saw ...|\n",
      "|    0|who are these the...|\n",
      "|    0|this is said to b...|\n",
      "+-----+--------------------+\n",
      "only showing top 10 rows\n",
      "\n"
     ]
    },
    {
     "name": "stderr",
     "output_type": "stream",
     "text": [
      "                                                                                \r"
     ]
    },
    {
     "name": "stdout",
     "output_type": "stream",
     "text": [
      "23/04/03 09:03:41 WARN TaskSetManager: Stage 2 contains a task of very large size (3861 KiB). The maximum recommended task size is 1000 KiB.\n",
      "+-----+--------------------+\n",
      "|class|            document|\n",
      "+-----+--------------------+\n",
      "|    0|i love sci-fi and...|\n",
      "|    0|worth the enterta...|\n",
      "|    0|its a totally ave...|\n",
      "|    0|star rating satur...|\n",
      "|    0|first off let me ...|\n",
      "|    0|i had high hopes ...|\n",
      "|    0|isaac florentine ...|\n",
      "|    0|it actually pains...|\n",
      "|    0|technically i am ...|\n",
      "|    0|honestly awful fi...|\n",
      "+-----+--------------------+\n",
      "only showing top 10 rows\n",
      "\n"
     ]
    }
   ],
   "source": [
    "preprocessed_train_spark = preprocess_spark(spark_df)\n",
    "preprocessed_train_spark.show(10)\n",
    "\n",
    "preprocessed_test_spark = preprocess_spark(spark.createDataFrame(dataset[\"test\"], schema=[\"class\", \"document\"]))\n",
    "preprocessed_test_spark.show(10)"
   ]
  },
  {
   "attachments": {},
   "cell_type": "markdown",
   "metadata": {},
   "source": [
    "Loading the lexicon is the next step. We will use the same lexicon as before, but we will load it as a Spark dataframe.\n",
    "Also, we will separate the positive and negative lexicons into two different dataframes because we will need them later."
   ]
  },
  {
   "cell_type": "code",
   "execution_count": 11,
   "metadata": {},
   "outputs": [
    {
     "name": "stdout",
     "output_type": "stream",
     "text": [
      "+--------+-----+\n",
      "|   Token|Score|\n",
      "+--------+-----+\n",
      "|      $:| -1.5|\n",
      "|     %-)| -1.5|\n",
      "|( '}{' )|  1.6|\n",
      "|    ('-:|  2.2|\n",
      "|     (':|  2.3|\n",
      "|    ((-:|  2.1|\n",
      "|      (*|  1.1|\n",
      "|     (-*|  1.3|\n",
      "|     (-:|  1.6|\n",
      "|    (-:0|  2.8|\n",
      "+--------+-----+\n",
      "only showing top 10 rows\n",
      "\n"
     ]
    }
   ],
   "source": [
    "threshold = 1\n",
    "\n",
    "lexicon_spark = spark.read.csv(\"vader_lexicon.txt\", sep=\"\\t\", header=False, inferSchema=True)\n",
    "lexicon_spark = lexicon_spark.withColumnRenamed(\"_c0\", \"Token\").withColumnRenamed(\"_c1\", \"Score\")\n",
    "lexicon_spark = lexicon_spark.drop(\"_c2\", \"_c3\")\n",
    "lexicon_spark = lexicon_spark.filter((F.col(\"Score\") <= -threshold) | (F.col(\"Score\") >= threshold))\n",
    "lexicon_spark.show(10)\n",
    "\n",
    "positive_lexicon_spark = lexicon_spark.filter(F.col(\"Score\") >= threshold)\n",
    "# convert it to a list\n",
    "positive_lexicon_list = positive_lexicon_spark.select(\"Token\").rdd.flatMap(lambda x: x).collect()\n",
    "\n",
    "negative_lexicon_spark = lexicon_spark.filter(F.col(\"Score\") <= -threshold)\n",
    "# convert it to a list\n",
    "negative_lexicon_list = negative_lexicon_spark.select(\"Token\").rdd.flatMap(lambda x: x).collect()"
   ]
  },
  {
   "attachments": {},
   "cell_type": "markdown",
   "metadata": {},
   "source": [
    "It's time to generate the features. We will use the same features as before, but we will use Spark to generate them. This is where we will use the different lexicons."
   ]
  },
  {
   "cell_type": "code",
   "execution_count": 12,
   "metadata": {},
   "outputs": [],
   "source": [
    "from pyspark.sql.functions import udf\n",
    "\n",
    "@udf(returnType='int')\n",
    "def cnt_no(s):\n",
    "    return 1 if s.count(\"no\") > 0 else 0\n",
    "\n",
    "@udf(returnType='int')\n",
    "def cnt_pronouns(s):\n",
    "    return s.count('i') + s.count('you') + s.count('we')\n",
    "\n",
    "def cnt_lex(tokens):\n",
    "    return udf(lambda s: cate(s, tokens))\n",
    "\n",
    "def cate(s, tokens):\n",
    "    return sum([1 for w in s if w in tokens])\n",
    "\n",
    "def generate_features_spark(df: pyspark_df.DataFrame) -> pyspark_df.DataFrame:\n",
    "    \"\"\"\n",
    "    Generate the features for the dataset\n",
    "\n",
    "    Parameters\n",
    "    ----------\n",
    "    df : pyspark_df.DataFrame\n",
    "        The dataset to generate the features for\n",
    "\n",
    "    Returns\n",
    "    -------\n",
    "    pyspark_df.DataFrame\n",
    "        The dataset with the features\n",
    "    \"\"\"\n",
    "    # check if \"no\" is in the document\n",
    "    df = df.withColumn(\"no\", cnt_no(F.split(F.col(\"document\"), \" \")))\n",
    "    # The count of first and second pronouns in the document.\n",
    "    df = df.withColumn(\"pronouns\", cnt_pronouns(F.split(F.col(\"document\"), \" \")))\n",
    "    # 1 if \"!\" is in the document, 0 otherwise.\n",
    "    df = df.withColumn(\"exclamation\", F.when(F.col(\"document\").contains(\"!\"), 1).otherwise(0))\n",
    "    # Log(word count in the document).\n",
    "    df = df.withColumn(\"log_word_count\", F.log(F.size(F.array_distinct(F.split(F.col(\"document\"), \" \")))))\n",
    "    # Number of words in the document which are in the positive lexicon (score >= 1 in the lexicon_spark dataframe)\n",
    "    df = df.withColumn(\"positive_lexicon\", cnt_lex(positive_lexicon_list)(F.split(F.col(\"document\"), \" \")))\n",
    "    # Number of words in the document which are in the negative lexicon (score <= -1 in the lexicon_spark dataframe)\n",
    "    df = df.withColumn(\"negative_lexicon\", cnt_lex(negative_lexicon_list)(F.split(F.col(\"document\"), \" \")))\n",
    "\n",
    "    # create a new column with all these values in a list\n",
    "    df = df.withColumn(\"feature_vector\", F.array(\"no\", \"pronouns\", \"exclamation\", \"log_word_count\", \"positive_lexicon\", \"negative_lexicon\"))\n",
    "    # drop the columns we don't need anymore\n",
    "    df = df.drop(\"no\", \"pronouns\", \"exclamation\", \"log_word_count\", \"positive_lexicon\", \"negative_lexicon\")\n",
    "    return df"
   ]
  },
  {
   "cell_type": "code",
   "execution_count": 13,
   "metadata": {},
   "outputs": [
    {
     "name": "stdout",
     "output_type": "stream",
     "text": [
      "23/04/03 09:04:27 WARN TaskSetManager: Stage 10 contains a task of very large size (3893 KiB). The maximum recommended task size is 1000 KiB.\n"
     ]
    },
    {
     "name": "stderr",
     "output_type": "stream",
     "text": [
      "                                                                                \r"
     ]
    },
    {
     "name": "stdout",
     "output_type": "stream",
     "text": [
      "+-----+--------------------+--------------------+\n",
      "|class|            document|      feature_vector|\n",
      "+-----+--------------------+--------------------+\n",
      "|    0|i rented i am cur...|[1, 7, 0, 5.18738...|\n",
      "|    0| i am curious yel...|[1, 4, 0, 5.04342...|\n",
      "|    0|if only to avoid ...|[1, 0, 0, 4.26267...|\n",
      "|    0|this film was pro...|[0, 3, 0, 4.48863...|\n",
      "|    0|oh brother after ...|[0, 10, 1, 5.2781...|\n",
      "|    0|i would put this ...|[0, 2, 1, 4.44265...|\n",
      "|    0|whoever wrote the...|[0, 5, 0, 4.46590...|\n",
      "|    0|when i first saw ...|[0, 7, 0, 5.05624...|\n",
      "|    0|who are these the...|[1, 6, 0, 5.64544...|\n",
      "|    0|this is said to b...|[1, 5, 0, 4.94164...|\n",
      "+-----+--------------------+--------------------+\n",
      "only showing top 10 rows\n",
      "\n",
      "23/04/03 09:05:11 WARN TaskSetManager: Stage 11 contains a task of very large size (3861 KiB). The maximum recommended task size is 1000 KiB.\n"
     ]
    },
    {
     "name": "stderr",
     "output_type": "stream",
     "text": [
      "[Stage 11:>                                                         (0 + 1) / 1]\r"
     ]
    },
    {
     "name": "stdout",
     "output_type": "stream",
     "text": [
      "+-----+--------------------+--------------------+\n",
      "|class|            document|      feature_vector|\n",
      "+-----+--------------------+--------------------+\n",
      "|    0|i love sci-fi and...|[0, 5, 1, 5.06259...|\n",
      "|    0|worth the enterta...|[0, 7, 0, 5.01727...|\n",
      "|    0|its a totally ave...|[0, 0, 0, 4.41884...|\n",
      "|    0|star rating satur...|[1, 1, 0, 5.44241...|\n",
      "|    0|first off let me ...|[0, 4, 1, 4.45434...|\n",
      "|    0|i had high hopes ...|[1, 1, 0, 4.82028...|\n",
      "|    0|isaac florentine ...|[1, 5, 0, 5.08140...|\n",
      "|    0|it actually pains...|[0, 4, 0, 4.77068...|\n",
      "|    0|technically i am ...|[0, 11, 1, 4.5747...|\n",
      "|    0|honestly awful fi...|[0, 6, 0, 4.70048...|\n",
      "+-----+--------------------+--------------------+\n",
      "only showing top 10 rows\n",
      "\n"
     ]
    },
    {
     "name": "stderr",
     "output_type": "stream",
     "text": [
      "                                                                                \r"
     ]
    }
   ],
   "source": [
    "features_train_spark = generate_features_spark(preprocessed_train_spark)\n",
    "features_train_spark.show(10)\n",
    "\n",
    "features_test_spark = generate_features_spark(preprocessed_test_spark)\n",
    "features_test_spark.show(10)"
   ]
  },
  {
   "attachments": {},
   "cell_type": "markdown",
   "metadata": {},
   "source": [
    "It gives the expected result.\n",
    "To be able to use the LinearRegression class, we need to convert the dataframe into a Pandas dataframe, which takes time but is necessary. The total time to generate the features is still better than with Pandas."
   ]
  },
  {
   "cell_type": "code",
   "execution_count": 62,
   "metadata": {},
   "outputs": [
    {
     "name": "stdout",
     "output_type": "stream",
     "text": [
      "23/04/02 15:10:13 WARN TaskSetManager: Stage 11 contains a task of very large size (3893 KiB). The maximum recommended task size is 1000 KiB.\n"
     ]
    },
    {
     "name": "stderr",
     "output_type": "stream",
     "text": [
      "                                                                                \r"
     ]
    },
    {
     "name": "stdout",
     "output_type": "stream",
     "text": [
      "23/04/02 15:11:42 WARN TaskSetManager: Stage 12 contains a task of very large size (3861 KiB). The maximum recommended task size is 1000 KiB.\n"
     ]
    },
    {
     "name": "stderr",
     "output_type": "stream",
     "text": [
      "                                                                                \r"
     ]
    },
    {
     "data": {
      "text/html": [
       "<div>\n",
       "<style scoped>\n",
       "    .dataframe tbody tr th:only-of-type {\n",
       "        vertical-align: middle;\n",
       "    }\n",
       "\n",
       "    .dataframe tbody tr th {\n",
       "        vertical-align: top;\n",
       "    }\n",
       "\n",
       "    .dataframe thead th {\n",
       "        text-align: right;\n",
       "    }\n",
       "</style>\n",
       "<table border=\"1\" class=\"dataframe\">\n",
       "  <thead>\n",
       "    <tr style=\"text-align: right;\">\n",
       "      <th></th>\n",
       "      <th>class</th>\n",
       "      <th>document</th>\n",
       "      <th>feature_vector</th>\n",
       "    </tr>\n",
       "  </thead>\n",
       "  <tbody>\n",
       "    <tr>\n",
       "      <th>0</th>\n",
       "      <td>0</td>\n",
       "      <td>i rented i am curious-yellow from my video sto...</td>\n",
       "      <td>[1, 7, 0, 5.187385805840755, 7, 6]</td>\n",
       "    </tr>\n",
       "    <tr>\n",
       "      <th>1</th>\n",
       "      <td>0</td>\n",
       "      <td>i am curious yellow is a risible and pretenti...</td>\n",
       "      <td>[1, 2, 0, 5.0369526024136295, 5, 4]</td>\n",
       "    </tr>\n",
       "    <tr>\n",
       "      <th>2</th>\n",
       "      <td>0</td>\n",
       "      <td>if only to avoid making this type of film in t...</td>\n",
       "      <td>[1, 0, 0, 4.2626798770413155, 3, 3]</td>\n",
       "    </tr>\n",
       "    <tr>\n",
       "      <th>3</th>\n",
       "      <td>0</td>\n",
       "      <td>this film was probably inspired by godard's ma...</td>\n",
       "      <td>[0, 3, 0, 4.477336814478207, 5, 5]</td>\n",
       "    </tr>\n",
       "    <tr>\n",
       "      <th>4</th>\n",
       "      <td>0</td>\n",
       "      <td>oh brother after hearing about this ridiculous...</td>\n",
       "      <td>[0, 10, 0, 5.267858159063328, 4, 11]</td>\n",
       "    </tr>\n",
       "    <tr>\n",
       "      <th>...</th>\n",
       "      <td>...</td>\n",
       "      <td>...</td>\n",
       "      <td>...</td>\n",
       "    </tr>\n",
       "    <tr>\n",
       "      <th>24995</th>\n",
       "      <td>1</td>\n",
       "      <td>a hit at the time but now better categorised a...</td>\n",
       "      <td>[0, 0, 0, 4.382026634673881, 7, 3]</td>\n",
       "    </tr>\n",
       "    <tr>\n",
       "      <th>24996</th>\n",
       "      <td>1</td>\n",
       "      <td>i love this movie like no other another time i...</td>\n",
       "      <td>[1, 6, 0, 4.875197323201151, 8, 6]</td>\n",
       "    </tr>\n",
       "    <tr>\n",
       "      <th>24997</th>\n",
       "      <td>1</td>\n",
       "      <td>this film and it's sequel barry mckenzie holds...</td>\n",
       "      <td>[0, 2, 0, 4.574710978503383, 10, 3]</td>\n",
       "    </tr>\n",
       "    <tr>\n",
       "      <th>24998</th>\n",
       "      <td>1</td>\n",
       "      <td>'the adventures of barry mckenzie' started lif...</td>\n",
       "      <td>[0, 6, 0, 5.988961416889864, 27, 12]</td>\n",
       "    </tr>\n",
       "    <tr>\n",
       "      <th>24999</th>\n",
       "      <td>1</td>\n",
       "      <td>the story centers around barry mckenzie who mu...</td>\n",
       "      <td>[0, 0, 0, 3.8501476017100584, 2, 1]</td>\n",
       "    </tr>\n",
       "  </tbody>\n",
       "</table>\n",
       "<p>25000 rows × 3 columns</p>\n",
       "</div>"
      ],
      "text/plain": [
       "       class                                           document  \\\n",
       "0          0  i rented i am curious-yellow from my video sto...   \n",
       "1          0   i am curious yellow is a risible and pretenti...   \n",
       "2          0  if only to avoid making this type of film in t...   \n",
       "3          0  this film was probably inspired by godard's ma...   \n",
       "4          0  oh brother after hearing about this ridiculous...   \n",
       "...      ...                                                ...   \n",
       "24995      1  a hit at the time but now better categorised a...   \n",
       "24996      1  i love this movie like no other another time i...   \n",
       "24997      1  this film and it's sequel barry mckenzie holds...   \n",
       "24998      1  'the adventures of barry mckenzie' started lif...   \n",
       "24999      1  the story centers around barry mckenzie who mu...   \n",
       "\n",
       "                             feature_vector  \n",
       "0        [1, 7, 0, 5.187385805840755, 7, 6]  \n",
       "1       [1, 2, 0, 5.0369526024136295, 5, 4]  \n",
       "2       [1, 0, 0, 4.2626798770413155, 3, 3]  \n",
       "3        [0, 3, 0, 4.477336814478207, 5, 5]  \n",
       "4      [0, 10, 0, 5.267858159063328, 4, 11]  \n",
       "...                                     ...  \n",
       "24995    [0, 0, 0, 4.382026634673881, 7, 3]  \n",
       "24996    [1, 6, 0, 4.875197323201151, 8, 6]  \n",
       "24997   [0, 2, 0, 4.574710978503383, 10, 3]  \n",
       "24998  [0, 6, 0, 5.988961416889864, 27, 12]  \n",
       "24999   [0, 0, 0, 3.8501476017100584, 2, 1]  \n",
       "\n",
       "[25000 rows x 3 columns]"
      ]
     },
     "execution_count": 62,
     "metadata": {},
     "output_type": "execute_result"
    }
   ],
   "source": [
    "df_pandas_train = features_train_spark.toPandas()\n",
    "df_pandas_test = features_test_spark.toPandas()\n",
    "df_pandas_train"
   ]
  },
  {
   "attachments": {},
   "cell_type": "markdown",
   "metadata": {},
   "source": [
    "Now, we can wrap everything in a class inheriting from DatasetManager. "
   ]
  },
  {
   "cell_type": "code",
   "execution_count": 14,
   "metadata": {},
   "outputs": [],
   "source": [
    "@udf(returnType='int')\n",
    "def _cnt_no(s):\n",
    "    \"\"\"\n",
    "    Spark UDF to count the number of \"no\" in the document\n",
    "    \"\"\"\n",
    "    return 1 if s.count(\"no\") > 0 else 0\n",
    "\n",
    "@udf(returnType='int')\n",
    "def _cnt_pronouns(s):\n",
    "    \"\"\"\n",
    "    Spark UDF to count the number of first and second pronouns in the document\n",
    "    \"\"\"\n",
    "    return s.count('i') + s.count('you') + s.count('we')\n",
    "\n",
    "def _cate(s, tokens):\n",
    "    \"\"\"\n",
    "    Spark UDF to count the number of words in the document that are in the lexicon\n",
    "    \"\"\"\n",
    "    return sum([1 for w in s if w in tokens])\n",
    "\n",
    "def _cnt_lex(tokens):\n",
    "    \"\"\"\n",
    "    Hat function to return a function that counts the number of words in the document that are in the lexicon using spark UDF\n",
    "    \"\"\"\n",
    "    return udf(lambda s: _cate(s, tokens))\n",
    "\n",
    "class IMDBDatasetSpark(DatasetManager):\n",
    "    \"\"\"\n",
    "    A class to manage the IMDB dataset using pyspark\n",
    "    \n",
    "    Parameters\n",
    "    ----------\n",
    "    dataset : dict\n",
    "        The dataset to manage\n",
    "        \n",
    "    Attributes\n",
    "    ----------\n",
    "    dataset : dict\n",
    "        The dataset to manage\n",
    "    spark_train_raw : pyspark_df.DataFrame\n",
    "        The raw training set\n",
    "    spark_test_raw : pyspark_df.DataFrame\n",
    "        The raw test set\n",
    "    train : pyspark_df.DataFrame\n",
    "        The preprocessed training set\n",
    "    test : pyspark_df.DataFrame\n",
    "        The preprocessed test set\n",
    "    lexicon : pyspark_df.DataFrame\n",
    "        The lexicon used to deduce the features\n",
    "    positive_lexicon : pyspark_df.DataFrame\n",
    "        The positive elements of the lexicon\n",
    "    negative_lexicon : pyspark_df.DataFrame\n",
    "        The negative elements of the lexicon\n",
    "    \"\"\"\n",
    "    def __init__(self, dataset: dict):\n",
    "        self.dataset = dataset\n",
    "        self.spark_train_raw = self._raw_dataset(\"train\")\n",
    "        self.spark_test_raw = self._raw_dataset(\"test\")\n",
    "        self.spark_train = self.preprocess(self.spark_train_raw)\n",
    "        self.spark_test = self.preprocess(self.spark_test_raw)\n",
    "\n",
    "    def _raw_dataset(self, split: str) -> pyspark_df.DataFrame:\n",
    "        return spark.createDataFrame(dataset[split], schema=[\"class\", \"document\"])\n",
    "    \n",
    "    def preprocess(self, df: pyspark_df.DataFrame) -> pyspark_df.DataFrame:\n",
    "        \"\"\"\n",
    "        Preprocess the dataset by lowercasing the text and removing the punctuation manually using spark\n",
    "\n",
    "        Parameters\n",
    "        ----------\n",
    "        df : pd.DataFrame\n",
    "            The dataset to preprocess\n",
    "\n",
    "        Returns\n",
    "        -------\n",
    "        pd.DataFrame\n",
    "            The preprocessed dataset\n",
    "        \"\"\"\n",
    "        # First lower the case\n",
    "        df = df.withColumn(\"document\", F.lower(F.col(\"document\")))\n",
    "        # Replace the punctuation with spaces. We keep the ' - that may give revelant informations\n",
    "        # Replace HTML tag <br />\n",
    "        df = df.withColumn(\"document\", F.regexp_replace(F.col(\"document\"), r\"[^a-zA-Z0-9'-]\", \" \"))\n",
    "        df = df.withColumn(\"document\", F.regexp_replace(F.col(\"document\"), r\"<br />\", \" \"))\n",
    "        # Remove the extra spaces\n",
    "        df = df.withColumn(\"document\", F.regexp_replace(F.col(\"document\"), r\"\\s+\", \" \"))\n",
    "        return df\n",
    "    \n",
    "\n",
    "    def add_lexicon(self, lexicon: pyspark_df.DataFrame):\n",
    "        \"\"\"\n",
    "        Add and compute the lexicon for the dataset.\n",
    "        Separate the lexicon into positive and negative words and store them as lists\n",
    "\n",
    "        Parameters\n",
    "        ----------\n",
    "        lexicon : pd.DataFrame\n",
    "            The lexicon to add\n",
    "        \"\"\"\n",
    "        lexicon = lexicon.withColumnRenamed(\"_c0\", \"Token\").withColumnRenamed(\"_c1\", \"Score\")\n",
    "        lexicon = lexicon.drop(\"_c2\", \"_c3\")\n",
    "        lexicon = lexicon.filter((F.col(\"Score\") <= -threshold) | (F.col(\"Score\") >= threshold))\n",
    "        self.lexicon = lexicon\n",
    "\n",
    "        # We create a list of the positive and negative words\n",
    "        positive_lexicon = self.lexicon.filter(F.col(\"Score\") >= threshold)\n",
    "        positive_lexicon_list = positive_lexicon.select(\"Token\").rdd.flatMap(lambda x: x).collect()\n",
    "        self.positive_lexicon = positive_lexicon_list\n",
    "\n",
    "        negative_lexicon = self.lexicon.filter(F.col(\"Score\") <= -threshold)\n",
    "        negative_lexicon_list = negative_lexicon.select(\"Token\").rdd.flatMap(lambda x: x).collect()\n",
    "        self.negative_lexicon = negative_lexicon_list\n",
    "\n",
    "    def generate_features(self, df: pyspark_df.DataFrame) -> pyspark_df.DataFrame:\n",
    "        \"\"\"\n",
    "        Generate the features for the dataset\n",
    "\n",
    "        Parameters\n",
    "        ----------\n",
    "        df : pyspark_df.DataFrame\n",
    "            The dataset to generate the features for\n",
    "\n",
    "        Returns\n",
    "        -------\n",
    "        pyspark_df.DataFrame\n",
    "            The dataset with the features\n",
    "        \"\"\"\n",
    "        # check if \"no\" is in the document\n",
    "        df = df.withColumn(\"no\", _cnt_no(F.split(F.col(\"document\"), \" \")))\n",
    "        # The count of first and second pronouns in the document.\n",
    "        df = df.withColumn(\"pronouns\", _cnt_pronouns(F.split(F.col(\"document\"), \" \")))\n",
    "        # 1 if \"!\" is in the document, 0 otherwise.\n",
    "        df = df.withColumn(\"exclamation\", F.when(F.col(\"document\").contains(\"!\"), 1).otherwise(0))\n",
    "        # Log(word count in the document).\n",
    "        df = df.withColumn(\"log_word_count\", F.log(F.size(F.array_distinct(F.split(F.col(\"document\"), \" \")))))\n",
    "        # Number of words in the document which are in the positive lexicon (score >= 1 in the lexicon_spark dataframe)\n",
    "        df = df.withColumn(\"positive_lexicon\", _cnt_lex(self.positive_lexicon)(F.split(F.col(\"document\"), \" \")))\n",
    "        # Number of words in the document which are in the negative lexicon (score <= -1 in the lexicon_spark dataframe)\n",
    "        df = df.withColumn(\"negative_lexicon\", _cnt_lex(self.negative_lexicon)(F.split(F.col(\"document\"), \" \")))\n",
    "        \n",
    "        # create a new column with all these values in a list\n",
    "        df = df.withColumn(\"feature_vector\", F.array(\"no\", \"pronouns\", \"exclamation\", \"log_word_count\", \"positive_lexicon\", \"negative_lexicon\"))\n",
    "        # drop the columns we don't need anymore\n",
    "        df = df.drop(\"no\", \"pronouns\", \"exclamation\", \"log_word_count\", \"positive_lexicon\", \"negative_lexicon\")\n",
    "        return df\n",
    "\n",
    "    def convert_to_pandas(self) -> None:\n",
    "        \"\"\"\n",
    "        Convert the spark_train and spark_test to pandas dataframe\n",
    "        \"\"\"\n",
    "        print(\"Converting train set to pandas dataframe...\")\n",
    "        self.train = self.spark_train.toPandas()\n",
    "        print(\"Converting test set to pandas dataframe...\")\n",
    "        self.test = self.spark_test.toPandas()"
   ]
  },
  {
   "cell_type": "code",
   "execution_count": 15,
   "metadata": {},
   "outputs": [
    {
     "name": "stdout",
     "output_type": "stream",
     "text": [
      "23/04/03 13:19:23 WARN TaskSetManager: Stage 16 contains a task of very large size (3893 KiB). The maximum recommended task size is 1000 KiB.\n"
     ]
    },
    {
     "name": "stderr",
     "output_type": "stream",
     "text": [
      "                                                                                \r"
     ]
    },
    {
     "name": "stdout",
     "output_type": "stream",
     "text": [
      "+-----+--------------------+--------------------+\n",
      "|class|            document|      feature_vector|\n",
      "+-----+--------------------+--------------------+\n",
      "|    0|i rented i am cur...|[1, 7, 0, 5.18738...|\n",
      "|    0| i am curious yel...|[1, 2, 0, 5.03695...|\n",
      "|    0|if only to avoid ...|[1, 0, 0, 4.26267...|\n",
      "|    0|this film was pro...|[0, 3, 0, 4.47733...|\n",
      "|    0|oh brother after ...|[0, 10, 0, 5.2678...|\n",
      "|    0|i would put this ...|[0, 3, 0, 4.40671...|\n",
      "|    0|whoever wrote the...|[0, 4, 0, 4.46590...|\n",
      "|    0|when i first saw ...|[0, 7, 0, 5.05624...|\n",
      "|    0|who are these the...|[1, 2, 0, 5.65599...|\n",
      "|    0|this is said to b...|[1, 2, 0, 4.94875...|\n",
      "+-----+--------------------+--------------------+\n",
      "only showing top 10 rows\n",
      "\n",
      "Converting train set to pandas dataframe...\n",
      "23/04/03 13:20:05 WARN TaskSetManager: Stage 17 contains a task of very large size (3893 KiB). The maximum recommended task size is 1000 KiB.\n"
     ]
    },
    {
     "name": "stderr",
     "output_type": "stream",
     "text": [
      "                                                                                \r"
     ]
    },
    {
     "name": "stdout",
     "output_type": "stream",
     "text": [
      "Converting test set to pandas dataframe...\n",
      "23/04/03 13:21:29 WARN TaskSetManager: Stage 18 contains a task of very large size (3861 KiB). The maximum recommended task size is 1000 KiB.\n"
     ]
    },
    {
     "name": "stderr",
     "output_type": "stream",
     "text": [
      "                                                                                \r"
     ]
    },
    {
     "name": "stdout",
     "output_type": "stream",
     "text": [
      "CPU times: user 1.36 s, sys: 445 ms, total: 1.8 s\n",
      "Wall time: 3min 33s\n"
     ]
    }
   ],
   "source": [
    "%%time\n",
    "\n",
    "# initialize the spark dataset\n",
    "imdb_dataset_spark = IMDBDatasetSpark(dataset)\n",
    "lexicon_spark = spark.read.csv(\"vader_lexicon.txt\", sep=\"\\t\", header=False, inferSchema=True)\n",
    "imdb_dataset_spark.add_lexicon(lexicon_spark)\n",
    "imdb_dataset_spark.spark_train = imdb_dataset_spark.generate_features(imdb_dataset_spark.spark_train)\n",
    "imdb_dataset_spark.spark_test = imdb_dataset_spark.generate_features(imdb_dataset_spark.spark_test)\n",
    "imdb_dataset_spark.spark_train.show(10)\n",
    "imdb_dataset_spark.convert_to_pandas()"
   ]
  },
  {
   "cell_type": "code",
   "execution_count": 18,
   "metadata": {},
   "outputs": [
    {
     "name": "stdout",
     "output_type": "stream",
     "text": [
      "tensor(1.3057, grad_fn=<BinaryCrossEntropyWithLogitsBackward0>)\n",
      "tensor(0.5834, grad_fn=<BinaryCrossEntropyWithLogitsBackward0>)\n",
      "tensor(0.5821, grad_fn=<BinaryCrossEntropyWithLogitsBackward0>)\n",
      "tensor(0.5824, grad_fn=<BinaryCrossEntropyWithLogitsBackward0>)\n",
      "tensor(0.5826, grad_fn=<BinaryCrossEntropyWithLogitsBackward0>)\n",
      "tensor(0.5827, grad_fn=<BinaryCrossEntropyWithLogitsBackward0>)\n",
      "tensor(0.5828, grad_fn=<BinaryCrossEntropyWithLogitsBackward0>)\n",
      "tensor(0.5828, grad_fn=<BinaryCrossEntropyWithLogitsBackward0>)\n",
      "tensor(0.5828, grad_fn=<BinaryCrossEntropyWithLogitsBackward0>)\n",
      "tensor(0.5828, grad_fn=<BinaryCrossEntropyWithLogitsBackward0>)\n"
     ]
    }
   ],
   "source": [
    "# reinitialize the model\n",
    "model = LinearRegression(6, 1)\n",
    "criterion = nn.BCEWithLogitsLoss()\n",
    "optimizer = torch.optim.SGD(model.parameters(), lr=0.01, weight_decay=0.5)\n",
    "\n",
    "classifier = ClassifierWrapper(model, criterion, optimizer, imdb_dataset_spark)\n",
    "classifier.fit()"
   ]
  },
  {
   "cell_type": "code",
   "execution_count": 19,
   "metadata": {},
   "outputs": [
    {
     "data": {
      "image/png": "[encoded data removed]",
      "text/plain": [
       "<Figure size 640x480 with 1 Axes>"
      ]
     },
     "metadata": {},
     "output_type": "display_data"
    }
   ],
   "source": [
    "classifier.plot_losses()"
   ]
  },
  {
   "cell_type": "code",
   "execution_count": 20,
   "metadata": {},
   "outputs": [
    {
     "name": "stdout",
     "output_type": "stream",
     "text": [
      "0.7151058823529411 0.7026666666666667 0.71304\n"
     ]
    }
   ],
   "source": [
    "p_train = classifier.predict(classifier.X_train)\n",
    "training_accuracy = np.mean(p_train == classifier.y_train.numpy())\n",
    "p_valid = classifier.predict(classifier.X_valid)\n",
    "valid_accuracy = np.mean(p_valid == classifier.y_valid.numpy())\n",
    "p_test = classifier.predict(classifier.features_test)\n",
    "test_accuracy = np.mean(p_test == classifier.labels_test.numpy())\n",
    "print(training_accuracy, valid_accuracy, test_accuracy)"
   ]
  },
  {
   "attachments": {},
   "cell_type": "markdown",
   "metadata": {},
   "source": [
    "We get the same results as before, so we can be sure that the classifier is working correctly. Also, using PySpark is much faster than using Pandas."
   ]
  }
 ],
 "metadata": {
  "kernelspec": {
   "display_name": ".venv",
   "language": "python",
   "name": "python3"
  },
  "language_info": {
   "codemirror_mode": {
    "name": "ipython",
    "version": 3
   },
   "file_extension": ".py",
   "mimetype": "text/x-python",
   "name": "python",
   "nbconvert_exporter": "python",
   "pygments_lexer": "ipython3",
   "version": "3.9.6"
  },
  "orig_nbformat": 4
 },
 "nbformat": 4,
 "nbformat_minor": 2
}
