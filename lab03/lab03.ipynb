{
 "cells": [
  {
   "cell_type": "code",
   "execution_count": 114,
   "metadata": {},
   "outputs": [],
   "source": [
    "from datasets import load_dataset\n",
    "import pandas as pd\n",
    "import numpy as np"
   ]
  },
  {
   "cell_type": "code",
   "execution_count": 115,
   "metadata": {},
   "outputs": [
    {
     "name": "stderr",
     "output_type": "stream",
     "text": [
      "Found cached dataset imdb (/Users/quentinfisch/.cache/huggingface/datasets/imdb/plain_text/1.0.0/d613c88cf8fa3bab83b4ded3713f1f74830d1100e171db75bbddb80b3345c9c0)\n",
      "100%|██████████| 3/3 [00:00<00:00, 97.25it/s]\n"
     ]
    }
   ],
   "source": [
    "dataset = load_dataset(\"imdb\")"
   ]
  },
  {
   "attachments": {},
   "cell_type": "markdown",
   "metadata": {},
   "source": [
    "## Features"
   ]
  },
  {
   "attachments": {},
   "cell_type": "markdown",
   "metadata": {},
   "source": [
    "### Preprocessing"
   ]
  },
  {
   "attachments": {},
   "cell_type": "markdown",
   "metadata": {},
   "source": [
    "First, we need to preprocess the data. We will use the same preprocessing as in the previous lab."
   ]
  },
  {
   "cell_type": "code",
   "execution_count": 119,
   "metadata": {},
   "outputs": [],
   "source": [
    "from string import punctuation\n",
    "import re\n",
    "\n",
    "def preprocess(df: pd.DataFrame) -> pd.DataFrame :\n",
    "    \"\"\"\n",
    "    Preprocess the dataset by lowercasing the text and removing the punctuation manually\n",
    "\n",
    "    Parameters\n",
    "    ----------\n",
    "    df : pd.DataFrame\n",
    "        The dataset to preprocess\n",
    "\n",
    "    Returns\n",
    "    -------\n",
    "    pd.DataFrame\n",
    "        The preprocessed dataset\n",
    "    \"\"\"\n",
    "    # First lower the case\n",
    "    df[\"document\"] = df[\"document\"].apply(lambda x: x.lower())\n",
    "    # Replace the punctuation with spaces. We keep the ' - that may give revelant informations\n",
    "    # Replace HTML tag <br />\n",
    "    punctuation_to_remove = '|'.join(map(re.escape, sorted(list(filter(lambda p: p != \"'\" and p != '-' and p != \"!\", punctuation)), reverse=True)))\n",
    "    df[\"document\"] = df[\"document\"].apply(lambda x: re.sub(punctuation_to_remove, \" \", x.replace('<br />', \"\")))\n",
    "    # Remove the multiple spaces\n",
    "    df[\"document\"] = df[\"document\"].apply(lambda x: re.sub(' +', ' ', x))\n",
    "    # Remove the leading and trailing whitespaces\n",
    "    df[\"document\"] = df[\"document\"].apply(lambda x: x.strip())\n",
    "    return df"
   ]
  },
  {
   "cell_type": "code",
   "execution_count": 120,
   "metadata": {},
   "outputs": [],
   "source": [
    "train_raw = pd.DataFrame(dataset[\"train\"], columns=[\"text\", \"label\"]).rename(columns={\"text\": \"document\", \"label\": \"class\"})\n",
    "preprocessed_train = preprocess(train_raw)\n",
    "test_raw = pd.DataFrame(dataset[\"test\"], columns=[\"text\", \"label\"]).rename(columns={\"text\": \"document\", \"label\": \"class\"})\n",
    "preprocessed_test = preprocess(test_raw)"
   ]
  },
  {
   "attachments": {},
   "cell_type": "markdown",
   "metadata": {},
   "source": [
    "Load lexicon and keep only interesting tokens (one above the treshold)"
   ]
  },
  {
   "cell_type": "code",
   "execution_count": 121,
   "metadata": {},
   "outputs": [],
   "source": [
    "threshold = 1\n",
    "lexicon = pd.read_csv(\"vader_lexicon.txt\", sep=\"\\t\", names=['Token', \"Score\", \"Std\", \"Vector\"]).drop(columns=[\"Std\", \"Vector\"]).set_index(\"Token\")\n",
    "lexicon = lexicon[(lexicon[\"Score\"] <= -threshold) | (lexicon[\"Score\"] >= threshold)]"
   ]
  },
  {
   "attachments": {},
   "cell_type": "markdown",
   "metadata": {},
   "source": [
    "#### Generate the following features:\n",
    "- 1 if \"no\" appears in the document, 0 otherwise.\n",
    "- The count of first and second pronouns in the document.\n",
    "- 1 if \"!\" is in the document, 0 otherwise.\n",
    "- Log(word count in the document).\n",
    "- Number of words in the document which are in the positive lexicon.\n",
    "- Number of words in the document which are in the negative lexicon.\n",
    "- [Bonus] Add another feature of your choice."
   ]
  },
  {
   "cell_type": "code",
   "execution_count": 75,
   "metadata": {},
   "outputs": [],
   "source": [
    "def is_in_lexicon(word: str, positive: bool):\n",
    "    try:\n",
    "        score = lexicon.at[word, \"Score\"].item()\n",
    "        return score >= threshold if positive else score <= -threshold\n",
    "    except:\n",
    "        return False\n",
    "\n",
    "def generate_features(dataset: pd.DataFrame) -> pd.DataFrame :\n",
    "    \"\"\"\n",
    "    Generate the features for the dataset\n",
    "\n",
    "    Parameters\n",
    "    ----------\n",
    "    dataset : pd.DataFrame\n",
    "        The dataset to generate the features for\n",
    "\n",
    "    Returns\n",
    "    -------\n",
    "    pd.DataFrame\n",
    "        The dataset with the features\n",
    "    \"\"\"\n",
    "    dataset[\"no\"] = dataset[\"document\"].apply(lambda x: 1 if \"no\" in x.split(\" \") else 0)\n",
    "    dataset[\"pronouns\"] = dataset[\"document\"].apply(lambda x: x.split(\" \")).apply(lambda x: x.count(\"i\") + x.count(\"we\") + x.count(\"you\"))\n",
    "    dataset[\"exclamation\"] = dataset[\"document\"].apply(lambda x: 1 if \"!\" in x else 0)\n",
    "    dataset[\"log_word_count\"] = dataset[\"document\"].apply(lambda x: np.log(len(x.split(\" \"))))\n",
    "    dataset[\"positive_lexicon\"] = dataset[\"document\"].apply(lambda x: len(list(filter(lambda w: is_in_lexicon(w, True), x.split(\" \")))))\n",
    "    dataset[\"negative_lexicon\"] = dataset[\"document\"].apply(lambda x: len(list(filter(lambda w: is_in_lexicon(w, False), x.split(\" \")))))\n",
    "\n",
    "    # add feature vector column\n",
    "    dataset[\"feature_vector\"] = dataset.apply(lambda x: [x[\"no\"], x[\"pronouns\"], x[\"exclamation\"], x[\"log_word_count\"], x[\"positive_lexicon\"], x[\"negative_lexicon\"]], axis=1)\n",
    "    # drop the other columns\n",
    "    dataset = dataset.drop(columns=[\"no\", \"pronouns\", \"exclamation\", \"log_word_count\", \"positive_lexicon\", \"negative_lexicon\"])\n",
    "\n",
    "    return dataset"
   ]
  },
  {
   "attachments": {},
   "cell_type": "markdown",
   "metadata": {},
   "source": [
    "Using smaller datasets for training and testing, we can check the features generated."
   ]
  },
  {
   "cell_type": "code",
   "execution_count": 123,
   "metadata": {},
   "outputs": [
    {
     "data": {
      "text/plain": [
       "[1, 7, 0, 5.655991810819852, 7, 6]"
      ]
     },
     "execution_count": 123,
     "metadata": {},
     "output_type": "execute_result"
    }
   ],
   "source": [
    "reduced_train = preprocessed_train.iloc[::100].copy()\n",
    "reduced_train = generate_features(reduced_train)\n",
    "\n",
    "reduced_test = preprocessed_test.iloc[::100].copy()\n",
    "reduced_test = generate_features(reduced_test)\n",
    "\n",
    "reduced_train[\"feature_vector\"][0]"
   ]
  },
  {
   "attachments": {},
   "cell_type": "markdown",
   "metadata": {},
   "source": [
    "The features look good. We can wrap all this processing in a class to make it easier in the future."
   ]
  },
  {
   "cell_type": "code",
   "execution_count": 78,
   "metadata": {},
   "outputs": [],
   "source": [
    "from abc import ABC, abstractmethod\n",
    "from string import punctuation\n",
    "import re\n",
    "\n",
    "class DatasetManager(ABC):\n",
    "    \"\"\"\n",
    "    Abstract class to manage the dataset\n",
    "    \n",
    "    Methods\n",
    "    -------\n",
    "    _raw_dataset(split: str) -> pd.DataFrame\n",
    "        Return the raw dataset as a pandas dataframe\n",
    "    preprocess(df: pd.DataFrame) -> pd.DataFrame\n",
    "        Preprocess the dataset by lowercasing the text and removing the punctuation manually\n",
    "    \"\"\"\n",
    "    @abstractmethod\n",
    "    def _raw_dataset(self, split: str) -> pd.DataFrame:\n",
    "        raise NotImplementedError()\n",
    "    \n",
    "    @abstractmethod\n",
    "    def preprocess(self, df: pd.DataFrame) -> pd.DataFrame :\n",
    "        raise NotImplementedError()\n",
    "    \n",
    "    @abstractmethod\n",
    "    def generate_features(self, dataset) :\n",
    "        raise NotImplementedError()\n",
    "\n",
    "\n",
    "class IMDBDataset(DatasetManager):\n",
    "    \"\"\"\n",
    "    Class to manage the IMDB dataset using Pandas\n",
    "\n",
    "    Parameters\n",
    "    ----------\n",
    "    dataset : dict\n",
    "        The dataset to manage\n",
    "\n",
    "    Attributes\n",
    "    ----------\n",
    "    dataset : dict\n",
    "        The dataset to manage\n",
    "    train_raw : pd.DataFrame\n",
    "        The raw train dataset\n",
    "    test_raw : pd.DataFrame\n",
    "        The raw test dataset\n",
    "    train : pd.DataFrame\n",
    "        The preprocessed train dataset\n",
    "    test : pd.DataFrame \n",
    "        The preprocessed test dataset\n",
    "    lexicon : pd.DataFrame\n",
    "        The lexicon used to generate the features\n",
    "    \"\"\"\n",
    "    def __init__(self, dataset: dict):\n",
    "        self.dataset = dataset\n",
    "        self.train_raw = self._raw_dataset(\"train\")\n",
    "        self.test_raw = self._raw_dataset(\"test\")\n",
    "        self.train = self.preprocess(self.train_raw)\n",
    "        self.test = self.preprocess(self.test_raw)\n",
    "    \n",
    "    def _raw_dataset(self, split: str) -> pd.DataFrame:\n",
    "        \"\"\"\n",
    "        Return the raw dataset as a pandas dataframe\n",
    "\n",
    "        Parameters\n",
    "        ----------\n",
    "        split : str\n",
    "            The split of the dataset to return\n",
    "\n",
    "        Returns\n",
    "        -------\n",
    "        pd.DataFrame\n",
    "            The raw dataset as a pandas dataframe\n",
    "        \"\"\"\n",
    "        return pd.DataFrame(dataset[split], columns=[\"text\", \"label\"]).rename(columns={\"text\": \"document\", \"label\": \"class\"})\n",
    "    \n",
    "    def preprocess(self, df: pd.DataFrame) -> pd.DataFrame :\n",
    "        \"\"\"\n",
    "        Preprocess the dataset by lowercasing the text and removing the punctuation manually\n",
    "\n",
    "        Parameters\n",
    "        ----------\n",
    "        df : pd.DataFrame\n",
    "            The dataset to preprocess\n",
    "\n",
    "        Returns\n",
    "        -------\n",
    "        pd.DataFrame\n",
    "            The preprocessed dataset\n",
    "        \"\"\"\n",
    "        # First lower the case\n",
    "        df[\"document\"] = df[\"document\"].apply(lambda x: x.lower())\n",
    "        # Replace the punctuation with spaces. We keep the ' - that may give revelant informations\n",
    "        # Replace HTML tag <br />\n",
    "        punctuation_to_remove = '|'.join(map(re.escape, sorted(list(filter(lambda p: p != \"'\" and p != '-' and p != \"!\", punctuation)), reverse=True)))\n",
    "        df[\"document\"] = df[\"document\"].apply(lambda x: re.sub(punctuation_to_remove, \" \", x.replace('<br />', \"\")))\n",
    "        # Remove the multiple spaces\n",
    "        df[\"document\"] = df[\"document\"].apply(lambda x: re.sub(' +', ' ', x))\n",
    "        # Remove the leading and trailing whitespaces\n",
    "        df[\"document\"] = df[\"document\"].apply(lambda x: x.strip())\n",
    "        return df\n",
    "\n",
    "    def add_lexicon(self, lexicon: pd.DataFrame, threshold: int = 1) -> None:\n",
    "        \"\"\"\n",
    "        Add the lexicon to the dataset\n",
    "\n",
    "        Parameters\n",
    "        ----------\n",
    "        lexicon : pd.DataFrame\n",
    "            The lexicon to add\n",
    "        threshold : int, optional\n",
    "            The threshold to use to add the lexicon, by default 1\n",
    "\n",
    "        Returns\n",
    "        -------\n",
    "        None\n",
    "        \"\"\"\n",
    "        self.lexicon = lexicon[(lexicon[\"Score\"] <= -threshold) | (lexicon[\"Score\"] >= threshold)]\n",
    "\n",
    "    def is_in_lexicon(self, word: str, positive: bool):\n",
    "        \"\"\"\n",
    "        Check if the word is in the lexicon\n",
    "\n",
    "        Parameters\n",
    "        ----------\n",
    "        word : str\n",
    "            The word to check\n",
    "        positive : bool\n",
    "            If the word should be positive or negative\n",
    "\n",
    "        Returns\n",
    "        -------\n",
    "        bool\n",
    "            True if the word is in the lexicon, False otherwise\n",
    "        \"\"\"\n",
    "        try:\n",
    "            score = lexicon.at[word, \"Score\"].item()\n",
    "            return score >= threshold if positive else score <= -threshold\n",
    "        except:\n",
    "            return False\n",
    "\n",
    "    def generate_features(self, df: pd.DataFrame) -> None :\n",
    "        \"\"\"\n",
    "        Generate the features for the dataset\n",
    "\n",
    "        Parameters\n",
    "        ----------\n",
    "        df : pd.DataFrame\n",
    "            The dataset to generate the features for\n",
    "        \"\"\"\n",
    "        df[\"no\"] = df[\"document\"].apply(lambda x: 1 if \"no\" in x.split() else 0)\n",
    "        df[\"pronouns\"] = df[\"document\"].apply(lambda x: x.split(\" \")).apply(lambda x: x.count(\"i\") + x.count(\"we\") + x.count(\"you\"))\n",
    "        df[\"exclamation\"] = df[\"document\"].apply(lambda x: 1 if \"!\" in x else 0)\n",
    "        df[\"log_word_count\"] = df[\"document\"].apply(lambda x: np.log(len(x.split())))\n",
    "        df[\"positive_lexicon\"] = df[\"document\"].apply(lambda x: len(list(filter(lambda w: is_in_lexicon(w, True), x.split()))))\n",
    "        df[\"negative_lexicon\"] = df[\"document\"].apply(lambda x: len(list(filter(lambda w: is_in_lexicon(w, False), x.split()))))\n",
    "\n",
    "        # add feature vector column\n",
    "        df[\"feature_vector\"] = df.apply(lambda x: [x[\"no\"], x[\"pronouns\"], x[\"exclamation\"], x[\"log_word_count\"], x[\"positive_lexicon\"], x[\"negative_lexicon\"]], axis=1)\n",
    "        # drop the other columns\n",
    "        df = df.drop(columns=[\"no\", \"pronouns\", \"exclamation\", \"log_word_count\", \"positive_lexicon\", \"negative_lexicon\"])\n",
    "        return df"
   ]
  },
  {
   "attachments": {},
   "cell_type": "markdown",
   "metadata": {},
   "source": [
    "Let's do the all process again using the full dataset and our new class.\n",
    "\n",
    "IMPORTANT: The following code will take a long time to run. We optimized it in two ways:\n",
    "- Using PySpark to parallelize the processing (see section \"Optimize with PySpark\").\n",
    "- Using vectorization on numpy arrays (see section \"Optimize with numpy arrays\").\n",
    "\n",
    "We commited to using Pandas in a first place, so let's see how it performs."
   ]
  },
  {
   "cell_type": "code",
   "execution_count": 79,
   "metadata": {},
   "outputs": [
    {
     "name": "stdout",
     "output_type": "stream",
     "text": [
      "Deleting all these punctuation: \\~|\\}|\\||\\{|`|_|\\^|\\]|\\\\|\\[|@|\\?|>|=|<|;|:|/|\\.|,|\\+|\\*|\\)|\\(|\\&|%|\\$|\\#|\"\n",
      "Deleting all these punctuation: \\~|\\}|\\||\\{|`|_|\\^|\\]|\\\\|\\[|@|\\?|>|=|<|;|:|/|\\.|,|\\+|\\*|\\)|\\(|\\&|%|\\$|\\#|\"\n",
      "CPU times: user 29min 21s, sys: 8.49 s, total: 29min 30s\n",
      "Wall time: 29min 35s\n"
     ]
    },
    {
     "data": {
      "text/html": [
       "<div>\n",
       "<style scoped>\n",
       "    .dataframe tbody tr th:only-of-type {\n",
       "        vertical-align: middle;\n",
       "    }\n",
       "\n",
       "    .dataframe tbody tr th {\n",
       "        vertical-align: top;\n",
       "    }\n",
       "\n",
       "    .dataframe thead th {\n",
       "        text-align: right;\n",
       "    }\n",
       "</style>\n",
       "<table border=\"1\" class=\"dataframe\">\n",
       "  <thead>\n",
       "    <tr style=\"text-align: right;\">\n",
       "      <th></th>\n",
       "      <th>document</th>\n",
       "      <th>class</th>\n",
       "      <th>feature_vector</th>\n",
       "    </tr>\n",
       "  </thead>\n",
       "  <tbody>\n",
       "    <tr>\n",
       "      <th>0</th>\n",
       "      <td>i rented i am curious-yellow from my video sto...</td>\n",
       "      <td>0</td>\n",
       "      <td>[1, 7, 0, 5.655991810819852, 7, 6]</td>\n",
       "    </tr>\n",
       "    <tr>\n",
       "      <th>1</th>\n",
       "      <td>i am curious yellow is a risible and pretentio...</td>\n",
       "      <td>0</td>\n",
       "      <td>[1, 2, 0, 5.365976015021851, 5, 4]</td>\n",
       "    </tr>\n",
       "    <tr>\n",
       "      <th>2</th>\n",
       "      <td>if only to avoid making this type of film in t...</td>\n",
       "      <td>0</td>\n",
       "      <td>[1, 0, 0, 4.48863636973214, 3, 3]</td>\n",
       "    </tr>\n",
       "    <tr>\n",
       "      <th>3</th>\n",
       "      <td>this film was probably inspired by godard's ma...</td>\n",
       "      <td>0</td>\n",
       "      <td>[0, 3, 0, 4.770684624465665, 5, 5]</td>\n",
       "    </tr>\n",
       "    <tr>\n",
       "      <th>4</th>\n",
       "      <td>oh brother after hearing about this ridiculous...</td>\n",
       "      <td>0</td>\n",
       "      <td>[0, 10, 1, 5.733341276897746, 4, 11]</td>\n",
       "    </tr>\n",
       "  </tbody>\n",
       "</table>\n",
       "</div>"
      ],
      "text/plain": [
       "                                            document  class  \\\n",
       "0  i rented i am curious-yellow from my video sto...      0   \n",
       "1  i am curious yellow is a risible and pretentio...      0   \n",
       "2  if only to avoid making this type of film in t...      0   \n",
       "3  this film was probably inspired by godard's ma...      0   \n",
       "4  oh brother after hearing about this ridiculous...      0   \n",
       "\n",
       "                         feature_vector  \n",
       "0    [1, 7, 0, 5.655991810819852, 7, 6]  \n",
       "1    [1, 2, 0, 5.365976015021851, 5, 4]  \n",
       "2     [1, 0, 0, 4.48863636973214, 3, 3]  \n",
       "3    [0, 3, 0, 4.770684624465665, 5, 5]  \n",
       "4  [0, 10, 1, 5.733341276897746, 4, 11]  "
      ]
     },
     "execution_count": 79,
     "metadata": {},
     "output_type": "execute_result"
    }
   ],
   "source": [
    "%%time\n",
    "\n",
    "imdb_dataset = IMDBDataset(dataset)\n",
    "lexicon = pd.read_csv(\"vader_lexicon.txt\", sep=\"\\t\", names=['Token', \"Score\", \"Std\", \"Vector\"]).drop(columns=[\"Std\", \"Vector\"]).set_index(\"Token\")\n",
    "imdb_dataset.add_lexicon(lexicon, threshold=1)\n",
    "imdb_dataset.train = imdb_dataset.generate_features(imdb_dataset.train.copy())\n",
    "imdb_dataset.test = imdb_dataset.generate_features(imdb_dataset.test.copy())"
   ]
  },
  {
   "attachments": {},
   "cell_type": "markdown",
   "metadata": {},
   "source": [
    "It takes ~30mins to get all the features, which is too long. That's why we will use PySpark to parallelize the processing and numpy to vectorize the features in the next sections (after \"Logistic Regression classifier\")."
   ]
  },
  {
   "attachments": {},
   "cell_type": "markdown",
   "metadata": {},
   "source": [
    "## Logistic regression classifier"
   ]
  },
  {
   "cell_type": "code",
   "execution_count": 80,
   "metadata": {},
   "outputs": [],
   "source": [
    "import torch\n",
    "from torch import nn\n",
    "from sklearn.model_selection import train_test_split\n",
    "\n",
    "import matplotlib.pyplot as plt"
   ]
  },
  {
   "cell_type": "code",
   "execution_count": 81,
   "metadata": {},
   "outputs": [],
   "source": [
    "class LinearRegression(nn.Module):\n",
    "    \"\"\"A linear regression implementation\"\"\"\n",
    "\n",
    "    def __init__(self, input_dim: int, nb_classes: int) -> None:\n",
    "        \"\"\"\n",
    "        Args:\n",
    "            input_dim: the dimension of the input features.\n",
    "            nb_classes: the number of classes to predict.\n",
    "        \"\"\"\n",
    "        super().__init__()\n",
    "        self.linear = nn.Linear(input_dim, nb_classes)\n",
    "\n",
    "    def forward(self, x: torch.Tensor) -> torch.Tensor:\n",
    "        \"\"\"\n",
    "        Args:\n",
    "            x: the input tensor.\n",
    "        Returns:\n",
    "            The output of the linear layer.\n",
    "        \"\"\"\n",
    "        return self.linear(x)"
   ]
  },
  {
   "cell_type": "code",
   "execution_count": 82,
   "metadata": {},
   "outputs": [],
   "source": [
    "model = LinearRegression(6, 1)\n",
    "criterion = nn.BCEWithLogitsLoss()\n",
    "optimizer = torch.optim.SGD(model.parameters(), lr=0.01, weight_decay=0.5)"
   ]
  },
  {
   "attachments": {},
   "cell_type": "markdown",
   "metadata": {},
   "source": [
    "Split the data into training and test sets."
   ]
  },
  {
   "cell_type": "code",
   "execution_count": 124,
   "metadata": {},
   "outputs": [],
   "source": [
    "features_train = imdb_dataset.train[\"feature_vector\"]\n",
    "features_train = np.array(features_train.to_list())\n",
    "labels_train = imdb_dataset.train[\"class\"].to_numpy()\n",
    "\n",
    "features_train = torch.tensor(features_train, dtype=torch.float32)\n",
    "labels_train = torch.tensor(labels_train, dtype=torch.float32).reshape(-1, 1)\n",
    "\n",
    "X_train, X_valid, y_train, y_valid = train_test_split(\n",
    "    features_train,\n",
    "    labels_train,\n",
    "    test_size=0.15,\n",
    "    stratify=labels_train,\n",
    "    random_state=42,\n",
    ")"
   ]
  },
  {
   "attachments": {},
   "cell_type": "markdown",
   "metadata": {},
   "source": [
    "Let's do the same feature engineering for the test set"
   ]
  },
  {
   "cell_type": "code",
   "execution_count": 125,
   "metadata": {},
   "outputs": [],
   "source": [
    "features_test = imdb_dataset.test[\"feature_vector\"]\n",
    "features_test = np.array(features_test.to_list())\n",
    "X_test = torch.tensor(features_test, dtype=torch.float32)\n",
    "\n",
    "labels_test = imdb_dataset.test[\"class\"].to_numpy()\n",
    "y_test = torch.tensor(labels_test, dtype=torch.float32).reshape(-1, 1)"
   ]
  },
  {
   "cell_type": "code",
   "execution_count": 129,
   "metadata": {},
   "outputs": [
    {
     "name": "stdout",
     "output_type": "stream",
     "text": [
      "tensor(0.5839, grad_fn=<BinaryCrossEntropyWithLogitsBackward0>)\n",
      "tensor(0.5838, grad_fn=<BinaryCrossEntropyWithLogitsBackward0>)\n",
      "tensor(0.5838, grad_fn=<BinaryCrossEntropyWithLogitsBackward0>)\n",
      "tensor(0.5838, grad_fn=<BinaryCrossEntropyWithLogitsBackward0>)\n",
      "tensor(0.5838, grad_fn=<BinaryCrossEntropyWithLogitsBackward0>)\n",
      "tensor(0.5838, grad_fn=<BinaryCrossEntropyWithLogitsBackward0>)\n",
      "tensor(0.5838, grad_fn=<BinaryCrossEntropyWithLogitsBackward0>)\n",
      "tensor(0.5838, grad_fn=<BinaryCrossEntropyWithLogitsBackward0>)\n",
      "tensor(0.5838, grad_fn=<BinaryCrossEntropyWithLogitsBackward0>)\n",
      "tensor(0.5838, grad_fn=<BinaryCrossEntropyWithLogitsBackward0>)\n",
      "CPU times: user 733 ms, sys: 216 ms, total: 949 ms\n",
      "Wall time: 709 ms\n"
     ]
    }
   ],
   "source": [
    "%%time\n",
    "\n",
    "n_epochs = 1000\n",
    "\n",
    "# Keeping an eye on the losses\n",
    "train_losses = []\n",
    "test_losses = []\n",
    "\n",
    "# Training loop\n",
    "for epoch in range(n_epochs):\n",
    "    # Setting all gradients to zero.\n",
    "    optimizer.zero_grad()\n",
    "\n",
    "    # Sending the whole training set through the model.\n",
    "    predictions = model(X_train)\n",
    "    # Computing the loss.\n",
    "    loss = criterion(predictions, y_train)\n",
    "    train_losses.append(loss.item())\n",
    "    if epoch % 100 == 0:\n",
    "        print(loss)\n",
    "    # Computing the gradients and gradient descent.\n",
    "    loss.backward()\n",
    "    optimizer.step()\n",
    "\n",
    "    # When computing the validation loss, we do not want to update the weights.\n",
    "    # torch.no_grad tells PyTorch to not save the necessary data used for\n",
    "    # gradient descent.\n",
    "    with torch.no_grad():\n",
    "        predictions = model(X_valid)\n",
    "        loss = criterion(predictions, y_valid)\n",
    "        test_losses.append(loss)"
   ]
  },
  {
   "cell_type": "code",
   "execution_count": 130,
   "metadata": {},
   "outputs": [
    {
     "data": {
      "image/png": "[encoded data removed]",
      "text/plain": [
       "<Figure size 640x480 with 1 Axes>"
      ]
     },
     "metadata": {},
     "output_type": "display_data"
    }
   ],
   "source": [
    "plt.plot(np.arange(len(train_losses)), train_losses, label=\"Training loss\")\n",
    "plt.plot(np.arange(len(test_losses)), test_losses, label=\"Test loss\")\n",
    "plt.legend()\n",
    "plt.show()"
   ]
  },
  {
   "cell_type": "code",
   "execution_count": 131,
   "metadata": {},
   "outputs": [
    {
     "name": "stdout",
     "output_type": "stream",
     "text": [
      "Training accuracy: 0.7148705882352941\n",
      "Validation accuracy: 0.7032\n",
      "Test accuracy: 0.71356\n"
     ]
    }
   ],
   "source": [
    "with torch.no_grad():\n",
    "    p_train = torch.sigmoid(model(X_train))\n",
    "    p_train = np.round(p_train.numpy())\n",
    "    training_accuracy = np.mean(p_train == y_train.numpy())\n",
    "    p_valid = torch.sigmoid(model(X_valid))\n",
    "    p_valid = np.round(p_valid.numpy())\n",
    "    valid_accuracy = np.mean(p_valid == y_valid.numpy())\n",
    "    p_test = torch.sigmoid(model(X_test))\n",
    "    p_test = np.round(p_test.numpy())\n",
    "    test_accuracy = np.mean(p_test == y_test.numpy())\n",
    "\n",
    "print(f\"Training accuracy: {training_accuracy}\")\n",
    "print(f\"Validation accuracy: {valid_accuracy}\")\n",
    "print(f\"Test accuracy: {test_accuracy}\")"
   ]
  },
  {
   "attachments": {},
   "cell_type": "markdown",
   "metadata": {},
   "source": [
    "#### Accuracy of PyTorch classifier\n",
    "\n",
    "- Accuracy on the training set: 0.7149176470588235\n",
    "- Accuracy on the validation set: 0.7026666666666667\n",
    "- Accuracy on the test set: 0.71364\n",
    "\n",
    "Results are not very satisfying, our Naive Bayes classifier was better...\n",
    "\n",
    "#### Look at the weights of your classifier. Which features seems to play most for both classes ?"
   ]
  },
  {
   "cell_type": "code",
   "execution_count": 88,
   "metadata": {},
   "outputs": [
    {
     "name": "stdout",
     "output_type": "stream",
     "text": [
      "[[-0.03111446 -0.0408401  -0.00792671 -0.01882077  0.12864137 -0.15117335]]\n",
      "4\n"
     ]
    }
   ],
   "source": [
    "# Let's look at the weights of the linear layer\n",
    "weights = model.linear.weight.detach().numpy()\n",
    "print(weights)\n",
    "print(np.argmax(weights))"
   ]
  },
  {
   "attachments": {},
   "cell_type": "markdown",
   "metadata": {},
   "source": [
    "The weights are the following:\n",
    "[[-0.03111446 -0.0408401  -0.00792671 -0.01882077  0.12864137 -0.15117335]]\n",
    "\n",
    "And the maximum weight is for the feature \"number of words in the document which are in the positive lexicon\".\n",
    "\n",
    "The feature playing the most important role in the classification is the number of words in the document which are in the positive lexicon. This is not surprising as the positive lexicon contains words such as \"good\", \"great\", \"excellent\", etc. which are very indicative of a positive review.\n",
    "Looking at absolute values, negative words are the most important. So we see that the lexicon is what gives the main direction to the classification."
   ]
  },
  {
   "cell_type": "code",
   "execution_count": 133,
   "metadata": {},
   "outputs": [
    {
     "name": "stdout",
     "output_type": "stream",
     "text": [
      "first off let me say if you haven't enjoyed a van damme movie since bloodsport you probably will not\n",
      "isaac florentine has made some of the best western martial arts action movies ever produced in parti\n"
     ]
    }
   ],
   "source": [
    "# Take two wrongly classified samples in the test set and try explaining why the model was wrong.\n",
    "wrongly_classified = np.where(p_test != y_test.numpy())[0]\n",
    "\n",
    "# Let's look at the first wrongly classified sample\n",
    "print(imdb_dataset.test.iloc[wrongly_classified[0]][\"document\"][:100])\n",
    "\n",
    "# Let's look at the second wrongly classified sample\n",
    "print(imdb_dataset.test.iloc[wrongly_classified[1]][\"document\"][:100])"
   ]
  },
  {
   "attachments": {},
   "cell_type": "markdown",
   "metadata": {},
   "source": [
    "#### Wrongly classified documents analysis\n",
    "\n",
    "The two wrongly classified examples are the following:\n",
    "\n",
    "1. first off let me say if you haven't enjoyed a van damme movie since bloodsport you probably will not like this movie most of these movies may not have the best plots or best actors but i enjoy these kinds of movies for what they are this movie is much better than any of the movies the other action guys segal and dolph have thought about putting out the past few years van damme is good in the movie the movie is only worth watching to van damme fans it is not as good as wake of death which i highly recommend to anyone of likes van damme or in hell but in my opinion it's worth watching it has the same type of feel to it as nowhere to run good fun stuff!\n",
    "\n",
    "2. isaac florentine has made some of the best western martial arts action movies ever produced in particular us seals 2 cold harvest special forces and undisputed 2 are all action classics you can tell isaac has a real passion for the genre and his films are always eventful creative and sharp affairs with some of the best fight sequences an action fan could hope for in particular he has found a muse with scott adkins as talented an actor and action performer as you could hope for this is borne out with special forces and undisputed 2 but unfortunately the shepherd just doesn't live up to their abilities there is no doubt that jcvd looks better here fight-wise than he has done in years especially in the fight he has for pretty much no reason in a prison cell and in the final showdown with scott but look in his eyes jcvd seems to be dead inside there's nothing in his eyes at all it's like he just doesn't care about anything throughout the whole film and this is the leading man there are other dodgy aspects to the film script-wise and visually but the main problem is that you are utterly unable to empathise with the hero of the film a genuine shame as i know we all wanted this film to be as special as it genuinely could have been there are some good bits mostly the action scenes themselves this film had a terrific director and action choreographer and an awesome opponent for jcvd to face down this could have been the one to bring the veteran action star back up to scratch in the balls-out action movie stakes sincerely a shame that this didn't happen\n",
    "\n",
    "They are both of class 0, but are classified as 1.\n",
    "\n",
    "Their features vectors are the following:\n",
    "\n",
    "1. [0, 4, 1, 4.897839799950911, 12, 2]\n",
    "2. [1, 5, 0, 5.666426688112432, 21, 11]\n",
    "\n",
    "These wrondly classified examples are mostly positive reviews which are classified as negative. This is surely because they are really hard to classify, mixing positive and negative parts. In the first one: 'if you haven't enjoyed a van damme movie since bloodsport you probably will not like this movie' is negative when read on its own, but positive when read in the context of the whole review. The second one also contains negative or mixed parts inside the whole review, which is very confusing for the classifier.\n",
    "\n",
    "Another point might be that these reviews contains a short summary of the movie, with a description of the plot, which is not very indicative of the review itself. These descriptions contain a lot of negative words (such as \"dead\", \"fight\", \"blood\", ...), which can lead to a wrong classification."
   ]
  },
  {
   "attachments": {},
   "cell_type": "markdown",
   "metadata": {},
   "source": [
    "#### Cleaning and refactoring\n",
    "\n",
    "Let's wrap the classifier inside a class to make it easier to use."
   ]
  },
  {
   "cell_type": "code",
   "execution_count": 90,
   "metadata": {},
   "outputs": [],
   "source": [
    "from typing import List\n",
    "\n",
    "class ClassifierWrapper():\n",
    "    \"\"\"\n",
    "    A wrapper around a classifier to make it compatible with the DatasetManager\n",
    "    \"\"\"\n",
    "    random_state = 42\n",
    "\n",
    "    def __init__(self, model: nn.Module, criterion, optimizer, dataset_manager: DatasetManager):\n",
    "        \"\"\"\n",
    "        Args:\n",
    "            model: the model to train.\n",
    "            criterion: the loss function.\n",
    "            optimizer: the optimizer.\n",
    "            dataset_manager: the dataset manager.\n",
    "        \"\"\"\n",
    "        self.model = model\n",
    "        self.dataset_manager = dataset_manager\n",
    "        self.criterion = criterion\n",
    "        self.optimizer = optimizer\n",
    "        self._extract_features()\n",
    "        self.X_train, self.X_valid, self.y_train, self.y_valid = self._split_train_valid()\n",
    "    \n",
    "\n",
    "    def _extract_features(self):\n",
    "        \"\"\"\n",
    "        Extracts the features and labels from the dataset manager\n",
    "        \"\"\"\n",
    "        self.features_train = self.dataset_manager.train[\"feature_vector\"]\n",
    "        self.features_train = np.array(self.features_train.to_list()).astype(np.float32)\n",
    "        self.features_train = torch.tensor(self.features_train, dtype=torch.float32)\n",
    "        self.labels_train = self.dataset_manager.train[\"class\"].to_numpy()\n",
    "        self.labels_train = torch.tensor(self.labels_train, dtype=torch.float32).reshape(-1, 1)\n",
    "\n",
    "        self.features_test = self.dataset_manager.test[\"feature_vector\"]\n",
    "        self.features_test = np.array(self.features_test.to_list()).astype(np.float32)\n",
    "        self.features_test = torch.tensor(self.features_test, dtype=torch.float32)\n",
    "        self.labels_test = self.dataset_manager.test[\"class\"].to_numpy()\n",
    "        self.labels_test = torch.tensor(self.labels_test, dtype=torch.float32).reshape(-1, 1)\n",
    "\n",
    "\n",
    "    def _split_train_valid(self, test_size: float = 0.15) -> tuple[torch.Tensor, torch.Tensor, torch.Tensor, torch.Tensor]:\n",
    "        \"\"\"\n",
    "        Splits the training set into training and validation sets\n",
    "\n",
    "        Parameters\n",
    "        ----------\n",
    "        test_size : float, optional\n",
    "            The proportion of the training set to use for validation, by default 0.15\n",
    "\n",
    "        Returns\n",
    "        -------\n",
    "        X_train, X_valid, y_train, y_valid : torch.Tensor\n",
    "            The training and validation sets\n",
    "        \"\"\"\n",
    "        X_train, X_valid, y_train, y_valid = train_test_split(\n",
    "            self.features_train,\n",
    "            self.labels_train,\n",
    "            test_size=test_size,\n",
    "            stratify=self.labels_train,\n",
    "            random_state=self.random_state,\n",
    "        )\n",
    "        return X_train, X_valid, y_train, y_valid\n",
    "\n",
    "\n",
    "    def fit(self, X: torch.Tensor = None, y: torch.Tensor = None, n_epochs: int = 1000) -> tuple[List[float], List[float]]:\n",
    "        \"\"\"\n",
    "        Fits the model\n",
    "\n",
    "        Parameters\n",
    "        ----------\n",
    "        X : torch.Tensor, optional\n",
    "            The training set. If None, the training set from the dataset manager is used, by default None\n",
    "        y : torch.Tensor, optional\n",
    "            The labels of the training set. If None, the labels from the dataset manager are used, by default None\n",
    "        n_epochs : int, optional\n",
    "            The number of epochs to train for, by default 1000\n",
    "\n",
    "        Returns\n",
    "        -------\n",
    "        train_losses, test_losses : List[float]\n",
    "            The losses of the training and validation sets\n",
    "        \"\"\"\n",
    "        if X is None:\n",
    "            X = self.X_train\n",
    "        if y is None:\n",
    "            y = self.y_train\n",
    "\n",
    "        train_losses = []\n",
    "        test_losses = []\n",
    "        for epoch in range(n_epochs):\n",
    "            self.optimizer.zero_grad()\n",
    "            predictions = self.model(X)\n",
    "            loss = self.criterion(predictions, y)\n",
    "            train_losses.append(loss.item())\n",
    "            if epoch % 100 == 0:\n",
    "                print(loss)\n",
    "            loss.backward()\n",
    "            self.optimizer.step()\n",
    "\n",
    "            with torch.no_grad():\n",
    "                predictions = self.model(self.X_valid)\n",
    "                loss = self.criterion(predictions, self.y_valid)\n",
    "                test_losses.append(loss)\n",
    "\n",
    "        self.train_losses = train_losses\n",
    "        self.test_losses = test_losses\n",
    "\n",
    "\n",
    "    def plot_losses(self):\n",
    "        \"\"\"\n",
    "        Plots the losses of the training and validation sets\n",
    "        \"\"\"\n",
    "        plt.plot(np.arange(len(self.train_losses)), self.train_losses, label=\"Training loss\")\n",
    "        plt.plot(np.arange(len(self.test_losses)), self.test_losses, label=\"Test loss\")\n",
    "        plt.legend()\n",
    "        plt.show()\n",
    "    \n",
    "\n",
    "    def predict(self, X: torch.Tensor) -> torch.Tensor:\n",
    "        \"\"\"\n",
    "        Predicts the labels of the given data\n",
    "\n",
    "        Parameters\n",
    "        ----------\n",
    "        X : torch.Tensor\n",
    "            The data to predict\n",
    "\n",
    "        Returns\n",
    "        -------\n",
    "        p : torch.Tensor\n",
    "            The predictions\n",
    "        \"\"\"\n",
    "        with torch.no_grad():\n",
    "            p = torch.sigmoid(self.model(X))\n",
    "            p = np.round(p.numpy())\n",
    "            return p\n",
    "    \n",
    "    def evaluate(self, X: torch.Tensor, y: torch.Tensor) -> float:\n",
    "        \"\"\"\n",
    "        Evaluates the model on the given data\n",
    "\n",
    "        Parameters\n",
    "        ----------\n",
    "        X : torch.Tensor\n",
    "            The data\n",
    "        y : torch.Tensor\n",
    "            The labels\n",
    "\n",
    "        Returns\n",
    "        -------\n",
    "        accuracy : float\n",
    "            The accuracy of the model\n",
    "        \"\"\"\n",
    "        p = self.predict(X)\n",
    "        accuracy = np.mean(p == y.numpy())\n",
    "        return accuracy"
   ]
  },
  {
   "cell_type": "code",
   "execution_count": 91,
   "metadata": {},
   "outputs": [
    {
     "name": "stdout",
     "output_type": "stream",
     "text": [
      "tensor(1.1071, grad_fn=<BinaryCrossEntropyWithLogitsBackward0>)\n",
      "tensor(0.5893, grad_fn=<BinaryCrossEntropyWithLogitsBackward0>)\n",
      "tensor(0.5860, grad_fn=<BinaryCrossEntropyWithLogitsBackward0>)\n",
      "tensor(0.5849, grad_fn=<BinaryCrossEntropyWithLogitsBackward0>)\n",
      "tensor(0.5844, grad_fn=<BinaryCrossEntropyWithLogitsBackward0>)\n",
      "tensor(0.5842, grad_fn=<BinaryCrossEntropyWithLogitsBackward0>)\n",
      "tensor(0.5840, grad_fn=<BinaryCrossEntropyWithLogitsBackward0>)\n",
      "tensor(0.5839, grad_fn=<BinaryCrossEntropyWithLogitsBackward0>)\n",
      "tensor(0.5839, grad_fn=<BinaryCrossEntropyWithLogitsBackward0>)\n",
      "tensor(0.5838, grad_fn=<BinaryCrossEntropyWithLogitsBackward0>)\n"
     ]
    }
   ],
   "source": [
    "# reinitialize the model\n",
    "model = LinearRegression(6, 1)\n",
    "criterion = nn.BCEWithLogitsLoss()\n",
    "optimizer = torch.optim.SGD(model.parameters(), lr=0.01, weight_decay=0.5)\n",
    "\n",
    "classifier = ClassifierWrapper(model, criterion, optimizer, imdb_dataset)\n",
    "classifier.fit()"
   ]
  },
  {
   "cell_type": "code",
   "execution_count": 92,
   "metadata": {},
   "outputs": [
    {
     "data": {
      "image/png": "[encoded data removed]",
      "text/plain": [
       "<Figure size 640x480 with 1 Axes>"
      ]
     },
     "metadata": {},
     "output_type": "display_data"
    }
   ],
   "source": [
    "classifier.plot_losses()"
   ]
  },
  {
   "cell_type": "code",
   "execution_count": 93,
   "metadata": {},
   "outputs": [
    {
     "name": "stdout",
     "output_type": "stream",
     "text": [
      "Accuracy on the training set: 0.7149176470588235\n",
      "Accuracy on the validation set: 0.7026666666666667\n",
      "Accuracy on the test set: 0.71364\n"
     ]
    }
   ],
   "source": [
    "print(\"Accuracy on the training set:\", classifier.evaluate(classifier.X_train, classifier.y_train))\n",
    "print(\"Accuracy on the validation set:\", classifier.evaluate(classifier.X_valid, classifier.y_valid))\n",
    "print(\"Accuracy on the test set:\", classifier.evaluate(classifier.features_test, classifier.labels_test))"
   ]
  },
  {
   "attachments": {},
   "cell_type": "markdown",
   "metadata": {},
   "source": [
    "Obviously the results are the same (everything is just wrapped in a class). Let's see if we can improve it by using a different classifier.\n",
    "Let's see how sklearn's LogisticRegression performs on the same dataset."
   ]
  },
  {
   "cell_type": "code",
   "execution_count": 95,
   "metadata": {},
   "outputs": [
    {
     "name": "stdout",
     "output_type": "stream",
     "text": [
      "Accuracy on the training set: 0.7150117647058823\n",
      "Accuracy on the validation set: 0.7064\n",
      "Accuracy on the test set: 0.71292\n"
     ]
    }
   ],
   "source": [
    "# use scikit-learn and compare the results\n",
    "from sklearn.linear_model import LogisticRegression\n",
    "from sklearn.metrics import accuracy_score\n",
    "from sklearn.model_selection import train_test_split\n",
    "\n",
    "# convert the features to numpy array\n",
    "X_train = np.array(imdb_dataset.train[\"feature_vector\"].tolist())\n",
    "X_test = np.array(imdb_dataset.test[\"feature_vector\"].tolist())\n",
    "\n",
    "# convert the labels to numpy array\n",
    "y_train = np.array(imdb_dataset.train[\"class\"].tolist())\n",
    "y_test = np.array(imdb_dataset.test[\"class\"].tolist())\n",
    "\n",
    "X_train, X_valid, y_train, y_valid = train_test_split(\n",
    "    X_train,\n",
    "    y_train,\n",
    "    test_size=0.15,\n",
    "    stratify=y_train,\n",
    "    random_state=42,\n",
    ")\n",
    "\n",
    "# initialize the model\n",
    "model = LogisticRegression()\n",
    "\n",
    "# fit the model\n",
    "model.fit(X_train, y_train)\n",
    "\n",
    "# predict the labels\n",
    "y_pred_train = model.predict(X_train)\n",
    "y_pred_valid = model.predict(X_valid)\n",
    "y_pred_test = model.predict(X_test)\n",
    "\n",
    "# calculate the accuracy\n",
    "train_accuracy = accuracy_score(y_train, y_pred_train)\n",
    "valid_accuracy = accuracy_score(y_valid, y_pred_valid)\n",
    "test_accuracy = accuracy_score(y_test, y_pred_test)\n",
    "\n",
    "print(\"Accuracy on the training set:\", train_accuracy)\n",
    "print(\"Accuracy on the validation set:\", valid_accuracy)\n",
    "print(\"Accuracy on the test set:\", test_accuracy)"
   ]
  },
  {
   "attachments": {},
   "cell_type": "markdown",
   "metadata": {},
   "source": [
    "Results with sklearn's LogisticRegression:\n",
    "- Accuracy on the training set: 0.7150117647058823\n",
    "- Accuracy on the validation set: 0.7064\n",
    "- Accuracy on the test set: 0.71292\n",
    "\n",
    "Results are approximately the same between PyThorch's implementation and sklearn's one."
   ]
  },
  {
   "attachments": {},
   "cell_type": "markdown",
   "metadata": {},
   "source": [
    "## Optimize using PySpark"
   ]
  },
  {
   "attachments": {},
   "cell_type": "markdown",
   "metadata": {},
   "source": [
    "It takes too much time to preprocess the data with Pandas, so we will use PySpark instead.\n",
    "To do so, we will create a new DatasetManager class which will use PySpark to load the data and generate the features.\n",
    "\n",
    "In a first place, we will detail separatly each step of the preprocessing, to make it easier to understand."
   ]
  },
  {
   "cell_type": "code",
   "execution_count": 96,
   "metadata": {},
   "outputs": [
    {
     "name": "stderr",
     "output_type": "stream",
     "text": [
      "Setting default log level to \"WARN\".\n",
      "To adjust logging level use sc.setLogLevel(newLevel). For SparkR, use setLogLevel(newLevel).\n"
     ]
    },
    {
     "name": "stdout",
     "output_type": "stream",
     "text": [
      "23/04/04 16:07:47 WARN NativeCodeLoader: Unable to load native-hadoop library for your platform... using builtin-java classes where applicable\n",
      "23/04/04 16:07:48 WARN Utils: Service 'SparkUI' could not bind on port 4040. Attempting port 4041.\n"
     ]
    }
   ],
   "source": [
    "# let's use pyspark to preprocess the data\n",
    "from pyspark.sql import SparkSession\n",
    "import pyspark.sql.functions as F\n",
    "import pyspark.sql.dataframe as pyspark_df\n",
    "from pyspark.sql.functions import udf\n",
    "\n",
    "spark = SparkSession.builder.getOrCreate()"
   ]
  },
  {
   "attachments": {},
   "cell_type": "markdown",
   "metadata": {},
   "source": [
    "Now, we need to do the same preprocessing as before, which means:\n",
    "- lowercasing\n",
    "- removing punctuation (except ' ! and -)\n",
    "- remove extra spaces"
   ]
  },
  {
   "cell_type": "code",
   "execution_count": 98,
   "metadata": {},
   "outputs": [],
   "source": [
    "def preprocess_spark(dataset: pd.DataFrame) -> pd.DataFrame :\n",
    "    \"\"\"\n",
    "    Preprocess the dataset by lowercasing the text and removing the punctuation manually using spark\n",
    "\n",
    "    Parameters\n",
    "    ----------\n",
    "    dataset : pd.DataFrame\n",
    "        The dataset to preprocess\n",
    "\n",
    "    Returns\n",
    "    -------\n",
    "    pd.DataFrame\n",
    "        The preprocessed dataset\n",
    "    \"\"\"\n",
    "    # First lower the case\n",
    "    dataset = dataset.withColumn(\"document\", F.lower(F.col(\"document\")))\n",
    "    # Replace the punctuation with spaces. We keep the ' - and ! that may give revelant informations\n",
    "    # Replace HTML tag <br />\n",
    "    dataset = dataset.withColumn(\"document\", F.regexp_replace(F.col(\"document\"), r\"[^a-zA-Z0-9\\s-!]\", \" \"))\n",
    "    dataset = dataset.withColumn(\"document\", F.regexp_replace(F.col(\"document\"), r\"<br />\", \" \"))\n",
    "    # Remove the extra spaces\n",
    "    dataset = dataset.withColumn(\"document\", F.regexp_replace(F.col(\"document\"), r\"\\s+\", \" \"))\n",
    "    return dataset"
   ]
  },
  {
   "attachments": {},
   "cell_type": "markdown",
   "metadata": {},
   "source": [
    "Loading the datasets and the lexicon is the next step. We will use the same lexicon as before, but we will load it as a Spark dataframe.\n",
    "Also, we will separate the positive and negative lexicons into two different dataframes because we will need them later."
   ]
  },
  {
   "cell_type": "code",
   "execution_count": 99,
   "metadata": {},
   "outputs": [
    {
     "name": "stderr",
     "output_type": "stream",
     "text": [
      "                                                                                \r"
     ]
    }
   ],
   "source": [
    "# Let's create a spark dataframe from the dataset and preprocess it\n",
    "preprocessed_train_spark = preprocess_spark(spark.createDataFrame(dataset[\"train\"], schema=[\"class\", \"document\"]))\n",
    "preprocessed_test_spark = preprocess_spark(spark.createDataFrame(dataset[\"test\"], schema=[\"class\", \"document\"]))\n",
    "\n",
    "threshold = 1\n",
    "\n",
    "# read the lexicon and filter it\n",
    "lexicon_spark = spark.read.csv(\"vader_lexicon.txt\", sep=\"\\t\", header=False, inferSchema=True)\n",
    "lexicon_spark = lexicon_spark.withColumnRenamed(\"_c0\", \"Token\").withColumnRenamed(\"_c1\", \"Score\")\n",
    "lexicon_spark = lexicon_spark.drop(\"_c2\", \"_c3\")\n",
    "lexicon_spark = lexicon_spark.filter((F.col(\"Score\") <= -threshold) | (F.col(\"Score\") >= threshold))\n",
    "\n",
    "positive_lexicon_spark = lexicon_spark.filter(F.col(\"Score\") >= threshold)\n",
    "# convert it to a list\n",
    "positive_lexicon_list = positive_lexicon_spark.select(\"Token\").rdd.flatMap(lambda x: x).collect()\n",
    "\n",
    "negative_lexicon_spark = lexicon_spark.filter(F.col(\"Score\") <= -threshold)\n",
    "# convert it to a list\n",
    "negative_lexicon_list = negative_lexicon_spark.select(\"Token\").rdd.flatMap(lambda x: x).collect()"
   ]
  },
  {
   "attachments": {},
   "cell_type": "markdown",
   "metadata": {},
   "source": [
    "It's time to generate the features. We will use the same features as before, but we will use Spark to generate them. This is where we will use the different lexicons."
   ]
  },
  {
   "cell_type": "code",
   "execution_count": 100,
   "metadata": {},
   "outputs": [],
   "source": [
    "from pyspark.sql.functions import udf\n",
    "\n",
    "@udf(returnType='int')\n",
    "def cnt_no(s):\n",
    "    return 1 if s.count(\"no\") > 0 else 0\n",
    "\n",
    "@udf(returnType='int')\n",
    "def cnt_pronouns(s):\n",
    "    return s.count('i') + s.count('you') + s.count('we')\n",
    "\n",
    "def cnt_lex(tokens):\n",
    "    return udf(lambda s: cate(s, tokens))\n",
    "\n",
    "def cate(s, tokens):\n",
    "    return sum([1 for w in s if w in tokens])\n",
    "\n",
    "def generate_features_spark(df: pyspark_df.DataFrame) -> pyspark_df.DataFrame:\n",
    "    \"\"\"\n",
    "    Generate the features for the dataset\n",
    "\n",
    "    Parameters\n",
    "    ----------\n",
    "    df : pyspark_df.DataFrame\n",
    "        The dataset to generate the features for\n",
    "\n",
    "    Returns\n",
    "    -------\n",
    "    pyspark_df.DataFrame\n",
    "        The dataset with the features\n",
    "    \"\"\"\n",
    "    # check if \"no\" is in the document\n",
    "    df = df.withColumn(\"no\", cnt_no(F.split(F.col(\"document\"), \" \")))\n",
    "    # The count of first and second pronouns in the document.\n",
    "    df = df.withColumn(\"pronouns\", cnt_pronouns(F.split(F.col(\"document\"), \" \")))\n",
    "    # 1 if \"!\" is in the document, 0 otherwise.\n",
    "    df = df.withColumn(\"exclamation\", F.when(F.col(\"document\").contains(\"!\"), 1).otherwise(0))\n",
    "    # Log(word count in the document).\n",
    "    df = df.withColumn(\"log_word_count\", F.log(F.size(F.array_distinct(F.split(F.col(\"document\"), \" \")))))\n",
    "    # Number of words in the document which are in the positive lexicon (score >= 1 in the lexicon_spark dataframe)\n",
    "    df = df.withColumn(\"positive_lexicon\", cnt_lex(positive_lexicon_list)(F.split(F.col(\"document\"), \" \")))\n",
    "    # Number of words in the document which are in the negative lexicon (score <= -1 in the lexicon_spark dataframe)\n",
    "    df = df.withColumn(\"negative_lexicon\", cnt_lex(negative_lexicon_list)(F.split(F.col(\"document\"), \" \")))\n",
    "\n",
    "    # create a new column with all these values in a list\n",
    "    df = df.withColumn(\"feature_vector\", F.array(\"no\", \"pronouns\", \"exclamation\", \"log_word_count\", \"positive_lexicon\", \"negative_lexicon\"))\n",
    "    # drop the columns we don't need anymore\n",
    "    df = df.drop(\"no\", \"pronouns\", \"exclamation\", \"log_word_count\", \"positive_lexicon\", \"negative_lexicon\")\n",
    "    return df"
   ]
  },
  {
   "cell_type": "code",
   "execution_count": 102,
   "metadata": {},
   "outputs": [],
   "source": [
    "features_train_spark = generate_features_spark(preprocessed_train_spark)\n",
    "features_test_spark = generate_features_spark(preprocessed_test_spark)"
   ]
  },
  {
   "attachments": {},
   "cell_type": "markdown",
   "metadata": {},
   "source": [
    "Now, we can wrap everything in a class inheriting from DatasetManager. "
   ]
  },
  {
   "cell_type": "code",
   "execution_count": 103,
   "metadata": {},
   "outputs": [],
   "source": [
    "@udf(returnType='int')\n",
    "def _cnt_no(s):\n",
    "    \"\"\"\n",
    "    Spark UDF to count the number of \"no\" in the document\n",
    "    \"\"\"\n",
    "    return 1 if s.count(\"no\") > 0 else 0\n",
    "\n",
    "@udf(returnType='int')\n",
    "def _cnt_pronouns(s):\n",
    "    \"\"\"\n",
    "    Spark UDF to count the number of first and second pronouns in the document\n",
    "    \"\"\"\n",
    "    return s.count('i') + s.count('you') + s.count('we')\n",
    "\n",
    "def _cate(s, tokens):\n",
    "    \"\"\"\n",
    "    Spark UDF to count the number of words in the document that are in the lexicon\n",
    "    \"\"\"\n",
    "    return sum([1 for w in s if w in tokens])\n",
    "\n",
    "def _cnt_lex(tokens):\n",
    "    \"\"\"\n",
    "    Hat function to return a function that counts the number of words in the document that are in the lexicon using spark UDF\n",
    "    \"\"\"\n",
    "    return udf(lambda s: _cate(s, tokens))\n",
    "\n",
    "class IMDBDatasetSpark(DatasetManager):\n",
    "    \"\"\"\n",
    "    A class to manage the IMDB dataset using pyspark\n",
    "    \n",
    "    Parameters\n",
    "    ----------\n",
    "    dataset : dict\n",
    "        The dataset to manage\n",
    "        \n",
    "    Attributes\n",
    "    ----------\n",
    "    dataset : dict\n",
    "        The dataset to manage\n",
    "    spark_train_raw : pyspark_df.DataFrame\n",
    "        The raw training set\n",
    "    spark_test_raw : pyspark_df.DataFrame\n",
    "        The raw test set\n",
    "    train : pyspark_df.DataFrame\n",
    "        The preprocessed training set\n",
    "    test : pyspark_df.DataFrame\n",
    "        The preprocessed test set\n",
    "    lexicon : pyspark_df.DataFrame\n",
    "        The lexicon used to deduce the features\n",
    "    positive_lexicon : pyspark_df.DataFrame\n",
    "        The positive elements of the lexicon\n",
    "    negative_lexicon : pyspark_df.DataFrame\n",
    "        The negative elements of the lexicon\n",
    "    \"\"\"\n",
    "    def __init__(self, dataset: dict):\n",
    "        self.dataset = dataset\n",
    "        self.spark_train_raw = self._raw_dataset(\"train\")\n",
    "        self.spark_test_raw = self._raw_dataset(\"test\")\n",
    "        self.spark_train = self.preprocess(self.spark_train_raw)\n",
    "        self.spark_test = self.preprocess(self.spark_test_raw)\n",
    "\n",
    "    def _raw_dataset(self, split: str) -> pyspark_df.DataFrame:\n",
    "        return spark.createDataFrame(dataset[split], schema=[\"class\", \"document\"])\n",
    "    \n",
    "    def preprocess(self, df: pyspark_df.DataFrame) -> pyspark_df.DataFrame:\n",
    "        \"\"\"\n",
    "        Preprocess the dataset by lowercasing the text and removing the punctuation manually using spark\n",
    "\n",
    "        Parameters\n",
    "        ----------\n",
    "        df : pd.DataFrame\n",
    "            The dataset to preprocess\n",
    "\n",
    "        Returns\n",
    "        -------\n",
    "        pd.DataFrame\n",
    "            The preprocessed dataset\n",
    "        \"\"\"\n",
    "        # First lower the case\n",
    "        df = df.withColumn(\"document\", F.lower(F.col(\"document\")))\n",
    "        # Replace the punctuation with spaces. We keep the ' - that may give revelant informations\n",
    "        # Replace HTML tag <br />\n",
    "        df = df.withColumn(\"document\", F.regexp_replace(F.col(\"document\"), r\"[^a-zA-Z0-9'-]\", \" \"))\n",
    "        df = df.withColumn(\"document\", F.regexp_replace(F.col(\"document\"), r\"<br />\", \" \"))\n",
    "        # Remove the extra spaces\n",
    "        df = df.withColumn(\"document\", F.regexp_replace(F.col(\"document\"), r\"\\s+\", \" \"))\n",
    "        return df\n",
    "    \n",
    "\n",
    "    def add_lexicon(self, lexicon: pyspark_df.DataFrame):\n",
    "        \"\"\"\n",
    "        Add and compute the lexicon for the dataset.\n",
    "        Separate the lexicon into positive and negative words and store them as lists\n",
    "\n",
    "        Parameters\n",
    "        ----------\n",
    "        lexicon : pd.DataFrame\n",
    "            The lexicon to add\n",
    "        \"\"\"\n",
    "        lexicon = lexicon.withColumnRenamed(\"_c0\", \"Token\").withColumnRenamed(\"_c1\", \"Score\")\n",
    "        lexicon = lexicon.drop(\"_c2\", \"_c3\")\n",
    "        lexicon = lexicon.filter((F.col(\"Score\") <= -threshold) | (F.col(\"Score\") >= threshold))\n",
    "        self.lexicon = lexicon\n",
    "\n",
    "        # We create a list of the positive and negative words\n",
    "        positive_lexicon = self.lexicon.filter(F.col(\"Score\") >= threshold)\n",
    "        positive_lexicon_list = positive_lexicon.select(\"Token\").rdd.flatMap(lambda x: x).collect()\n",
    "        self.positive_lexicon = positive_lexicon_list\n",
    "\n",
    "        negative_lexicon = self.lexicon.filter(F.col(\"Score\") <= -threshold)\n",
    "        negative_lexicon_list = negative_lexicon.select(\"Token\").rdd.flatMap(lambda x: x).collect()\n",
    "        self.negative_lexicon = negative_lexicon_list\n",
    "\n",
    "    def generate_features(self, df: pyspark_df.DataFrame) -> pyspark_df.DataFrame:\n",
    "        \"\"\"\n",
    "        Generate the features for the dataset\n",
    "\n",
    "        Parameters\n",
    "        ----------\n",
    "        df : pyspark_df.DataFrame\n",
    "            The dataset to generate the features for\n",
    "\n",
    "        Returns\n",
    "        -------\n",
    "        pyspark_df.DataFrame\n",
    "            The dataset with the features\n",
    "        \"\"\"\n",
    "        # check if \"no\" is in the document\n",
    "        df = df.withColumn(\"no\", _cnt_no(F.split(F.col(\"document\"), \" \")))\n",
    "        # The count of first and second pronouns in the document.\n",
    "        df = df.withColumn(\"pronouns\", _cnt_pronouns(F.split(F.col(\"document\"), \" \")))\n",
    "        # 1 if \"!\" is in the document, 0 otherwise.\n",
    "        df = df.withColumn(\"exclamation\", F.when(F.col(\"document\").contains(\"!\"), 1).otherwise(0))\n",
    "        # Log(word count in the document).\n",
    "        df = df.withColumn(\"log_word_count\", F.log(F.size(F.array_distinct(F.split(F.col(\"document\"), \" \")))))\n",
    "        # Number of words in the document which are in the positive lexicon (score >= 1 in the lexicon_spark dataframe)\n",
    "        df = df.withColumn(\"positive_lexicon\", _cnt_lex(self.positive_lexicon)(F.split(F.col(\"document\"), \" \")))\n",
    "        # Number of words in the document which are in the negative lexicon (score <= -1 in the lexicon_spark dataframe)\n",
    "        df = df.withColumn(\"negative_lexicon\", _cnt_lex(self.negative_lexicon)(F.split(F.col(\"document\"), \" \")))\n",
    "        \n",
    "        # create a new column with all these values in a list\n",
    "        df = df.withColumn(\"feature_vector\", F.array(\"no\", \"pronouns\", \"exclamation\", \"log_word_count\", \"positive_lexicon\", \"negative_lexicon\"))\n",
    "        # drop the columns we don't need anymore\n",
    "        df = df.drop(\"no\", \"pronouns\", \"exclamation\", \"log_word_count\", \"positive_lexicon\", \"negative_lexicon\")\n",
    "        return df\n",
    "\n",
    "    def convert_to_pandas(self) -> None:\n",
    "        \"\"\"\n",
    "        Convert the spark_train and spark_test to pandas dataframe\n",
    "        \"\"\"\n",
    "        self.train = self.spark_train.toPandas()\n",
    "        self.test = self.spark_test.toPandas()"
   ]
  },
  {
   "cell_type": "code",
   "execution_count": 104,
   "metadata": {},
   "outputs": [
    {
     "name": "stdout",
     "output_type": "stream",
     "text": [
      "Converting train set to pandas dataframe...\n",
      "23/04/04 16:16:28 WARN TaskSetManager: Stage 9 contains a task of very large size (3893 KiB). The maximum recommended task size is 1000 KiB.\n"
     ]
    },
    {
     "name": "stderr",
     "output_type": "stream",
     "text": [
      "                                                                                \r"
     ]
    },
    {
     "name": "stdout",
     "output_type": "stream",
     "text": [
      "Converting test set to pandas dataframe...\n",
      "23/04/04 16:17:56 WARN TaskSetManager: Stage 10 contains a task of very large size (3861 KiB). The maximum recommended task size is 1000 KiB.\n"
     ]
    },
    {
     "name": "stderr",
     "output_type": "stream",
     "text": [
      "                                                                                \r"
     ]
    },
    {
     "name": "stdout",
     "output_type": "stream",
     "text": [
      "CPU times: user 1.44 s, sys: 523 ms, total: 1.96 s\n",
      "Wall time: 3min 1s\n"
     ]
    }
   ],
   "source": [
    "%%time\n",
    "\n",
    "# initialize the spark dataset\n",
    "imdb_dataset_spark = IMDBDatasetSpark(dataset)\n",
    "lexicon_spark = spark.read.csv(\"vader_lexicon.txt\", sep=\"\\t\", header=False, inferSchema=True)\n",
    "imdb_dataset_spark.add_lexicon(lexicon_spark)\n",
    "imdb_dataset_spark.spark_train = imdb_dataset_spark.generate_features(imdb_dataset_spark.spark_train)\n",
    "imdb_dataset_spark.spark_test = imdb_dataset_spark.generate_features(imdb_dataset_spark.spark_test)\n",
    "imdb_dataset_spark.convert_to_pandas()"
   ]
  },
  {
   "cell_type": "code",
   "execution_count": 105,
   "metadata": {},
   "outputs": [
    {
     "name": "stdout",
     "output_type": "stream",
     "text": [
      "tensor(0.9007, grad_fn=<BinaryCrossEntropyWithLogitsBackward0>)\n",
      "tensor(0.5862, grad_fn=<BinaryCrossEntropyWithLogitsBackward0>)\n",
      "tensor(0.5831, grad_fn=<BinaryCrossEntropyWithLogitsBackward0>)\n",
      "tensor(0.5829, grad_fn=<BinaryCrossEntropyWithLogitsBackward0>)\n",
      "tensor(0.5829, grad_fn=<BinaryCrossEntropyWithLogitsBackward0>)\n",
      "tensor(0.5829, grad_fn=<BinaryCrossEntropyWithLogitsBackward0>)\n",
      "tensor(0.5829, grad_fn=<BinaryCrossEntropyWithLogitsBackward0>)\n",
      "tensor(0.5829, grad_fn=<BinaryCrossEntropyWithLogitsBackward0>)\n",
      "tensor(0.5829, grad_fn=<BinaryCrossEntropyWithLogitsBackward0>)\n",
      "tensor(0.5829, grad_fn=<BinaryCrossEntropyWithLogitsBackward0>)\n"
     ]
    }
   ],
   "source": [
    "# reinitialize the model\n",
    "model = LinearRegression(6, 1)\n",
    "criterion = nn.BCEWithLogitsLoss()\n",
    "optimizer = torch.optim.SGD(model.parameters(), lr=0.01, weight_decay=0.5)\n",
    "\n",
    "classifier = ClassifierWrapper(model, criterion, optimizer, imdb_dataset_spark)\n",
    "classifier.fit()"
   ]
  },
  {
   "cell_type": "code",
   "execution_count": 106,
   "metadata": {},
   "outputs": [
    {
     "data": {
      "image/png": "[encoded data removed]",
      "text/plain": [
       "<Figure size 640x480 with 1 Axes>"
      ]
     },
     "metadata": {},
     "output_type": "display_data"
    }
   ],
   "source": [
    "classifier.plot_losses()"
   ]
  },
  {
   "cell_type": "code",
   "execution_count": 107,
   "metadata": {},
   "outputs": [
    {
     "name": "stdout",
     "output_type": "stream",
     "text": [
      "Accuracy on the training set: 0.7152\n",
      "Accuracy on the validation set: 0.7026666666666667\n",
      "Accuracy on the test set: 0.71316\n"
     ]
    }
   ],
   "source": [
    "print(\"Accuracy on the training set:\", classifier.evaluate(classifier.X_train, classifier.y_train))\n",
    "print(\"Accuracy on the validation set:\", classifier.evaluate(classifier.X_valid, classifier.y_valid))\n",
    "print(\"Accuracy on the test set:\", classifier.evaluate(classifier.features_test, classifier.labels_test))"
   ]
  },
  {
   "attachments": {},
   "cell_type": "markdown",
   "metadata": {},
   "source": [
    "Result with PySpark:\n",
    "- Accuracy on the training set: 0.7152\n",
    "- Accuracy on the validation set: 0.7026666666666667\n",
    "- Accuracy on the test set: 0.71316\n",
    "\n",
    "We get the similar results as before, so we can be sure that the classifier is working correctly. Also, using PySpark is much faster than using Pandas."
   ]
  },
  {
   "attachments": {},
   "cell_type": "markdown",
   "metadata": {},
   "source": [
    "## Optimize using numpy arrays"
   ]
  },
  {
   "attachments": {},
   "cell_type": "markdown",
   "metadata": {},
   "source": [
    "Let's rewrite the preprocessing and feature generation using numpy arrays instead of Pandas dataframes or Spark. This should be faster."
   ]
  },
  {
   "cell_type": "code",
   "execution_count": 136,
   "metadata": {},
   "outputs": [],
   "source": [
    "def preprocess(df) -> None:\n",
    "    arr = np.vectorize(lambda x: x.lower(), signature='()->()')(df)\n",
    "    # Replace the punctuation with spaces. We keep the ' - that may give revelant informations\n",
    "    # Replace HTML tag <br />\n",
    "    punctuation_to_remove = '|'.join(map(re.escape, sorted(list(filter(lambda p: p != \"'\" and p != '-' and p != \"!\", punctuation)), reverse=True)))\n",
    "    arr = np.vectorize(lambda x: re.sub(punctuation_to_remove, \" \", x.replace('<br />', \"\")), signature='()->()')(arr)\n",
    "    # Remove the multiple spaces\n",
    "    arr = np.vectorize(lambda x: re.sub(' +', ' ', x), signature='()->()')(arr)\n",
    "    # Remove the leading and trailing whitespaces\n",
    "    arr = np.vectorize(lambda x: x.strip(), signature='()->()')(arr)\n",
    "    return arr.tolist()\n",
    "\n",
    "train_documents = preprocess(dataset[\"train\"][\"text\"])\n",
    "test_documents = preprocess(dataset[\"test\"][\"text\"])"
   ]
  },
  {
   "attachments": {},
   "cell_type": "markdown",
   "metadata": {},
   "source": [
    "Now for the big part: generating the features. We will use numpy arrays to do so."
   ]
  },
  {
   "cell_type": "code",
   "execution_count": 137,
   "metadata": {},
   "outputs": [],
   "source": [
    "lexicon = pd.read_csv(\"vader_lexicon.txt\", sep=\"\\t\", names=['Token', \"Score\", \"Std\", \"Vector\"]).drop(columns=[\"Std\", \"Vector\"]).set_index(\"Token\").to_dict()[\"Score\"]\n",
    "\n",
    "def features_vector(doc: str, threshold: int = 1) -> pd.DataFrame:\n",
    "    text = list(filter(lambda s : s != '', doc.split()))\n",
    "\n",
    "    no_present = int('no' in text)\n",
    "    pronouns_count = sum([word in ['i', 'you'] for word in text])\n",
    "    exclamation_present = int('!' in text)\n",
    "    log_word_count = np.log(len(text))\n",
    "    sentiment_array = np.vectorize(lambda x: lexicon.get(x, 0.0))(text)\n",
    "    positive_count = np.sum(sentiment_array >= threshold)\n",
    "    negative_count = np.sum(sentiment_array <= -threshold)\n",
    "\n",
    "    arr = np.array([\n",
    "        no_present,\n",
    "        pronouns_count,\n",
    "        exclamation_present,\n",
    "        log_word_count,\n",
    "        positive_count,\n",
    "        negative_count])\n",
    "    return arr\n"
   ]
  },
  {
   "cell_type": "code",
   "execution_count": 138,
   "metadata": {},
   "outputs": [
    {
     "data": {
      "text/plain": [
       "array([[ 1.        ,  7.        ,  0.        ,  5.65599181,  7.        ,\n",
       "         6.        ],\n",
       "       [ 1.        ,  2.        ,  0.        ,  5.36597602,  5.        ,\n",
       "         4.        ],\n",
       "       [ 1.        ,  0.        ,  0.        ,  4.48863637,  3.        ,\n",
       "         3.        ],\n",
       "       ...,\n",
       "       [ 0.        ,  2.        ,  0.        ,  4.87519732, 10.        ,\n",
       "         3.        ],\n",
       "       [ 0.        ,  2.        ,  0.        ,  5.6347896 ,  8.        ,\n",
       "         0.        ],\n",
       "       [ 0.        ,  0.        ,  0.        ,  4.02535169,  2.        ,\n",
       "         1.        ]])"
      ]
     },
     "execution_count": 138,
     "metadata": {},
     "output_type": "execute_result"
    }
   ],
   "source": [
    "# using np.vectorize to apply the function to each element of the array\n",
    "features_train = np.vectorize(lambda x: features_vector(x), signature='()->(n)')(train_documents)\n",
    "features_test = np.vectorize(lambda x: features_vector(x), signature='()->(n)')(test_documents)\n",
    "features_train"
   ]
  },
  {
   "attachments": {},
   "cell_type": "markdown",
   "metadata": {},
   "source": [
    "Looks great! We will have to wrap it in a pandas dataframe to be able to use the LinearRegression class, but it's not a big deal."
   ]
  },
  {
   "cell_type": "code",
   "execution_count": 139,
   "metadata": {},
   "outputs": [],
   "source": [
    "features_train = pd.DataFrame({\"document\": train_documents, \"feature_vector\": features_train.tolist()})\n",
    "features_test = pd.DataFrame({\"document\": test_documents, \"feature_vector\": features_test.tolist()})"
   ]
  },
  {
   "attachments": {},
   "cell_type": "markdown",
   "metadata": {},
   "source": [
    "As before, let's put everything in a class inheriting from DatasetManager."
   ]
  },
  {
   "cell_type": "code",
   "execution_count": 141,
   "metadata": {},
   "outputs": [],
   "source": [
    "class IMDBDatasetNumpy(DatasetManager):\n",
    "    def __init__(self, dataset: dict):\n",
    "        self.dataset = dataset\n",
    "        self.train_raw = self._raw_dataset(\"train\", \"text\")\n",
    "        self.test_raw = self._raw_dataset(\"test\", \"text\")\n",
    "        self.train_labels = self._raw_dataset(\"train\", \"label\")\n",
    "        self.test_labels = self._raw_dataset(\"test\", \"label\")\n",
    "        self.train = self.preprocess(self.train_raw)\n",
    "        self.test = self.preprocess(self.test_raw)\n",
    "    \n",
    "    def _raw_dataset(self, split: str, type: str) -> np.ndarray:\n",
    "        \"\"\"\n",
    "        Return the raw dataset as a numpy array\n",
    "\n",
    "        Parameters\n",
    "        ----------\n",
    "        split : str\n",
    "            The split of the dataset to return\n",
    "        type : str\n",
    "            The type of the dataset to return\n",
    "\n",
    "        Returns\n",
    "        -------\n",
    "        np.ndarray\n",
    "            The raw dataset as a numpy array\n",
    "        \"\"\"\n",
    "        return np.array(self.dataset[split][type])\n",
    "    \n",
    "    def preprocess(self, arr: np.ndarray) -> np.ndarray:\n",
    "        \"\"\"\n",
    "        Preprocess the dataset by lowercasing the text and removing the punctuation manually\n",
    "\n",
    "        Parameters\n",
    "        ----------\n",
    "        arr : np.ndarray\n",
    "            The dataset to preprocess\n",
    "\n",
    "        Returns\n",
    "        -------\n",
    "        np.ndarray\n",
    "            The preprocessed dataset\n",
    "        \"\"\"\n",
    "        # First lower the case\n",
    "        arr = np.vectorize(lambda x: x.lower(), signature='()->()')(arr)\n",
    "        # Replace the punctuation with spaces. We keep the ' - that may give revelant informations\n",
    "        # Replace HTML tag <br />\n",
    "        punctuation_to_remove = '|'.join(map(re.escape, sorted(list(filter(lambda p: p != \"'\" and p != '-' and p != \"!\", punctuation)), reverse=True)))\n",
    "        arr = np.vectorize(lambda x: re.sub(punctuation_to_remove, \" \", x.replace('<br />', \"\")), signature='()->()')(arr)\n",
    "        # Remove the multiple spaces\n",
    "        arr = np.vectorize(lambda x: re.sub(' +', ' ', x), signature='()->()')(arr)\n",
    "        # Remove the leading and trailing whitespaces\n",
    "        arr = np.vectorize(lambda x: x.strip(), signature='()->()')(arr)\n",
    "        return arr\n",
    "\n",
    "    def add_lexicon(self, lexicon: pd.DataFrame, threshold: int = 1):\n",
    "        \"\"\"\n",
    "        Add the lexicon to the dataset\n",
    "\n",
    "        Parameters\n",
    "        ----------\n",
    "        lexicon : pd.DataFrame\n",
    "            The lexicon to add to the dataset\n",
    "        \"\"\"\n",
    "        self.lexicon = lexicon[(lexicon[\"Score\"] <= -threshold) | (lexicon[\"Score\"] >= threshold)].to_dict()[\"Score\"]\n",
    "\n",
    "    def _features_vector(self, doc: str, threshold: int = 1) -> np.ndarray:\n",
    "        \"\"\"\n",
    "        Generate the features for the dataset\n",
    "\n",
    "        Parameters\n",
    "        ----------\n",
    "        doc : str\n",
    "            The document to extract the features from\n",
    "        threshold : int, optional\n",
    "            The threshold to use to extract the features, by default 1\n",
    "\n",
    "        Returns\n",
    "        -------\n",
    "        np.ndarray\n",
    "            The features as a numpy array\n",
    "        \"\"\"\n",
    "        text = list(filter(lambda s : s != '', doc.split()))\n",
    "        no = int('no' in text)\n",
    "        pronouns_count = sum([word in ['i', 'you'] for word in text])\n",
    "        exclamation_present = int('!' in text)\n",
    "        word_count = np.log(len(text))\n",
    "        sentiment_array = np.vectorize(lambda x: self.lexicon.get(x, 0.0))(text)\n",
    "        positive_words = np.sum(sentiment_array >= threshold)\n",
    "        negative_words = np.sum(sentiment_array <= -threshold)\n",
    "\n",
    "        arr = np.array([no, pronouns_count, exclamation_present, word_count, positive_words, negative_words])\n",
    "        return arr\n",
    "\n",
    "    def generate_features(self, arr: np.ndarray) -> np.ndarray:\n",
    "        \"\"\"\n",
    "        Generate the features for the dataset\n",
    "\n",
    "        Parameters\n",
    "        ----------\n",
    "        arr : np.ndarray\n",
    "            The dataset to generate the features for\n",
    "\n",
    "        Returns\n",
    "        -------\n",
    "        np.ndarray\n",
    "            The dataset with the features\n",
    "        \"\"\"\n",
    "        features = np.vectorize(lambda x: self._features_vector(x), signature='()->(n)')(arr)\n",
    "        res = np.empty(2, dtype=object)\n",
    "        res[0] = arr\n",
    "        res[1] = features\n",
    "        return res\n",
    "    \n",
    "    def convert_to_pandas(self) -> pd.DataFrame:\n",
    "        \"\"\"\n",
    "        Convert the dataset to a pandas DataFrame\n",
    "\n",
    "        Returns\n",
    "        -------\n",
    "        pd.DataFrame\n",
    "            The dataset as a pandas DataFrame\n",
    "        \"\"\"\n",
    "        self.train = pd.DataFrame({\"class\": self.train_labels, \"document\": self.train[0], \"feature_vector\": self.train[1].tolist()})\n",
    "        self.test = pd.DataFrame({\"class\": self.test_labels, \"document\": self.test[0], \"feature_vector\": self.test[1].tolist()})"
   ]
  },
  {
   "cell_type": "code",
   "execution_count": 142,
   "metadata": {},
   "outputs": [],
   "source": [
    "imdb_dataset_numpy = IMDBDatasetNumpy(dataset)\n",
    "lexicon = pd.read_csv(\"vader_lexicon.txt\", sep=\"\\t\", names=['Token', \"Score\", \"Std\", \"Vector\"]).drop(columns=[\"Std\", \"Vector\"]).set_index(\"Token\")\n",
    "imdb_dataset_numpy.add_lexicon(lexicon)\n",
    "imdb_dataset_numpy.train = imdb_dataset_numpy.generate_features(imdb_dataset_numpy.train.copy())\n",
    "imdb_dataset_numpy.test = imdb_dataset_numpy.generate_features(imdb_dataset_numpy.test.copy())\n",
    "imdb_dataset_numpy.convert_to_pandas()"
   ]
  },
  {
   "attachments": {},
   "cell_type": "markdown",
   "metadata": {},
   "source": [
    "Let's just take a quick look at what we have"
   ]
  },
  {
   "cell_type": "code",
   "execution_count": 143,
   "metadata": {},
   "outputs": [
    {
     "data": {
      "text/html": [
       "<div>\n",
       "<style scoped>\n",
       "    .dataframe tbody tr th:only-of-type {\n",
       "        vertical-align: middle;\n",
       "    }\n",
       "\n",
       "    .dataframe tbody tr th {\n",
       "        vertical-align: top;\n",
       "    }\n",
       "\n",
       "    .dataframe thead th {\n",
       "        text-align: right;\n",
       "    }\n",
       "</style>\n",
       "<table border=\"1\" class=\"dataframe\">\n",
       "  <thead>\n",
       "    <tr style=\"text-align: right;\">\n",
       "      <th></th>\n",
       "      <th>class</th>\n",
       "      <th>document</th>\n",
       "      <th>feature_vector</th>\n",
       "    </tr>\n",
       "  </thead>\n",
       "  <tbody>\n",
       "    <tr>\n",
       "      <th>0</th>\n",
       "      <td>0</td>\n",
       "      <td>i rented i am curious-yellow from my video sto...</td>\n",
       "      <td>[1.0, 7.0, 0.0, 5.655991810819852, 7.0, 6.0]</td>\n",
       "    </tr>\n",
       "    <tr>\n",
       "      <th>1</th>\n",
       "      <td>0</td>\n",
       "      <td>i am curious yellow is a risible and pretentio...</td>\n",
       "      <td>[1.0, 2.0, 0.0, 5.365976015021851, 5.0, 4.0]</td>\n",
       "    </tr>\n",
       "    <tr>\n",
       "      <th>2</th>\n",
       "      <td>0</td>\n",
       "      <td>if only to avoid making this type of film in t...</td>\n",
       "      <td>[1.0, 0.0, 0.0, 4.48863636973214, 3.0, 3.0]</td>\n",
       "    </tr>\n",
       "    <tr>\n",
       "      <th>3</th>\n",
       "      <td>0</td>\n",
       "      <td>this film was probably inspired by godard's ma...</td>\n",
       "      <td>[0.0, 3.0, 0.0, 4.770684624465665, 5.0, 5.0]</td>\n",
       "    </tr>\n",
       "    <tr>\n",
       "      <th>4</th>\n",
       "      <td>0</td>\n",
       "      <td>oh brother after hearing about this ridiculous...</td>\n",
       "      <td>[0.0, 9.0, 0.0, 5.631211781821365, 3.0, 9.0]</td>\n",
       "    </tr>\n",
       "  </tbody>\n",
       "</table>\n",
       "</div>"
      ],
      "text/plain": [
       "   class                                           document  \\\n",
       "0      0  i rented i am curious-yellow from my video sto...   \n",
       "1      0  i am curious yellow is a risible and pretentio...   \n",
       "2      0  if only to avoid making this type of film in t...   \n",
       "3      0  this film was probably inspired by godard's ma...   \n",
       "4      0  oh brother after hearing about this ridiculous...   \n",
       "\n",
       "                                 feature_vector  \n",
       "0  [1.0, 7.0, 0.0, 5.655991810819852, 7.0, 6.0]  \n",
       "1  [1.0, 2.0, 0.0, 5.365976015021851, 5.0, 4.0]  \n",
       "2   [1.0, 0.0, 0.0, 4.48863636973214, 3.0, 3.0]  \n",
       "3  [0.0, 3.0, 0.0, 4.770684624465665, 5.0, 5.0]  \n",
       "4  [0.0, 9.0, 0.0, 5.631211781821365, 3.0, 9.0]  "
      ]
     },
     "execution_count": 143,
     "metadata": {},
     "output_type": "execute_result"
    }
   ],
   "source": [
    "imdb_dataset_numpy.train[:5]"
   ]
  },
  {
   "cell_type": "code",
   "execution_count": 144,
   "metadata": {},
   "outputs": [
    {
     "name": "stdout",
     "output_type": "stream",
     "text": [
      "tensor(1.4219, grad_fn=<BinaryCrossEntropyWithLogitsBackward0>)\n",
      "tensor(0.5944, grad_fn=<BinaryCrossEntropyWithLogitsBackward0>)\n",
      "tensor(0.5847, grad_fn=<BinaryCrossEntropyWithLogitsBackward0>)\n",
      "tensor(0.5834, grad_fn=<BinaryCrossEntropyWithLogitsBackward0>)\n",
      "tensor(0.5832, grad_fn=<BinaryCrossEntropyWithLogitsBackward0>)\n",
      "tensor(0.5831, grad_fn=<BinaryCrossEntropyWithLogitsBackward0>)\n",
      "tensor(0.5830, grad_fn=<BinaryCrossEntropyWithLogitsBackward0>)\n",
      "tensor(0.5830, grad_fn=<BinaryCrossEntropyWithLogitsBackward0>)\n",
      "tensor(0.5830, grad_fn=<BinaryCrossEntropyWithLogitsBackward0>)\n",
      "tensor(0.5830, grad_fn=<BinaryCrossEntropyWithLogitsBackward0>)\n"
     ]
    }
   ],
   "source": [
    "# reinitialize the model\n",
    "model = LinearRegression(6, 1)\n",
    "criterion = nn.BCEWithLogitsLoss()\n",
    "optimizer = torch.optim.SGD(model.parameters(), lr=0.01, weight_decay=0.5)\n",
    "\n",
    "classifier = ClassifierWrapper(model, criterion, optimizer, imdb_dataset_numpy)\n",
    "classifier.fit()"
   ]
  },
  {
   "cell_type": "code",
   "execution_count": 145,
   "metadata": {},
   "outputs": [
    {
     "data": {
      "image/png": "[encoded data removed]",
      "text/plain": [
       "<Figure size 640x480 with 1 Axes>"
      ]
     },
     "metadata": {},
     "output_type": "display_data"
    }
   ],
   "source": [
    "classifier.plot_losses()"
   ]
  },
  {
   "cell_type": "code",
   "execution_count": 146,
   "metadata": {},
   "outputs": [
    {
     "name": "stdout",
     "output_type": "stream",
     "text": [
      "Accuracy on the training set: 0.7100705882352941\n",
      "Accuracy on the validation set: 0.7010666666666666\n",
      "Accuracy on the test set: 0.70052\n"
     ]
    }
   ],
   "source": [
    "print(\"Accuracy on the training set:\", classifier.evaluate(classifier.X_train, classifier.y_train))\n",
    "print(\"Accuracy on the validation set:\", classifier.evaluate(classifier.X_valid, classifier.y_valid))\n",
    "print(\"Accuracy on the test set:\", classifier.evaluate(classifier.features_test, classifier.labels_test))"
   ]
  },
  {
   "attachments": {},
   "cell_type": "markdown",
   "metadata": {},
   "source": [
    "Result with numpy arrays:\n",
    "- Accuracy on the training set: 0.7100705882352941\n",
    "- Accuracy on the validation set: 0.7010666666666666\n",
    "- Accuracy on the test set: 0.70052\n",
    "\n",
    "Again, we have similar result than with Pandas and PySpark. However, this solution is the fastest one, by far."
   ]
  }
 ],
 "metadata": {
  "kernelspec": {
   "display_name": ".venv",
   "language": "python",
   "name": "python3"
  },
  "language_info": {
   "codemirror_mode": {
    "name": "ipython",
    "version": 3
   },
   "file_extension": ".py",
   "mimetype": "text/x-python",
   "name": "python",
   "nbconvert_exporter": "python",
   "pygments_lexer": "ipython3",
   "version": "3.9.6"
  },
  "orig_nbformat": 4,
  "vscode": {
   "interpreter": {
    "hash": "de3c30d792129f58f006e373b1b9323915d14b77307cc6066e5d3e062868e634"
   }
  }
 },
 "nbformat": 4,
 "nbformat_minor": 2
}
